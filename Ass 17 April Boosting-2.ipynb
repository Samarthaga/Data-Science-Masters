{
 "cells": [
  {
   "cell_type": "code",
   "execution_count": null,
   "id": "443feeac-d84c-472e-93f9-9871a4b15db8",
   "metadata": {},
   "outputs": [],
   "source": [
    "# Ans 1: Gradient boosting Regression calculates the difference between the current prediction and the known correct target value. This difference is called residual. After that Gradient boosting Regression trains a weak model that maps features to that residual."
   ]
  },
  {
   "cell_type": "code",
   "execution_count": null,
   "id": "7083bd4e-8d0f-41cc-a5d8-7bd51675e524",
   "metadata": {},
   "outputs": [],
   "source": [
    "# Ans 4: Weak learners are models that perform slightly better than random guessing. Strong learners are models that have arbitrarily good accuracy. Weak and strong learners are tools from computational learning theory and provide the basis for the development of the boosting class of ensemble methods"
   ]
  },
  {
   "cell_type": "code",
   "execution_count": null,
   "id": "81901e16-3151-4aba-8768-2ddfa41ae65e",
   "metadata": {},
   "outputs": [],
   "source": [
    "# Ans 5: In gradient boosting, we predict and adjust our predictions in the opposite (negative gradient) direction. This achieves the opposite (minimize the loss). Since, the loss of a model inversely relates to its performance and accuracy, doing so improves its performance"
   ]
  },
  {
   "cell_type": "code",
   "execution_count": null,
   "id": "14b02fed-744b-44cd-bf4a-ed5242fbb5b1",
   "metadata": {},
   "outputs": [],
   "source": [
    "# Ans 6: In gradient boosting, we predict and adjust our predictions in the opposite (negative gradient) direction. This achieves the opposite (minimize the loss). Since, the loss of a model inversely relates to its performance and accuracy, doing so improves its performance"
   ]
  },
  {
   "cell_type": "code",
   "execution_count": null,
   "id": "11191023-cb84-47be-8eb1-e5b14c64eb63",
   "metadata": {},
   "outputs": [],
   "source": [
    "# Ans 7 : This algorithm starts by building a decision stump and then assigning equal weights to all the data points. Then it increases the weights for all the points which are misclassified and lowers the weight for those that are easy to classify or are correctly classified"
   ]
  },
  {
   "cell_type": "code",
   "execution_count": null,
   "id": "213ae236-3efb-497a-a0d0-46b4c189b3a9",
   "metadata": {},
   "outputs": [],
   "source": []
  },
  {
   "cell_type": "code",
   "execution_count": null,
   "id": "00f7809a-ba6f-4da8-b227-e10b4d66f7d5",
   "metadata": {},
   "outputs": [],
   "source": []
  },
  {
   "cell_type": "code",
   "execution_count": null,
   "id": "1e74f573-0d43-442c-8dca-40a699a4fce2",
   "metadata": {},
   "outputs": [],
   "source": []
  },
  {
   "cell_type": "code",
   "execution_count": null,
   "id": "bb1c6239-a1fd-473a-88be-ed03490531ee",
   "metadata": {},
   "outputs": [],
   "source": []
  },
  {
   "cell_type": "code",
   "execution_count": null,
   "id": "fe4ad9fe-b571-4f8c-a600-b1da75d7cece",
   "metadata": {},
   "outputs": [],
   "source": []
  },
  {
   "cell_type": "code",
   "execution_count": null,
   "id": "133c0c26-a6a0-44a6-9675-3ec8806ccac4",
   "metadata": {},
   "outputs": [],
   "source": []
  },
  {
   "cell_type": "code",
   "execution_count": null,
   "id": "5272080b-a79e-4bac-9d45-4d54b457201c",
   "metadata": {},
   "outputs": [],
   "source": []
  },
  {
   "cell_type": "code",
   "execution_count": null,
   "id": "daa489d3-b17c-427d-86bd-56ba24729a83",
   "metadata": {},
   "outputs": [],
   "source": []
  },
  {
   "cell_type": "code",
   "execution_count": null,
   "id": "a0cd786a-d550-4b40-a208-3c9b6fe22c8b",
   "metadata": {},
   "outputs": [],
   "source": []
  },
  {
   "cell_type": "code",
   "execution_count": null,
   "id": "46b03244-691f-4f16-adf5-64e890667d74",
   "metadata": {},
   "outputs": [],
   "source": []
  },
  {
   "cell_type": "code",
   "execution_count": null,
   "id": "4b8677fa-3f74-4571-9a5d-1639b8d78c95",
   "metadata": {},
   "outputs": [],
   "source": []
  },
  {
   "cell_type": "code",
   "execution_count": null,
   "id": "1f71add2-8ba9-45e4-a685-5b6b53485b75",
   "metadata": {},
   "outputs": [],
   "source": []
  },
  {
   "cell_type": "code",
   "execution_count": null,
   "id": "1537aeaf-7877-4a14-a0d0-177ca0fdade3",
   "metadata": {},
   "outputs": [],
   "source": []
  },
  {
   "cell_type": "code",
   "execution_count": null,
   "id": "700e97f4-6661-4808-931d-7ea838c7fd79",
   "metadata": {},
   "outputs": [],
   "source": []
  },
  {
   "cell_type": "code",
   "execution_count": null,
   "id": "c16417c0-cc30-42fb-a7fc-f9462acc9c70",
   "metadata": {},
   "outputs": [],
   "source": []
  },
  {
   "cell_type": "code",
   "execution_count": null,
   "id": "8d28d5fb-2a11-4afd-9e74-f1f5aaf2a4de",
   "metadata": {},
   "outputs": [],
   "source": []
  },
  {
   "cell_type": "code",
   "execution_count": null,
   "id": "6ed3892e-9af9-4086-8f6a-efa3feafaa2d",
   "metadata": {},
   "outputs": [],
   "source": []
  },
  {
   "cell_type": "code",
   "execution_count": null,
   "id": "75f56a84-6b19-4e36-a8b4-b888f7c44cb2",
   "metadata": {},
   "outputs": [],
   "source": []
  },
  {
   "cell_type": "code",
   "execution_count": null,
   "id": "ce14d11c-5394-4e59-b02c-bcca9f1e8450",
   "metadata": {},
   "outputs": [],
   "source": []
  },
  {
   "cell_type": "code",
   "execution_count": null,
   "id": "0d01ce02-6392-4459-a205-61b80382d805",
   "metadata": {},
   "outputs": [],
   "source": []
  },
  {
   "cell_type": "code",
   "execution_count": null,
   "id": "854ce2c5-7c58-4df9-8db2-2e9c79593dde",
   "metadata": {},
   "outputs": [],
   "source": []
  },
  {
   "cell_type": "code",
   "execution_count": null,
   "id": "323bd9c2-ba83-4e5f-ae75-4bcf85e11250",
   "metadata": {},
   "outputs": [],
   "source": []
  },
  {
   "cell_type": "code",
   "execution_count": null,
   "id": "b559b2e0-db89-4120-beea-92da374f9bcf",
   "metadata": {},
   "outputs": [],
   "source": []
  },
  {
   "cell_type": "code",
   "execution_count": null,
   "id": "6a783966-ba76-4539-b425-51718d500166",
   "metadata": {},
   "outputs": [],
   "source": []
  },
  {
   "cell_type": "code",
   "execution_count": null,
   "id": "208f6298-34ad-4593-87c5-557ad0592b39",
   "metadata": {},
   "outputs": [],
   "source": []
  },
  {
   "cell_type": "code",
   "execution_count": null,
   "id": "04353bf5-6a50-43ef-b305-960ddedaa555",
   "metadata": {},
   "outputs": [],
   "source": []
  },
  {
   "cell_type": "code",
   "execution_count": null,
   "id": "017f3c39-d6ef-4893-8e06-81e5d0948776",
   "metadata": {},
   "outputs": [],
   "source": []
  }
 ],
 "metadata": {
  "kernelspec": {
   "display_name": "Python 3 (ipykernel)",
   "language": "python",
   "name": "python3"
  },
  "language_info": {
   "codemirror_mode": {
    "name": "ipython",
    "version": 3
   },
   "file_extension": ".py",
   "mimetype": "text/x-python",
   "name": "python",
   "nbconvert_exporter": "python",
   "pygments_lexer": "ipython3",
   "version": "3.10.8"
  }
 },
 "nbformat": 4,
 "nbformat_minor": 5
}
