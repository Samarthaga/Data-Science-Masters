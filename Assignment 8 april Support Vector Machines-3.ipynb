{
 "cells": [
  {
   "cell_type": "code",
   "execution_count": null,
   "id": "1bac98d9-ce96-4a56-9e49-85a3e12add20",
   "metadata": {},
   "outputs": [],
   "source": [
    "## Ans 2: It is recommended to use R-Squared or rather adjusted R-Squared for evaluating the model performance of the regression models. This is primarily because R-Squared captures the fraction of variance of actual values captured by the regression model and tends to give a better picture of the quality of the regression model. Also, MSE values differ based on whether the values of the response variable are scaled or not. A better measure instead of MSE is the root mean squared error (RMSE) which takes care of the fact related to whether the values of the response variable are scaled or not."
   ]
  },
  {
   "cell_type": "code",
   "execution_count": null,
   "id": "f219ad28-a3a8-43c7-8390-cf01ed0ef44a",
   "metadata": {},
   "outputs": [],
   "source": [
    "## Ans 3: svm having the SVC will be used as it handles the linear regression and can best predict the outcome \n",
    "## Linear SVM handles outliers better, as it derives maximum margin solution"
   ]
  },
  {
   "cell_type": "code",
   "execution_count": null,
   "id": "f7045c9b-a859-41be-b9eb-ae165f02fa60",
   "metadata": {},
   "outputs": [],
   "source": [
    "## Ans 4: i will choose RMSE as it is root mean squared error that means my eroor is being lowerd down to its root value and is then predicted the accuracy while in mean the outliers can be present and data prediction might cause an issue in training "
   ]
  },
  {
   "cell_type": "code",
   "execution_count": null,
   "id": "b7b23d02-1c36-45f2-8188-c9447d5c85a0",
   "metadata": {},
   "outputs": [],
   "source": [
    "## Ans 5: i would like to choose sigmoid as it gives the best test data after being trained and rbf might give a 50-50% chances ."
   ]
  },
  {
   "cell_type": "code",
   "execution_count": null,
   "id": "54883376-610d-4f13-a905-bb2512f28632",
   "metadata": {},
   "outputs": [],
   "source": []
  },
  {
   "cell_type": "code",
   "execution_count": null,
   "id": "df556661-2adf-4330-9fed-b8955d4398c3",
   "metadata": {},
   "outputs": [],
   "source": []
  },
  {
   "cell_type": "code",
   "execution_count": null,
   "id": "4fb038a5-36a2-4703-82eb-632cb05a61eb",
   "metadata": {},
   "outputs": [],
   "source": []
  },
  {
   "cell_type": "code",
   "execution_count": null,
   "id": "0af684b8-eac3-4bcd-832e-416189ef4b85",
   "metadata": {},
   "outputs": [],
   "source": []
  },
  {
   "cell_type": "code",
   "execution_count": null,
   "id": "1ce38c3e-978c-4d80-b1a1-dd666f9f1fbb",
   "metadata": {},
   "outputs": [],
   "source": []
  },
  {
   "cell_type": "code",
   "execution_count": null,
   "id": "a15af3f3-e9f6-4130-927a-9043c30f21a9",
   "metadata": {},
   "outputs": [],
   "source": []
  },
  {
   "cell_type": "code",
   "execution_count": null,
   "id": "4f9b4828-796d-4f4d-a16a-c7574f379521",
   "metadata": {},
   "outputs": [],
   "source": []
  },
  {
   "cell_type": "code",
   "execution_count": null,
   "id": "d29dd1c5-b64a-4572-818b-89ed34487352",
   "metadata": {},
   "outputs": [],
   "source": []
  },
  {
   "cell_type": "code",
   "execution_count": null,
   "id": "8aa03bd3-e586-4d93-af9f-d3f2de971965",
   "metadata": {},
   "outputs": [],
   "source": []
  },
  {
   "cell_type": "code",
   "execution_count": null,
   "id": "9a413207-31fd-46f0-8929-4add3ebb2817",
   "metadata": {},
   "outputs": [],
   "source": []
  },
  {
   "cell_type": "code",
   "execution_count": null,
   "id": "3979aa60-46df-4586-9efb-38249ed02e64",
   "metadata": {},
   "outputs": [],
   "source": []
  },
  {
   "cell_type": "code",
   "execution_count": null,
   "id": "c69cd5ed-e7a0-4914-b1ce-28605f4a44c6",
   "metadata": {},
   "outputs": [],
   "source": []
  },
  {
   "cell_type": "code",
   "execution_count": null,
   "id": "d984cbe6-eba7-4367-8992-8eb589e2bee2",
   "metadata": {},
   "outputs": [],
   "source": []
  },
  {
   "cell_type": "code",
   "execution_count": null,
   "id": "43f706e9-5171-4979-a9ed-b80143d1a5ab",
   "metadata": {},
   "outputs": [],
   "source": []
  },
  {
   "cell_type": "code",
   "execution_count": null,
   "id": "4f3f4cbe-c5f3-4cfd-b20e-58d47470b514",
   "metadata": {},
   "outputs": [],
   "source": []
  },
  {
   "cell_type": "code",
   "execution_count": null,
   "id": "6766330f-4d00-4c82-805a-0ef39bbf5f63",
   "metadata": {},
   "outputs": [],
   "source": []
  }
 ],
 "metadata": {
  "kernelspec": {
   "display_name": "Python 3 (ipykernel)",
   "language": "python",
   "name": "python3"
  },
  "language_info": {
   "codemirror_mode": {
    "name": "ipython",
    "version": 3
   },
   "file_extension": ".py",
   "mimetype": "text/x-python",
   "name": "python",
   "nbconvert_exporter": "python",
   "pygments_lexer": "ipython3",
   "version": "3.10.8"
  }
 },
 "nbformat": 4,
 "nbformat_minor": 5
}
