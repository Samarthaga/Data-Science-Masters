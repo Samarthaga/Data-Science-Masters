{
 "cells": [
  {
   "cell_type": "code",
   "execution_count": null,
   "id": "100b4eb8-3912-4d87-8325-c802fc4a1916",
   "metadata": {},
   "outputs": [],
   "source": [
    "## Ans 1: Linear regression is used to predict the continuous dependent variable using a given set of independent variables. Logistic Regression is used to predict the categorical dependent variable using a given set of independent variables\n",
    "## Example for logistic regression is subbmission of assignmnets where outcome can be either complete or incomplete and can be categoried as 0 and 1"
   ]
  },
  {
   "cell_type": "code",
   "execution_count": null,
   "id": "ab878bba-55fb-4f0e-9927-f94a1c75a0c8",
   "metadata": {},
   "outputs": [],
   "source": [
    "## Ans 2: cost function used is log of hO of x = 1/(1+e^(O0+O1x1)\n",
    "##  is denoted by J(O0 + O1)\n",
    "## it is optimised by using L1,L2 and elastic Net optimisation regularization parameters "
   ]
  },
  {
   "cell_type": "code",
   "execution_count": null,
   "id": "621a7a3b-21d0-4f47-949e-ed5437130dee",
   "metadata": {},
   "outputs": [],
   "source": [
    "## Ans 3:  As regularization uses LI Ridge and L2 lasso regulatisaltion techniques which is basically used for preventing the overfitting of the model if O=1,\n",
    "## Also elastic net is a combination of both ridge and lasso "
   ]
  },
  {
   "cell_type": "code",
   "execution_count": null,
   "id": "a3b17cba-29a6-4d3b-aa63-f8d0e5721657",
   "metadata": {},
   "outputs": [],
   "source": [
    "## Ans 4: An ROC curve (receiver operating characteristic curve) is a graph showing the performance of a classification model at all classification\n",
    "## sed for determining the best cutoff value for predicting whether a new observation is a \"failure\" (0) or a \"success\" (1)\n",
    "## for example if a sales team is provided a target of equalto of more than 1 cr sale in a month we consider 1 Cr as 0.5 and if the sales is less than 1 Cr outcome is 0 and if 1cr or more outcome is 1  "
   ]
  },
  {
   "cell_type": "code",
   "execution_count": null,
   "id": "7632fa94-5ee8-493e-8e73-6126ae41b39f",
   "metadata": {},
   "outputs": [],
   "source": [
    "## Ans 5: L2 regularization refers to the penalty which is equivalent to the square of the magnitude of coefficients, whereas L1 regularization introduces the penalty (shrinkage quantity) equivalent to the sum of the absolute value of coefficients.\n",
    "## Lasso Regression (Logistic Regression with L1-regularization) can be used to remove redundant features from the dataset. L1-regularization introduces sparsity in the dataset and shrinks the values of the coefficients of redundant features to 0.\n",
    "## It is a very useful technique or hacks to reduce the dimensionality of the dataset by removing the irrelevant features."
   ]
  },
  {
   "cell_type": "code",
   "execution_count": null,
   "id": "fb46a7a1-99a4-45d3-97e6-15db07d63c17",
   "metadata": {},
   "outputs": [],
   "source": [
    "## Ans 6:Resampling can be done either by replacing the NAN values by mean values \n",
    "## Kfold and crossvalidation can be used for class imbalance"
   ]
  },
  {
   "cell_type": "code",
   "execution_count": null,
   "id": "295403fb-0bf4-487e-9a87-bf682ac67add",
   "metadata": {},
   "outputs": [],
   "source": [
    "## Ans 7 : some issues is first check for the data.keys for columns names , then we should chsck for describe for mean median mode and numerical data types in the dataset , then check for data.isnull().sum() for any null values \n",
    "## if there are null values we can either upsample , doen sample or smote the data by mean median and mode if the data is categorical then finding the no of unique values and then changing the data type to int assigning the val fro 0-5 incl. NAN replaced by 0 in the data \n",
    "## then checking data.info for data type and converting the data to int of float type . \n",
    "##for multicoleniarirty we can take 2 outcomes possible 0 and 1 and then scaling the data and using Logistic regression for prediction ."
   ]
  },
  {
   "cell_type": "code",
   "execution_count": null,
   "id": "fb2521f0-aedc-4e4f-9b01-ad26417f755d",
   "metadata": {},
   "outputs": [],
   "source": []
  },
  {
   "cell_type": "code",
   "execution_count": null,
   "id": "eaad229b-bcf2-4349-8b7b-5db01d212fce",
   "metadata": {},
   "outputs": [],
   "source": []
  },
  {
   "cell_type": "code",
   "execution_count": null,
   "id": "70c70a02-e7e6-475c-b616-047bf31da053",
   "metadata": {},
   "outputs": [],
   "source": []
  },
  {
   "cell_type": "code",
   "execution_count": null,
   "id": "a89cb430-9644-4ec2-8a47-0ef715d417db",
   "metadata": {},
   "outputs": [],
   "source": []
  },
  {
   "cell_type": "code",
   "execution_count": null,
   "id": "d3e9adaf-ae2e-4147-b2db-0f93f26f68d5",
   "metadata": {},
   "outputs": [],
   "source": []
  },
  {
   "cell_type": "code",
   "execution_count": null,
   "id": "a52149f2-4ada-45f2-bcc3-af334c924180",
   "metadata": {},
   "outputs": [],
   "source": []
  },
  {
   "cell_type": "code",
   "execution_count": null,
   "id": "45bdf76a-5947-45d7-9221-cae755394f6b",
   "metadata": {},
   "outputs": [],
   "source": []
  },
  {
   "cell_type": "code",
   "execution_count": null,
   "id": "72fbb2d4-330a-40aa-ab5e-313b89dcb2b8",
   "metadata": {},
   "outputs": [],
   "source": []
  },
  {
   "cell_type": "code",
   "execution_count": null,
   "id": "b62fd02f-b9be-4065-8a7d-a8c9521d817a",
   "metadata": {},
   "outputs": [],
   "source": []
  },
  {
   "cell_type": "code",
   "execution_count": null,
   "id": "da00c735-8330-4099-95e1-89dcd587f55e",
   "metadata": {
    "jupyter": {
     "source_hidden": true
    },
    "tags": []
   },
   "outputs": [],
   "source": []
  }
 ],
 "metadata": {
  "kernelspec": {
   "display_name": "Python 3 (ipykernel)",
   "language": "python",
   "name": "python3"
  },
  "language_info": {
   "codemirror_mode": {
    "name": "ipython",
    "version": 3
   },
   "file_extension": ".py",
   "mimetype": "text/x-python",
   "name": "python",
   "nbconvert_exporter": "python",
   "pygments_lexer": "ipython3",
   "version": "3.10.8"
  }
 },
 "nbformat": 4,
 "nbformat_minor": 5
}
