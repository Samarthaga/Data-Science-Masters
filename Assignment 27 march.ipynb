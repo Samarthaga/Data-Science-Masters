{
 "cells": [
  {
   "cell_type": "code",
   "execution_count": null,
   "id": "57ef443b-d1e6-4e71-8a98-79d485c2c293",
   "metadata": {},
   "outputs": [],
   "source": [
    "## Ans 1: R-Squared (R² or the coefficient of determination) is a statistical measure in a regression model that determines the proportion of variance in the dependent variable that can be explained by the independent variable. In other words, r-squared shows how well the data fit the regression model (the goodness of fit)"
   ]
  },
  {
   "cell_type": "code",
   "execution_count": null,
   "id": "1f13754a-40bb-4130-ab82-55ab20787524",
   "metadata": {},
   "outputs": [],
   "source": [
    "## Ans 2: Adjusted R2 is a corrected goodness-of-fit (model accuracy) measure for linear models. It identifies the percentage of variance in the target field that is explained by the input or inputs. R2 tends to optimistically estimate the fit of the linear regression"
   ]
  },
  {
   "cell_type": "code",
   "execution_count": null,
   "id": "4d920d9e-5148-4ae5-a777-dce1ed6ca703",
   "metadata": {},
   "outputs": [],
   "source": [
    "## Ans 3: Adjusted R square is used to give better unit to find error . also it is appropriate where the independent features are not very interrelated and test predict should not get affected more ."
   ]
  },
  {
   "cell_type": "code",
   "execution_count": null,
   "id": "e0768899-4b55-4654-a404-9a8d4842e3ef",
   "metadata": {},
   "outputs": [],
   "source": [
    "## Ans 4: RMSE: the expected value of the square of the difference between the estimator and the parameter\n",
    "## MSE : Mean or avg of the square of the diff. b/w the actual and predicted value \n",
    "## MAE : a measure of errors between paired observations expressing the same phenomenon\n",
    "## these are used to represent cost fn "
   ]
  },
  {
   "cell_type": "code",
   "execution_count": null,
   "id": "30d58f98-694f-4ae0-806b-af839c2a81d7",
   "metadata": {},
   "outputs": [],
   "source": [
    "## Ans 5: MSE advantages : 1-it is differencial because quadratic derevative can be taken out, 2- it has one local and one global minima \n",
    "## Disadvantages : 1- not robust to outliers, 2- it is not in the same unit\n",
    "## MAE : Advantages : 1- Robust to outliers ,2- it will be in the same unit\n",
    "## disadvantages : 1- convergance usually takes time ,2- convergence is time consuming\n",
    "## RMSE : Advantages: 1- have same unit ,2- differencial as MSE\n",
    "## Disadvantages : Not robust to outliers "
   ]
  },
  {
   "cell_type": "code",
   "execution_count": null,
   "id": "ccf345c9-6cea-4b54-b72e-b85fa5be0d4b",
   "metadata": {},
   "outputs": [],
   "source": [
    "## Ans 6 : In statistics and machine learning, lasso (least absolute shrinkage and selection operator; also Lasso or LASSO) is a regression analysis method that performs both variable selection and regularization in order to enhance the prediction accuracy and interpretability of the resulting statistical model.\n",
    "## Similar to the lasso regression, ridge regression puts a similar constraint on the coefficients by introducing a penalty factor. However, while lasso regression takes the magnitude of the coefficients, ridge regression takes the square. Ridge regression is also referred to as L2 Regularization."
   ]
  },
  {
   "cell_type": "code",
   "execution_count": null,
   "id": "9e6f5b4f-4806-40f1-8612-c3bdd43e1455",
   "metadata": {},
   "outputs": [],
   "source": [
    "## Ans 7 : Regularization comes into play and shrinks the learned estimates towards zero. In other words, it tunes the loss function by adding a penalty term, that prevents excessive fluctuation of the coefficients. Thereby, reducing the chances of overfitting\n",
    "## it can be used in nueral networks "
   ]
  },
  {
   "cell_type": "code",
   "execution_count": null,
   "id": "6344c4a3-a084-451d-b2e1-dd4c636f49c3",
   "metadata": {},
   "outputs": [],
   "source": [
    "## Ans 8 : Since linear regression assumes a linear relationship between the input and output varaibles, it fails to fit complex datasets properly. In most real life scenarios the relationship between the variables of the dataset isn't linear and hence a straight line doesn't fit the data properly"
   ]
  },
  {
   "cell_type": "code",
   "execution_count": null,
   "id": "37e87b36-447f-4119-b21a-aa9b1d5f299b",
   "metadata": {},
   "outputs": [],
   "source": [
    "## ANs 9: i will choose model type B as its value is less than type A model and as we know if the error is coming low will choose for the same "
   ]
  },
  {
   "cell_type": "code",
   "execution_count": null,
   "id": "ede65593-c9ec-4ff6-969a-2af495c8ea5f",
   "metadata": {},
   "outputs": [],
   "source": []
  },
  {
   "cell_type": "code",
   "execution_count": null,
   "id": "494dea9d-24b3-48d8-aa92-85c4b9fc4e95",
   "metadata": {},
   "outputs": [],
   "source": []
  },
  {
   "cell_type": "code",
   "execution_count": null,
   "id": "f4d3a535-8c0a-4b6d-bcc7-a951412914cc",
   "metadata": {},
   "outputs": [],
   "source": []
  },
  {
   "cell_type": "code",
   "execution_count": null,
   "id": "9733ce94-8d3f-407c-b170-38cda98a5de2",
   "metadata": {},
   "outputs": [],
   "source": []
  },
  {
   "cell_type": "code",
   "execution_count": null,
   "id": "6a0e42bd-323c-43c9-8074-bae6c59d57ea",
   "metadata": {},
   "outputs": [],
   "source": []
  },
  {
   "cell_type": "code",
   "execution_count": null,
   "id": "ed185893-aa79-4e53-8f94-b2a5a13fa16f",
   "metadata": {},
   "outputs": [],
   "source": []
  },
  {
   "cell_type": "code",
   "execution_count": null,
   "id": "6681aaf4-7c76-4e1b-a88c-6ae8aed1627f",
   "metadata": {},
   "outputs": [],
   "source": []
  },
  {
   "cell_type": "code",
   "execution_count": null,
   "id": "2c270e6c-2d06-4181-9028-3c9f2cecef4f",
   "metadata": {},
   "outputs": [],
   "source": []
  },
  {
   "cell_type": "code",
   "execution_count": null,
   "id": "e8d2961e-24cd-4a2b-bf81-72e0d09e6f9a",
   "metadata": {},
   "outputs": [],
   "source": []
  },
  {
   "cell_type": "code",
   "execution_count": null,
   "id": "c5c9a66a-ebbc-4ff5-8f7d-28c86ab0ea80",
   "metadata": {},
   "outputs": [],
   "source": []
  },
  {
   "cell_type": "code",
   "execution_count": null,
   "id": "1d68be49-2b70-4512-8712-485c8578861a",
   "metadata": {},
   "outputs": [],
   "source": []
  },
  {
   "cell_type": "code",
   "execution_count": null,
   "id": "032420b1-5fb2-4e60-bdf3-673e5bbd84d4",
   "metadata": {},
   "outputs": [],
   "source": []
  },
  {
   "cell_type": "code",
   "execution_count": null,
   "id": "fa1f7857-2aee-42e0-aad8-27f4dce1f3b9",
   "metadata": {},
   "outputs": [],
   "source": []
  },
  {
   "cell_type": "code",
   "execution_count": null,
   "id": "70d571f3-1cc1-4277-b1fb-fe87f19dba7a",
   "metadata": {},
   "outputs": [],
   "source": []
  },
  {
   "cell_type": "code",
   "execution_count": null,
   "id": "a384d2e9-b939-4418-b81f-2cad90e033e7",
   "metadata": {},
   "outputs": [],
   "source": []
  },
  {
   "cell_type": "code",
   "execution_count": null,
   "id": "10a4e088-fb56-40ed-bcbf-ff6d5315417c",
   "metadata": {},
   "outputs": [],
   "source": []
  },
  {
   "cell_type": "code",
   "execution_count": null,
   "id": "8109f868-4c5c-439e-bdb0-b2b174f65ee7",
   "metadata": {},
   "outputs": [],
   "source": []
  },
  {
   "cell_type": "code",
   "execution_count": null,
   "id": "f1c8c24c-92f9-4471-a4c3-94b922cc4c88",
   "metadata": {},
   "outputs": [],
   "source": []
  },
  {
   "cell_type": "code",
   "execution_count": null,
   "id": "ab9f7787-e5ab-4f4d-a4fa-052350f80d9a",
   "metadata": {},
   "outputs": [],
   "source": []
  },
  {
   "cell_type": "code",
   "execution_count": null,
   "id": "9a1999c4-48a1-4993-b255-703bb7f5045d",
   "metadata": {},
   "outputs": [],
   "source": []
  },
  {
   "cell_type": "code",
   "execution_count": null,
   "id": "a932bae0-3914-42ac-8d7c-355b127f9709",
   "metadata": {},
   "outputs": [],
   "source": []
  },
  {
   "cell_type": "code",
   "execution_count": null,
   "id": "f95bf4f3-c306-4e8a-a95b-657d7c0bd928",
   "metadata": {},
   "outputs": [],
   "source": []
  },
  {
   "cell_type": "code",
   "execution_count": null,
   "id": "e7cd57a2-773e-40e0-8dea-e5ac7ed362c4",
   "metadata": {},
   "outputs": [],
   "source": []
  },
  {
   "cell_type": "code",
   "execution_count": null,
   "id": "da280b2c-2d0d-43c5-954b-8de9eb730e3e",
   "metadata": {},
   "outputs": [],
   "source": []
  },
  {
   "cell_type": "code",
   "execution_count": null,
   "id": "8c31ebab-c881-4519-a32b-05bca1aee802",
   "metadata": {},
   "outputs": [],
   "source": []
  },
  {
   "cell_type": "code",
   "execution_count": null,
   "id": "dae1587a-b0f1-4927-8e2f-cdc508e478a2",
   "metadata": {},
   "outputs": [],
   "source": []
  }
 ],
 "metadata": {
  "kernelspec": {
   "display_name": "Python 3 (ipykernel)",
   "language": "python",
   "name": "python3"
  },
  "language_info": {
   "codemirror_mode": {
    "name": "ipython",
    "version": 3
   },
   "file_extension": ".py",
   "mimetype": "text/x-python",
   "name": "python",
   "nbconvert_exporter": "python",
   "pygments_lexer": "ipython3",
   "version": "3.10.8"
  }
 },
 "nbformat": 4,
 "nbformat_minor": 5
}
