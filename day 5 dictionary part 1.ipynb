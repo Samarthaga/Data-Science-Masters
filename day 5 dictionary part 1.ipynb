{
 "cells": [
  {
   "cell_type": "markdown",
   "id": "a014aba1-9f11-41d6-aa74-96c3d44b4b47",
   "metadata": {},
   "source": [
    "## dictionary"
   ]
  },
  {
   "cell_type": "code",
   "execution_count": 1,
   "id": "f1df1089-6b86-49b2-b97a-84e2cc963b15",
   "metadata": {},
   "outputs": [],
   "source": [
    "D={}"
   ]
  },
  {
   "cell_type": "code",
   "execution_count": 2,
   "id": "2b8a5c6f-a7eb-46d2-b6a0-230bbadd77ab",
   "metadata": {},
   "outputs": [
    {
     "data": {
      "text/plain": [
       "dict"
      ]
     },
     "execution_count": 2,
     "metadata": {},
     "output_type": "execute_result"
    }
   ],
   "source": [
    "type(D)"
   ]
  },
  {
   "cell_type": "code",
   "execution_count": 3,
   "id": "58185fce-8585-4f44-a1af-4980c38fcce9",
   "metadata": {},
   "outputs": [],
   "source": [
    "d1={'name':'sudh','email_id':'samaga@gmail.com','number':12345}"
   ]
  },
  {
   "cell_type": "code",
   "execution_count": 5,
   "id": "685b9491-915f-452c-9f4e-b79f505c4435",
   "metadata": {},
   "outputs": [
    {
     "data": {
      "text/plain": [
       "dict"
      ]
     },
     "execution_count": 5,
     "metadata": {},
     "output_type": "execute_result"
    }
   ],
   "source": [
    "type(d1)"
   ]
  },
  {
   "cell_type": "code",
   "execution_count": 6,
   "id": "408dea1c-20b9-4e12-a20e-9f902f2523dc",
   "metadata": {},
   "outputs": [
    {
     "data": {
      "text/plain": [
       "{'name': 'sudh', 'email_id': 'samaga@gmail.com', 'number': 12345}"
      ]
     },
     "execution_count": 6,
     "metadata": {},
     "output_type": "execute_result"
    }
   ],
   "source": [
    "d1"
   ]
  },
  {
   "cell_type": "code",
   "execution_count": 7,
   "id": "ff58352d-4db3-4744-b905-08355bc20892",
   "metadata": {},
   "outputs": [],
   "source": [
    "d2={'name':'sudh','name':'samarthagarwal'}"
   ]
  },
  {
   "cell_type": "code",
   "execution_count": 8,
   "id": "16aa2648-c4ad-4e3e-bdaf-59d691faeae1",
   "metadata": {},
   "outputs": [
    {
     "data": {
      "text/plain": [
       "{'name': 'samarthagarwal'}"
      ]
     },
     "execution_count": 8,
     "metadata": {},
     "output_type": "execute_result"
    }
   ],
   "source": [
    "d2"
   ]
  },
  {
   "cell_type": "code",
   "execution_count": 9,
   "id": "e3c56cc5-5d8f-4b4a-9547-e9f042849d4e",
   "metadata": {},
   "outputs": [],
   "source": [
    "d3={2434235:'abd'}"
   ]
  },
  {
   "cell_type": "code",
   "execution_count": 10,
   "id": "5cc6c589-8d70-49df-bedc-c4c6b65e4f35",
   "metadata": {},
   "outputs": [
    {
     "data": {
      "text/plain": [
       "{2434235: 'abd'}"
      ]
     },
     "execution_count": 10,
     "metadata": {},
     "output_type": "execute_result"
    }
   ],
   "source": [
    "d3"
   ]
  },
  {
   "cell_type": "code",
   "execution_count": 11,
   "id": "770f3124-9f9d-4e4d-b1cd-e0a40eb7bb72",
   "metadata": {},
   "outputs": [],
   "source": [
    "d4={234.5:'asd'}"
   ]
  },
  {
   "cell_type": "code",
   "execution_count": 12,
   "id": "55890282-b041-4138-ba41-548539aadc93",
   "metadata": {},
   "outputs": [
    {
     "data": {
      "text/plain": [
       "{234.5: 'asd'}"
      ]
     },
     "execution_count": 12,
     "metadata": {},
     "output_type": "execute_result"
    }
   ],
   "source": [
    "d4"
   ]
  },
  {
   "cell_type": "code",
   "execution_count": 13,
   "id": "1a7dcb62-dd73-45ed-89f0-45febc8ea697",
   "metadata": {},
   "outputs": [
    {
     "ename": "SyntaxError",
     "evalue": "incomplete input (423109018.py, line 1)",
     "output_type": "error",
     "traceback": [
      "\u001b[0;36m  Cell \u001b[0;32mIn[13], line 1\u001b[0;36m\u001b[0m\n\u001b[0;31m    d6={#,'bsad'}\u001b[0m\n\u001b[0m                 ^\u001b[0m\n\u001b[0;31mSyntaxError\u001b[0m\u001b[0;31m:\u001b[0m incomplete input\n"
     ]
    }
   ],
   "source": [
    "d6={#,'bsad'}"
   ]
  },
  {
   "cell_type": "markdown",
   "id": "03d2fc52-68a3-48ba-a810-58453980d388",
   "metadata": {},
   "source": [
    "## conclusion i wont be able to talke a special case character a key apart boolian , decimal amd all can be made "
   ]
  },
  {
   "cell_type": "markdown",
   "id": "270a11ae-d483-4367-8f03-898700c2602c",
   "metadata": {},
   "source": [
    "## list also cannnot be stored for the dict as it is mutable and dict is unique "
   ]
  },
  {
   "cell_type": "markdown",
   "id": "187f41f8-d518-4dab-a519-178f53367018",
   "metadata": {},
   "source": [
    "## tupels can be made a dict"
   ]
  },
  {
   "cell_type": "code",
   "execution_count": 14,
   "id": "aa712735-c448-4ee7-a7b2-36d9d849708b",
   "metadata": {},
   "outputs": [],
   "source": [
    "d12={'course_name':['data science masters','web dev','java with dsa and system design']}"
   ]
  },
  {
   "cell_type": "code",
   "execution_count": 15,
   "id": "13bf6907-3dbf-4834-967c-ea0e59cc4dd1",
   "metadata": {},
   "outputs": [
    {
     "data": {
      "text/plain": [
       "{'course_name': ['data science masters',\n",
       "  'web dev',\n",
       "  'java with dsa and system design']}"
      ]
     },
     "execution_count": 15,
     "metadata": {},
     "output_type": "execute_result"
    }
   ],
   "source": [
    "d12"
   ]
  },
  {
   "cell_type": "code",
   "execution_count": 18,
   "id": "6f2453d2-414a-4111-8e9c-a102ae792618",
   "metadata": {},
   "outputs": [],
   "source": [
    "d13={'key':(1,2,3)}"
   ]
  },
  {
   "cell_type": "code",
   "execution_count": 19,
   "id": "6e941595-d9af-4f3e-806a-d800de93a8db",
   "metadata": {},
   "outputs": [],
   "source": [
    "d14={'key':{1,2,3}}"
   ]
  },
  {
   "cell_type": "code",
   "execution_count": 20,
   "id": "abbb6931-8e9c-44a3-bdf2-256dd4408054",
   "metadata": {},
   "outputs": [],
   "source": [
    "d15={'key':{'name':'samarth','class':'Kotak'}}"
   ]
  },
  {
   "cell_type": "code",
   "execution_count": 21,
   "id": "849fb56e-2049-4de5-9845-dce6d0ae8133",
   "metadata": {},
   "outputs": [
    {
     "data": {
      "text/plain": [
       "{'key': {'name': 'samarth', 'class': 'Kotak'}}"
      ]
     },
     "execution_count": 21,
     "metadata": {},
     "output_type": "execute_result"
    }
   ],
   "source": [
    "d15"
   ]
  },
  {
   "cell_type": "markdown",
   "id": "3936975e-1f34-454b-9b77-3498f5f94ba5",
   "metadata": {},
   "source": [
    "## nested dict example above"
   ]
  },
  {
   "cell_type": "code",
   "execution_count": null,
   "id": "0c2cd32a-e369-4cff-bfb1-3f2ebbcfb1f5",
   "metadata": {},
   "outputs": [],
   "source": []
  }
 ],
 "metadata": {
  "kernelspec": {
   "display_name": "Python 3 (ipykernel)",
   "language": "python",
   "name": "python3"
  },
  "language_info": {
   "codemirror_mode": {
    "name": "ipython",
    "version": 3
   },
   "file_extension": ".py",
   "mimetype": "text/x-python",
   "name": "python",
   "nbconvert_exporter": "python",
   "pygments_lexer": "ipython3",
   "version": "3.10.8"
  }
 },
 "nbformat": 4,
 "nbformat_minor": 5
}
