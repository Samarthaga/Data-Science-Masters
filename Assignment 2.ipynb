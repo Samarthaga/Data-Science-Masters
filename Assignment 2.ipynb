{
 "cells": [
  {
   "cell_type": "code",
   "execution_count": 9,
   "id": "b1c1a4ae-fafa-43af-9d5a-2f65c6e446d7",
   "metadata": {},
   "outputs": [
    {
     "name": "stdin",
     "output_type": "stream",
     "text": [
      "enter the Val. 90\n"
     ]
    },
    {
     "name": "stdout",
     "output_type": "stream",
     "text": [
      "grade B\n"
     ]
    }
   ],
   "source": [
    "marks=float(input('enter the Val.'))\n",
    "if marks > 90 :\n",
    "    print('grade A')\n",
    "elif marks > 80 and marks <= 90:\n",
    "    print('grade B')\n",
    "elif marks >= 60 and marks <= 80:\n",
    "    print('grade c')\n",
    "else:\n",
    "    print('Grade D')"
   ]
  },
  {
   "cell_type": "code",
   "execution_count": 10,
   "id": "5e131d8b-e8ec-48b1-9164-1312f3f8f020",
   "metadata": {},
   "outputs": [
    {
     "name": "stdin",
     "output_type": "stream",
     "text": [
      "cost price 60000\n"
     ]
    },
    {
     "name": "stdout",
     "output_type": "stream",
     "text": [
      "road tax6000.0\n"
     ]
    }
   ],
   "source": [
    "c_p=int(input('cost price'))\n",
    "if c_p > 100000:\n",
    "    print('road tax{}'.format(c_p * 0.15))\n",
    "elif c_p > 50000 and c_p <= 100000:\n",
    "    print('road tax{}'.format(c_p * 0.10))\n",
    "else :\n",
    "    print('road tax{}'.format(c_p * 0.5))    "
   ]
  },
  {
   "cell_type": "code",
   "execution_count": 11,
   "id": "9021111c-758b-4a4e-85cc-5bf4fa770f63",
   "metadata": {},
   "outputs": [
    {
     "name": "stdin",
     "output_type": "stream",
     "text": [
      "enter city name delhi\n"
     ]
    },
    {
     "name": "stdout",
     "output_type": "stream",
     "text": [
      "mounument = Red fort\n"
     ]
    }
   ],
   "source": [
    "city=str(input('enter city name'))\n",
    "if city=='delhi':\n",
    "    print('mounument = Red fort')\n",
    "elif city == 'agra':\n",
    "    print('mounument = tajmahal')\n",
    "else:\n",
    "    print('mounument = jal mahal')"
   ]
  },
  {
   "cell_type": "code",
   "execution_count": 22,
   "id": "6d4bffe5-1f61-4be0-8142-a7889bca2f02",
   "metadata": {},
   "outputs": [
    {
     "name": "stdin",
     "output_type": "stream",
     "text": [
      "enter the no 10\n"
     ]
    },
    {
     "name": "stdout",
     "output_type": "stream",
     "text": [
      "0\n"
     ]
    }
   ],
   "source": [
    "n=int(input('enter the no'))\n",
    "for i in range(n):\n",
    "    n%3==0\n",
    "    print(i)\n",
    "    break\n",
    "    print('end')"
   ]
  },
  {
   "cell_type": "code",
   "execution_count": 33,
   "id": "20896584-1ec4-4a86-8d0e-30f88307120f",
   "metadata": {},
   "outputs": [
    {
     "name": "stdout",
     "output_type": "stream",
     "text": [
      "1000\n",
      "900\n",
      "800\n",
      "700\n",
      "600\n",
      "500\n",
      "400\n",
      "300\n",
      "200\n"
     ]
    }
   ],
   "source": [
    "##while lopp is used when repetation of statements is req and results is either true orfalse \n",
    "##Example \n",
    "bank=1000\n",
    "while bank > 100:\n",
    "    print(bank)\n",
    "    bank= bank-100\n",
    "        "
   ]
  },
  {
   "cell_type": "code",
   "execution_count": 2,
   "id": "e1bed96b-848a-4b25-a315-1a37ddcc1417",
   "metadata": {},
   "outputs": [
    {
     "name": "stdin",
     "output_type": "stream",
     "text": [
      "enter the no 10\n"
     ]
    },
    {
     "name": "stdout",
     "output_type": "stream",
     "text": [
      "*\n",
      "*\n",
      "*\n",
      "*\n",
      "*\n",
      "*\n",
      "*\n",
      "*\n",
      "*\n",
      "*\n"
     ]
    }
   ],
   "source": [
    "n=int(input('enter the no'))\n",
    "i=1\n",
    "while i<=n:\n",
    "    j=1\n",
    "    while j<=i:\n",
    "        print('*',end=\"\")\n",
    "        j +=1\n",
    "        print()\n",
    "        i+=1\n",
    "        break"
   ]
  },
  {
   "cell_type": "code",
   "execution_count": 3,
   "id": "9e5b5d2f-ea09-46c3-9457-5f515b186327",
   "metadata": {},
   "outputs": [
    {
     "name": "stdout",
     "output_type": "stream",
     "text": [
      "10\n",
      "9\n",
      "8\n",
      "7\n",
      "6\n",
      "5\n",
      "4\n",
      "3\n",
      "2\n",
      "1\n"
     ]
    }
   ],
   "source": [
    "i=10\n",
    "while i > 0:\n",
    "    print(i)\n",
    "    i= i-1"
   ]
  },
  {
   "cell_type": "code",
   "execution_count": 5,
   "id": "4c51e674-1a23-4e5a-aede-568459b1e1ca",
   "metadata": {},
   "outputs": [
    {
     "name": "stdout",
     "output_type": "stream",
     "text": [
      "0\n",
      "1\n",
      "2\n",
      "3\n",
      "4\n",
      "5\n",
      "6\n",
      "7\n",
      "8\n",
      "9\n",
      "10\n"
     ]
    }
   ],
   "source": [
    "i=0\n",
    "while i < 11:\n",
    "    print(i)\n",
    "    i= i+1"
   ]
  },
  {
   "cell_type": "code",
   "execution_count": null,
   "id": "354a3244-f496-44e8-9786-6a8fa87f455a",
   "metadata": {},
   "outputs": [],
   "source": []
  }
 ],
 "metadata": {
  "kernelspec": {
   "display_name": "Python 3 (ipykernel)",
   "language": "python",
   "name": "python3"
  },
  "language_info": {
   "codemirror_mode": {
    "name": "ipython",
    "version": 3
   },
   "file_extension": ".py",
   "mimetype": "text/x-python",
   "name": "python",
   "nbconvert_exporter": "python",
   "pygments_lexer": "ipython3",
   "version": "3.10.8"
  }
 },
 "nbformat": 4,
 "nbformat_minor": 5
}
