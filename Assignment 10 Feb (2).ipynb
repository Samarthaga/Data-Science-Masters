{
 "cells": [
  {
   "cell_type": "code",
   "execution_count": 1,
   "id": "5149cd14-0e0b-4c7d-9c65-310f0b2175e5",
   "metadata": {},
   "outputs": [],
   "source": [
    "## Ans 1. open() method is used to open a file .3 diff. modes to open a file ,\n",
    "##1 read only ('r') ,\n",
    "## 2 read and write ('r+')\n",
    "##3 Open file for writing ('w')"
   ]
  },
  {
   "cell_type": "code",
   "execution_count": 2,
   "id": "6f1d23df-357a-4eba-8d4e-6cc5a769ad07",
   "metadata": {},
   "outputs": [],
   "source": [
    "## Ans 2.The close() function shall deallocate the file descriptor indicated by fildes. To deallocate means to make the file descriptor available for return by subsequent calls to open() or other functions that allocate file descriptors."
   ]
  },
  {
   "cell_type": "code",
   "execution_count": 3,
   "id": "67b0da47-68c6-421b-9bc2-a4609226a178",
   "metadata": {},
   "outputs": [],
   "source": [
    "## Ans 3.\n",
    "\n",
    "bank=open('text.txt','a')"
   ]
  },
  {
   "cell_type": "code",
   "execution_count": 4,
   "id": "bca3dc41-235f-40de-ad29-498475229608",
   "metadata": {},
   "outputs": [
    {
     "data": {
      "text/plain": [
       "33"
      ]
     },
     "execution_count": 4,
     "metadata": {},
     "output_type": "execute_result"
    }
   ],
   "source": [
    "bank.write('I want to become a Data Scientist')"
   ]
  },
  {
   "cell_type": "code",
   "execution_count": 5,
   "id": "a3eac0eb-98d9-450b-998c-5bc5abffff25",
   "metadata": {},
   "outputs": [],
   "source": [
    "bank=open('text.txt','r')"
   ]
  },
  {
   "cell_type": "code",
   "execution_count": 6,
   "id": "2103e6f9-5dcf-4612-b102-8f5eb92312e6",
   "metadata": {},
   "outputs": [
    {
     "name": "stdout",
     "output_type": "stream",
     "text": [
      "I want to become a Data Scientist\n"
     ]
    }
   ],
   "source": [
    "for i in bank:\n",
    "    print(i)"
   ]
  },
  {
   "cell_type": "code",
   "execution_count": 11,
   "id": "6c455205-3cb6-43ef-8371-d0ab77719a3e",
   "metadata": {},
   "outputs": [],
   "source": [
    "bank.close()"
   ]
  },
  {
   "cell_type": "code",
   "execution_count": 8,
   "id": "f4184b8b-8dad-4fa7-92f0-3da1da0e98fe",
   "metadata": {},
   "outputs": [
    {
     "data": {
      "text/plain": [
       "0"
      ]
     },
     "execution_count": 8,
     "metadata": {},
     "output_type": "execute_result"
    }
   ],
   "source": [
    "bank.seek(0)"
   ]
  },
  {
   "cell_type": "code",
   "execution_count": 9,
   "id": "8eefc4e0-0bf3-4534-aafb-c4f900b3fb84",
   "metadata": {},
   "outputs": [
    {
     "data": {
      "text/plain": [
       "'I want to become a Data Scientist'"
      ]
     },
     "execution_count": 9,
     "metadata": {},
     "output_type": "execute_result"
    }
   ],
   "source": [
    "bank.read()"
   ]
  },
  {
   "cell_type": "code",
   "execution_count": 10,
   "id": "8d102ce5-efcd-4b69-9d64-10a9de3ddb2e",
   "metadata": {},
   "outputs": [],
   "source": [
    "evr=open('text1.txt','a')"
   ]
  },
  {
   "cell_type": "code",
   "execution_count": 17,
   "id": "2e60652c-49a2-4c9a-9df9-25af50ada154",
   "metadata": {},
   "outputs": [
    {
     "data": {
      "text/plain": [
       "31"
      ]
     },
     "execution_count": 17,
     "metadata": {},
     "output_type": "execute_result"
    }
   ],
   "source": [
    "evr.write('this is my technical evr report\\n')\n",
    "evr.write('it contains details of customer')"
   ]
  },
  {
   "cell_type": "code",
   "execution_count": 19,
   "id": "735154de-8b38-4699-82c8-11b36f600b15",
   "metadata": {},
   "outputs": [
    {
     "ename": "UnsupportedOperation",
     "evalue": "not readable",
     "output_type": "error",
     "traceback": [
      "\u001b[0;31m---------------------------------------------------------------------------\u001b[0m",
      "\u001b[0;31mUnsupportedOperation\u001b[0m                      Traceback (most recent call last)",
      "Cell \u001b[0;32mIn[19], line 1\u001b[0m\n\u001b[0;32m----> 1\u001b[0m \u001b[38;5;28mprint\u001b[39m(\u001b[43mevr\u001b[49m\u001b[38;5;241;43m.\u001b[39;49m\u001b[43mreadlines\u001b[49m\u001b[43m(\u001b[49m\u001b[38;5;241;43m31\u001b[39;49m\u001b[43m)\u001b[49m)\n",
      "\u001b[0;31mUnsupportedOperation\u001b[0m: not readable"
     ]
    }
   ],
   "source": [
    "print(evr.readlines(31))"
   ]
  },
  {
   "cell_type": "markdown",
   "id": "23f095c6-7fba-4c2b-85f9-5e2a285ca203",
   "metadata": {},
   "source": [
    "## Ans 5. Unlike open() where you have to close the file with the close() method, the with statement closes the file for you without you telling it to."
   ]
  },
  {
   "cell_type": "code",
   "execution_count": 20,
   "id": "180a3bf3-2bde-4e3a-93cb-787346255111",
   "metadata": {},
   "outputs": [
    {
     "name": "stdin",
     "output_type": "stream",
     "text": [
      "Enter the name of the employee:  samarth\n",
      "Enter the name of the employee:  pramod\n",
      "Enter the name of the employee:  smit\n"
     ]
    },
    {
     "name": "stdout",
     "output_type": "stream",
     "text": [
      "Data is written into the file.\n"
     ]
    }
   ],
   "source": [
    "file1 = open(\"Employees.txt\", \"w\")\n",
    "lst = []\n",
    "for i in range(3):\n",
    "    name = input(\"Enter the name of the employee: \")\n",
    "    lst.append(name + '\\n')\n",
    "      \n",
    "file1.writelines(lst)\n",
    "file1.close()\n",
    "print(\"Data is written into the file.\") "
   ]
  },
  {
   "cell_type": "code",
   "execution_count": 21,
   "id": "dcb944a9-a6d4-4d0d-b1a3-c46367160668",
   "metadata": {},
   "outputs": [],
   "source": [
    "file=open('employees.txt','w')"
   ]
  },
  {
   "cell_type": "code",
   "execution_count": 26,
   "id": "e71bce32-49b9-43f6-b440-3bb59cf7f46a",
   "metadata": {},
   "outputs": [
    {
     "name": "stdin",
     "output_type": "stream",
     "text": [
      "enter the name  samarth\n"
     ]
    },
    {
     "ename": "ValueError",
     "evalue": "I/O operation on closed file.",
     "output_type": "error",
     "traceback": [
      "\u001b[0;31m---------------------------------------------------------------------------\u001b[0m",
      "\u001b[0;31mValueError\u001b[0m                                Traceback (most recent call last)",
      "Cell \u001b[0;32mIn[26], line 3\u001b[0m\n\u001b[1;32m      1\u001b[0m \u001b[38;5;28;01mfor\u001b[39;00m i \u001b[38;5;129;01min\u001b[39;00m \u001b[38;5;28mrange\u001b[39m(\u001b[38;5;241m3\u001b[39m):\n\u001b[1;32m      2\u001b[0m     name\u001b[38;5;241m=\u001b[39m\u001b[38;5;28minput\u001b[39m(\u001b[38;5;124m'\u001b[39m\u001b[38;5;124menter the name \u001b[39m\u001b[38;5;124m'\u001b[39m)\n\u001b[0;32m----> 3\u001b[0m     \u001b[43mfile\u001b[49m\u001b[38;5;241;43m.\u001b[39;49m\u001b[43mwrite\u001b[49m\u001b[43m(\u001b[49m\u001b[43mname\u001b[49m\u001b[43m)\u001b[49m\n\u001b[1;32m      4\u001b[0m     file\u001b[38;5;241m.\u001b[39mwrite(\u001b[38;5;124m'\u001b[39m\u001b[38;5;130;01m\\n\u001b[39;00m\u001b[38;5;124m'\u001b[39m)\n\u001b[1;32m      6\u001b[0m file\u001b[38;5;241m.\u001b[39mclose()\n",
      "\u001b[0;31mValueError\u001b[0m: I/O operation on closed file."
     ]
    }
   ],
   "source": [
    "for i in range(3):\n",
    "    name=input('enter the name ')\n",
    "    file.write(name)\n",
    "    file.write('\\n')\n",
    "    \n",
    "file.close()\n",
    "    "
   ]
  },
  {
   "cell_type": "code",
   "execution_count": null,
   "id": "aa2df640-b810-4f7d-b6ab-bc5fd365fdb3",
   "metadata": {},
   "outputs": [],
   "source": []
  },
  {
   "cell_type": "code",
   "execution_count": null,
   "id": "0a8a59d4-84e3-46e8-b8be-7198680c729e",
   "metadata": {},
   "outputs": [],
   "source": []
  }
 ],
 "metadata": {
  "kernelspec": {
   "display_name": "Python 3 (ipykernel)",
   "language": "python",
   "name": "python3"
  },
  "language_info": {
   "codemirror_mode": {
    "name": "ipython",
    "version": 3
   },
   "file_extension": ".py",
   "mimetype": "text/x-python",
   "name": "python",
   "nbconvert_exporter": "python",
   "pygments_lexer": "ipython3",
   "version": "3.10.8"
  }
 },
 "nbformat": 4,
 "nbformat_minor": 5
}
