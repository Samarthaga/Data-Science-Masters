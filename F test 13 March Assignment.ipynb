{
 "cells": [
  {
   "cell_type": "code",
   "execution_count": 4,
   "id": "6d275f32-c9c1-443a-b203-9bc6c42bc279",
   "metadata": {},
   "outputs": [],
   "source": [
    "import scipy.stats as stat\n",
    "import numpy as np\n",
    "import seaborn as sns"
   ]
  },
  {
   "cell_type": "code",
   "execution_count": 30,
   "id": "4d9e24c4-2e22-48b3-826c-d277eca12ba8",
   "metadata": {},
   "outputs": [],
   "source": [
    "## Evidence to say that 2 population variance are not equal\n",
    "## check we come to conclusion whether one worker is better than other\n",
    "\n",
    "worker1=[18,19,22,25,27,28,41,45,51,55]\n",
    "worker2=[14,15,15,17,18,22,25,25,27,34]"
   ]
  },
  {
   "cell_type": "code",
   "execution_count": 8,
   "id": "b7f46268-934e-4c7a-bb85-f8fe587b0225",
   "metadata": {},
   "outputs": [],
   "source": [
    "## Calculate the F test statistics \n",
    "\n",
    "f_test=np.var(worker1)/np.var(worker2)"
   ]
  },
  {
   "cell_type": "code",
   "execution_count": 9,
   "id": "11470c19-88bd-4a6a-8bdd-088d8b7baa3f",
   "metadata": {},
   "outputs": [
    {
     "data": {
      "text/plain": [
       "4.387122002085506"
      ]
     },
     "execution_count": 9,
     "metadata": {},
     "output_type": "execute_result"
    }
   ],
   "source": [
    "f_test"
   ]
  },
  {
   "cell_type": "code",
   "execution_count": 13,
   "id": "256c3e0f-30eb-4073-8794-1899ac15ba45",
   "metadata": {},
   "outputs": [],
   "source": [
    "## CV? Acc to f table we need to compute DOF \n",
    "df1=len(worker1)-1\n",
    "df2=len(worker2)-1\n",
    "significance_value=0.05 ## decided by domain expoerts "
   ]
  },
  {
   "cell_type": "code",
   "execution_count": 15,
   "id": "61c12820-8b3b-4175-8344-6fabcb0db489",
   "metadata": {},
   "outputs": [],
   "source": [
    "critical_value=stat.f.ppf(q=1-significance_value,dfn=df1,dfd=df2)"
   ]
  },
  {
   "cell_type": "code",
   "execution_count": 16,
   "id": "8cd26fb4-1972-4355-9716-064d1ae2002f",
   "metadata": {},
   "outputs": [
    {
     "data": {
      "text/plain": [
       "3.178893104458269"
      ]
     },
     "execution_count": 16,
     "metadata": {},
     "output_type": "execute_result"
    }
   ],
   "source": [
    "critical_value"
   ]
  },
  {
   "cell_type": "code",
   "execution_count": 18,
   "id": "a9849319-57d7-45e5-8ede-d8adc09f8193",
   "metadata": {},
   "outputs": [
    {
     "name": "stdout",
     "output_type": "stream",
     "text": [
      "reject the null hypothesis\n",
      "worker 1 is better than worker2\n"
     ]
    }
   ],
   "source": [
    "if f_test>critical_value :\n",
    "    print('reject the null hypothesis')\n",
    "else:\n",
    "    print('we fail to reject the null hypothesis')\n",
    "print('worker 1 is better than worker2')"
   ]
  },
  {
   "cell_type": "markdown",
   "id": "e60b70fc-242f-40a7-a471-706681fa8af6",
   "metadata": {},
   "source": [
    "## Assignment 13 March F test"
   ]
  },
  {
   "cell_type": "code",
   "execution_count": 9,
   "id": "6e971e87-f455-41ae-a213-96859359e1e7",
   "metadata": {},
   "outputs": [],
   "source": [
    "## Ans 1\n",
    "class1_marks=[87,78,56,48,96,44,66,87,55]\n",
    "class2_marks=[88,77,54,69,85,54,56,69,41]\n",
    "f_test=np.var(class1_marks)/np.var(class2_marks)\n",
    "significance=0.05\n",
    "df1=len(class1_marks)-1\n",
    "df2=len(class2_marks)-1"
   ]
  },
  {
   "cell_type": "code",
   "execution_count": 6,
   "id": "786657db-c745-41f1-87c1-43a628e7c17c",
   "metadata": {},
   "outputs": [
    {
     "data": {
      "text/plain": [
       "1.4503672379256625"
      ]
     },
     "execution_count": 6,
     "metadata": {},
     "output_type": "execute_result"
    }
   ],
   "source": [
    "f_test"
   ]
  },
  {
   "cell_type": "code",
   "execution_count": 18,
   "id": "6ba79fce-5d61-4ccd-aa04-775823219918",
   "metadata": {},
   "outputs": [],
   "source": [
    "## Now for CV using python\n",
    "critical_value=stat.f.ppf(q=1-significance,dfn=df1,dfd=df2)"
   ]
  },
  {
   "cell_type": "code",
   "execution_count": 19,
   "id": "97b8f728-cc72-4aed-a32e-b6bcceb1b176",
   "metadata": {},
   "outputs": [
    {
     "data": {
      "text/plain": [
       "3.438101233373157"
      ]
     },
     "execution_count": 19,
     "metadata": {},
     "output_type": "execute_result"
    }
   ],
   "source": [
    "critical_value "
   ]
  },
  {
   "cell_type": "code",
   "execution_count": 21,
   "id": "fb7f78ba-3775-4992-9e4a-68a6f5e2d405",
   "metadata": {},
   "outputs": [
    {
     "name": "stdout",
     "output_type": "stream",
     "text": [
      "we fail to reject the null hypothesis\n",
      "marks of class 1 is better than class 2\n"
     ]
    }
   ],
   "source": [
    "if f_test>critical_value :\n",
    "    print('reject the null hypothesis')\n",
    "else:\n",
    "    print('we fail to reject the null hypothesis')\n",
    "print('marks of class 1 is better than class 2')"
   ]
  },
  {
   "cell_type": "code",
   "execution_count": 38,
   "id": "75e88997-8d39-4e2d-a5e2-66a7b2652bb1",
   "metadata": {},
   "outputs": [],
   "source": [
    "## Ans 2\n",
    "significance1=0.05\n",
    "dfn=4\n",
    "dfd=6\n",
    "two_tail=stat.f.ppf(1-significance1,dfn,dfd)"
   ]
  },
  {
   "cell_type": "code",
   "execution_count": 39,
   "id": "12da711c-3363-4a22-aa39-83af1b10d98f",
   "metadata": {},
   "outputs": [
    {
     "data": {
      "text/plain": [
       "4.533676950275243"
      ]
     },
     "execution_count": 39,
     "metadata": {},
     "output_type": "execute_result"
    }
   ],
   "source": [
    "two_tail"
   ]
  },
  {
   "cell_type": "code",
   "execution_count": 42,
   "id": "5a34c146-efb2-4cd0-888f-e3cafeb6b5a3",
   "metadata": {},
   "outputs": [],
   "source": [
    "rand1=np.random.normal(loc=0.0,scale=1,size=5)\n",
    "rand2=np.random.normal(loc=0.1,scale=1,size=5)"
   ]
  },
  {
   "cell_type": "code",
   "execution_count": 43,
   "id": "757b9695-cabb-4a8e-ac53-17deb2a26199",
   "metadata": {},
   "outputs": [
    {
     "data": {
      "text/plain": [
       "(array([ 0.63108697, -1.23263088,  0.2424392 ,  0.89412077,  0.36393929]),\n",
       " array([ 2.29773369,  0.22922432,  0.45707298, -0.24655295, -0.39946836]))"
      ]
     },
     "execution_count": 43,
     "metadata": {},
     "output_type": "execute_result"
    }
   ],
   "source": [
    "rand1,rand2"
   ]
  },
  {
   "cell_type": "code",
   "execution_count": 44,
   "id": "0a5a7a00-8f0d-4c4d-9e1b-a4da5dbf145e",
   "metadata": {},
   "outputs": [],
   "source": [
    "f_test=np.var(rand1)/np.var(rand2)"
   ]
  },
  {
   "cell_type": "code",
   "execution_count": 45,
   "id": "f90c0d9a-d719-4840-ae7f-b528ebb1b99f",
   "metadata": {},
   "outputs": [
    {
     "data": {
      "text/plain": [
       "0.5883934559209802"
      ]
     },
     "execution_count": 45,
     "metadata": {},
     "output_type": "execute_result"
    }
   ],
   "source": [
    "f_test"
   ]
  },
  {
   "cell_type": "code",
   "execution_count": 47,
   "id": "7307cb41-c78a-4b89-8c69-a3656a04d868",
   "metadata": {},
   "outputs": [
    {
     "data": {
      "text/plain": [
       "(0.5493412062144951, 0.9336290210003122)"
      ]
     },
     "execution_count": 47,
     "metadata": {},
     "output_type": "execute_result"
    }
   ],
   "source": [
    "np.var(rand1),np.var(rand2)"
   ]
  },
  {
   "cell_type": "code",
   "execution_count": 48,
   "id": "a70cf855-013b-477a-94d1-3875ddf0c464",
   "metadata": {},
   "outputs": [],
   "source": [
    "df1=len(rand1)\n",
    "df2=len(rand2)\n",
    "significance=0.05"
   ]
  },
  {
   "cell_type": "code",
   "execution_count": 50,
   "id": "f6002abd-2ebe-428b-ad19-5e6e36c7a305",
   "metadata": {},
   "outputs": [],
   "source": [
    "cv=stat.f.ppf(1-significance,dfn=df1,dfd=df2)"
   ]
  },
  {
   "cell_type": "code",
   "execution_count": 51,
   "id": "0648f235-a733-4df2-baf0-fcc710b01655",
   "metadata": {},
   "outputs": [
    {
     "data": {
      "text/plain": [
       "5.050329057632646"
      ]
     },
     "execution_count": 51,
     "metadata": {},
     "output_type": "execute_result"
    }
   ],
   "source": [
    "cv"
   ]
  },
  {
   "cell_type": "code",
   "execution_count": 16,
   "id": "a65b6a77-829d-4c8a-b0d3-84c894dcd9a0",
   "metadata": {},
   "outputs": [],
   "source": [
    "##Ans 8\n",
    "Restaurant_A= [24, 25, 28, 23, 22, 20, 27]\n",
    "Restaurant_B=[31, 33, 35, 30, 32, 36]"
   ]
  },
  {
   "cell_type": "code",
   "execution_count": 10,
   "id": "a608f8bb-5079-48d4-be1c-c2817b1256fa",
   "metadata": {},
   "outputs": [],
   "source": [
    "f_test=np.var(Restaurant_A)/np.var(Restaurant_B)"
   ]
  },
  {
   "cell_type": "code",
   "execution_count": 11,
   "id": "e931e5a9-5e57-4446-94ca-269888c05813",
   "metadata": {},
   "outputs": [
    {
     "data": {
      "text/plain": [
       "1.496767651159843"
      ]
     },
     "execution_count": 11,
     "metadata": {},
     "output_type": "execute_result"
    }
   ],
   "source": [
    "f_test"
   ]
  },
  {
   "cell_type": "code",
   "execution_count": 13,
   "id": "465a89f4-3c85-4096-9eec-8c1ee9c1e2df",
   "metadata": {},
   "outputs": [],
   "source": [
    "df1=len(Restaurant_A)-1\n",
    "df2=len(Restaurant_B)-1\n",
    "significance=0.05"
   ]
  },
  {
   "cell_type": "code",
   "execution_count": 14,
   "id": "0369620c-9138-4886-b2a9-a59a7249ea47",
   "metadata": {},
   "outputs": [],
   "source": [
    "cv=stat.f.ppf(1-significance,dfn=df1,dfd=df2)"
   ]
  },
  {
   "cell_type": "code",
   "execution_count": 15,
   "id": "ee5f41b6-a848-4489-bf38-c54ed07508dc",
   "metadata": {},
   "outputs": [
    {
     "data": {
      "text/plain": [
       "4.950288068694318"
      ]
     },
     "execution_count": 15,
     "metadata": {},
     "output_type": "execute_result"
    }
   ],
   "source": [
    "cv"
   ]
  },
  {
   "cell_type": "code",
   "execution_count": 21,
   "id": "3261cda1-7ea7-4e53-969f-8bdb37c66af4",
   "metadata": {},
   "outputs": [
    {
     "data": {
      "text/plain": [
       "1.9442622950819677"
      ]
     },
     "execution_count": 21,
     "metadata": {},
     "output_type": "execute_result"
    }
   ],
   "source": [
    "## Ans 9\n",
    "Group_A=[80, 85, 90, 92, 87, 83]\n",
    "Group_B=[75, 78, 82, 79, 81, 84]\n",
    "ftest=np.var(Group_A)/np.var(Group_B)\n",
    "ftest"
   ]
  },
  {
   "cell_type": "code",
   "execution_count": 23,
   "id": "edb0a562-e28f-4e38-a027-2c0baa4198ad",
   "metadata": {},
   "outputs": [],
   "source": [
    "dfA=len(Group_A)\n",
    "dfB=len(Group_B)\n",
    "significance=0.01"
   ]
  },
  {
   "cell_type": "code",
   "execution_count": 24,
   "id": "28c1a73a-4c26-49d4-8c45-7c8b9e92309b",
   "metadata": {},
   "outputs": [],
   "source": [
    "cv=stat.f.ppf(1-significance,dfn=dfA,dfd=dfB)"
   ]
  },
  {
   "cell_type": "code",
   "execution_count": 25,
   "id": "c390091c-01d5-427c-ac21-0e87cf0f7e33",
   "metadata": {},
   "outputs": [
    {
     "data": {
      "text/plain": [
       "8.466125340476895"
      ]
     },
     "execution_count": 25,
     "metadata": {},
     "output_type": "execute_result"
    }
   ],
   "source": [
    "cv"
   ]
  },
  {
   "cell_type": "code",
   "execution_count": 26,
   "id": "007dfa55-edb2-4b66-9040-bc3851752f50",
   "metadata": {},
   "outputs": [],
   "source": [
    "## Ans 7\n",
    "df1=9\n",
    "df2=14\n",
    "significance=0.1"
   ]
  },
  {
   "cell_type": "code",
   "execution_count": 27,
   "id": "3890392c-2c8e-41f5-b3b4-d6d90e32f874",
   "metadata": {},
   "outputs": [],
   "source": [
    "cv=stat.f.ppf(1-significance,dfn=df1,dfd=df2)"
   ]
  },
  {
   "cell_type": "code",
   "execution_count": 28,
   "id": "97b7150e-89b0-4b2f-b1b7-27db76e975f8",
   "metadata": {},
   "outputs": [
    {
     "data": {
      "text/plain": [
       "2.121954566976902"
      ]
     },
     "execution_count": 28,
     "metadata": {},
     "output_type": "execute_result"
    }
   ],
   "source": [
    "cv"
   ]
  },
  {
   "cell_type": "code",
   "execution_count": null,
   "id": "8554b171-2f6a-45ce-b6f1-de612708b87a",
   "metadata": {},
   "outputs": [],
   "source": []
  },
  {
   "cell_type": "code",
   "execution_count": null,
   "id": "dffe9633-db50-45cb-97cd-e8cb380cc2e9",
   "metadata": {},
   "outputs": [],
   "source": []
  }
 ],
 "metadata": {
  "kernelspec": {
   "display_name": "Python 3 (ipykernel)",
   "language": "python",
   "name": "python3"
  },
  "language_info": {
   "codemirror_mode": {
    "name": "ipython",
    "version": 3
   },
   "file_extension": ".py",
   "mimetype": "text/x-python",
   "name": "python",
   "nbconvert_exporter": "python",
   "pygments_lexer": "ipython3",
   "version": "3.10.8"
  }
 },
 "nbformat": 4,
 "nbformat_minor": 5
}
