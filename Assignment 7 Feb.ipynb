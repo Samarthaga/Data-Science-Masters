{
 "cells": [
  {
   "cell_type": "markdown",
   "id": "0b2dda8c-f14d-41c3-97a8-01c58497739b",
   "metadata": {},
   "source": [
    "## Assignment 7 FEB "
   ]
  },
  {
   "cell_type": "code",
   "execution_count": null,
   "id": "756f9aa5-4670-4603-a685-5c8d973cd49b",
   "metadata": {},
   "outputs": [],
   "source": [
    "## Ans 1. generating password"
   ]
  },
  {
   "cell_type": "code",
   "execution_count": 1,
   "id": "f12447e7-affb-47a8-adff-95606c4f769a",
   "metadata": {},
   "outputs": [
    {
     "name": "stdin",
     "output_type": "stream",
     "text": [
      "Enter the password samarth\n"
     ]
    },
    {
     "name": "stdout",
     "output_type": "stream",
     "text": [
      "Invalid Password\n"
     ]
    }
   ],
   "source": [
    "import re \n",
    "\n",
    "correct=0\n",
    "passwrd=input('Enter the password')\n",
    "if not re.search('[a-z]',passwrd):\n",
    "    correct=1\n",
    "if not re.search('[1-9]',passwrd):\n",
    "    correct=1\n",
    "if not re.search('[A-Z]',passwrd):\n",
    "    correct=1\n",
    "if not re.search('[@#$%!]',passwrd):\n",
    "    correct=1\n",
    "if len(passwrd) < 6:\n",
    "    correct=1\n",
    "    \n",
    "if (correct==0):\n",
    "    print('Valid Password')\n",
    "else:\n",
    "    print('Invalid Password')"
   ]
  },
  {
   "cell_type": "code",
   "execution_count": 10,
   "id": "8a2abd9f-5ff3-4130-a1f1-010a15bb392d",
   "metadata": {},
   "outputs": [],
   "source": [
    "import re \n",
    "\n",
    "def input_password():\n",
    "    correct=0\n",
    "    passwrd=input('Enter the password')\n",
    "    if not re.search('[a-z]',passwrd):\n",
    "        correct=1\n",
    "    if not re.search('[1-9]',passwrd):\n",
    "        correct=1\n",
    "    if not re.search('[A-Z]',passwrd):\n",
    "        correct=1\n",
    "    if not re.search('[@#$%!]',passwrd):\n",
    "        correct=1\n",
    "    if len(passwrd) < 6:\n",
    "        correct=1\n",
    "    if (correct==0):\n",
    "        return ('Valid Password')\n",
    "    else :\n",
    "        return ('Invalid Password')"
   ]
  },
  {
   "cell_type": "code",
   "execution_count": 11,
   "id": "120a7185-23b6-4d8e-a063-d24adf988712",
   "metadata": {},
   "outputs": [
    {
     "name": "stdin",
     "output_type": "stream",
     "text": [
      "Enter the password Samarth@132\n"
     ]
    },
    {
     "data": {
      "text/plain": [
       "'Valid Password'"
      ]
     },
     "execution_count": 11,
     "metadata": {},
     "output_type": "execute_result"
    }
   ],
   "source": [
    "input_password()"
   ]
  },
  {
   "cell_type": "code",
   "execution_count": 12,
   "id": "0c914747-933b-44b3-bc49-be1859b65d61",
   "metadata": {},
   "outputs": [],
   "source": [
    "## Ans 2.\n",
    "\n",
    "## 1.Check if the string starts with a particular letter\n",
    "\n",
    "l1=[1,2,3,4,'Samarth','Agarwal']\n",
    "\n",
    "def ltr(a):\n",
    "    n=[]\n",
    "    for i in a :\n",
    "        if type(i)==str:\n",
    "            n"
   ]
  },
  {
   "cell_type": "code",
   "execution_count": null,
   "id": "3af3edc9-1875-47e2-baec-9463b856d1ea",
   "metadata": {},
   "outputs": [],
   "source": []
  },
  {
   "cell_type": "code",
   "execution_count": 16,
   "id": "bb124be7-dc92-421b-846c-7c00f43046db",
   "metadata": {},
   "outputs": [],
   "source": [
    "l1=[1,2,3,4,'Samarth','Agarwal']\n",
    "\n",
    "def ltr(a):\n",
    "    n=[]\n",
    "    for i in a :\n",
    "        if type(i)==str:\n",
    "            n.append (i)\n",
    "    return n"
   ]
  },
  {
   "cell_type": "code",
   "execution_count": 17,
   "id": "3d7833ba-4961-4671-97c9-cc96abdf37a9",
   "metadata": {},
   "outputs": [
    {
     "data": {
      "text/plain": [
       "['Samarth', 'Agarwal']"
      ]
     },
     "execution_count": 17,
     "metadata": {},
     "output_type": "execute_result"
    }
   ],
   "source": [
    "ltr(l1)"
   ]
  },
  {
   "cell_type": "code",
   "execution_count": 18,
   "id": "accc3c6a-12d6-442b-b987-d09c84baa7af",
   "metadata": {},
   "outputs": [],
   "source": [
    "## 2.\n",
    "\n",
    "def exp2(a):\n",
    "    n=[]\n",
    "    for i in a:\n",
    "        if type (i)==int:\n",
    "            n.append(i)\n",
    "    return n"
   ]
  },
  {
   "cell_type": "code",
   "execution_count": 19,
   "id": "d9cb419d-6b36-4178-9b5c-82609a9ec33c",
   "metadata": {},
   "outputs": [
    {
     "data": {
      "text/plain": [
       "[1, 2, 3, 4]"
      ]
     },
     "execution_count": 19,
     "metadata": {},
     "output_type": "execute_result"
    }
   ],
   "source": [
    "exp2(l1)"
   ]
  },
  {
   "cell_type": "code",
   "execution_count": 2,
   "id": "1e558a25-0270-4405-aa68-cab5eaf87c3d",
   "metadata": {},
   "outputs": [],
   "source": [
    "## 3. \n",
    "List1=[(\"mango\",99),(\"orange\",80), (\"grapes\", 1000)]"
   ]
  },
  {
   "cell_type": "code",
   "execution_count": 5,
   "id": "2a0e5b1f-9e93-43c4-a1ae-974e1d6f5b0c",
   "metadata": {},
   "outputs": [
    {
     "data": {
      "text/plain": [
       "[99, 80, 1000]"
      ]
     },
     "execution_count": 5,
     "metadata": {},
     "output_type": "execute_result"
    }
   ],
   "source": [
    "list(map(lambda x: x[1],List1))"
   ]
  },
  {
   "cell_type": "code",
   "execution_count": 9,
   "id": "0f1dc4e2-f93d-4540-9ed5-1a66a86b2464",
   "metadata": {},
   "outputs": [],
   "source": [
    "List2=[1,2,3,4,5,6,7,8,9,10]"
   ]
  },
  {
   "cell_type": "code",
   "execution_count": 10,
   "id": "399cfe97-24ba-4b20-8cb6-6a9df4970e5d",
   "metadata": {},
   "outputs": [
    {
     "data": {
      "text/plain": [
       "[1, 4, 9, 16, 25, 36, 49, 64, 81, 100]"
      ]
     },
     "execution_count": 10,
     "metadata": {},
     "output_type": "execute_result"
    }
   ],
   "source": [
    "## 4.\n",
    "list(map(lambda x: x**2,List2))"
   ]
  },
  {
   "cell_type": "code",
   "execution_count": 13,
   "id": "99ae389c-7d73-47aa-986b-f20a03c39793",
   "metadata": {},
   "outputs": [
    {
     "data": {
      "text/plain": [
       "[0.3333333333333333,\n",
       " 0.6666666666666666,\n",
       " 1.0,\n",
       " 1.3333333333333333,\n",
       " 1.6666666666666667,\n",
       " 2.0,\n",
       " 2.3333333333333335,\n",
       " 2.6666666666666665,\n",
       " 3.0,\n",
       " 3.3333333333333335]"
      ]
     },
     "execution_count": 13,
     "metadata": {},
     "output_type": "execute_result"
    }
   ],
   "source": [
    "list(map(lambda x: x**1/3,List2))"
   ]
  },
  {
   "cell_type": "code",
   "execution_count": 14,
   "id": "2200c7e7-5aea-4ac4-8c8b-5345191bf785",
   "metadata": {},
   "outputs": [
    {
     "data": {
      "text/plain": [
       "[False, True, False, True, False, True, False, True, False, True]"
      ]
     },
     "execution_count": 14,
     "metadata": {},
     "output_type": "execute_result"
    }
   ],
   "source": [
    "list(map(lambda x: x%2==0,List2))"
   ]
  },
  {
   "cell_type": "code",
   "execution_count": 15,
   "id": "982cfbe7-4ad1-48be-b219-499de4909a06",
   "metadata": {},
   "outputs": [
    {
     "data": {
      "text/plain": [
       "[2, 4, 6, 8, 10]"
      ]
     },
     "execution_count": 15,
     "metadata": {},
     "output_type": "execute_result"
    }
   ],
   "source": [
    "list(filter(lambda x: x%2==0,List2))"
   ]
  },
  {
   "cell_type": "code",
   "execution_count": 17,
   "id": "ac842e00-0b30-42b3-bc55-538aa8924218",
   "metadata": {},
   "outputs": [
    {
     "data": {
      "text/plain": [
       "[1, 3, 5, 7, 9]"
      ]
     },
     "execution_count": 17,
     "metadata": {},
     "output_type": "execute_result"
    }
   ],
   "source": [
    "list(filter(lambda x: x%2 !=0,List2))"
   ]
  },
  {
   "cell_type": "code",
   "execution_count": null,
   "id": "7381f144-f145-48dc-b81c-46880fe3fd2d",
   "metadata": {},
   "outputs": [],
   "source": []
  }
 ],
 "metadata": {
  "kernelspec": {
   "display_name": "Python 3 (ipykernel)",
   "language": "python",
   "name": "python3"
  },
  "language_info": {
   "codemirror_mode": {
    "name": "ipython",
    "version": 3
   },
   "file_extension": ".py",
   "mimetype": "text/x-python",
   "name": "python",
   "nbconvert_exporter": "python",
   "pygments_lexer": "ipython3",
   "version": "3.10.8"
  }
 },
 "nbformat": 4,
 "nbformat_minor": 5
}
