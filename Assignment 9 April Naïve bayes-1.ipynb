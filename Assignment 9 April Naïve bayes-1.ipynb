{
 "cells": [
  {
   "cell_type": "code",
   "execution_count": null,
   "id": "1b899168-4cfb-49cd-ac02-276d9b4e4b3c",
   "metadata": {},
   "outputs": [],
   "source": [
    "## Ans 1: Bayes' Theorem states that the conditional probability of an event, based on the occurrence of another event, is equal to the likelihood of the second event given the first event multiplied by the probability of the first event."
   ]
  },
  {
   "cell_type": "code",
   "execution_count": null,
   "id": "347f5f03-4117-4948-907a-6ad1986518dc",
   "metadata": {},
   "outputs": [],
   "source": [
    "## Ans 2:Pr(A∣B)= Pr(A) * Pr(B/A) / Pr(B)\n"
   ]
  },
  {
   "cell_type": "code",
   "execution_count": null,
   "id": "eced298e-bf45-480e-9a29-353bdc4a269a",
   "metadata": {},
   "outputs": [],
   "source": [
    "## Ans 3: gives the probability of an event based on new information that is, or may be, related to that event. The formula can also be used to determine how the probability of an event occurring may be affected by hypothetical new information, supposing the new information will turn out to be true"
   ]
  },
  {
   "cell_type": "code",
   "execution_count": null,
   "id": "9bf43f84-fcd2-41e0-a338-5689861856f5",
   "metadata": {},
   "outputs": [],
   "source": [
    "## Ans 4 : Conditional probability looks at two events occurring in relation to one another. It looks at the probability of a second event occurring based on the probability of the first event occurring\n",
    "## Bayes' Theorem states that the conditional probability of an event, based on the occurrence of another event, is equal to the likelihood of the second event given the first event multiplied by the probability of the first event."
   ]
  },
  {
   "cell_type": "code",
   "execution_count": null,
   "id": "bde83462-619d-4a53-8ffe-95b5e07802c0",
   "metadata": {},
   "outputs": [],
   "source": [
    "## Ans 5: whenever the features follow outcomes like pass fain ,yes no we use bernoulli theorm as outcome is 0 and 1\n",
    "## if the features are in the form of statement we use multinomial naive bias \n",
    "## if the features have contious values and have continuous outcomes with more than 5 unique features we use Gaussian naive bayes"
   ]
  },
  {
   "cell_type": "code",
   "execution_count": null,
   "id": "d057aec5-61aa-45c3-af01-460b925d120d",
   "metadata": {},
   "outputs": [],
   "source": []
  },
  {
   "cell_type": "code",
   "execution_count": null,
   "id": "a06ff932-681b-4218-95f1-28ac646f0188",
   "metadata": {},
   "outputs": [],
   "source": []
  },
  {
   "cell_type": "code",
   "execution_count": null,
   "id": "22173c67-2a5c-4d25-b120-f0fc2b752f77",
   "metadata": {},
   "outputs": [],
   "source": []
  },
  {
   "cell_type": "code",
   "execution_count": null,
   "id": "97cd548d-0648-42c9-9c7a-ecef7e7ecd36",
   "metadata": {},
   "outputs": [],
   "source": []
  },
  {
   "cell_type": "code",
   "execution_count": null,
   "id": "69f4946d-9a27-4888-a6c8-39bcc08e34d4",
   "metadata": {},
   "outputs": [],
   "source": []
  },
  {
   "cell_type": "code",
   "execution_count": null,
   "id": "810dc966-38d1-41b7-8014-fd3c7d80ecdb",
   "metadata": {},
   "outputs": [],
   "source": []
  },
  {
   "cell_type": "code",
   "execution_count": null,
   "id": "ad814898-6600-4e9c-b1b1-ae1b5b60cc6e",
   "metadata": {},
   "outputs": [],
   "source": []
  },
  {
   "cell_type": "code",
   "execution_count": null,
   "id": "da7bc45e-fd99-4d11-afe3-095b5eaaf664",
   "metadata": {},
   "outputs": [],
   "source": []
  },
  {
   "cell_type": "code",
   "execution_count": null,
   "id": "2cf9c725-4cba-4d9a-873f-3b857ea56619",
   "metadata": {},
   "outputs": [],
   "source": []
  },
  {
   "cell_type": "code",
   "execution_count": null,
   "id": "de02a4be-4bf7-4b69-949e-e14865c557a2",
   "metadata": {},
   "outputs": [],
   "source": []
  },
  {
   "cell_type": "code",
   "execution_count": null,
   "id": "26aa67ab-2ae5-4db6-859d-28ded62882ea",
   "metadata": {},
   "outputs": [],
   "source": []
  },
  {
   "cell_type": "code",
   "execution_count": null,
   "id": "591453f6-bbfd-40f8-ad06-d512cf1d5229",
   "metadata": {},
   "outputs": [],
   "source": []
  },
  {
   "cell_type": "code",
   "execution_count": null,
   "id": "1418f94f-0ded-46e4-974c-3fd712ab7d19",
   "metadata": {},
   "outputs": [],
   "source": []
  },
  {
   "cell_type": "code",
   "execution_count": null,
   "id": "d313fbec-9ab7-4b49-a5dc-f6aa0ff7b3a9",
   "metadata": {},
   "outputs": [],
   "source": []
  },
  {
   "cell_type": "code",
   "execution_count": null,
   "id": "29004bb4-ea04-4912-a5bc-d11913923e68",
   "metadata": {},
   "outputs": [],
   "source": []
  }
 ],
 "metadata": {
  "kernelspec": {
   "display_name": "Python 3 (ipykernel)",
   "language": "python",
   "name": "python3"
  },
  "language_info": {
   "codemirror_mode": {
    "name": "ipython",
    "version": 3
   },
   "file_extension": ".py",
   "mimetype": "text/x-python",
   "name": "python",
   "nbconvert_exporter": "python",
   "pygments_lexer": "ipython3",
   "version": "3.10.8"
  }
 },
 "nbformat": 4,
 "nbformat_minor": 5
}
