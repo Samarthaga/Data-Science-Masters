{
 "cells": [
  {
   "cell_type": "markdown",
   "id": "334c4212-8d9c-420d-8c52-bfb99a7af6ba",
   "metadata": {},
   "source": [
    "# Adaboost, Gradient Boost , XGboost Implementation"
   ]
  },
  {
   "cell_type": "markdown",
   "id": "c341ee69-8004-4f60-83dc-aa4cfdac12c1",
   "metadata": {},
   "source": [
    "# Classification"
   ]
  },
  {
   "cell_type": "code",
   "execution_count": 1,
   "id": "ef2acb35-6f0b-4e7f-9d7d-7f4b54466cab",
   "metadata": {},
   "outputs": [
    {
     "name": "stdout",
     "output_type": "stream",
     "text": [
      "Collecting Xgboost\n",
      "  Downloading xgboost-1.7.5-py3-none-manylinux2014_x86_64.whl (200.3 MB)\n",
      "\u001b[2K     \u001b[90m━━━━━━━━━━━━━━━━━━━━━━━━━━━━━━━━━━━━━━\u001b[0m \u001b[32m200.3/200.3 MB\u001b[0m \u001b[31m13.0 MB/s\u001b[0m eta \u001b[36m0:00:00\u001b[0m00:01\u001b[0m00:01\u001b[0m\n",
      "\u001b[?25hRequirement already satisfied: scipy in /opt/conda/lib/python3.10/site-packages (from Xgboost) (1.9.3)\n",
      "Requirement already satisfied: numpy in /opt/conda/lib/python3.10/site-packages (from Xgboost) (1.23.5)\n",
      "Installing collected packages: Xgboost\n",
      "Successfully installed Xgboost-1.7.5\n"
     ]
    }
   ],
   "source": [
    "!pip install Xgboost"
   ]
  },
  {
   "cell_type": "code",
   "execution_count": 1,
   "id": "2d7acecf-ea92-4ead-ab7e-715154d0ccc5",
   "metadata": {},
   "outputs": [],
   "source": [
    "from sklearn.datasets import make_classification\n",
    "X,y=make_classification(n_samples=1000,n_features=4,n_informative=2,n_redundant=0,random_state=0,shuffle=False)"
   ]
  },
  {
   "cell_type": "code",
   "execution_count": 2,
   "id": "4d055fcd-1d03-4187-9442-632ba442be42",
   "metadata": {},
   "outputs": [
    {
     "data": {
      "text/plain": [
       "array([[-1.66853167, -1.29901346,  0.2746472 , -0.60362044],\n",
       "       [-2.9728827 , -1.08878294,  0.70885958,  0.42281857],\n",
       "       [-0.59614125, -1.37007001, -3.11685659,  0.64445203],\n",
       "       ...,\n",
       "       [ 0.91711204,  1.10596645,  0.86766522, -2.25625012],\n",
       "       [ 0.10027664,  1.45875846, -0.44360274, -0.67002328],\n",
       "       [ 1.0415229 , -0.01987143,  0.15216419, -1.9405334 ]])"
      ]
     },
     "execution_count": 2,
     "metadata": {},
     "output_type": "execute_result"
    }
   ],
   "source": [
    "X"
   ]
  },
  {
   "cell_type": "code",
   "execution_count": 3,
   "id": "a6232389-3b57-43a6-9231-577f93f04221",
   "metadata": {},
   "outputs": [
    {
     "data": {
      "text/plain": [
       "array([0, 0, 0, 0, 0, 0, 0, 0, 0, 0, 0, 0, 0, 0, 0, 0, 0, 0, 0, 0, 0, 0,\n",
       "       0, 0, 0, 0, 0, 0, 0, 0, 0, 0, 0, 0, 0, 0, 0, 0, 0, 0, 0, 0, 0, 0,\n",
       "       0, 0, 0, 0, 0, 0, 0, 0, 0, 0, 0, 0, 0, 0, 0, 0, 0, 0, 0, 0, 0, 0,\n",
       "       0, 0, 0, 0, 0, 0, 0, 0, 0, 0, 0, 0, 0, 0, 0, 0, 0, 0, 0, 0, 0, 0,\n",
       "       0, 0, 0, 0, 0, 0, 0, 0, 0, 0, 0, 0, 0, 0, 0, 0, 0, 0, 0, 0, 0, 0,\n",
       "       0, 0, 0, 0, 0, 0, 0, 0, 0, 0, 0, 0, 0, 0, 0, 0, 0, 0, 0, 1, 0, 0,\n",
       "       0, 0, 0, 0, 0, 0, 0, 0, 0, 0, 0, 0, 0, 0, 0, 0, 0, 0, 0, 0, 0, 0,\n",
       "       0, 0, 0, 0, 0, 0, 0, 0, 0, 0, 0, 0, 0, 0, 0, 0, 0, 0, 0, 0, 0, 0,\n",
       "       0, 0, 0, 0, 0, 0, 0, 0, 0, 0, 0, 0, 0, 0, 0, 0, 0, 0, 0, 0, 0, 0,\n",
       "       0, 0, 0, 0, 0, 0, 0, 0, 0, 0, 0, 0, 0, 0, 0, 0, 0, 0, 0, 0, 0, 0,\n",
       "       0, 0, 0, 0, 0, 0, 0, 0, 0, 0, 0, 0, 0, 0, 0, 0, 0, 0, 0, 0, 0, 0,\n",
       "       0, 0, 0, 0, 0, 0, 0, 0, 1, 1, 1, 1, 1, 1, 1, 1, 1, 1, 1, 1, 1, 1,\n",
       "       1, 1, 1, 1, 1, 1, 1, 1, 1, 1, 1, 1, 1, 1, 1, 1, 1, 1, 1, 1, 1, 1,\n",
       "       1, 1, 1, 1, 1, 1, 1, 1, 1, 1, 1, 1, 1, 1, 1, 1, 1, 1, 1, 1, 1, 1,\n",
       "       1, 1, 1, 1, 1, 0, 1, 1, 1, 1, 1, 1, 1, 1, 1, 1, 1, 1, 1, 1, 1, 1,\n",
       "       1, 1, 1, 1, 1, 1, 1, 1, 1, 1, 1, 1, 1, 1, 1, 1, 1, 1, 1, 1, 1, 1,\n",
       "       1, 1, 1, 1, 1, 1, 1, 1, 1, 1, 1, 1, 1, 0, 1, 1, 1, 1, 1, 1, 1, 1,\n",
       "       1, 1, 1, 1, 1, 1, 1, 1, 1, 1, 1, 1, 1, 1, 1, 1, 1, 1, 1, 1, 1, 1,\n",
       "       1, 1, 1, 1, 1, 1, 1, 1, 1, 1, 1, 0, 1, 1, 1, 1, 1, 1, 1, 1, 1, 1,\n",
       "       1, 1, 1, 1, 1, 1, 1, 1, 1, 1, 1, 1, 1, 1, 1, 1, 1, 1, 1, 1, 1, 1,\n",
       "       1, 1, 1, 1, 1, 1, 1, 1, 1, 1, 1, 1, 1, 1, 1, 1, 1, 1, 1, 1, 1, 1,\n",
       "       1, 1, 1, 1, 1, 1, 1, 1, 1, 1, 1, 1, 1, 1, 1, 1, 1, 1, 1, 1, 1, 1,\n",
       "       1, 1, 1, 1, 1, 1, 1, 1, 1, 1, 1, 1, 1, 1, 1, 1, 0, 0, 0, 0, 0, 0,\n",
       "       0, 0, 0, 0, 0, 0, 0, 0, 0, 0, 0, 0, 0, 0, 0, 0, 0, 0, 0, 0, 0, 0,\n",
       "       0, 0, 0, 0, 0, 0, 0, 0, 0, 0, 0, 0, 0, 0, 0, 0, 0, 0, 0, 0, 0, 0,\n",
       "       0, 1, 0, 0, 0, 0, 0, 0, 0, 0, 0, 0, 0, 0, 0, 0, 0, 0, 0, 0, 0, 0,\n",
       "       0, 0, 0, 0, 0, 0, 0, 0, 0, 0, 0, 0, 0, 0, 0, 0, 0, 0, 0, 0, 0, 0,\n",
       "       0, 0, 0, 0, 0, 0, 0, 0, 0, 0, 0, 0, 0, 0, 0, 0, 0, 0, 0, 0, 0, 0,\n",
       "       0, 0, 0, 0, 0, 0, 0, 0, 0, 0, 0, 0, 0, 0, 0, 0, 0, 0, 0, 0, 0, 0,\n",
       "       0, 0, 0, 0, 0, 0, 1, 0, 0, 0, 0, 0, 0, 0, 0, 0, 0, 0, 0, 0, 0, 0,\n",
       "       0, 0, 0, 0, 0, 0, 0, 0, 0, 0, 0, 0, 0, 0, 0, 0, 0, 0, 0, 0, 0, 0,\n",
       "       0, 0, 0, 0, 0, 0, 0, 0, 0, 0, 0, 0, 0, 0, 0, 0, 0, 0, 0, 0, 0, 0,\n",
       "       0, 0, 0, 0, 0, 0, 0, 0, 0, 0, 0, 0, 0, 0, 0, 0, 0, 0, 0, 0, 0, 0,\n",
       "       0, 0, 0, 0, 0, 0, 0, 0, 0, 0, 0, 0, 0, 0, 0, 0, 0, 0, 0, 0, 0, 0,\n",
       "       0, 0, 1, 1, 1, 1, 1, 1, 1, 1, 1, 1, 1, 1, 1, 1, 1, 1, 1, 1, 1, 1,\n",
       "       1, 1, 1, 1, 1, 1, 1, 1, 0, 1, 1, 1, 1, 1, 1, 1, 1, 1, 1, 1, 1, 1,\n",
       "       1, 1, 1, 1, 1, 1, 1, 1, 1, 1, 1, 1, 1, 1, 1, 1, 1, 1, 1, 1, 1, 1,\n",
       "       1, 1, 1, 1, 1, 1, 1, 1, 1, 1, 1, 1, 1, 1, 1, 1, 1, 1, 1, 1, 1, 1,\n",
       "       1, 1, 1, 1, 1, 1, 1, 1, 1, 1, 1, 1, 1, 1, 1, 1, 1, 1, 1, 1, 1, 1,\n",
       "       1, 1, 1, 1, 1, 1, 1, 1, 1, 1, 1, 1, 1, 1, 0, 1, 1, 1, 1, 1, 1, 1,\n",
       "       1, 1, 1, 1, 1, 1, 1, 1, 1, 1, 1, 1, 1, 1, 1, 1, 1, 1, 1, 1, 1, 1,\n",
       "       1, 1, 1, 1, 1, 1, 1, 1, 1, 1, 1, 1, 1, 1, 1, 1, 1, 1, 1, 1, 1, 1,\n",
       "       1, 1, 1, 1, 1, 1, 1, 1, 1, 1, 1, 1, 1, 1, 1, 1, 1, 1, 1, 1, 1, 1,\n",
       "       1, 1, 1, 0, 1, 1, 1, 1, 1, 1, 1, 1, 1, 1, 1, 1, 1, 1, 1, 1, 1, 1,\n",
       "       1, 1, 1, 1, 1, 1, 1, 1, 1, 1, 1, 1, 1, 1, 1, 1, 1, 1, 1, 1, 1, 1,\n",
       "       1, 1, 1, 1, 0, 1, 1, 1, 1, 1])"
      ]
     },
     "execution_count": 3,
     "metadata": {},
     "output_type": "execute_result"
    }
   ],
   "source": [
    "y"
   ]
  },
  {
   "cell_type": "code",
   "execution_count": 4,
   "id": "3aba0395-e5ca-4ab8-8944-6c2380014187",
   "metadata": {},
   "outputs": [],
   "source": [
    "from sklearn.model_selection import train_test_split\n",
    "X_train,X_test,y_train,y_test=train_test_split(X,y,test_size=0.33,random_state=42)"
   ]
  },
  {
   "cell_type": "code",
   "execution_count": 5,
   "id": "b0f41bef-e8a4-4820-99a4-7aceabd04c4a",
   "metadata": {},
   "outputs": [],
   "source": [
    "from sklearn.ensemble import AdaBoostClassifier\n",
    "from sklearn.ensemble import GradientBoostingClassifier\n",
    "import xgboost as xb"
   ]
  },
  {
   "cell_type": "code",
   "execution_count": 6,
   "id": "7c052e8f-6c37-4b3e-8223-c0f399ac24d2",
   "metadata": {},
   "outputs": [
    {
     "data": {
      "text/html": [
       "<style>#sk-container-id-1 {color: black;background-color: white;}#sk-container-id-1 pre{padding: 0;}#sk-container-id-1 div.sk-toggleable {background-color: white;}#sk-container-id-1 label.sk-toggleable__label {cursor: pointer;display: block;width: 100%;margin-bottom: 0;padding: 0.3em;box-sizing: border-box;text-align: center;}#sk-container-id-1 label.sk-toggleable__label-arrow:before {content: \"▸\";float: left;margin-right: 0.25em;color: #696969;}#sk-container-id-1 label.sk-toggleable__label-arrow:hover:before {color: black;}#sk-container-id-1 div.sk-estimator:hover label.sk-toggleable__label-arrow:before {color: black;}#sk-container-id-1 div.sk-toggleable__content {max-height: 0;max-width: 0;overflow: hidden;text-align: left;background-color: #f0f8ff;}#sk-container-id-1 div.sk-toggleable__content pre {margin: 0.2em;color: black;border-radius: 0.25em;background-color: #f0f8ff;}#sk-container-id-1 input.sk-toggleable__control:checked~div.sk-toggleable__content {max-height: 200px;max-width: 100%;overflow: auto;}#sk-container-id-1 input.sk-toggleable__control:checked~label.sk-toggleable__label-arrow:before {content: \"▾\";}#sk-container-id-1 div.sk-estimator input.sk-toggleable__control:checked~label.sk-toggleable__label {background-color: #d4ebff;}#sk-container-id-1 div.sk-label input.sk-toggleable__control:checked~label.sk-toggleable__label {background-color: #d4ebff;}#sk-container-id-1 input.sk-hidden--visually {border: 0;clip: rect(1px 1px 1px 1px);clip: rect(1px, 1px, 1px, 1px);height: 1px;margin: -1px;overflow: hidden;padding: 0;position: absolute;width: 1px;}#sk-container-id-1 div.sk-estimator {font-family: monospace;background-color: #f0f8ff;border: 1px dotted black;border-radius: 0.25em;box-sizing: border-box;margin-bottom: 0.5em;}#sk-container-id-1 div.sk-estimator:hover {background-color: #d4ebff;}#sk-container-id-1 div.sk-parallel-item::after {content: \"\";width: 100%;border-bottom: 1px solid gray;flex-grow: 1;}#sk-container-id-1 div.sk-label:hover label.sk-toggleable__label {background-color: #d4ebff;}#sk-container-id-1 div.sk-serial::before {content: \"\";position: absolute;border-left: 1px solid gray;box-sizing: border-box;top: 0;bottom: 0;left: 50%;z-index: 0;}#sk-container-id-1 div.sk-serial {display: flex;flex-direction: column;align-items: center;background-color: white;padding-right: 0.2em;padding-left: 0.2em;position: relative;}#sk-container-id-1 div.sk-item {position: relative;z-index: 1;}#sk-container-id-1 div.sk-parallel {display: flex;align-items: stretch;justify-content: center;background-color: white;position: relative;}#sk-container-id-1 div.sk-item::before, #sk-container-id-1 div.sk-parallel-item::before {content: \"\";position: absolute;border-left: 1px solid gray;box-sizing: border-box;top: 0;bottom: 0;left: 50%;z-index: -1;}#sk-container-id-1 div.sk-parallel-item {display: flex;flex-direction: column;z-index: 1;position: relative;background-color: white;}#sk-container-id-1 div.sk-parallel-item:first-child::after {align-self: flex-end;width: 50%;}#sk-container-id-1 div.sk-parallel-item:last-child::after {align-self: flex-start;width: 50%;}#sk-container-id-1 div.sk-parallel-item:only-child::after {width: 0;}#sk-container-id-1 div.sk-dashed-wrapped {border: 1px dashed gray;margin: 0 0.4em 0.5em 0.4em;box-sizing: border-box;padding-bottom: 0.4em;background-color: white;}#sk-container-id-1 div.sk-label label {font-family: monospace;font-weight: bold;display: inline-block;line-height: 1.2em;}#sk-container-id-1 div.sk-label-container {text-align: center;}#sk-container-id-1 div.sk-container {/* jupyter's `normalize.less` sets `[hidden] { display: none; }` but bootstrap.min.css set `[hidden] { display: none !important; }` so we also need the `!important` here to be able to override the default hidden behavior on the sphinx rendered scikit-learn.org. See: https://github.com/scikit-learn/scikit-learn/issues/21755 */display: inline-block !important;position: relative;}#sk-container-id-1 div.sk-text-repr-fallback {display: none;}</style><div id=\"sk-container-id-1\" class=\"sk-top-container\"><div class=\"sk-text-repr-fallback\"><pre>AdaBoostClassifier()</pre><b>In a Jupyter environment, please rerun this cell to show the HTML representation or trust the notebook. <br />On GitHub, the HTML representation is unable to render, please try loading this page with nbviewer.org.</b></div><div class=\"sk-container\" hidden><div class=\"sk-item\"><div class=\"sk-estimator sk-toggleable\"><input class=\"sk-toggleable__control sk-hidden--visually\" id=\"sk-estimator-id-1\" type=\"checkbox\" checked><label for=\"sk-estimator-id-1\" class=\"sk-toggleable__label sk-toggleable__label-arrow\">AdaBoostClassifier</label><div class=\"sk-toggleable__content\"><pre>AdaBoostClassifier()</pre></div></div></div></div></div>"
      ],
      "text/plain": [
       "AdaBoostClassifier()"
      ]
     },
     "execution_count": 6,
     "metadata": {},
     "output_type": "execute_result"
    }
   ],
   "source": [
    "classifier1=AdaBoostClassifier()\n",
    "classifier1.fit(X_train,y_train)"
   ]
  },
  {
   "cell_type": "code",
   "execution_count": 9,
   "id": "458d2127-da56-45d8-b309-574316b8abab",
   "metadata": {},
   "outputs": [],
   "source": [
    "y_pred1=classifier1.predict(X_test)"
   ]
  },
  {
   "cell_type": "code",
   "execution_count": 8,
   "id": "5155fdd6-0ee1-4ef0-a124-7cf5b957c447",
   "metadata": {},
   "outputs": [],
   "source": [
    "from sklearn.metrics import confusion_matrix,accuracy_score,classification_report"
   ]
  },
  {
   "cell_type": "code",
   "execution_count": 10,
   "id": "62bdfd31-4ba3-4cf5-b85c-4f0e220edb73",
   "metadata": {},
   "outputs": [
    {
     "name": "stdout",
     "output_type": "stream",
     "text": [
      "[[153  13]\n",
      " [ 12 152]]\n",
      "0.9242424242424242\n",
      "              precision    recall  f1-score   support\n",
      "\n",
      "           0       0.93      0.92      0.92       166\n",
      "           1       0.92      0.93      0.92       164\n",
      "\n",
      "    accuracy                           0.92       330\n",
      "   macro avg       0.92      0.92      0.92       330\n",
      "weighted avg       0.92      0.92      0.92       330\n",
      "\n"
     ]
    }
   ],
   "source": [
    "print(confusion_matrix(y_test,y_pred1))\n",
    "print(accuracy_score(y_test,y_pred1))\n",
    "print(classification_report(y_test,y_pred1))\n",
    "      "
   ]
  },
  {
   "cell_type": "code",
   "execution_count": 11,
   "id": "99e66500-6d93-4219-bde9-225f4c12cdbb",
   "metadata": {},
   "outputs": [],
   "source": [
    "from sklearn.model_selection import GridSearchCV"
   ]
  },
  {
   "cell_type": "code",
   "execution_count": 12,
   "id": "a7d8878e-5e4d-4f83-8a11-8aadaaf1d610",
   "metadata": {},
   "outputs": [],
   "source": [
    "parameters={\n",
    "    'n_estimators':[10,50,100,150],\n",
    "    'learning_rate':[1,2,3,4,5,7,6],\n",
    "    'random_state':[int,None]\n",
    "}"
   ]
  },
  {
   "cell_type": "code",
   "execution_count": 13,
   "id": "123d6190-e65f-4d32-b83b-40c20a4db245",
   "metadata": {},
   "outputs": [],
   "source": [
    "clg=GridSearchCV(classifier1,param_grid=parameters,cv=5,refit=True,verbose=3)"
   ]
  },
  {
   "cell_type": "code",
   "execution_count": 14,
   "id": "36eabcf7-7eb0-4787-94ce-4cb5f61480e2",
   "metadata": {},
   "outputs": [
    {
     "name": "stdout",
     "output_type": "stream",
     "text": [
      "Fitting 5 folds for each of 56 candidates, totalling 280 fits\n",
      "[CV 1/5] END learning_rate=1, n_estimators=10, random_state=<class 'int'>;, score=nan total time=   0.0s\n",
      "[CV 2/5] END learning_rate=1, n_estimators=10, random_state=<class 'int'>;, score=nan total time=   0.0s\n",
      "[CV 3/5] END learning_rate=1, n_estimators=10, random_state=<class 'int'>;, score=nan total time=   0.0s\n",
      "[CV 4/5] END learning_rate=1, n_estimators=10, random_state=<class 'int'>;, score=nan total time=   0.0s\n",
      "[CV 5/5] END learning_rate=1, n_estimators=10, random_state=<class 'int'>;, score=nan total time=   0.0s\n",
      "[CV 1/5] END learning_rate=1, n_estimators=10, random_state=None;, score=0.925 total time=   0.0s\n",
      "[CV 2/5] END learning_rate=1, n_estimators=10, random_state=None;, score=0.955 total time=   0.0s\n",
      "[CV 3/5] END learning_rate=1, n_estimators=10, random_state=None;, score=0.940 total time=   0.0s\n",
      "[CV 4/5] END learning_rate=1, n_estimators=10, random_state=None;, score=0.955 total time=   0.0s\n",
      "[CV 5/5] END learning_rate=1, n_estimators=10, random_state=None;, score=0.955 total time=   0.0s\n",
      "[CV 1/5] END learning_rate=1, n_estimators=50, random_state=<class 'int'>;, score=nan total time=   0.0s\n",
      "[CV 2/5] END learning_rate=1, n_estimators=50, random_state=<class 'int'>;, score=nan total time=   0.0s\n",
      "[CV 3/5] END learning_rate=1, n_estimators=50, random_state=<class 'int'>;, score=nan total time=   0.0s\n",
      "[CV 4/5] END learning_rate=1, n_estimators=50, random_state=<class 'int'>;, score=nan total time=   0.0s\n",
      "[CV 5/5] END learning_rate=1, n_estimators=50, random_state=<class 'int'>;, score=nan total time=   0.0s\n",
      "[CV 1/5] END learning_rate=1, n_estimators=50, random_state=None;, score=0.955 total time=   0.1s\n",
      "[CV 2/5] END learning_rate=1, n_estimators=50, random_state=None;, score=0.955 total time=   0.1s\n",
      "[CV 3/5] END learning_rate=1, n_estimators=50, random_state=None;, score=0.933 total time=   0.1s\n",
      "[CV 4/5] END learning_rate=1, n_estimators=50, random_state=None;, score=0.948 total time=   0.1s\n",
      "[CV 5/5] END learning_rate=1, n_estimators=50, random_state=None;, score=0.918 total time=   0.1s\n",
      "[CV 1/5] END learning_rate=1, n_estimators=100, random_state=<class 'int'>;, score=nan total time=   0.0s\n",
      "[CV 2/5] END learning_rate=1, n_estimators=100, random_state=<class 'int'>;, score=nan total time=   0.0s\n",
      "[CV 3/5] END learning_rate=1, n_estimators=100, random_state=<class 'int'>;, score=nan total time=   0.0s\n",
      "[CV 4/5] END learning_rate=1, n_estimators=100, random_state=<class 'int'>;, score=nan total time=   0.0s\n",
      "[CV 5/5] END learning_rate=1, n_estimators=100, random_state=<class 'int'>;, score=nan total time=   0.0s\n",
      "[CV 1/5] END learning_rate=1, n_estimators=100, random_state=None;, score=0.948 total time=   0.2s\n",
      "[CV 2/5] END learning_rate=1, n_estimators=100, random_state=None;, score=0.955 total time=   0.2s\n",
      "[CV 3/5] END learning_rate=1, n_estimators=100, random_state=None;, score=0.940 total time=   0.2s\n",
      "[CV 4/5] END learning_rate=1, n_estimators=100, random_state=None;, score=0.940 total time=   0.2s\n",
      "[CV 5/5] END learning_rate=1, n_estimators=100, random_state=None;, score=0.933 total time=   0.2s\n",
      "[CV 1/5] END learning_rate=1, n_estimators=150, random_state=<class 'int'>;, score=nan total time=   0.0s\n",
      "[CV 2/5] END learning_rate=1, n_estimators=150, random_state=<class 'int'>;, score=nan total time=   0.0s\n",
      "[CV 3/5] END learning_rate=1, n_estimators=150, random_state=<class 'int'>;, score=nan total time=   0.0s\n",
      "[CV 4/5] END learning_rate=1, n_estimators=150, random_state=<class 'int'>;, score=nan total time=   0.0s\n",
      "[CV 5/5] END learning_rate=1, n_estimators=150, random_state=<class 'int'>;, score=nan total time=   0.0s\n",
      "[CV 1/5] END learning_rate=1, n_estimators=150, random_state=None;, score=0.955 total time=   0.3s\n",
      "[CV 2/5] END learning_rate=1, n_estimators=150, random_state=None;, score=0.970 total time=   0.3s\n",
      "[CV 3/5] END learning_rate=1, n_estimators=150, random_state=None;, score=0.925 total time=   0.3s\n",
      "[CV 4/5] END learning_rate=1, n_estimators=150, random_state=None;, score=0.940 total time=   0.3s\n",
      "[CV 5/5] END learning_rate=1, n_estimators=150, random_state=None;, score=0.925 total time=   0.3s\n",
      "[CV 1/5] END learning_rate=2, n_estimators=10, random_state=<class 'int'>;, score=nan total time=   0.0s\n",
      "[CV 2/5] END learning_rate=2, n_estimators=10, random_state=<class 'int'>;, score=nan total time=   0.0s\n",
      "[CV 3/5] END learning_rate=2, n_estimators=10, random_state=<class 'int'>;, score=nan total time=   0.0s\n",
      "[CV 4/5] END learning_rate=2, n_estimators=10, random_state=<class 'int'>;, score=nan total time=   0.0s\n",
      "[CV 5/5] END learning_rate=2, n_estimators=10, random_state=<class 'int'>;, score=nan total time=   0.0s\n",
      "[CV 1/5] END learning_rate=2, n_estimators=10, random_state=None;, score=0.112 total time=   0.0s\n",
      "[CV 2/5] END learning_rate=2, n_estimators=10, random_state=None;, score=0.045 total time=   0.0s\n",
      "[CV 3/5] END learning_rate=2, n_estimators=10, random_state=None;, score=0.082 total time=   0.0s\n",
      "[CV 4/5] END learning_rate=2, n_estimators=10, random_state=None;, score=0.142 total time=   0.0s\n",
      "[CV 5/5] END learning_rate=2, n_estimators=10, random_state=None;, score=0.134 total time=   0.0s\n",
      "[CV 1/5] END learning_rate=2, n_estimators=50, random_state=<class 'int'>;, score=nan total time=   0.0s\n",
      "[CV 2/5] END learning_rate=2, n_estimators=50, random_state=<class 'int'>;, score=nan total time=   0.0s\n",
      "[CV 3/5] END learning_rate=2, n_estimators=50, random_state=<class 'int'>;, score=nan total time=   0.0s\n",
      "[CV 4/5] END learning_rate=2, n_estimators=50, random_state=<class 'int'>;, score=nan total time=   0.0s\n",
      "[CV 5/5] END learning_rate=2, n_estimators=50, random_state=<class 'int'>;, score=nan total time=   0.0s\n",
      "[CV 1/5] END learning_rate=2, n_estimators=50, random_state=None;, score=0.784 total time=   0.1s\n",
      "[CV 2/5] END learning_rate=2, n_estimators=50, random_state=None;, score=0.955 total time=   0.1s\n",
      "[CV 3/5] END learning_rate=2, n_estimators=50, random_state=None;, score=0.679 total time=   0.1s\n",
      "[CV 4/5] END learning_rate=2, n_estimators=50, random_state=None;, score=0.731 total time=   0.1s\n",
      "[CV 5/5] END learning_rate=2, n_estimators=50, random_state=None;, score=0.836 total time=   0.1s\n",
      "[CV 1/5] END learning_rate=2, n_estimators=100, random_state=<class 'int'>;, score=nan total time=   0.0s\n",
      "[CV 2/5] END learning_rate=2, n_estimators=100, random_state=<class 'int'>;, score=nan total time=   0.0s\n",
      "[CV 3/5] END learning_rate=2, n_estimators=100, random_state=<class 'int'>;, score=nan total time=   0.0s\n",
      "[CV 4/5] END learning_rate=2, n_estimators=100, random_state=<class 'int'>;, score=nan total time=   0.0s\n",
      "[CV 5/5] END learning_rate=2, n_estimators=100, random_state=<class 'int'>;, score=nan total time=   0.0s\n",
      "[CV 1/5] END learning_rate=2, n_estimators=100, random_state=None;, score=0.761 total time=   0.2s\n",
      "[CV 2/5] END learning_rate=2, n_estimators=100, random_state=None;, score=0.948 total time=   0.2s\n",
      "[CV 3/5] END learning_rate=2, n_estimators=100, random_state=None;, score=0.672 total time=   0.2s\n",
      "[CV 4/5] END learning_rate=2, n_estimators=100, random_state=None;, score=0.694 total time=   0.2s\n",
      "[CV 5/5] END learning_rate=2, n_estimators=100, random_state=None;, score=0.813 total time=   0.2s\n",
      "[CV 1/5] END learning_rate=2, n_estimators=150, random_state=<class 'int'>;, score=nan total time=   0.0s\n",
      "[CV 2/5] END learning_rate=2, n_estimators=150, random_state=<class 'int'>;, score=nan total time=   0.0s\n",
      "[CV 3/5] END learning_rate=2, n_estimators=150, random_state=<class 'int'>;, score=nan total time=   0.0s\n",
      "[CV 4/5] END learning_rate=2, n_estimators=150, random_state=<class 'int'>;, score=nan total time=   0.0s\n",
      "[CV 5/5] END learning_rate=2, n_estimators=150, random_state=<class 'int'>;, score=nan total time=   0.0s\n",
      "[CV 1/5] END learning_rate=2, n_estimators=150, random_state=None;, score=0.731 total time=   0.3s\n",
      "[CV 2/5] END learning_rate=2, n_estimators=150, random_state=None;, score=0.948 total time=   0.3s\n",
      "[CV 3/5] END learning_rate=2, n_estimators=150, random_state=None;, score=0.672 total time=   0.3s\n",
      "[CV 4/5] END learning_rate=2, n_estimators=150, random_state=None;, score=0.500 total time=   0.4s\n",
      "[CV 5/5] END learning_rate=2, n_estimators=150, random_state=None;, score=0.731 total time=   0.4s\n",
      "[CV 1/5] END learning_rate=3, n_estimators=10, random_state=<class 'int'>;, score=nan total time=   0.0s\n",
      "[CV 2/5] END learning_rate=3, n_estimators=10, random_state=<class 'int'>;, score=nan total time=   0.0s\n",
      "[CV 3/5] END learning_rate=3, n_estimators=10, random_state=<class 'int'>;, score=nan total time=   0.0s\n",
      "[CV 4/5] END learning_rate=3, n_estimators=10, random_state=<class 'int'>;, score=nan total time=   0.0s\n",
      "[CV 5/5] END learning_rate=3, n_estimators=10, random_state=<class 'int'>;, score=nan total time=   0.0s\n",
      "[CV 1/5] END learning_rate=3, n_estimators=10, random_state=None;, score=0.590 total time=   0.0s\n",
      "[CV 2/5] END learning_rate=3, n_estimators=10, random_state=None;, score=0.485 total time=   0.0s\n",
      "[CV 3/5] END learning_rate=3, n_estimators=10, random_state=None;, score=0.575 total time=   0.0s\n",
      "[CV 4/5] END learning_rate=3, n_estimators=10, random_state=None;, score=0.060 total time=   0.0s\n",
      "[CV 5/5] END learning_rate=3, n_estimators=10, random_state=None;, score=0.500 total time=   0.0s\n",
      "[CV 1/5] END learning_rate=3, n_estimators=50, random_state=<class 'int'>;, score=nan total time=   0.0s\n",
      "[CV 2/5] END learning_rate=3, n_estimators=50, random_state=<class 'int'>;, score=nan total time=   0.0s\n",
      "[CV 3/5] END learning_rate=3, n_estimators=50, random_state=<class 'int'>;, score=nan total time=   0.0s\n",
      "[CV 4/5] END learning_rate=3, n_estimators=50, random_state=<class 'int'>;, score=nan total time=   0.0s\n",
      "[CV 5/5] END learning_rate=3, n_estimators=50, random_state=<class 'int'>;, score=nan total time=   0.0s\n",
      "[CV 1/5] END learning_rate=3, n_estimators=50, random_state=None;, score=0.604 total time=   0.1s\n",
      "[CV 2/5] END learning_rate=3, n_estimators=50, random_state=None;, score=0.769 total time=   0.1s\n",
      "[CV 3/5] END learning_rate=3, n_estimators=50, random_state=None;, score=0.582 total time=   0.1s\n",
      "[CV 4/5] END learning_rate=3, n_estimators=50, random_state=None;, score=0.970 total time=   0.1s\n",
      "[CV 5/5] END learning_rate=3, n_estimators=50, random_state=None;, score=0.948 total time=   0.1s\n",
      "[CV 1/5] END learning_rate=3, n_estimators=100, random_state=<class 'int'>;, score=nan total time=   0.0s\n",
      "[CV 2/5] END learning_rate=3, n_estimators=100, random_state=<class 'int'>;, score=nan total time=   0.0s\n",
      "[CV 3/5] END learning_rate=3, n_estimators=100, random_state=<class 'int'>;, score=nan total time=   0.0s\n",
      "[CV 4/5] END learning_rate=3, n_estimators=100, random_state=<class 'int'>;, score=nan total time=   0.0s\n",
      "[CV 5/5] END learning_rate=3, n_estimators=100, random_state=<class 'int'>;, score=nan total time=   0.0s\n",
      "[CV 1/5] END learning_rate=3, n_estimators=100, random_state=None;, score=0.888 total time=   0.2s\n",
      "[CV 2/5] END learning_rate=3, n_estimators=100, random_state=None;, score=0.769 total time=   0.2s\n",
      "[CV 3/5] END learning_rate=3, n_estimators=100, random_state=None;, score=0.948 total time=   0.2s\n",
      "[CV 4/5] END learning_rate=3, n_estimators=100, random_state=None;, score=0.963 total time=   0.2s\n",
      "[CV 5/5] END learning_rate=3, n_estimators=100, random_state=None;, score=0.948 total time=   0.2s\n",
      "[CV 1/5] END learning_rate=3, n_estimators=150, random_state=<class 'int'>;, score=nan total time=   0.0s\n",
      "[CV 2/5] END learning_rate=3, n_estimators=150, random_state=<class 'int'>;, score=nan total time=   0.0s\n",
      "[CV 3/5] END learning_rate=3, n_estimators=150, random_state=<class 'int'>;, score=nan total time=   0.0s\n",
      "[CV 4/5] END learning_rate=3, n_estimators=150, random_state=<class 'int'>;, score=nan total time=   0.0s\n",
      "[CV 5/5] END learning_rate=3, n_estimators=150, random_state=<class 'int'>;, score=nan total time=   0.0s\n",
      "[CV 1/5] END learning_rate=3, n_estimators=150, random_state=None;, score=0.888 total time=   0.3s\n",
      "[CV 2/5] END learning_rate=3, n_estimators=150, random_state=None;, score=0.739 total time=   0.3s\n",
      "[CV 3/5] END learning_rate=3, n_estimators=150, random_state=None;, score=0.948 total time=   0.3s\n",
      "[CV 4/5] END learning_rate=3, n_estimators=150, random_state=None;, score=0.940 total time=   0.3s\n",
      "[CV 5/5] END learning_rate=3, n_estimators=150, random_state=None;, score=0.948 total time=   0.3s\n",
      "[CV 1/5] END learning_rate=4, n_estimators=10, random_state=<class 'int'>;, score=nan total time=   0.0s\n",
      "[CV 2/5] END learning_rate=4, n_estimators=10, random_state=<class 'int'>;, score=nan total time=   0.0s\n",
      "[CV 3/5] END learning_rate=4, n_estimators=10, random_state=<class 'int'>;, score=nan total time=   0.0s\n",
      "[CV 4/5] END learning_rate=4, n_estimators=10, random_state=<class 'int'>;, score=nan total time=   0.0s\n",
      "[CV 5/5] END learning_rate=4, n_estimators=10, random_state=<class 'int'>;, score=nan total time=   0.0s\n",
      "[CV 1/5] END learning_rate=4, n_estimators=10, random_state=None;, score=0.604 total time=   0.0s\n",
      "[CV 2/5] END learning_rate=4, n_estimators=10, random_state=None;, score=0.739 total time=   0.0s\n",
      "[CV 3/5] END learning_rate=4, n_estimators=10, random_state=None;, score=0.612 total time=   0.0s\n",
      "[CV 4/5] END learning_rate=4, n_estimators=10, random_state=None;, score=0.545 total time=   0.0s\n",
      "[CV 5/5] END learning_rate=4, n_estimators=10, random_state=None;, score=0.530 total time=   0.0s\n",
      "[CV 1/5] END learning_rate=4, n_estimators=50, random_state=<class 'int'>;, score=nan total time=   0.0s\n",
      "[CV 2/5] END learning_rate=4, n_estimators=50, random_state=<class 'int'>;, score=nan total time=   0.0s\n",
      "[CV 3/5] END learning_rate=4, n_estimators=50, random_state=<class 'int'>;, score=nan total time=   0.0s\n",
      "[CV 4/5] END learning_rate=4, n_estimators=50, random_state=<class 'int'>;, score=nan total time=   0.0s\n",
      "[CV 5/5] END learning_rate=4, n_estimators=50, random_state=<class 'int'>;, score=nan total time=   0.0s\n",
      "[CV 1/5] END learning_rate=4, n_estimators=50, random_state=None;, score=0.925 total time=   0.1s\n",
      "[CV 2/5] END learning_rate=4, n_estimators=50, random_state=None;, score=0.739 total time=   0.1s\n",
      "[CV 3/5] END learning_rate=4, n_estimators=50, random_state=None;, score=0.896 total time=   0.1s\n",
      "[CV 4/5] END learning_rate=4, n_estimators=50, random_state=None;, score=0.970 total time=   0.1s\n",
      "[CV 5/5] END learning_rate=4, n_estimators=50, random_state=None;, score=0.948 total time=   0.1s\n",
      "[CV 1/5] END learning_rate=4, n_estimators=100, random_state=<class 'int'>;, score=nan total time=   0.0s\n",
      "[CV 2/5] END learning_rate=4, n_estimators=100, random_state=<class 'int'>;, score=nan total time=   0.0s\n",
      "[CV 3/5] END learning_rate=4, n_estimators=100, random_state=<class 'int'>;, score=nan total time=   0.0s\n",
      "[CV 4/5] END learning_rate=4, n_estimators=100, random_state=<class 'int'>;, score=nan total time=   0.0s\n",
      "[CV 5/5] END learning_rate=4, n_estimators=100, random_state=<class 'int'>;, score=nan total time=   0.0s\n",
      "[CV 1/5] END learning_rate=4, n_estimators=100, random_state=None;, score=0.925 total time=   0.2s\n",
      "[CV 2/5] END learning_rate=4, n_estimators=100, random_state=None;, score=0.739 total time=   0.2s\n",
      "[CV 3/5] END learning_rate=4, n_estimators=100, random_state=None;, score=0.896 total time=   0.2s\n",
      "[CV 4/5] END learning_rate=4, n_estimators=100, random_state=None;, score=0.940 total time=   0.2s\n",
      "[CV 5/5] END learning_rate=4, n_estimators=100, random_state=None;, score=0.933 total time=   0.2s\n",
      "[CV 1/5] END learning_rate=4, n_estimators=150, random_state=<class 'int'>;, score=nan total time=   0.0s\n",
      "[CV 2/5] END learning_rate=4, n_estimators=150, random_state=<class 'int'>;, score=nan total time=   0.0s\n",
      "[CV 3/5] END learning_rate=4, n_estimators=150, random_state=<class 'int'>;, score=nan total time=   0.0s\n",
      "[CV 4/5] END learning_rate=4, n_estimators=150, random_state=<class 'int'>;, score=nan total time=   0.0s\n",
      "[CV 5/5] END learning_rate=4, n_estimators=150, random_state=<class 'int'>;, score=nan total time=   0.0s\n",
      "[CV 1/5] END learning_rate=4, n_estimators=150, random_state=None;, score=0.888 total time=   0.3s\n",
      "[CV 2/5] END learning_rate=4, n_estimators=150, random_state=None;, score=0.739 total time=   0.3s\n",
      "[CV 3/5] END learning_rate=4, n_estimators=150, random_state=None;, score=0.896 total time=   0.3s\n",
      "[CV 4/5] END learning_rate=4, n_estimators=150, random_state=None;, score=0.940 total time=   0.3s\n",
      "[CV 5/5] END learning_rate=4, n_estimators=150, random_state=None;, score=0.933 total time=   0.3s\n",
      "[CV 1/5] END learning_rate=5, n_estimators=10, random_state=<class 'int'>;, score=nan total time=   0.0s\n",
      "[CV 2/5] END learning_rate=5, n_estimators=10, random_state=<class 'int'>;, score=nan total time=   0.0s\n",
      "[CV 3/5] END learning_rate=5, n_estimators=10, random_state=<class 'int'>;, score=nan total time=   0.0s\n",
      "[CV 4/5] END learning_rate=5, n_estimators=10, random_state=<class 'int'>;, score=nan total time=   0.0s\n",
      "[CV 5/5] END learning_rate=5, n_estimators=10, random_state=<class 'int'>;, score=nan total time=   0.0s\n",
      "[CV 1/5] END learning_rate=5, n_estimators=10, random_state=None;, score=0.604 total time=   0.0s\n",
      "[CV 2/5] END learning_rate=5, n_estimators=10, random_state=None;, score=0.739 total time=   0.0s\n",
      "[CV 3/5] END learning_rate=5, n_estimators=10, random_state=None;, score=0.657 total time=   0.0s\n",
      "[CV 4/5] END learning_rate=5, n_estimators=10, random_state=None;, score=0.515 total time=   0.0s\n",
      "[CV 5/5] END learning_rate=5, n_estimators=10, random_state=None;, score=0.522 total time=   0.0s\n",
      "[CV 1/5] END learning_rate=5, n_estimators=50, random_state=<class 'int'>;, score=nan total time=   0.0s\n",
      "[CV 2/5] END learning_rate=5, n_estimators=50, random_state=<class 'int'>;, score=nan total time=   0.0s\n",
      "[CV 3/5] END learning_rate=5, n_estimators=50, random_state=<class 'int'>;, score=nan total time=   0.0s\n",
      "[CV 4/5] END learning_rate=5, n_estimators=50, random_state=<class 'int'>;, score=nan total time=   0.0s\n",
      "[CV 5/5] END learning_rate=5, n_estimators=50, random_state=<class 'int'>;, score=nan total time=   0.0s\n",
      "[CV 1/5] END learning_rate=5, n_estimators=50, random_state=None;, score=0.925 total time=   0.1s\n",
      "[CV 2/5] END learning_rate=5, n_estimators=50, random_state=None;, score=0.739 total time=   0.1s\n",
      "[CV 3/5] END learning_rate=5, n_estimators=50, random_state=None;, score=0.955 total time=   0.1s\n",
      "[CV 4/5] END learning_rate=5, n_estimators=50, random_state=None;, score=0.970 total time=   0.1s\n",
      "[CV 5/5] END learning_rate=5, n_estimators=50, random_state=None;, score=0.940 total time=   0.1s\n",
      "[CV 1/5] END learning_rate=5, n_estimators=100, random_state=<class 'int'>;, score=nan total time=   0.0s\n",
      "[CV 2/5] END learning_rate=5, n_estimators=100, random_state=<class 'int'>;, score=nan total time=   0.0s\n",
      "[CV 3/5] END learning_rate=5, n_estimators=100, random_state=<class 'int'>;, score=nan total time=   0.0s\n",
      "[CV 4/5] END learning_rate=5, n_estimators=100, random_state=<class 'int'>;, score=nan total time=   0.0s\n",
      "[CV 5/5] END learning_rate=5, n_estimators=100, random_state=<class 'int'>;, score=nan total time=   0.0s\n",
      "[CV 1/5] END learning_rate=5, n_estimators=100, random_state=None;, score=0.888 total time=   0.2s\n",
      "[CV 2/5] END learning_rate=5, n_estimators=100, random_state=None;, score=0.739 total time=   0.2s\n",
      "[CV 3/5] END learning_rate=5, n_estimators=100, random_state=None;, score=0.851 total time=   0.2s\n",
      "[CV 4/5] END learning_rate=5, n_estimators=100, random_state=None;, score=0.970 total time=   0.2s\n",
      "[CV 5/5] END learning_rate=5, n_estimators=100, random_state=None;, score=0.940 total time=   0.2s\n",
      "[CV 1/5] END learning_rate=5, n_estimators=150, random_state=<class 'int'>;, score=nan total time=   0.0s\n",
      "[CV 2/5] END learning_rate=5, n_estimators=150, random_state=<class 'int'>;, score=nan total time=   0.0s\n",
      "[CV 3/5] END learning_rate=5, n_estimators=150, random_state=<class 'int'>;, score=nan total time=   0.0s\n",
      "[CV 4/5] END learning_rate=5, n_estimators=150, random_state=<class 'int'>;, score=nan total time=   0.0s\n",
      "[CV 5/5] END learning_rate=5, n_estimators=150, random_state=<class 'int'>;, score=nan total time=   0.0s\n",
      "[CV 1/5] END learning_rate=5, n_estimators=150, random_state=None;, score=0.888 total time=   0.3s\n",
      "[CV 2/5] END learning_rate=5, n_estimators=150, random_state=None;, score=0.739 total time=   0.3s\n",
      "[CV 3/5] END learning_rate=5, n_estimators=150, random_state=None;, score=0.851 total time=   0.3s\n",
      "[CV 4/5] END learning_rate=5, n_estimators=150, random_state=None;, score=0.940 total time=   0.3s\n",
      "[CV 5/5] END learning_rate=5, n_estimators=150, random_state=None;, score=0.940 total time=   0.3s\n",
      "[CV 1/5] END learning_rate=7, n_estimators=10, random_state=<class 'int'>;, score=nan total time=   0.0s\n",
      "[CV 2/5] END learning_rate=7, n_estimators=10, random_state=<class 'int'>;, score=nan total time=   0.0s\n",
      "[CV 3/5] END learning_rate=7, n_estimators=10, random_state=<class 'int'>;, score=nan total time=   0.0s\n",
      "[CV 4/5] END learning_rate=7, n_estimators=10, random_state=<class 'int'>;, score=nan total time=   0.0s\n",
      "[CV 5/5] END learning_rate=7, n_estimators=10, random_state=<class 'int'>;, score=nan total time=   0.0s\n",
      "[CV 1/5] END learning_rate=7, n_estimators=10, random_state=None;, score=0.604 total time=   0.0s\n",
      "[CV 2/5] END learning_rate=7, n_estimators=10, random_state=None;, score=0.739 total time=   0.0s\n",
      "[CV 3/5] END learning_rate=7, n_estimators=10, random_state=None;, score=0.657 total time=   0.0s\n",
      "[CV 4/5] END learning_rate=7, n_estimators=10, random_state=None;, score=0.545 total time=   0.0s\n",
      "[CV 5/5] END learning_rate=7, n_estimators=10, random_state=None;, score=0.522 total time=   0.0s\n",
      "[CV 1/5] END learning_rate=7, n_estimators=50, random_state=<class 'int'>;, score=nan total time=   0.0s\n",
      "[CV 2/5] END learning_rate=7, n_estimators=50, random_state=<class 'int'>;, score=nan total time=   0.0s\n",
      "[CV 3/5] END learning_rate=7, n_estimators=50, random_state=<class 'int'>;, score=nan total time=   0.0s\n",
      "[CV 4/5] END learning_rate=7, n_estimators=50, random_state=<class 'int'>;, score=nan total time=   0.0s\n",
      "[CV 5/5] END learning_rate=7, n_estimators=50, random_state=<class 'int'>;, score=nan total time=   0.0s\n",
      "[CV 1/5] END learning_rate=7, n_estimators=50, random_state=None;, score=0.567 total time=   0.1s\n",
      "[CV 2/5] END learning_rate=7, n_estimators=50, random_state=None;, score=0.739 total time=   0.1s\n",
      "[CV 3/5] END learning_rate=7, n_estimators=50, random_state=None;, score=0.552 total time=   0.1s\n",
      "[CV 4/5] END learning_rate=7, n_estimators=50, random_state=None;, score=0.522 total time=   0.1s\n",
      "[CV 5/5] END learning_rate=7, n_estimators=50, random_state=None;, score=0.507 total time=   0.1s\n",
      "[CV 1/5] END learning_rate=7, n_estimators=100, random_state=<class 'int'>;, score=nan total time=   0.0s\n",
      "[CV 2/5] END learning_rate=7, n_estimators=100, random_state=<class 'int'>;, score=nan total time=   0.0s\n",
      "[CV 3/5] END learning_rate=7, n_estimators=100, random_state=<class 'int'>;, score=nan total time=   0.0s\n",
      "[CV 4/5] END learning_rate=7, n_estimators=100, random_state=<class 'int'>;, score=nan total time=   0.0s\n",
      "[CV 5/5] END learning_rate=7, n_estimators=100, random_state=<class 'int'>;, score=nan total time=   0.0s\n",
      "[CV 1/5] END learning_rate=7, n_estimators=100, random_state=None;, score=0.567 total time=   0.2s\n",
      "[CV 2/5] END learning_rate=7, n_estimators=100, random_state=None;, score=0.739 total time=   0.2s\n",
      "[CV 3/5] END learning_rate=7, n_estimators=100, random_state=None;, score=0.851 total time=   0.2s\n",
      "[CV 4/5] END learning_rate=7, n_estimators=100, random_state=None;, score=0.948 total time=   0.2s\n",
      "[CV 5/5] END learning_rate=7, n_estimators=100, random_state=None;, score=0.925 total time=   0.2s\n",
      "[CV 1/5] END learning_rate=7, n_estimators=150, random_state=<class 'int'>;, score=nan total time=   0.0s\n",
      "[CV 2/5] END learning_rate=7, n_estimators=150, random_state=<class 'int'>;, score=nan total time=   0.0s\n",
      "[CV 3/5] END learning_rate=7, n_estimators=150, random_state=<class 'int'>;, score=nan total time=   0.0s\n",
      "[CV 4/5] END learning_rate=7, n_estimators=150, random_state=<class 'int'>;, score=nan total time=   0.0s\n",
      "[CV 5/5] END learning_rate=7, n_estimators=150, random_state=<class 'int'>;, score=nan total time=   0.0s\n",
      "[CV 1/5] END learning_rate=7, n_estimators=150, random_state=None;, score=0.888 total time=   0.3s\n",
      "[CV 2/5] END learning_rate=7, n_estimators=150, random_state=None;, score=0.739 total time=   0.3s\n",
      "[CV 3/5] END learning_rate=7, n_estimators=150, random_state=None;, score=0.851 total time=   0.3s\n",
      "[CV 4/5] END learning_rate=7, n_estimators=150, random_state=None;, score=0.948 total time=   0.3s\n",
      "[CV 5/5] END learning_rate=7, n_estimators=150, random_state=None;, score=0.925 total time=   0.3s\n",
      "[CV 1/5] END learning_rate=6, n_estimators=10, random_state=<class 'int'>;, score=nan total time=   0.0s\n",
      "[CV 2/5] END learning_rate=6, n_estimators=10, random_state=<class 'int'>;, score=nan total time=   0.0s\n",
      "[CV 3/5] END learning_rate=6, n_estimators=10, random_state=<class 'int'>;, score=nan total time=   0.0s\n",
      "[CV 4/5] END learning_rate=6, n_estimators=10, random_state=<class 'int'>;, score=nan total time=   0.0s\n",
      "[CV 5/5] END learning_rate=6, n_estimators=10, random_state=<class 'int'>;, score=nan total time=   0.0s\n",
      "[CV 1/5] END learning_rate=6, n_estimators=10, random_state=None;, score=0.604 total time=   0.0s\n",
      "[CV 2/5] END learning_rate=6, n_estimators=10, random_state=None;, score=0.739 total time=   0.0s\n",
      "[CV 3/5] END learning_rate=6, n_estimators=10, random_state=None;, score=0.657 total time=   0.0s\n",
      "[CV 4/5] END learning_rate=6, n_estimators=10, random_state=None;, score=0.545 total time=   0.0s\n",
      "[CV 5/5] END learning_rate=6, n_estimators=10, random_state=None;, score=0.507 total time=   0.0s\n",
      "[CV 1/5] END learning_rate=6, n_estimators=50, random_state=<class 'int'>;, score=nan total time=   0.0s\n",
      "[CV 2/5] END learning_rate=6, n_estimators=50, random_state=<class 'int'>;, score=nan total time=   0.0s\n",
      "[CV 3/5] END learning_rate=6, n_estimators=50, random_state=<class 'int'>;, score=nan total time=   0.0s\n",
      "[CV 4/5] END learning_rate=6, n_estimators=50, random_state=<class 'int'>;, score=nan total time=   0.0s\n",
      "[CV 5/5] END learning_rate=6, n_estimators=50, random_state=<class 'int'>;, score=nan total time=   0.0s\n",
      "[CV 1/5] END learning_rate=6, n_estimators=50, random_state=None;, score=0.604 total time=   0.1s\n",
      "[CV 2/5] END learning_rate=6, n_estimators=50, random_state=None;, score=0.739 total time=   0.1s\n",
      "[CV 3/5] END learning_rate=6, n_estimators=50, random_state=None;, score=0.657 total time=   0.1s\n",
      "[CV 4/5] END learning_rate=6, n_estimators=50, random_state=None;, score=0.522 total time=   0.1s\n",
      "[CV 5/5] END learning_rate=6, n_estimators=50, random_state=None;, score=0.507 total time=   0.1s\n",
      "[CV 1/5] END learning_rate=6, n_estimators=100, random_state=<class 'int'>;, score=nan total time=   0.0s\n",
      "[CV 2/5] END learning_rate=6, n_estimators=100, random_state=<class 'int'>;, score=nan total time=   0.0s\n",
      "[CV 3/5] END learning_rate=6, n_estimators=100, random_state=<class 'int'>;, score=nan total time=   0.0s\n",
      "[CV 4/5] END learning_rate=6, n_estimators=100, random_state=<class 'int'>;, score=nan total time=   0.0s\n",
      "[CV 5/5] END learning_rate=6, n_estimators=100, random_state=<class 'int'>;, score=nan total time=   0.0s\n",
      "[CV 1/5] END learning_rate=6, n_estimators=100, random_state=None;, score=0.567 total time=   0.2s\n",
      "[CV 2/5] END learning_rate=6, n_estimators=100, random_state=None;, score=0.739 total time=   0.2s\n",
      "[CV 3/5] END learning_rate=6, n_estimators=100, random_state=None;, score=0.851 total time=   0.2s\n",
      "[CV 4/5] END learning_rate=6, n_estimators=100, random_state=None;, score=0.948 total time=   0.2s\n",
      "[CV 5/5] END learning_rate=6, n_estimators=100, random_state=None;, score=0.925 total time=   0.2s\n",
      "[CV 1/5] END learning_rate=6, n_estimators=150, random_state=<class 'int'>;, score=nan total time=   0.0s\n",
      "[CV 2/5] END learning_rate=6, n_estimators=150, random_state=<class 'int'>;, score=nan total time=   0.0s\n",
      "[CV 3/5] END learning_rate=6, n_estimators=150, random_state=<class 'int'>;, score=nan total time=   0.0s\n",
      "[CV 4/5] END learning_rate=6, n_estimators=150, random_state=<class 'int'>;, score=nan total time=   0.0s\n",
      "[CV 5/5] END learning_rate=6, n_estimators=150, random_state=<class 'int'>;, score=nan total time=   0.0s\n",
      "[CV 1/5] END learning_rate=6, n_estimators=150, random_state=None;, score=0.888 total time=   0.3s\n",
      "[CV 2/5] END learning_rate=6, n_estimators=150, random_state=None;, score=0.739 total time=   0.3s\n",
      "[CV 3/5] END learning_rate=6, n_estimators=150, random_state=None;, score=0.851 total time=   0.3s\n",
      "[CV 4/5] END learning_rate=6, n_estimators=150, random_state=None;, score=0.948 total time=   0.3s\n",
      "[CV 5/5] END learning_rate=6, n_estimators=150, random_state=None;, score=0.925 total time=   0.3s\n"
     ]
    },
    {
     "name": "stderr",
     "output_type": "stream",
     "text": [
      "/opt/conda/lib/python3.10/site-packages/sklearn/model_selection/_validation.py:378: FitFailedWarning: \n",
      "140 fits failed out of a total of 280.\n",
      "The score on these train-test partitions for these parameters will be set to nan.\n",
      "If these failures are not expected, you can try to debug them by setting error_score='raise'.\n",
      "\n",
      "Below are more details about the failures:\n",
      "--------------------------------------------------------------------------------\n",
      "140 fits failed with the following error:\n",
      "Traceback (most recent call last):\n",
      "  File \"/opt/conda/lib/python3.10/site-packages/sklearn/model_selection/_validation.py\", line 686, in _fit_and_score\n",
      "    estimator.fit(X_train, y_train, **fit_params)\n",
      "  File \"/opt/conda/lib/python3.10/site-packages/sklearn/ensemble/_weight_boosting.py\", line 124, in fit\n",
      "    self._validate_params()\n",
      "  File \"/opt/conda/lib/python3.10/site-packages/sklearn/base.py\", line 570, in _validate_params\n",
      "    validate_parameter_constraints(\n",
      "  File \"/opt/conda/lib/python3.10/site-packages/sklearn/utils/_param_validation.py\", line 97, in validate_parameter_constraints\n",
      "    raise InvalidParameterError(\n",
      "sklearn.utils._param_validation.InvalidParameterError: The 'random_state' parameter of AdaBoostClassifier must be an int in the range [0, 4294967295], an instance of 'numpy.random.mtrand.RandomState' or None. Got <class 'int'> instead.\n",
      "\n",
      "  warnings.warn(some_fits_failed_message, FitFailedWarning)\n",
      "/opt/conda/lib/python3.10/site-packages/sklearn/model_selection/_search.py:953: UserWarning: One or more of the test scores are non-finite: [       nan 0.94626866        nan 0.94179104        nan 0.94328358\n",
      "        nan 0.94328358        nan 0.10298507        nan 0.79701493\n",
      "        nan 0.77761194        nan 0.71641791        nan 0.44179104\n",
      "        nan 0.77462687        nan 0.90298507        nan 0.89253731\n",
      "        nan 0.60597015        nan 0.89552239        nan 0.88656716\n",
      "        nan 0.87910448        nan 0.60746269        nan 0.90597015\n",
      "        nan 0.87761194        nan 0.87164179        nan 0.61343284\n",
      "        nan 0.57761194        nan 0.80597015        nan 0.87014925\n",
      "        nan 0.61044776        nan 0.60597015        nan 0.80597015\n",
      "        nan 0.87014925]\n",
      "  warnings.warn(\n"
     ]
    },
    {
     "data": {
      "text/html": [
       "<style>#sk-container-id-2 {color: black;background-color: white;}#sk-container-id-2 pre{padding: 0;}#sk-container-id-2 div.sk-toggleable {background-color: white;}#sk-container-id-2 label.sk-toggleable__label {cursor: pointer;display: block;width: 100%;margin-bottom: 0;padding: 0.3em;box-sizing: border-box;text-align: center;}#sk-container-id-2 label.sk-toggleable__label-arrow:before {content: \"▸\";float: left;margin-right: 0.25em;color: #696969;}#sk-container-id-2 label.sk-toggleable__label-arrow:hover:before {color: black;}#sk-container-id-2 div.sk-estimator:hover label.sk-toggleable__label-arrow:before {color: black;}#sk-container-id-2 div.sk-toggleable__content {max-height: 0;max-width: 0;overflow: hidden;text-align: left;background-color: #f0f8ff;}#sk-container-id-2 div.sk-toggleable__content pre {margin: 0.2em;color: black;border-radius: 0.25em;background-color: #f0f8ff;}#sk-container-id-2 input.sk-toggleable__control:checked~div.sk-toggleable__content {max-height: 200px;max-width: 100%;overflow: auto;}#sk-container-id-2 input.sk-toggleable__control:checked~label.sk-toggleable__label-arrow:before {content: \"▾\";}#sk-container-id-2 div.sk-estimator input.sk-toggleable__control:checked~label.sk-toggleable__label {background-color: #d4ebff;}#sk-container-id-2 div.sk-label input.sk-toggleable__control:checked~label.sk-toggleable__label {background-color: #d4ebff;}#sk-container-id-2 input.sk-hidden--visually {border: 0;clip: rect(1px 1px 1px 1px);clip: rect(1px, 1px, 1px, 1px);height: 1px;margin: -1px;overflow: hidden;padding: 0;position: absolute;width: 1px;}#sk-container-id-2 div.sk-estimator {font-family: monospace;background-color: #f0f8ff;border: 1px dotted black;border-radius: 0.25em;box-sizing: border-box;margin-bottom: 0.5em;}#sk-container-id-2 div.sk-estimator:hover {background-color: #d4ebff;}#sk-container-id-2 div.sk-parallel-item::after {content: \"\";width: 100%;border-bottom: 1px solid gray;flex-grow: 1;}#sk-container-id-2 div.sk-label:hover label.sk-toggleable__label {background-color: #d4ebff;}#sk-container-id-2 div.sk-serial::before {content: \"\";position: absolute;border-left: 1px solid gray;box-sizing: border-box;top: 0;bottom: 0;left: 50%;z-index: 0;}#sk-container-id-2 div.sk-serial {display: flex;flex-direction: column;align-items: center;background-color: white;padding-right: 0.2em;padding-left: 0.2em;position: relative;}#sk-container-id-2 div.sk-item {position: relative;z-index: 1;}#sk-container-id-2 div.sk-parallel {display: flex;align-items: stretch;justify-content: center;background-color: white;position: relative;}#sk-container-id-2 div.sk-item::before, #sk-container-id-2 div.sk-parallel-item::before {content: \"\";position: absolute;border-left: 1px solid gray;box-sizing: border-box;top: 0;bottom: 0;left: 50%;z-index: -1;}#sk-container-id-2 div.sk-parallel-item {display: flex;flex-direction: column;z-index: 1;position: relative;background-color: white;}#sk-container-id-2 div.sk-parallel-item:first-child::after {align-self: flex-end;width: 50%;}#sk-container-id-2 div.sk-parallel-item:last-child::after {align-self: flex-start;width: 50%;}#sk-container-id-2 div.sk-parallel-item:only-child::after {width: 0;}#sk-container-id-2 div.sk-dashed-wrapped {border: 1px dashed gray;margin: 0 0.4em 0.5em 0.4em;box-sizing: border-box;padding-bottom: 0.4em;background-color: white;}#sk-container-id-2 div.sk-label label {font-family: monospace;font-weight: bold;display: inline-block;line-height: 1.2em;}#sk-container-id-2 div.sk-label-container {text-align: center;}#sk-container-id-2 div.sk-container {/* jupyter's `normalize.less` sets `[hidden] { display: none; }` but bootstrap.min.css set `[hidden] { display: none !important; }` so we also need the `!important` here to be able to override the default hidden behavior on the sphinx rendered scikit-learn.org. See: https://github.com/scikit-learn/scikit-learn/issues/21755 */display: inline-block !important;position: relative;}#sk-container-id-2 div.sk-text-repr-fallback {display: none;}</style><div id=\"sk-container-id-2\" class=\"sk-top-container\"><div class=\"sk-text-repr-fallback\"><pre>GridSearchCV(cv=5, estimator=AdaBoostClassifier(),\n",
       "             param_grid={&#x27;learning_rate&#x27;: [1, 2, 3, 4, 5, 7, 6],\n",
       "                         &#x27;n_estimators&#x27;: [10, 50, 100, 150],\n",
       "                         &#x27;random_state&#x27;: [&lt;class &#x27;int&#x27;&gt;, None]},\n",
       "             verbose=3)</pre><b>In a Jupyter environment, please rerun this cell to show the HTML representation or trust the notebook. <br />On GitHub, the HTML representation is unable to render, please try loading this page with nbviewer.org.</b></div><div class=\"sk-container\" hidden><div class=\"sk-item sk-dashed-wrapped\"><div class=\"sk-label-container\"><div class=\"sk-label sk-toggleable\"><input class=\"sk-toggleable__control sk-hidden--visually\" id=\"sk-estimator-id-2\" type=\"checkbox\" ><label for=\"sk-estimator-id-2\" class=\"sk-toggleable__label sk-toggleable__label-arrow\">GridSearchCV</label><div class=\"sk-toggleable__content\"><pre>GridSearchCV(cv=5, estimator=AdaBoostClassifier(),\n",
       "             param_grid={&#x27;learning_rate&#x27;: [1, 2, 3, 4, 5, 7, 6],\n",
       "                         &#x27;n_estimators&#x27;: [10, 50, 100, 150],\n",
       "                         &#x27;random_state&#x27;: [&lt;class &#x27;int&#x27;&gt;, None]},\n",
       "             verbose=3)</pre></div></div></div><div class=\"sk-parallel\"><div class=\"sk-parallel-item\"><div class=\"sk-item\"><div class=\"sk-label-container\"><div class=\"sk-label sk-toggleable\"><input class=\"sk-toggleable__control sk-hidden--visually\" id=\"sk-estimator-id-3\" type=\"checkbox\" ><label for=\"sk-estimator-id-3\" class=\"sk-toggleable__label sk-toggleable__label-arrow\">estimator: AdaBoostClassifier</label><div class=\"sk-toggleable__content\"><pre>AdaBoostClassifier()</pre></div></div></div><div class=\"sk-serial\"><div class=\"sk-item\"><div class=\"sk-estimator sk-toggleable\"><input class=\"sk-toggleable__control sk-hidden--visually\" id=\"sk-estimator-id-4\" type=\"checkbox\" ><label for=\"sk-estimator-id-4\" class=\"sk-toggleable__label sk-toggleable__label-arrow\">AdaBoostClassifier</label><div class=\"sk-toggleable__content\"><pre>AdaBoostClassifier()</pre></div></div></div></div></div></div></div></div></div></div>"
      ],
      "text/plain": [
       "GridSearchCV(cv=5, estimator=AdaBoostClassifier(),\n",
       "             param_grid={'learning_rate': [1, 2, 3, 4, 5, 7, 6],\n",
       "                         'n_estimators': [10, 50, 100, 150],\n",
       "                         'random_state': [<class 'int'>, None]},\n",
       "             verbose=3)"
      ]
     },
     "execution_count": 14,
     "metadata": {},
     "output_type": "execute_result"
    }
   ],
   "source": [
    "clg.fit(X_train,y_train)"
   ]
  },
  {
   "cell_type": "code",
   "execution_count": 15,
   "id": "e4c53c27-a529-424f-a13e-9896595ae4f4",
   "metadata": {},
   "outputs": [
    {
     "data": {
      "text/plain": [
       "{'learning_rate': 1, 'n_estimators': 10, 'random_state': None}"
      ]
     },
     "execution_count": 15,
     "metadata": {},
     "output_type": "execute_result"
    }
   ],
   "source": [
    "clg.best_params_"
   ]
  },
  {
   "cell_type": "code",
   "execution_count": 16,
   "id": "303633ad-bd6c-4243-8d37-9dfc963bb93d",
   "metadata": {},
   "outputs": [],
   "source": [
    "classifier1=AdaBoostClassifier(learning_rate=1,n_estimators=10,random_state=None)"
   ]
  },
  {
   "cell_type": "code",
   "execution_count": 19,
   "id": "001c8072-59f6-4e30-b4da-71ff2f7f70f7",
   "metadata": {},
   "outputs": [
    {
     "data": {
      "text/html": [
       "<style>#sk-container-id-3 {color: black;background-color: white;}#sk-container-id-3 pre{padding: 0;}#sk-container-id-3 div.sk-toggleable {background-color: white;}#sk-container-id-3 label.sk-toggleable__label {cursor: pointer;display: block;width: 100%;margin-bottom: 0;padding: 0.3em;box-sizing: border-box;text-align: center;}#sk-container-id-3 label.sk-toggleable__label-arrow:before {content: \"▸\";float: left;margin-right: 0.25em;color: #696969;}#sk-container-id-3 label.sk-toggleable__label-arrow:hover:before {color: black;}#sk-container-id-3 div.sk-estimator:hover label.sk-toggleable__label-arrow:before {color: black;}#sk-container-id-3 div.sk-toggleable__content {max-height: 0;max-width: 0;overflow: hidden;text-align: left;background-color: #f0f8ff;}#sk-container-id-3 div.sk-toggleable__content pre {margin: 0.2em;color: black;border-radius: 0.25em;background-color: #f0f8ff;}#sk-container-id-3 input.sk-toggleable__control:checked~div.sk-toggleable__content {max-height: 200px;max-width: 100%;overflow: auto;}#sk-container-id-3 input.sk-toggleable__control:checked~label.sk-toggleable__label-arrow:before {content: \"▾\";}#sk-container-id-3 div.sk-estimator input.sk-toggleable__control:checked~label.sk-toggleable__label {background-color: #d4ebff;}#sk-container-id-3 div.sk-label input.sk-toggleable__control:checked~label.sk-toggleable__label {background-color: #d4ebff;}#sk-container-id-3 input.sk-hidden--visually {border: 0;clip: rect(1px 1px 1px 1px);clip: rect(1px, 1px, 1px, 1px);height: 1px;margin: -1px;overflow: hidden;padding: 0;position: absolute;width: 1px;}#sk-container-id-3 div.sk-estimator {font-family: monospace;background-color: #f0f8ff;border: 1px dotted black;border-radius: 0.25em;box-sizing: border-box;margin-bottom: 0.5em;}#sk-container-id-3 div.sk-estimator:hover {background-color: #d4ebff;}#sk-container-id-3 div.sk-parallel-item::after {content: \"\";width: 100%;border-bottom: 1px solid gray;flex-grow: 1;}#sk-container-id-3 div.sk-label:hover label.sk-toggleable__label {background-color: #d4ebff;}#sk-container-id-3 div.sk-serial::before {content: \"\";position: absolute;border-left: 1px solid gray;box-sizing: border-box;top: 0;bottom: 0;left: 50%;z-index: 0;}#sk-container-id-3 div.sk-serial {display: flex;flex-direction: column;align-items: center;background-color: white;padding-right: 0.2em;padding-left: 0.2em;position: relative;}#sk-container-id-3 div.sk-item {position: relative;z-index: 1;}#sk-container-id-3 div.sk-parallel {display: flex;align-items: stretch;justify-content: center;background-color: white;position: relative;}#sk-container-id-3 div.sk-item::before, #sk-container-id-3 div.sk-parallel-item::before {content: \"\";position: absolute;border-left: 1px solid gray;box-sizing: border-box;top: 0;bottom: 0;left: 50%;z-index: -1;}#sk-container-id-3 div.sk-parallel-item {display: flex;flex-direction: column;z-index: 1;position: relative;background-color: white;}#sk-container-id-3 div.sk-parallel-item:first-child::after {align-self: flex-end;width: 50%;}#sk-container-id-3 div.sk-parallel-item:last-child::after {align-self: flex-start;width: 50%;}#sk-container-id-3 div.sk-parallel-item:only-child::after {width: 0;}#sk-container-id-3 div.sk-dashed-wrapped {border: 1px dashed gray;margin: 0 0.4em 0.5em 0.4em;box-sizing: border-box;padding-bottom: 0.4em;background-color: white;}#sk-container-id-3 div.sk-label label {font-family: monospace;font-weight: bold;display: inline-block;line-height: 1.2em;}#sk-container-id-3 div.sk-label-container {text-align: center;}#sk-container-id-3 div.sk-container {/* jupyter's `normalize.less` sets `[hidden] { display: none; }` but bootstrap.min.css set `[hidden] { display: none !important; }` so we also need the `!important` here to be able to override the default hidden behavior on the sphinx rendered scikit-learn.org. See: https://github.com/scikit-learn/scikit-learn/issues/21755 */display: inline-block !important;position: relative;}#sk-container-id-3 div.sk-text-repr-fallback {display: none;}</style><div id=\"sk-container-id-3\" class=\"sk-top-container\"><div class=\"sk-text-repr-fallback\"><pre>AdaBoostClassifier(learning_rate=1, n_estimators=10)</pre><b>In a Jupyter environment, please rerun this cell to show the HTML representation or trust the notebook. <br />On GitHub, the HTML representation is unable to render, please try loading this page with nbviewer.org.</b></div><div class=\"sk-container\" hidden><div class=\"sk-item\"><div class=\"sk-estimator sk-toggleable\"><input class=\"sk-toggleable__control sk-hidden--visually\" id=\"sk-estimator-id-5\" type=\"checkbox\" checked><label for=\"sk-estimator-id-5\" class=\"sk-toggleable__label sk-toggleable__label-arrow\">AdaBoostClassifier</label><div class=\"sk-toggleable__content\"><pre>AdaBoostClassifier(learning_rate=1, n_estimators=10)</pre></div></div></div></div></div>"
      ],
      "text/plain": [
       "AdaBoostClassifier(learning_rate=1, n_estimators=10)"
      ]
     },
     "execution_count": 19,
     "metadata": {},
     "output_type": "execute_result"
    }
   ],
   "source": [
    "classifier1.fit(X_train,y_train)"
   ]
  },
  {
   "cell_type": "code",
   "execution_count": 20,
   "id": "dd903f8c-65cd-422c-bf58-12543babb9aa",
   "metadata": {},
   "outputs": [],
   "source": [
    "y_pred_Ada=classifier1.predict(X_test)"
   ]
  },
  {
   "cell_type": "code",
   "execution_count": 21,
   "id": "fa08ca81-4c8b-44e7-ac95-1c6e5aef4457",
   "metadata": {},
   "outputs": [
    {
     "name": "stdout",
     "output_type": "stream",
     "text": [
      "[[154  12]\n",
      " [ 14 150]]\n",
      "0.9212121212121213\n",
      "              precision    recall  f1-score   support\n",
      "\n",
      "           0       0.92      0.93      0.92       166\n",
      "           1       0.93      0.91      0.92       164\n",
      "\n",
      "    accuracy                           0.92       330\n",
      "   macro avg       0.92      0.92      0.92       330\n",
      "weighted avg       0.92      0.92      0.92       330\n",
      "\n"
     ]
    }
   ],
   "source": [
    "print(confusion_matrix(y_test,y_pred_Ada))\n",
    "print(accuracy_score(y_test,y_pred_Ada))\n",
    "print(classification_report(y_test,y_pred_Ada))"
   ]
  },
  {
   "cell_type": "code",
   "execution_count": 22,
   "id": "803f6db3-68e7-42cd-a59a-57c9150d3136",
   "metadata": {},
   "outputs": [],
   "source": [
    "classifier2=GradientBoostingClassifier()"
   ]
  },
  {
   "cell_type": "code",
   "execution_count": 23,
   "id": "4402719b-57f7-4f84-bc3a-7851cda421c0",
   "metadata": {},
   "outputs": [
    {
     "data": {
      "text/html": [
       "<style>#sk-container-id-4 {color: black;background-color: white;}#sk-container-id-4 pre{padding: 0;}#sk-container-id-4 div.sk-toggleable {background-color: white;}#sk-container-id-4 label.sk-toggleable__label {cursor: pointer;display: block;width: 100%;margin-bottom: 0;padding: 0.3em;box-sizing: border-box;text-align: center;}#sk-container-id-4 label.sk-toggleable__label-arrow:before {content: \"▸\";float: left;margin-right: 0.25em;color: #696969;}#sk-container-id-4 label.sk-toggleable__label-arrow:hover:before {color: black;}#sk-container-id-4 div.sk-estimator:hover label.sk-toggleable__label-arrow:before {color: black;}#sk-container-id-4 div.sk-toggleable__content {max-height: 0;max-width: 0;overflow: hidden;text-align: left;background-color: #f0f8ff;}#sk-container-id-4 div.sk-toggleable__content pre {margin: 0.2em;color: black;border-radius: 0.25em;background-color: #f0f8ff;}#sk-container-id-4 input.sk-toggleable__control:checked~div.sk-toggleable__content {max-height: 200px;max-width: 100%;overflow: auto;}#sk-container-id-4 input.sk-toggleable__control:checked~label.sk-toggleable__label-arrow:before {content: \"▾\";}#sk-container-id-4 div.sk-estimator input.sk-toggleable__control:checked~label.sk-toggleable__label {background-color: #d4ebff;}#sk-container-id-4 div.sk-label input.sk-toggleable__control:checked~label.sk-toggleable__label {background-color: #d4ebff;}#sk-container-id-4 input.sk-hidden--visually {border: 0;clip: rect(1px 1px 1px 1px);clip: rect(1px, 1px, 1px, 1px);height: 1px;margin: -1px;overflow: hidden;padding: 0;position: absolute;width: 1px;}#sk-container-id-4 div.sk-estimator {font-family: monospace;background-color: #f0f8ff;border: 1px dotted black;border-radius: 0.25em;box-sizing: border-box;margin-bottom: 0.5em;}#sk-container-id-4 div.sk-estimator:hover {background-color: #d4ebff;}#sk-container-id-4 div.sk-parallel-item::after {content: \"\";width: 100%;border-bottom: 1px solid gray;flex-grow: 1;}#sk-container-id-4 div.sk-label:hover label.sk-toggleable__label {background-color: #d4ebff;}#sk-container-id-4 div.sk-serial::before {content: \"\";position: absolute;border-left: 1px solid gray;box-sizing: border-box;top: 0;bottom: 0;left: 50%;z-index: 0;}#sk-container-id-4 div.sk-serial {display: flex;flex-direction: column;align-items: center;background-color: white;padding-right: 0.2em;padding-left: 0.2em;position: relative;}#sk-container-id-4 div.sk-item {position: relative;z-index: 1;}#sk-container-id-4 div.sk-parallel {display: flex;align-items: stretch;justify-content: center;background-color: white;position: relative;}#sk-container-id-4 div.sk-item::before, #sk-container-id-4 div.sk-parallel-item::before {content: \"\";position: absolute;border-left: 1px solid gray;box-sizing: border-box;top: 0;bottom: 0;left: 50%;z-index: -1;}#sk-container-id-4 div.sk-parallel-item {display: flex;flex-direction: column;z-index: 1;position: relative;background-color: white;}#sk-container-id-4 div.sk-parallel-item:first-child::after {align-self: flex-end;width: 50%;}#sk-container-id-4 div.sk-parallel-item:last-child::after {align-self: flex-start;width: 50%;}#sk-container-id-4 div.sk-parallel-item:only-child::after {width: 0;}#sk-container-id-4 div.sk-dashed-wrapped {border: 1px dashed gray;margin: 0 0.4em 0.5em 0.4em;box-sizing: border-box;padding-bottom: 0.4em;background-color: white;}#sk-container-id-4 div.sk-label label {font-family: monospace;font-weight: bold;display: inline-block;line-height: 1.2em;}#sk-container-id-4 div.sk-label-container {text-align: center;}#sk-container-id-4 div.sk-container {/* jupyter's `normalize.less` sets `[hidden] { display: none; }` but bootstrap.min.css set `[hidden] { display: none !important; }` so we also need the `!important` here to be able to override the default hidden behavior on the sphinx rendered scikit-learn.org. See: https://github.com/scikit-learn/scikit-learn/issues/21755 */display: inline-block !important;position: relative;}#sk-container-id-4 div.sk-text-repr-fallback {display: none;}</style><div id=\"sk-container-id-4\" class=\"sk-top-container\"><div class=\"sk-text-repr-fallback\"><pre>GradientBoostingClassifier()</pre><b>In a Jupyter environment, please rerun this cell to show the HTML representation or trust the notebook. <br />On GitHub, the HTML representation is unable to render, please try loading this page with nbviewer.org.</b></div><div class=\"sk-container\" hidden><div class=\"sk-item\"><div class=\"sk-estimator sk-toggleable\"><input class=\"sk-toggleable__control sk-hidden--visually\" id=\"sk-estimator-id-6\" type=\"checkbox\" checked><label for=\"sk-estimator-id-6\" class=\"sk-toggleable__label sk-toggleable__label-arrow\">GradientBoostingClassifier</label><div class=\"sk-toggleable__content\"><pre>GradientBoostingClassifier()</pre></div></div></div></div></div>"
      ],
      "text/plain": [
       "GradientBoostingClassifier()"
      ]
     },
     "execution_count": 23,
     "metadata": {},
     "output_type": "execute_result"
    }
   ],
   "source": [
    "classifier2.fit(X_train,y_train)"
   ]
  },
  {
   "cell_type": "code",
   "execution_count": 25,
   "id": "4ba66601-db5f-4c71-ab1d-515fd94fda40",
   "metadata": {},
   "outputs": [
    {
     "name": "stdout",
     "output_type": "stream",
     "text": [
      "[[153  13]\n",
      " [  7 157]]\n",
      "0.9393939393939394\n",
      "              precision    recall  f1-score   support\n",
      "\n",
      "           0       0.96      0.92      0.94       166\n",
      "           1       0.92      0.96      0.94       164\n",
      "\n",
      "    accuracy                           0.94       330\n",
      "   macro avg       0.94      0.94      0.94       330\n",
      "weighted avg       0.94      0.94      0.94       330\n",
      "\n"
     ]
    }
   ],
   "source": [
    "y_pred2=classifier2.predict(X_test)\n",
    "print(confusion_matrix(y_test,y_pred2))\n",
    "print(accuracy_score(y_test,y_pred2))\n",
    "print(classification_report(y_test,y_pred2))"
   ]
  },
  {
   "cell_type": "code",
   "execution_count": 26,
   "id": "296f54c9-1937-4c4d-9b75-924bf5464e50",
   "metadata": {},
   "outputs": [],
   "source": [
    "from sklearn.model_selection import RandomizedSearchCV"
   ]
  },
  {
   "cell_type": "code",
   "execution_count": 33,
   "id": "e15cb874-34c2-4bae-9e4b-ed5c4229a067",
   "metadata": {},
   "outputs": [],
   "source": [
    "parameters={\n",
    "    'n_estimators':[10,50,100,150],\n",
    "    'learning_rate':[1,2,3,4,5,7,6],\n",
    "    'random_state':[int,None]\n",
    "}"
   ]
  },
  {
   "cell_type": "code",
   "execution_count": 38,
   "id": "873332d1-d4ea-41a2-9bfc-32e34bb88480",
   "metadata": {},
   "outputs": [
    {
     "data": {
      "text/html": [
       "<style>#sk-container-id-5 {color: black;background-color: white;}#sk-container-id-5 pre{padding: 0;}#sk-container-id-5 div.sk-toggleable {background-color: white;}#sk-container-id-5 label.sk-toggleable__label {cursor: pointer;display: block;width: 100%;margin-bottom: 0;padding: 0.3em;box-sizing: border-box;text-align: center;}#sk-container-id-5 label.sk-toggleable__label-arrow:before {content: \"▸\";float: left;margin-right: 0.25em;color: #696969;}#sk-container-id-5 label.sk-toggleable__label-arrow:hover:before {color: black;}#sk-container-id-5 div.sk-estimator:hover label.sk-toggleable__label-arrow:before {color: black;}#sk-container-id-5 div.sk-toggleable__content {max-height: 0;max-width: 0;overflow: hidden;text-align: left;background-color: #f0f8ff;}#sk-container-id-5 div.sk-toggleable__content pre {margin: 0.2em;color: black;border-radius: 0.25em;background-color: #f0f8ff;}#sk-container-id-5 input.sk-toggleable__control:checked~div.sk-toggleable__content {max-height: 200px;max-width: 100%;overflow: auto;}#sk-container-id-5 input.sk-toggleable__control:checked~label.sk-toggleable__label-arrow:before {content: \"▾\";}#sk-container-id-5 div.sk-estimator input.sk-toggleable__control:checked~label.sk-toggleable__label {background-color: #d4ebff;}#sk-container-id-5 div.sk-label input.sk-toggleable__control:checked~label.sk-toggleable__label {background-color: #d4ebff;}#sk-container-id-5 input.sk-hidden--visually {border: 0;clip: rect(1px 1px 1px 1px);clip: rect(1px, 1px, 1px, 1px);height: 1px;margin: -1px;overflow: hidden;padding: 0;position: absolute;width: 1px;}#sk-container-id-5 div.sk-estimator {font-family: monospace;background-color: #f0f8ff;border: 1px dotted black;border-radius: 0.25em;box-sizing: border-box;margin-bottom: 0.5em;}#sk-container-id-5 div.sk-estimator:hover {background-color: #d4ebff;}#sk-container-id-5 div.sk-parallel-item::after {content: \"\";width: 100%;border-bottom: 1px solid gray;flex-grow: 1;}#sk-container-id-5 div.sk-label:hover label.sk-toggleable__label {background-color: #d4ebff;}#sk-container-id-5 div.sk-serial::before {content: \"\";position: absolute;border-left: 1px solid gray;box-sizing: border-box;top: 0;bottom: 0;left: 50%;z-index: 0;}#sk-container-id-5 div.sk-serial {display: flex;flex-direction: column;align-items: center;background-color: white;padding-right: 0.2em;padding-left: 0.2em;position: relative;}#sk-container-id-5 div.sk-item {position: relative;z-index: 1;}#sk-container-id-5 div.sk-parallel {display: flex;align-items: stretch;justify-content: center;background-color: white;position: relative;}#sk-container-id-5 div.sk-item::before, #sk-container-id-5 div.sk-parallel-item::before {content: \"\";position: absolute;border-left: 1px solid gray;box-sizing: border-box;top: 0;bottom: 0;left: 50%;z-index: -1;}#sk-container-id-5 div.sk-parallel-item {display: flex;flex-direction: column;z-index: 1;position: relative;background-color: white;}#sk-container-id-5 div.sk-parallel-item:first-child::after {align-self: flex-end;width: 50%;}#sk-container-id-5 div.sk-parallel-item:last-child::after {align-self: flex-start;width: 50%;}#sk-container-id-5 div.sk-parallel-item:only-child::after {width: 0;}#sk-container-id-5 div.sk-dashed-wrapped {border: 1px dashed gray;margin: 0 0.4em 0.5em 0.4em;box-sizing: border-box;padding-bottom: 0.4em;background-color: white;}#sk-container-id-5 div.sk-label label {font-family: monospace;font-weight: bold;display: inline-block;line-height: 1.2em;}#sk-container-id-5 div.sk-label-container {text-align: center;}#sk-container-id-5 div.sk-container {/* jupyter's `normalize.less` sets `[hidden] { display: none; }` but bootstrap.min.css set `[hidden] { display: none !important; }` so we also need the `!important` here to be able to override the default hidden behavior on the sphinx rendered scikit-learn.org. See: https://github.com/scikit-learn/scikit-learn/issues/21755 */display: inline-block !important;position: relative;}#sk-container-id-5 div.sk-text-repr-fallback {display: none;}</style><div id=\"sk-container-id-5\" class=\"sk-top-container\"><div class=\"sk-text-repr-fallback\"><pre>XGBClassifier(base_score=None, booster=None, callbacks=None,\n",
       "              colsample_bylevel=None, colsample_bynode=None,\n",
       "              colsample_bytree=None, early_stopping_rounds=None,\n",
       "              enable_categorical=False, eval_metric=None, feature_types=None,\n",
       "              gamma=None, gpu_id=None, grow_policy=None, importance_type=None,\n",
       "              interaction_constraints=None, learning_rate=None, max_bin=None,\n",
       "              max_cat_threshold=None, max_cat_to_onehot=None,\n",
       "              max_delta_step=None, max_depth=None, max_leaves=None,\n",
       "              min_child_weight=None, missing=nan, monotone_constraints=None,\n",
       "              n_estimators=100, n_jobs=None, num_parallel_tree=None,\n",
       "              predictor=None, random_state=None, ...)</pre><b>In a Jupyter environment, please rerun this cell to show the HTML representation or trust the notebook. <br />On GitHub, the HTML representation is unable to render, please try loading this page with nbviewer.org.</b></div><div class=\"sk-container\" hidden><div class=\"sk-item\"><div class=\"sk-estimator sk-toggleable\"><input class=\"sk-toggleable__control sk-hidden--visually\" id=\"sk-estimator-id-7\" type=\"checkbox\" checked><label for=\"sk-estimator-id-7\" class=\"sk-toggleable__label sk-toggleable__label-arrow\">XGBClassifier</label><div class=\"sk-toggleable__content\"><pre>XGBClassifier(base_score=None, booster=None, callbacks=None,\n",
       "              colsample_bylevel=None, colsample_bynode=None,\n",
       "              colsample_bytree=None, early_stopping_rounds=None,\n",
       "              enable_categorical=False, eval_metric=None, feature_types=None,\n",
       "              gamma=None, gpu_id=None, grow_policy=None, importance_type=None,\n",
       "              interaction_constraints=None, learning_rate=None, max_bin=None,\n",
       "              max_cat_threshold=None, max_cat_to_onehot=None,\n",
       "              max_delta_step=None, max_depth=None, max_leaves=None,\n",
       "              min_child_weight=None, missing=nan, monotone_constraints=None,\n",
       "              n_estimators=100, n_jobs=None, num_parallel_tree=None,\n",
       "              predictor=None, random_state=None, ...)</pre></div></div></div></div></div>"
      ],
      "text/plain": [
       "XGBClassifier(base_score=None, booster=None, callbacks=None,\n",
       "              colsample_bylevel=None, colsample_bynode=None,\n",
       "              colsample_bytree=None, early_stopping_rounds=None,\n",
       "              enable_categorical=False, eval_metric=None, feature_types=None,\n",
       "              gamma=None, gpu_id=None, grow_policy=None, importance_type=None,\n",
       "              interaction_constraints=None, learning_rate=None, max_bin=None,\n",
       "              max_cat_threshold=None, max_cat_to_onehot=None,\n",
       "              max_delta_step=None, max_depth=None, max_leaves=None,\n",
       "              min_child_weight=None, missing=nan, monotone_constraints=None,\n",
       "              n_estimators=100, n_jobs=None, num_parallel_tree=None,\n",
       "              predictor=None, random_state=None, ...)"
      ]
     },
     "execution_count": 38,
     "metadata": {},
     "output_type": "execute_result"
    }
   ],
   "source": [
    "classifier3=xb.XGBClassifier()\n",
    "classifier3.fit(X_train,y_train)"
   ]
  },
  {
   "cell_type": "code",
   "execution_count": 39,
   "id": "c55deda5-2e63-4b15-a753-87ef6ffd25d4",
   "metadata": {},
   "outputs": [
    {
     "name": "stdout",
     "output_type": "stream",
     "text": [
      "[[155  11]\n",
      " [ 11 153]]\n",
      "0.9333333333333333\n",
      "              precision    recall  f1-score   support\n",
      "\n",
      "           0       0.93      0.93      0.93       166\n",
      "           1       0.93      0.93      0.93       164\n",
      "\n",
      "    accuracy                           0.93       330\n",
      "   macro avg       0.93      0.93      0.93       330\n",
      "weighted avg       0.93      0.93      0.93       330\n",
      "\n"
     ]
    }
   ],
   "source": [
    "y_pred3=classifier3.predict(X_test)\n",
    "print(confusion_matrix(y_test,y_pred3))\n",
    "print(accuracy_score(y_test,y_pred3))\n",
    "print(classification_report(y_test,y_pred3))"
   ]
  },
  {
   "cell_type": "code",
   "execution_count": null,
   "id": "fbbf24a6-1e26-4689-a5f5-45f70a4eb661",
   "metadata": {},
   "outputs": [],
   "source": []
  },
  {
   "cell_type": "markdown",
   "id": "ba293c24-ab10-4d3d-828a-ddd276474db6",
   "metadata": {},
   "source": [
    "# Regression Task"
   ]
  },
  {
   "cell_type": "code",
   "execution_count": 40,
   "id": "995d693f-5004-41cb-a72c-edd413f4a4c0",
   "metadata": {},
   "outputs": [],
   "source": [
    "from sklearn.datasets import make_classification\n",
    "X,y=make_classification(n_samples=1000,n_features=4,n_informative=2,random_state=0,shuffle=False)"
   ]
  },
  {
   "cell_type": "code",
   "execution_count": 41,
   "id": "d2dc5658-3e52-4ff3-a3e9-455bc016aeab",
   "metadata": {},
   "outputs": [],
   "source": [
    "from sklearn.model_selection import train_test_split\n",
    "X_train,X_test,y_train,y_test=train_test_split(X,y,test_size=0.33,random_state=42)"
   ]
  },
  {
   "cell_type": "code",
   "execution_count": 44,
   "id": "e11689cd-2d86-46de-8682-3ea75f08e6ae",
   "metadata": {},
   "outputs": [],
   "source": [
    "from sklearn.ensemble import AdaBoostRegressor\n",
    "from sklearn.ensemble import GradientBoostingRegressor\n",
    "import xgboost as xb\n"
   ]
  },
  {
   "cell_type": "code",
   "execution_count": 46,
   "id": "8c4a2a5f-40f5-4e90-95e9-b7374d9ac575",
   "metadata": {},
   "outputs": [
    {
     "data": {
      "text/html": [
       "<style>#sk-container-id-7 {color: black;background-color: white;}#sk-container-id-7 pre{padding: 0;}#sk-container-id-7 div.sk-toggleable {background-color: white;}#sk-container-id-7 label.sk-toggleable__label {cursor: pointer;display: block;width: 100%;margin-bottom: 0;padding: 0.3em;box-sizing: border-box;text-align: center;}#sk-container-id-7 label.sk-toggleable__label-arrow:before {content: \"▸\";float: left;margin-right: 0.25em;color: #696969;}#sk-container-id-7 label.sk-toggleable__label-arrow:hover:before {color: black;}#sk-container-id-7 div.sk-estimator:hover label.sk-toggleable__label-arrow:before {color: black;}#sk-container-id-7 div.sk-toggleable__content {max-height: 0;max-width: 0;overflow: hidden;text-align: left;background-color: #f0f8ff;}#sk-container-id-7 div.sk-toggleable__content pre {margin: 0.2em;color: black;border-radius: 0.25em;background-color: #f0f8ff;}#sk-container-id-7 input.sk-toggleable__control:checked~div.sk-toggleable__content {max-height: 200px;max-width: 100%;overflow: auto;}#sk-container-id-7 input.sk-toggleable__control:checked~label.sk-toggleable__label-arrow:before {content: \"▾\";}#sk-container-id-7 div.sk-estimator input.sk-toggleable__control:checked~label.sk-toggleable__label {background-color: #d4ebff;}#sk-container-id-7 div.sk-label input.sk-toggleable__control:checked~label.sk-toggleable__label {background-color: #d4ebff;}#sk-container-id-7 input.sk-hidden--visually {border: 0;clip: rect(1px 1px 1px 1px);clip: rect(1px, 1px, 1px, 1px);height: 1px;margin: -1px;overflow: hidden;padding: 0;position: absolute;width: 1px;}#sk-container-id-7 div.sk-estimator {font-family: monospace;background-color: #f0f8ff;border: 1px dotted black;border-radius: 0.25em;box-sizing: border-box;margin-bottom: 0.5em;}#sk-container-id-7 div.sk-estimator:hover {background-color: #d4ebff;}#sk-container-id-7 div.sk-parallel-item::after {content: \"\";width: 100%;border-bottom: 1px solid gray;flex-grow: 1;}#sk-container-id-7 div.sk-label:hover label.sk-toggleable__label {background-color: #d4ebff;}#sk-container-id-7 div.sk-serial::before {content: \"\";position: absolute;border-left: 1px solid gray;box-sizing: border-box;top: 0;bottom: 0;left: 50%;z-index: 0;}#sk-container-id-7 div.sk-serial {display: flex;flex-direction: column;align-items: center;background-color: white;padding-right: 0.2em;padding-left: 0.2em;position: relative;}#sk-container-id-7 div.sk-item {position: relative;z-index: 1;}#sk-container-id-7 div.sk-parallel {display: flex;align-items: stretch;justify-content: center;background-color: white;position: relative;}#sk-container-id-7 div.sk-item::before, #sk-container-id-7 div.sk-parallel-item::before {content: \"\";position: absolute;border-left: 1px solid gray;box-sizing: border-box;top: 0;bottom: 0;left: 50%;z-index: -1;}#sk-container-id-7 div.sk-parallel-item {display: flex;flex-direction: column;z-index: 1;position: relative;background-color: white;}#sk-container-id-7 div.sk-parallel-item:first-child::after {align-self: flex-end;width: 50%;}#sk-container-id-7 div.sk-parallel-item:last-child::after {align-self: flex-start;width: 50%;}#sk-container-id-7 div.sk-parallel-item:only-child::after {width: 0;}#sk-container-id-7 div.sk-dashed-wrapped {border: 1px dashed gray;margin: 0 0.4em 0.5em 0.4em;box-sizing: border-box;padding-bottom: 0.4em;background-color: white;}#sk-container-id-7 div.sk-label label {font-family: monospace;font-weight: bold;display: inline-block;line-height: 1.2em;}#sk-container-id-7 div.sk-label-container {text-align: center;}#sk-container-id-7 div.sk-container {/* jupyter's `normalize.less` sets `[hidden] { display: none; }` but bootstrap.min.css set `[hidden] { display: none !important; }` so we also need the `!important` here to be able to override the default hidden behavior on the sphinx rendered scikit-learn.org. See: https://github.com/scikit-learn/scikit-learn/issues/21755 */display: inline-block !important;position: relative;}#sk-container-id-7 div.sk-text-repr-fallback {display: none;}</style><div id=\"sk-container-id-7\" class=\"sk-top-container\"><div class=\"sk-text-repr-fallback\"><pre>AdaBoostRegressor()</pre><b>In a Jupyter environment, please rerun this cell to show the HTML representation or trust the notebook. <br />On GitHub, the HTML representation is unable to render, please try loading this page with nbviewer.org.</b></div><div class=\"sk-container\" hidden><div class=\"sk-item\"><div class=\"sk-estimator sk-toggleable\"><input class=\"sk-toggleable__control sk-hidden--visually\" id=\"sk-estimator-id-9\" type=\"checkbox\" checked><label for=\"sk-estimator-id-9\" class=\"sk-toggleable__label sk-toggleable__label-arrow\">AdaBoostRegressor</label><div class=\"sk-toggleable__content\"><pre>AdaBoostRegressor()</pre></div></div></div></div></div>"
      ],
      "text/plain": [
       "AdaBoostRegressor()"
      ]
     },
     "execution_count": 46,
     "metadata": {},
     "output_type": "execute_result"
    }
   ],
   "source": [
    "regressor1=AdaBoostRegressor()\n",
    "regressor1.fit(X_train,y_train)"
   ]
  },
  {
   "cell_type": "code",
   "execution_count": 51,
   "id": "7ff529da-3365-40b7-a16b-0fc59e8231c6",
   "metadata": {},
   "outputs": [
    {
     "name": "stdout",
     "output_type": "stream",
     "text": [
      "0.799392585372614\n"
     ]
    }
   ],
   "source": [
    "y_pred4=regressor1.predict(X_test)\n",
    "from sklearn.metrics import r2_score\n",
    "print(r2_score(y_test,y_pred4))\n"
   ]
  },
  {
   "cell_type": "code",
   "execution_count": 52,
   "id": "332496ee-68c0-43d0-a0ca-b70bd5ffa485",
   "metadata": {},
   "outputs": [
    {
     "data": {
      "text/html": [
       "<style>#sk-container-id-8 {color: black;background-color: white;}#sk-container-id-8 pre{padding: 0;}#sk-container-id-8 div.sk-toggleable {background-color: white;}#sk-container-id-8 label.sk-toggleable__label {cursor: pointer;display: block;width: 100%;margin-bottom: 0;padding: 0.3em;box-sizing: border-box;text-align: center;}#sk-container-id-8 label.sk-toggleable__label-arrow:before {content: \"▸\";float: left;margin-right: 0.25em;color: #696969;}#sk-container-id-8 label.sk-toggleable__label-arrow:hover:before {color: black;}#sk-container-id-8 div.sk-estimator:hover label.sk-toggleable__label-arrow:before {color: black;}#sk-container-id-8 div.sk-toggleable__content {max-height: 0;max-width: 0;overflow: hidden;text-align: left;background-color: #f0f8ff;}#sk-container-id-8 div.sk-toggleable__content pre {margin: 0.2em;color: black;border-radius: 0.25em;background-color: #f0f8ff;}#sk-container-id-8 input.sk-toggleable__control:checked~div.sk-toggleable__content {max-height: 200px;max-width: 100%;overflow: auto;}#sk-container-id-8 input.sk-toggleable__control:checked~label.sk-toggleable__label-arrow:before {content: \"▾\";}#sk-container-id-8 div.sk-estimator input.sk-toggleable__control:checked~label.sk-toggleable__label {background-color: #d4ebff;}#sk-container-id-8 div.sk-label input.sk-toggleable__control:checked~label.sk-toggleable__label {background-color: #d4ebff;}#sk-container-id-8 input.sk-hidden--visually {border: 0;clip: rect(1px 1px 1px 1px);clip: rect(1px, 1px, 1px, 1px);height: 1px;margin: -1px;overflow: hidden;padding: 0;position: absolute;width: 1px;}#sk-container-id-8 div.sk-estimator {font-family: monospace;background-color: #f0f8ff;border: 1px dotted black;border-radius: 0.25em;box-sizing: border-box;margin-bottom: 0.5em;}#sk-container-id-8 div.sk-estimator:hover {background-color: #d4ebff;}#sk-container-id-8 div.sk-parallel-item::after {content: \"\";width: 100%;border-bottom: 1px solid gray;flex-grow: 1;}#sk-container-id-8 div.sk-label:hover label.sk-toggleable__label {background-color: #d4ebff;}#sk-container-id-8 div.sk-serial::before {content: \"\";position: absolute;border-left: 1px solid gray;box-sizing: border-box;top: 0;bottom: 0;left: 50%;z-index: 0;}#sk-container-id-8 div.sk-serial {display: flex;flex-direction: column;align-items: center;background-color: white;padding-right: 0.2em;padding-left: 0.2em;position: relative;}#sk-container-id-8 div.sk-item {position: relative;z-index: 1;}#sk-container-id-8 div.sk-parallel {display: flex;align-items: stretch;justify-content: center;background-color: white;position: relative;}#sk-container-id-8 div.sk-item::before, #sk-container-id-8 div.sk-parallel-item::before {content: \"\";position: absolute;border-left: 1px solid gray;box-sizing: border-box;top: 0;bottom: 0;left: 50%;z-index: -1;}#sk-container-id-8 div.sk-parallel-item {display: flex;flex-direction: column;z-index: 1;position: relative;background-color: white;}#sk-container-id-8 div.sk-parallel-item:first-child::after {align-self: flex-end;width: 50%;}#sk-container-id-8 div.sk-parallel-item:last-child::after {align-self: flex-start;width: 50%;}#sk-container-id-8 div.sk-parallel-item:only-child::after {width: 0;}#sk-container-id-8 div.sk-dashed-wrapped {border: 1px dashed gray;margin: 0 0.4em 0.5em 0.4em;box-sizing: border-box;padding-bottom: 0.4em;background-color: white;}#sk-container-id-8 div.sk-label label {font-family: monospace;font-weight: bold;display: inline-block;line-height: 1.2em;}#sk-container-id-8 div.sk-label-container {text-align: center;}#sk-container-id-8 div.sk-container {/* jupyter's `normalize.less` sets `[hidden] { display: none; }` but bootstrap.min.css set `[hidden] { display: none !important; }` so we also need the `!important` here to be able to override the default hidden behavior on the sphinx rendered scikit-learn.org. See: https://github.com/scikit-learn/scikit-learn/issues/21755 */display: inline-block !important;position: relative;}#sk-container-id-8 div.sk-text-repr-fallback {display: none;}</style><div id=\"sk-container-id-8\" class=\"sk-top-container\"><div class=\"sk-text-repr-fallback\"><pre>GradientBoostingRegressor()</pre><b>In a Jupyter environment, please rerun this cell to show the HTML representation or trust the notebook. <br />On GitHub, the HTML representation is unable to render, please try loading this page with nbviewer.org.</b></div><div class=\"sk-container\" hidden><div class=\"sk-item\"><div class=\"sk-estimator sk-toggleable\"><input class=\"sk-toggleable__control sk-hidden--visually\" id=\"sk-estimator-id-10\" type=\"checkbox\" checked><label for=\"sk-estimator-id-10\" class=\"sk-toggleable__label sk-toggleable__label-arrow\">GradientBoostingRegressor</label><div class=\"sk-toggleable__content\"><pre>GradientBoostingRegressor()</pre></div></div></div></div></div>"
      ],
      "text/plain": [
       "GradientBoostingRegressor()"
      ]
     },
     "execution_count": 52,
     "metadata": {},
     "output_type": "execute_result"
    }
   ],
   "source": [
    "regressor2=GradientBoostingRegressor()\n",
    "regressor2.fit(X_train,y_train)"
   ]
  },
  {
   "cell_type": "code",
   "execution_count": 54,
   "id": "cf3df321-c0b1-45a0-afac-3b299f412797",
   "metadata": {},
   "outputs": [
    {
     "name": "stdout",
     "output_type": "stream",
     "text": [
      "0.799392585372614\n"
     ]
    }
   ],
   "source": [
    "y_pred5=regressor2.predict(X_test)\n",
    "print(r2_score(y_test,y_pred4))"
   ]
  },
  {
   "cell_type": "code",
   "execution_count": 55,
   "id": "9600c330-559c-4149-8c1c-e6c03d2c0167",
   "metadata": {},
   "outputs": [
    {
     "data": {
      "text/html": [
       "<style>#sk-container-id-9 {color: black;background-color: white;}#sk-container-id-9 pre{padding: 0;}#sk-container-id-9 div.sk-toggleable {background-color: white;}#sk-container-id-9 label.sk-toggleable__label {cursor: pointer;display: block;width: 100%;margin-bottom: 0;padding: 0.3em;box-sizing: border-box;text-align: center;}#sk-container-id-9 label.sk-toggleable__label-arrow:before {content: \"▸\";float: left;margin-right: 0.25em;color: #696969;}#sk-container-id-9 label.sk-toggleable__label-arrow:hover:before {color: black;}#sk-container-id-9 div.sk-estimator:hover label.sk-toggleable__label-arrow:before {color: black;}#sk-container-id-9 div.sk-toggleable__content {max-height: 0;max-width: 0;overflow: hidden;text-align: left;background-color: #f0f8ff;}#sk-container-id-9 div.sk-toggleable__content pre {margin: 0.2em;color: black;border-radius: 0.25em;background-color: #f0f8ff;}#sk-container-id-9 input.sk-toggleable__control:checked~div.sk-toggleable__content {max-height: 200px;max-width: 100%;overflow: auto;}#sk-container-id-9 input.sk-toggleable__control:checked~label.sk-toggleable__label-arrow:before {content: \"▾\";}#sk-container-id-9 div.sk-estimator input.sk-toggleable__control:checked~label.sk-toggleable__label {background-color: #d4ebff;}#sk-container-id-9 div.sk-label input.sk-toggleable__control:checked~label.sk-toggleable__label {background-color: #d4ebff;}#sk-container-id-9 input.sk-hidden--visually {border: 0;clip: rect(1px 1px 1px 1px);clip: rect(1px, 1px, 1px, 1px);height: 1px;margin: -1px;overflow: hidden;padding: 0;position: absolute;width: 1px;}#sk-container-id-9 div.sk-estimator {font-family: monospace;background-color: #f0f8ff;border: 1px dotted black;border-radius: 0.25em;box-sizing: border-box;margin-bottom: 0.5em;}#sk-container-id-9 div.sk-estimator:hover {background-color: #d4ebff;}#sk-container-id-9 div.sk-parallel-item::after {content: \"\";width: 100%;border-bottom: 1px solid gray;flex-grow: 1;}#sk-container-id-9 div.sk-label:hover label.sk-toggleable__label {background-color: #d4ebff;}#sk-container-id-9 div.sk-serial::before {content: \"\";position: absolute;border-left: 1px solid gray;box-sizing: border-box;top: 0;bottom: 0;left: 50%;z-index: 0;}#sk-container-id-9 div.sk-serial {display: flex;flex-direction: column;align-items: center;background-color: white;padding-right: 0.2em;padding-left: 0.2em;position: relative;}#sk-container-id-9 div.sk-item {position: relative;z-index: 1;}#sk-container-id-9 div.sk-parallel {display: flex;align-items: stretch;justify-content: center;background-color: white;position: relative;}#sk-container-id-9 div.sk-item::before, #sk-container-id-9 div.sk-parallel-item::before {content: \"\";position: absolute;border-left: 1px solid gray;box-sizing: border-box;top: 0;bottom: 0;left: 50%;z-index: -1;}#sk-container-id-9 div.sk-parallel-item {display: flex;flex-direction: column;z-index: 1;position: relative;background-color: white;}#sk-container-id-9 div.sk-parallel-item:first-child::after {align-self: flex-end;width: 50%;}#sk-container-id-9 div.sk-parallel-item:last-child::after {align-self: flex-start;width: 50%;}#sk-container-id-9 div.sk-parallel-item:only-child::after {width: 0;}#sk-container-id-9 div.sk-dashed-wrapped {border: 1px dashed gray;margin: 0 0.4em 0.5em 0.4em;box-sizing: border-box;padding-bottom: 0.4em;background-color: white;}#sk-container-id-9 div.sk-label label {font-family: monospace;font-weight: bold;display: inline-block;line-height: 1.2em;}#sk-container-id-9 div.sk-label-container {text-align: center;}#sk-container-id-9 div.sk-container {/* jupyter's `normalize.less` sets `[hidden] { display: none; }` but bootstrap.min.css set `[hidden] { display: none !important; }` so we also need the `!important` here to be able to override the default hidden behavior on the sphinx rendered scikit-learn.org. See: https://github.com/scikit-learn/scikit-learn/issues/21755 */display: inline-block !important;position: relative;}#sk-container-id-9 div.sk-text-repr-fallback {display: none;}</style><div id=\"sk-container-id-9\" class=\"sk-top-container\"><div class=\"sk-text-repr-fallback\"><pre>XGBRegressor(base_score=None, booster=None, callbacks=None,\n",
       "             colsample_bylevel=None, colsample_bynode=None,\n",
       "             colsample_bytree=None, early_stopping_rounds=None,\n",
       "             enable_categorical=False, eval_metric=None, feature_types=None,\n",
       "             gamma=None, gpu_id=None, grow_policy=None, importance_type=None,\n",
       "             interaction_constraints=None, learning_rate=None, max_bin=None,\n",
       "             max_cat_threshold=None, max_cat_to_onehot=None,\n",
       "             max_delta_step=None, max_depth=None, max_leaves=None,\n",
       "             min_child_weight=None, missing=nan, monotone_constraints=None,\n",
       "             n_estimators=100, n_jobs=None, num_parallel_tree=None,\n",
       "             predictor=None, random_state=None, ...)</pre><b>In a Jupyter environment, please rerun this cell to show the HTML representation or trust the notebook. <br />On GitHub, the HTML representation is unable to render, please try loading this page with nbviewer.org.</b></div><div class=\"sk-container\" hidden><div class=\"sk-item\"><div class=\"sk-estimator sk-toggleable\"><input class=\"sk-toggleable__control sk-hidden--visually\" id=\"sk-estimator-id-11\" type=\"checkbox\" checked><label for=\"sk-estimator-id-11\" class=\"sk-toggleable__label sk-toggleable__label-arrow\">XGBRegressor</label><div class=\"sk-toggleable__content\"><pre>XGBRegressor(base_score=None, booster=None, callbacks=None,\n",
       "             colsample_bylevel=None, colsample_bynode=None,\n",
       "             colsample_bytree=None, early_stopping_rounds=None,\n",
       "             enable_categorical=False, eval_metric=None, feature_types=None,\n",
       "             gamma=None, gpu_id=None, grow_policy=None, importance_type=None,\n",
       "             interaction_constraints=None, learning_rate=None, max_bin=None,\n",
       "             max_cat_threshold=None, max_cat_to_onehot=None,\n",
       "             max_delta_step=None, max_depth=None, max_leaves=None,\n",
       "             min_child_weight=None, missing=nan, monotone_constraints=None,\n",
       "             n_estimators=100, n_jobs=None, num_parallel_tree=None,\n",
       "             predictor=None, random_state=None, ...)</pre></div></div></div></div></div>"
      ],
      "text/plain": [
       "XGBRegressor(base_score=None, booster=None, callbacks=None,\n",
       "             colsample_bylevel=None, colsample_bynode=None,\n",
       "             colsample_bytree=None, early_stopping_rounds=None,\n",
       "             enable_categorical=False, eval_metric=None, feature_types=None,\n",
       "             gamma=None, gpu_id=None, grow_policy=None, importance_type=None,\n",
       "             interaction_constraints=None, learning_rate=None, max_bin=None,\n",
       "             max_cat_threshold=None, max_cat_to_onehot=None,\n",
       "             max_delta_step=None, max_depth=None, max_leaves=None,\n",
       "             min_child_weight=None, missing=nan, monotone_constraints=None,\n",
       "             n_estimators=100, n_jobs=None, num_parallel_tree=None,\n",
       "             predictor=None, random_state=None, ...)"
      ]
     },
     "execution_count": 55,
     "metadata": {},
     "output_type": "execute_result"
    }
   ],
   "source": [
    "regressor3=xb.XGBRegressor()\n",
    "regressor3.fit(X_train,y_train)"
   ]
  },
  {
   "cell_type": "code",
   "execution_count": 56,
   "id": "bb2ca2b0-be06-4519-ba20-629c07ed233c",
   "metadata": {},
   "outputs": [
    {
     "name": "stdout",
     "output_type": "stream",
     "text": [
      "0.799392585372614\n"
     ]
    }
   ],
   "source": [
    "y_pred6=regressor3.predict(X_test)\n",
    "print(r2_score(y_test,y_pred4))"
   ]
  },
  {
   "cell_type": "code",
   "execution_count": null,
   "id": "a0c2fca5-b32d-4c8d-a016-a3c945f873da",
   "metadata": {},
   "outputs": [],
   "source": []
  }
 ],
 "metadata": {
  "kernelspec": {
   "display_name": "Python 3 (ipykernel)",
   "language": "python",
   "name": "python3"
  },
  "language_info": {
   "codemirror_mode": {
    "name": "ipython",
    "version": 3
   },
   "file_extension": ".py",
   "mimetype": "text/x-python",
   "name": "python",
   "nbconvert_exporter": "python",
   "pygments_lexer": "ipython3",
   "version": "3.10.8"
  }
 },
 "nbformat": 4,
 "nbformat_minor": 5
}
