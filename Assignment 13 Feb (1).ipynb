{
 "cells": [
  {
   "cell_type": "markdown",
   "id": "4b0a3bf9-8a94-457f-9ccb-f4bf7b463d00",
   "metadata": {},
   "source": [
    "## Assignment\n"
   ]
  },
  {
   "cell_type": "code",
   "execution_count": null,
   "id": "9e67caf7-eb01-4225-b7d8-6ed459aa5785",
   "metadata": {},
   "outputs": [],
   "source": [
    "## Ans 1. we have to use the Exception class while creating a Custom Exception so we can get error bases of the attributes or the class w crearted and its a try and error method where if the error is thrown we can classify and mention a base to it for its easy understaniding ."
   ]
  },
  {
   "cell_type": "code",
   "execution_count": 8,
   "id": "e5efef3f-7f97-4695-b4b6-d67e85224ab2",
   "metadata": {},
   "outputs": [
    {
     "ename": "IndentationError",
     "evalue": "unindent does not match any outer indentation level (<tokenize>, line 6)",
     "output_type": "error",
     "traceback": [
      "\u001b[0;36m  File \u001b[0;32m<tokenize>:6\u001b[0;36m\u001b[0m\n\u001b[0;31m    print(\"Hierarchy for Built-in exceptions is : \")\u001b[0m\n\u001b[0m    ^\u001b[0m\n\u001b[0;31mIndentationError\u001b[0m\u001b[0;31m:\u001b[0m unindent does not match any outer indentation level\n"
     ]
    }
   ],
   "source": [
    "import inspect\n",
    "def treeClass(cls, ind = 0):\n",
    "     print ('-' * ind, cls.__name__)\n",
    "        for i in cls.__subclasses__():\n",
    "            treeClass(i, ind + 3)\n",
    "    print(\"Hierarchy for Built-in exceptions is : \")\n",
    "    \n",
    "    inspect.getclasstree(inspect.getmro(BaseException))\n",
    "    treeClass(BaseException)"
   ]
  },
  {
   "cell_type": "code",
   "execution_count": 10,
   "id": "2136d998-e1aa-4d6e-b491-70c21704f43e",
   "metadata": {},
   "outputs": [
    {
     "name": "stdout",
     "output_type": "stream",
     "text": [
      "division by zero\n"
     ]
    }
   ],
   "source": [
    "## Ans 3. errors are overflow error , Zero devision error '\n",
    "\n",
    "#example \n",
    "\n",
    "try:\n",
    "    a=10\n",
    "    10/0\n",
    "except ZeroDivisionError as e:\n",
    "    print (e)\n",
    "    "
   ]
  },
  {
   "cell_type": "markdown",
   "id": "3ad760fd-0c68-406a-85cd-a33aae3a5d35",
   "metadata": {},
   "source": [
    "## Ans 4/. Lookup Error acts as a base class for the exceptions that occur when a key or index used on a mapping or sequence of a list/dictionary is invalid or does not exists.\n"
   ]
  },
  {
   "cell_type": "code",
   "execution_count": 13,
   "id": "fa2eb071-823f-4a58-8de3-7346a8d3ac28",
   "metadata": {},
   "outputs": [
    {
     "name": "stdout",
     "output_type": "stream",
     "text": [
      "Dct[5]\n",
      "no error occured\n"
     ]
    }
   ],
   "source": [
    "##Example \n",
    "\n",
    "try:\n",
    "    Dct={'komal':'navi mumbai','samarth':'western'}\n",
    "    print('Dct[5]')\n",
    "except LookupError as e:\n",
    "    print (e)\n",
    "else :\n",
    "    print('no error occured')"
   ]
  },
  {
   "cell_type": "code",
   "execution_count": 14,
   "id": "6e7c577a-4bc3-461a-b3f5-9e46bb7cca17",
   "metadata": {},
   "outputs": [
    {
     "name": "stdout",
     "output_type": "stream",
     "text": [
      "list index out of range\n",
      "this is my index error example\n"
     ]
    }
   ],
   "source": [
    "try:\n",
    "    lst=[1,2,3,4]\n",
    "    lst[6]\n",
    "except IndexError as e:\n",
    "    print(e)\n",
    "finally :\n",
    "    print('this is my index error example')"
   ]
  },
  {
   "cell_type": "code",
   "execution_count": null,
   "id": "2d362aef-4b78-481d-92a9-68a5a607208c",
   "metadata": {},
   "outputs": [],
   "source": [
    "##  Ans 5. import error occured when we try to import unknown dictiony or data from python which does not exist in python \n",
    "##existing data import re,import time,import io,import logging,\n",
    "##non existing data : import banana,import pokemon,import code\n",
    "\n",
    "## ModuleNotFoundError as the name implies the module called in program is not found and can be used as exception error ModuleNot Found '\n"
   ]
  },
  {
   "cell_type": "code",
   "execution_count": null,
   "id": "4112372e-570d-4e0f-993d-c7fefb466323",
   "metadata": {},
   "outputs": [],
   "source": [
    "## Ans 6. \n",
    "## use always a specific exception\n",
    "##like zero error,attribite error,type error,index error,value error,file not found earror \n",
    "\n",
    "###print always a valid msg , this helps with dev. to understand the working of the error occured and the code we trying to run through \n",
    "## always try to log , logging helps in identifying where the code got crashged and how much data have ben called and what is the error occured "
   ]
  },
  {
   "cell_type": "code",
   "execution_count": null,
   "id": "c3b0a89c-d910-4ed8-8f15-17191fb3622a",
   "metadata": {},
   "outputs": [],
   "source": []
  },
  {
   "cell_type": "code",
   "execution_count": null,
   "id": "7c061150-637a-42ec-9bac-b69a6240ff1c",
   "metadata": {},
   "outputs": [],
   "source": []
  },
  {
   "cell_type": "code",
   "execution_count": null,
   "id": "a3172763-bdf2-469c-aef8-ac5997efc3c0",
   "metadata": {},
   "outputs": [],
   "source": []
  },
  {
   "cell_type": "code",
   "execution_count": null,
   "id": "3d8e1c41-1bba-41ea-a354-1d89af071b91",
   "metadata": {},
   "outputs": [],
   "source": []
  }
 ],
 "metadata": {
  "kernelspec": {
   "display_name": "Python 3 (ipykernel)",
   "language": "python",
   "name": "python3"
  },
  "language_info": {
   "codemirror_mode": {
    "name": "ipython",
    "version": 3
   },
   "file_extension": ".py",
   "mimetype": "text/x-python",
   "name": "python",
   "nbconvert_exporter": "python",
   "pygments_lexer": "ipython3",
   "version": "3.10.8"
  }
 },
 "nbformat": 4,
 "nbformat_minor": 5
}
