{
 "cells": [
  {
   "cell_type": "markdown",
   "id": "7f6d15ba-0069-47cd-a0fd-a646223c6260",
   "metadata": {},
   "source": [
    "## Polymorphism"
   ]
  },
  {
   "cell_type": "code",
   "execution_count": 1,
   "id": "a4714e98-2df7-4c5b-9e14-bad16011468a",
   "metadata": {},
   "outputs": [],
   "source": [
    "def test(a,b):\n",
    "    return a+b"
   ]
  },
  {
   "cell_type": "code",
   "execution_count": 2,
   "id": "31256b8c-54e7-4db0-a55a-7810858a5a3e",
   "metadata": {},
   "outputs": [
    {
     "data": {
      "text/plain": [
       "9"
      ]
     },
     "execution_count": 2,
     "metadata": {},
     "output_type": "execute_result"
    }
   ],
   "source": [
    "test(4,5)"
   ]
  },
  {
   "cell_type": "code",
   "execution_count": 3,
   "id": "ede1d3e4-5f0c-4b2a-bd31-ab7042154be3",
   "metadata": {},
   "outputs": [
    {
     "data": {
      "text/plain": [
       "'samarthagarwal'"
      ]
     },
     "execution_count": 3,
     "metadata": {},
     "output_type": "execute_result"
    }
   ],
   "source": [
    "test('samarth','agarwal')"
   ]
  },
  {
   "cell_type": "code",
   "execution_count": 4,
   "id": "2da20b30-f5d7-4d95-a5e7-e795aa3aaab7",
   "metadata": {},
   "outputs": [
    {
     "data": {
      "text/plain": [
       "[1, 2, 4, 5, 5, 7, 54, 6, 7]"
      ]
     },
     "execution_count": 4,
     "metadata": {},
     "output_type": "execute_result"
    }
   ],
   "source": [
    "test([1,2,4,5,5],[7,54,6,7,])"
   ]
  },
  {
   "cell_type": "code",
   "execution_count": 6,
   "id": "098876c2-5e07-4ac4-ad28-8956c79f47ec",
   "metadata": {},
   "outputs": [],
   "source": [
    "class data_science:\n",
    "    def syllabus(self):\n",
    "        print('this is my data science syllabus')"
   ]
  },
  {
   "cell_type": "code",
   "execution_count": 7,
   "id": "62acf527-aa96-4f82-8fe8-33954b0db613",
   "metadata": {},
   "outputs": [],
   "source": [
    "class web_dev:\n",
    "    def syllabus(self):\n",
    "        print('this is my web dev syllabus')"
   ]
  },
  {
   "cell_type": "code",
   "execution_count": 8,
   "id": "80393d19-dea2-4a4f-a1c3-d21481c3777e",
   "metadata": {},
   "outputs": [],
   "source": [
    "def class_parcer(class_obj):\n",
    "    for i in class_obj:\n",
    "        i.syllabus()"
   ]
  },
  {
   "cell_type": "code",
   "execution_count": 9,
   "id": "48198a86-5b09-4fe6-906d-f40eb6bc6886",
   "metadata": {},
   "outputs": [],
   "source": [
    "obj_data_science=data_science()"
   ]
  },
  {
   "cell_type": "code",
   "execution_count": 10,
   "id": "691c7c67-e887-435a-afab-8207e5716d37",
   "metadata": {},
   "outputs": [],
   "source": [
    "obj_web_dev=web_dev()"
   ]
  },
  {
   "cell_type": "code",
   "execution_count": 11,
   "id": "3b88c54c-2772-4236-b169-94a284770055",
   "metadata": {},
   "outputs": [],
   "source": [
    "class_obj=[obj_data_science,obj_web_dev]"
   ]
  },
  {
   "cell_type": "code",
   "execution_count": 12,
   "id": "fb0a8781-7db2-4018-8255-166d4ee3396e",
   "metadata": {},
   "outputs": [
    {
     "name": "stdout",
     "output_type": "stream",
     "text": [
      "this is my data science syllabus\n",
      "this is my web dev syllabus\n"
     ]
    }
   ],
   "source": [
    "class_parcer(class_obj)"
   ]
  },
  {
   "cell_type": "markdown",
   "id": "cb007860-3423-46f7-9cbe-2576e93e970a",
   "metadata": {},
   "source": [
    "## Encapsulation "
   ]
  },
  {
   "cell_type": "code",
   "execution_count": 24,
   "id": "18720b52-768e-40ee-8edb-fcd7748a0d0d",
   "metadata": {},
   "outputs": [],
   "source": [
    "class test:\n",
    "    def __init__(self,a,b):\n",
    "        self.a =a\n",
    "        self.b =b\n",
    "        \n",
    "      "
   ]
  },
  {
   "cell_type": "code",
   "execution_count": 25,
   "id": "ce657653-2ca5-45ac-8f18-565dc5fce809",
   "metadata": {},
   "outputs": [],
   "source": [
    "t=test(45,56)"
   ]
  },
  {
   "cell_type": "code",
   "execution_count": 26,
   "id": "1c9fd1e8-a525-4b2e-bc45-a29529fe5178",
   "metadata": {},
   "outputs": [
    {
     "data": {
      "text/plain": [
       "56"
      ]
     },
     "execution_count": 26,
     "metadata": {},
     "output_type": "execute_result"
    }
   ],
   "source": [
    "t.b"
   ]
  },
  {
   "cell_type": "code",
   "execution_count": 27,
   "id": "f3f71346-c020-4069-b94f-3dffd51b5201",
   "metadata": {},
   "outputs": [
    {
     "data": {
      "text/plain": [
       "45"
      ]
     },
     "execution_count": 27,
     "metadata": {},
     "output_type": "execute_result"
    }
   ],
   "source": [
    "t.a"
   ]
  },
  {
   "cell_type": "code",
   "execution_count": 28,
   "id": "fd92c978-5b92-44b4-83b9-422fbf924ea0",
   "metadata": {},
   "outputs": [],
   "source": [
    "t.a=34576"
   ]
  },
  {
   "cell_type": "code",
   "execution_count": 29,
   "id": "7a90eddf-53db-48e7-b990-b4aa58f94701",
   "metadata": {},
   "outputs": [
    {
     "data": {
      "text/plain": [
       "34576"
      ]
     },
     "execution_count": 29,
     "metadata": {},
     "output_type": "execute_result"
    }
   ],
   "source": [
    "t.a"
   ]
  },
  {
   "cell_type": "code",
   "execution_count": 30,
   "id": "e3107101-4a53-443a-939f-fc152b86fd63",
   "metadata": {},
   "outputs": [],
   "source": [
    "class car:\n",
    "    \n",
    "    def __init__(self,year,make,model,speed):\n",
    "        self.__year = year\n",
    "        self.__make = make\n",
    "        self.__model = model\n",
    "        self.__speed =0"
   ]
  },
  {
   "cell_type": "markdown",
   "id": "ced604f9-8f90-423c-85ed-6b79532da054",
   "metadata": {},
   "source": [
    "## significance of __ is making the variable and statement private and no one has access to it with the help of object it will not be accessed \n"
   ]
  },
  {
   "cell_type": "code",
   "execution_count": 50,
   "id": "1f05b549-1ba9-42f9-9655-32c74abf373a",
   "metadata": {},
   "outputs": [],
   "source": [
    "obj_car=car(2021,'toyota','innova',12)"
   ]
  },
  {
   "cell_type": "code",
   "execution_count": null,
   "id": "a448742f-f18f-48d1-b231-2dcc9e9ed9aa",
   "metadata": {},
   "outputs": [],
   "source": [
    "obj_car."
   ]
  },
  {
   "cell_type": "code",
   "execution_count": 32,
   "id": "5c0a8df9-1e42-4b37-9a47-3704e6674f43",
   "metadata": {},
   "outputs": [
    {
     "data": {
      "text/plain": [
       "2021"
      ]
     },
     "execution_count": 32,
     "metadata": {},
     "output_type": "execute_result"
    }
   ],
   "source": [
    "obj_car._car__year"
   ]
  },
  {
   "cell_type": "code",
   "execution_count": 33,
   "id": "cbc2b5c4-8662-44d5-a707-c443d2fe2c1e",
   "metadata": {},
   "outputs": [],
   "source": [
    "obj_car._car__year = 467"
   ]
  },
  {
   "cell_type": "code",
   "execution_count": 34,
   "id": "9e8543b1-1f60-4051-a4ca-25e9f00d3ec5",
   "metadata": {},
   "outputs": [
    {
     "data": {
      "text/plain": [
       "467"
      ]
     },
     "execution_count": 34,
     "metadata": {},
     "output_type": "execute_result"
    }
   ],
   "source": [
    "obj_car._car__year"
   ]
  },
  {
   "cell_type": "markdown",
   "id": "bfa6f0b1-29cd-4cf8-bd5f-8eb1f18e2daa",
   "metadata": {},
   "source": [
    "## method to access the data below if its not public "
   ]
  },
  {
   "cell_type": "code",
   "execution_count": 49,
   "id": "a92807ad-6c17-4726-b690-2e4e55c3c2f4",
   "metadata": {},
   "outputs": [],
   "source": [
    "class car:\n",
    "    \n",
    "    def __init__(self,year,make,model,speed):\n",
    "        self.__year = year\n",
    "        self.__make = make\n",
    "        self.__model = model\n",
    "        self.__speed =0\n",
    "        \n",
    "    def set_speed(self,speed):\n",
    "        self.__speed = 0 if speed < 0 else speed\n",
    "        \n",
    "    def get_speed(self):\n",
    "        return self.__speed"
   ]
  },
  {
   "cell_type": "code",
   "execution_count": 52,
   "id": "98a93ed5-8f76-4950-8a6e-035849073c71",
   "metadata": {},
   "outputs": [
    {
     "data": {
      "text/plain": [
       "0"
      ]
     },
     "execution_count": 52,
     "metadata": {},
     "output_type": "execute_result"
    }
   ],
   "source": [
    "obj_car.get_speed()"
   ]
  },
  {
   "cell_type": "code",
   "execution_count": 41,
   "id": "b3fe4ac0-8e94-4926-adc2-29a36f749048",
   "metadata": {},
   "outputs": [],
   "source": [
    "obj_car.set_speed(-765)"
   ]
  },
  {
   "cell_type": "code",
   "execution_count": 64,
   "id": "d53d814a-9273-4ac5-8e80-be6525c651c1",
   "metadata": {},
   "outputs": [],
   "source": [
    "class bank_account():\n",
    "    \n",
    "    def __init__(self,balance):\n",
    "        self.__balance=balance\n",
    "        \n",
    "    def deposit(self,amount):\n",
    "        self.__balance=self.__balance+amount\n",
    "    \n",
    "    def withdraw (self,amount):\n",
    "        if self.__balance >= amount:\n",
    "            self.__balance = self.__balance - amount  \n",
    "            return True\n",
    "        else:\n",
    "            return False \n",
    "        \n",
    "    def get_balance(self):\n",
    "        return self.__balance\n",
    "        "
   ]
  },
  {
   "cell_type": "code",
   "execution_count": 65,
   "id": "b504da81-6eb8-4a04-a473-bbfb0b476d74",
   "metadata": {},
   "outputs": [],
   "source": [
    "obj_bank_account= bank_account(1000)"
   ]
  },
  {
   "cell_type": "code",
   "execution_count": 66,
   "id": "eb537c42-3a7c-4a44-b802-9f6cdf248935",
   "metadata": {},
   "outputs": [
    {
     "data": {
      "text/plain": [
       "1000"
      ]
     },
     "execution_count": 66,
     "metadata": {},
     "output_type": "execute_result"
    }
   ],
   "source": [
    "obj_bank_account.get_balance()"
   ]
  },
  {
   "cell_type": "code",
   "execution_count": 67,
   "id": "043a499f-f408-46b8-9b2c-893c24c7c3c6",
   "metadata": {},
   "outputs": [],
   "source": [
    "obj_bank_account.deposit(6000)"
   ]
  },
  {
   "cell_type": "code",
   "execution_count": 68,
   "id": "3ba088f4-f34b-4fb3-8b89-232a12d3379f",
   "metadata": {},
   "outputs": [
    {
     "data": {
      "text/plain": [
       "7000"
      ]
     },
     "execution_count": 68,
     "metadata": {},
     "output_type": "execute_result"
    }
   ],
   "source": [
    "obj_bank_account.get_balance()"
   ]
  },
  {
   "cell_type": "code",
   "execution_count": 69,
   "id": "21fdc715-bb0c-4bd1-b663-21faf3d5ab57",
   "metadata": {},
   "outputs": [
    {
     "data": {
      "text/plain": [
       "True"
      ]
     },
     "execution_count": 69,
     "metadata": {},
     "output_type": "execute_result"
    }
   ],
   "source": [
    "obj_bank_account.withdraw(6000)"
   ]
  },
  {
   "cell_type": "code",
   "execution_count": 70,
   "id": "bc7a9238-b349-4215-a26e-fb5e01ab3768",
   "metadata": {},
   "outputs": [
    {
     "data": {
      "text/plain": [
       "1000"
      ]
     },
     "execution_count": 70,
     "metadata": {},
     "output_type": "execute_result"
    }
   ],
   "source": [
    "obj_bank_account.get_balance()"
   ]
  },
  {
   "cell_type": "code",
   "execution_count": 71,
   "id": "4710dc63-b416-4a25-98d8-10079bd1f431",
   "metadata": {},
   "outputs": [
    {
     "data": {
      "text/plain": [
       "False"
      ]
     },
     "execution_count": 71,
     "metadata": {},
     "output_type": "execute_result"
    }
   ],
   "source": [
    "obj_bank_account.withdraw(6434)"
   ]
  },
  {
   "cell_type": "markdown",
   "id": "ee6fb384-98c5-465c-a8b6-82486fd783a8",
   "metadata": {},
   "source": [
    "## Oop's Funct : Inheritance"
   ]
  },
  {
   "cell_type": "code",
   "execution_count": 72,
   "id": "1a806e35-39db-4396-a818-0a857c865eb7",
   "metadata": {},
   "outputs": [],
   "source": [
    "class parent:\n",
    "    \n",
    "    def test_parent(self):\n",
    "        print('this is my parent class')"
   ]
  },
  {
   "cell_type": "code",
   "execution_count": 74,
   "id": "af114bfd-3447-4d68-b07a-2d80d33111b0",
   "metadata": {},
   "outputs": [],
   "source": [
    "class child(parent):\n",
    "    pass"
   ]
  },
  {
   "cell_type": "code",
   "execution_count": 75,
   "id": "faf4f4a3-aee0-4bcc-9178-4d6ed9a9a5d9",
   "metadata": {},
   "outputs": [],
   "source": [
    "child_obj=child()"
   ]
  },
  {
   "cell_type": "code",
   "execution_count": 77,
   "id": "0ca2355a-ea02-4aca-a392-e0adce5cbf34",
   "metadata": {},
   "outputs": [
    {
     "name": "stdout",
     "output_type": "stream",
     "text": [
      "this is my parent class\n"
     ]
    }
   ],
   "source": [
    "child_obj.test_parent()"
   ]
  },
  {
   "cell_type": "markdown",
   "id": "f09a58f8-3817-4724-b9f3-94ef096613b4",
   "metadata": {},
   "source": [
    "### Multilabel inheritance and Multiple inheritance "
   ]
  },
  {
   "cell_type": "code",
   "execution_count": 3,
   "id": "b6665a04-57c5-4c15-8190-c45c8f4aaec8",
   "metadata": {},
   "outputs": [],
   "source": [
    "class class1():\n",
    "    def test_class1(self):\n",
    "        print('this is my class 1')"
   ]
  },
  {
   "cell_type": "code",
   "execution_count": 4,
   "id": "b0005845-93ac-4ea6-8c7f-b41809d145ae",
   "metadata": {},
   "outputs": [],
   "source": [
    "class class2(class1):\n",
    "    def test_class2(self):\n",
    "        print('this is my class 2')"
   ]
  },
  {
   "cell_type": "code",
   "execution_count": 5,
   "id": "76158262-2a65-4b67-86ca-b28e7566a76a",
   "metadata": {},
   "outputs": [],
   "source": [
    "class class3(class2):\n",
    "    def test_class3(self):\n",
    "        print('this is my class 3')"
   ]
  },
  {
   "cell_type": "code",
   "execution_count": 7,
   "id": "fd144441-69fb-4eda-86a0-294c17d7cd48",
   "metadata": {},
   "outputs": [],
   "source": [
    "obj_class3=class3()"
   ]
  },
  {
   "cell_type": "code",
   "execution_count": 8,
   "id": "507b55bd-8861-421e-a660-547bc6075abf",
   "metadata": {},
   "outputs": [
    {
     "name": "stdout",
     "output_type": "stream",
     "text": [
      "this is my class 1\n"
     ]
    }
   ],
   "source": [
    "obj_class3.test_class1()"
   ]
  },
  {
   "cell_type": "code",
   "execution_count": 9,
   "id": "d0bdd79b-05df-4ffa-a7bb-508bb3272376",
   "metadata": {},
   "outputs": [
    {
     "name": "stdout",
     "output_type": "stream",
     "text": [
      "this is my class 2\n"
     ]
    }
   ],
   "source": [
    "obj_class3.test_class2()"
   ]
  },
  {
   "cell_type": "code",
   "execution_count": 10,
   "id": "877ccc9e-4f1d-4d99-9728-0faabaad359c",
   "metadata": {},
   "outputs": [
    {
     "name": "stdout",
     "output_type": "stream",
     "text": [
      "this is my class 3\n"
     ]
    }
   ],
   "source": [
    "obj_class3.test_class3()"
   ]
  },
  {
   "cell_type": "code",
   "execution_count": 12,
   "id": "5d3bb6d1-df79-41e6-a2b6-b9d4a0b855f1",
   "metadata": {},
   "outputs": [],
   "source": [
    "## multiple inheritance\n",
    "\n",
    "class class1:\n",
    "    def test_class1(self):\n",
    "        print('this ois my class 1')"
   ]
  },
  {
   "cell_type": "code",
   "execution_count": 13,
   "id": "ffa5be34-1f5b-4d25-bcd6-fa8834e06420",
   "metadata": {},
   "outputs": [],
   "source": [
    "class class2:\n",
    "    def test_class2(self):\n",
    "        print('this is my class 2')"
   ]
  },
  {
   "cell_type": "code",
   "execution_count": 14,
   "id": "e63636bc-ddc8-4fba-b629-a726c734e3a1",
   "metadata": {},
   "outputs": [],
   "source": [
    "class class3(class1,class2):\n",
    "    pass"
   ]
  },
  {
   "cell_type": "code",
   "execution_count": 15,
   "id": "1e001c69-8d0d-4984-9ad7-3fad157e3fa8",
   "metadata": {},
   "outputs": [],
   "source": [
    "obj_class3=class3()"
   ]
  },
  {
   "cell_type": "code",
   "execution_count": 16,
   "id": "e8983a58-3085-4b15-9eae-91ffa87301c3",
   "metadata": {},
   "outputs": [
    {
     "name": "stdout",
     "output_type": "stream",
     "text": [
      "this ois my class 1\n"
     ]
    }
   ],
   "source": [
    "obj_class3.test_class1()"
   ]
  },
  {
   "cell_type": "code",
   "execution_count": 17,
   "id": "ad67a132-e33c-4ef6-ab1f-b996e3471cd6",
   "metadata": {},
   "outputs": [
    {
     "name": "stdout",
     "output_type": "stream",
     "text": [
      "this is my class 2\n"
     ]
    }
   ],
   "source": [
    "obj_class3.test_class2()"
   ]
  },
  {
   "cell_type": "markdown",
   "id": "835c3db8-66f0-43b1-8c91-4b0000ff108d",
   "metadata": {},
   "source": [
    "## Assignment 9 Feb"
   ]
  },
  {
   "cell_type": "code",
   "execution_count": 1,
   "id": "70d1347e-8eee-4f05-9ee5-80589ddaa495",
   "metadata": {},
   "outputs": [],
   "source": [
    "##Ans 1.Create a vehicle class with an init method having instance variables as name_of_vehicle, max_speed\n",
    "##and average_of_vehicle.\n",
    "\n",
    "class vehicle:\n",
    "    def __init__(self,name_of_vehicle,max_speed,average_of_vehicle):\n",
    "        self.name=name_of_vehicle\n",
    "        self.speed=max_speed\n",
    "        self.average=average_of_vehicle\n",
    "        \n",
    "    def object1(self):\n",
    "        self.name,self.speed,self.average"
   ]
  },
  {
   "cell_type": "code",
   "execution_count": 2,
   "id": "6552a0eb-fdef-4f30-b06b-6f292294ce9c",
   "metadata": {},
   "outputs": [],
   "source": [
    "car_type1=vehicle('hundai',140,15)"
   ]
  },
  {
   "cell_type": "code",
   "execution_count": 5,
   "id": "e8eec8ec-4f33-4e0f-a060-9f6ba0afbb06",
   "metadata": {},
   "outputs": [
    {
     "data": {
      "text/plain": [
       "'hundai'"
      ]
     },
     "execution_count": 5,
     "metadata": {},
     "output_type": "execute_result"
    }
   ],
   "source": [
    "car_type1.name"
   ]
  },
  {
   "cell_type": "code",
   "execution_count": 9,
   "id": "3054610e-0214-4b97-a669-4429e5519043",
   "metadata": {},
   "outputs": [],
   "source": [
    "## Ans 3. Multiple inheritance means that two classed can be merged via creating a 3rd class with both of its constituents \n",
    "\n",
    "##Example\n",
    "\n",
    "class technical:\n",
    "    def dept_tech(self):\n",
    "        print('this is tech department')\n",
    "\n",
    "   "
   ]
  },
  {
   "cell_type": "code",
   "execution_count": 12,
   "id": "2ed6c885-71d2-4038-94ac-a4d8243ff67e",
   "metadata": {},
   "outputs": [],
   "source": [
    "class legal:\n",
    "    def dept_legal(self):\n",
    "        print('this is legal dept')"
   ]
  },
  {
   "cell_type": "code",
   "execution_count": 13,
   "id": "ae75157d-d86e-4f67-8ed4-eba37c5448f3",
   "metadata": {},
   "outputs": [],
   "source": [
    "class credit(technical,legal):\n",
    "    pass"
   ]
  },
  {
   "cell_type": "code",
   "execution_count": null,
   "id": "63db20c1-0d0a-4be3-89ac-45ac46acdc99",
   "metadata": {},
   "outputs": [],
   "source": [
    "samarth=credit()"
   ]
  },
  {
   "cell_type": "code",
   "execution_count": null,
   "id": "cd6e8c4d-21b7-483c-9c66-ea526b766795",
   "metadata": {},
   "outputs": [],
   "source": [
    "samarth.dept_legal()"
   ]
  },
  {
   "cell_type": "code",
   "execution_count": 2,
   "id": "7c4b0a59-4eb7-46b1-b47d-e6acd2390e11",
   "metadata": {},
   "outputs": [],
   "source": [
    "class technical:\n",
    "    def dept_tech(self):\n",
    "        print('this is tech department')"
   ]
  },
  {
   "cell_type": "code",
   "execution_count": 3,
   "id": "85aeaac0-b5b3-4303-b6d6-1081a10dade7",
   "metadata": {},
   "outputs": [],
   "source": [
    "class legal:\n",
    "    def dept_legal(self):\n",
    "        print('this is legal dept')"
   ]
  },
  {
   "cell_type": "code",
   "execution_count": 4,
   "id": "f434b00b-8439-4db7-b32c-c24a216c5bd2",
   "metadata": {},
   "outputs": [],
   "source": [
    "class credit(technical,legal):\n",
    "    pass"
   ]
  },
  {
   "cell_type": "code",
   "execution_count": 5,
   "id": "a3d6d5d0-e1d5-43d9-b59d-a4947ac6b51b",
   "metadata": {},
   "outputs": [],
   "source": [
    "samarth=credit()"
   ]
  },
  {
   "cell_type": "code",
   "execution_count": 6,
   "id": "f519b34a-8e23-46b9-b0e4-c281367f5fcd",
   "metadata": {},
   "outputs": [
    {
     "name": "stdout",
     "output_type": "stream",
     "text": [
      "this is legal dept\n"
     ]
    }
   ],
   "source": [
    "samarth.dept_legal()"
   ]
  },
  {
   "cell_type": "code",
   "execution_count": 7,
   "id": "485d51b0-d828-40c1-b95e-105878aa0318",
   "metadata": {},
   "outputs": [
    {
     "name": "stdout",
     "output_type": "stream",
     "text": [
      "this is tech department\n"
     ]
    }
   ],
   "source": [
    "samarth.dept_tech()"
   ]
  },
  {
   "cell_type": "code",
   "execution_count": 8,
   "id": "96be3575-1dac-4ccc-855c-391b555e1b81",
   "metadata": {},
   "outputs": [
    {
     "name": "stdout",
     "output_type": "stream",
     "text": [
      "1 2 3\n"
     ]
    }
   ],
   "source": [
    "print(1,2,3)"
   ]
  },
  {
   "cell_type": "code",
   "execution_count": 16,
   "id": "af49d07f-b52f-41a2-8e40-d47848374fd4",
   "metadata": {},
   "outputs": [],
   "source": [
    "##Ans 4.\n",
    "\n",
    "class flipkart:\n",
    "    def __init__(self,wallet):\n",
    "        self.__wallet=wallet\n",
    "        \n",
    "    def recharge(self,amount):\n",
    "        self.__wallet=self.__wallet + amount\n",
    "        \n",
    "    def pay_from_wallet(self,amount):\n",
    "        if self.__wallet > amount:\n",
    "            self.__wallet = self.__wallet - amount\n",
    "            return True\n",
    "        else:\n",
    "            return False \n",
    "        \n",
    "    def wallet_bal(self):\n",
    "        return self.__wallet"
   ]
  },
  {
   "cell_type": "code",
   "execution_count": 17,
   "id": "fa83a4b5-e42c-4ac5-bda7-85c6e0e4458b",
   "metadata": {},
   "outputs": [],
   "source": [
    "samarth=flipkart(1000)"
   ]
  },
  {
   "cell_type": "code",
   "execution_count": 18,
   "id": "382ca746-9777-4362-aff4-6911d5fb2a4a",
   "metadata": {},
   "outputs": [],
   "source": [
    "samarth.recharge(2000)"
   ]
  },
  {
   "cell_type": "code",
   "execution_count": 19,
   "id": "ce593970-c016-45cf-9d13-60e82aff3854",
   "metadata": {},
   "outputs": [
    {
     "data": {
      "text/plain": [
       "3000"
      ]
     },
     "execution_count": 19,
     "metadata": {},
     "output_type": "execute_result"
    }
   ],
   "source": [
    "samarth.wallet_bal()"
   ]
  },
  {
   "cell_type": "code",
   "execution_count": 20,
   "id": "a3fa3615-7208-4603-b17e-c9ab7668324a",
   "metadata": {},
   "outputs": [
    {
     "data": {
      "text/plain": [
       "True"
      ]
     },
     "execution_count": 20,
     "metadata": {},
     "output_type": "execute_result"
    }
   ],
   "source": [
    "samarth.pay_from_wallet(900)"
   ]
  },
  {
   "cell_type": "code",
   "execution_count": 21,
   "id": "c4be3121-1b35-4233-bc1b-b67da0a6f694",
   "metadata": {},
   "outputs": [
    {
     "data": {
      "text/plain": [
       "2100"
      ]
     },
     "execution_count": 21,
     "metadata": {},
     "output_type": "execute_result"
    }
   ],
   "source": [
    "samarth.wallet_bal()"
   ]
  },
  {
   "cell_type": "code",
   "execution_count": 15,
   "id": "dc9a5bcb-17c3-42f0-bdfe-fc071919b1f4",
   "metadata": {},
   "outputs": [
    {
     "data": {
      "text/plain": [
       "False"
      ]
     },
     "execution_count": 15,
     "metadata": {},
     "output_type": "execute_result"
    }
   ],
   "source": [
    "samarth.pay_from_wallet(5000)"
   ]
  },
  {
   "cell_type": "markdown",
   "id": "a3b7a6c2-82fe-44af-864b-f428d38d4e80",
   "metadata": {},
   "source": [
    "##  Ans 5.Method overriding is an ability of any object-oriented programming language that allows a subclass or child class to provide a specific implementation of a method that is already provided by one of its super-classes or parent classes"
   ]
  },
  {
   "cell_type": "code",
   "execution_count": null,
   "id": "2143e519-a208-4058-bac8-63a9aa963e21",
   "metadata": {},
   "outputs": [],
   "source": []
  },
  {
   "cell_type": "code",
   "execution_count": null,
   "id": "059ccf3a-1158-4429-a435-41522b0033ec",
   "metadata": {},
   "outputs": [],
   "source": []
  },
  {
   "cell_type": "code",
   "execution_count": null,
   "id": "d4c00f74-8c64-4deb-b28f-c43d1764b766",
   "metadata": {},
   "outputs": [],
   "source": []
  },
  {
   "cell_type": "code",
   "execution_count": null,
   "id": "d267fd02-7018-41e3-a9b4-3f7fd7447f2f",
   "metadata": {},
   "outputs": [],
   "source": []
  },
  {
   "cell_type": "code",
   "execution_count": null,
   "id": "4983bac0-0caf-4e19-a9bd-aac29e92de3f",
   "metadata": {},
   "outputs": [],
   "source": []
  },
  {
   "cell_type": "code",
   "execution_count": null,
   "id": "7ff87c24-240b-4cb6-93b8-71fb48231607",
   "metadata": {},
   "outputs": [],
   "source": []
  },
  {
   "cell_type": "code",
   "execution_count": null,
   "id": "26b00b02-b7ac-4fc1-a393-c5291536159f",
   "metadata": {},
   "outputs": [],
   "source": []
  },
  {
   "cell_type": "markdown",
   "id": "d3f59572-afbb-4568-b72f-045903d73a6e",
   "metadata": {},
   "source": []
  }
 ],
 "metadata": {
  "kernelspec": {
   "display_name": "Python 3 (ipykernel)",
   "language": "python",
   "name": "python3"
  },
  "language_info": {
   "codemirror_mode": {
    "name": "ipython",
    "version": 3
   },
   "file_extension": ".py",
   "mimetype": "text/x-python",
   "name": "python",
   "nbconvert_exporter": "python",
   "pygments_lexer": "ipython3",
   "version": "3.10.8"
  }
 },
 "nbformat": 4,
 "nbformat_minor": 5
}
