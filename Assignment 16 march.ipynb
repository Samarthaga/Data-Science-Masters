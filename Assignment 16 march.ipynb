{
 "cells": [
  {
   "cell_type": "code",
   "execution_count": null,
   "id": "b1243526-2199-4ffc-86b7-e6bea2ec9c4a",
   "metadata": {},
   "outputs": [],
   "source": [
    "## Ans 1: Underfitting means that your model makes accurate, but initially incorrect predictions. In this case, train error is large and val/test error is large too. Overfitting means that your model makes not accurate predictions. In this case, train error is very small and val/test error is large\n",
    "## Consequesces for underfitting is if the model is not trained well then prediction or test results will always be wrong and predictions made will always be doubtful\n",
    "## Consequences of overfitting is that we have trained well the model to perform certain data and to predict what if outliers come into picture and new data to be predicted does not have its classification the test results will have major variance and will not be able to predict the right outcome "
   ]
  },
  {
   "cell_type": "code",
   "execution_count": null,
   "id": "e1fb5fcf-4402-40a1-baa1-8212c935ebce",
   "metadata": {},
   "outputs": [],
   "source": [
    "## Ans 2 : as we have already discussed for model to perform better we should train our data and then tune the model with more data as well so that test predicts more accurately as big as the data will be analysation of the results will be better "
   ]
  },
  {
   "cell_type": "code",
   "execution_count": null,
   "id": "5088bc1d-4660-432e-acaf-dd7514a560cf",
   "metadata": {},
   "outputs": [],
   "source": [
    "## Ans 3: underfitting is a model that is prepared on very few data and the model is regularised to perform on that data only and fails to predict the outcome on the test data .\n",
    "## scenerios are while predicting the price of houses in a city over different area using unsupervised learning where groups does not have much data to predict the outcome of the houses rates over the area like east have data of only 3 houses same with west south and north and when its tested for data near east west horizon the test fails as train data lies on the lines of NEWS coordinates ."
   ]
  },
  {
   "cell_type": "code",
   "execution_count": null,
   "id": "99058309-cc63-4ebe-a402-8b595bbf5cc4",
   "metadata": {},
   "outputs": [],
   "source": [
    "## Ans 4: In statistics and machine learning, the bias–variance tradeoff is the property of a model that the variance of the parameter estimated across samples can be reduced by increasing the bias in the estimated parameters\n",
    "## relationship b/w bias and variance as the bias is less the varshould also be less for model to perform well which canbe done by complex models and low errors "
   ]
  },
  {
   "cell_type": "code",
   "execution_count": null,
   "id": "ac50ecda-d068-4f56-8978-ab1308607032",
   "metadata": {},
   "outputs": [],
   "source": [
    "## Ans 5:  Common methods are taking a look on model graph of its a straight line its underfitting and if the curve is to complex and spread than its overfitting \n"
   ]
  },
  {
   "cell_type": "code",
   "execution_count": null,
   "id": "ba160669-bf13-4c07-b0cf-7931c8317a91",
   "metadata": {},
   "outputs": [],
   "source": [
    "## Ans 6 : The term \"variance\" refers to the degree of change that may be expected in the estimation of the target function as a result of using multiple sets of training data. The disparity between the values that were predicted and the values that were actually observed is referred to as bias\n",
    "## suppose we have to claculate the bias ratio of a student which sleeps and have fun with friends as high bias and high var the test results will be bad and gets failed \n",
    "## however if the student sleeps and studies where high bias and low variance is noted the possibilty it might perform good \n",
    "## and if he studies and get less sleep underlying on the cuver where he trains himself in b/w both the test results will be good "
   ]
  },
  {
   "cell_type": "code",
   "execution_count": null,
   "id": "d9e9b1e0-dffc-4d12-8ec5-fa491ee54d87",
   "metadata": {},
   "outputs": [],
   "source": [
    "## Ans 7 : egularization refers to techniques that are used to calibrate machine learning models in order to minimize the adjusted loss function and prevent overfitting or underfitting\n",
    "## how can it be used to prevent overfitting by not training very complex models and flexible models \n",
    "## ridge regularization, this technique performs best when all the input features influence the output, and all the weights are of almost equal size\n",
    "## Lasso regularization, in this technique, insignificant input features are assigned zero weight and useful features with non-zero\n",
    "## Data augmentation is a regularization technique, which is used generally when we have images as data sets. It generates additional data artificially from the existing training data by making minor changes such as rotation, flipping, cropping, or blurring a few pixels in the image, and this process generates more and more data. "
   ]
  },
  {
   "cell_type": "code",
   "execution_count": null,
   "id": "0350e805-37d5-4e8a-9ad0-8f61d0cb6316",
   "metadata": {},
   "outputs": [],
   "source": []
  },
  {
   "cell_type": "code",
   "execution_count": null,
   "id": "a99ca1a0-5c0f-411d-9a99-6d0aba60b708",
   "metadata": {},
   "outputs": [],
   "source": []
  },
  {
   "cell_type": "code",
   "execution_count": null,
   "id": "cdf05755-18cc-4a79-ba47-520754602671",
   "metadata": {},
   "outputs": [],
   "source": []
  },
  {
   "cell_type": "code",
   "execution_count": null,
   "id": "a30fed33-1003-4eef-a3ee-3c503b75d6bc",
   "metadata": {},
   "outputs": [],
   "source": []
  }
 ],
 "metadata": {
  "kernelspec": {
   "display_name": "Python 3 (ipykernel)",
   "language": "python",
   "name": "python3"
  },
  "language_info": {
   "codemirror_mode": {
    "name": "ipython",
    "version": 3
   },
   "file_extension": ".py",
   "mimetype": "text/x-python",
   "name": "python",
   "nbconvert_exporter": "python",
   "pygments_lexer": "ipython3",
   "version": "3.10.8"
  }
 },
 "nbformat": 4,
 "nbformat_minor": 5
}
