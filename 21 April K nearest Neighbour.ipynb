{
 "cells": [
  {
   "cell_type": "code",
   "execution_count": 1,
   "id": "5e2e19f0-7c82-4105-8943-2843448f81cb",
   "metadata": {},
   "outputs": [],
   "source": [
    "import pandas as pd\n",
    "import numpy as np\n",
    "import seaborn as sns \n",
    "import matplotlib.pyplot as plt\n",
    "%matplotlib inline\n",
    "from sklearn.datasets import make_classification"
   ]
  },
  {
   "cell_type": "code",
   "execution_count": 2,
   "id": "2d8bb0c4-b1e4-4dbb-b5aa-45e90fee9646",
   "metadata": {},
   "outputs": [],
   "source": [
    "X,y=make_classification(n_samples=1000,# 1000 observations \n",
    "                        n_features=3,# total 3 features\n",
    "                        n_redundant=1,\n",
    "                        n_classes=2, # binary target/label\n",
    "                        random_state=999)\n",
    "                        "
   ]
  },
  {
   "cell_type": "code",
   "execution_count": 3,
   "id": "21da6679-1aaf-4287-b6f0-1233c5e845c0",
   "metadata": {},
   "outputs": [
    {
     "data": {
      "text/plain": [
       "array([[-0.33504974,  0.02852654,  1.16193084],\n",
       "       [-1.37746253, -0.4058213 ,  0.44359618],\n",
       "       [-1.04520026, -0.72334759, -3.10470423],\n",
       "       ...,\n",
       "       [-0.75602574, -0.51816111, -2.20382324],\n",
       "       [ 0.56066316, -0.07335845, -2.15660348],\n",
       "       [-1.87521902, -1.11380394, -4.04620773]])"
      ]
     },
     "execution_count": 3,
     "metadata": {},
     "output_type": "execute_result"
    }
   ],
   "source": [
    "X"
   ]
  },
  {
   "cell_type": "code",
   "execution_count": 7,
   "id": "1674bfce-434c-40c6-ad35-8976c96113a4",
   "metadata": {},
   "outputs": [
    {
     "data": {
      "text/plain": [
       "array([0, 1, 1, 1, 0, 1, 0, 1, 1, 1, 0, 0, 1, 0, 1, 1, 1, 0, 0, 1, 0, 0,\n",
       "       1, 0, 1, 0, 0, 0, 1, 0, 0, 0, 1, 0, 0, 1, 1, 1, 1, 1, 1, 0, 1, 1,\n",
       "       0, 0, 1, 0, 0])"
      ]
     },
     "execution_count": 7,
     "metadata": {},
     "output_type": "execute_result"
    }
   ],
   "source": [
    "y[1:50]"
   ]
  },
  {
   "cell_type": "code",
   "execution_count": 8,
   "id": "4b849b61-be61-4535-b3e2-a9e2f6c83be0",
   "metadata": {},
   "outputs": [],
   "source": [
    "from sklearn.model_selection import train_test_split"
   ]
  },
  {
   "cell_type": "code",
   "execution_count": 9,
   "id": "a336652f-afc4-4989-9c5d-713e78476912",
   "metadata": {},
   "outputs": [],
   "source": [
    "X_train,X_test,y_train,y_test=train_test_split(X,y,test_size=0.33,random_state=42)"
   ]
  },
  {
   "cell_type": "code",
   "execution_count": 10,
   "id": "8059397c-ed8b-47b3-920b-d451ef486711",
   "metadata": {},
   "outputs": [],
   "source": [
    "from sklearn.neighbors import KNeighborsClassifier"
   ]
  },
  {
   "cell_type": "code",
   "execution_count": 16,
   "id": "7d80e7f5-bac6-40c5-9458-478d33b12f91",
   "metadata": {},
   "outputs": [],
   "source": [
    "classifier=KNeighborsClassifier(n_neighbors=5,algorithm='auto')"
   ]
  },
  {
   "cell_type": "code",
   "execution_count": 17,
   "id": "5729b9b0-ce7e-4c28-9c6c-d8d7e3ef3c6f",
   "metadata": {},
   "outputs": [
    {
     "data": {
      "text/html": [
       "<style>#sk-container-id-2 {color: black;background-color: white;}#sk-container-id-2 pre{padding: 0;}#sk-container-id-2 div.sk-toggleable {background-color: white;}#sk-container-id-2 label.sk-toggleable__label {cursor: pointer;display: block;width: 100%;margin-bottom: 0;padding: 0.3em;box-sizing: border-box;text-align: center;}#sk-container-id-2 label.sk-toggleable__label-arrow:before {content: \"▸\";float: left;margin-right: 0.25em;color: #696969;}#sk-container-id-2 label.sk-toggleable__label-arrow:hover:before {color: black;}#sk-container-id-2 div.sk-estimator:hover label.sk-toggleable__label-arrow:before {color: black;}#sk-container-id-2 div.sk-toggleable__content {max-height: 0;max-width: 0;overflow: hidden;text-align: left;background-color: #f0f8ff;}#sk-container-id-2 div.sk-toggleable__content pre {margin: 0.2em;color: black;border-radius: 0.25em;background-color: #f0f8ff;}#sk-container-id-2 input.sk-toggleable__control:checked~div.sk-toggleable__content {max-height: 200px;max-width: 100%;overflow: auto;}#sk-container-id-2 input.sk-toggleable__control:checked~label.sk-toggleable__label-arrow:before {content: \"▾\";}#sk-container-id-2 div.sk-estimator input.sk-toggleable__control:checked~label.sk-toggleable__label {background-color: #d4ebff;}#sk-container-id-2 div.sk-label input.sk-toggleable__control:checked~label.sk-toggleable__label {background-color: #d4ebff;}#sk-container-id-2 input.sk-hidden--visually {border: 0;clip: rect(1px 1px 1px 1px);clip: rect(1px, 1px, 1px, 1px);height: 1px;margin: -1px;overflow: hidden;padding: 0;position: absolute;width: 1px;}#sk-container-id-2 div.sk-estimator {font-family: monospace;background-color: #f0f8ff;border: 1px dotted black;border-radius: 0.25em;box-sizing: border-box;margin-bottom: 0.5em;}#sk-container-id-2 div.sk-estimator:hover {background-color: #d4ebff;}#sk-container-id-2 div.sk-parallel-item::after {content: \"\";width: 100%;border-bottom: 1px solid gray;flex-grow: 1;}#sk-container-id-2 div.sk-label:hover label.sk-toggleable__label {background-color: #d4ebff;}#sk-container-id-2 div.sk-serial::before {content: \"\";position: absolute;border-left: 1px solid gray;box-sizing: border-box;top: 0;bottom: 0;left: 50%;z-index: 0;}#sk-container-id-2 div.sk-serial {display: flex;flex-direction: column;align-items: center;background-color: white;padding-right: 0.2em;padding-left: 0.2em;position: relative;}#sk-container-id-2 div.sk-item {position: relative;z-index: 1;}#sk-container-id-2 div.sk-parallel {display: flex;align-items: stretch;justify-content: center;background-color: white;position: relative;}#sk-container-id-2 div.sk-item::before, #sk-container-id-2 div.sk-parallel-item::before {content: \"\";position: absolute;border-left: 1px solid gray;box-sizing: border-box;top: 0;bottom: 0;left: 50%;z-index: -1;}#sk-container-id-2 div.sk-parallel-item {display: flex;flex-direction: column;z-index: 1;position: relative;background-color: white;}#sk-container-id-2 div.sk-parallel-item:first-child::after {align-self: flex-end;width: 50%;}#sk-container-id-2 div.sk-parallel-item:last-child::after {align-self: flex-start;width: 50%;}#sk-container-id-2 div.sk-parallel-item:only-child::after {width: 0;}#sk-container-id-2 div.sk-dashed-wrapped {border: 1px dashed gray;margin: 0 0.4em 0.5em 0.4em;box-sizing: border-box;padding-bottom: 0.4em;background-color: white;}#sk-container-id-2 div.sk-label label {font-family: monospace;font-weight: bold;display: inline-block;line-height: 1.2em;}#sk-container-id-2 div.sk-label-container {text-align: center;}#sk-container-id-2 div.sk-container {/* jupyter's `normalize.less` sets `[hidden] { display: none; }` but bootstrap.min.css set `[hidden] { display: none !important; }` so we also need the `!important` here to be able to override the default hidden behavior on the sphinx rendered scikit-learn.org. See: https://github.com/scikit-learn/scikit-learn/issues/21755 */display: inline-block !important;position: relative;}#sk-container-id-2 div.sk-text-repr-fallback {display: none;}</style><div id=\"sk-container-id-2\" class=\"sk-top-container\"><div class=\"sk-text-repr-fallback\"><pre>KNeighborsClassifier()</pre><b>In a Jupyter environment, please rerun this cell to show the HTML representation or trust the notebook. <br />On GitHub, the HTML representation is unable to render, please try loading this page with nbviewer.org.</b></div><div class=\"sk-container\" hidden><div class=\"sk-item\"><div class=\"sk-estimator sk-toggleable\"><input class=\"sk-toggleable__control sk-hidden--visually\" id=\"sk-estimator-id-2\" type=\"checkbox\" checked><label for=\"sk-estimator-id-2\" class=\"sk-toggleable__label sk-toggleable__label-arrow\">KNeighborsClassifier</label><div class=\"sk-toggleable__content\"><pre>KNeighborsClassifier()</pre></div></div></div></div></div>"
      ],
      "text/plain": [
       "KNeighborsClassifier()"
      ]
     },
     "execution_count": 17,
     "metadata": {},
     "output_type": "execute_result"
    }
   ],
   "source": [
    "classifier.fit(X_train,y_train)"
   ]
  },
  {
   "cell_type": "code",
   "execution_count": 18,
   "id": "e997d16c-d649-4333-bf59-c3a7759f62f7",
   "metadata": {},
   "outputs": [],
   "source": [
    "y_pred=classifier.predict(X_test)"
   ]
  },
  {
   "cell_type": "code",
   "execution_count": 19,
   "id": "2a0ed2bc-caa1-478e-975c-a4e238567049",
   "metadata": {},
   "outputs": [],
   "source": [
    "from sklearn.metrics import accuracy_score,confusion_matrix,precision_score,classification_report"
   ]
  },
  {
   "cell_type": "code",
   "execution_count": 20,
   "id": "e57c2ea4-bd04-45df-872b-2dd64b84ee48",
   "metadata": {},
   "outputs": [
    {
     "name": "stdout",
     "output_type": "stream",
     "text": [
      "0.906060606060606\n",
      "[[158  11]\n",
      " [ 20 141]]\n",
      "0.9276315789473685\n",
      "              precision    recall  f1-score   support\n",
      "\n",
      "           0       0.89      0.93      0.91       169\n",
      "           1       0.93      0.88      0.90       161\n",
      "\n",
      "    accuracy                           0.91       330\n",
      "   macro avg       0.91      0.91      0.91       330\n",
      "weighted avg       0.91      0.91      0.91       330\n",
      "\n"
     ]
    }
   ],
   "source": [
    "print(accuracy_score(y_test,y_pred))\n",
    "print(confusion_matrix(y_test,y_pred))\n",
    "print(precision_score(y_test,y_pred))\n",
    "print(classification_report(y_test,y_pred))"
   ]
  },
  {
   "cell_type": "code",
   "execution_count": 21,
   "id": "234bdab3-bb7e-4787-bb3d-f5faa21a5ffb",
   "metadata": {},
   "outputs": [],
   "source": [
    "from sklearn.model_selection import GridSearchCV"
   ]
  },
  {
   "cell_type": "code",
   "execution_count": 22,
   "id": "6d703ddd-73a3-4624-a228-a39566d834a1",
   "metadata": {},
   "outputs": [],
   "source": [
    "parameters={\n",
    "    'n_neighbors':[1,2,3,4,5,6,7,8,9,10],\n",
    "    'weights':['uniform', 'distance'],\n",
    "    'algorithm':['ball_tree', 'kd_tree'],\n",
    "    'p':[1,2]\n",
    "}\n"
   ]
  },
  {
   "cell_type": "code",
   "execution_count": 23,
   "id": "cc88aa31-d6e2-4513-af87-ce8d9ef800aa",
   "metadata": {},
   "outputs": [],
   "source": [
    "cv=GridSearchCV(classifier,param_grid=parameters,verbose=3,refit=True)"
   ]
  },
  {
   "cell_type": "code",
   "execution_count": 24,
   "id": "3a388058-2ae6-4163-87ba-00bc1fbf8e06",
   "metadata": {},
   "outputs": [
    {
     "name": "stdout",
     "output_type": "stream",
     "text": [
      "Fitting 5 folds for each of 80 candidates, totalling 400 fits\n",
      "[CV 1/5] END algorithm=ball_tree, n_neighbors=1, p=1, weights=uniform;, score=0.881 total time=   0.0s\n",
      "[CV 2/5] END algorithm=ball_tree, n_neighbors=1, p=1, weights=uniform;, score=0.896 total time=   0.0s\n",
      "[CV 3/5] END algorithm=ball_tree, n_neighbors=1, p=1, weights=uniform;, score=0.881 total time=   0.0s\n",
      "[CV 4/5] END algorithm=ball_tree, n_neighbors=1, p=1, weights=uniform;, score=0.881 total time=   0.0s\n",
      "[CV 5/5] END algorithm=ball_tree, n_neighbors=1, p=1, weights=uniform;, score=0.881 total time=   0.0s\n",
      "[CV 1/5] END algorithm=ball_tree, n_neighbors=1, p=1, weights=distance;, score=0.881 total time=   0.0s\n",
      "[CV 2/5] END algorithm=ball_tree, n_neighbors=1, p=1, weights=distance;, score=0.896 total time=   0.0s\n",
      "[CV 3/5] END algorithm=ball_tree, n_neighbors=1, p=1, weights=distance;, score=0.881 total time=   0.0s\n",
      "[CV 4/5] END algorithm=ball_tree, n_neighbors=1, p=1, weights=distance;, score=0.881 total time=   0.0s\n",
      "[CV 5/5] END algorithm=ball_tree, n_neighbors=1, p=1, weights=distance;, score=0.881 total time=   0.0s\n",
      "[CV 1/5] END algorithm=ball_tree, n_neighbors=1, p=2, weights=uniform;, score=0.873 total time=   0.0s\n",
      "[CV 2/5] END algorithm=ball_tree, n_neighbors=1, p=2, weights=uniform;, score=0.903 total time=   0.0s\n",
      "[CV 3/5] END algorithm=ball_tree, n_neighbors=1, p=2, weights=uniform;, score=0.866 total time=   0.0s\n",
      "[CV 4/5] END algorithm=ball_tree, n_neighbors=1, p=2, weights=uniform;, score=0.858 total time=   0.0s\n",
      "[CV 5/5] END algorithm=ball_tree, n_neighbors=1, p=2, weights=uniform;, score=0.888 total time=   0.0s\n",
      "[CV 1/5] END algorithm=ball_tree, n_neighbors=1, p=2, weights=distance;, score=0.873 total time=   0.0s\n",
      "[CV 2/5] END algorithm=ball_tree, n_neighbors=1, p=2, weights=distance;, score=0.903 total time=   0.0s\n",
      "[CV 3/5] END algorithm=ball_tree, n_neighbors=1, p=2, weights=distance;, score=0.866 total time=   0.0s\n",
      "[CV 4/5] END algorithm=ball_tree, n_neighbors=1, p=2, weights=distance;, score=0.858 total time=   0.0s\n",
      "[CV 5/5] END algorithm=ball_tree, n_neighbors=1, p=2, weights=distance;, score=0.888 total time=   0.0s\n",
      "[CV 1/5] END algorithm=ball_tree, n_neighbors=2, p=1, weights=uniform;, score=0.881 total time=   0.0s\n",
      "[CV 2/5] END algorithm=ball_tree, n_neighbors=2, p=1, weights=uniform;, score=0.903 total time=   0.0s\n",
      "[CV 3/5] END algorithm=ball_tree, n_neighbors=2, p=1, weights=uniform;, score=0.858 total time=   0.0s\n",
      "[CV 4/5] END algorithm=ball_tree, n_neighbors=2, p=1, weights=uniform;, score=0.851 total time=   0.0s\n",
      "[CV 5/5] END algorithm=ball_tree, n_neighbors=2, p=1, weights=uniform;, score=0.866 total time=   0.0s\n",
      "[CV 1/5] END algorithm=ball_tree, n_neighbors=2, p=1, weights=distance;, score=0.881 total time=   0.0s\n",
      "[CV 2/5] END algorithm=ball_tree, n_neighbors=2, p=1, weights=distance;, score=0.896 total time=   0.0s\n",
      "[CV 3/5] END algorithm=ball_tree, n_neighbors=2, p=1, weights=distance;, score=0.881 total time=   0.0s\n",
      "[CV 4/5] END algorithm=ball_tree, n_neighbors=2, p=1, weights=distance;, score=0.881 total time=   0.0s\n",
      "[CV 5/5] END algorithm=ball_tree, n_neighbors=2, p=1, weights=distance;, score=0.881 total time=   0.0s\n",
      "[CV 1/5] END algorithm=ball_tree, n_neighbors=2, p=2, weights=uniform;, score=0.881 total time=   0.0s\n",
      "[CV 2/5] END algorithm=ball_tree, n_neighbors=2, p=2, weights=uniform;, score=0.903 total time=   0.0s\n",
      "[CV 3/5] END algorithm=ball_tree, n_neighbors=2, p=2, weights=uniform;, score=0.858 total time=   0.0s\n",
      "[CV 4/5] END algorithm=ball_tree, n_neighbors=2, p=2, weights=uniform;, score=0.843 total time=   0.0s\n",
      "[CV 5/5] END algorithm=ball_tree, n_neighbors=2, p=2, weights=uniform;, score=0.873 total time=   0.0s\n",
      "[CV 1/5] END algorithm=ball_tree, n_neighbors=2, p=2, weights=distance;, score=0.873 total time=   0.0s\n",
      "[CV 2/5] END algorithm=ball_tree, n_neighbors=2, p=2, weights=distance;, score=0.903 total time=   0.0s\n",
      "[CV 3/5] END algorithm=ball_tree, n_neighbors=2, p=2, weights=distance;, score=0.866 total time=   0.0s\n",
      "[CV 4/5] END algorithm=ball_tree, n_neighbors=2, p=2, weights=distance;, score=0.858 total time=   0.0s\n",
      "[CV 5/5] END algorithm=ball_tree, n_neighbors=2, p=2, weights=distance;, score=0.888 total time=   0.0s\n",
      "[CV 1/5] END algorithm=ball_tree, n_neighbors=3, p=1, weights=uniform;, score=0.933 total time=   0.0s\n",
      "[CV 2/5] END algorithm=ball_tree, n_neighbors=3, p=1, weights=uniform;, score=0.881 total time=   0.0s\n",
      "[CV 3/5] END algorithm=ball_tree, n_neighbors=3, p=1, weights=uniform;, score=0.873 total time=   0.0s\n",
      "[CV 4/5] END algorithm=ball_tree, n_neighbors=3, p=1, weights=uniform;, score=0.881 total time=   0.0s\n",
      "[CV 5/5] END algorithm=ball_tree, n_neighbors=3, p=1, weights=uniform;, score=0.881 total time=   0.0s\n",
      "[CV 1/5] END algorithm=ball_tree, n_neighbors=3, p=1, weights=distance;, score=0.925 total time=   0.0s\n",
      "[CV 2/5] END algorithm=ball_tree, n_neighbors=3, p=1, weights=distance;, score=0.896 total time=   0.0s\n",
      "[CV 3/5] END algorithm=ball_tree, n_neighbors=3, p=1, weights=distance;, score=0.888 total time=   0.0s\n",
      "[CV 4/5] END algorithm=ball_tree, n_neighbors=3, p=1, weights=distance;, score=0.873 total time=   0.0s\n",
      "[CV 5/5] END algorithm=ball_tree, n_neighbors=3, p=1, weights=distance;, score=0.888 total time=   0.0s\n",
      "[CV 1/5] END algorithm=ball_tree, n_neighbors=3, p=2, weights=uniform;, score=0.925 total time=   0.0s\n",
      "[CV 2/5] END algorithm=ball_tree, n_neighbors=3, p=2, weights=uniform;, score=0.873 total time=   0.0s\n",
      "[CV 3/5] END algorithm=ball_tree, n_neighbors=3, p=2, weights=uniform;, score=0.866 total time=   0.0s\n",
      "[CV 4/5] END algorithm=ball_tree, n_neighbors=3, p=2, weights=uniform;, score=0.873 total time=   0.0s\n",
      "[CV 5/5] END algorithm=ball_tree, n_neighbors=3, p=2, weights=uniform;, score=0.888 total time=   0.0s\n",
      "[CV 1/5] END algorithm=ball_tree, n_neighbors=3, p=2, weights=distance;, score=0.910 total time=   0.0s\n",
      "[CV 2/5] END algorithm=ball_tree, n_neighbors=3, p=2, weights=distance;, score=0.903 total time=   0.0s\n",
      "[CV 3/5] END algorithm=ball_tree, n_neighbors=3, p=2, weights=distance;, score=0.881 total time=   0.0s\n",
      "[CV 4/5] END algorithm=ball_tree, n_neighbors=3, p=2, weights=distance;, score=0.873 total time=   0.0s\n",
      "[CV 5/5] END algorithm=ball_tree, n_neighbors=3, p=2, weights=distance;, score=0.896 total time=   0.0s\n",
      "[CV 1/5] END algorithm=ball_tree, n_neighbors=4, p=1, weights=uniform;, score=0.933 total time=   0.0s\n",
      "[CV 2/5] END algorithm=ball_tree, n_neighbors=4, p=1, weights=uniform;, score=0.881 total time=   0.0s\n",
      "[CV 3/5] END algorithm=ball_tree, n_neighbors=4, p=1, weights=uniform;, score=0.851 total time=   0.0s\n",
      "[CV 4/5] END algorithm=ball_tree, n_neighbors=4, p=1, weights=uniform;, score=0.873 total time=   0.0s\n",
      "[CV 5/5] END algorithm=ball_tree, n_neighbors=4, p=1, weights=uniform;, score=0.881 total time=   0.0s\n",
      "[CV 1/5] END algorithm=ball_tree, n_neighbors=4, p=1, weights=distance;, score=0.925 total time=   0.0s\n",
      "[CV 2/5] END algorithm=ball_tree, n_neighbors=4, p=1, weights=distance;, score=0.851 total time=   0.0s\n",
      "[CV 3/5] END algorithm=ball_tree, n_neighbors=4, p=1, weights=distance;, score=0.881 total time=   0.0s\n",
      "[CV 4/5] END algorithm=ball_tree, n_neighbors=4, p=1, weights=distance;, score=0.881 total time=   0.0s\n",
      "[CV 5/5] END algorithm=ball_tree, n_neighbors=4, p=1, weights=distance;, score=0.896 total time=   0.0s\n",
      "[CV 1/5] END algorithm=ball_tree, n_neighbors=4, p=2, weights=uniform;, score=0.940 total time=   0.0s\n",
      "[CV 2/5] END algorithm=ball_tree, n_neighbors=4, p=2, weights=uniform;, score=0.858 total time=   0.0s\n",
      "[CV 3/5] END algorithm=ball_tree, n_neighbors=4, p=2, weights=uniform;, score=0.843 total time=   0.0s\n",
      "[CV 4/5] END algorithm=ball_tree, n_neighbors=4, p=2, weights=uniform;, score=0.858 total time=   0.0s\n",
      "[CV 5/5] END algorithm=ball_tree, n_neighbors=4, p=2, weights=uniform;, score=0.888 total time=   0.0s\n",
      "[CV 1/5] END algorithm=ball_tree, n_neighbors=4, p=2, weights=distance;, score=0.925 total time=   0.0s\n",
      "[CV 2/5] END algorithm=ball_tree, n_neighbors=4, p=2, weights=distance;, score=0.858 total time=   0.0s\n",
      "[CV 3/5] END algorithm=ball_tree, n_neighbors=4, p=2, weights=distance;, score=0.873 total time=   0.0s\n",
      "[CV 4/5] END algorithm=ball_tree, n_neighbors=4, p=2, weights=distance;, score=0.873 total time=   0.0s\n",
      "[CV 5/5] END algorithm=ball_tree, n_neighbors=4, p=2, weights=distance;, score=0.896 total time=   0.0s\n",
      "[CV 1/5] END algorithm=ball_tree, n_neighbors=5, p=1, weights=uniform;, score=0.925 total time=   0.0s\n",
      "[CV 2/5] END algorithm=ball_tree, n_neighbors=5, p=1, weights=uniform;, score=0.881 total time=   0.0s\n",
      "[CV 3/5] END algorithm=ball_tree, n_neighbors=5, p=1, weights=uniform;, score=0.873 total time=   0.0s\n",
      "[CV 4/5] END algorithm=ball_tree, n_neighbors=5, p=1, weights=uniform;, score=0.881 total time=   0.0s\n",
      "[CV 5/5] END algorithm=ball_tree, n_neighbors=5, p=1, weights=uniform;, score=0.888 total time=   0.0s\n",
      "[CV 1/5] END algorithm=ball_tree, n_neighbors=5, p=1, weights=distance;, score=0.925 total time=   0.0s\n",
      "[CV 2/5] END algorithm=ball_tree, n_neighbors=5, p=1, weights=distance;, score=0.873 total time=   0.0s\n",
      "[CV 3/5] END algorithm=ball_tree, n_neighbors=5, p=1, weights=distance;, score=0.873 total time=   0.0s\n",
      "[CV 4/5] END algorithm=ball_tree, n_neighbors=5, p=1, weights=distance;, score=0.881 total time=   0.0s\n",
      "[CV 5/5] END algorithm=ball_tree, n_neighbors=5, p=1, weights=distance;, score=0.888 total time=   0.0s\n",
      "[CV 1/5] END algorithm=ball_tree, n_neighbors=5, p=2, weights=uniform;, score=0.933 total time=   0.0s\n",
      "[CV 2/5] END algorithm=ball_tree, n_neighbors=5, p=2, weights=uniform;, score=0.866 total time=   0.0s\n",
      "[CV 3/5] END algorithm=ball_tree, n_neighbors=5, p=2, weights=uniform;, score=0.881 total time=   0.0s\n",
      "[CV 4/5] END algorithm=ball_tree, n_neighbors=5, p=2, weights=uniform;, score=0.873 total time=   0.0s\n",
      "[CV 5/5] END algorithm=ball_tree, n_neighbors=5, p=2, weights=uniform;, score=0.888 total time=   0.0s\n",
      "[CV 1/5] END algorithm=ball_tree, n_neighbors=5, p=2, weights=distance;, score=0.940 total time=   0.0s\n",
      "[CV 2/5] END algorithm=ball_tree, n_neighbors=5, p=2, weights=distance;, score=0.866 total time=   0.0s\n",
      "[CV 3/5] END algorithm=ball_tree, n_neighbors=5, p=2, weights=distance;, score=0.888 total time=   0.0s\n",
      "[CV 4/5] END algorithm=ball_tree, n_neighbors=5, p=2, weights=distance;, score=0.881 total time=   0.0s\n",
      "[CV 5/5] END algorithm=ball_tree, n_neighbors=5, p=2, weights=distance;, score=0.903 total time=   0.0s\n",
      "[CV 1/5] END algorithm=ball_tree, n_neighbors=6, p=1, weights=uniform;, score=0.933 total time=   0.0s\n",
      "[CV 2/5] END algorithm=ball_tree, n_neighbors=6, p=1, weights=uniform;, score=0.896 total time=   0.0s\n",
      "[CV 3/5] END algorithm=ball_tree, n_neighbors=6, p=1, weights=uniform;, score=0.836 total time=   0.0s\n",
      "[CV 4/5] END algorithm=ball_tree, n_neighbors=6, p=1, weights=uniform;, score=0.881 total time=   0.0s\n",
      "[CV 5/5] END algorithm=ball_tree, n_neighbors=6, p=1, weights=uniform;, score=0.873 total time=   0.0s\n",
      "[CV 1/5] END algorithm=ball_tree, n_neighbors=6, p=1, weights=distance;, score=0.925 total time=   0.0s\n",
      "[CV 2/5] END algorithm=ball_tree, n_neighbors=6, p=1, weights=distance;, score=0.866 total time=   0.0s\n",
      "[CV 3/5] END algorithm=ball_tree, n_neighbors=6, p=1, weights=distance;, score=0.881 total time=   0.0s\n",
      "[CV 4/5] END algorithm=ball_tree, n_neighbors=6, p=1, weights=distance;, score=0.881 total time=   0.0s\n",
      "[CV 5/5] END algorithm=ball_tree, n_neighbors=6, p=1, weights=distance;, score=0.896 total time=   0.0s\n",
      "[CV 1/5] END algorithm=ball_tree, n_neighbors=6, p=2, weights=uniform;, score=0.933 total time=   0.0s\n",
      "[CV 2/5] END algorithm=ball_tree, n_neighbors=6, p=2, weights=uniform;, score=0.866 total time=   0.0s\n",
      "[CV 3/5] END algorithm=ball_tree, n_neighbors=6, p=2, weights=uniform;, score=0.843 total time=   0.0s\n",
      "[CV 4/5] END algorithm=ball_tree, n_neighbors=6, p=2, weights=uniform;, score=0.881 total time=   0.0s\n",
      "[CV 5/5] END algorithm=ball_tree, n_neighbors=6, p=2, weights=uniform;, score=0.881 total time=   0.0s\n",
      "[CV 1/5] END algorithm=ball_tree, n_neighbors=6, p=2, weights=distance;, score=0.925 total time=   0.0s\n",
      "[CV 2/5] END algorithm=ball_tree, n_neighbors=6, p=2, weights=distance;, score=0.843 total time=   0.0s\n",
      "[CV 3/5] END algorithm=ball_tree, n_neighbors=6, p=2, weights=distance;, score=0.873 total time=   0.0s\n",
      "[CV 4/5] END algorithm=ball_tree, n_neighbors=6, p=2, weights=distance;, score=0.881 total time=   0.0s\n",
      "[CV 5/5] END algorithm=ball_tree, n_neighbors=6, p=2, weights=distance;, score=0.903 total time=   0.0s\n",
      "[CV 1/5] END algorithm=ball_tree, n_neighbors=7, p=1, weights=uniform;, score=0.925 total time=   0.0s\n",
      "[CV 2/5] END algorithm=ball_tree, n_neighbors=7, p=1, weights=uniform;, score=0.881 total time=   0.0s\n",
      "[CV 3/5] END algorithm=ball_tree, n_neighbors=7, p=1, weights=uniform;, score=0.896 total time=   0.0s\n",
      "[CV 4/5] END algorithm=ball_tree, n_neighbors=7, p=1, weights=uniform;, score=0.881 total time=   0.0s\n",
      "[CV 5/5] END algorithm=ball_tree, n_neighbors=7, p=1, weights=uniform;, score=0.903 total time=   0.0s\n",
      "[CV 1/5] END algorithm=ball_tree, n_neighbors=7, p=1, weights=distance;, score=0.918 total time=   0.0s\n",
      "[CV 2/5] END algorithm=ball_tree, n_neighbors=7, p=1, weights=distance;, score=0.873 total time=   0.0s\n",
      "[CV 3/5] END algorithm=ball_tree, n_neighbors=7, p=1, weights=distance;, score=0.888 total time=   0.0s\n",
      "[CV 4/5] END algorithm=ball_tree, n_neighbors=7, p=1, weights=distance;, score=0.888 total time=   0.0s\n",
      "[CV 5/5] END algorithm=ball_tree, n_neighbors=7, p=1, weights=distance;, score=0.896 total time=   0.0s\n",
      "[CV 1/5] END algorithm=ball_tree, n_neighbors=7, p=2, weights=uniform;, score=0.933 total time=   0.0s\n",
      "[CV 2/5] END algorithm=ball_tree, n_neighbors=7, p=2, weights=uniform;, score=0.873 total time=   0.0s\n",
      "[CV 3/5] END algorithm=ball_tree, n_neighbors=7, p=2, weights=uniform;, score=0.896 total time=   0.0s\n",
      "[CV 4/5] END algorithm=ball_tree, n_neighbors=7, p=2, weights=uniform;, score=0.881 total time=   0.0s\n",
      "[CV 5/5] END algorithm=ball_tree, n_neighbors=7, p=2, weights=uniform;, score=0.896 total time=   0.0s\n",
      "[CV 1/5] END algorithm=ball_tree, n_neighbors=7, p=2, weights=distance;, score=0.933 total time=   0.0s\n",
      "[CV 2/5] END algorithm=ball_tree, n_neighbors=7, p=2, weights=distance;, score=0.858 total time=   0.0s\n",
      "[CV 3/5] END algorithm=ball_tree, n_neighbors=7, p=2, weights=distance;, score=0.881 total time=   0.0s\n",
      "[CV 4/5] END algorithm=ball_tree, n_neighbors=7, p=2, weights=distance;, score=0.873 total time=   0.0s\n",
      "[CV 5/5] END algorithm=ball_tree, n_neighbors=7, p=2, weights=distance;, score=0.896 total time=   0.0s\n",
      "[CV 1/5] END algorithm=ball_tree, n_neighbors=8, p=1, weights=uniform;, score=0.940 total time=   0.0s\n",
      "[CV 2/5] END algorithm=ball_tree, n_neighbors=8, p=1, weights=uniform;, score=0.896 total time=   0.0s\n",
      "[CV 3/5] END algorithm=ball_tree, n_neighbors=8, p=1, weights=uniform;, score=0.866 total time=   0.0s\n",
      "[CV 4/5] END algorithm=ball_tree, n_neighbors=8, p=1, weights=uniform;, score=0.866 total time=   0.0s\n",
      "[CV 5/5] END algorithm=ball_tree, n_neighbors=8, p=1, weights=uniform;, score=0.903 total time=   0.0s\n",
      "[CV 1/5] END algorithm=ball_tree, n_neighbors=8, p=1, weights=distance;, score=0.925 total time=   0.0s\n",
      "[CV 2/5] END algorithm=ball_tree, n_neighbors=8, p=1, weights=distance;, score=0.873 total time=   0.0s\n",
      "[CV 3/5] END algorithm=ball_tree, n_neighbors=8, p=1, weights=distance;, score=0.888 total time=   0.0s\n",
      "[CV 4/5] END algorithm=ball_tree, n_neighbors=8, p=1, weights=distance;, score=0.888 total time=   0.0s\n",
      "[CV 5/5] END algorithm=ball_tree, n_neighbors=8, p=1, weights=distance;, score=0.896 total time=   0.0s\n",
      "[CV 1/5] END algorithm=ball_tree, n_neighbors=8, p=2, weights=uniform;, score=0.940 total time=   0.0s\n",
      "[CV 2/5] END algorithm=ball_tree, n_neighbors=8, p=2, weights=uniform;, score=0.888 total time=   0.0s\n",
      "[CV 3/5] END algorithm=ball_tree, n_neighbors=8, p=2, weights=uniform;, score=0.866 total time=   0.0s\n",
      "[CV 4/5] END algorithm=ball_tree, n_neighbors=8, p=2, weights=uniform;, score=0.881 total time=   0.0s\n",
      "[CV 5/5] END algorithm=ball_tree, n_neighbors=8, p=2, weights=uniform;, score=0.903 total time=   0.0s\n",
      "[CV 1/5] END algorithm=ball_tree, n_neighbors=8, p=2, weights=distance;, score=0.933 total time=   0.0s\n",
      "[CV 2/5] END algorithm=ball_tree, n_neighbors=8, p=2, weights=distance;, score=0.858 total time=   0.0s\n",
      "[CV 3/5] END algorithm=ball_tree, n_neighbors=8, p=2, weights=distance;, score=0.881 total time=   0.0s\n",
      "[CV 4/5] END algorithm=ball_tree, n_neighbors=8, p=2, weights=distance;, score=0.873 total time=   0.0s\n",
      "[CV 5/5] END algorithm=ball_tree, n_neighbors=8, p=2, weights=distance;, score=0.896 total time=   0.0s\n",
      "[CV 1/5] END algorithm=ball_tree, n_neighbors=9, p=1, weights=uniform;, score=0.933 total time=   0.0s\n",
      "[CV 2/5] END algorithm=ball_tree, n_neighbors=9, p=1, weights=uniform;, score=0.888 total time=   0.0s\n",
      "[CV 3/5] END algorithm=ball_tree, n_neighbors=9, p=1, weights=uniform;, score=0.881 total time=   0.0s\n",
      "[CV 4/5] END algorithm=ball_tree, n_neighbors=9, p=1, weights=uniform;, score=0.896 total time=   0.0s\n",
      "[CV 5/5] END algorithm=ball_tree, n_neighbors=9, p=1, weights=uniform;, score=0.903 total time=   0.0s\n",
      "[CV 1/5] END algorithm=ball_tree, n_neighbors=9, p=1, weights=distance;, score=0.925 total time=   0.0s\n",
      "[CV 2/5] END algorithm=ball_tree, n_neighbors=9, p=1, weights=distance;, score=0.888 total time=   0.0s\n",
      "[CV 3/5] END algorithm=ball_tree, n_neighbors=9, p=1, weights=distance;, score=0.896 total time=   0.0s\n",
      "[CV 4/5] END algorithm=ball_tree, n_neighbors=9, p=1, weights=distance;, score=0.873 total time=   0.0s\n",
      "[CV 5/5] END algorithm=ball_tree, n_neighbors=9, p=1, weights=distance;, score=0.903 total time=   0.0s\n",
      "[CV 1/5] END algorithm=ball_tree, n_neighbors=9, p=2, weights=uniform;, score=0.933 total time=   0.0s\n",
      "[CV 2/5] END algorithm=ball_tree, n_neighbors=9, p=2, weights=uniform;, score=0.888 total time=   0.0s\n",
      "[CV 3/5] END algorithm=ball_tree, n_neighbors=9, p=2, weights=uniform;, score=0.896 total time=   0.0s\n",
      "[CV 4/5] END algorithm=ball_tree, n_neighbors=9, p=2, weights=uniform;, score=0.903 total time=   0.0s\n",
      "[CV 5/5] END algorithm=ball_tree, n_neighbors=9, p=2, weights=uniform;, score=0.896 total time=   0.0s\n",
      "[CV 1/5] END algorithm=ball_tree, n_neighbors=9, p=2, weights=distance;, score=0.925 total time=   0.0s\n",
      "[CV 2/5] END algorithm=ball_tree, n_neighbors=9, p=2, weights=distance;, score=0.873 total time=   0.0s\n",
      "[CV 3/5] END algorithm=ball_tree, n_neighbors=9, p=2, weights=distance;, score=0.888 total time=   0.0s\n",
      "[CV 4/5] END algorithm=ball_tree, n_neighbors=9, p=2, weights=distance;, score=0.858 total time=   0.0s\n",
      "[CV 5/5] END algorithm=ball_tree, n_neighbors=9, p=2, weights=distance;, score=0.888 total time=   0.0s\n",
      "[CV 1/5] END algorithm=ball_tree, n_neighbors=10, p=1, weights=uniform;, score=0.933 total time=   0.0s\n",
      "[CV 2/5] END algorithm=ball_tree, n_neighbors=10, p=1, weights=uniform;, score=0.888 total time=   0.0s\n",
      "[CV 3/5] END algorithm=ball_tree, n_neighbors=10, p=1, weights=uniform;, score=0.873 total time=   0.0s\n",
      "[CV 4/5] END algorithm=ball_tree, n_neighbors=10, p=1, weights=uniform;, score=0.881 total time=   0.0s\n",
      "[CV 5/5] END algorithm=ball_tree, n_neighbors=10, p=1, weights=uniform;, score=0.910 total time=   0.0s\n",
      "[CV 1/5] END algorithm=ball_tree, n_neighbors=10, p=1, weights=distance;, score=0.925 total time=   0.0s\n",
      "[CV 2/5] END algorithm=ball_tree, n_neighbors=10, p=1, weights=distance;, score=0.873 total time=   0.0s\n",
      "[CV 3/5] END algorithm=ball_tree, n_neighbors=10, p=1, weights=distance;, score=0.896 total time=   0.0s\n",
      "[CV 4/5] END algorithm=ball_tree, n_neighbors=10, p=1, weights=distance;, score=0.873 total time=   0.0s\n",
      "[CV 5/5] END algorithm=ball_tree, n_neighbors=10, p=1, weights=distance;, score=0.903 total time=   0.0s\n",
      "[CV 1/5] END algorithm=ball_tree, n_neighbors=10, p=2, weights=uniform;, score=0.925 total time=   0.0s\n",
      "[CV 2/5] END algorithm=ball_tree, n_neighbors=10, p=2, weights=uniform;, score=0.881 total time=   0.0s\n",
      "[CV 3/5] END algorithm=ball_tree, n_neighbors=10, p=2, weights=uniform;, score=0.881 total time=   0.0s\n",
      "[CV 4/5] END algorithm=ball_tree, n_neighbors=10, p=2, weights=uniform;, score=0.888 total time=   0.0s\n",
      "[CV 5/5] END algorithm=ball_tree, n_neighbors=10, p=2, weights=uniform;, score=0.910 total time=   0.0s\n",
      "[CV 1/5] END algorithm=ball_tree, n_neighbors=10, p=2, weights=distance;, score=0.925 total time=   0.0s\n",
      "[CV 2/5] END algorithm=ball_tree, n_neighbors=10, p=2, weights=distance;, score=0.866 total time=   0.0s\n",
      "[CV 3/5] END algorithm=ball_tree, n_neighbors=10, p=2, weights=distance;, score=0.896 total time=   0.0s\n",
      "[CV 4/5] END algorithm=ball_tree, n_neighbors=10, p=2, weights=distance;, score=0.866 total time=   0.0s\n",
      "[CV 5/5] END algorithm=ball_tree, n_neighbors=10, p=2, weights=distance;, score=0.896 total time=   0.0s\n",
      "[CV 1/5] END algorithm=kd_tree, n_neighbors=1, p=1, weights=uniform;, score=0.881 total time=   0.0s\n",
      "[CV 2/5] END algorithm=kd_tree, n_neighbors=1, p=1, weights=uniform;, score=0.896 total time=   0.0s\n",
      "[CV 3/5] END algorithm=kd_tree, n_neighbors=1, p=1, weights=uniform;, score=0.881 total time=   0.0s\n",
      "[CV 4/5] END algorithm=kd_tree, n_neighbors=1, p=1, weights=uniform;, score=0.881 total time=   0.0s\n",
      "[CV 5/5] END algorithm=kd_tree, n_neighbors=1, p=1, weights=uniform;, score=0.881 total time=   0.0s\n",
      "[CV 1/5] END algorithm=kd_tree, n_neighbors=1, p=1, weights=distance;, score=0.881 total time=   0.0s\n",
      "[CV 2/5] END algorithm=kd_tree, n_neighbors=1, p=1, weights=distance;, score=0.896 total time=   0.0s\n",
      "[CV 3/5] END algorithm=kd_tree, n_neighbors=1, p=1, weights=distance;, score=0.881 total time=   0.0s\n",
      "[CV 4/5] END algorithm=kd_tree, n_neighbors=1, p=1, weights=distance;, score=0.881 total time=   0.0s\n",
      "[CV 5/5] END algorithm=kd_tree, n_neighbors=1, p=1, weights=distance;, score=0.881 total time=   0.0s\n",
      "[CV 1/5] END algorithm=kd_tree, n_neighbors=1, p=2, weights=uniform;, score=0.873 total time=   0.0s\n",
      "[CV 2/5] END algorithm=kd_tree, n_neighbors=1, p=2, weights=uniform;, score=0.903 total time=   0.0s\n",
      "[CV 3/5] END algorithm=kd_tree, n_neighbors=1, p=2, weights=uniform;, score=0.866 total time=   0.0s\n",
      "[CV 4/5] END algorithm=kd_tree, n_neighbors=1, p=2, weights=uniform;, score=0.858 total time=   0.0s\n",
      "[CV 5/5] END algorithm=kd_tree, n_neighbors=1, p=2, weights=uniform;, score=0.888 total time=   0.0s\n",
      "[CV 1/5] END algorithm=kd_tree, n_neighbors=1, p=2, weights=distance;, score=0.873 total time=   0.0s\n",
      "[CV 2/5] END algorithm=kd_tree, n_neighbors=1, p=2, weights=distance;, score=0.903 total time=   0.0s\n",
      "[CV 3/5] END algorithm=kd_tree, n_neighbors=1, p=2, weights=distance;, score=0.866 total time=   0.0s\n",
      "[CV 4/5] END algorithm=kd_tree, n_neighbors=1, p=2, weights=distance;, score=0.858 total time=   0.0s\n",
      "[CV 5/5] END algorithm=kd_tree, n_neighbors=1, p=2, weights=distance;, score=0.888 total time=   0.0s\n",
      "[CV 1/5] END algorithm=kd_tree, n_neighbors=2, p=1, weights=uniform;, score=0.881 total time=   0.0s\n",
      "[CV 2/5] END algorithm=kd_tree, n_neighbors=2, p=1, weights=uniform;, score=0.903 total time=   0.0s\n",
      "[CV 3/5] END algorithm=kd_tree, n_neighbors=2, p=1, weights=uniform;, score=0.858 total time=   0.0s\n",
      "[CV 4/5] END algorithm=kd_tree, n_neighbors=2, p=1, weights=uniform;, score=0.851 total time=   0.0s\n",
      "[CV 5/5] END algorithm=kd_tree, n_neighbors=2, p=1, weights=uniform;, score=0.866 total time=   0.0s\n",
      "[CV 1/5] END algorithm=kd_tree, n_neighbors=2, p=1, weights=distance;, score=0.881 total time=   0.0s\n",
      "[CV 2/5] END algorithm=kd_tree, n_neighbors=2, p=1, weights=distance;, score=0.896 total time=   0.0s\n",
      "[CV 3/5] END algorithm=kd_tree, n_neighbors=2, p=1, weights=distance;, score=0.881 total time=   0.0s\n",
      "[CV 4/5] END algorithm=kd_tree, n_neighbors=2, p=1, weights=distance;, score=0.881 total time=   0.0s\n",
      "[CV 5/5] END algorithm=kd_tree, n_neighbors=2, p=1, weights=distance;, score=0.881 total time=   0.0s\n",
      "[CV 1/5] END algorithm=kd_tree, n_neighbors=2, p=2, weights=uniform;, score=0.881 total time=   0.0s\n",
      "[CV 2/5] END algorithm=kd_tree, n_neighbors=2, p=2, weights=uniform;, score=0.903 total time=   0.0s\n",
      "[CV 3/5] END algorithm=kd_tree, n_neighbors=2, p=2, weights=uniform;, score=0.858 total time=   0.0s\n",
      "[CV 4/5] END algorithm=kd_tree, n_neighbors=2, p=2, weights=uniform;, score=0.843 total time=   0.0s\n",
      "[CV 5/5] END algorithm=kd_tree, n_neighbors=2, p=2, weights=uniform;, score=0.873 total time=   0.0s\n",
      "[CV 1/5] END algorithm=kd_tree, n_neighbors=2, p=2, weights=distance;, score=0.873 total time=   0.0s\n",
      "[CV 2/5] END algorithm=kd_tree, n_neighbors=2, p=2, weights=distance;, score=0.903 total time=   0.0s\n",
      "[CV 3/5] END algorithm=kd_tree, n_neighbors=2, p=2, weights=distance;, score=0.866 total time=   0.0s\n",
      "[CV 4/5] END algorithm=kd_tree, n_neighbors=2, p=2, weights=distance;, score=0.858 total time=   0.0s\n",
      "[CV 5/5] END algorithm=kd_tree, n_neighbors=2, p=2, weights=distance;, score=0.888 total time=   0.0s\n",
      "[CV 1/5] END algorithm=kd_tree, n_neighbors=3, p=1, weights=uniform;, score=0.933 total time=   0.0s\n",
      "[CV 2/5] END algorithm=kd_tree, n_neighbors=3, p=1, weights=uniform;, score=0.881 total time=   0.0s\n",
      "[CV 3/5] END algorithm=kd_tree, n_neighbors=3, p=1, weights=uniform;, score=0.873 total time=   0.0s\n",
      "[CV 4/5] END algorithm=kd_tree, n_neighbors=3, p=1, weights=uniform;, score=0.881 total time=   0.0s\n",
      "[CV 5/5] END algorithm=kd_tree, n_neighbors=3, p=1, weights=uniform;, score=0.881 total time=   0.0s\n",
      "[CV 1/5] END algorithm=kd_tree, n_neighbors=3, p=1, weights=distance;, score=0.925 total time=   0.0s\n",
      "[CV 2/5] END algorithm=kd_tree, n_neighbors=3, p=1, weights=distance;, score=0.896 total time=   0.0s\n",
      "[CV 3/5] END algorithm=kd_tree, n_neighbors=3, p=1, weights=distance;, score=0.888 total time=   0.0s\n",
      "[CV 4/5] END algorithm=kd_tree, n_neighbors=3, p=1, weights=distance;, score=0.873 total time=   0.0s\n",
      "[CV 5/5] END algorithm=kd_tree, n_neighbors=3, p=1, weights=distance;, score=0.888 total time=   0.0s\n",
      "[CV 1/5] END algorithm=kd_tree, n_neighbors=3, p=2, weights=uniform;, score=0.925 total time=   0.0s\n",
      "[CV 2/5] END algorithm=kd_tree, n_neighbors=3, p=2, weights=uniform;, score=0.873 total time=   0.0s\n",
      "[CV 3/5] END algorithm=kd_tree, n_neighbors=3, p=2, weights=uniform;, score=0.866 total time=   0.0s\n",
      "[CV 4/5] END algorithm=kd_tree, n_neighbors=3, p=2, weights=uniform;, score=0.873 total time=   0.0s\n",
      "[CV 5/5] END algorithm=kd_tree, n_neighbors=3, p=2, weights=uniform;, score=0.888 total time=   0.0s\n",
      "[CV 1/5] END algorithm=kd_tree, n_neighbors=3, p=2, weights=distance;, score=0.910 total time=   0.0s\n",
      "[CV 2/5] END algorithm=kd_tree, n_neighbors=3, p=2, weights=distance;, score=0.903 total time=   0.0s\n",
      "[CV 3/5] END algorithm=kd_tree, n_neighbors=3, p=2, weights=distance;, score=0.881 total time=   0.0s\n",
      "[CV 4/5] END algorithm=kd_tree, n_neighbors=3, p=2, weights=distance;, score=0.873 total time=   0.0s\n",
      "[CV 5/5] END algorithm=kd_tree, n_neighbors=3, p=2, weights=distance;, score=0.896 total time=   0.0s\n",
      "[CV 1/5] END algorithm=kd_tree, n_neighbors=4, p=1, weights=uniform;, score=0.933 total time=   0.0s\n",
      "[CV 2/5] END algorithm=kd_tree, n_neighbors=4, p=1, weights=uniform;, score=0.881 total time=   0.0s\n",
      "[CV 3/5] END algorithm=kd_tree, n_neighbors=4, p=1, weights=uniform;, score=0.851 total time=   0.0s\n",
      "[CV 4/5] END algorithm=kd_tree, n_neighbors=4, p=1, weights=uniform;, score=0.873 total time=   0.0s\n",
      "[CV 5/5] END algorithm=kd_tree, n_neighbors=4, p=1, weights=uniform;, score=0.881 total time=   0.0s\n",
      "[CV 1/5] END algorithm=kd_tree, n_neighbors=4, p=1, weights=distance;, score=0.925 total time=   0.0s\n",
      "[CV 2/5] END algorithm=kd_tree, n_neighbors=4, p=1, weights=distance;, score=0.851 total time=   0.0s\n",
      "[CV 3/5] END algorithm=kd_tree, n_neighbors=4, p=1, weights=distance;, score=0.881 total time=   0.0s\n",
      "[CV 4/5] END algorithm=kd_tree, n_neighbors=4, p=1, weights=distance;, score=0.881 total time=   0.0s\n",
      "[CV 5/5] END algorithm=kd_tree, n_neighbors=4, p=1, weights=distance;, score=0.896 total time=   0.0s\n",
      "[CV 1/5] END algorithm=kd_tree, n_neighbors=4, p=2, weights=uniform;, score=0.940 total time=   0.0s\n",
      "[CV 2/5] END algorithm=kd_tree, n_neighbors=4, p=2, weights=uniform;, score=0.858 total time=   0.0s\n",
      "[CV 3/5] END algorithm=kd_tree, n_neighbors=4, p=2, weights=uniform;, score=0.843 total time=   0.0s\n",
      "[CV 4/5] END algorithm=kd_tree, n_neighbors=4, p=2, weights=uniform;, score=0.858 total time=   0.0s\n",
      "[CV 5/5] END algorithm=kd_tree, n_neighbors=4, p=2, weights=uniform;, score=0.888 total time=   0.0s\n",
      "[CV 1/5] END algorithm=kd_tree, n_neighbors=4, p=2, weights=distance;, score=0.925 total time=   0.0s\n",
      "[CV 2/5] END algorithm=kd_tree, n_neighbors=4, p=2, weights=distance;, score=0.858 total time=   0.0s\n",
      "[CV 3/5] END algorithm=kd_tree, n_neighbors=4, p=2, weights=distance;, score=0.873 total time=   0.0s\n",
      "[CV 4/5] END algorithm=kd_tree, n_neighbors=4, p=2, weights=distance;, score=0.873 total time=   0.0s\n",
      "[CV 5/5] END algorithm=kd_tree, n_neighbors=4, p=2, weights=distance;, score=0.896 total time=   0.0s\n",
      "[CV 1/5] END algorithm=kd_tree, n_neighbors=5, p=1, weights=uniform;, score=0.925 total time=   0.0s\n",
      "[CV 2/5] END algorithm=kd_tree, n_neighbors=5, p=1, weights=uniform;, score=0.881 total time=   0.0s\n",
      "[CV 3/5] END algorithm=kd_tree, n_neighbors=5, p=1, weights=uniform;, score=0.873 total time=   0.0s\n",
      "[CV 4/5] END algorithm=kd_tree, n_neighbors=5, p=1, weights=uniform;, score=0.881 total time=   0.0s\n",
      "[CV 5/5] END algorithm=kd_tree, n_neighbors=5, p=1, weights=uniform;, score=0.888 total time=   0.0s\n",
      "[CV 1/5] END algorithm=kd_tree, n_neighbors=5, p=1, weights=distance;, score=0.925 total time=   0.0s\n",
      "[CV 2/5] END algorithm=kd_tree, n_neighbors=5, p=1, weights=distance;, score=0.873 total time=   0.0s\n",
      "[CV 3/5] END algorithm=kd_tree, n_neighbors=5, p=1, weights=distance;, score=0.873 total time=   0.0s\n",
      "[CV 4/5] END algorithm=kd_tree, n_neighbors=5, p=1, weights=distance;, score=0.881 total time=   0.0s\n",
      "[CV 5/5] END algorithm=kd_tree, n_neighbors=5, p=1, weights=distance;, score=0.888 total time=   0.0s\n",
      "[CV 1/5] END algorithm=kd_tree, n_neighbors=5, p=2, weights=uniform;, score=0.933 total time=   0.0s\n",
      "[CV 2/5] END algorithm=kd_tree, n_neighbors=5, p=2, weights=uniform;, score=0.866 total time=   0.0s\n",
      "[CV 3/5] END algorithm=kd_tree, n_neighbors=5, p=2, weights=uniform;, score=0.881 total time=   0.0s\n",
      "[CV 4/5] END algorithm=kd_tree, n_neighbors=5, p=2, weights=uniform;, score=0.873 total time=   0.0s\n",
      "[CV 5/5] END algorithm=kd_tree, n_neighbors=5, p=2, weights=uniform;, score=0.888 total time=   0.0s\n",
      "[CV 1/5] END algorithm=kd_tree, n_neighbors=5, p=2, weights=distance;, score=0.940 total time=   0.0s\n",
      "[CV 2/5] END algorithm=kd_tree, n_neighbors=5, p=2, weights=distance;, score=0.866 total time=   0.0s\n",
      "[CV 3/5] END algorithm=kd_tree, n_neighbors=5, p=2, weights=distance;, score=0.888 total time=   0.0s\n",
      "[CV 4/5] END algorithm=kd_tree, n_neighbors=5, p=2, weights=distance;, score=0.881 total time=   0.0s\n",
      "[CV 5/5] END algorithm=kd_tree, n_neighbors=5, p=2, weights=distance;, score=0.903 total time=   0.0s\n",
      "[CV 1/5] END algorithm=kd_tree, n_neighbors=6, p=1, weights=uniform;, score=0.933 total time=   0.0s\n",
      "[CV 2/5] END algorithm=kd_tree, n_neighbors=6, p=1, weights=uniform;, score=0.896 total time=   0.0s\n",
      "[CV 3/5] END algorithm=kd_tree, n_neighbors=6, p=1, weights=uniform;, score=0.836 total time=   0.0s\n",
      "[CV 4/5] END algorithm=kd_tree, n_neighbors=6, p=1, weights=uniform;, score=0.881 total time=   0.0s\n",
      "[CV 5/5] END algorithm=kd_tree, n_neighbors=6, p=1, weights=uniform;, score=0.873 total time=   0.0s\n",
      "[CV 1/5] END algorithm=kd_tree, n_neighbors=6, p=1, weights=distance;, score=0.925 total time=   0.0s\n",
      "[CV 2/5] END algorithm=kd_tree, n_neighbors=6, p=1, weights=distance;, score=0.866 total time=   0.0s\n",
      "[CV 3/5] END algorithm=kd_tree, n_neighbors=6, p=1, weights=distance;, score=0.881 total time=   0.0s\n",
      "[CV 4/5] END algorithm=kd_tree, n_neighbors=6, p=1, weights=distance;, score=0.881 total time=   0.0s\n",
      "[CV 5/5] END algorithm=kd_tree, n_neighbors=6, p=1, weights=distance;, score=0.896 total time=   0.0s\n",
      "[CV 1/5] END algorithm=kd_tree, n_neighbors=6, p=2, weights=uniform;, score=0.933 total time=   0.0s\n",
      "[CV 2/5] END algorithm=kd_tree, n_neighbors=6, p=2, weights=uniform;, score=0.866 total time=   0.0s\n",
      "[CV 3/5] END algorithm=kd_tree, n_neighbors=6, p=2, weights=uniform;, score=0.843 total time=   0.0s\n",
      "[CV 4/5] END algorithm=kd_tree, n_neighbors=6, p=2, weights=uniform;, score=0.881 total time=   0.0s\n",
      "[CV 5/5] END algorithm=kd_tree, n_neighbors=6, p=2, weights=uniform;, score=0.881 total time=   0.0s\n",
      "[CV 1/5] END algorithm=kd_tree, n_neighbors=6, p=2, weights=distance;, score=0.925 total time=   0.0s\n",
      "[CV 2/5] END algorithm=kd_tree, n_neighbors=6, p=2, weights=distance;, score=0.843 total time=   0.0s\n",
      "[CV 3/5] END algorithm=kd_tree, n_neighbors=6, p=2, weights=distance;, score=0.873 total time=   0.0s\n",
      "[CV 4/5] END algorithm=kd_tree, n_neighbors=6, p=2, weights=distance;, score=0.881 total time=   0.0s\n",
      "[CV 5/5] END algorithm=kd_tree, n_neighbors=6, p=2, weights=distance;, score=0.903 total time=   0.0s\n",
      "[CV 1/5] END algorithm=kd_tree, n_neighbors=7, p=1, weights=uniform;, score=0.925 total time=   0.0s\n",
      "[CV 2/5] END algorithm=kd_tree, n_neighbors=7, p=1, weights=uniform;, score=0.881 total time=   0.0s\n",
      "[CV 3/5] END algorithm=kd_tree, n_neighbors=7, p=1, weights=uniform;, score=0.896 total time=   0.0s\n",
      "[CV 4/5] END algorithm=kd_tree, n_neighbors=7, p=1, weights=uniform;, score=0.881 total time=   0.0s\n",
      "[CV 5/5] END algorithm=kd_tree, n_neighbors=7, p=1, weights=uniform;, score=0.903 total time=   0.0s\n",
      "[CV 1/5] END algorithm=kd_tree, n_neighbors=7, p=1, weights=distance;, score=0.918 total time=   0.0s\n",
      "[CV 2/5] END algorithm=kd_tree, n_neighbors=7, p=1, weights=distance;, score=0.873 total time=   0.0s\n",
      "[CV 3/5] END algorithm=kd_tree, n_neighbors=7, p=1, weights=distance;, score=0.888 total time=   0.0s\n",
      "[CV 4/5] END algorithm=kd_tree, n_neighbors=7, p=1, weights=distance;, score=0.888 total time=   0.0s\n",
      "[CV 5/5] END algorithm=kd_tree, n_neighbors=7, p=1, weights=distance;, score=0.896 total time=   0.0s\n",
      "[CV 1/5] END algorithm=kd_tree, n_neighbors=7, p=2, weights=uniform;, score=0.933 total time=   0.0s\n",
      "[CV 2/5] END algorithm=kd_tree, n_neighbors=7, p=2, weights=uniform;, score=0.873 total time=   0.0s\n",
      "[CV 3/5] END algorithm=kd_tree, n_neighbors=7, p=2, weights=uniform;, score=0.896 total time=   0.0s\n",
      "[CV 4/5] END algorithm=kd_tree, n_neighbors=7, p=2, weights=uniform;, score=0.881 total time=   0.0s\n",
      "[CV 5/5] END algorithm=kd_tree, n_neighbors=7, p=2, weights=uniform;, score=0.896 total time=   0.0s\n",
      "[CV 1/5] END algorithm=kd_tree, n_neighbors=7, p=2, weights=distance;, score=0.933 total time=   0.0s\n",
      "[CV 2/5] END algorithm=kd_tree, n_neighbors=7, p=2, weights=distance;, score=0.858 total time=   0.0s\n",
      "[CV 3/5] END algorithm=kd_tree, n_neighbors=7, p=2, weights=distance;, score=0.881 total time=   0.0s\n",
      "[CV 4/5] END algorithm=kd_tree, n_neighbors=7, p=2, weights=distance;, score=0.873 total time=   0.0s\n",
      "[CV 5/5] END algorithm=kd_tree, n_neighbors=7, p=2, weights=distance;, score=0.896 total time=   0.0s\n",
      "[CV 1/5] END algorithm=kd_tree, n_neighbors=8, p=1, weights=uniform;, score=0.940 total time=   0.0s\n",
      "[CV 2/5] END algorithm=kd_tree, n_neighbors=8, p=1, weights=uniform;, score=0.896 total time=   0.0s\n",
      "[CV 3/5] END algorithm=kd_tree, n_neighbors=8, p=1, weights=uniform;, score=0.866 total time=   0.0s\n",
      "[CV 4/5] END algorithm=kd_tree, n_neighbors=8, p=1, weights=uniform;, score=0.866 total time=   0.0s\n",
      "[CV 5/5] END algorithm=kd_tree, n_neighbors=8, p=1, weights=uniform;, score=0.903 total time=   0.0s\n",
      "[CV 1/5] END algorithm=kd_tree, n_neighbors=8, p=1, weights=distance;, score=0.925 total time=   0.0s\n",
      "[CV 2/5] END algorithm=kd_tree, n_neighbors=8, p=1, weights=distance;, score=0.873 total time=   0.0s\n",
      "[CV 3/5] END algorithm=kd_tree, n_neighbors=8, p=1, weights=distance;, score=0.888 total time=   0.0s\n",
      "[CV 4/5] END algorithm=kd_tree, n_neighbors=8, p=1, weights=distance;, score=0.888 total time=   0.0s\n",
      "[CV 5/5] END algorithm=kd_tree, n_neighbors=8, p=1, weights=distance;, score=0.896 total time=   0.0s\n",
      "[CV 1/5] END algorithm=kd_tree, n_neighbors=8, p=2, weights=uniform;, score=0.940 total time=   0.0s\n",
      "[CV 2/5] END algorithm=kd_tree, n_neighbors=8, p=2, weights=uniform;, score=0.888 total time=   0.0s\n",
      "[CV 3/5] END algorithm=kd_tree, n_neighbors=8, p=2, weights=uniform;, score=0.866 total time=   0.0s\n",
      "[CV 4/5] END algorithm=kd_tree, n_neighbors=8, p=2, weights=uniform;, score=0.881 total time=   0.0s\n",
      "[CV 5/5] END algorithm=kd_tree, n_neighbors=8, p=2, weights=uniform;, score=0.903 total time=   0.0s\n",
      "[CV 1/5] END algorithm=kd_tree, n_neighbors=8, p=2, weights=distance;, score=0.933 total time=   0.0s\n",
      "[CV 2/5] END algorithm=kd_tree, n_neighbors=8, p=2, weights=distance;, score=0.858 total time=   0.0s\n",
      "[CV 3/5] END algorithm=kd_tree, n_neighbors=8, p=2, weights=distance;, score=0.881 total time=   0.0s\n",
      "[CV 4/5] END algorithm=kd_tree, n_neighbors=8, p=2, weights=distance;, score=0.873 total time=   0.0s\n",
      "[CV 5/5] END algorithm=kd_tree, n_neighbors=8, p=2, weights=distance;, score=0.896 total time=   0.0s\n",
      "[CV 1/5] END algorithm=kd_tree, n_neighbors=9, p=1, weights=uniform;, score=0.933 total time=   0.0s\n",
      "[CV 2/5] END algorithm=kd_tree, n_neighbors=9, p=1, weights=uniform;, score=0.888 total time=   0.0s\n",
      "[CV 3/5] END algorithm=kd_tree, n_neighbors=9, p=1, weights=uniform;, score=0.881 total time=   0.0s\n",
      "[CV 4/5] END algorithm=kd_tree, n_neighbors=9, p=1, weights=uniform;, score=0.896 total time=   0.0s\n",
      "[CV 5/5] END algorithm=kd_tree, n_neighbors=9, p=1, weights=uniform;, score=0.903 total time=   0.0s\n",
      "[CV 1/5] END algorithm=kd_tree, n_neighbors=9, p=1, weights=distance;, score=0.925 total time=   0.0s\n",
      "[CV 2/5] END algorithm=kd_tree, n_neighbors=9, p=1, weights=distance;, score=0.888 total time=   0.0s\n",
      "[CV 3/5] END algorithm=kd_tree, n_neighbors=9, p=1, weights=distance;, score=0.896 total time=   0.0s\n",
      "[CV 4/5] END algorithm=kd_tree, n_neighbors=9, p=1, weights=distance;, score=0.873 total time=   0.0s\n",
      "[CV 5/5] END algorithm=kd_tree, n_neighbors=9, p=1, weights=distance;, score=0.903 total time=   0.0s\n",
      "[CV 1/5] END algorithm=kd_tree, n_neighbors=9, p=2, weights=uniform;, score=0.933 total time=   0.0s\n",
      "[CV 2/5] END algorithm=kd_tree, n_neighbors=9, p=2, weights=uniform;, score=0.888 total time=   0.0s\n",
      "[CV 3/5] END algorithm=kd_tree, n_neighbors=9, p=2, weights=uniform;, score=0.896 total time=   0.0s\n",
      "[CV 4/5] END algorithm=kd_tree, n_neighbors=9, p=2, weights=uniform;, score=0.903 total time=   0.0s\n",
      "[CV 5/5] END algorithm=kd_tree, n_neighbors=9, p=2, weights=uniform;, score=0.896 total time=   0.0s\n",
      "[CV 1/5] END algorithm=kd_tree, n_neighbors=9, p=2, weights=distance;, score=0.925 total time=   0.0s\n",
      "[CV 2/5] END algorithm=kd_tree, n_neighbors=9, p=2, weights=distance;, score=0.873 total time=   0.0s\n",
      "[CV 3/5] END algorithm=kd_tree, n_neighbors=9, p=2, weights=distance;, score=0.888 total time=   0.0s\n",
      "[CV 4/5] END algorithm=kd_tree, n_neighbors=9, p=2, weights=distance;, score=0.858 total time=   0.0s\n",
      "[CV 5/5] END algorithm=kd_tree, n_neighbors=9, p=2, weights=distance;, score=0.888 total time=   0.0s\n",
      "[CV 1/5] END algorithm=kd_tree, n_neighbors=10, p=1, weights=uniform;, score=0.933 total time=   0.0s\n",
      "[CV 2/5] END algorithm=kd_tree, n_neighbors=10, p=1, weights=uniform;, score=0.888 total time=   0.0s\n",
      "[CV 3/5] END algorithm=kd_tree, n_neighbors=10, p=1, weights=uniform;, score=0.873 total time=   0.0s\n",
      "[CV 4/5] END algorithm=kd_tree, n_neighbors=10, p=1, weights=uniform;, score=0.881 total time=   0.0s\n",
      "[CV 5/5] END algorithm=kd_tree, n_neighbors=10, p=1, weights=uniform;, score=0.910 total time=   0.0s\n",
      "[CV 1/5] END algorithm=kd_tree, n_neighbors=10, p=1, weights=distance;, score=0.925 total time=   0.0s\n",
      "[CV 2/5] END algorithm=kd_tree, n_neighbors=10, p=1, weights=distance;, score=0.873 total time=   0.0s\n",
      "[CV 3/5] END algorithm=kd_tree, n_neighbors=10, p=1, weights=distance;, score=0.896 total time=   0.0s\n",
      "[CV 4/5] END algorithm=kd_tree, n_neighbors=10, p=1, weights=distance;, score=0.873 total time=   0.0s\n",
      "[CV 5/5] END algorithm=kd_tree, n_neighbors=10, p=1, weights=distance;, score=0.903 total time=   0.0s\n",
      "[CV 1/5] END algorithm=kd_tree, n_neighbors=10, p=2, weights=uniform;, score=0.925 total time=   0.0s\n",
      "[CV 2/5] END algorithm=kd_tree, n_neighbors=10, p=2, weights=uniform;, score=0.881 total time=   0.0s\n",
      "[CV 3/5] END algorithm=kd_tree, n_neighbors=10, p=2, weights=uniform;, score=0.881 total time=   0.0s\n",
      "[CV 4/5] END algorithm=kd_tree, n_neighbors=10, p=2, weights=uniform;, score=0.888 total time=   0.0s\n",
      "[CV 5/5] END algorithm=kd_tree, n_neighbors=10, p=2, weights=uniform;, score=0.910 total time=   0.0s\n",
      "[CV 1/5] END algorithm=kd_tree, n_neighbors=10, p=2, weights=distance;, score=0.925 total time=   0.0s\n",
      "[CV 2/5] END algorithm=kd_tree, n_neighbors=10, p=2, weights=distance;, score=0.866 total time=   0.0s\n",
      "[CV 3/5] END algorithm=kd_tree, n_neighbors=10, p=2, weights=distance;, score=0.896 total time=   0.0s\n",
      "[CV 4/5] END algorithm=kd_tree, n_neighbors=10, p=2, weights=distance;, score=0.866 total time=   0.0s\n",
      "[CV 5/5] END algorithm=kd_tree, n_neighbors=10, p=2, weights=distance;, score=0.896 total time=   0.0s\n"
     ]
    },
    {
     "data": {
      "text/html": [
       "<style>#sk-container-id-3 {color: black;background-color: white;}#sk-container-id-3 pre{padding: 0;}#sk-container-id-3 div.sk-toggleable {background-color: white;}#sk-container-id-3 label.sk-toggleable__label {cursor: pointer;display: block;width: 100%;margin-bottom: 0;padding: 0.3em;box-sizing: border-box;text-align: center;}#sk-container-id-3 label.sk-toggleable__label-arrow:before {content: \"▸\";float: left;margin-right: 0.25em;color: #696969;}#sk-container-id-3 label.sk-toggleable__label-arrow:hover:before {color: black;}#sk-container-id-3 div.sk-estimator:hover label.sk-toggleable__label-arrow:before {color: black;}#sk-container-id-3 div.sk-toggleable__content {max-height: 0;max-width: 0;overflow: hidden;text-align: left;background-color: #f0f8ff;}#sk-container-id-3 div.sk-toggleable__content pre {margin: 0.2em;color: black;border-radius: 0.25em;background-color: #f0f8ff;}#sk-container-id-3 input.sk-toggleable__control:checked~div.sk-toggleable__content {max-height: 200px;max-width: 100%;overflow: auto;}#sk-container-id-3 input.sk-toggleable__control:checked~label.sk-toggleable__label-arrow:before {content: \"▾\";}#sk-container-id-3 div.sk-estimator input.sk-toggleable__control:checked~label.sk-toggleable__label {background-color: #d4ebff;}#sk-container-id-3 div.sk-label input.sk-toggleable__control:checked~label.sk-toggleable__label {background-color: #d4ebff;}#sk-container-id-3 input.sk-hidden--visually {border: 0;clip: rect(1px 1px 1px 1px);clip: rect(1px, 1px, 1px, 1px);height: 1px;margin: -1px;overflow: hidden;padding: 0;position: absolute;width: 1px;}#sk-container-id-3 div.sk-estimator {font-family: monospace;background-color: #f0f8ff;border: 1px dotted black;border-radius: 0.25em;box-sizing: border-box;margin-bottom: 0.5em;}#sk-container-id-3 div.sk-estimator:hover {background-color: #d4ebff;}#sk-container-id-3 div.sk-parallel-item::after {content: \"\";width: 100%;border-bottom: 1px solid gray;flex-grow: 1;}#sk-container-id-3 div.sk-label:hover label.sk-toggleable__label {background-color: #d4ebff;}#sk-container-id-3 div.sk-serial::before {content: \"\";position: absolute;border-left: 1px solid gray;box-sizing: border-box;top: 0;bottom: 0;left: 50%;z-index: 0;}#sk-container-id-3 div.sk-serial {display: flex;flex-direction: column;align-items: center;background-color: white;padding-right: 0.2em;padding-left: 0.2em;position: relative;}#sk-container-id-3 div.sk-item {position: relative;z-index: 1;}#sk-container-id-3 div.sk-parallel {display: flex;align-items: stretch;justify-content: center;background-color: white;position: relative;}#sk-container-id-3 div.sk-item::before, #sk-container-id-3 div.sk-parallel-item::before {content: \"\";position: absolute;border-left: 1px solid gray;box-sizing: border-box;top: 0;bottom: 0;left: 50%;z-index: -1;}#sk-container-id-3 div.sk-parallel-item {display: flex;flex-direction: column;z-index: 1;position: relative;background-color: white;}#sk-container-id-3 div.sk-parallel-item:first-child::after {align-self: flex-end;width: 50%;}#sk-container-id-3 div.sk-parallel-item:last-child::after {align-self: flex-start;width: 50%;}#sk-container-id-3 div.sk-parallel-item:only-child::after {width: 0;}#sk-container-id-3 div.sk-dashed-wrapped {border: 1px dashed gray;margin: 0 0.4em 0.5em 0.4em;box-sizing: border-box;padding-bottom: 0.4em;background-color: white;}#sk-container-id-3 div.sk-label label {font-family: monospace;font-weight: bold;display: inline-block;line-height: 1.2em;}#sk-container-id-3 div.sk-label-container {text-align: center;}#sk-container-id-3 div.sk-container {/* jupyter's `normalize.less` sets `[hidden] { display: none; }` but bootstrap.min.css set `[hidden] { display: none !important; }` so we also need the `!important` here to be able to override the default hidden behavior on the sphinx rendered scikit-learn.org. See: https://github.com/scikit-learn/scikit-learn/issues/21755 */display: inline-block !important;position: relative;}#sk-container-id-3 div.sk-text-repr-fallback {display: none;}</style><div id=\"sk-container-id-3\" class=\"sk-top-container\"><div class=\"sk-text-repr-fallback\"><pre>GridSearchCV(estimator=KNeighborsClassifier(),\n",
       "             param_grid={&#x27;algorithm&#x27;: [&#x27;ball_tree&#x27;, &#x27;kd_tree&#x27;],\n",
       "                         &#x27;n_neighbors&#x27;: [1, 2, 3, 4, 5, 6, 7, 8, 9, 10],\n",
       "                         &#x27;p&#x27;: [1, 2], &#x27;weights&#x27;: [&#x27;uniform&#x27;, &#x27;distance&#x27;]},\n",
       "             verbose=3)</pre><b>In a Jupyter environment, please rerun this cell to show the HTML representation or trust the notebook. <br />On GitHub, the HTML representation is unable to render, please try loading this page with nbviewer.org.</b></div><div class=\"sk-container\" hidden><div class=\"sk-item sk-dashed-wrapped\"><div class=\"sk-label-container\"><div class=\"sk-label sk-toggleable\"><input class=\"sk-toggleable__control sk-hidden--visually\" id=\"sk-estimator-id-3\" type=\"checkbox\" ><label for=\"sk-estimator-id-3\" class=\"sk-toggleable__label sk-toggleable__label-arrow\">GridSearchCV</label><div class=\"sk-toggleable__content\"><pre>GridSearchCV(estimator=KNeighborsClassifier(),\n",
       "             param_grid={&#x27;algorithm&#x27;: [&#x27;ball_tree&#x27;, &#x27;kd_tree&#x27;],\n",
       "                         &#x27;n_neighbors&#x27;: [1, 2, 3, 4, 5, 6, 7, 8, 9, 10],\n",
       "                         &#x27;p&#x27;: [1, 2], &#x27;weights&#x27;: [&#x27;uniform&#x27;, &#x27;distance&#x27;]},\n",
       "             verbose=3)</pre></div></div></div><div class=\"sk-parallel\"><div class=\"sk-parallel-item\"><div class=\"sk-item\"><div class=\"sk-label-container\"><div class=\"sk-label sk-toggleable\"><input class=\"sk-toggleable__control sk-hidden--visually\" id=\"sk-estimator-id-4\" type=\"checkbox\" ><label for=\"sk-estimator-id-4\" class=\"sk-toggleable__label sk-toggleable__label-arrow\">estimator: KNeighborsClassifier</label><div class=\"sk-toggleable__content\"><pre>KNeighborsClassifier()</pre></div></div></div><div class=\"sk-serial\"><div class=\"sk-item\"><div class=\"sk-estimator sk-toggleable\"><input class=\"sk-toggleable__control sk-hidden--visually\" id=\"sk-estimator-id-5\" type=\"checkbox\" ><label for=\"sk-estimator-id-5\" class=\"sk-toggleable__label sk-toggleable__label-arrow\">KNeighborsClassifier</label><div class=\"sk-toggleable__content\"><pre>KNeighborsClassifier()</pre></div></div></div></div></div></div></div></div></div></div>"
      ],
      "text/plain": [
       "GridSearchCV(estimator=KNeighborsClassifier(),\n",
       "             param_grid={'algorithm': ['ball_tree', 'kd_tree'],\n",
       "                         'n_neighbors': [1, 2, 3, 4, 5, 6, 7, 8, 9, 10],\n",
       "                         'p': [1, 2], 'weights': ['uniform', 'distance']},\n",
       "             verbose=3)"
      ]
     },
     "execution_count": 24,
     "metadata": {},
     "output_type": "execute_result"
    }
   ],
   "source": [
    "cv.fit(X_train,y_train)"
   ]
  },
  {
   "cell_type": "code",
   "execution_count": 25,
   "id": "6e920944-c924-4e41-bb1a-d93a23559400",
   "metadata": {},
   "outputs": [],
   "source": [
    "y_pred_new=cv.predict(X_test)"
   ]
  },
  {
   "cell_type": "code",
   "execution_count": 26,
   "id": "a4c71db4-d842-45ea-98f9-0aa1d1c7d895",
   "metadata": {},
   "outputs": [
    {
     "data": {
      "text/plain": [
       "{'algorithm': 'ball_tree', 'n_neighbors': 9, 'p': 2, 'weights': 'uniform'}"
      ]
     },
     "execution_count": 26,
     "metadata": {},
     "output_type": "execute_result"
    }
   ],
   "source": [
    "cv.best_params_"
   ]
  },
  {
   "cell_type": "code",
   "execution_count": 27,
   "id": "1d763b15-295f-409b-a622-ee54320b8458",
   "metadata": {},
   "outputs": [],
   "source": [
    "classifier1=KNeighborsClassifier(algorithm='ball_tree',n_neighbors=9,p=2,weights='uniform')"
   ]
  },
  {
   "cell_type": "code",
   "execution_count": 29,
   "id": "d8baee53-1723-4481-b3cd-6bfbac3c8313",
   "metadata": {},
   "outputs": [
    {
     "data": {
      "text/html": [
       "<style>#sk-container-id-4 {color: black;background-color: white;}#sk-container-id-4 pre{padding: 0;}#sk-container-id-4 div.sk-toggleable {background-color: white;}#sk-container-id-4 label.sk-toggleable__label {cursor: pointer;display: block;width: 100%;margin-bottom: 0;padding: 0.3em;box-sizing: border-box;text-align: center;}#sk-container-id-4 label.sk-toggleable__label-arrow:before {content: \"▸\";float: left;margin-right: 0.25em;color: #696969;}#sk-container-id-4 label.sk-toggleable__label-arrow:hover:before {color: black;}#sk-container-id-4 div.sk-estimator:hover label.sk-toggleable__label-arrow:before {color: black;}#sk-container-id-4 div.sk-toggleable__content {max-height: 0;max-width: 0;overflow: hidden;text-align: left;background-color: #f0f8ff;}#sk-container-id-4 div.sk-toggleable__content pre {margin: 0.2em;color: black;border-radius: 0.25em;background-color: #f0f8ff;}#sk-container-id-4 input.sk-toggleable__control:checked~div.sk-toggleable__content {max-height: 200px;max-width: 100%;overflow: auto;}#sk-container-id-4 input.sk-toggleable__control:checked~label.sk-toggleable__label-arrow:before {content: \"▾\";}#sk-container-id-4 div.sk-estimator input.sk-toggleable__control:checked~label.sk-toggleable__label {background-color: #d4ebff;}#sk-container-id-4 div.sk-label input.sk-toggleable__control:checked~label.sk-toggleable__label {background-color: #d4ebff;}#sk-container-id-4 input.sk-hidden--visually {border: 0;clip: rect(1px 1px 1px 1px);clip: rect(1px, 1px, 1px, 1px);height: 1px;margin: -1px;overflow: hidden;padding: 0;position: absolute;width: 1px;}#sk-container-id-4 div.sk-estimator {font-family: monospace;background-color: #f0f8ff;border: 1px dotted black;border-radius: 0.25em;box-sizing: border-box;margin-bottom: 0.5em;}#sk-container-id-4 div.sk-estimator:hover {background-color: #d4ebff;}#sk-container-id-4 div.sk-parallel-item::after {content: \"\";width: 100%;border-bottom: 1px solid gray;flex-grow: 1;}#sk-container-id-4 div.sk-label:hover label.sk-toggleable__label {background-color: #d4ebff;}#sk-container-id-4 div.sk-serial::before {content: \"\";position: absolute;border-left: 1px solid gray;box-sizing: border-box;top: 0;bottom: 0;left: 50%;z-index: 0;}#sk-container-id-4 div.sk-serial {display: flex;flex-direction: column;align-items: center;background-color: white;padding-right: 0.2em;padding-left: 0.2em;position: relative;}#sk-container-id-4 div.sk-item {position: relative;z-index: 1;}#sk-container-id-4 div.sk-parallel {display: flex;align-items: stretch;justify-content: center;background-color: white;position: relative;}#sk-container-id-4 div.sk-item::before, #sk-container-id-4 div.sk-parallel-item::before {content: \"\";position: absolute;border-left: 1px solid gray;box-sizing: border-box;top: 0;bottom: 0;left: 50%;z-index: -1;}#sk-container-id-4 div.sk-parallel-item {display: flex;flex-direction: column;z-index: 1;position: relative;background-color: white;}#sk-container-id-4 div.sk-parallel-item:first-child::after {align-self: flex-end;width: 50%;}#sk-container-id-4 div.sk-parallel-item:last-child::after {align-self: flex-start;width: 50%;}#sk-container-id-4 div.sk-parallel-item:only-child::after {width: 0;}#sk-container-id-4 div.sk-dashed-wrapped {border: 1px dashed gray;margin: 0 0.4em 0.5em 0.4em;box-sizing: border-box;padding-bottom: 0.4em;background-color: white;}#sk-container-id-4 div.sk-label label {font-family: monospace;font-weight: bold;display: inline-block;line-height: 1.2em;}#sk-container-id-4 div.sk-label-container {text-align: center;}#sk-container-id-4 div.sk-container {/* jupyter's `normalize.less` sets `[hidden] { display: none; }` but bootstrap.min.css set `[hidden] { display: none !important; }` so we also need the `!important` here to be able to override the default hidden behavior on the sphinx rendered scikit-learn.org. See: https://github.com/scikit-learn/scikit-learn/issues/21755 */display: inline-block !important;position: relative;}#sk-container-id-4 div.sk-text-repr-fallback {display: none;}</style><div id=\"sk-container-id-4\" class=\"sk-top-container\"><div class=\"sk-text-repr-fallback\"><pre>KNeighborsClassifier(algorithm=&#x27;ball_tree&#x27;, n_neighbors=9)</pre><b>In a Jupyter environment, please rerun this cell to show the HTML representation or trust the notebook. <br />On GitHub, the HTML representation is unable to render, please try loading this page with nbviewer.org.</b></div><div class=\"sk-container\" hidden><div class=\"sk-item\"><div class=\"sk-estimator sk-toggleable\"><input class=\"sk-toggleable__control sk-hidden--visually\" id=\"sk-estimator-id-6\" type=\"checkbox\" checked><label for=\"sk-estimator-id-6\" class=\"sk-toggleable__label sk-toggleable__label-arrow\">KNeighborsClassifier</label><div class=\"sk-toggleable__content\"><pre>KNeighborsClassifier(algorithm=&#x27;ball_tree&#x27;, n_neighbors=9)</pre></div></div></div></div></div>"
      ],
      "text/plain": [
       "KNeighborsClassifier(algorithm='ball_tree', n_neighbors=9)"
      ]
     },
     "execution_count": 29,
     "metadata": {},
     "output_type": "execute_result"
    }
   ],
   "source": [
    "classifier1.fit(X_train,y_train)"
   ]
  },
  {
   "cell_type": "code",
   "execution_count": 30,
   "id": "fb5a6c15-b0e7-40f7-bb78-73fd2c67cc24",
   "metadata": {},
   "outputs": [],
   "source": [
    "y_pred_best=classifier1.predict(X_test)"
   ]
  },
  {
   "cell_type": "code",
   "execution_count": 31,
   "id": "5c771d4c-9a76-4725-b69d-2aaa549a9a0e",
   "metadata": {},
   "outputs": [
    {
     "name": "stdout",
     "output_type": "stream",
     "text": [
      "0.906060606060606\n",
      "[[158  11]\n",
      " [ 20 141]]\n",
      "0.9276315789473685\n",
      "              precision    recall  f1-score   support\n",
      "\n",
      "           0       0.89      0.93      0.91       169\n",
      "           1       0.93      0.88      0.90       161\n",
      "\n",
      "    accuracy                           0.91       330\n",
      "   macro avg       0.91      0.91      0.91       330\n",
      "weighted avg       0.91      0.91      0.91       330\n",
      "\n"
     ]
    }
   ],
   "source": [
    "print(accuracy_score(y_test,y_pred))\n",
    "print(confusion_matrix(y_test,y_pred))\n",
    "print(precision_score(y_test,y_pred))\n",
    "print(classification_report(y_test,y_pred))"
   ]
  },
  {
   "cell_type": "code",
   "execution_count": 32,
   "id": "564d8a71-2623-4bdc-be97-9cf310809db3",
   "metadata": {},
   "outputs": [],
   "source": [
    "from sklearn.neighbors import KNeighborsRegressor"
   ]
  },
  {
   "cell_type": "code",
   "execution_count": 33,
   "id": "52e9be97-211d-486c-897f-5231095b4c0b",
   "metadata": {},
   "outputs": [],
   "source": [
    "X,y=make_classification(n_samples=1000,n_features=3,n_redundant=1,n_classes=2,random_state=999)"
   ]
  },
  {
   "cell_type": "code",
   "execution_count": 34,
   "id": "3a4e297f-c8c8-4268-9c5c-4a53391902dc",
   "metadata": {},
   "outputs": [],
   "source": [
    "X_train,X_test,y_train,y_test=train_test_split(X,y,test_size=0.33,random_state=42)"
   ]
  },
  {
   "cell_type": "code",
   "execution_count": 43,
   "id": "459d1fd5-9d5b-4cd2-9842-068f1fa3690d",
   "metadata": {},
   "outputs": [],
   "source": [
    "regressor=KNeighborsRegressor(n_neighbors=2,algorithm='auto')"
   ]
  },
  {
   "cell_type": "code",
   "execution_count": 44,
   "id": "3fd55a8b-9e7d-4417-914b-0acf2de1e8c7",
   "metadata": {},
   "outputs": [
    {
     "data": {
      "text/html": [
       "<style>#sk-container-id-6 {color: black;background-color: white;}#sk-container-id-6 pre{padding: 0;}#sk-container-id-6 div.sk-toggleable {background-color: white;}#sk-container-id-6 label.sk-toggleable__label {cursor: pointer;display: block;width: 100%;margin-bottom: 0;padding: 0.3em;box-sizing: border-box;text-align: center;}#sk-container-id-6 label.sk-toggleable__label-arrow:before {content: \"▸\";float: left;margin-right: 0.25em;color: #696969;}#sk-container-id-6 label.sk-toggleable__label-arrow:hover:before {color: black;}#sk-container-id-6 div.sk-estimator:hover label.sk-toggleable__label-arrow:before {color: black;}#sk-container-id-6 div.sk-toggleable__content {max-height: 0;max-width: 0;overflow: hidden;text-align: left;background-color: #f0f8ff;}#sk-container-id-6 div.sk-toggleable__content pre {margin: 0.2em;color: black;border-radius: 0.25em;background-color: #f0f8ff;}#sk-container-id-6 input.sk-toggleable__control:checked~div.sk-toggleable__content {max-height: 200px;max-width: 100%;overflow: auto;}#sk-container-id-6 input.sk-toggleable__control:checked~label.sk-toggleable__label-arrow:before {content: \"▾\";}#sk-container-id-6 div.sk-estimator input.sk-toggleable__control:checked~label.sk-toggleable__label {background-color: #d4ebff;}#sk-container-id-6 div.sk-label input.sk-toggleable__control:checked~label.sk-toggleable__label {background-color: #d4ebff;}#sk-container-id-6 input.sk-hidden--visually {border: 0;clip: rect(1px 1px 1px 1px);clip: rect(1px, 1px, 1px, 1px);height: 1px;margin: -1px;overflow: hidden;padding: 0;position: absolute;width: 1px;}#sk-container-id-6 div.sk-estimator {font-family: monospace;background-color: #f0f8ff;border: 1px dotted black;border-radius: 0.25em;box-sizing: border-box;margin-bottom: 0.5em;}#sk-container-id-6 div.sk-estimator:hover {background-color: #d4ebff;}#sk-container-id-6 div.sk-parallel-item::after {content: \"\";width: 100%;border-bottom: 1px solid gray;flex-grow: 1;}#sk-container-id-6 div.sk-label:hover label.sk-toggleable__label {background-color: #d4ebff;}#sk-container-id-6 div.sk-serial::before {content: \"\";position: absolute;border-left: 1px solid gray;box-sizing: border-box;top: 0;bottom: 0;left: 50%;z-index: 0;}#sk-container-id-6 div.sk-serial {display: flex;flex-direction: column;align-items: center;background-color: white;padding-right: 0.2em;padding-left: 0.2em;position: relative;}#sk-container-id-6 div.sk-item {position: relative;z-index: 1;}#sk-container-id-6 div.sk-parallel {display: flex;align-items: stretch;justify-content: center;background-color: white;position: relative;}#sk-container-id-6 div.sk-item::before, #sk-container-id-6 div.sk-parallel-item::before {content: \"\";position: absolute;border-left: 1px solid gray;box-sizing: border-box;top: 0;bottom: 0;left: 50%;z-index: -1;}#sk-container-id-6 div.sk-parallel-item {display: flex;flex-direction: column;z-index: 1;position: relative;background-color: white;}#sk-container-id-6 div.sk-parallel-item:first-child::after {align-self: flex-end;width: 50%;}#sk-container-id-6 div.sk-parallel-item:last-child::after {align-self: flex-start;width: 50%;}#sk-container-id-6 div.sk-parallel-item:only-child::after {width: 0;}#sk-container-id-6 div.sk-dashed-wrapped {border: 1px dashed gray;margin: 0 0.4em 0.5em 0.4em;box-sizing: border-box;padding-bottom: 0.4em;background-color: white;}#sk-container-id-6 div.sk-label label {font-family: monospace;font-weight: bold;display: inline-block;line-height: 1.2em;}#sk-container-id-6 div.sk-label-container {text-align: center;}#sk-container-id-6 div.sk-container {/* jupyter's `normalize.less` sets `[hidden] { display: none; }` but bootstrap.min.css set `[hidden] { display: none !important; }` so we also need the `!important` here to be able to override the default hidden behavior on the sphinx rendered scikit-learn.org. See: https://github.com/scikit-learn/scikit-learn/issues/21755 */display: inline-block !important;position: relative;}#sk-container-id-6 div.sk-text-repr-fallback {display: none;}</style><div id=\"sk-container-id-6\" class=\"sk-top-container\"><div class=\"sk-text-repr-fallback\"><pre>KNeighborsRegressor(n_neighbors=2)</pre><b>In a Jupyter environment, please rerun this cell to show the HTML representation or trust the notebook. <br />On GitHub, the HTML representation is unable to render, please try loading this page with nbviewer.org.</b></div><div class=\"sk-container\" hidden><div class=\"sk-item\"><div class=\"sk-estimator sk-toggleable\"><input class=\"sk-toggleable__control sk-hidden--visually\" id=\"sk-estimator-id-8\" type=\"checkbox\" checked><label for=\"sk-estimator-id-8\" class=\"sk-toggleable__label sk-toggleable__label-arrow\">KNeighborsRegressor</label><div class=\"sk-toggleable__content\"><pre>KNeighborsRegressor(n_neighbors=2)</pre></div></div></div></div></div>"
      ],
      "text/plain": [
       "KNeighborsRegressor(n_neighbors=2)"
      ]
     },
     "execution_count": 44,
     "metadata": {},
     "output_type": "execute_result"
    }
   ],
   "source": [
    "regressor.fit(X_train,y_train)"
   ]
  },
  {
   "cell_type": "code",
   "execution_count": 45,
   "id": "5f59327e-4a31-41d0-addb-da155300726b",
   "metadata": {},
   "outputs": [],
   "source": [
    "y_pred=regressor.predict(X_test)"
   ]
  },
  {
   "cell_type": "code",
   "execution_count": 46,
   "id": "ce1c50cd-afe4-4dcc-acfb-3b98b5807b9a",
   "metadata": {},
   "outputs": [
    {
     "name": "stdout",
     "output_type": "stream",
     "text": [
      "0.6149252085706935\n",
      "0.12575757575757576\n",
      "0.09621212121212121\n"
     ]
    }
   ],
   "source": [
    "from sklearn.metrics import r2_score,mean_absolute_error,mean_squared_error\n",
    "print(r2_score(y_test,y_pred))\n",
    "print(mean_absolute_error(y_test,y_pred))\n",
    "print(mean_squared_error(y_test,y_pred))\n"
   ]
  },
  {
   "cell_type": "code",
   "execution_count": null,
   "id": "83eafd18-875e-4a6c-a8a8-8887327dbf48",
   "metadata": {},
   "outputs": [],
   "source": []
  },
  {
   "cell_type": "code",
   "execution_count": null,
   "id": "b05bd209-8b14-48a0-9ded-6a972791a715",
   "metadata": {},
   "outputs": [],
   "source": []
  },
  {
   "cell_type": "code",
   "execution_count": null,
   "id": "0504547d-c522-486e-b0c8-c7aaa04d30fd",
   "metadata": {},
   "outputs": [],
   "source": []
  },
  {
   "cell_type": "code",
   "execution_count": null,
   "id": "01cfe7ad-09f0-4847-81c3-cf0921b97db8",
   "metadata": {},
   "outputs": [],
   "source": []
  },
  {
   "cell_type": "code",
   "execution_count": null,
   "id": "a3a341a2-8b10-4edd-b1eb-b556e435265b",
   "metadata": {},
   "outputs": [],
   "source": []
  },
  {
   "cell_type": "code",
   "execution_count": null,
   "id": "d0a45807-5d7b-4f20-aee1-adbb13e1917a",
   "metadata": {},
   "outputs": [],
   "source": []
  },
  {
   "cell_type": "code",
   "execution_count": null,
   "id": "008d02e7-e247-43f9-8e95-6da0488a5968",
   "metadata": {},
   "outputs": [],
   "source": []
  },
  {
   "cell_type": "code",
   "execution_count": null,
   "id": "938d73d9-d44b-4312-bc49-f79530375722",
   "metadata": {},
   "outputs": [],
   "source": []
  },
  {
   "cell_type": "code",
   "execution_count": null,
   "id": "3670bf1f-e76c-4b2e-a8d6-b8fe45a09e05",
   "metadata": {},
   "outputs": [],
   "source": []
  },
  {
   "cell_type": "code",
   "execution_count": null,
   "id": "cc48d62f-cc7d-4cf5-b592-13cfa1e48bd4",
   "metadata": {},
   "outputs": [],
   "source": []
  }
 ],
 "metadata": {
  "kernelspec": {
   "display_name": "Python 3 (ipykernel)",
   "language": "python",
   "name": "python3"
  },
  "language_info": {
   "codemirror_mode": {
    "name": "ipython",
    "version": 3
   },
   "file_extension": ".py",
   "mimetype": "text/x-python",
   "name": "python",
   "nbconvert_exporter": "python",
   "pygments_lexer": "ipython3",
   "version": "3.10.8"
  }
 },
 "nbformat": 4,
 "nbformat_minor": 5
}
