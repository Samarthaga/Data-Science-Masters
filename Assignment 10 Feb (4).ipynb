{
 "cells": [
  {
   "cell_type": "code",
   "execution_count": null,
   "id": "99d4289d-388b-4a24-87cf-8ea52345085f",
   "metadata": {},
   "outputs": [],
   "source": [
    "## Ans 1: It is specified observed numerical value used to estimate an unknown population perimeter\n",
    "##Point estimate : single numerical value used to estimate an unknown population perimeter\n",
    "## Interval estimate : ranghe of values used to estimate the unknown population perimeter"
   ]
  },
  {
   "cell_type": "code",
   "execution_count": null,
   "id": "8f9b8146-bdc9-4d40-9a4a-4d85691c727b",
   "metadata": {},
   "outputs": [],
   "source": [
    "## Ans 2."
   ]
  },
  {
   "cell_type": "code",
   "execution_count": null,
   "id": "b611385b-a3eb-4303-ad2f-e1b45c4a39fd",
   "metadata": {},
   "outputs": [],
   "source": [
    "## Ans 3. What do you mean by hypothesis testing?\n",
    "## Hypothesis testing is a form of statistical inference that uses data from a sample to draw conclusions about a population parameter or a population probability distribution. First, a tentative assumption is made about the parameter or distribution."
   ]
  },
  {
   "cell_type": "code",
   "execution_count": 9,
   "id": "c080f502-f386-4d9f-a755-35f696d85a69",
   "metadata": {},
   "outputs": [
    {
     "data": {
      "text/plain": [
       "Ttest_indResult(statistic=-1.2702743514546675, pvalue=0.20699451818725442)"
      ]
     },
     "execution_count": 9,
     "metadata": {},
     "output_type": "execute_result"
    }
   ],
   "source": [
    "## Ans 4 let avg weight of the male students > than the avg wt of female students \n",
    "## Null hypothesis is ho: avg wt of male > than avg wt of girls Ho\n",
    "## Alternale hypothesis :is avg wt of male is not greater tan avg wt of girls H1\n",
    "data1=np.random.rand(50)\n",
    "data2=np.random.rand(50)\n",
    "data1\n",
    "stats.ttest_ind(a=data1,b=data2,equal_var=True)\n",
    "## since p value is less than 0.5 therefor the hyposis is true and accepted "
   ]
  },
  {
   "cell_type": "code",
   "execution_count": 2,
   "id": "c437ed98-1442-44a9-bbcb-f62946c942e0",
   "metadata": {},
   "outputs": [],
   "source": [
    "## Ans 5 .\n",
    "import scipy.stats as stats\n",
    "import numpy as np"
   ]
  },
  {
   "cell_type": "code",
   "execution_count": 5,
   "id": "d2363157-e8e0-4bf3-8182-6e6c2f0878e8",
   "metadata": {},
   "outputs": [],
   "source": [
    "data_1=np.array([14, 15, 15, 16, 13, 8, 14,\n",
    "                        17, 16, 14, 19, 20, 21, 15,\n",
    "                        15, 16, 16, 13, 14, 12])\n",
    "data_2=np.array([15, 17, 14, 17, 14, 8, 12,\n",
    "                        19, 19, 14, 17, 22, 24, 16,\n",
    "                        13, 16, 13, 18, 15, 13])"
   ]
  },
  {
   "cell_type": "code",
   "execution_count": 6,
   "id": "21b7b9ac-0cfa-47e9-be7c-c6c8c948ffb7",
   "metadata": {},
   "outputs": [
    {
     "data": {
      "text/plain": [
       "Ttest_indResult(statistic=-0.6337397070250238, pvalue=0.5300471010405257)"
      ]
     },
     "execution_count": 6,
     "metadata": {},
     "output_type": "execute_result"
    }
   ],
   "source": [
    "stats.ttest_ind(a=data_1, b=data_2, equal_var=True)"
   ]
  },
  {
   "cell_type": "code",
   "execution_count": null,
   "id": "f35294a7-7edb-4d1c-b7bb-14741352bbf9",
   "metadata": {},
   "outputs": [],
   "source": [
    "## Ans 6 . The null hypothesis (H0) answers “No, there's no effect in the population.” The alternative hypothesis (Ha) answers “Yes, there is an effect in the population.\n",
    "## Example whether the loan paid by the population people in time or not"
   ]
  },
  {
   "cell_type": "code",
   "execution_count": null,
   "id": "63de8bd3-d2ca-4711-a193-ea62ce36cc38",
   "metadata": {},
   "outputs": [],
   "source": [
    "## Ans 7 : steps \n",
    "##1 mean should be known with std dev value provided \n",
    "## sample size should be greater than or equal to 30 \n",
    "## CI should be known \n",
    "## State your null and alternate hypothesis. ...\n",
    "##Step 2: Collect data. ...\n",
    "##Step 3: Perform a statistical test. ...\n",
    "##Step 4: Decide whether to reject or fail to reject your null hypothesis. ...\n",
    "##Step 5: Present your findings."
   ]
  },
  {
   "cell_type": "code",
   "execution_count": null,
   "id": "5428c397-b56a-492f-9318-724e261cf2c4",
   "metadata": {},
   "outputs": [],
   "source": [
    "## Ans 8.  p-value is a statistical measurement used to validate a hypothesis against observed data. A p-value measures the probability of obtaining the observed results, assuming that the null hypothesis is true. \n",
    "## significance if p value < significance rule reject the hypothesis and value lies in null hypothesis "
   ]
  },
  {
   "cell_type": "code",
   "execution_count": 11,
   "id": "97379db1-f309-43d7-b3e8-711888d2250d",
   "metadata": {},
   "outputs": [
    {
     "name": "stdout",
     "output_type": "stream",
     "text": [
      "RV : \n",
      " <scipy.stats._distn_infrastructure.rv_continuous_frozen object at 0x7f0edee247c0>\n"
     ]
    }
   ],
   "source": [
    "from scipy.stats import t \n",
    "    \n",
    "numargs = t .numargs \n",
    "a, b = 4.32, 3.18\n",
    "rv = t (a, b) \n",
    "    \n",
    "print (\"RV : \\n\", rv) "
   ]
  },
  {
   "cell_type": "code",
   "execution_count": 12,
   "id": "ccec7492-6db4-4b9f-9452-0f666f795af1",
   "metadata": {},
   "outputs": [
    {
     "name": "stdout",
     "output_type": "stream",
     "text": [
      "Distribution : \n",
      " [0.         0.06122449 0.12244898 0.18367347 0.24489796 0.30612245\n",
      " 0.36734694 0.42857143 0.48979592 0.55102041 0.6122449  0.67346939\n",
      " 0.73469388 0.79591837 0.85714286 0.91836735 0.97959184 1.04081633\n",
      " 1.10204082 1.16326531 1.2244898  1.28571429 1.34693878 1.40816327\n",
      " 1.46938776 1.53061224 1.59183673 1.65306122 1.71428571 1.7755102\n",
      " 1.83673469 1.89795918 1.95918367 2.02040816 2.08163265 2.14285714\n",
      " 2.20408163 2.26530612 2.32653061 2.3877551  2.44897959 2.51020408\n",
      " 2.57142857 2.63265306 2.69387755 2.75510204 2.81632653 2.87755102\n",
      " 2.93877551 3.        ]\n"
     ]
    },
    {
     "data": {
      "image/png": "[encoded data removed]",
      "text/plain": [
       "<Figure size 640x480 with 1 Axes>"
      ]
     },
     "metadata": {},
     "output_type": "display_data"
    }
   ],
   "source": [
    "## Ans 9. \n",
    "import numpy as np \n",
    "import matplotlib.pyplot as plt \n",
    "     \n",
    "distribution = np.linspace(0, np.minimum(rv.dist.b, 3)) \n",
    "print(\"Distribution : \\n\", distribution) \n",
    "     \n",
    "plot = plt.plot(distribution, rv.pdf(distribution)) "
   ]
  },
  {
   "cell_type": "code",
   "execution_count": null,
   "id": "91d2a664-1550-41a8-b5b1-9eee68bb6e7e",
   "metadata": {},
   "outputs": [],
   "source": [
    "## Ans 10."
   ]
  },
  {
   "cell_type": "code",
   "execution_count": null,
   "id": "47174312-249b-4808-8e7b-43a5c76f35c2",
   "metadata": {},
   "outputs": [],
   "source": [
    "## Ans 11: The t-distribution is used when data are approximately normally distributed, which means the data follow a bell shape but the population variance is unknown. The variance in a t-distribution is estimated based on the degrees of freedom of the data set (total number of observations minus 1)"
   ]
  },
  {
   "cell_type": "code",
   "execution_count": null,
   "id": "7c940b84-2192-4530-8ad2-85fb0903ea77",
   "metadata": {},
   "outputs": [],
   "source": [
    "## Ans 12.a t-value using a common t-test with the formula: t = (X‾ - μ0) / (s / √n), where X‾ is the sample mean, μ0 represents the population mean, s is the standard deviation of the sample and n stands for the size of the sample"
   ]
  },
  {
   "cell_type": "code",
   "execution_count": null,
   "id": "a9c63f64-940e-466c-9822-1fd03c8af629",
   "metadata": {},
   "outputs": [],
   "source": [
    "## Ans 13. n=50,meu=500,sigma=50,CI=95\n",
    "## we apply ztest formula\n",
    "## we have to estimate the population  mean revenue with a 95% confidence interval.\n",
    "## ztable value for 0.95=1.955 \n",
    "## after putting in ztest formula \n",
    "## X=984.57 is the population mean for 95per CI"
   ]
  },
  {
   "cell_type": "code",
   "execution_count": null,
   "id": "f2624815-bed7-4f86-ad00-6fd70adaa3a9",
   "metadata": {},
   "outputs": [],
   "source": []
  },
  {
   "cell_type": "code",
   "execution_count": null,
   "id": "f21046a4-d615-4703-ae39-516540f59abc",
   "metadata": {},
   "outputs": [],
   "source": []
  },
  {
   "cell_type": "code",
   "execution_count": null,
   "id": "6dd897d2-6477-425d-9eee-b4cd8410cea9",
   "metadata": {},
   "outputs": [],
   "source": []
  },
  {
   "cell_type": "code",
   "execution_count": null,
   "id": "5669bf5f-da38-4507-91dd-f66eac766a9b",
   "metadata": {},
   "outputs": [],
   "source": []
  },
  {
   "cell_type": "code",
   "execution_count": null,
   "id": "f43903c6-b17a-4c80-921f-264becd1ca28",
   "metadata": {},
   "outputs": [],
   "source": []
  },
  {
   "cell_type": "code",
   "execution_count": null,
   "id": "33e8b0cb-f1dd-4077-89dd-baf5f5affbbc",
   "metadata": {},
   "outputs": [],
   "source": []
  },
  {
   "cell_type": "code",
   "execution_count": null,
   "id": "b2ae0ad0-3bae-49e5-be62-d92c462a16e5",
   "metadata": {},
   "outputs": [],
   "source": []
  },
  {
   "cell_type": "code",
   "execution_count": null,
   "id": "c9e851bf-fbb6-4694-8a6b-28e2eb1c58a0",
   "metadata": {},
   "outputs": [],
   "source": []
  },
  {
   "cell_type": "code",
   "execution_count": null,
   "id": "932fd55f-3dc9-45b6-8ccf-0db8c8673cd9",
   "metadata": {},
   "outputs": [],
   "source": []
  },
  {
   "cell_type": "code",
   "execution_count": null,
   "id": "c0d84f33-5ddb-46b9-bc36-6ccb0dd9c42b",
   "metadata": {},
   "outputs": [],
   "source": []
  }
 ],
 "metadata": {
  "kernelspec": {
   "display_name": "Python 3 (ipykernel)",
   "language": "python",
   "name": "python3"
  },
  "language_info": {
   "codemirror_mode": {
    "name": "ipython",
    "version": 3
   },
   "file_extension": ".py",
   "mimetype": "text/x-python",
   "name": "python",
   "nbconvert_exporter": "python",
   "pygments_lexer": "ipython3",
   "version": "3.10.8"
  }
 },
 "nbformat": 4,
 "nbformat_minor": 5
}
