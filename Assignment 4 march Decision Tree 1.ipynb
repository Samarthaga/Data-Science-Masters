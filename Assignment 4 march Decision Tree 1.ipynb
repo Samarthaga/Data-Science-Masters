{
 "cells": [
  {
   "cell_type": "code",
   "execution_count": null,
   "id": "a6a2567f-b590-4802-8982-f1660aa30370",
   "metadata": {},
   "outputs": [],
   "source": [
    "## Ans 1: A decision tree is a non-parametric supervised learning algorithm, which is utilized for both classification and regression tasks. It has a hierarchical, tree structure, which consists of a root node, branches, internal nodes and leaf nodes\n"
   ]
  },
  {
   "cell_type": "code",
   "execution_count": null,
   "id": "a1b11724-487b-4a75-88e1-523dacba099c",
   "metadata": {},
   "outputs": [],
   "source": [
    "## Ans 2: A Binary Decision Tree is a structure based on a sequential decision process. Starting from the root, a feature is evaluated and one of the two branches is selected. This procedure is repeated until a final leaf is reached, which normally represents the classification target you're looking for."
   ]
  },
  {
   "cell_type": "code",
   "execution_count": null,
   "id": "dc754160-63b3-4182-b1cb-f908a752da0f",
   "metadata": {},
   "outputs": [],
   "source": [
    "# Ans 4: A decision tree model is formed using a hierarchy of branches. Each path from the root node through internal nodes to a leaf node represents a classification decision rule. These decision tree pathways can also be represented as 'if-then' rules"
   ]
  },
  {
   "cell_type": "code",
   "execution_count": null,
   "id": "2f8fdaf1-5582-4fc4-b345-1cba471f5c78",
   "metadata": {},
   "outputs": [],
   "source": [
    "# Ans 5:A confusion matrix is a table that allows you to visualize the performance of a classification model. You can also use the information in it to calculate measures that can help you determine the usefulness of the model. Rows represent predicted classifications, while columns represent the true classes from the data"
   ]
  },
  {
   "cell_type": "code",
   "execution_count": null,
   "id": "f7d4637b-63b1-4534-8d5a-634663d8ffd2",
   "metadata": {},
   "outputs": [],
   "source": [
    "# Ans 7: Metrics like accuracy, precision, recall are good ways to evaluate classification models for balanced datasets, but if the data is imbalanced then other methods like ROC/AUC perform better in evaluating the model performance"
   ]
  },
  {
   "cell_type": "code",
   "execution_count": null,
   "id": "11cf3e95-a53f-480d-9d77-24afed7ab811",
   "metadata": {},
   "outputs": [],
   "source": [
    "## Ans 8 This is one of the example where Precision is more important than Recall. Quick Recap: Precision: This tells when you predict something positive, how many times they were actually positive"
   ]
  },
  {
   "cell_type": "code",
   "execution_count": null,
   "id": "2d97969e-0c9c-4d11-aa3e-6982f201e1e2",
   "metadata": {},
   "outputs": [],
   "source": []
  },
  {
   "cell_type": "code",
   "execution_count": null,
   "id": "2e7739fd-1d92-4b01-95b7-ab50b48d0c94",
   "metadata": {},
   "outputs": [],
   "source": []
  },
  {
   "cell_type": "code",
   "execution_count": null,
   "id": "9d118904-b477-4c9e-876b-9479bbb11107",
   "metadata": {},
   "outputs": [],
   "source": []
  },
  {
   "cell_type": "code",
   "execution_count": null,
   "id": "7c1a9d22-100d-4550-969d-e6a84eb9b330",
   "metadata": {},
   "outputs": [],
   "source": []
  },
  {
   "cell_type": "code",
   "execution_count": null,
   "id": "48eb5b21-4f31-4606-b465-89e00f4ce1ee",
   "metadata": {},
   "outputs": [],
   "source": []
  },
  {
   "cell_type": "code",
   "execution_count": null,
   "id": "a16628a0-27fb-4575-a176-96e6c86245df",
   "metadata": {},
   "outputs": [],
   "source": []
  },
  {
   "cell_type": "code",
   "execution_count": null,
   "id": "299f625b-bb2c-40c5-b249-1990e6248d0f",
   "metadata": {},
   "outputs": [],
   "source": []
  },
  {
   "cell_type": "code",
   "execution_count": null,
   "id": "021e0910-f73f-4538-b46c-3dd3803162c0",
   "metadata": {},
   "outputs": [],
   "source": []
  },
  {
   "cell_type": "code",
   "execution_count": null,
   "id": "fa5a0cda-88b6-4e40-a4c0-d5c7d724b6f9",
   "metadata": {},
   "outputs": [],
   "source": []
  },
  {
   "cell_type": "code",
   "execution_count": null,
   "id": "397fe43e-578b-4e77-a662-d5737b8c3bb7",
   "metadata": {},
   "outputs": [],
   "source": []
  },
  {
   "cell_type": "code",
   "execution_count": null,
   "id": "227f45a5-cf9c-41fa-a6b6-ddf8e0f0fcc8",
   "metadata": {},
   "outputs": [],
   "source": []
  }
 ],
 "metadata": {
  "kernelspec": {
   "display_name": "Python 3 (ipykernel)",
   "language": "python",
   "name": "python3"
  },
  "language_info": {
   "codemirror_mode": {
    "name": "ipython",
    "version": 3
   },
   "file_extension": ".py",
   "mimetype": "text/x-python",
   "name": "python",
   "nbconvert_exporter": "python",
   "pygments_lexer": "ipython3",
   "version": "3.10.8"
  }
 },
 "nbformat": 4,
 "nbformat_minor": 5
}
