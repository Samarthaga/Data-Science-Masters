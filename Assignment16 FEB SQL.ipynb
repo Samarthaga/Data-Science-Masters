{
 "cells": [
  {
   "cell_type": "code",
   "execution_count": null,
   "id": "a5a1603d-ab25-4bba-9e52-8402e2b4ed91",
   "metadata": {},
   "outputs": [],
   "source": [
    "## Ans 1. a database is an organised collection of structured data of info.strored in an system\n",
    "## Sql is structured query language where data is present in more structured way in rows and columns \n",
    "## NOSql not only sql is a data consisting of non structured data like img,audio,txt stored in a system"
   ]
  },
  {
   "cell_type": "code",
   "execution_count": null,
   "id": "b40097c0-e04d-46a0-990b-930d2fff3457",
   "metadata": {},
   "outputs": [],
   "source": [
    "Ans 2.\n",
    "\n",
    "##DDL is data definition language used to define data structures \n",
    "## Create is used to create a schema of a table where rows are defined using int ,varchar,date,float,str \n",
    " Create table bank(\n",
    "    -> name varchar(60),\n",
    "    -> location varchar(40),\n",
    "    -> branches int\n",
    "    -> );\n",
    "    \n",
    "##drop is used to delete or remove the data and table from database and cannot be accessed further\n",
    "drop table bank; if executed will delete the compete table \n",
    "\n",
    "##alter is used to add any rows , unique key ,foreign key to the existing rows by using alter table and add comand\n",
    "    \n",
    "##Truncate is used to delete the data from the table by not completely deleteing the schema of the table and only the data inside the table \n",
    "Truncate table bank;\n"
   ]
  },
  {
   "cell_type": "code",
   "execution_count": null,
   "id": "62cab8f3-f37a-49cd-9c38-6362b1a46375",
   "metadata": {},
   "outputs": [],
   "source": [
    "## Ans 3. data manupulation language is used to insert , update and delete the data existing or to be added in the table and databases\n",
    "\n",
    "Insert is used to insert the data ion the table \n",
    "like insert into table_name values('columnname1','2','3');\n",
    "\n",
    "update is used to update the  existing data with some new data via using update table set column name ='new' where columnname='existing' \n",
    "\n",
    "## delete is used to delete the data from the table by using from and where clause \n",
    "delete from bank\n",
    "    -> where name='axis';\n"
   ]
  },
  {
   "cell_type": "code",
   "execution_count": null,
   "id": "4395b658-92b2-4d88-91ea-aa2ba61be284",
   "metadata": {},
   "outputs": [],
   "source": [
    "Data query language is used to filter the data from table using select query where data to be filtered is called by select query \n",
    "Select coulun_name from table name where sales > 10000 ;\n",
    "here both select basis condition data is selected "
   ]
  },
  {
   "cell_type": "code",
   "execution_count": null,
   "id": "af119ffe-5a0a-4e69-a297-6a383dff9e9c",
   "metadata": {},
   "outputs": [],
   "source": [
    "primary key is used where data or column cannot be null and have a unique value which cannot gets repeated and can be identified as a unique identity \n",
    "foreign key is used to show relationship b/w primary key and foregn key b/w 2 tables which can be used for co relationb/w them \n"
   ]
  },
  {
   "cell_type": "code",
   "execution_count": null,
   "id": "ad1198da-6f08-4dfd-baa2-0b2dcbdc8bde",
   "metadata": {},
   "outputs": [],
   "source": [
    "## Ans 6. \n",
    "import mysql.connector\n",
    "mydb = mysql.connector.connect(\n",
    "  host=\"localhost\",\n",
    "  user=\"abc\",\n",
    "  password=\"password\"\n",
    ")\n",
    "\n",
    "This method executes the given database operation (query or command). "
   ]
  },
  {
   "cell_type": "code",
   "execution_count": null,
   "id": "f6ff00d0-d6aa-4606-b4ae-85b41ace0d97",
   "metadata": {},
   "outputs": [],
   "source": [
    "##Ans 7.FROM/JOIN: The FROM and/or JOIN clauses are executed first to determine the data of interest.\n",
    "##WHERE: The WHERE clause is executed to filter out records that do not meet the constraints.\n",
    "##GROUP BY: The GROUP BY clause is executed to group the data based on the values in one or more columns"
   ]
  },
  {
   "cell_type": "code",
   "execution_count": null,
   "id": "d887af2a-be7b-4e31-8bc1-cb3fe57ef00f",
   "metadata": {},
   "outputs": [],
   "source": []
  },
  {
   "cell_type": "code",
   "execution_count": null,
   "id": "9f464e9d-b6d3-46f9-82ac-736caa393c6e",
   "metadata": {},
   "outputs": [],
   "source": []
  },
  {
   "cell_type": "code",
   "execution_count": null,
   "id": "b9350045-9c6d-4d91-894c-d71647813b7e",
   "metadata": {},
   "outputs": [],
   "source": []
  }
 ],
 "metadata": {
  "kernelspec": {
   "display_name": "Python 3 (ipykernel)",
   "language": "python",
   "name": "python3"
  },
  "language_info": {
   "codemirror_mode": {
    "name": "ipython",
    "version": 3
   },
   "file_extension": ".py",
   "mimetype": "text/x-python",
   "name": "python",
   "nbconvert_exporter": "python",
   "pygments_lexer": "ipython3",
   "version": "3.10.8"
  }
 },
 "nbformat": 4,
 "nbformat_minor": 5
}
