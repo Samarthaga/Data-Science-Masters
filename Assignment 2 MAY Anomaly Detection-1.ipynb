{
 "cells": [
  {
   "cell_type": "markdown",
   "id": "14facf51-2e0a-40b0-8d05-adbaaff792e4",
   "metadata": {},
   "source": [
    "# Assignment 2 MAY Anomaly Detection-1"
   ]
  },
  {
   "cell_type": "code",
   "execution_count": null,
   "id": "ad3e2c79-3ab5-4c8f-8d78-392297ed2126",
   "metadata": {},
   "outputs": [],
   "source": [
    "# Ans 1: Anomaly detection identifies suspicious activity that falls outside of your established normal patterns of behavior. A solution protects your system in real-time from instances that could result in significant financial losses, data breaches, and other harmful events"
   ]
  },
  {
   "cell_type": "code",
   "execution_count": null,
   "id": "77e8931b-7f5d-4bce-a423-8f97606542b7",
   "metadata": {},
   "outputs": [],
   "source": [
    "# Ans 2: Challenges in anomaly detection include appropriate feature extraction, defining normal behaviors, handling imbalanced distribution of normal and abnormal data, addressing the variations in abnormal behavior, sparse occurrence of abnormal events, environmental variations, camera movements, etc"
   ]
  },
  {
   "cell_type": "code",
   "execution_count": null,
   "id": "30fb00df-1f47-4492-acb1-22a33a4d5ef4",
   "metadata": {},
   "outputs": [],
   "source": [
    "# Ans 3: The main difference between supervised and unsupervised learning: Labeled data. The main distinction between the two approaches is the use of labeled datasets. To put it simply, supervised learning uses labeled input and output data, while an unsupervised learning algorithm does not"
   ]
  },
  {
   "cell_type": "code",
   "execution_count": null,
   "id": "8bc3228d-02bc-45b0-95f3-b0bbcd2cd90a",
   "metadata": {},
   "outputs": [],
   "source": [
    "# Ans 4: There are three main classes of anomaly detection techniques: unsupervised, semi-supervised, and supervised. Essentially, the correct anomaly detection method depends on the available labels in the dataset."
   ]
  },
  {
   "cell_type": "code",
   "execution_count": null,
   "id": "3a722cff-53f0-40d3-9dc4-8127c2c3e49c",
   "metadata": {},
   "outputs": [],
   "source": [
    "# Ans 5 : Distance-based outlier detection method consults the neighbourhood of an object, which is defined by a given radius. An object is then considered an outlier if its neighborhood does not have enough other points. A distance the threshold that can be defined as a reasonable neighbourhood of the object"
   ]
  },
  {
   "cell_type": "code",
   "execution_count": null,
   "id": "f91aa854-df10-41ea-92e8-f82ebe43e09a",
   "metadata": {},
   "outputs": [],
   "source": [
    "# Ans 6 : The Local Outlier Factor (LOF) algorithm is an unsupervised anomaly detection method which computes the local density deviation of a given data point with respect to its neighbors. It considers as outliers the samples that have a substantially lower density than their neighbors"
   ]
  },
  {
   "cell_type": "code",
   "execution_count": null,
   "id": "14c37154-f214-4d96-bfbb-0c5eba281839",
   "metadata": {},
   "outputs": [],
   "source": [
    "# Ans 7: The Isolation Forest algorithm is a fast tree-based algorithm for anomaly detection. The algorithm uses the concept of path lengths in binary search trees to assign anomaly scores to each point in a dataset"
   ]
  },
  {
   "cell_type": "markdown",
   "id": "94cabcfa-efaa-439a-b6d3-f5679e8dbe02",
   "metadata": {},
   "source": [
    "# Assignmnet 3 May Anomaly Detection-2"
   ]
  },
  {
   "cell_type": "code",
   "execution_count": null,
   "id": "500b61a4-5f63-40e1-bab6-1b45a9ba8cdf",
   "metadata": {},
   "outputs": [],
   "source": [
    "# Ans 1: A method for automatic feature selection in anomaly detection is proposed which determines optimal mixture coefficients for various sets of features. The method generalizes the support vector data description (SVDD) and can be expressed as a semi-infinite linear program that can be solved with standard techniques"
   ]
  },
  {
   "cell_type": "code",
   "execution_count": null,
   "id": "abb2ff64-0412-446f-bc04-7395b308df71",
   "metadata": {},
   "outputs": [],
   "source": [
    "# Ans 2:Generally, in order to evaluate the quality of an anomaly detection technique, the confusion matrix and its derived metrics such as precision and recall are used. \n",
    "# These metrics, however, do not take this temporal dimension into consideration"
   ]
  },
  {
   "cell_type": "code",
   "execution_count": null,
   "id": "de3deab3-7bfd-459a-b144-d8495eba03ca",
   "metadata": {},
   "outputs": [],
   "source": [
    "# Ans 3: DBSCAN is a density-based clustering algorithm that works on the assumption that clusters are dense regions in space separated by regions of lower density. It groups 'densely grouped' data points into a single cluster."
   ]
  },
  {
   "cell_type": "code",
   "execution_count": null,
   "id": "25726e13-0aff-4ccf-82c3-8d7d560f2c61",
   "metadata": {},
   "outputs": [],
   "source": [
    "# Ans 4 : it is the distance that DBSCAN uses to determine if two points are similar and belong together. A larger epsilon will produce broader clusters (encompassing more data points) and a smaller epsilon will build smaller clusters"
   ]
  },
  {
   "cell_type": "code",
   "execution_count": null,
   "id": "79e0c356-1aa0-4be8-89cd-d44357eff0c8",
   "metadata": {},
   "outputs": [],
   "source": [
    "# Ans 5: The Core Points, as the name suggests, lie usually within the interior of a cluster. A Border Point has fewer than MinPts within its ϵ-neighborhood (N), but it lies in the neighborhood of another core point. Noise is any data point that is neither core nor border point. \n",
    "# If there are at least minPts number of points in the neighborhood, the point is marked as core point and a cluster formation starts. If not, the point is marked as noise"
   ]
  },
  {
   "cell_type": "code",
   "execution_count": null,
   "id": "f6216798-bfdd-4352-b463-050bc2f2a685",
   "metadata": {},
   "outputs": [],
   "source": [
    "# Ans 6: The DBScan algorithm works as follows. It checks the ε-neighborhood of each object of the dataset, and if in this area more objects than MinPts exist then it is called a core object. Each cluster is grown from a core object by collecting those points that are directly density-reachable from the core point"
   ]
  },
  {
   "cell_type": "code",
   "execution_count": null,
   "id": "3a7acc50-6da0-4162-a770-10ef8075c597",
   "metadata": {},
   "outputs": [],
   "source": [
    "# Ans 7 : Make a large circle containing a smaller circle in 2d. where mon no of points n are 100 and have noise as Gaussian Noise and shuffle as bollean present"
   ]
  },
  {
   "cell_type": "code",
   "execution_count": null,
   "id": "11653bc1-69f0-48a4-899a-2ed402920d39",
   "metadata": {},
   "outputs": [],
   "source": [
    "# Ans 8 : There are two general types of outlier detection: global and local. Global outliers fall outside the normal range for an entire dataset, whereas local outliers may fall within the normal range for the entire dataset, but outside the normal range for the surrounding data points"
   ]
  },
  {
   "cell_type": "code",
   "execution_count": null,
   "id": "86fb8817-09a1-41e0-a6fc-7953f1dabb6f",
   "metadata": {},
   "outputs": [],
   "source": [
    "# Ans 9 : The Local Outlier Factor (LOF) algorithm is an unsupervised anomaly detection method which computes the local density deviation of a given data point with respect to its neighbors. It considers as outliers the samples that have a substantially lower density than their neighbors."
   ]
  },
  {
   "cell_type": "code",
   "execution_count": null,
   "id": "236caa8b-da1c-46a2-9784-a8333a7b00e7",
   "metadata": {},
   "outputs": [],
   "source": [
    "# Ans 10 : Isolation Forest is based on the Decision Tree algorithm. It isolates the outliers by randomly selecting a feature from the given set of features and then randomly selecting a split value between the max and min values of that feature"
   ]
  },
  {
   "cell_type": "code",
   "execution_count": null,
   "id": "48602397-d9f8-420a-b974-53d39e57b087",
   "metadata": {},
   "outputs": [],
   "source": [
    "# Ans 11: if large sums of money are spent one after another within one day and it is not your typical behavior, a bank can block your card\n",
    "# Also if the large no of money is sent to some other individual outside the known contacts then it is global outlier "
   ]
  },
  {
   "cell_type": "code",
   "execution_count": null,
   "id": "33a3debc-7d84-4c63-b729-826f84dc3624",
   "metadata": {},
   "outputs": [],
   "source": []
  },
  {
   "cell_type": "code",
   "execution_count": null,
   "id": "d53ae95b-7c4e-430a-a4d0-09348df83a3c",
   "metadata": {},
   "outputs": [],
   "source": []
  },
  {
   "cell_type": "code",
   "execution_count": null,
   "id": "5d92258d-4658-497c-840c-d9cdaf00a2eb",
   "metadata": {
    "tags": []
   },
   "outputs": [],
   "source": []
  }
 ],
 "metadata": {
  "kernelspec": {
   "display_name": "Python 3 (ipykernel)",
   "language": "python",
   "name": "python3"
  },
  "language_info": {
   "codemirror_mode": {
    "name": "ipython",
    "version": 3
   },
   "file_extension": ".py",
   "mimetype": "text/x-python",
   "name": "python",
   "nbconvert_exporter": "python",
   "pygments_lexer": "ipython3",
   "version": "3.10.8"
  }
 },
 "nbformat": 4,
 "nbformat_minor": 5
}
