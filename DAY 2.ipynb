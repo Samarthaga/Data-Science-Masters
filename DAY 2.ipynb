{
 "cells": [
  {
   "cell_type": "code",
   "execution_count": 3,
   "id": "cc1f50b3-1f41-4e7a-a372-ae12feac6b95",
   "metadata": {},
   "outputs": [
    {
     "name": "stdout",
     "output_type": "stream",
     "text": [
      "my age is: 32\n"
     ]
    }
   ],
   "source": [
    "age=32\n",
    "print('my age is:',age)"
   ]
  },
  {
   "cell_type": "raw",
   "id": "22272bfd-85f5-4e12-9cc3-97dd2216ef19",
   "metadata": {},
   "source": [
    "print('my age is : {age}')"
   ]
  },
  {
   "cell_type": "code",
   "execution_count": 5,
   "id": "1c74ec16-116b-4cb2-ac69-e9136498ed46",
   "metadata": {},
   "outputs": [
    {
     "name": "stdout",
     "output_type": "stream",
     "text": [
      "my age is : 32\n"
     ]
    }
   ],
   "source": [
    "## fstring\n",
    "print(f'my age is : {age}')"
   ]
  },
  {
   "cell_type": "code",
   "execution_count": 7,
   "id": "19acd7e1-6133-420b-97fb-d7e2d30ebb47",
   "metadata": {},
   "outputs": [
    {
     "name": "stdout",
     "output_type": "stream",
     "text": [
      "My name is samarth and age is 26\n",
      "My name is samarth age 26 and work in kotak\n"
     ]
    }
   ],
   "source": [
    "## format()\n",
    "name='samarth'\n",
    "age =26\n",
    "print('My name is {} and age is {}' . format(name,age))\n",
    "work='kotak'\n",
    "print('My name is {} age {} and work in {}'.format(name,age,work))"
   ]
  },
  {
   "cell_type": "code",
   "execution_count": 10,
   "id": "5aaa59be-0e41-4872-a1a5-303b2233f627",
   "metadata": {},
   "outputs": [
    {
     "name": "stdout",
     "output_type": "stream",
     "text": [
      "My name is samarth age 26 and work in kotak\n"
     ]
    }
   ],
   "source": [
    "##place holder\n",
    "print('My name is {firstname} age {age} and work in {company}'.format(company=work,age=age,firstname=name))"
   ]
  },
  {
   "cell_type": "code",
   "execution_count": 11,
   "id": "2eecf891-cc35-464c-87eb-9d2921e901e3",
   "metadata": {},
   "outputs": [
    {
     "name": "stdout",
     "output_type": "stream",
     "text": [
      "my age is and i have completed: my degree of with the name of : (26, 'BE', 'samarth')\n"
     ]
    }
   ],
   "source": [
    "degree='BE'\n",
    "print(f'my age is and i have completed: my degree of with the name of :',(age,degree,name))"
   ]
  },
  {
   "cell_type": "code",
   "execution_count": 13,
   "id": "d2a4cbc3-4ef8-4597-8b52-4fad861dd672",
   "metadata": {},
   "outputs": [
    {
     "name": "stdout",
     "output_type": "stream",
     "text": [
      "my age is 26 and i have completed : my BE of with name of samarth\n"
     ]
    }
   ],
   "source": [
    "print('my age is {age} and i have completed : my {degree} of with name of {name}'.format(age=age,degree=degree,name=name))"
   ]
  },
  {
   "cell_type": "markdown",
   "id": "81ca07b3-364c-4338-9bf2-a28867efe083",
   "metadata": {},
   "source": [
    "## Control Flow\n",
    "### Decision Making Statements"
   ]
  },
  {
   "cell_type": "code",
   "execution_count": 20,
   "id": "e0904269-1330-4582-8794-c9787ac70392",
   "metadata": {},
   "outputs": [
    {
     "name": "stdout",
     "output_type": "stream",
     "text": [
      "you are eligible to vote\n"
     ]
    }
   ],
   "source": [
    "## If statements \n",
    "age=16\n",
    "if age<17:\n",
    "    print('you are eligible to vote')\n",
    "    "
   ]
  },
  {
   "cell_type": "code",
   "execution_count": 21,
   "id": "2e197b8a-c6c7-4590-a895-d52b1f437d1e",
   "metadata": {},
   "outputs": [
    {
     "name": "stdin",
     "output_type": "stream",
     "text": [
      " samarth agarwal\n"
     ]
    },
    {
     "data": {
      "text/plain": [
       "'samarth agarwal'"
      ]
     },
     "execution_count": 21,
     "metadata": {},
     "output_type": "execute_result"
    }
   ],
   "source": [
    "input()"
   ]
  },
  {
   "cell_type": "code",
   "execution_count": 22,
   "id": "9dc39803-13df-4b1b-b98f-d7ae4573082c",
   "metadata": {},
   "outputs": [
    {
     "name": "stdin",
     "output_type": "stream",
     "text": [
      "my name is samarth\n"
     ]
    }
   ],
   "source": [
    "name=input('my name is')"
   ]
  },
  {
   "cell_type": "code",
   "execution_count": 23,
   "id": "6b6386ab-e14e-444c-9fb7-719121604ded",
   "metadata": {},
   "outputs": [
    {
     "data": {
      "text/plain": [
       "'samarth'"
      ]
     },
     "execution_count": 23,
     "metadata": {},
     "output_type": "execute_result"
    }
   ],
   "source": [
    "name"
   ]
  },
  {
   "cell_type": "code",
   "execution_count": 24,
   "id": "e7fd537c-425a-4584-b096-4103789300d0",
   "metadata": {},
   "outputs": [
    {
     "name": "stdin",
     "output_type": "stream",
     "text": [
      "my age is  26\n"
     ]
    }
   ],
   "source": [
    "age=int(input('my age is '))"
   ]
  },
  {
   "cell_type": "code",
   "execution_count": 25,
   "id": "1e7ccd9b-bc3b-4036-9ab7-3573df2ebddf",
   "metadata": {},
   "outputs": [
    {
     "data": {
      "text/plain": [
       "26"
      ]
     },
     "execution_count": 25,
     "metadata": {},
     "output_type": "execute_result"
    }
   ],
   "source": [
    "age"
   ]
  },
  {
   "cell_type": "code",
   "execution_count": 26,
   "id": "1b206d53-3ec6-4b48-a0af-c167325f9c74",
   "metadata": {},
   "outputs": [
    {
     "data": {
      "text/plain": [
       "int"
      ]
     },
     "execution_count": 26,
     "metadata": {},
     "output_type": "execute_result"
    }
   ],
   "source": [
    "type(age)"
   ]
  },
  {
   "cell_type": "code",
   "execution_count": null,
   "id": "713398a2-68f8-4ac8-b19b-3a4d7094618d",
   "metadata": {},
   "outputs": [],
   "source": [
    "##task\n",
    "age=int(input('enter your agr'))\n",
    "age=26"
   ]
  },
  {
   "cell_type": "code",
   "execution_count": 31,
   "id": "46fda113-3f70-4e4c-a895-40586283999d",
   "metadata": {},
   "outputs": [
    {
     "name": "stdout",
     "output_type": "stream",
     "text": [
      "you are young blood\n"
     ]
    }
   ],
   "source": [
    "age=30\n",
    "if age>=18 and age<=45:\n",
    "    print('you are young blood')"
   ]
  },
  {
   "cell_type": "code",
   "execution_count": 37,
   "id": "f0fd51bf-3f15-48db-b300-705b69726be9",
   "metadata": {},
   "outputs": [
    {
     "name": "stdin",
     "output_type": "stream",
     "text": [
      "Enter the age 27\n"
     ]
    },
    {
     "name": "stdout",
     "output_type": "stream",
     "text": [
      "you are young blood\n"
     ]
    }
   ],
   "source": [
    "##answer\n",
    "age=int(input('Enter the age'))\n",
    "if age>=18 and age<=45:\n",
    "    print('you are young blood')"
   ]
  },
  {
   "cell_type": "code",
   "execution_count": 38,
   "id": "87668af4-baa8-49bf-878f-ec1421090bb2",
   "metadata": {},
   "outputs": [
    {
     "name": "stdin",
     "output_type": "stream",
     "text": [
      "Enter the age 56\n"
     ]
    },
    {
     "name": "stdout",
     "output_type": "stream",
     "text": [
      "thankyou your application is rejected\n"
     ]
    }
   ],
   "source": [
    "## If Else Statement\n",
    "age=int(input('Enter the age'))\n",
    "if age>=18 and age<=45:\n",
    "    print('you are young blood')\n",
    "else:\n",
    "    print('thankyou your application is rejected')"
   ]
  },
  {
   "cell_type": "code",
   "execution_count": 43,
   "id": "d626a177-ee4f-4a4f-8cac-270742d009db",
   "metadata": {},
   "outputs": [
    {
     "name": "stdin",
     "output_type": "stream",
     "text": [
      "product price 223\n"
     ]
    },
    {
     "name": "stdout",
     "output_type": "stream",
     "text": [
      "the product price\n"
     ]
    }
   ],
   "source": [
    "## mall -\n",
    "### product >1000 rs 20% off\n",
    "##product <= 1000 rs 30% off\n",
    "mall=int(input('product price'))\n",
    "if mall>1000 and mall <=1000:\n",
    "    print('the product price')\n",
    "else :\n",
    "    print('the product price')"
   ]
  },
  {
   "cell_type": "code",
   "execution_count": 4,
   "id": "49ff629c-933c-47bd-8a11-da05594ae627",
   "metadata": {},
   "outputs": [
    {
     "name": "stdin",
     "output_type": "stream",
     "text": [
      "Enter the product price 344\n"
     ]
    },
    {
     "name": "stdout",
     "output_type": "stream",
     "text": [
      "the product price is 240.79999999999998 \n"
     ]
    }
   ],
   "source": [
    "product_price=int(input('Enter the product price'))\n",
    "if product_price>1000:\n",
    "    print('the product price is {} '.format(product_price*0.8))\n",
    "else:\n",
    "    print('the product price is {} '.format(product_price*0.7))"
   ]
  },
  {
   "cell_type": "code",
   "execution_count": 5,
   "id": "e890ee8a-f44a-4eeb-878c-fce742d09037",
   "metadata": {},
   "outputs": [
    {
     "name": "stdin",
     "output_type": "stream",
     "text": [
      "price 56\n"
     ]
    },
    {
     "name": "stdout",
     "output_type": "stream",
     "text": [
      "the price 50.4\n"
     ]
    }
   ],
   "source": [
    "product=int(input('price'))\n",
    "if product<100:\n",
    "    print('the price {}'.format(product*0.9))\n",
    "else:\n",
    "    print('the price {}'.format(product*0.8))"
   ]
  },
  {
   "cell_type": "code",
   "execution_count": 7,
   "id": "8c234639-9874-4b5b-b276-cc16147cf66e",
   "metadata": {},
   "outputs": [
    {
     "name": "stdin",
     "output_type": "stream",
     "text": [
      "Enter the product price 5000\n"
     ]
    },
    {
     "name": "stdout",
     "output_type": "stream",
     "text": [
      "the product price is 4000.0 \n"
     ]
    }
   ],
   "source": [
    "product_price=int(input('Enter the product price'))\n",
    "if product_price>3000:\n",
    "    print(f'the product price is {product_price*0.8} ')\n",
    "elif product_price>=2000 and product_price<=3000:\n",
    "    print(f'the product price is {product_price*0.7}')\n",
    "else:\n",
    "    print('the product price is {} '.format(product_price*0.7))\n",
    "    "
   ]
  },
  {
   "cell_type": "code",
   "execution_count": 8,
   "id": "792af672-a8c8-441a-9190-7d709776fa2f",
   "metadata": {},
   "outputs": [
    {
     "name": "stdin",
     "output_type": "stream",
     "text": [
      "enter the number 900\n"
     ]
    },
    {
     "name": "stdout",
     "output_type": "stream",
     "text": [
      "sab doglapan hai\n"
     ]
    }
   ],
   "source": [
    "## single staments suits\n",
    "val=int(input('enter the number'))\n",
    "if (val<1000):print('sab doglapan hai')"
   ]
  },
  {
   "cell_type": "code",
   "execution_count": null,
   "id": "2ee80fae-0e54-4749-8890-5519f12fa4ca",
   "metadata": {},
   "outputs": [],
   "source": []
  },
  {
   "cell_type": "code",
   "execution_count": null,
   "id": "fed66923-6b08-45fb-a61b-a2e2ad4d93ed",
   "metadata": {},
   "outputs": [],
   "source": []
  },
  {
   "cell_type": "code",
   "execution_count": null,
   "id": "83967d9c-8c8d-4947-be3b-5ae9ee672936",
   "metadata": {},
   "outputs": [],
   "source": []
  },
  {
   "cell_type": "code",
   "execution_count": null,
   "id": "f5677e58-d3cb-4482-b79d-be6be390e943",
   "metadata": {},
   "outputs": [],
   "source": []
  },
  {
   "cell_type": "code",
   "execution_count": null,
   "id": "382ac8dd-2f0f-4706-9ca6-6e5a8b83d257",
   "metadata": {},
   "outputs": [],
   "source": []
  },
  {
   "cell_type": "code",
   "execution_count": null,
   "id": "80619a99-e677-4f95-a34a-f2bda2565031",
   "metadata": {},
   "outputs": [],
   "source": []
  },
  {
   "cell_type": "code",
   "execution_count": null,
   "id": "5d32ac3d-0cac-4bb9-862f-b481af31f06e",
   "metadata": {},
   "outputs": [],
   "source": []
  },
  {
   "cell_type": "code",
   "execution_count": null,
   "id": "fc31c678-80ae-4833-8a0e-ad607ab62d01",
   "metadata": {},
   "outputs": [],
   "source": []
  },
  {
   "cell_type": "code",
   "execution_count": null,
   "id": "5d5c30db-ad6a-4fb0-a5fd-870e4671d5eb",
   "metadata": {},
   "outputs": [],
   "source": []
  },
  {
   "cell_type": "code",
   "execution_count": null,
   "id": "b82f5fa7-a7e9-4432-838f-568ad7f04fba",
   "metadata": {},
   "outputs": [],
   "source": []
  }
 ],
 "metadata": {
  "kernelspec": {
   "display_name": "Python 3 (ipykernel)",
   "language": "python",
   "name": "python3"
  },
  "language_info": {
   "codemirror_mode": {
    "name": "ipython",
    "version": 3
   },
   "file_extension": ".py",
   "mimetype": "text/x-python",
   "name": "python",
   "nbconvert_exporter": "python",
   "pygments_lexer": "ipython3",
   "version": "3.10.8"
  }
 },
 "nbformat": 4,
 "nbformat_minor": 5
}
