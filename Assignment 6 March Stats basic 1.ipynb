{
 "cells": [
  {
   "cell_type": "code",
   "execution_count": null,
   "id": "7ce19795-c9a9-47e1-9fb6-73d64764dfb1",
   "metadata": {},
   "outputs": [],
   "source": [
    "## Ans 1: statistics is the science of collecting, organizing and summarizing the data "
   ]
  },
  {
   "cell_type": "code",
   "execution_count": null,
   "id": "46a782a0-0137-4136-8d35-72c95ff26e6e",
   "metadata": {},
   "outputs": [],
   "source": [
    "## Ans 2: the different types of statistics are discriptive and inferential \n",
    "## Example for discriptive sales done in month of feb 2023 , where mean , median and mode can be defined \n",
    "## Example for inferential is sales of the month with respect to the whole year ahead if taken feb as sample data "
   ]
  },
  {
   "cell_type": "code",
   "execution_count": null,
   "id": "6c0027c4-fcdf-4d7a-a907-b85f9133ca32",
   "metadata": {},
   "outputs": [],
   "source": [
    "## Ans 3. different types of data are 1. Quantative and 2. Qualitative \n",
    "## Quantative have data containing whole no , continuous no anything related to quantity of the entity \n",
    "## qualitative is the data desc. the color, shape,grop of the data based on the rank and orders they are placed in \n",
    "## Example quantative : No of cases done for technical in month of feb i whole no and time taken to complete the report \n",
    "## Example qualitative : the report subbmitted is either good , bad or satisfactory as per the bank records "
   ]
  },
  {
   "cell_type": "code",
   "execution_count": null,
   "id": "1a31b701-3f5e-4a3e-b5e6-43c0fce5fdec",
   "metadata": {},
   "outputs": [],
   "source": [
    "## Ans 4 :\n",
    "## i) Ordinal\n",
    "## ii) Nominal\n",
    "## iii) Continuous\n",
    "## iv) discrete"
   ]
  },
  {
   "cell_type": "code",
   "execution_count": null,
   "id": "bcad1066-c2c0-4ac7-9943-26f486a5aaca",
   "metadata": {},
   "outputs": [],
   "source": [
    "## Ans 5 : the concept of levels of measurement are \n",
    "## 1. Nominal scale data : it have qualitive / categorical value , where order does not matter\n",
    "## example grop of houses in school Gandhi:Blue,Nehru:Green,Ganga:red,Shastri: yellow\n",
    "## 2. ordinal scale data: ranking and order matters where diff cannot be measured \n",
    "## example of incentives as per the grading in bank , Grade A.Grade B.Grade C., where diff can not be measured.\n",
    "## 3. Interval Scale Data: rank and order matters also diff. can be measured excluding ratio and does not have 0 starting point \n",
    "## example temp example is the best example where diff rank and order can be calculated however ratio doesnot imply \n",
    "## 4. Ratio scale data: order and rank matters diff. and ratio can be taken does have a zero as starting point \n",
    "## example : bank account balance of a family of 4 , [10000,900,3000,8000], rank,order,difference,ratio can be calculated and doesnot have negative values."
   ]
  },
  {
   "cell_type": "code",
   "execution_count": null,
   "id": "d0bc5bd6-c0f0-4893-8fd6-27443f726cc3",
   "metadata": {},
   "outputs": [],
   "source": [
    "## Ans 6.\n",
    "## its is important to understand the level of measurment as data needs to be subcategorised in a way to be compared and to be worked on \n",
    "## like the risk involved in investing , high , medium low : nominal \n",
    "## rooms in a hotel: 1st tire,2nd tire and 3rd tire bases amenities \n",
    "## interval data of the phone type apple , samsung , one plus , rank , order diff can be identified but not the ratio\n",
    "## ratio is required when 2 or more measurments or numerical data types are compared "
   ]
  },
  {
   "cell_type": "code",
   "execution_count": null,
   "id": "dc43548b-3842-42d5-9028-65ee1994c247",
   "metadata": {},
   "outputs": [],
   "source": [
    "## Ans 7 Nominal is based on the charaterstics of the data mentioning the shape , color labels where ranking cannot be done , however in case of ordinal ranking can be done basis the position the person , place or thing stands in an array"
   ]
  },
  {
   "cell_type": "code",
   "execution_count": null,
   "id": "1e41cec5-26a9-4a41-836e-08c800016e45",
   "metadata": {},
   "outputs": [],
   "source": [
    "## Ans 8: Descriptive statistics summarize the features or characteristics of a data set, while Inferential statistics enables the user to test a hypothesis to check if the data is generalizable to the wider population\n",
    "## example the marks of 12 th calss students in a class to that of the whole city and state "
   ]
  },
  {
   "cell_type": "code",
   "execution_count": null,
   "id": "f80b7e65-3268-4597-af52-b69cdf44c3e0",
   "metadata": {},
   "outputs": [],
   "source": [
    "## Ans 9. Measures of central tendency tell us what is common or typical about our variable. Three measures of central tendency are the mode, the median and the mean\n",
    "## while a data holding the sales of product with repect of salesperson and customer \n",
    "## Mean , mode and median can be put forward for better understaning the sales and buy done with respect to customer also the most sell product , most liked product and what is the difference b/w most sell and other products as well"
   ]
  },
  {
   "cell_type": "code",
   "execution_count": null,
   "id": "7b2644f4-9905-4f42-abb5-6118d38053c2",
   "metadata": {},
   "outputs": [],
   "source": []
  },
  {
   "cell_type": "code",
   "execution_count": null,
   "id": "9c747097-7137-4ebc-8278-d93d70771500",
   "metadata": {},
   "outputs": [],
   "source": []
  },
  {
   "cell_type": "code",
   "execution_count": null,
   "id": "c7aea8c9-7a02-4fa8-b87f-944fd07945b9",
   "metadata": {},
   "outputs": [],
   "source": []
  }
 ],
 "metadata": {
  "kernelspec": {
   "display_name": "Python 3 (ipykernel)",
   "language": "python",
   "name": "python3"
  },
  "language_info": {
   "codemirror_mode": {
    "name": "ipython",
    "version": 3
   },
   "file_extension": ".py",
   "mimetype": "text/x-python",
   "name": "python",
   "nbconvert_exporter": "python",
   "pygments_lexer": "ipython3",
   "version": "3.10.8"
  }
 },
 "nbformat": 4,
 "nbformat_minor": 5
}
