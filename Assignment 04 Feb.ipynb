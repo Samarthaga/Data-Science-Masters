{
 "cells": [
  {
   "cell_type": "code",
   "execution_count": 1,
   "id": "5738efdf-9519-4fc9-bef1-bffb936ec763",
   "metadata": {},
   "outputs": [],
   "source": [
    "## Lamda functions \n",
    "\n",
    "n=3\n",
    "p=2\n",
    "\n",
    "def test(n,p):\n",
    "    return n**p"
   ]
  },
  {
   "cell_type": "code",
   "execution_count": 2,
   "id": "92f81d2a-c291-411b-8e28-ca1b3912a017",
   "metadata": {},
   "outputs": [
    {
     "data": {
      "text/plain": [
       "9"
      ]
     },
     "execution_count": 2,
     "metadata": {},
     "output_type": "execute_result"
    }
   ],
   "source": [
    "test(3,2)"
   ]
  },
  {
   "cell_type": "code",
   "execution_count": 3,
   "id": "0084b49a-c297-4283-8014-ca323896993c",
   "metadata": {},
   "outputs": [
    {
     "data": {
      "text/plain": [
       "256"
      ]
     },
     "execution_count": 3,
     "metadata": {},
     "output_type": "execute_result"
    }
   ],
   "source": [
    "test(4,4)"
   ]
  },
  {
   "cell_type": "code",
   "execution_count": 9,
   "id": "10198ac6-d3e3-48b4-b410-9e3ef0582aba",
   "metadata": {},
   "outputs": [],
   "source": [
    "a=lambda n,p : n**p\n"
   ]
  },
  {
   "cell_type": "code",
   "execution_count": 10,
   "id": "d36332f6-71f1-4117-b0a2-c3ca77da6bc5",
   "metadata": {},
   "outputs": [
    {
     "data": {
      "text/plain": [
       "9"
      ]
     },
     "execution_count": 10,
     "metadata": {},
     "output_type": "execute_result"
    }
   ],
   "source": [
    "a(3,2)"
   ]
  },
  {
   "cell_type": "code",
   "execution_count": 11,
   "id": "653d35a6-1b0b-4f8f-8051-9dc35aa42f3b",
   "metadata": {},
   "outputs": [
    {
     "data": {
      "text/plain": [
       "6561"
      ]
     },
     "execution_count": 11,
     "metadata": {},
     "output_type": "execute_result"
    }
   ],
   "source": [
    "a(9,4)"
   ]
  },
  {
   "cell_type": "code",
   "execution_count": 14,
   "id": "b02316ae-c2c3-4ab0-9a04-aac88709ee85",
   "metadata": {},
   "outputs": [],
   "source": [
    "add = lambda x,y : x+y"
   ]
  },
  {
   "cell_type": "code",
   "execution_count": 15,
   "id": "733e4caa-178e-4001-829f-00484c531009",
   "metadata": {},
   "outputs": [
    {
     "data": {
      "text/plain": [
       "6"
      ]
     },
     "execution_count": 15,
     "metadata": {},
     "output_type": "execute_result"
    }
   ],
   "source": [
    "add(1,5)"
   ]
  },
  {
   "cell_type": "code",
   "execution_count": 17,
   "id": "88d23b32-4fc5-4a9e-9019-c932c2afa960",
   "metadata": {},
   "outputs": [],
   "source": [
    "c_to_f= lambda c:(9/5)*c+32"
   ]
  },
  {
   "cell_type": "code",
   "execution_count": 18,
   "id": "9808cc86-e503-4911-8896-3a70c4e5bfc9",
   "metadata": {},
   "outputs": [
    {
     "data": {
      "text/plain": [
       "93.2"
      ]
     },
     "execution_count": 18,
     "metadata": {},
     "output_type": "execute_result"
    }
   ],
   "source": [
    "c_to_f(34)"
   ]
  },
  {
   "cell_type": "code",
   "execution_count": 19,
   "id": "bb61aa41-bc22-496d-a48a-51d303eafe40",
   "metadata": {},
   "outputs": [],
   "source": [
    "max_two=lambda x,y :x if x>y else y"
   ]
  },
  {
   "cell_type": "code",
   "execution_count": 20,
   "id": "3c73874d-ba54-4c55-bfce-29ddbd44747a",
   "metadata": {},
   "outputs": [
    {
     "data": {
      "text/plain": [
       "56"
      ]
     },
     "execution_count": 20,
     "metadata": {},
     "output_type": "execute_result"
    }
   ],
   "source": [
    "max_two(4,56)"
   ]
  },
  {
   "cell_type": "code",
   "execution_count": 21,
   "id": "d6fb6671-7a0c-4ba5-8852-ee24a63de158",
   "metadata": {},
   "outputs": [],
   "source": [
    "s='pwskills'\n",
    "len_str=lambda s: len(s)"
   ]
  },
  {
   "cell_type": "code",
   "execution_count": 22,
   "id": "632a61a6-d61c-43b6-8f91-af984b77a945",
   "metadata": {},
   "outputs": [
    {
     "data": {
      "text/plain": [
       "8"
      ]
     },
     "execution_count": 22,
     "metadata": {},
     "output_type": "execute_result"
    }
   ],
   "source": [
    "len_str(s)"
   ]
  },
  {
   "cell_type": "markdown",
   "id": "fc055cd6-5897-47a2-bac3-efe9efb23d1d",
   "metadata": {},
   "source": [
    "\n",
    "## Map reduce and filter functions "
   ]
  },
  {
   "cell_type": "code",
   "execution_count": 26,
   "id": "8c9c434e-03c4-4c2b-b2d4-7053eaeb4d22",
   "metadata": {},
   "outputs": [],
   "source": [
    "l=[1,2,3,4,545,5]"
   ]
  },
  {
   "cell_type": "code",
   "execution_count": 27,
   "id": "2c98d6b8-e74e-4cb0-b878-161ebfaa4e4a",
   "metadata": {},
   "outputs": [],
   "source": [
    "def test1(l):\n",
    "    l1=[]\n",
    "    for i in l:\n",
    "        l1.append(i**2)\n",
    "    return l1"
   ]
  },
  {
   "cell_type": "code",
   "execution_count": 29,
   "id": "498f9aa2-34f3-45a0-9a02-f908276bb83b",
   "metadata": {},
   "outputs": [
    {
     "data": {
      "text/plain": [
       "[1, 4, 9, 16, 297025, 25]"
      ]
     },
     "execution_count": 29,
     "metadata": {},
     "output_type": "execute_result"
    }
   ],
   "source": [
    "test1(l)"
   ]
  },
  {
   "cell_type": "code",
   "execution_count": 39,
   "id": "11e2b919-1122-4dc3-95c2-1113e7500080",
   "metadata": {},
   "outputs": [
    {
     "data": {
      "text/plain": [
       "<map at 0x7fa708dd8d60>"
      ]
     },
     "execution_count": 39,
     "metadata": {},
     "output_type": "execute_result"
    }
   ],
   "source": [
    "def sq(x):\n",
    "    return x**2\n",
    "\n",
    "map(sq,l)"
   ]
  },
  {
   "cell_type": "code",
   "execution_count": 38,
   "id": "0653dfa8-b681-4dc7-b41e-8654f27d02ca",
   "metadata": {},
   "outputs": [
    {
     "data": {
      "text/plain": [
       "[1, 4, 9, 16, 297025, 25]"
      ]
     },
     "execution_count": 38,
     "metadata": {},
     "output_type": "execute_result"
    }
   ],
   "source": [
    "list(map(sq , l))"
   ]
  },
  {
   "cell_type": "code",
   "execution_count": 40,
   "id": "3c896746-279f-4892-a1f5-1e1c27639eb2",
   "metadata": {},
   "outputs": [
    {
     "data": {
      "text/plain": [
       "<function __main__.<lambda>(x)>"
      ]
     },
     "execution_count": 40,
     "metadata": {},
     "output_type": "execute_result"
    }
   ],
   "source": [
    "lambda x: x**2"
   ]
  },
  {
   "cell_type": "code",
   "execution_count": 45,
   "id": "25ef1b3d-ce8e-4fbb-b696-204363afb190",
   "metadata": {},
   "outputs": [
    {
     "data": {
      "text/plain": [
       "[1, 4, 9, 16, 297025, 25]"
      ]
     },
     "execution_count": 45,
     "metadata": {},
     "output_type": "execute_result"
    }
   ],
   "source": [
    "list(map(lambda x: x**2 ,l))"
   ]
  },
  {
   "cell_type": "code",
   "execution_count": 46,
   "id": "2f2fba22-4149-4093-9ba6-c93eacdfafb9",
   "metadata": {},
   "outputs": [
    {
     "data": {
      "text/plain": [
       "[11, 12, 13, 14, 555, 15]"
      ]
     },
     "execution_count": 46,
     "metadata": {},
     "output_type": "execute_result"
    }
   ],
   "source": [
    "list(map(lambda x: x+10 , l))"
   ]
  },
  {
   "cell_type": "code",
   "execution_count": 48,
   "id": "35916748-57f1-4fe1-8f32-1fb98dfdbb46",
   "metadata": {},
   "outputs": [
    {
     "data": {
      "text/plain": [
       "['1', '2', '3', '4', '545', '5']"
      ]
     },
     "execution_count": 48,
     "metadata": {},
     "output_type": "execute_result"
    }
   ],
   "source": [
    "list(map(lambda x: str(x) , l))"
   ]
  },
  {
   "cell_type": "code",
   "execution_count": 60,
   "id": "4c36a569-c567-4b67-b144-392a5386188a",
   "metadata": {},
   "outputs": [],
   "source": [
    "def str1(x):\n",
    "    n=[]\n",
    "    if str (x):\n",
    "        n.append(x)\n",
    "    return n\n",
    "        "
   ]
  },
  {
   "cell_type": "code",
   "execution_count": 61,
   "id": "8e3a6c0c-a50b-4659-b3c4-eb72ffe8e357",
   "metadata": {},
   "outputs": [
    {
     "data": {
      "text/plain": [
       "[[1, 2, 3, 4, 545, 5]]"
      ]
     },
     "execution_count": 61,
     "metadata": {},
     "output_type": "execute_result"
    }
   ],
   "source": [
    "str1(l)"
   ]
  },
  {
   "cell_type": "code",
   "execution_count": 63,
   "id": "02c1ea88-8a2f-4244-98e8-3ecd0cee0a24",
   "metadata": {},
   "outputs": [
    {
     "data": {
      "text/plain": [
       "[7, 9, 11, 13, 15]"
      ]
     },
     "execution_count": 63,
     "metadata": {},
     "output_type": "execute_result"
    }
   ],
   "source": [
    "l1=[1,2,3,4,5]\n",
    "l2=[6,7,8,9,10]\n",
    "\n",
    "list(map(lambda x,y:x+y,l1,l2))"
   ]
  },
  {
   "cell_type": "code",
   "execution_count": 64,
   "id": "be7c8955-e31c-4a62-9425-d55bec57921b",
   "metadata": {},
   "outputs": [],
   "source": [
    "f=lambda x,y:x+y"
   ]
  },
  {
   "cell_type": "code",
   "execution_count": 65,
   "id": "b4279cb7-b551-4edc-8093-31cd85ce0826",
   "metadata": {},
   "outputs": [
    {
     "data": {
      "text/plain": [
       "[7, 9, 11, 13, 15]"
      ]
     },
     "execution_count": 65,
     "metadata": {},
     "output_type": "execute_result"
    }
   ],
   "source": [
    "list(map(f,l1,l2))"
   ]
  },
  {
   "cell_type": "code",
   "execution_count": 66,
   "id": "b9ea7a5a-29ee-4b23-bb76-90131576e84e",
   "metadata": {},
   "outputs": [
    {
     "data": {
      "text/plain": [
       "'pwskills'"
      ]
     },
     "execution_count": 66,
     "metadata": {},
     "output_type": "execute_result"
    }
   ],
   "source": [
    "s"
   ]
  },
  {
   "cell_type": "code",
   "execution_count": 67,
   "id": "13b47ee7-791f-45ca-b8a9-4048b0b6ad1f",
   "metadata": {},
   "outputs": [
    {
     "data": {
      "text/plain": [
       "['P', 'W', 'S', 'K', 'I', 'L', 'L', 'S']"
      ]
     },
     "execution_count": 67,
     "metadata": {},
     "output_type": "execute_result"
    }
   ],
   "source": [
    "list(map(lambda x: x.upper(),s))"
   ]
  },
  {
   "cell_type": "code",
   "execution_count": 68,
   "id": "73a147b1-db8f-419b-9f38-e8ea00d6b21a",
   "metadata": {},
   "outputs": [],
   "source": [
    "## reduce \n",
    "from functools import reduce "
   ]
  },
  {
   "cell_type": "code",
   "execution_count": 70,
   "id": "5741b114-e0c8-41af-b311-9a8c2c004ab6",
   "metadata": {},
   "outputs": [
    {
     "data": {
      "text/plain": [
       "[1, 2, 3, 4, 545, 5]"
      ]
     },
     "execution_count": 70,
     "metadata": {},
     "output_type": "execute_result"
    }
   ],
   "source": [
    "l"
   ]
  },
  {
   "cell_type": "code",
   "execution_count": 9,
   "id": "66cb0f1a-2387-40f9-886b-9c1eff6eb993",
   "metadata": {},
   "outputs": [],
   "source": [
    "l=[1,2,3,4,5,4]"
   ]
  },
  {
   "cell_type": "code",
   "execution_count": 73,
   "id": "ac9c3473-8ec1-4e9f-9597-98f1873d0d1d",
   "metadata": {},
   "outputs": [
    {
     "data": {
      "text/plain": [
       "19"
      ]
     },
     "execution_count": 73,
     "metadata": {},
     "output_type": "execute_result"
    }
   ],
   "source": [
    "reduce(lambda x,y:x+y,l)"
   ]
  },
  {
   "cell_type": "code",
   "execution_count": 10,
   "id": "dae713c9-2a17-4ab1-8ec5-c01a2f663782",
   "metadata": {},
   "outputs": [
    {
     "data": {
      "text/plain": [
       "480"
      ]
     },
     "execution_count": 10,
     "metadata": {},
     "output_type": "execute_result"
    }
   ],
   "source": [
    "reduce(lambda x,y:x*y,l)"
   ]
  },
  {
   "cell_type": "code",
   "execution_count": 7,
   "id": "370a3517-989e-41c2-b789-02a1cffc8eb8",
   "metadata": {},
   "outputs": [
    {
     "data": {
      "text/plain": [
       "120"
      ]
     },
     "execution_count": 7,
     "metadata": {},
     "output_type": "execute_result"
    }
   ],
   "source": [
    "from functools import reduce\n",
    "\n",
    "numbers=[1,2,3,4,5]\n",
    "\n",
    "reduce(lambda x,y: x*y,numbers)"
   ]
  },
  {
   "cell_type": "code",
   "execution_count": null,
   "id": "9e967cc0-a0f7-407d-b7e1-228a82b6e4e1",
   "metadata": {},
   "outputs": [],
   "source": []
  },
  {
   "cell_type": "code",
   "execution_count": null,
   "id": "5c8d057f-3b2c-4f17-aa51-084b7e2a64eb",
   "metadata": {},
   "outputs": [],
   "source": []
  },
  {
   "cell_type": "code",
   "execution_count": 75,
   "id": "04e68172-0791-4396-bf39-af250cb9659e",
   "metadata": {},
   "outputs": [],
   "source": [
    "def add(x,y):\n",
    "    return x+y"
   ]
  },
  {
   "cell_type": "code",
   "execution_count": 76,
   "id": "5c26cf24-b066-42be-a6ee-edefef3951d4",
   "metadata": {},
   "outputs": [
    {
     "data": {
      "text/plain": [
       "19"
      ]
     },
     "execution_count": 76,
     "metadata": {},
     "output_type": "execute_result"
    }
   ],
   "source": [
    "reduce(add,l)"
   ]
  },
  {
   "cell_type": "code",
   "execution_count": 11,
   "id": "cc053d74-6354-4dba-9167-db9fd8913084",
   "metadata": {},
   "outputs": [
    {
     "ename": "TypeError",
     "evalue": "<lambda>() missing 1 required positional argument: 'z'",
     "output_type": "error",
     "traceback": [
      "\u001b[0;31m---------------------------------------------------------------------------\u001b[0m",
      "\u001b[0;31mTypeError\u001b[0m                                 Traceback (most recent call last)",
      "Cell \u001b[0;32mIn[11], line 4\u001b[0m\n\u001b[1;32m      1\u001b[0m \u001b[38;5;66;03m## reduce does not take 3 argumnets in the list \u001b[39;00m\n\u001b[1;32m      2\u001b[0m \u001b[38;5;66;03m## example\u001b[39;00m\n\u001b[0;32m----> 4\u001b[0m \u001b[43mreduce\u001b[49m\u001b[43m(\u001b[49m\u001b[38;5;28;43;01mlambda\u001b[39;49;00m\u001b[43m \u001b[49m\u001b[43mx\u001b[49m\u001b[43m,\u001b[49m\u001b[43my\u001b[49m\u001b[43m,\u001b[49m\u001b[43mz\u001b[49m\u001b[43m:\u001b[49m\u001b[43mx\u001b[49m\u001b[38;5;241;43m+\u001b[39;49m\u001b[43my\u001b[49m\u001b[38;5;241;43m+\u001b[39;49m\u001b[43mz\u001b[49m\u001b[43m,\u001b[49m\u001b[43ml\u001b[49m\u001b[43m)\u001b[49m\n",
      "\u001b[0;31mTypeError\u001b[0m: <lambda>() missing 1 required positional argument: 'z'"
     ]
    }
   ],
   "source": [
    "## reduce does not take 3 argumnets in the list \n",
    "## example\n",
    "\n",
    "reduce(lambda x,y,z:x+y+z,l)"
   ]
  },
  {
   "cell_type": "code",
   "execution_count": 78,
   "id": "86922758-f10f-49c5-b1f4-050da0de0ab5",
   "metadata": {},
   "outputs": [
    {
     "data": {
      "text/plain": [
       "1"
      ]
     },
     "execution_count": 78,
     "metadata": {},
     "output_type": "execute_result"
    }
   ],
   "source": [
    "## exception case of reduce function where only value of one variable is defined and results in 1 \n",
    "\n",
    "reduce(lambda x,y:x+y,[1])"
   ]
  },
  {
   "cell_type": "code",
   "execution_count": 15,
   "id": "0d178fbc-383d-49ec-b56e-436f9408a0ab",
   "metadata": {},
   "outputs": [
    {
     "data": {
      "text/plain": [
       "[1, 2, 3, 4, 5, 4]"
      ]
     },
     "execution_count": 15,
     "metadata": {},
     "output_type": "execute_result"
    }
   ],
   "source": [
    "l"
   ]
  },
  {
   "cell_type": "code",
   "execution_count": 12,
   "id": "8685f773-774c-4fb5-a5df-e3d6926ee1d8",
   "metadata": {},
   "outputs": [
    {
     "data": {
      "text/plain": [
       "5"
      ]
     },
     "execution_count": 12,
     "metadata": {},
     "output_type": "execute_result"
    }
   ],
   "source": [
    "reduce(lambda x,y : x if x>y else y ,l)"
   ]
  },
  {
   "cell_type": "code",
   "execution_count": 9,
   "id": "e0c5c6e2-1cbd-4a4f-ae5d-547debff017f",
   "metadata": {},
   "outputs": [],
   "source": [
    "n=lambda x,y : x if x > y else y"
   ]
  },
  {
   "cell_type": "code",
   "execution_count": 13,
   "id": "fd4a8abd-6d40-4fda-9d32-965d87ac9de5",
   "metadata": {},
   "outputs": [
    {
     "ename": "NameError",
     "evalue": "name 'n' is not defined",
     "output_type": "error",
     "traceback": [
      "\u001b[0;31m---------------------------------------------------------------------------\u001b[0m",
      "\u001b[0;31mNameError\u001b[0m                                 Traceback (most recent call last)",
      "Cell \u001b[0;32mIn[13], line 1\u001b[0m\n\u001b[0;32m----> 1\u001b[0m reduce(\u001b[43mn\u001b[49m,l)\n",
      "\u001b[0;31mNameError\u001b[0m: name 'n' is not defined"
     ]
    }
   ],
   "source": [
    "reduce(n,l)"
   ]
  },
  {
   "cell_type": "code",
   "execution_count": 22,
   "id": "c8e6ae44-ccce-4862-a950-ae368f725053",
   "metadata": {},
   "outputs": [
    {
     "data": {
      "text/plain": [
       "[2, 4, 4]"
      ]
     },
     "execution_count": 22,
     "metadata": {},
     "output_type": "execute_result"
    }
   ],
   "source": [
    "list(filter(lambda x: x %2 ==0,l))"
   ]
  },
  {
   "cell_type": "code",
   "execution_count": 24,
   "id": "d9328728-bc27-43d1-aa80-e2ad66fa69bb",
   "metadata": {},
   "outputs": [
    {
     "data": {
      "text/plain": [
       "[1, 3, 5]"
      ]
     },
     "execution_count": 24,
     "metadata": {},
     "output_type": "execute_result"
    }
   ],
   "source": [
    "list(filter(lambda x: x%2 !=0 ,l))"
   ]
  },
  {
   "cell_type": "code",
   "execution_count": 25,
   "id": "5b782104-774d-49c6-ae99-47b31a26cd69",
   "metadata": {},
   "outputs": [],
   "source": [
    "l2=[-2,4,5,6,-3,-6,-7]"
   ]
  },
  {
   "cell_type": "code",
   "execution_count": 28,
   "id": "f3182af6-aa43-457e-ae20-b4c218eba123",
   "metadata": {},
   "outputs": [
    {
     "data": {
      "text/plain": [
       "[-2, -3, -6, -7]"
      ]
     },
     "execution_count": 28,
     "metadata": {},
     "output_type": "execute_result"
    }
   ],
   "source": [
    "list(filter(lambda x: x<0 ,l2))"
   ]
  },
  {
   "cell_type": "code",
   "execution_count": 29,
   "id": "c40417f4-b792-4ca3-983f-1d18af4775ab",
   "metadata": {},
   "outputs": [
    {
     "data": {
      "text/plain": [
       "[4, 5, 6]"
      ]
     },
     "execution_count": 29,
     "metadata": {},
     "output_type": "execute_result"
    }
   ],
   "source": [
    "list(filter(lambda x: x>0 ,l2))"
   ]
  },
  {
   "cell_type": "code",
   "execution_count": 38,
   "id": "4d76443b-c5c2-45e1-b68b-b11c15f988cf",
   "metadata": {},
   "outputs": [],
   "source": [
    "l3=['sudh','pwskills','samarth','banglore','sarthak']"
   ]
  },
  {
   "cell_type": "code",
   "execution_count": 37,
   "id": "36fccc2d-f91e-4e26-8ec2-4565a4c13f8c",
   "metadata": {},
   "outputs": [
    {
     "data": {
      "text/plain": [
       "['sudh']"
      ]
     },
     "execution_count": 37,
     "metadata": {},
     "output_type": "execute_result"
    }
   ],
   "source": [
    "list(filter(lambda x: len(x) < 6,l3))"
   ]
  },
  {
   "cell_type": "markdown",
   "id": "f5764a8f-c8ec-4456-ac2e-ac614915f90a",
   "metadata": {},
   "source": [
    "## Assignment 4 feb"
   ]
  },
  {
   "cell_type": "code",
   "execution_count": 15,
   "id": "d31ad662-10af-4c07-8c37-50d87723e33d",
   "metadata": {},
   "outputs": [
    {
     "data": {
      "text/plain": [
       "[('H', 1), ('Li', 3), ('B', 4), ('He', 2), ('C', 50)]"
      ]
     },
     "execution_count": 15,
     "metadata": {},
     "output_type": "execute_result"
    }
   ],
   "source": [
    "## Ans .1 a python program to sort the given list of tuples based on integer value using a lambda function.\n",
    "\n",
    "periodic_table=[('H',1),(\"Li\",3),('B',4),('He',2),('C',50)]\n",
    "periodic_table\n"
   ]
  },
  {
   "cell_type": "code",
   "execution_count": 28,
   "id": "21227325-aeb7-468d-a9c9-d03a7bb99bc1",
   "metadata": {},
   "outputs": [
    {
     "data": {
      "text/plain": [
       "[1, 3, 4, 2, 50]"
      ]
     },
     "execution_count": 28,
     "metadata": {},
     "output_type": "execute_result"
    }
   ],
   "source": [
    "list(map(lambda x: x[1],periodic_table))"
   ]
  },
  {
   "cell_type": "code",
   "execution_count": 30,
   "id": "c7121dfd-823e-4ae3-975b-d94401290a66",
   "metadata": {},
   "outputs": [
    {
     "data": {
      "text/plain": [
       "[('Sachin Tendulkar', 34357),\n",
       " ('Ricky Ponting', 27483),\n",
       " ('Jack Kallis', 25534),\n",
       " ('Virat Kohli', 24936)]"
      ]
     },
     "execution_count": 30,
     "metadata": {},
     "output_type": "execute_result"
    }
   ],
   "source": [
    "players=[('Sachin Tendulkar', 34357), ('Ricky Ponting', 27483), ('Jack Kallis', 25534), ('Virat Kohli', 24936)]\n",
    "players"
   ]
  },
  {
   "cell_type": "code",
   "execution_count": 36,
   "id": "1488bbf8-0f0a-4721-95a5-953a98977717",
   "metadata": {},
   "outputs": [
    {
     "data": {
      "text/plain": [
       "[34357, 27483, 25534, 24936]"
      ]
     },
     "execution_count": 36,
     "metadata": {},
     "output_type": "execute_result"
    }
   ],
   "source": [
    "list(map(lambda x:x[1],players))"
   ]
  },
  {
   "cell_type": "code",
   "execution_count": 38,
   "id": "df73225d-0e8f-4625-9e7f-b2ceb69785c0",
   "metadata": {},
   "outputs": [
    {
     "data": {
      "text/plain": [
       "[1, 2, 3, 4, 5, 6, 7, 8, 9, 10]"
      ]
     },
     "execution_count": 38,
     "metadata": {},
     "output_type": "execute_result"
    }
   ],
   "source": [
    "## Ans 2.exp7 \n",
    "exp2=[1, 2, 3, 4, 5, 6, 7, 8, 9, 10]\n",
    "exp2"
   ]
  },
  {
   "cell_type": "code",
   "execution_count": 53,
   "id": "a5683c5c-ae63-46fb-a6aa-71ee15f4ce54",
   "metadata": {},
   "outputs": [
    {
     "data": {
      "text/plain": [
       "[1, 4, 9, 16, 25, 36, 49, 64, 81, 100]"
      ]
     },
     "execution_count": 53,
     "metadata": {},
     "output_type": "execute_result"
    }
   ],
   "source": [
    "exp7=list(map(lambda x: x**2,exp2))\n",
    "exp7"
   ]
  },
  {
   "cell_type": "code",
   "execution_count": 44,
   "id": "06ae676f-a3b8-4ab2-87f7-9c5e195accdc",
   "metadata": {},
   "outputs": [
    {
     "data": {
      "text/plain": [
       "list"
      ]
     },
     "execution_count": 44,
     "metadata": {},
     "output_type": "execute_result"
    }
   ],
   "source": [
    "## Ans 3.below example 5\n",
    "exp3=[1, 2, 3, 4, 5, 6, 7, 8, 9, 10]\n",
    "type(exp3)"
   ]
  },
  {
   "cell_type": "code",
   "execution_count": 46,
   "id": "bd1b6e9f-167f-4e68-8073-ff21958fc7b0",
   "metadata": {},
   "outputs": [],
   "source": [
    "exp4=list(map(lambda x: str(x),exp3))"
   ]
  },
  {
   "cell_type": "code",
   "execution_count": 47,
   "id": "7892011c-1fbb-48d8-bbde-b85e355be692",
   "metadata": {},
   "outputs": [
    {
     "data": {
      "text/plain": [
       "list"
      ]
     },
     "execution_count": 47,
     "metadata": {},
     "output_type": "execute_result"
    }
   ],
   "source": [
    "type(exp4)"
   ]
  },
  {
   "cell_type": "code",
   "execution_count": 50,
   "id": "302d4194-c16a-4417-b86c-816c573cb95a",
   "metadata": {},
   "outputs": [
    {
     "data": {
      "text/plain": [
       "('1', '2', '3', '4', '5', '6', '7', '8', '9', '10')"
      ]
     },
     "execution_count": 50,
     "metadata": {},
     "output_type": "execute_result"
    }
   ],
   "source": [
    "exp5=tuple(exp4)\n",
    "exp5"
   ]
  },
  {
   "cell_type": "code",
   "execution_count": 51,
   "id": "04c844bd-c585-4f6e-bebc-c21fbec06dc4",
   "metadata": {},
   "outputs": [
    {
     "data": {
      "text/plain": [
       "tuple"
      ]
     },
     "execution_count": 51,
     "metadata": {},
     "output_type": "execute_result"
    }
   ],
   "source": [
    "type(exp5)"
   ]
  },
  {
   "cell_type": "code",
   "execution_count": 57,
   "id": "c6458905-b046-4578-b65e-d03503f1e4b9",
   "metadata": {},
   "outputs": [],
   "source": [
    "## Ans 4. exp8\n",
    "\n",
    "from functools import reduce \n",
    "red=range(1,26)"
   ]
  },
  {
   "cell_type": "code",
   "execution_count": 60,
   "id": "f4a1145b-205a-43b7-b806-646bc679bff1",
   "metadata": {},
   "outputs": [
    {
     "data": {
      "text/plain": [
       "15511210043330985984000000"
      ]
     },
     "execution_count": 60,
     "metadata": {},
     "output_type": "execute_result"
    }
   ],
   "source": [
    "exp8=reduce(lambda x,y: x*y,range(1,26))\n",
    "exp8"
   ]
  },
  {
   "cell_type": "code",
   "execution_count": 61,
   "id": "7ad454f4-e9aa-477b-be45-6af0f768285f",
   "metadata": {},
   "outputs": [],
   "source": [
    "fil=[2, 3, 6, 9, 27, 60, 90, 120, 55, 46]"
   ]
  },
  {
   "cell_type": "code",
   "execution_count": 64,
   "id": "bd14c1b5-b4de-4bfa-bb44-ee91eaa5e256",
   "metadata": {},
   "outputs": [
    {
     "data": {
      "text/plain": [
       "[2, 6, 60, 90, 120, 46]"
      ]
     },
     "execution_count": 64,
     "metadata": {},
     "output_type": "execute_result"
    }
   ],
   "source": [
    "## Ans 5. divisible by 2\n",
    "\n",
    "list(filter(lambda x: x%2==0 ,fil))"
   ]
  },
  {
   "cell_type": "code",
   "execution_count": 68,
   "id": "f766dc82-d2aa-4e36-ae54-59f57af4998b",
   "metadata": {},
   "outputs": [
    {
     "data": {
      "text/plain": [
       "[3, 6, 9, 27, 60, 90, 120]"
      ]
     },
     "execution_count": 68,
     "metadata": {},
     "output_type": "execute_result"
    }
   ],
   "source": [
    "## Ans 5. divisible by 3\n",
    "\n",
    "list(filter(lambda x: x % 3 == 0 , fil))"
   ]
  },
  {
   "cell_type": "code",
   "execution_count": 69,
   "id": "13f91f63-704c-4de9-b696-c7bfee9a7505",
   "metadata": {},
   "outputs": [],
   "source": [
    "## Ans 6.\n",
    "\n",
    "palin=['python', 'php', 'aba', 'radar', 'level']"
   ]
  },
  {
   "cell_type": "code",
   "execution_count": 72,
   "id": "061a82c6-a808-422a-b664-944260210366",
   "metadata": {},
   "outputs": [
    {
     "data": {
      "text/plain": [
       "['php', 'aba', 'radar', 'level']"
      ]
     },
     "execution_count": 72,
     "metadata": {},
     "output_type": "execute_result"
    }
   ],
   "source": [
    "exp10=list(filter(lambda x: x==x[::-1],palin))\n",
    "exp10"
   ]
  },
  {
   "cell_type": "code",
   "execution_count": null,
   "id": "3a69bcb8-e8ec-4801-8784-a280bdc3db4b",
   "metadata": {},
   "outputs": [],
   "source": []
  }
 ],
 "metadata": {
  "kernelspec": {
   "display_name": "Python 3 (ipykernel)",
   "language": "python",
   "name": "python3"
  },
  "language_info": {
   "codemirror_mode": {
    "name": "ipython",
    "version": 3
   },
   "file_extension": ".py",
   "mimetype": "text/x-python",
   "name": "python",
   "nbconvert_exporter": "python",
   "pygments_lexer": "ipython3",
   "version": "3.10.8"
  }
 },
 "nbformat": 4,
 "nbformat_minor": 5
}
