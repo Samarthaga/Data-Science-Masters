{
 "cells": [
  {
   "cell_type": "markdown",
   "id": "d538be39-77b5-453d-9e74-826d485c00e7",
   "metadata": {},
   "source": [
    "## 'Oops' stands for Object oriented programming system"
   ]
  },
  {
   "cell_type": "code",
   "execution_count": 1,
   "id": "8a07ee8e-4a36-4dde-8006-c7fa35544012",
   "metadata": {},
   "outputs": [],
   "source": [
    "a=1"
   ]
  },
  {
   "cell_type": "code",
   "execution_count": 2,
   "id": "838c8820-2740-48e5-9c32-4dcdb8057e6d",
   "metadata": {},
   "outputs": [
    {
     "name": "stdout",
     "output_type": "stream",
     "text": [
      "<class 'int'>\n"
     ]
    }
   ],
   "source": [
    "print(type(a))"
   ]
  },
  {
   "cell_type": "code",
   "execution_count": 3,
   "id": "5e3db218-207a-4f08-b5ed-3bf9e46db415",
   "metadata": {},
   "outputs": [
    {
     "name": "stdout",
     "output_type": "stream",
     "text": [
      "<class 'str'>\n"
     ]
    }
   ],
   "source": [
    "print(type('pwskills'))"
   ]
  },
  {
   "cell_type": "code",
   "execution_count": 5,
   "id": "27460962-d075-4753-926c-34eda9fa1f4f",
   "metadata": {},
   "outputs": [],
   "source": [
    "## what is the class by the way \n",
    "\n",
    "class test:\n",
    "    pass"
   ]
  },
  {
   "cell_type": "code",
   "execution_count": 6,
   "id": "b535314e-fd7e-4d9d-908c-5f90f59562ee",
   "metadata": {},
   "outputs": [
    {
     "data": {
      "text/plain": [
       "__main__.test"
      ]
     },
     "execution_count": 6,
     "metadata": {},
     "output_type": "execute_result"
    }
   ],
   "source": [
    "test"
   ]
  },
  {
   "cell_type": "code",
   "execution_count": 7,
   "id": "1583c61a-c8e7-47eb-8cf6-62575b17b982",
   "metadata": {},
   "outputs": [],
   "source": [
    "a=test()"
   ]
  },
  {
   "cell_type": "code",
   "execution_count": 8,
   "id": "299200ea-a9ad-44bd-97fd-8618401ea0da",
   "metadata": {},
   "outputs": [
    {
     "name": "stdout",
     "output_type": "stream",
     "text": [
      "<class '__main__.test'>\n"
     ]
    }
   ],
   "source": [
    "print(type(a))"
   ]
  },
  {
   "cell_type": "code",
   "execution_count": 14,
   "id": "3f7b916d-ee48-4c65-99fe-a246fb472ad2",
   "metadata": {},
   "outputs": [],
   "source": [
    "class pwskills:\n",
    "    \n",
    "    def welcome_msg(self):\n",
    "        print('welcome to pwskills')"
   ]
  },
  {
   "cell_type": "code",
   "execution_count": 16,
   "id": "10370367-dcc2-42f5-a4f0-230fa36fad72",
   "metadata": {},
   "outputs": [],
   "source": [
    "rohan=pwskills()"
   ]
  },
  {
   "cell_type": "code",
   "execution_count": 17,
   "id": "9e740071-e48c-4f43-b132-aca4933b8a0b",
   "metadata": {},
   "outputs": [
    {
     "name": "stdout",
     "output_type": "stream",
     "text": [
      "welcome to pwskills\n"
     ]
    }
   ],
   "source": [
    "rohan.welcome_msg()"
   ]
  },
  {
   "cell_type": "code",
   "execution_count": 18,
   "id": "ebabc288-0c77-4cb8-983a-e4ab2865e248",
   "metadata": {},
   "outputs": [],
   "source": [
    "sohan=pwskills()"
   ]
  },
  {
   "cell_type": "code",
   "execution_count": 19,
   "id": "294e8da7-95e2-4780-8fea-3ba6e89fa459",
   "metadata": {},
   "outputs": [
    {
     "name": "stdout",
     "output_type": "stream",
     "text": [
      "welcome to pwskills\n"
     ]
    }
   ],
   "source": [
    "sohan.welcome_msg()"
   ]
  },
  {
   "cell_type": "code",
   "execution_count": 20,
   "id": "cc4f1cb8-aea7-4329-8991-e51a94711969",
   "metadata": {},
   "outputs": [],
   "source": [
    "a=1\n",
    "b=2"
   ]
  },
  {
   "cell_type": "code",
   "execution_count": 21,
   "id": "bfb4015d-cdc8-4394-b87b-0b1e7f0395cb",
   "metadata": {},
   "outputs": [
    {
     "data": {
      "text/plain": [
       "1"
      ]
     },
     "execution_count": 21,
     "metadata": {},
     "output_type": "execute_result"
    }
   ],
   "source": [
    "a"
   ]
  },
  {
   "cell_type": "code",
   "execution_count": 22,
   "id": "22abf455-ec27-4c0c-a042-342378f89b8d",
   "metadata": {},
   "outputs": [
    {
     "data": {
      "text/plain": [
       "2"
      ]
     },
     "execution_count": 22,
     "metadata": {},
     "output_type": "execute_result"
    }
   ],
   "source": [
    "b"
   ]
  },
  {
   "cell_type": "code",
   "execution_count": 8,
   "id": "1d99b248-64b7-481a-b6b9-d6b746152698",
   "metadata": {},
   "outputs": [],
   "source": [
    "## constructor is something which hels class take out data \n",
    "\n",
    "class pwskills2:\n",
    "    def __init__(self,phone_number, email_id,student_id):\n",
    "        self.phone_number=phone_number\n",
    "        self.email_id=email_id\n",
    "        self.student_id=student_id\n",
    "        \n",
    "    def retuen_student_details (self):\n",
    "        return self.phone_number,self.email_id,self.student_id"
   ]
  },
  {
   "cell_type": "code",
   "execution_count": 9,
   "id": "a2287556-54b4-4012-b6ba-a6c6ac1a83a1",
   "metadata": {},
   "outputs": [],
   "source": [
    "samarth= pwskills2(7977129,'sam_agarwal',174870)"
   ]
  },
  {
   "cell_type": "code",
   "execution_count": 10,
   "id": "c56c1a58-34cd-420c-a6eb-22bbb834221f",
   "metadata": {},
   "outputs": [
    {
     "data": {
      "text/plain": [
       "7977129"
      ]
     },
     "execution_count": 10,
     "metadata": {},
     "output_type": "execute_result"
    }
   ],
   "source": [
    "samarth.phone_number"
   ]
  },
  {
   "cell_type": "code",
   "execution_count": 11,
   "id": "f00ed1de-f3e3-4f3c-afdb-47afbf6e7517",
   "metadata": {},
   "outputs": [
    {
     "data": {
      "text/plain": [
       "(7977129, 'sam_agarwal', 174870)"
      ]
     },
     "execution_count": 11,
     "metadata": {},
     "output_type": "execute_result"
    }
   ],
   "source": [
    "samarth.retuen_student_details()"
   ]
  },
  {
   "cell_type": "code",
   "execution_count": 16,
   "id": "9bba5041-0654-44c1-8976-791a7f27189b",
   "metadata": {},
   "outputs": [],
   "source": [
    "class pwskills1:\n",
    "    def __init__(samarth,phone_number, email_id,student_id):\n",
    "        samarth.phone_number=phone_number\n",
    "        samarth.email_id=email_id\n",
    "        samarth.student_id=student_id\n",
    "        \n",
    "    def return_student_details (samarth):\n",
    "        return samarth.phone_number,samarth.email_id,samarth.student_id"
   ]
  },
  {
   "cell_type": "code",
   "execution_count": 14,
   "id": "66829aaf-8369-49a6-84ec-3981bb6d506b",
   "metadata": {},
   "outputs": [],
   "source": [
    "pramit=pwskills1(928357975,'pramit17@gmail.com',7698)"
   ]
  },
  {
   "cell_type": "code",
   "execution_count": 15,
   "id": "ab0c95cc-c056-46fa-9683-eafd4d72063b",
   "metadata": {},
   "outputs": [
    {
     "data": {
      "text/plain": [
       "928357975"
      ]
     },
     "execution_count": 15,
     "metadata": {},
     "output_type": "execute_result"
    }
   ],
   "source": [
    "pramit.phone_number"
   ]
  },
  {
   "cell_type": "markdown",
   "id": "dcd773be-6ff2-4fd8-884f-acaebb9cc188",
   "metadata": {},
   "source": [
    "## Assignment "
   ]
  },
  {
   "cell_type": "code",
   "execution_count": 25,
   "id": "bc04b70b-cd86-4f6d-955f-5587de795be7",
   "metadata": {},
   "outputs": [],
   "source": [
    "##Ans 1. class is user defined and object can be anything either self or a name character however it should remains same throughout .\n",
    "## objects are created in class and are specially defined data \n",
    "\n",
    "## Example \n",
    "##answer below \n"
   ]
  },
  {
   "cell_type": "code",
   "execution_count": 39,
   "id": "5d836570-ff13-4e90-bbfe-2d7aa7003bcd",
   "metadata": {},
   "outputs": [],
   "source": [
    "class report():\n",
    "    \n",
    "    def __init__(self,Property_age,property_address,type_property):\n",
    "        self.Property_age=Property_age\n",
    "        self.property_address=property_address\n",
    "        self.type_property=type_property\n",
    "        \n",
    "    def evr_report(self):\n",
    "        return self.Property_age,self.property_address,self.type_property"
   ]
  },
  {
   "cell_type": "code",
   "execution_count": 33,
   "id": "6e52b443-7ccf-47c6-aa35-95603c62e1b2",
   "metadata": {},
   "outputs": [],
   "source": [
    "samarth_agarwal=report(25,'borivali','1bhk')"
   ]
  },
  {
   "cell_type": "code",
   "execution_count": 35,
   "id": "45876bcf-30f4-45b8-9820-11219838a19d",
   "metadata": {},
   "outputs": [
    {
     "data": {
      "text/plain": [
       "25"
      ]
     },
     "execution_count": 35,
     "metadata": {},
     "output_type": "execute_result"
    }
   ],
   "source": [
    "samarth_agarwal.Property_age"
   ]
  },
  {
   "cell_type": "code",
   "execution_count": 37,
   "id": "a5775d93-a329-4113-b027-365feac834f3",
   "metadata": {},
   "outputs": [
    {
     "data": {
      "text/plain": [
       "(25, 'borivali', '1bhk')"
      ]
     },
     "execution_count": 37,
     "metadata": {},
     "output_type": "execute_result"
    }
   ],
   "source": [
    "samarth_agarwal.evr_report()"
   ]
  },
  {
   "cell_type": "code",
   "execution_count": 41,
   "id": "f31de5bd-3edc-4667-a921-e6bd729875d3",
   "metadata": {},
   "outputs": [],
   "source": [
    "class report():\n",
    "    \n",
    "    def __init__(mira_road,Property_age,property_address,type_property):\n",
    "        mira_road.Property_age=Property_age\n",
    "        mira_road.property_address=property_address\n",
    "        mira_road.type_property=type_property\n",
    "        \n",
    "    def evr_report(mira_road):\n",
    "        return mira_road.Property_age,mira_road.property_address,mira_road.type_property"
   ]
  },
  {
   "cell_type": "code",
   "execution_count": 42,
   "id": "77284b4e-ae11-421c-852c-830fa877e0a7",
   "metadata": {},
   "outputs": [],
   "source": [
    "pramit_kalsaria=report(2,'snehalay bungalow','bungalow')"
   ]
  },
  {
   "cell_type": "code",
   "execution_count": 43,
   "id": "e0274d4f-4b49-455d-a80b-e43dcb89f2b1",
   "metadata": {},
   "outputs": [
    {
     "data": {
      "text/plain": [
       "2"
      ]
     },
     "execution_count": 43,
     "metadata": {},
     "output_type": "execute_result"
    }
   ],
   "source": [
    "pramit_kalsaria.Property_age"
   ]
  },
  {
   "cell_type": "code",
   "execution_count": 44,
   "id": "b8fefa55-9b73-4053-b016-cdfeaa634952",
   "metadata": {},
   "outputs": [
    {
     "data": {
      "text/plain": [
       "(2, 'snehalay bungalow', 'bungalow')"
      ]
     },
     "execution_count": 44,
     "metadata": {},
     "output_type": "execute_result"
    }
   ],
   "source": [
    "pramit_kalsaria.evr_report()"
   ]
  },
  {
   "cell_type": "code",
   "execution_count": null,
   "id": "7f79b69d-c19a-4883-97a5-d276171c2adf",
   "metadata": {},
   "outputs": [],
   "source": [
    "## Ans 2. four pillars of Oop's Inheritance, Polymorphism, Encapsulation and Abstraction"
   ]
  },
  {
   "cell_type": "code",
   "execution_count": null,
   "id": "f26a3df6-728d-4a98-8909-67a227111f64",
   "metadata": {},
   "outputs": [],
   "source": [
    "## Ans.3 __init__ is the key to recall the function where first is the defined as class and others are object to call the function \n",
    "##it is basically used to have a different class as defined by class keyword\n",
    "## Example if the fruits is the category then name ,color,season is its attributes \n",
    "## example if the cars is the category then company,color are its attributes "
   ]
  },
  {
   "cell_type": "code",
   "execution_count": null,
   "id": "d2ad43c5-a812-4ed8-b6f9-9af603e36dfe",
   "metadata": {},
   "outputs": [],
   "source": [
    "## Ans 4. self is used to access the variables that belong to the class"
   ]
  },
  {
   "cell_type": "code",
   "execution_count": null,
   "id": "3d5de2c9-e2cf-4538-8515-66c7c8a21d47",
   "metadata": {},
   "outputs": [],
   "source": [
    "## Ans 5.defines the classes that inherit from other classes as derived, subclass, or sub-type classes"
   ]
  },
  {
   "cell_type": "code",
   "execution_count": null,
   "id": "a0c0c93d-405d-4850-857c-1a7e433c5ed0",
   "metadata": {},
   "outputs": [],
   "source": []
  },
  {
   "cell_type": "code",
   "execution_count": null,
   "id": "b9a51e39-3ed9-406f-8c40-aa3fbad11ba7",
   "metadata": {},
   "outputs": [],
   "source": []
  },
  {
   "cell_type": "code",
   "execution_count": null,
   "id": "eb141165-6786-4173-bd78-2f54994280c5",
   "metadata": {},
   "outputs": [],
   "source": []
  },
  {
   "cell_type": "code",
   "execution_count": null,
   "id": "2012a4ae-5075-419e-ba51-21eb8a37fa2f",
   "metadata": {},
   "outputs": [],
   "source": []
  }
 ],
 "metadata": {
  "kernelspec": {
   "display_name": "Python 3 (ipykernel)",
   "language": "python",
   "name": "python3"
  },
  "language_info": {
   "codemirror_mode": {
    "name": "ipython",
    "version": 3
   },
   "file_extension": ".py",
   "mimetype": "text/x-python",
   "name": "python",
   "nbconvert_exporter": "python",
   "pygments_lexer": "ipython3",
   "version": "3.10.8"
  }
 },
 "nbformat": 4,
 "nbformat_minor": 5
}
