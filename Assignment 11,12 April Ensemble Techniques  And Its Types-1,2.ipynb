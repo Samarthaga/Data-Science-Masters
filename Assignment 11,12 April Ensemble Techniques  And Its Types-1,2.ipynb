{
 "cells": [
  {
   "cell_type": "markdown",
   "id": "022c721d-d7d2-4948-a0c9-c6ac6f70674c",
   "metadata": {},
   "source": [
    "# Assignment 11 April "
   ]
  },
  {
   "cell_type": "code",
   "execution_count": null,
   "id": "a2233aa8-8929-4f45-b33a-298b82ac5b8b",
   "metadata": {},
   "outputs": [],
   "source": [
    "## Ans 1: Ensemble methods are techniques that create multiple models and then combine them to produce improved results. Ensemble methods usually produces more accurate solutions than a single model would. This has been the case in a number of machine learning competitions, where the winning solutions used ensemble methods."
   ]
  },
  {
   "cell_type": "code",
   "execution_count": null,
   "id": "2e7d11f5-4572-41a5-8b51-3df3ef878150",
   "metadata": {},
   "outputs": [],
   "source": [
    "## Ans 2: Ensemble methods are techniques that create multiple models and then combine them to produce improved results. Ensemble methods usually produces more accurate solutions than a single model would. This has been the case in a number of machine learning competitions, where the winning solutions used ensemble methods."
   ]
  },
  {
   "cell_type": "code",
   "execution_count": null,
   "id": "29df684f-280d-4ce4-840a-5c3e6453f904",
   "metadata": {},
   "outputs": [],
   "source": [
    "## Ans 3: Bagging, also known as Bootstrap aggregating, is an ensemble learning technique that helps to improve the performance and accuracy of machine learning algorithms. It is used to deal with bias-variance trade-offs and reduces the variance of a prediction model"
   ]
  },
  {
   "cell_type": "code",
   "execution_count": null,
   "id": "1d99763e-2e8f-4539-84b2-a918a00c5849",
   "metadata": {},
   "outputs": [],
   "source": [
    "## Ans 4: Boosting is a method used in machine learning to reduce errors in predictive data analysis. Data scientists train machine learning software, called machine learning models, on labeled data to make guesses about unlabeled data"
   ]
  },
  {
   "cell_type": "code",
   "execution_count": null,
   "id": "a03e7b9d-d2c6-48b9-a847-a65bcc943f48",
   "metadata": {},
   "outputs": [],
   "source": [
    "## Ans 5:Ensemble learning is the process by which multiple models, such as classifiers or experts, are strategically generated and combined to solve a particular computational intelligence problem. Ensemble learning is primarily used to improve the (classification, prediction, function approximation, etc.)"
   ]
  },
  {
   "cell_type": "code",
   "execution_count": null,
   "id": "788e69cc-0484-49f2-b2bc-ac47fd9b4dae",
   "metadata": {},
   "outputs": [],
   "source": [
    "## Ans 6: here are two main reasons to use an ensemble over a single model, and they are related; they are: Performance: An ensemble can make better predictions and achieve better performance than any single contributing model. Robustness: An ensemble reduces the spread or dispersion of the predictions and model performance"
   ]
  },
  {
   "cell_type": "code",
   "execution_count": null,
   "id": "2267bd16-0a6f-4b5c-8d24-e331f778df12",
   "metadata": {},
   "outputs": [],
   "source": [
    "## Ans 7: Once the standard error is calculated, the confidence interval is determined by multiplying the standard error by a constant that reflects the level of significance desired, based on the normal distribution. The constant for 95 percent confidence intervals is 1.96"
   ]
  },
  {
   "cell_type": "code",
   "execution_count": null,
   "id": "e2b6bf74-28c6-4737-9464-ca7b898295b2",
   "metadata": {},
   "outputs": [],
   "source": [
    "## Ans 8 : Choose a number of bootstrap samples to perform.\n",
    "# Choose a sample size.\n",
    "# For each bootstrap sample. Draw a sample with replacement with the chosen size. Calculate the statistic on the sample.\n",
    "# Calculate the mean of the calculated sample statistics"
   ]
  },
  {
   "cell_type": "code",
   "execution_count": 1,
   "id": "67c0b255-1e8f-49e1-a8cf-c0369bf535cd",
   "metadata": {},
   "outputs": [],
   "source": [
    "import numpy as np\n",
    "import pandas as pd\n",
    "import matplotlib.pyplot as plt"
   ]
  },
  {
   "cell_type": "code",
   "execution_count": 3,
   "id": "cc4fd065-12d5-4037-afd9-71ec7f9e8ad8",
   "metadata": {},
   "outputs": [],
   "source": [
    "from sklearn.model_selection import train_test_split\n",
    "from sklearn.datasets import make_classification\n",
    "X,y=make_classification(n_samples=50,n_features=15,n_informative=3,n_redundant=3,n_classes=2,random_state=1)"
   ]
  },
  {
   "cell_type": "code",
   "execution_count": 4,
   "id": "78ef0d58-52f9-4055-8846-db6b6425f585",
   "metadata": {},
   "outputs": [
    {
     "data": {
      "text/plain": [
       "array([[ 3.07569024e-01,  2.01777259e+00,  9.37261416e-03,\n",
       "         1.57299576e+00, -7.63368426e-01, -8.96216820e-01,\n",
       "        -5.16786319e-01, -2.38942105e+00, -6.34524034e-02,\n",
       "         2.07355295e+00, -5.46358531e-01, -1.28517234e+00,\n",
       "         1.65238782e+00, -6.58532674e-01, -5.62600899e-01],\n",
       "       [-5.92410346e-01, -3.93917278e-01, -9.61669028e-01,\n",
       "        -1.18168017e+00, -1.42893564e-01,  6.69243495e-01,\n",
       "         3.80185180e-01,  1.01293930e+00, -2.45985850e+00,\n",
       "        -6.56867577e-01,  2.42389179e-01, -1.29721439e+00,\n",
       "         1.49994395e+00,  5.43807529e-02,  1.30224076e+00],\n",
       "       [-1.18275248e+00, -2.27503414e+00, -1.12573389e-01,\n",
       "         8.17129411e-01,  4.26511632e-01, -1.65597356e+00,\n",
       "         1.77682432e+00,  3.80026333e+00, -4.42153419e-02,\n",
       "        -2.79880191e+00,  7.59898153e-01, -1.05611465e+00,\n",
       "         1.04696169e+00, -1.35185248e-01,  3.88498817e-01],\n",
       "       [-2.45743268e+00, -2.95677306e-01,  5.70241001e-01,\n",
       "        -1.23621312e+00,  3.69591287e-01, -5.25122546e-01,\n",
       "        -1.70883939e+00, -1.43185532e+00, -4.79215807e-01,\n",
       "         4.49502866e-01, -2.23381681e-01, -1.19629165e+00,\n",
       "         3.20387902e-01,  1.34941486e+00, -1.22826971e+00],\n",
       "       [-1.89985895e+00, -2.13136217e-01,  4.39054170e-01,\n",
       "         1.31703107e+00,  2.19933511e+00, -7.51701769e-01,\n",
       "         2.69645885e-01,  3.10684403e-01, -5.87082177e-01,\n",
       "        -2.31370915e-01,  2.24794811e-01, -3.32840856e-01,\n",
       "         7.29612427e-01, -1.52711088e-01,  7.43414831e-01],\n",
       "       [-6.81425296e-01,  1.84141137e+00,  2.99572794e+00,\n",
       "         3.42086734e-01, -1.51575752e+00,  5.74622327e-01,\n",
       "        -3.34294200e+00, -5.68334342e+00, -2.13174614e-01,\n",
       "         3.42311294e+00, -1.67821411e+00, -1.58645873e+00,\n",
       "        -5.32298960e-01,  1.12535887e+00,  1.50676633e+00],\n",
       "       [-9.29197468e-01,  1.02662101e+00, -5.41041633e-02,\n",
       "        -1.68116081e+00,  1.39900998e+00, -9.13790494e-02,\n",
       "         1.99035526e+00,  8.30543818e-01,  1.23346365e+00,\n",
       "         2.05949150e-01,  1.47184031e-01,  4.05663308e-01,\n",
       "        -4.48919484e-02, -2.00989855e+00,  1.13060713e+00],\n",
       "       [ 6.75655442e-01,  1.47953650e+00,  6.22158169e-01,\n",
       "         1.10663491e-01, -1.36051114e+00, -5.67652685e-01,\n",
       "         3.58701373e-01, -1.27726513e+00,  1.93440208e-01,\n",
       "         1.34030002e+00,  5.76988854e-01,  1.42363424e+00,\n",
       "        -5.62863515e-01, -1.12002575e+00, -3.98560936e-01],\n",
       "       [ 1.63329506e-01,  8.69906372e-01,  4.53218640e-01,\n",
       "        -1.15929473e+00,  7.70922496e-01, -5.82804172e-01,\n",
       "         3.33943461e-02, -9.37624535e-01,  1.25201178e+00,\n",
       "         8.67685712e-01, -1.65681784e+00,  5.93699514e-01,\n",
       "        -1.00575818e+00, -5.38184023e-01,  1.18717645e+00],\n",
       "       [ 5.31052027e-01, -6.72495961e-01, -5.62204271e-01,\n",
       "         1.34007037e+00,  5.58254076e-02,  2.35921916e-01,\n",
       "         1.70179749e+00,  2.34497170e+00, -7.64142661e-01,\n",
       "        -1.34744753e+00,  1.34228967e+00, -3.51742296e-01,\n",
       "        -1.80642920e+00, -8.44713981e-01,  4.74390968e-01],\n",
       "       [ 6.48753909e-01,  2.40672801e-01,  4.96535994e-01,\n",
       "         1.07819139e+00, -9.33050978e-02, -1.21396425e+00,\n",
       "         7.50682122e-01,  2.93856068e-01,  1.03655593e+00,\n",
       "         2.08712178e-02, -1.78632351e+00, -1.44463614e+00,\n",
       "        -9.44716562e-01, -7.54700254e-01, -1.05649644e-01],\n",
       "       [-1.21377262e+00, -8.56662372e-01,  1.28520642e+00,\n",
       "         1.45139811e+00, -1.49223190e+00,  5.04700154e-01,\n",
       "         4.52752232e-01,  8.28155416e-01,  1.04563105e+00,\n",
       "        -7.68621856e-01, -7.36954885e-01,  6.95720010e-01,\n",
       "        -5.24546592e-01, -7.52805899e-02, -1.88204035e-01],\n",
       "       [-1.13676697e-01, -1.40701505e+00, -1.93697561e+00,\n",
       "        -2.59964225e-01,  1.37243021e+00, -9.49895144e-01,\n",
       "        -2.11514885e-01,  1.74489356e+00,  2.14475653e-01,\n",
       "        -1.53027731e+00,  1.61406496e+00, -7.33566035e-01,\n",
       "         1.77496540e+00,  1.15674883e+00, -2.21947407e-01],\n",
       "       [-3.32300127e-01,  1.19300804e+00,  2.17956404e-01,\n",
       "         5.68711834e-01, -1.25196105e+00, -1.38895930e-01,\n",
       "        -2.85463150e+00, -3.77244063e+00, -3.63973709e-01,\n",
       "         2.20897120e+00, -1.09201350e+00, -3.79014161e-01,\n",
       "         1.06553039e-01,  1.48492143e+00, -7.16362752e-01],\n",
       "       [ 1.99916603e-01,  9.46456833e-01,  1.38508847e+00,\n",
       "         2.61803247e+00,  1.48443325e+00,  3.54441996e-01,\n",
       "        -2.04456454e+00, -3.16733950e+00, -2.77343001e-01,\n",
       "         1.85724098e+00, -1.82591438e+00, -2.15729912e+00,\n",
       "        -1.22587128e+00,  8.43842697e-01,  3.12024018e-01],\n",
       "       [ 4.53924117e-01, -5.87197806e-01, -9.86671168e-02,\n",
       "        -6.20120760e-01, -1.30091148e-01, -2.05038786e-01,\n",
       "         9.15214999e-01,  1.41325374e+00, -4.23264389e-01,\n",
       "        -9.03327926e-01, -6.89464949e-02, -2.25318428e-01,\n",
       "         1.11400548e+00, -3.66203973e-01, -6.07107739e-01],\n",
       "       [ 4.20124825e-01,  1.79084781e+00,  1.27655555e+00,\n",
       "        -1.80976760e+00, -1.80066252e-01, -3.06655678e-01,\n",
       "         9.80785154e-01, -1.21495316e+00, -4.24890190e-01,\n",
       "         1.49923841e+00, -1.86200857e+00, -9.81668680e-01,\n",
       "        -5.00559570e-01, -1.83730214e+00,  3.27124216e-01],\n",
       "       [-2.14118422e+00,  1.53696476e+00,  1.71804584e+00,\n",
       "         9.99295136e-01, -1.84350666e-01,  1.30511620e+00,\n",
       "         4.89401096e-01, -1.55121011e+00,  1.36152413e+00,\n",
       "         1.51398468e+00, -8.71826855e-02,  7.95154260e-01,\n",
       "         8.75541183e-02, -1.40083789e+00,  2.90534678e-01],\n",
       "       [ 2.06149211e+00,  1.13996985e+00,  8.91395949e-01,\n",
       "         7.69891883e-01,  6.26780507e-01, -2.15417414e-01,\n",
       "        -1.40742431e+00, -2.62635494e+00,  9.40858338e-02,\n",
       "         1.72388188e+00, -1.60500577e-01,  4.31774107e-01,\n",
       "         4.38951770e-01,  3.37030496e-01,  5.97091576e-01],\n",
       "       [ 1.76001144e-01, -8.91598250e-01,  1.41119680e+00,\n",
       "         9.31503897e-02, -2.17376077e+00,  1.27168722e-01,\n",
       "        -4.66054076e-01, -4.31513329e-03, -5.05864028e-01,\n",
       "        -4.39232353e-01,  1.06709952e+00, -1.23150894e+00,\n",
       "        -1.08776651e+00,  6.11435518e-01,  1.07992861e+00],\n",
       "       [ 6.57576283e-01,  1.11832412e+00,  2.21976258e+00,\n",
       "        -9.85101420e-01, -1.02376670e+00,  6.16191040e-01,\n",
       "         4.74056601e-01, -1.32061780e+00,  3.68526058e-02,\n",
       "         1.20709269e+00, -3.25459707e-01,  1.11835850e+00,\n",
       "        -1.22278943e+00, -1.24320261e+00, -6.39747768e-01],\n",
       "       [ 6.48279788e-01, -1.36567699e+00, -2.00568074e+00,\n",
       "        -1.03250043e-01,  1.74165041e-01, -1.40074067e+00,\n",
       "         1.25698394e+00,  3.04842783e+00, -1.70798417e+00,\n",
       "        -2.04978727e+00, -1.60265997e+00, -1.74018277e-01,\n",
       "        -4.00007220e-01,  4.81074909e-02,  3.05477216e-01],\n",
       "       [ 1.25794105e+00,  1.71188972e+00,  1.36263787e+00,\n",
       "         5.42157275e-01, -1.00292632e+00,  6.28349953e-01,\n",
       "         1.18787848e+00, -9.79828502e-01,  7.87977962e-01,\n",
       "         1.36176103e+00, -3.58761032e-01,  9.19409489e-01,\n",
       "        -1.05711954e+00, -1.96322403e+00, -4.19394439e-02],\n",
       "       [-1.44822130e+00,  4.75770027e-01,  1.03077137e+00,\n",
       "        -9.30668504e-01, -7.19095660e-01,  4.10444337e-01,\n",
       "        -1.48356999e+00, -2.10526765e+00, -7.62958870e-01,\n",
       "         1.15507868e+00, -2.28103590e+00,  3.95848786e-01,\n",
       "        -4.46419576e-01,  7.17791564e-01,  3.17652832e-01],\n",
       "       [ 1.17312842e+00, -1.64564131e+00,  3.70371812e-01,\n",
       "         7.11247605e-02,  3.38288119e-01, -8.93568304e-01,\n",
       "        -1.08107018e+00,  4.80114403e-01, -1.73604562e+00,\n",
       "        -1.07275164e+00,  1.24110505e+00, -6.96025752e-02,\n",
       "        -1.12799062e+00,  1.60645933e+00, -1.91175776e+00],\n",
       "       [ 1.66487592e+00,  8.97779538e-01, -1.04649441e+00,\n",
       "        -2.89304254e+00, -7.70791909e-01,  1.09376856e+00,\n",
       "         1.00544321e+00,  3.71808166e-01,  3.16792950e-02,\n",
       "         3.00130847e-01,  5.10803988e-01, -8.20883117e-01,\n",
       "        -1.68700299e+00, -1.06860859e+00, -9.12729767e-01],\n",
       "       [-4.04331665e-01, -1.16658821e+00, -5.65115956e-01,\n",
       "         1.27920504e+00,  3.14113043e-01, -1.72908188e+00,\n",
       "         1.98041192e+00,  3.06713431e+00,  1.74182525e+00,\n",
       "        -1.91198177e+00,  1.19507265e+00,  1.07722202e+00,\n",
       "        -5.01211813e-02, -7.96960141e-01, -3.80923568e-01],\n",
       "       [-9.21556946e-01,  8.61512613e-01,  9.37209204e-01,\n",
       "         2.05809801e-01, -2.63337881e-01,  5.77576331e-02,\n",
       "        -2.70906487e-01, -1.35231866e+00, -1.09705417e+00,\n",
       "         1.04790409e+00,  2.26991733e-01, -3.03639629e-01,\n",
       "        -1.80357915e+00, -3.74337217e-01, -9.43502862e-02],\n",
       "       [ 1.94257856e+00,  1.50351489e+00, -6.79968163e-01,\n",
       "        -2.24360505e+00, -2.12389802e+00,  5.72183155e-02,\n",
       "        -3.61952323e+00, -4.48054131e+00, -6.58672544e-01,\n",
       "         2.64492716e+00, -7.05785383e-01,  4.11349989e-01,\n",
       "        -8.29595821e-01,  2.02148384e+00, -2.16420538e-01],\n",
       "       [ 9.29866090e-02,  1.59404020e+00,  2.37153216e-01,\n",
       "         3.22154526e-01, -1.87040408e-01,  1.10590209e+00,\n",
       "        -1.19493170e+00, -2.66634417e+00,  1.89204817e+00,\n",
       "         1.96677283e+00, -1.15740031e+00,  1.01080774e+00,\n",
       "        -1.54131542e+00,  3.51813866e-02, -7.00444441e-01],\n",
       "       [-7.71152364e-01, -8.91504025e-01,  1.31073149e+00,\n",
       "         5.08989092e-01,  8.67152725e-01,  1.44223981e+00,\n",
       "        -9.16379641e-01, -3.78851527e-01, -3.57448008e-01,\n",
       "        -2.86758217e-01, -1.64680135e-01,  1.16823363e-01,\n",
       "         7.53297054e-01,  9.61828034e-01,  1.04030166e+00],\n",
       "       [ 1.72906847e+00, -9.73757863e-02, -9.13066937e-01,\n",
       "         1.97059890e+00,  3.45161852e-01, -1.34786341e+00,\n",
       "         1.27058349e+00,  1.51705727e+00,  7.45539363e-01,\n",
       "        -7.05082845e-01,  1.64274500e+00,  1.26917147e+00,\n",
       "         4.73319733e-01, -7.70826009e-01, -4.09339776e-01],\n",
       "       [-8.59943442e-01, -1.09653563e+00,  1.62214483e+00,\n",
       "         9.74208593e-01, -1.66950544e-01,  8.95994944e-01,\n",
       "        -9.87066823e-01, -3.42974114e-01,  2.25389089e+00,\n",
       "        -4.03385216e-01,  1.10741960e+00, -1.61996843e+00,\n",
       "         4.13795281e-01,  1.07701559e+00,  1.68813844e-01],\n",
       "       [-2.83442944e-01,  5.68009269e-01,  1.05799591e+00,\n",
       "        -9.48970704e-01, -7.42868587e-01,  1.61352054e+00,\n",
       "         3.83012307e-01, -5.21384487e-01, -1.96247474e+00,\n",
       "         5.49370067e-01, -8.07502638e-01, -8.85184453e-02,\n",
       "         1.98912744e+00, -7.27950636e-01,  6.14801420e-01],\n",
       "       [ 9.36729600e-03,  8.81048635e-01, -7.11327261e-01,\n",
       "        -4.38126203e-01,  8.49752525e-01, -4.82401751e-01,\n",
       "        -3.04017418e+00, -3.35670430e+00,  2.17738097e+00,\n",
       "         1.84432640e+00,  6.34724390e-01, -8.03277846e-01,\n",
       "        -2.27505031e-01,  1.91496127e+00,  1.55898350e+00],\n",
       "       [-7.23127016e-01,  1.19060603e-01,  8.56251561e-01,\n",
       "        -7.02033323e-02,  6.82905659e-01,  1.10527788e+00,\n",
       "         6.12343922e-01,  1.74557881e-01,  2.40329256e+00,\n",
       "         1.46094345e-02,  1.66543200e+00, -5.91758959e-01,\n",
       "         2.63998469e-01, -6.38875982e-01, -1.06206018e+00],\n",
       "       [ 5.04495373e-02,  4.25777193e-01, -3.25346327e-02,\n",
       "         1.58030453e+00, -6.14650177e-01,  2.84979601e-01,\n",
       "        -2.62573811e+00, -2.75882844e+00,  2.53933667e-01,\n",
       "         1.37039527e+00,  1.11132352e+00, -3.13389919e-01,\n",
       "         9.14104752e-01,  1.74570988e+00, -3.73100869e-01],\n",
       "       [-8.55863965e-01, -1.85960355e+00, -1.93590720e+00,\n",
       "        -2.95469137e-01,  1.03002026e-01, -7.53456660e-01,\n",
       "         2.61051729e+00,  4.71560768e+00,  1.27317655e+00,\n",
       "        -3.00367030e+00, -8.34094116e-01,  7.82797959e-01,\n",
       "        -1.24544161e+00, -7.17313125e-01, -1.72348018e-01],\n",
       "       [ 7.18301939e-01,  1.53156990e+00,  1.14186463e+00,\n",
       "        -1.58919370e+00, -5.13677800e-01, -8.26775273e-02,\n",
       "         1.27294151e-01, -1.69486923e+00, -1.24616754e-01,\n",
       "         1.55513541e+00, -1.00732775e+00,  3.68750012e-01,\n",
       "        -4.38768002e-01, -1.04687133e+00,  2.67764309e+00],\n",
       "       [ 4.07148403e-01, -1.36766165e+00,  7.84141189e-01,\n",
       "        -1.35855463e+00, -1.60973686e-01, -1.08948924e+00,\n",
       "        -7.59400678e-01,  3.77741526e-01, -4.16600863e-01,\n",
       "        -8.69961444e-01, -1.30767997e+00,  2.05943720e+00,\n",
       "         3.98601546e-01,  1.16451324e+00, -3.62097673e-01],\n",
       "       [ 1.54969799e-02,  1.24322951e+00,  8.41482025e-01,\n",
       "        -1.06582946e+00,  2.15200077e-01, -1.49549449e-01,\n",
       "        -2.55544184e+00, -3.74265260e+00, -8.86817583e-01,\n",
       "         2.24032604e+00, -5.35912386e-02,  1.86183590e-01,\n",
       "         8.71929193e-01,  1.14814320e+00,  1.48726486e+00],\n",
       "       [-5.54601875e-03, -5.97887623e-02,  1.20811316e+00,\n",
       "        -5.05485058e-01,  7.24390609e-01,  1.04596680e+00,\n",
       "        -1.68901624e+00, -1.83472989e+00, -3.05690577e-01,\n",
       "         7.60151050e-01, -1.74192772e+00,  8.34979573e-02,\n",
       "         5.46687344e-01,  1.12330545e+00,  1.13803810e-01],\n",
       "       [-8.60185340e-02,  7.03402176e-01,  1.48939716e+00,\n",
       "        -3.06265534e-01,  1.39126270e-01, -1.48136576e-01,\n",
       "         1.26770218e+00,  1.33649488e-02, -1.90290863e+00,\n",
       "         4.12183198e-01,  5.07341760e-02, -1.45606357e+00,\n",
       "         2.33014207e+00, -1.51919263e+00,  1.20135336e+00],\n",
       "       [-4.83129014e-01,  4.40652589e-01, -4.83820990e-01,\n",
       "         1.86771880e-01, -1.06158528e+00,  1.27498447e+00,\n",
       "        -4.73995471e-01, -6.97502708e-01,  1.00192061e+00,\n",
       "         5.12568814e-01,  2.44715733e-01,  1.17567444e+00,\n",
       "         4.95379627e-01,  1.93988861e-01,  3.65815300e-01],\n",
       "       [ 2.97899625e-03,  8.45005210e-01,  1.07367034e+00,\n",
       "        -1.10423149e+00, -4.03781744e-01, -2.67746355e-01,\n",
       "         1.15695777e+00, -9.33495545e-02,  1.57271799e-01,\n",
       "         5.21284811e-01, -2.07490519e+00,  7.03065899e-01,\n",
       "         3.38935150e-01, -1.45145575e+00, -2.45453207e-01],\n",
       "       [-1.27573887e+00,  7.29327773e-01,  4.98495376e-01,\n",
       "         1.00792598e-02, -3.52650982e-01,  6.67742860e-01,\n",
       "         4.92738896e-01, -4.04230347e-01, -1.08657154e+00,\n",
       "         5.72488312e-01, -1.23954959e+00,  1.33428865e+00,\n",
       "        -1.26855934e+00, -8.14949832e-01,  1.38052323e-01],\n",
       "       [-5.77924164e-01, -2.94709004e+00,  1.86269887e+00,\n",
       "        -1.90151533e+00,  1.49311894e+00,  6.56585459e-01,\n",
       "         9.35146629e-01,  3.07538944e+00,  8.12225881e-01,\n",
       "        -2.80657248e+00,  2.36717914e-01,  1.00589085e+00,\n",
       "         1.74150272e+00,  5.64306517e-01,  8.25024902e-01],\n",
       "       [ 2.44894176e-01,  8.02830168e-01,  1.58021828e-02,\n",
       "         4.98901154e-01,  8.99336249e-02,  1.83025134e+00,\n",
       "        -2.71672919e+00, -3.21462998e+00,  1.92233767e-01,\n",
       "         1.76297253e+00, -5.62703423e-01,  8.59827041e-01,\n",
       "        -7.03921757e-01,  1.61196062e+00,  3.45924673e-01],\n",
       "       [-7.50583851e-01,  7.43875744e-01,  1.33369108e+00,\n",
       "        -2.78105080e-01,  1.31745164e-02, -3.62076456e-01,\n",
       "         1.06528290e-01, -1.02246473e+00,  3.74318903e-01,\n",
       "         8.58743129e-01,  2.27857531e-01,  3.17846928e-01,\n",
       "        -1.84955116e+00, -6.50973350e-01,  1.75639328e+00],\n",
       "       [-8.27481032e-01,  1.54519700e+00,  1.17284871e+00,\n",
       "         1.66065875e-01,  7.43997752e-01,  1.17325812e+00,\n",
       "        -1.31315166e+00, -3.01389661e+00, -1.22907369e+00,\n",
       "         2.10957116e+00,  1.24569650e+00,  7.31856273e-01,\n",
       "        -6.59380095e-01,  1.76810666e-02,  1.20029612e-01]])"
      ]
     },
     "execution_count": 4,
     "metadata": {},
     "output_type": "execute_result"
    }
   ],
   "source": [
    "X"
   ]
  },
  {
   "cell_type": "code",
   "execution_count": 9,
   "id": "a36635c4-41ee-4ad3-97be-4c34510da622",
   "metadata": {},
   "outputs": [
    {
     "name": "stdout",
     "output_type": "stream",
     "text": [
      "Collecting sklearn\n",
      "  Downloading sklearn-0.0.post4.tar.gz (3.6 kB)\n",
      "  Preparing metadata (setup.py) ... \u001b[?25lerror\n",
      "  \u001b[1;31merror\u001b[0m: \u001b[1msubprocess-exited-with-error\u001b[0m\n",
      "  \n",
      "  \u001b[31m×\u001b[0m \u001b[32mpython setup.py egg_info\u001b[0m did not run successfully.\n",
      "  \u001b[31m│\u001b[0m exit code: \u001b[1;36m1\u001b[0m\n",
      "  \u001b[31m╰─>\u001b[0m \u001b[31m[18 lines of output]\u001b[0m\n",
      "  \u001b[31m   \u001b[0m The 'sklearn' PyPI package is deprecated, use 'scikit-learn'\n",
      "  \u001b[31m   \u001b[0m rather than 'sklearn' for pip commands.\n",
      "  \u001b[31m   \u001b[0m \n",
      "  \u001b[31m   \u001b[0m Here is how to fix this error in the main use cases:\n",
      "  \u001b[31m   \u001b[0m - use 'pip install scikit-learn' rather than 'pip install sklearn'\n",
      "  \u001b[31m   \u001b[0m - replace 'sklearn' by 'scikit-learn' in your pip requirements files\n",
      "  \u001b[31m   \u001b[0m   (requirements.txt, setup.py, setup.cfg, Pipfile, etc ...)\n",
      "  \u001b[31m   \u001b[0m - if the 'sklearn' package is used by one of your dependencies,\n",
      "  \u001b[31m   \u001b[0m   it would be great if you take some time to track which package uses\n",
      "  \u001b[31m   \u001b[0m   'sklearn' instead of 'scikit-learn' and report it to their issue tracker\n",
      "  \u001b[31m   \u001b[0m - as a last resort, set the environment variable\n",
      "  \u001b[31m   \u001b[0m   SKLEARN_ALLOW_DEPRECATED_SKLEARN_PACKAGE_INSTALL=True to avoid this error\n",
      "  \u001b[31m   \u001b[0m \n",
      "  \u001b[31m   \u001b[0m More information is available at\n",
      "  \u001b[31m   \u001b[0m https://github.com/scikit-learn/sklearn-pypi-package\n",
      "  \u001b[31m   \u001b[0m \n",
      "  \u001b[31m   \u001b[0m If the previous advice does not cover your use case, feel free to report it at\n",
      "  \u001b[31m   \u001b[0m https://github.com/scikit-learn/sklearn-pypi-package/issues/new\n",
      "  \u001b[31m   \u001b[0m \u001b[31m[end of output]\u001b[0m\n",
      "  \n",
      "  \u001b[1;35mnote\u001b[0m: This error originates from a subprocess, and is likely not a problem with pip.\n",
      "\u001b[1;31merror\u001b[0m: \u001b[1mmetadata-generation-failed\u001b[0m\n",
      "\n",
      "\u001b[31m×\u001b[0m Encountered error while generating package metadata.\n",
      "\u001b[31m╰─>\u001b[0m See above for output.\n",
      "\n",
      "\u001b[1;35mnote\u001b[0m: This is an issue with the package mentioned above, not pip.\n",
      "\u001b[1;36mhint\u001b[0m: See above for details.\n",
      "\u001b[?25hNote: you may need to restart the kernel to use updated packages.\n"
     ]
    }
   ],
   "source": [
    "pip install sklearn"
   ]
  },
  {
   "cell_type": "code",
   "execution_count": 10,
   "id": "f13b5cc6-0afc-4aea-ad12-23672b70a19c",
   "metadata": {},
   "outputs": [
    {
     "ename": "ModuleNotFoundError",
     "evalue": "No module named 'sklearn.cross_validation'",
     "output_type": "error",
     "traceback": [
      "\u001b[0;31m---------------------------------------------------------------------------\u001b[0m",
      "\u001b[0;31mModuleNotFoundError\u001b[0m                       Traceback (most recent call last)",
      "Cell \u001b[0;32mIn[10], line 1\u001b[0m\n\u001b[0;32m----> 1\u001b[0m \u001b[38;5;28;01mfrom\u001b[39;00m \u001b[38;5;21;01msklearn\u001b[39;00m\u001b[38;5;21;01m.\u001b[39;00m\u001b[38;5;21;01mcross_validation\u001b[39;00m \u001b[38;5;28;01mimport\u001b[39;00m Bootstrap\n",
      "\u001b[0;31mModuleNotFoundError\u001b[0m: No module named 'sklearn.cross_validation'"
     ]
    }
   ],
   "source": [
    "from sklearn.cross_validation import Bootstrap"
   ]
  },
  {
   "cell_type": "markdown",
   "id": "cd626233-ed4b-4831-a76b-1310030c9eef",
   "metadata": {},
   "source": [
    "# Assignment 12 April"
   ]
  },
  {
   "cell_type": "code",
   "execution_count": null,
   "id": "66439de1-2f5d-4ef4-b957-091c5fccc8b4",
   "metadata": {},
   "outputs": [],
   "source": [
    "## Ans 1: Bagging attempts to reduce the chance of overfitting complex models. It trains a large number of “strong” learners in parallel. A strong learner is a model that's relatively unconstrained. Bagging then combines all the strong learners together in order to “smooth out” their predictions"
   ]
  },
  {
   "cell_type": "code",
   "execution_count": null,
   "id": "7ba9b730-9547-4358-b31b-c359f0231cbc",
   "metadata": {},
   "outputs": [],
   "source": [
    "## Ans 2: Bagging offers the advantage of allowing many weak learners to combine efforts to outdo a single strong learner. It also helps in the reduction of variance, hence eliminating the overfitting of models in the procedure. One disadvantage of bagging is that it introduces a loss of interpretability of a model."
   ]
  },
  {
   "cell_type": "code",
   "execution_count": null,
   "id": "4cb227a6-83ea-42f7-994b-6e3614c1ae35",
   "metadata": {},
   "outputs": [],
   "source": [
    "## As the number of base learners inc in a weak model the chances of low bias and low variance might take place as the model do the majority voting classification ,\n",
    "## suppose we do the base learners only with 2 outcomes then the chsances of selection might be 100per or 50 per that can cause issues therefore the random forest classification uses 100 base leanrs for better prediction "
   ]
  },
  {
   "cell_type": "code",
   "execution_count": null,
   "id": "319456e4-9259-4717-9b3f-3cbe613f0298",
   "metadata": {},
   "outputs": [],
   "source": [
    "## Ans 4 : yes bagging can be used for both regression and classification problems as in classification majority voting is selected for prediction and in regression the avg of all the outcomes are selected for better prediction ."
   ]
  },
  {
   "cell_type": "code",
   "execution_count": null,
   "id": "bed211d9-110f-494c-aca1-5071da17aa98",
   "metadata": {},
   "outputs": [],
   "source": [
    "## Ans 5: There are two main reasons to use an ensemble over a single model, and they are related; they are: Performance: An ensemble can make better predictions and achieve better performance than any single contributing model. Robustness: An ensemble reduces the spread or dispersion of the predictions and model performance\n",
    "# The ensemble size is always 10 and the first ensemble members are trained using 95% of the data sampled without replacement"
   ]
  },
  {
   "cell_type": "code",
   "execution_count": null,
   "id": "d0c6eeb8-e626-4fe2-b445-80e8b53e1f86",
   "metadata": {},
   "outputs": [],
   "source": [
    "## in a science fair where people are selected randomly and was asked multiple questions are trained for the questions and then predict the answers , same is done with other models of grops as well \n",
    "## after the result is out it was seen many groups gave the correct ans as a group and comparision of the single person "
   ]
  },
  {
   "cell_type": "code",
   "execution_count": null,
   "id": "879eca5e-d125-4608-ac08-b09a1ba09fe0",
   "metadata": {},
   "outputs": [],
   "source": []
  }
 ],
 "metadata": {
  "kernelspec": {
   "display_name": "Python 3 (ipykernel)",
   "language": "python",
   "name": "python3"
  },
  "language_info": {
   "codemirror_mode": {
    "name": "ipython",
    "version": 3
   },
   "file_extension": ".py",
   "mimetype": "text/x-python",
   "name": "python",
   "nbconvert_exporter": "python",
   "pygments_lexer": "ipython3",
   "version": "3.10.8"
  }
 },
 "nbformat": 4,
 "nbformat_minor": 5
}
