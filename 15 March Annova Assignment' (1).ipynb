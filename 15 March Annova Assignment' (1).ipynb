{
 "cells": [
  {
   "cell_type": "code",
   "execution_count": null,
   "id": "fffaa36a-c6b5-46d6-96fb-84c50687ee51",
   "metadata": {},
   "outputs": [],
   "source": [
    "## Ans 1. Assumtions \n",
    "## Normality of sampling distribution of mean \n",
    "## absence of outliners \n",
    "## Homogenity of variance \n",
    "## Samples are independent and randomly selected \n",
    "## example sales of firecrackers in year data as in festival month sales grow exponentially creating outliners "
   ]
  },
  {
   "cell_type": "code",
   "execution_count": null,
   "id": "20bfd794-ed12-4bc6-ac8a-be89522c2455",
   "metadata": {},
   "outputs": [],
   "source": [
    "## Ans 2: One Way annova : 1 factor with atleast 2 levels , example machine producing 3 items A,B,C\n",
    "## Repeated Measure Annova : 1 factor with atleast 2 leves and are dependent example 10 people going to gym for workout data for a month\n",
    "## factorial Annova : 2 or more factors each of which with atleast 2 levels , levels can be dependent or independent \n",
    "## data of people being smoker and non smoker distinguised by MAle and female "
   ]
  },
  {
   "cell_type": "code",
   "execution_count": null,
   "id": "5f70a412-a075-4606-9bd0-b83b948eeb12",
   "metadata": {},
   "outputs": [],
   "source": [
    "## Ans 3: The total variation present in a set of data may be partitioned into a number of non-overlapping components as per the nature of the classification"
   ]
  },
  {
   "cell_type": "code",
   "execution_count": null,
   "id": "da914d17-f79b-4bd1-bf16-bf17cdc6ef27",
   "metadata": {},
   "outputs": [],
   "source": [
    "## Ans 4 : SSt : The sum of squares total, denoted SST, is the squared differences between the observed dependent variable and its mean. \n",
    "## SSE The second term is the sum of squares due to regression, or SSR. It is the sum of the differences between the predicted value and the mean of the dependent variable.\n",
    "## SSR The last term is the sum of squares error, or SSE. The error is the difference between the observed value and the predicted value."
   ]
  },
  {
   "cell_type": "code",
   "execution_count": null,
   "id": "9c574112-9a41-4848-a37b-3c7a9a743875",
   "metadata": {},
   "outputs": [],
   "source": [
    "## Ans 7 : One of the most effective ways of dealing with missing data is multiple imputation (MI). Using MI, we can create multiple plausible replacements of the missing data, given what we have observed and a statistical model (the imputation model)"
   ]
  },
  {
   "cell_type": "code",
   "execution_count": null,
   "id": "53988ace-de1a-44fb-bebb-f09146c19392",
   "metadata": {},
   "outputs": [],
   "source": [
    "## Ans 6 . we can conclude that higher the F value with low p value have significance relationship b/w them and null hypothesis is refused to accept as true "
   ]
  },
  {
   "cell_type": "code",
   "execution_count": null,
   "id": "ce62729d-00b0-4c42-8bdd-8760d57d6683",
   "metadata": {},
   "outputs": [],
   "source": [
    "## Ans 8 :Duncan, Scheffe, Student–Newman–Keuls (SNK), least significant difference (LSD), and Tukey\n",
    "## Turkey method is used for comparing all possible group pairings\n",
    "## Scheffe test  to make unplanned comparisons, rather than pre-planned comparisons, among group means in an analysis of variance (ANOVA) experiment\n",
    "## Duncan test agronomy and other agricultural research."
   ]
  },
  {
   "cell_type": "code",
   "execution_count": null,
   "id": "17b40825-e7e7-4c7f-8e87-9324a0243148",
   "metadata": {},
   "outputs": [],
   "source": []
  },
  {
   "cell_type": "code",
   "execution_count": null,
   "id": "c8c52460-deb9-4594-a267-dc55e3233e28",
   "metadata": {},
   "outputs": [],
   "source": []
  },
  {
   "cell_type": "code",
   "execution_count": null,
   "id": "e6a5afa7-3227-46ba-b7a8-31e1a3cd9b89",
   "metadata": {},
   "outputs": [],
   "source": []
  },
  {
   "cell_type": "code",
   "execution_count": null,
   "id": "e3637e84-3f36-4c33-a86c-2bb823e242bb",
   "metadata": {},
   "outputs": [],
   "source": []
  }
 ],
 "metadata": {
  "kernelspec": {
   "display_name": "Python 3 (ipykernel)",
   "language": "python",
   "name": "python3"
  },
  "language_info": {
   "codemirror_mode": {
    "name": "ipython",
    "version": 3
   },
   "file_extension": ".py",
   "mimetype": "text/x-python",
   "name": "python",
   "nbconvert_exporter": "python",
   "pygments_lexer": "ipython3",
   "version": "3.10.8"
  }
 },
 "nbformat": 4,
 "nbformat_minor": 5
}
