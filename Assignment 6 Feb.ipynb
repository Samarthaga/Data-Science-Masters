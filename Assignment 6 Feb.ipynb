{
 "cells": [
  {
   "cell_type": "markdown",
   "id": "09fee225-5956-4575-9720-af4a362546b5",
   "metadata": {},
   "source": [
    "## Assignment 6 feb"
   ]
  },
  {
   "cell_type": "code",
   "execution_count": 16,
   "id": "9adca482-d3ed-4e57-a930-0945a4caeb5f",
   "metadata": {},
   "outputs": [],
   "source": [
    "## Ans . 2 For decryption of the message \n",
    "\n",
    "sentence='I want to become a Data Scientist.'"
   ]
  },
  {
   "cell_type": "code",
   "execution_count": 17,
   "id": "8dabd020-cbb8-4098-8d9f-643ddb3c2e21",
   "metadata": {},
   "outputs": [
    {
     "data": {
      "text/plain": [
       "'I want to become a Data Scientist.'"
      ]
     },
     "execution_count": 17,
     "metadata": {},
     "output_type": "execute_result"
    }
   ],
   "source": [
    "sentence "
   ]
  },
  {
   "cell_type": "code",
   "execution_count": 33,
   "id": "c1cd1ece-cfa4-4487-ae2c-4e8cfd48471b",
   "metadata": {},
   "outputs": [],
   "source": [
    "sentence2=sentence.lower()"
   ]
  },
  {
   "cell_type": "code",
   "execution_count": 34,
   "id": "46503323-52eb-4ce2-9b9f-6db95d38a78e",
   "metadata": {},
   "outputs": [
    {
     "data": {
      "text/plain": [
       "'i want to become a data scientist.'"
      ]
     },
     "execution_count": 34,
     "metadata": {},
     "output_type": "execute_result"
    }
   ],
   "source": [
    "sentence2"
   ]
  },
  {
   "cell_type": "code",
   "execution_count": 39,
   "id": "e0c78535-4ff4-4974-8d2b-5a191b5851eb",
   "metadata": {},
   "outputs": [],
   "source": [
    "to_change={'d':'z','b':'y','c':'x',\" \":'$'}\n",
    "for decrypt in to_change.keys():\n",
    "    sentence2=sentence2.replace(decrypt,to_change[decrypt])"
   ]
  },
  {
   "cell_type": "code",
   "execution_count": 40,
   "id": "b246215c-835e-47d0-97c7-d44ed63d66ac",
   "metadata": {},
   "outputs": [
    {
     "name": "stdout",
     "output_type": "stream",
     "text": [
      "i$want$to$yexome$a$zata$sxientist.\n"
     ]
    }
   ],
   "source": [
    "print(sentence2)"
   ]
  },
  {
   "cell_type": "code",
   "execution_count": 41,
   "id": "1b93e86f-8bd8-451d-a105-b4d79af74ba3",
   "metadata": {},
   "outputs": [],
   "source": [
    "## Ans .1 List as an argument \n",
    "\n",
    "list1 = [1,2,3,4, [44,55,66, True], False, (34,56,78,89,34), {1,2,3,3,2,1}, {1:34, \"key2\": [55, 67, 78, 89], 4: (45,\n",
    "22, 61, 34)}, [56, 'data science'], 'Machine Learning']"
   ]
  },
  {
   "cell_type": "code",
   "execution_count": 42,
   "id": "bbb23778-f711-4f6a-9392-21ce423cc317",
   "metadata": {},
   "outputs": [],
   "source": [
    "t=(34,56,78,89,34)"
   ]
  },
  {
   "cell_type": "code",
   "execution_count": 43,
   "id": "0deeab73-eb1f-4879-b297-242cf90e4b84",
   "metadata": {},
   "outputs": [
    {
     "data": {
      "text/plain": [
       "tuple"
      ]
     },
     "execution_count": 43,
     "metadata": {},
     "output_type": "execute_result"
    }
   ],
   "source": [
    "type(t)"
   ]
  },
  {
   "cell_type": "code",
   "execution_count": 44,
   "id": "cbc7ea61-8119-4fb4-ba97-d767bc4354ab",
   "metadata": {},
   "outputs": [],
   "source": [
    "s={1,2,3,3,2,1}"
   ]
  },
  {
   "cell_type": "code",
   "execution_count": 45,
   "id": "8087d928-399e-41e1-a6ca-1bf741fffb64",
   "metadata": {},
   "outputs": [
    {
     "data": {
      "text/plain": [
       "set"
      ]
     },
     "execution_count": 45,
     "metadata": {},
     "output_type": "execute_result"
    }
   ],
   "source": [
    "type(s)"
   ]
  },
  {
   "cell_type": "code",
   "execution_count": 46,
   "id": "c49f0e82-1873-48b9-985f-11bd75a0b73f",
   "metadata": {},
   "outputs": [],
   "source": [
    "v=[56, 'data science']"
   ]
  },
  {
   "cell_type": "code",
   "execution_count": 47,
   "id": "0a643678-7bfb-4c96-aad6-f46c827c6bb8",
   "metadata": {},
   "outputs": [
    {
     "data": {
      "text/plain": [
       "list"
      ]
     },
     "execution_count": 47,
     "metadata": {},
     "output_type": "execute_result"
    }
   ],
   "source": [
    "type(v)"
   ]
  },
  {
   "cell_type": "code",
   "execution_count": 54,
   "id": "1297e066-478f-4963-a86d-e19ed6119ce4",
   "metadata": {},
   "outputs": [],
   "source": [
    "def agr(list1):\n",
    "    for x in list1:\n",
    "        return(x)\n",
    "    "
   ]
  },
  {
   "cell_type": "code",
   "execution_count": 56,
   "id": "e469a1e3-8c0c-4028-8ce5-10a11ded8ccd",
   "metadata": {},
   "outputs": [],
   "source": [
    "list1 = [1,2,3,4, [44,55,66, True], False, (34,56,78,89,34), {1,2,3,3,2,1}, {1:34, \"key2\": [55, 67, 78, 89], 4: (45,\n",
    "22, 61, 34)}, [56, 'data science'], 'Machine Learning']"
   ]
  },
  {
   "cell_type": "code",
   "execution_count": 57,
   "id": "371ae2c3-8db1-4ef1-a7e9-7e7eebd9241f",
   "metadata": {},
   "outputs": [
    {
     "data": {
      "text/plain": [
       "1"
      ]
     },
     "execution_count": 57,
     "metadata": {},
     "output_type": "execute_result"
    }
   ],
   "source": [
    "agr(list1)"
   ]
  },
  {
   "cell_type": "code",
   "execution_count": null,
   "id": "c4f96dcb-9d3f-44b9-b5e0-7d6199a10af0",
   "metadata": {},
   "outputs": [],
   "source": []
  }
 ],
 "metadata": {
  "kernelspec": {
   "display_name": "Python 3 (ipykernel)",
   "language": "python",
   "name": "python3"
  },
  "language_info": {
   "codemirror_mode": {
    "name": "ipython",
    "version": 3
   },
   "file_extension": ".py",
   "mimetype": "text/x-python",
   "name": "python",
   "nbconvert_exporter": "python",
   "pygments_lexer": "ipython3",
   "version": "3.10.8"
  }
 },
 "nbformat": 4,
 "nbformat_minor": 5
}
