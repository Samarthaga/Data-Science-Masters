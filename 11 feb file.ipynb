{
 "cells": [
  {
   "cell_type": "code",
   "execution_count": 10,
   "id": "ed7f11b0-eaed-42ba-bcc9-8db749cd0472",
   "metadata": {},
   "outputs": [],
   "source": [
    "f=open('text.txt','a')"
   ]
  },
  {
   "cell_type": "code",
   "execution_count": 11,
   "id": "3dcef122-4dab-4a7e-822b-00099d7407cd",
   "metadata": {},
   "outputs": [
    {
     "data": {
      "text/plain": [
       "99"
      ]
     },
     "execution_count": 11,
     "metadata": {},
     "output_type": "execute_result"
    }
   ],
   "source": [
    "f.write(' Create a vehicle class with an init method having instance variables as name_of_vehicle, max_speed')"
   ]
  },
  {
   "cell_type": "code",
   "execution_count": 14,
   "id": "2fb1ca37-36c0-42c1-8e30-e1b351c12d05",
   "metadata": {},
   "outputs": [],
   "source": [
    "f.close()"
   ]
  },
  {
   "cell_type": "code",
   "execution_count": 15,
   "id": "24ae7eb6-a8e4-4e25-9617-747f1e24c06b",
   "metadata": {},
   "outputs": [],
   "source": [
    "data=open('text.txt','r')"
   ]
  },
  {
   "cell_type": "code",
   "execution_count": 16,
   "id": "bf3fc718-2c96-41a0-8fdb-f806d7e41bcd",
   "metadata": {},
   "outputs": [
    {
     "data": {
      "text/plain": [
       "' Create a vehicle class with an init method having instance variables as name_of_vehicle, max_speed Create a vehicle class with an init method having instance variables as name_of_vehicle, max_speed'"
      ]
     },
     "execution_count": 16,
     "metadata": {},
     "output_type": "execute_result"
    }
   ],
   "source": [
    "data.read()"
   ]
  },
  {
   "cell_type": "code",
   "execution_count": 17,
   "id": "78e6c160-4700-41dc-874d-7230100637a6",
   "metadata": {},
   "outputs": [
    {
     "data": {
      "text/plain": [
       "''"
      ]
     },
     "execution_count": 17,
     "metadata": {},
     "output_type": "execute_result"
    }
   ],
   "source": [
    "data.read()"
   ]
  },
  {
   "cell_type": "code",
   "execution_count": 19,
   "id": "20e86b0b-8eb1-49fa-81a0-a555d3ccbb0c",
   "metadata": {},
   "outputs": [
    {
     "data": {
      "text/plain": [
       "0"
      ]
     },
     "execution_count": 19,
     "metadata": {},
     "output_type": "execute_result"
    }
   ],
   "source": [
    "data.seek(0)"
   ]
  },
  {
   "cell_type": "code",
   "execution_count": 21,
   "id": "cad93b6a-2be6-4aad-86de-4f819be372af",
   "metadata": {},
   "outputs": [
    {
     "data": {
      "text/plain": [
       "' Create a vehicle class with an init method having instance variables as name_of_vehicle, max_speed Create a vehicle class with an init method having instance variables as name_of_vehicle, max_speed'"
      ]
     },
     "execution_count": 21,
     "metadata": {},
     "output_type": "execute_result"
    }
   ],
   "source": [
    "data.read()"
   ]
  },
  {
   "cell_type": "code",
   "execution_count": 24,
   "id": "883fe7ad-91c5-4dbd-bf89-935d4dfd167d",
   "metadata": {},
   "outputs": [
    {
     "data": {
      "text/plain": [
       "10"
      ]
     },
     "execution_count": 24,
     "metadata": {},
     "output_type": "execute_result"
    }
   ],
   "source": [
    "data.seek(10)"
   ]
  },
  {
   "cell_type": "code",
   "execution_count": 25,
   "id": "ebcebcb0-54b1-4828-ba54-24b247078cda",
   "metadata": {},
   "outputs": [
    {
     "data": {
      "text/plain": [
       "'vehicle class with an init method having instance variables as name_of_vehicle, max_speed Create a vehicle class with an init method having instance variables as name_of_vehicle, max_speed'"
      ]
     },
     "execution_count": 25,
     "metadata": {},
     "output_type": "execute_result"
    }
   ],
   "source": [
    "data.read()"
   ]
  },
  {
   "cell_type": "code",
   "execution_count": 29,
   "id": "01e4df4c-85e0-4728-a60f-38ea9dd0f2a1",
   "metadata": {},
   "outputs": [],
   "source": [
    "data1=open('text.txt','r')"
   ]
  },
  {
   "cell_type": "code",
   "execution_count": 30,
   "id": "80365de4-1bbf-4c00-a774-b074264b3531",
   "metadata": {},
   "outputs": [
    {
     "name": "stdout",
     "output_type": "stream",
     "text": [
      " Create a vehicle class with an init method having instance variables as name_of_vehicle, max_speed Create a vehicle class with an init method having instance variables as name_of_vehicle, max_speed\n"
     ]
    }
   ],
   "source": [
    "for i in data1:\n",
    "    print(i)"
   ]
  },
  {
   "cell_type": "code",
   "execution_count": 31,
   "id": "156d7e02-0a72-47fd-bcbd-bd1126aab41b",
   "metadata": {},
   "outputs": [],
   "source": [
    "import os"
   ]
  },
  {
   "cell_type": "code",
   "execution_count": 32,
   "id": "64008ba1-5aee-4d0f-8536-747ec4196130",
   "metadata": {},
   "outputs": [
    {
     "data": {
      "text/plain": [
       "198"
      ]
     },
     "execution_count": 32,
     "metadata": {},
     "output_type": "execute_result"
    }
   ],
   "source": [
    "os.path.getsize('text.txt')"
   ]
  },
  {
   "cell_type": "code",
   "execution_count": 33,
   "id": "13f1d3b4-a29c-4124-9b9b-966c03f5f727",
   "metadata": {},
   "outputs": [],
   "source": [
    "import shutil"
   ]
  },
  {
   "cell_type": "code",
   "execution_count": 34,
   "id": "95ecfe08-72ff-4a8f-8b69-8cb6f9f19c3a",
   "metadata": {},
   "outputs": [
    {
     "data": {
      "text/plain": [
       "'new_test.txt'"
      ]
     },
     "execution_count": 34,
     "metadata": {},
     "output_type": "execute_result"
    }
   ],
   "source": [
    "shutil.copy('text.txt','new_test.txt')"
   ]
  },
  {
   "cell_type": "code",
   "execution_count": 35,
   "id": "2d7b5d21-060e-4ca3-b4da-0296cebbfebf",
   "metadata": {},
   "outputs": [],
   "source": [
    "os.remove('text.txt')"
   ]
  },
  {
   "cell_type": "code",
   "execution_count": 37,
   "id": "7335c9e3-1547-4df8-bdf7-3245cfd45e6a",
   "metadata": {},
   "outputs": [
    {
     "name": "stdout",
     "output_type": "stream",
     "text": [
      " Create a vehicle class with an init method having instance variables as name_of_vehicle, max_speed Create a vehicle class with an init method having instance variables as name_of_vehicle, max_speed\n"
     ]
    }
   ],
   "source": [
    "with open ('new_test.txt','r') as f:\n",
    "    print(f.read())"
   ]
  },
  {
   "cell_type": "markdown",
   "id": "ec5650ab-c1f2-4597-99b9-5f2194148ae0",
   "metadata": {},
   "source": [
    "## read and write operations with diff files system"
   ]
  },
  {
   "cell_type": "code",
   "execution_count": 39,
   "id": "2b5189eb-9868-43c1-9cbb-42d5d2477314",
   "metadata": {},
   "outputs": [],
   "source": [
    "data={\n",
    "    'name':'samarth',\n",
    "    'mail_id':'samarth@gmail.com',\n",
    "    'phone_no':76524754,\n",
    "    'sub':['data science','big data','data analytics']\n",
    "}"
   ]
  },
  {
   "cell_type": "code",
   "execution_count": 40,
   "id": "2c21ba2a-570d-4e09-be00-777677c95cc8",
   "metadata": {},
   "outputs": [],
   "source": [
    "import json"
   ]
  },
  {
   "cell_type": "code",
   "execution_count": 41,
   "id": "b3c16d3f-7974-438d-aefd-53ca61a6ca75",
   "metadata": {},
   "outputs": [],
   "source": [
    "with open('test1.json','w')as f:\n",
    "    json.dump(data,f)"
   ]
  },
  {
   "cell_type": "code",
   "execution_count": 42,
   "id": "0bc7b290-ebfd-4a8e-ab1a-3f5e2a979953",
   "metadata": {},
   "outputs": [],
   "source": [
    "with open('test1.json','r')as f:\n",
    "    data1=json.load(f)"
   ]
  },
  {
   "cell_type": "code",
   "execution_count": 43,
   "id": "c5388318-b3e2-40da-88cc-051d20692b0d",
   "metadata": {},
   "outputs": [
    {
     "data": {
      "text/plain": [
       "{'name': 'samarth',\n",
       " 'mail_id': 'samarth@gmail.com',\n",
       " 'phone_no': 76524754,\n",
       " 'sub': ['data science', 'big data', 'data analytics']}"
      ]
     },
     "execution_count": 43,
     "metadata": {},
     "output_type": "execute_result"
    }
   ],
   "source": [
    "data1"
   ]
  },
  {
   "cell_type": "code",
   "execution_count": 46,
   "id": "025102b3-1675-4106-ba62-02efaed63763",
   "metadata": {},
   "outputs": [
    {
     "data": {
      "text/plain": [
       "'big data'"
      ]
     },
     "execution_count": 46,
     "metadata": {},
     "output_type": "execute_result"
    }
   ],
   "source": [
    "data1['sub'][1]"
   ]
  },
  {
   "cell_type": "code",
   "execution_count": 47,
   "id": "14e38a12-bf7e-4a62-9e78-c2f544e5f90f",
   "metadata": {},
   "outputs": [],
   "source": [
    "data=[['name','email','number'],\n",
    "      ['samarth','sam_aga@outlook.com',7457152],\n",
    "      ['krish','krish@gmail,com',87481548]\n",
    "     ]"
   ]
  },
  {
   "cell_type": "code",
   "execution_count": null,
   "id": "1702266e-eef6-4490-ba0c-4cf5bd9aa1e7",
   "metadata": {},
   "outputs": [],
   "source": [
    "## coma seperated file is stored in CSV type file "
   ]
  },
  {
   "cell_type": "code",
   "execution_count": 48,
   "id": "b5251479-32e2-4210-88a3-be7c54b664ee",
   "metadata": {},
   "outputs": [],
   "source": [
    "import csv"
   ]
  },
  {
   "cell_type": "code",
   "execution_count": 52,
   "id": "8f9c5d65-560b-4223-b30c-18c121b8746a",
   "metadata": {},
   "outputs": [],
   "source": [
    "with open('test3.csv','w') as f:\n",
    "    w= csv.writer(f)\n",
    "    for i in data:\n",
    "        w.writerow(i)"
   ]
  },
  {
   "cell_type": "code",
   "execution_count": 55,
   "id": "341c30d8-e7a4-4e51-a38f-a5de5ba3040f",
   "metadata": {},
   "outputs": [
    {
     "name": "stdout",
     "output_type": "stream",
     "text": [
      "['name', 'email', 'number']\n",
      "['samarth', 'sam_aga@outlook.com', '7457152']\n",
      "['krish', 'krish@gmail,com', '87481548']\n"
     ]
    }
   ],
   "source": [
    "with open ('test3.csv','r') as f:\n",
    "    read= csv.reader(f)\n",
    "    for i in read:\n",
    "        print(i)"
   ]
  },
  {
   "cell_type": "code",
   "execution_count": null,
   "id": "dcedfdc8-eec6-4365-8a36-0e504b55918d",
   "metadata": {},
   "outputs": [],
   "source": [
    "## binary read operation bin for only binary file "
   ]
  },
  {
   "cell_type": "code",
   "execution_count": 60,
   "id": "21953aba-a2d1-4479-b0a1-f527e2288b48",
   "metadata": {},
   "outputs": [],
   "source": [
    "with open('test4.bin','wb') as f:\n",
    "    f.write(b'\\x01\\x02\\x03')"
   ]
  },
  {
   "cell_type": "code",
   "execution_count": 61,
   "id": "356b5fb9-b3f4-4a81-b4cc-033f301d1806",
   "metadata": {},
   "outputs": [
    {
     "name": "stdout",
     "output_type": "stream",
     "text": [
      "b'\\x01\\x02\\x03'\n"
     ]
    }
   ],
   "source": [
    "with open ('test4.bin','rb') as f:\n",
    "    print (f.read())"
   ]
  },
  {
   "cell_type": "markdown",
   "id": "e32ac5f4-8a66-40c2-b4c5-a526f944fa19",
   "metadata": {},
   "source": [
    "## Buffer read and write method flile "
   ]
  },
  {
   "cell_type": "code",
   "execution_count": 67,
   "id": "4da8a145-d68e-4760-ae30-26a3f670565f",
   "metadata": {},
   "outputs": [],
   "source": [
    "import io"
   ]
  },
  {
   "cell_type": "code",
   "execution_count": 72,
   "id": "d63d4ad2-3763-4c1f-9c3d-ea1cd47dae7c",
   "metadata": {},
   "outputs": [],
   "source": [
    "with open('test5.txt','wb') as f:\n",
    "    file = io.BufferedWriter(f)\n",
    "    file.write(b'this is my buffer write\\n')\n",
    "    file.write(b'this is my 2nd line that i am trying to write')\n",
    "    file.flush()"
   ]
  },
  {
   "cell_type": "code",
   "execution_count": 77,
   "id": "38c92001-c24b-4097-b108-187cb84ae2d2",
   "metadata": {},
   "outputs": [
    {
     "name": "stdout",
     "output_type": "stream",
     "text": [
      "b'this is my'\n"
     ]
    }
   ],
   "source": [
    "with open('test5.txt','rb') as f:\n",
    "    file1=io.BufferedReader(f)\n",
    "    data=file1.read(10)\n",
    "    print(data)"
   ]
  },
  {
   "cell_type": "code",
   "execution_count": null,
   "id": "82105fcb-71f4-44c3-a5e4-1bf4431c1cec",
   "metadata": {},
   "outputs": [],
   "source": []
  },
  {
   "cell_type": "code",
   "execution_count": null,
   "id": "cca14b96-56c1-424c-b1de-10be408bab69",
   "metadata": {},
   "outputs": [],
   "source": []
  }
 ],
 "metadata": {
  "kernelspec": {
   "display_name": "Python 3 (ipykernel)",
   "language": "python",
   "name": "python3"
  },
  "language_info": {
   "codemirror_mode": {
    "name": "ipython",
    "version": 3
   },
   "file_extension": ".py",
   "mimetype": "text/x-python",
   "name": "python",
   "nbconvert_exporter": "python",
   "pygments_lexer": "ipython3",
   "version": "3.10.8"
  }
 },
 "nbformat": 4,
 "nbformat_minor": 5
}
