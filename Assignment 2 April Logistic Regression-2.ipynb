{
 "cells": [
  {
   "cell_type": "code",
   "execution_count": null,
   "id": "f7b9c726-a282-450e-b7bd-3f843606a78c",
   "metadata": {},
   "outputs": [],
   "source": [
    "## Ans 1: it makes sure that we check every combination and try to find out which is the best accuracy we are getting .\n",
    "##  it works by making combinations of l1,l2,elasticnet,none combinations with solver mathods and cv=no"
   ]
  },
  {
   "cell_type": "code",
   "execution_count": null,
   "id": "8cd72f67-b799-47a7-9a8d-77c4ee201889",
   "metadata": {},
   "outputs": [],
   "source": [
    "## Ans 2 : The only difference between both the approaches is in grid search we define the combinations and do training of the model whereas in RandomizedSearchCV the model selects the combinations randomly\n",
    "## for data to be predicted for large no of iterations gridsearchCV is used and for data with less iteration randomsearchCV is used "
   ]
  },
  {
   "cell_type": "code",
   "execution_count": null,
   "id": "cc5a846c-cb89-4a8f-97b2-9d4a01139bf4",
   "metadata": {},
   "outputs": [],
   "source": [
    "## Ans 3: Data leakage is one of the major problems in machine learning which occurs when the data that we are using to train an ML algorithm has the information the model is trying to predict. It is a situation that causes unpredictable and bad prediction outcomes after model deployment\n",
    "## example weather update for the data to be predicted as if the actual data and the predicted data is completly accurate that means that the data hav some highly correlated data and outcomes are almost equal "
   ]
  },
  {
   "cell_type": "code",
   "execution_count": null,
   "id": "223debd2-decc-41d4-8dd8-40a6b665bb2a",
   "metadata": {},
   "outputs": [],
   "source": [
    "## Ans 4: 1. extract the appropriate set of features, 2. Add an individual validation set, \n",
    "# 3. Apply data pre-processing separately to both data sets, 4. Time-series data"
   ]
  },
  {
   "cell_type": "code",
   "execution_count": null,
   "id": "8c7728d9-3836-4bcc-ba42-6b62e68f1f0e",
   "metadata": {},
   "outputs": [],
   "source": [
    "## Ans 5 : By definition a confusion matrix 'C' is such that 'Cij' is equal to the number of observations known to be in group 'i' and predicted to be in group j\n",
    "## it is used to compute the accuracy of the model basis test and train data "
   ]
  },
  {
   "cell_type": "code",
   "execution_count": null,
   "id": "2e15db23-44e3-490d-b59e-16d9d8e522a8",
   "metadata": {},
   "outputs": [],
   "source": [
    "## Ans 6: Precision measures the accuracy of positive predictions, while recall measures the completeness of positive predictions. High precision and high recall are desirable, but there may be a trade-off between the two metrics in some cases."
   ]
  },
  {
   "cell_type": "code",
   "execution_count": null,
   "id": "293489c5-788f-4e45-b32e-8ff45ffc1cff",
   "metadata": {},
   "outputs": [],
   "source": [
    "## Ans 7 : first we divide the model in 2 cat actual and prediction and create a matrix of 2*2 with outcome as 1 and 0 \n",
    "## if the actual and predict both have positive results then TP is the prediction and if both contradicts to the results of outcome then TN is result \n",
    "## however if the result if FN that means actual is 0 and result is 1 then we doensize the FP and vice versa for FN "
   ]
  },
  {
   "cell_type": "code",
   "execution_count": null,
   "id": "e6ebdc0e-b40f-4b57-9cff-bc3622214be1",
   "metadata": {},
   "outputs": [],
   "source": [
    "## Ans 8: the most common are accuracy, precision, recall, and F1 score\n",
    "## for calculating precision : TP/TP+FP\n",
    "## for calculating recall: TP/TP+FN\n",
    "## for F1 score It is the harmonic mean of precision and recall. It takes both false positive and false negatives into account. Therefore, it performs well on an imbalanced dataset.:(1+Bta^2)(P*R/P+R)"
   ]
  },
  {
   "cell_type": "code",
   "execution_count": null,
   "id": "85c50430-5349-479c-b1ca-caea0829dd54",
   "metadata": {},
   "outputs": [],
   "source": [
    "## Ans 9 : Accuracy: It gives you the overall accuracy of the model, meaning the fraction of the total samples that were correctly classified by the classifier. To calculate accuracy, use the following formula: (TP+TN)/(TP+TN+FP+FN)"
   ]
  },
  {
   "cell_type": "code",
   "execution_count": null,
   "id": "54cc215e-f804-4aeb-9ef0-308f4d97f416",
   "metadata": {},
   "outputs": [],
   "source": [
    "## Ans 10: A confusion matrix is a table that allows you to visualize the performance of a classification model. You can also use the information in it to calculate measures that can help you determine the usefulness of the model. Rows represent predicted classifications, while columns represent the true classes from the data"
   ]
  },
  {
   "cell_type": "code",
   "execution_count": null,
   "id": "8d942176-b32b-4a5c-8c07-8f540521909c",
   "metadata": {},
   "outputs": [],
   "source": []
  },
  {
   "cell_type": "code",
   "execution_count": null,
   "id": "40d7f72f-2b05-494b-be87-2da1b2258f1e",
   "metadata": {},
   "outputs": [],
   "source": []
  },
  {
   "cell_type": "code",
   "execution_count": null,
   "id": "5d8e3603-f2bf-4d2e-beb7-23b8160d0a84",
   "metadata": {},
   "outputs": [],
   "source": []
  },
  {
   "cell_type": "code",
   "execution_count": null,
   "id": "36a86fea-b549-4c01-8218-2640729ae575",
   "metadata": {},
   "outputs": [],
   "source": []
  },
  {
   "cell_type": "code",
   "execution_count": null,
   "id": "3e56ed45-31d5-4858-95a8-d783188d902b",
   "metadata": {},
   "outputs": [],
   "source": []
  },
  {
   "cell_type": "code",
   "execution_count": null,
   "id": "e7b69f08-1e66-4844-9df7-33601a8f4837",
   "metadata": {},
   "outputs": [],
   "source": []
  },
  {
   "cell_type": "code",
   "execution_count": null,
   "id": "dafce2b4-8a90-47f0-a1fa-1a26cdf5b6e9",
   "metadata": {},
   "outputs": [],
   "source": []
  },
  {
   "cell_type": "code",
   "execution_count": null,
   "id": "eb174577-59f0-4252-b78c-3a7ee6247764",
   "metadata": {},
   "outputs": [],
   "source": []
  },
  {
   "cell_type": "code",
   "execution_count": null,
   "id": "ebfe75c9-b69a-4074-99e7-7a9f23764f32",
   "metadata": {},
   "outputs": [],
   "source": []
  },
  {
   "cell_type": "code",
   "execution_count": null,
   "id": "0c183cf6-998d-4f3f-a7e7-92ceace23a6e",
   "metadata": {},
   "outputs": [],
   "source": []
  },
  {
   "cell_type": "code",
   "execution_count": null,
   "id": "0a60df1d-1d29-4d9d-af79-4f666c88125e",
   "metadata": {},
   "outputs": [],
   "source": []
  }
 ],
 "metadata": {
  "kernelspec": {
   "display_name": "Python 3 (ipykernel)",
   "language": "python",
   "name": "python3"
  },
  "language_info": {
   "codemirror_mode": {
    "name": "ipython",
    "version": 3
   },
   "file_extension": ".py",
   "mimetype": "text/x-python",
   "name": "python",
   "nbconvert_exporter": "python",
   "pygments_lexer": "ipython3",
   "version": "3.10.8"
  }
 },
 "nbformat": 4,
 "nbformat_minor": 5
}
