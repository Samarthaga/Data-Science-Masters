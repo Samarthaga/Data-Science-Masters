{
 "cells": [
  {
   "cell_type": "code",
   "execution_count": 3,
   "id": "cc1f50b3-1f41-4e7a-a372-ae12feac6b95",
   "metadata": {},
   "outputs": [
    {
     "name": "stdout",
     "output_type": "stream",
     "text": [
      "my age is: 32\n"
     ]
    }
   ],
   "source": [
    "age=32\n",
    "print('my age is:',age)"
   ]
  },
  {
   "cell_type": "raw",
   "id": "22272bfd-85f5-4e12-9cc3-97dd2216ef19",
   "metadata": {},
   "source": [
    "print('my age is : {age}')"
   ]
  },
  {
   "cell_type": "code",
   "execution_count": 5,
   "id": "1c74ec16-116b-4cb2-ac69-e9136498ed46",
   "metadata": {},
   "outputs": [
    {
     "name": "stdout",
     "output_type": "stream",
     "text": [
      "my age is : 32\n"
     ]
    }
   ],
   "source": [
    "## fstring\n",
    "print(f'my age is : {age}')"
   ]
  },
  {
   "cell_type": "code",
   "execution_count": 7,
   "id": "19acd7e1-6133-420b-97fb-d7e2d30ebb47",
   "metadata": {},
   "outputs": [
    {
     "name": "stdout",
     "output_type": "stream",
     "text": [
      "My name is samarth and age is 26\n",
      "My name is samarth age 26 and work in kotak\n"
     ]
    }
   ],
   "source": [
    "## format()\n",
    "name='samarth'\n",
    "age =26\n",
    "print('My name is {} and age is {}' . format(name,age))\n",
    "work='kotak'\n",
    "print('My name is {} age {} and work in {}'.format(name,age,work))"
   ]
  },
  {
   "cell_type": "code",
   "execution_count": 10,
   "id": "5aaa59be-0e41-4872-a1a5-303b2233f627",
   "metadata": {},
   "outputs": [
    {
     "name": "stdout",
     "output_type": "stream",
     "text": [
      "My name is samarth age 26 and work in kotak\n"
     ]
    }
   ],
   "source": [
    "##place holder\n",
    "print('My name is {firstname} age {age} and work in {company}'.format(company=work,age=age,firstname=name))"
   ]
  },
  {
   "cell_type": "code",
   "execution_count": 11,
   "id": "2eecf891-cc35-464c-87eb-9d2921e901e3",
   "metadata": {},
   "outputs": [
    {
     "name": "stdout",
     "output_type": "stream",
     "text": [
      "my age is and i have completed: my degree of with the name of : (26, 'BE', 'samarth')\n"
     ]
    }
   ],
   "source": [
    "degree='BE'\n",
    "print(f'my age is and i have completed: my degree of with the name of :',(age,degree,name))"
   ]
  },
  {
   "cell_type": "code",
   "execution_count": 13,
   "id": "d2a4cbc3-4ef8-4597-8b52-4fad861dd672",
   "metadata": {},
   "outputs": [
    {
     "name": "stdout",
     "output_type": "stream",
     "text": [
      "my age is 26 and i have completed : my BE of with name of samarth\n"
     ]
    }
   ],
   "source": [
    "print('my age is {age} and i have completed : my {degree} of with name of {name}'.format(age=age,degree=degree,name=name))"
   ]
  },
  {
   "cell_type": "markdown",
   "id": "81ca07b3-364c-4338-9bf2-a28867efe083",
   "metadata": {},
   "source": [
    "## Control Flow\n",
    "### Decision Making Statements"
   ]
  },
  {
   "cell_type": "code",
   "execution_count": 20,
   "id": "e0904269-1330-4582-8794-c9787ac70392",
   "metadata": {},
   "outputs": [
    {
     "name": "stdout",
     "output_type": "stream",
     "text": [
      "you are eligible to vote\n"
     ]
    }
   ],
   "source": [
    "## If statements \n",
    "age=16\n",
    "if age<17:\n",
    "    print('you are eligible to vote')\n",
    "    "
   ]
  },
  {
   "cell_type": "code",
   "execution_count": 21,
   "id": "2e197b8a-c6c7-4590-a895-d52b1f437d1e",
   "metadata": {},
   "outputs": [
    {
     "name": "stdin",
     "output_type": "stream",
     "text": [
      " samarth agarwal\n"
     ]
    },
    {
     "data": {
      "text/plain": [
       "'samarth agarwal'"
      ]
     },
     "execution_count": 21,
     "metadata": {},
     "output_type": "execute_result"
    }
   ],
   "source": [
    "input()"
   ]
  },
  {
   "cell_type": "code",
   "execution_count": 22,
   "id": "9dc39803-13df-4b1b-b98f-d7ae4573082c",
   "metadata": {},
   "outputs": [
    {
     "name": "stdin",
     "output_type": "stream",
     "text": [
      "my name is samarth\n"
     ]
    }
   ],
   "source": [
    "name=input('my name is')"
   ]
  },
  {
   "cell_type": "code",
   "execution_count": 23,
   "id": "6b6386ab-e14e-444c-9fb7-719121604ded",
   "metadata": {},
   "outputs": [
    {
     "data": {
      "text/plain": [
       "'samarth'"
      ]
     },
     "execution_count": 23,
     "metadata": {},
     "output_type": "execute_result"
    }
   ],
   "source": [
    "name"
   ]
  },
  {
   "cell_type": "code",
   "execution_count": 24,
   "id": "e7fd537c-425a-4584-b096-4103789300d0",
   "metadata": {},
   "outputs": [
    {
     "name": "stdin",
     "output_type": "stream",
     "text": [
      "my age is  26\n"
     ]
    }
   ],
   "source": [
    "age=int(input('my age is '))"
   ]
  },
  {
   "cell_type": "code",
   "execution_count": 25,
   "id": "1e7ccd9b-bc3b-4036-9ab7-3573df2ebddf",
   "metadata": {},
   "outputs": [
    {
     "data": {
      "text/plain": [
       "26"
      ]
     },
     "execution_count": 25,
     "metadata": {},
     "output_type": "execute_result"
    }
   ],
   "source": [
    "age"
   ]
  },
  {
   "cell_type": "code",
   "execution_count": 26,
   "id": "1b206d53-3ec6-4b48-a0af-c167325f9c74",
   "metadata": {},
   "outputs": [
    {
     "data": {
      "text/plain": [
       "int"
      ]
     },
     "execution_count": 26,
     "metadata": {},
     "output_type": "execute_result"
    }
   ],
   "source": [
    "type(age)"
   ]
  },
  {
   "cell_type": "code",
   "execution_count": null,
   "id": "713398a2-68f8-4ac8-b19b-3a4d7094618d",
   "metadata": {},
   "outputs": [],
   "source": [
    "##task\n",
    "age=int(input('enter your agr'))\n",
    "age=26"
   ]
  },
  {
   "cell_type": "code",
   "execution_count": 31,
   "id": "46fda113-3f70-4e4c-a895-40586283999d",
   "metadata": {},
   "outputs": [
    {
     "name": "stdout",
     "output_type": "stream",
     "text": [
      "you are young blood\n"
     ]
    }
   ],
   "source": [
    "age=30\n",
    "if age>=18 and age<=45:\n",
    "    print('you are young blood')"
   ]
  },
  {
   "cell_type": "code",
   "execution_count": 37,
   "id": "f0fd51bf-3f15-48db-b300-705b69726be9",
   "metadata": {},
   "outputs": [
    {
     "name": "stdin",
     "output_type": "stream",
     "text": [
      "Enter the age 27\n"
     ]
    },
    {
     "name": "stdout",
     "output_type": "stream",
     "text": [
      "you are young blood\n"
     ]
    }
   ],
   "source": [
    "##answer\n",
    "age=int(input('Enter the age'))\n",
    "if age>=18 and age<=45:\n",
    "    print('you are young blood')"
   ]
  },
  {
   "cell_type": "code",
   "execution_count": 38,
   "id": "87668af4-baa8-49bf-878f-ec1421090bb2",
   "metadata": {},
   "outputs": [
    {
     "name": "stdin",
     "output_type": "stream",
     "text": [
      "Enter the age 56\n"
     ]
    },
    {
     "name": "stdout",
     "output_type": "stream",
     "text": [
      "thankyou your application is rejected\n"
     ]
    }
   ],
   "source": [
    "## If Else Statement\n",
    "age=int(input('Enter the age'))\n",
    "if age>=18 and age<=45:\n",
    "    print('you are young blood')\n",
    "else:\n",
    "    print('thankyou your application is rejected')"
   ]
  },
  {
   "cell_type": "code",
   "execution_count": 43,
   "id": "d626a177-ee4f-4a4f-8cac-270742d009db",
   "metadata": {},
   "outputs": [
    {
     "name": "stdin",
     "output_type": "stream",
     "text": [
      "product price 223\n"
     ]
    },
    {
     "name": "stdout",
     "output_type": "stream",
     "text": [
      "the product price\n"
     ]
    }
   ],
   "source": [
    "## mall -\n",
    "### product >1000 rs 20% off\n",
    "##product <= 1000 rs 30% off\n",
    "mall=int(input('product price'))\n",
    "if mall>1000 and mall <=1000:\n",
    "    print('the product price')\n",
    "else :\n",
    "    print('the product price')"
   ]
  },
  {
   "cell_type": "code",
   "execution_count": 4,
   "id": "49ff629c-933c-47bd-8a11-da05594ae627",
   "metadata": {},
   "outputs": [
    {
     "name": "stdin",
     "output_type": "stream",
     "text": [
      "Enter the product price 344\n"
     ]
    },
    {
     "name": "stdout",
     "output_type": "stream",
     "text": [
      "the product price is 240.79999999999998 \n"
     ]
    }
   ],
   "source": [
    "product_price=int(input('Enter the product price'))\n",
    "if product_price>1000:\n",
    "    print('the product price is {} '.format(product_price*0.8))\n",
    "else:\n",
    "    print('the product price is {} '.format(product_price*0.7))"
   ]
  },
  {
   "cell_type": "code",
   "execution_count": 5,
   "id": "e890ee8a-f44a-4eeb-878c-fce742d09037",
   "metadata": {},
   "outputs": [
    {
     "name": "stdin",
     "output_type": "stream",
     "text": [
      "price 56\n"
     ]
    },
    {
     "name": "stdout",
     "output_type": "stream",
     "text": [
      "the price 50.4\n"
     ]
    }
   ],
   "source": [
    "product=int(input('price'))\n",
    "if product<100:\n",
    "    print('the price {}'.format(product*0.9))\n",
    "else:\n",
    "    print('the price {}'.format(product*0.8))"
   ]
  },
  {
   "cell_type": "code",
   "execution_count": 16,
   "id": "8c234639-9874-4b5b-b276-cc16147cf66e",
   "metadata": {},
   "outputs": [
    {
     "name": "stdin",
     "output_type": "stream",
     "text": [
      "Enter the product price 6000\n"
     ]
    },
    {
     "name": "stdout",
     "output_type": "stream",
     "text": [
      "the product price is 4800.0 \n"
     ]
    }
   ],
   "source": [
    "product_price=int(input('Enter the product price'))\n",
    "if product_price>3000:\n",
    "    print(f'the product price is {product_price*0.8} ')\n",
    "elif product_price>2000 and product_price<=3000:\n",
    "    if product_price==4000:\n",
    "        print('hum bhi kar lege')\n",
    "    print(f'the product price is {product_price*0.7}')\n",
    "else:\n",
    "    print('the product price is {} '.format(product_price*0.7))\n",
    "    "
   ]
  },
  {
   "cell_type": "code",
   "execution_count": 8,
   "id": "792af672-a8c8-441a-9190-7d709776fa2f",
   "metadata": {},
   "outputs": [
    {
     "name": "stdin",
     "output_type": "stream",
     "text": [
      "enter the number 900\n"
     ]
    },
    {
     "name": "stdout",
     "output_type": "stream",
     "text": [
      "sab doglapan hai\n"
     ]
    }
   ],
   "source": [
    "## single staments suits\n",
    "val=int(input('enter the number'))\n",
    "if (val<1000):print('sab doglapan hai')"
   ]
  },
  {
   "cell_type": "code",
   "execution_count": 17,
   "id": "2ee80fae-0e54-4749-8890-5519f12fa4ca",
   "metadata": {},
   "outputs": [
    {
     "name": "stdout",
     "output_type": "stream",
     "text": [
      "26\n",
      "27\n",
      "28\n",
      "29\n",
      "30\n",
      "31\n",
      "32\n",
      "33\n",
      "34\n",
      "35\n",
      "36\n",
      "37\n",
      "38\n",
      "39\n",
      "40\n",
      "41\n",
      "42\n",
      "43\n",
      "44\n",
      "45\n",
      "46\n",
      "47\n",
      "48\n",
      "49\n",
      "50\n",
      "51\n",
      "52\n",
      "53\n",
      "54\n",
      "55\n",
      "56\n",
      "57\n",
      "58\n",
      "59\n",
      "60\n",
      "61\n",
      "its time to retire\n"
     ]
    }
   ],
   "source": [
    "## Loop Statements \n",
    "\n",
    "##while loop + e;se if statements\n",
    "joining_age=25\n",
    "while joining_age<=60:\n",
    "    joining_age=joining_age+1\n",
    "    print(joining_age)\n",
    "else: \n",
    "    print('its time to retire')\n"
   ]
  },
  {
   "cell_type": "code",
   "execution_count": 19,
   "id": "fed66923-6b08-45fb-a61b-a2e2ad4d93ed",
   "metadata": {},
   "outputs": [
    {
     "name": "stdout",
     "output_type": "stream",
     "text": [
      "1000\n",
      "900\n",
      "800\n",
      "700\n",
      "600\n",
      "500\n",
      "400\n",
      "300\n",
      "200\n",
      "100\n"
     ]
    }
   ],
   "source": [
    "## ATM machine with 1000 Rs\n",
    "\n",
    "total_amount=1000\n",
    "while total_amount!=0:\n",
    "    print(total_amount)\n",
    "    total_amount=total_amount-100\n",
    "    "
   ]
  },
  {
   "cell_type": "code",
   "execution_count": null,
   "id": "83967d9c-8c8d-4947-be3b-5ae9ee672936",
   "metadata": {},
   "outputs": [],
   "source": [
    "tt=100\n",
    "while tt!=0:\n",
    "    print('daal paisa')\n",
    "    tt=tt-100"
   ]
  },
  {
   "cell_type": "code",
   "execution_count": null,
   "id": "f5677e58-d3cb-4482-b79d-be6be390e943",
   "metadata": {},
   "outputs": [],
   "source": [
    "print(123)"
   ]
  },
  {
   "cell_type": "code",
   "execution_count": null,
   "id": "382ac8dd-2f0f-4706-9ca6-6e5a8b83d257",
   "metadata": {},
   "outputs": [],
   "source": []
  },
  {
   "cell_type": "code",
   "execution_count": 1,
   "id": "80619a99-e677-4f95-a34a-f2bda2565031",
   "metadata": {},
   "outputs": [
    {
     "name": "stdout",
     "output_type": "stream",
     "text": [
      "daal paisa\n",
      "daal paisa\n",
      "daal paisa\n",
      "daal paisa\n",
      "daal paisa\n",
      "daal paisa\n",
      "daal paisa\n",
      "daal paisa\n",
      "daal paisa\n",
      "daal paisa\n"
     ]
    }
   ],
   "source": [
    "tt=1000\n",
    "while tt!=0:\n",
    "    print('daal paisa')\n",
    "    tt=tt-100"
   ]
  },
  {
   "cell_type": "markdown",
   "id": "655fb70f-b764-47b1-ab8b-cb26d84133b6",
   "metadata": {},
   "source": [
    "##For Loop"
   ]
  },
  {
   "cell_type": "code",
   "execution_count": 2,
   "id": "fc31c678-80ae-4833-8a0e-ad607ab62d01",
   "metadata": {},
   "outputs": [
    {
     "ename": "NameError",
     "evalue": "name 'st' is not defined",
     "output_type": "error",
     "traceback": [
      "\u001b[0;31m---------------------------------------------------------------------------\u001b[0m",
      "\u001b[0;31mNameError\u001b[0m                                 Traceback (most recent call last)",
      "Cell \u001b[0;32mIn[2], line 1\u001b[0m\n\u001b[0;32m----> 1\u001b[0m \u001b[38;5;28;01mfor\u001b[39;00m x \u001b[38;5;129;01min\u001b[39;00m \u001b[43mst\u001b[49m:\n\u001b[1;32m      2\u001b[0m     \u001b[38;5;28mprint\u001b[39m(x)\n",
      "\u001b[0;31mNameError\u001b[0m: name 'st' is not defined"
     ]
    }
   ],
   "source": [
    "for x in st:\n",
    "    print(x)\n"
   ]
  },
  {
   "cell_type": "code",
   "execution_count": 1,
   "id": "5d5c30db-ad6a-4fb0-a5fd-870e4671d5eb",
   "metadata": {},
   "outputs": [],
   "source": [
    "fruits_lst=['mango','banana','apple','grapes']"
   ]
  },
  {
   "cell_type": "code",
   "execution_count": 3,
   "id": "b82f5fa7-a7e9-4432-838f-568ad7f04fba",
   "metadata": {},
   "outputs": [
    {
     "name": "stdout",
     "output_type": "stream",
     "text": [
      "mango\n",
      "banana\n",
      "apple\n",
      "grapes\n"
     ]
    }
   ],
   "source": [
    "for a in fruits_lst:\n",
    "    print(a)"
   ]
  },
  {
   "cell_type": "code",
   "execution_count": 10,
   "id": "e72001ba-10a5-4c6e-af32-bb76542d8f32",
   "metadata": {},
   "outputs": [
    {
     "name": "stdout",
     "output_type": "stream",
     "text": [
      "mangobananai dont like it\n",
      "applegrapes"
     ]
    }
   ],
   "source": [
    "for a in fruits_lst:\n",
    "    print (a,end='')\n",
    "    if a=='banana':\n",
    "        print('i dont like it')"
   ]
  },
  {
   "cell_type": "code",
   "execution_count": 11,
   "id": "fd617e2e-11c1-4569-bcb4-cda223c6c627",
   "metadata": {},
   "outputs": [
    {
     "name": "stdout",
     "output_type": "stream",
     "text": [
      "mango"
     ]
    }
   ],
   "source": [
    "fruits='mango'\n",
    "for x in fruits:\n",
    "    print(x,end='')"
   ]
  },
  {
   "cell_type": "code",
   "execution_count": 3,
   "id": "25e7050c-1be4-40f8-90a9-361ba6dcf892",
   "metadata": {},
   "outputs": [
    {
     "name": "stdout",
     "output_type": "stream",
     "text": [
      "1\n",
      "3\n",
      "5\n",
      "7\n",
      "9\n"
     ]
    }
   ],
   "source": [
    "for i in range(1,10,2):\n",
    "    print(i)"
   ]
  },
  {
   "cell_type": "code",
   "execution_count": 1,
   "id": "3437d159-4b20-459f-b131-406d2a1fd095",
   "metadata": {},
   "outputs": [
    {
     "name": "stdout",
     "output_type": "stream",
     "text": [
      "123\n"
     ]
    }
   ],
   "source": [
    "print(123)"
   ]
  },
  {
   "cell_type": "code",
   "execution_count": 11,
   "id": "b59faeca-f127-4882-8819-b7c805cc2ccf",
   "metadata": {},
   "outputs": [],
   "source": [
    "n=7"
   ]
  },
  {
   "cell_type": "code",
   "execution_count": 11,
   "id": "d35f63d9-985f-4a77-b31e-4fb0dcbff103",
   "metadata": {},
   "outputs": [
    {
     "name": "stdout",
     "output_type": "stream",
     "text": [
      "*\n",
      "**\n",
      "***\n",
      "****\n",
      "*****\n",
      "******\n",
      "*******\n"
     ]
    }
   ],
   "source": [
    "n=7\n",
    "\n",
    "for f in range(0,n):\n",
    "    for k in range(0,f+1):\n",
    "        print(\"*\",end='')\n",
    "    print('\\r')\n",
    "    "
   ]
  },
  {
   "cell_type": "code",
   "execution_count": 4,
   "id": "5fa091b7-5440-494d-90d0-80f9cdaef755",
   "metadata": {},
   "outputs": [
    {
     "name": "stdout",
     "output_type": "stream",
     "text": [
      "1\n",
      "2\n",
      "3\n",
      "4\n",
      "5\n"
     ]
    }
   ],
   "source": [
    "for x in range(1,6):\n",
    "    print(x)"
   ]
  },
  {
   "cell_type": "code",
   "execution_count": 20,
   "id": "0c233e82-5d2b-4382-885b-6cc0cc158c35",
   "metadata": {},
   "outputs": [
    {
     "name": "stdout",
     "output_type": "stream",
     "text": [
      "**\n",
      "***\n",
      "****\n",
      "*****\n",
      "******\n",
      "*******\n",
      "********\n",
      "*********\n",
      "**********\n",
      "***********\n"
     ]
    }
   ],
   "source": [
    "n=10\n",
    "for a in range(0,n):\n",
    "    for b in range(0,a+2):\n",
    "        print('*',end='')\n",
    "    print('\\r')"
   ]
  },
  {
   "cell_type": "code",
   "execution_count": 13,
   "id": "a7480496-e4e4-45a6-9d47-59d853ede223",
   "metadata": {},
   "outputs": [
    {
     "name": "stdout",
     "output_type": "stream",
     "text": [
      "mango\n",
      "banana\n",
      "apple\n",
      "grapes\n"
     ]
    }
   ],
   "source": [
    "## Break and Continue\n",
    "fruits_lst=['mango','banana','apple','grapes']\n",
    "for i in fruits_lst:\n",
    "    print(i)"
   ]
  },
  {
   "cell_type": "code",
   "execution_count": 17,
   "id": "25f76db1-0d82-4a96-a9be-078d95b840c4",
   "metadata": {},
   "outputs": [
    {
     "name": "stdout",
     "output_type": "stream",
     "text": [
      "mango\n",
      "banana\n",
      "this is mango\n",
      "grapes\n"
     ]
    }
   ],
   "source": [
    "fruits_lst=['mango','banana','apple','grapes']\n",
    "for i in fruits_lst:\n",
    "    if i=='apple':\n",
    "        print('this is mango')\n",
    "        continue\n",
    "    print(i)"
   ]
  },
  {
   "cell_type": "code",
   "execution_count": 19,
   "id": "1891a7c0-9148-4218-a2bd-e739935474c0",
   "metadata": {},
   "outputs": [
    {
     "name": "stdout",
     "output_type": "stream",
     "text": [
      "*****\n",
      "******\n",
      "*******\n",
      "********\n",
      "*********\n",
      "**********\n",
      "***********\n",
      "************\n",
      "*************\n",
      "**************\n"
     ]
    }
   ],
   "source": [
    "n=10\n",
    "for a in range(0,n):\n",
    "    for b in range(0,a+5):\n",
    "        print('*',end='')\n",
    "    print('\\r')"
   ]
  },
  {
   "cell_type": "code",
   "execution_count": 1,
   "id": "fb9b1ac6-2fec-45c4-9c09-a9002b705789",
   "metadata": {},
   "outputs": [
    {
     "name": "stdout",
     "output_type": "stream",
     "text": [
      "*\n",
      "**\n",
      "***\n",
      "****\n",
      "*****\n",
      "******\n",
      "*******\n"
     ]
    }
   ],
   "source": [
    "n=7\n",
    "for i in range(0,n):\n",
    "    for j in range(0,i+1):\n",
    "        print('*',end='')\n",
    "    print('\\r')"
   ]
  },
  {
   "cell_type": "code",
   "execution_count": null,
   "id": "1b3b5e2c-364e-4a8a-9585-c015a9644fb8",
   "metadata": {},
   "outputs": [],
   "source": []
  }
 ],
 "metadata": {
  "kernelspec": {
   "display_name": "Python 3 (ipykernel)",
   "language": "python",
   "name": "python3"
  },
  "language_info": {
   "codemirror_mode": {
    "name": "ipython",
    "version": 3
   },
   "file_extension": ".py",
   "mimetype": "text/x-python",
   "name": "python",
   "nbconvert_exporter": "python",
   "pygments_lexer": "ipython3",
   "version": "3.10.8"
  }
 },
 "nbformat": 4,
 "nbformat_minor": 5
}
