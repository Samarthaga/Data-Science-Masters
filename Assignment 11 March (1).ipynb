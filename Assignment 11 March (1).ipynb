{
 "cells": [
  {
   "cell_type": "code",
   "execution_count": null,
   "id": "5161806c-a288-4fba-b434-60d2c7cecf54",
   "metadata": {},
   "outputs": [],
   "source": [
    "## Ans 1: Diiference is we need to know the [population std deviation sigma for first step than if sample size is less than n< 30 we use t test\n",
    "## if n>30 we use z tst\n",
    "## Example for t test  you might test two different groups of customer service associates on a business-related test\n",
    "## for z test the example of test scores compared with complete school "
   ]
  },
  {
   "cell_type": "code",
   "execution_count": null,
   "id": "f123b24a-f6e0-4040-a83c-108135036a3d",
   "metadata": {},
   "outputs": [],
   "source": [
    "## ANs 2: in case of one tail test there is only one critical region for the hypothesis and in case of 2 tail test the hypothesis have 2 critical region where the condition can lie in b/w "
   ]
  },
  {
   "cell_type": "code",
   "execution_count": null,
   "id": "b77827e6-9b3c-4b52-9dfa-94bf73a1d575",
   "metadata": {},
   "outputs": [],
   "source": [
    "##Ans 3: \n",
    "## Type 1 Error : when the null hypothesis is rejected howvere the outcome in reality is true . example telling a pragnant lady you are not pragnent however in reality she is \n",
    "## Type 2 Error : when the null hypothesis is true however in reality it is False . example 2 same compound meds of different meds with equal effects in hypothesis one is true and in 2nd hypothesis it states it is not equal however in reality is Fasle as they ase same '\n"
   ]
  },
  {
   "cell_type": "code",
   "execution_count": null,
   "id": "cc8873b6-b5b5-4b15-83d1-c0f55b096327",
   "metadata": {},
   "outputs": [],
   "source": [
    "## Ans 4: Bayes theorem : It is an approch to data analysis and parameter estimation \n",
    "##Example slection of girls and boys in a class simultaneously where a is girla and b is boys with total strength of 50 , 25 each \n",
    "##first outcome will be 25/50 and 2nd outcome will be 25/49"
   ]
  },
  {
   "cell_type": "code",
   "execution_count": null,
   "id": "662e2ebd-adfa-46e9-81f9-5a21a150374c",
   "metadata": {},
   "outputs": [],
   "source": [
    "## Ans 5: the probability that a population parameter will fall between a set of values for a certain proportion of times.\n",
    "## Confidence interval is calculated via formula of CI =1-Alpha where alpha is the null hupothesis in whih the probabiloity of data to lie and Ho is the probability to lie outside the provdied CI\n",
    "## Example in a list of cricket team avg weight is 68Kgs with CI of 95per , we will suppose the sample lies outside the data "
   ]
  },
  {
   "cell_type": "code",
   "execution_count": 1,
   "id": "c721d78d-0ac1-4833-b204-e3031f82c301",
   "metadata": {},
   "outputs": [
    {
     "data": {
      "text/plain": [
       "4.41875"
      ]
     },
     "execution_count": 1,
     "metadata": {},
     "output_type": "execute_result"
    }
   ],
   "source": [
    "## Ans 13: Mean =60, Sigma = 8,n=50,x=65\n",
    "## Aplha =1-0.90=0.10 (two tail test)\n",
    "## Ho=mean=true H1=mean=False\n",
    "\n",
    "## applying Z test formulae \n",
    "(65-60)/(8/7.07)\n",
    "## since z for 0.90 is 1.28 and 4.18 > 1.28 Null hypothesis rejected \n",
    "## "
   ]
  },
  {
   "cell_type": "code",
   "execution_count": 5,
   "id": "3bcc7ed7-a22f-4beb-8558-bba1104461d0",
   "metadata": {},
   "outputs": [
    {
     "data": {
      "text/plain": [
       "0.009129085265656381"
      ]
     },
     "execution_count": 5,
     "metadata": {},
     "output_type": "execute_result"
    }
   ],
   "source": [
    "## Ans 14: n=30,x=0.25,sigma=0.05\n",
    "## t test \n",
    "For lower\n",
    "(0.05/5.477)"
   ]
  },
  {
   "cell_type": "code",
   "execution_count": 6,
   "id": "eec405f7-bb80-42c6-a9aa-c620fe7f28e1",
   "metadata": {},
   "outputs": [
    {
     "data": {
      "text/plain": [
       "0.22516"
      ]
     },
     "execution_count": 6,
     "metadata": {},
     "output_type": "execute_result"
    }
   ],
   "source": [
    "0.25-2.76*0.009"
   ]
  },
  {
   "cell_type": "code",
   "execution_count": 7,
   "id": "a32a8034-03e3-4414-b338-5b2100260488",
   "metadata": {},
   "outputs": [
    {
     "data": {
      "text/plain": [
       "0.2752747252747253"
      ]
     },
     "execution_count": 7,
     "metadata": {},
     "output_type": "execute_result"
    }
   ],
   "source": [
    "## For upper \n",
    "0.25+2.76*(0.05/5.46)"
   ]
  },
  {
   "cell_type": "code",
   "execution_count": 8,
   "id": "a7e4bf80-f85d-4f2a-876d-a3ceacd3d8eb",
   "metadata": {},
   "outputs": [
    {
     "data": {
      "text/plain": [
       "5.149045261669024"
      ]
     },
     "execution_count": 8,
     "metadata": {},
     "output_type": "execute_result"
    }
   ],
   "source": [
    "## Ans 10: n=50,x=6,sigma=2.5,CI=95%\n",
    "## t=x-(n-1)*sigma/Root N\n",
    "##degree of freedom (n-1)=49(two tail test)\n",
    "## 0.025=2.4065\n",
    "## for lower \n",
    "6-2.4065*2.5/7.07\n"
   ]
  },
  {
   "cell_type": "code",
   "execution_count": 9,
   "id": "38ce8302-de70-45c5-8c50-a548f5f91475",
   "metadata": {},
   "outputs": [
    {
     "data": {
      "text/plain": [
       "6.850954738330976"
      ]
     },
     "execution_count": 9,
     "metadata": {},
     "output_type": "execute_result"
    }
   ],
   "source": [
    "## for upper range\n",
    "6+2.4065*2.5/7.07"
   ]
  },
  {
   "cell_type": "code",
   "execution_count": null,
   "id": "db5155ef-6b86-426d-91ef-21211616084a",
   "metadata": {},
   "outputs": [],
   "source": [
    "## Ans 6. Bayes, is a mathematical formula for determining conditional probability. Conditional probability is the likelihood of an outcome occurring, based on a previous outcome having occurred in similar circumstances. Bayes' theorem provides a way to revise existing predictions or theories\n",
    "## "
   ]
  },
  {
   "cell_type": "code",
   "execution_count": null,
   "id": "3b023f19-2327-4832-bf7f-01cad42c72cd",
   "metadata": {},
   "outputs": [],
   "source": [
    "## ANs 8. Margin of error, also called confidence interval, tells you how much you can expect your survey results to reflect the views from the overall population\n",
    "## The margin of error decreases as the sample size increases\n",
    "## Each time you survey one more person, the cost of your survey increases, and going from a sample size of, say, 1,500 to a sample size of 2,000 decreases your margin of error by only 0.34% (one third of one percent!) — from 0.0253 to 0.0219. "
   ]
  },
  {
   "cell_type": "code",
   "execution_count": null,
   "id": "d868f3e2-fcdc-4e84-a951-14a394b18fb5",
   "metadata": {},
   "outputs": [],
   "source": []
  },
  {
   "cell_type": "code",
   "execution_count": null,
   "id": "0edc4a74-84dd-43de-926e-8ed7c33c4868",
   "metadata": {},
   "outputs": [],
   "source": []
  },
  {
   "cell_type": "code",
   "execution_count": null,
   "id": "d6c03547-52c8-4930-a631-70df911fa295",
   "metadata": {},
   "outputs": [],
   "source": []
  },
  {
   "cell_type": "code",
   "execution_count": null,
   "id": "708b2bc6-e04b-4dc7-8137-664c505c2d17",
   "metadata": {},
   "outputs": [],
   "source": []
  },
  {
   "cell_type": "code",
   "execution_count": null,
   "id": "c2890172-edfa-4f81-ad72-36d8f1b4fca9",
   "metadata": {},
   "outputs": [],
   "source": []
  },
  {
   "cell_type": "code",
   "execution_count": null,
   "id": "50de32e7-087a-4531-96c4-7ab605d014f4",
   "metadata": {},
   "outputs": [],
   "source": []
  }
 ],
 "metadata": {
  "kernelspec": {
   "display_name": "Python 3 (ipykernel)",
   "language": "python",
   "name": "python3"
  },
  "language_info": {
   "codemirror_mode": {
    "name": "ipython",
    "version": 3
   },
   "file_extension": ".py",
   "mimetype": "text/x-python",
   "name": "python",
   "nbconvert_exporter": "python",
   "pygments_lexer": "ipython3",
   "version": "3.10.8"
  }
 },
 "nbformat": 4,
 "nbformat_minor": 5
}
