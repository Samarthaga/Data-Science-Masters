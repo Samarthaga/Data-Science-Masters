{
 "cells": [
  {
   "cell_type": "code",
   "execution_count": null,
   "id": "10e9a300-70c8-427a-ab7e-7b143e7165d5",
   "metadata": {},
   "outputs": [],
   "source": [
    "# Ans 1: Time series analysis is used for non-stationary data—things that are constantly fluctuating over time or are affected by time. Industries like finance, retail, and economics frequently use time series analysis because currency and sales are always changing"
   ]
  },
  {
   "cell_type": "code",
   "execution_count": null,
   "id": "b7dbe145-cdb4-4fae-89cd-e3ffbc8067d5",
   "metadata": {},
   "outputs": [],
   "source": [
    "# Ans 2:There are three types of time series patterns: trend, seasonal, and cyclic.\n",
    "# Time series analysis is a specific way of analyzing a sequence of data points collected over an interval of time. In time series analysis, analysts record data points at consistent intervals over a set period of time rather than just recording the data points intermittently or randomly."
   ]
  },
  {
   "cell_type": "code",
   "execution_count": null,
   "id": "4024bb79-73e9-4918-afa7-5fbecce2c46f",
   "metadata": {},
   "outputs": [],
   "source": [
    "# Ans 3: Fourier Transform can help remove the noise by converting the time series data into the frequency domain, and from there, we can filter out the noisy frequencies. Then, we can apply the inverse Fourier transform to obtain the filtered time series"
   ]
  },
  {
   "cell_type": "code",
   "execution_count": null,
   "id": "44a80d8a-8d35-4d38-8a1e-ab24368db984",
   "metadata": {},
   "outputs": [],
   "source": [
    "# Ans 4: It is used to understand the determining factors and structure behind the observed data, choose a model to forecast, thereby leading to better decision making\n",
    "# It can suffer from generalization from a single study where more data points and models were warranted. Human error could misidentify the correct data model, which can have a snowballing effect on the output. It could also be difficult to obtain the appropriate data points."
   ]
  },
  {
   "cell_type": "code",
   "execution_count": null,
   "id": "0d355636-f8ae-4d01-b7df-3e127c0a2a83",
   "metadata": {},
   "outputs": [],
   "source": [
    "# Ans 5 : demand forecasting, such as in determining future demand in food manufacturing. That is because the model provides managers with reliable guidelines in making decisions related to supply chains. ARIMA models can also be used to predict the future price of your stocks based on the past prices\n",
    "# An autoregressive integrated moving average, or ARIMA, is a statistical analysis model that uses time series data to either better understand the data set or to predict future trends. A statistical model is autoregressive if it predicts future values based on past values"
   ]
  },
  {
   "cell_type": "code",
   "execution_count": 1,
   "id": "edd1f784-7081-44a8-8977-67ea7ac9ecdb",
   "metadata": {},
   "outputs": [],
   "source": [
    "# Ans 6: * Look for tail off pattern in either ACF or PACF.\n",
    "# * If tail off at ACF → AR model → Cut off at PACF will provide order p for AR(p).\n",
    "# * If tail off at PACF → MA model → Cut off at ACF will provide order q for MA(q).\n",
    "# * Tail of at both ACF and PACF → ARMA model"
   ]
  },
  {
   "cell_type": "code",
   "execution_count": null,
   "id": "5f95a7f6-c428-48c5-9ac1-e98dbf9d32c8",
   "metadata": {},
   "outputs": [],
   "source": [
    "# Ans 7 : The autoregressive-moving average (ARMA) class of models relies on the assumption that the underlying process is weakly stationary, which restricts the mean and variance to be constant and requires the autocovariances to depend only on the time lag"
   ]
  },
  {
   "cell_type": "code",
   "execution_count": 2,
   "id": "3ef2b96a-52ac-4800-82cf-6a18a18ddf3b",
   "metadata": {},
   "outputs": [],
   "source": [
    "# Ans 8: i will use Ada fullar testas it will provide the standard deviation and rolling ,mean with which i can show how close is my train data to the predicted data "
   ]
  },
  {
   "cell_type": "code",
   "execution_count": null,
   "id": "28f3055d-06d2-4499-8a17-1ae92475198a",
   "metadata": {},
   "outputs": [],
   "source": [
    "# Ans 9: Time series analysis also suffers from a number of weaknesses, including problems with generalization from a single study, difficulty in obtaining appropriate measures, and problems with accurately identifying the correct model to represent the data\n",
    "# weather forecasting, climate forecasting, economic forecasting, healthcare forecasting engineering forecasting, finance forecasting, retail forecasting, business forecasting, environmental studies forecasting, social studies forecasting"
   ]
  },
  {
   "cell_type": "code",
   "execution_count": null,
   "id": "5b83cbf6-8d47-423a-8094-c191c6421e26",
   "metadata": {},
   "outputs": [],
   "source": [
    "# Ans 10 : When a time series is stationary, it means that certain attributes of the data do not change over time. However, some time series are non-stationary, whereby values and associations between and among variables do vary with time. In finance, many processes are non-stationary, and so must be handled appropriate\n",
    "# Stationarity is an important concept in the field of time series analysis with tremendous influence on how the data is perceived and predicted. When forecasting or predicting the future, most time series models assume that each point is independent of one another"
   ]
  },
  {
   "cell_type": "code",
   "execution_count": null,
   "id": "a7ee6b9e-2556-4d31-93d3-04533d650e9d",
   "metadata": {},
   "outputs": [],
   "source": []
  },
  {
   "cell_type": "code",
   "execution_count": null,
   "id": "84c2cb35-e957-4367-97fa-bd1f8b522d61",
   "metadata": {},
   "outputs": [],
   "source": []
  },
  {
   "cell_type": "code",
   "execution_count": null,
   "id": "567a7363-3ebd-4b67-b943-913917f0dd62",
   "metadata": {},
   "outputs": [],
   "source": []
  },
  {
   "cell_type": "code",
   "execution_count": null,
   "id": "c530bdd8-a3eb-4fb4-a950-d292740626d2",
   "metadata": {},
   "outputs": [],
   "source": []
  },
  {
   "cell_type": "code",
   "execution_count": null,
   "id": "f85567e2-3192-46ba-a85a-3ed66680f85a",
   "metadata": {},
   "outputs": [],
   "source": []
  }
 ],
 "metadata": {
  "kernelspec": {
   "display_name": "Python 3 (ipykernel)",
   "language": "python",
   "name": "python3"
  },
  "language_info": {
   "codemirror_mode": {
    "name": "ipython",
    "version": 3
   },
   "file_extension": ".py",
   "mimetype": "text/x-python",
   "name": "python",
   "nbconvert_exporter": "python",
   "pygments_lexer": "ipython3",
   "version": "3.10.8"
  }
 },
 "nbformat": 4,
 "nbformat_minor": 5
}
