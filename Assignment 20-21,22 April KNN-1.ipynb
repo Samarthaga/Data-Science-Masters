{
 "cells": [
  {
   "cell_type": "markdown",
   "id": "8f2ace83-6cbc-4c81-afa4-5452bc502ec2",
   "metadata": {},
   "source": [
    "# Assignment 20 April KNN-1"
   ]
  },
  {
   "cell_type": "code",
   "execution_count": null,
   "id": "9ff4a208-cadb-4a42-a51a-e9c3875f7cf7",
   "metadata": {
    "tags": []
   },
   "outputs": [],
   "source": [
    "## Ans 1: The k-nearest neighbors algorithm, also known as KNN or k-NN, is a non-parametric, supervised learning classifier, which uses proximity to make classifications or predictions about the grouping of an individual data point. While it can be used for either regression or classification problems, it is typically used as a classification algorithm, working off the assumption that similar points can be found near one another."
   ]
  },
  {
   "cell_type": "code",
   "execution_count": null,
   "id": "ba263339-2da5-471a-85ef-f860f47bbe73",
   "metadata": {},
   "outputs": [],
   "source": [
    "# Ans 2: The choice of k will largely depend on the input data as data with more outliers or noise will likely perform better with higher values of k. Overall, it is recommended to have an odd number for k to avoid ties in classification, and cross-validation tactics can help you choose the optimal k for your dataset."
   ]
  },
  {
   "cell_type": "code",
   "execution_count": null,
   "id": "9dc7e34a-86d3-4653-a801-7f09494f13d6",
   "metadata": {},
   "outputs": [],
   "source": [
    "# Ans 3: The key differences are: KNN regression tries to predict the value of the output variable by using a local average. KNN classification attempts to predict the class to which the output variable belong by computing the local probability"
   ]
  },
  {
   "cell_type": "code",
   "execution_count": null,
   "id": "9ddb2a7d-7481-475c-932a-ab8de2954545",
   "metadata": {},
   "outputs": [],
   "source": [
    "## Ans 4: To measure the performace of the KNN we divide the data in train and test data and then perform KNN classification for binary multiclass and\n",
    "# KNN regressor for continuous output where after train test and fit we perform the predict on our test data and take accuracy_score(),confusion_matrix(),classification_report() for classification and mean_sqrt_error,mean_absolute error for regression "
   ]
  },
  {
   "cell_type": "code",
   "execution_count": null,
   "id": "4a127dda-1aff-406e-9667-4e95112db2db",
   "metadata": {},
   "outputs": [],
   "source": [
    "# Ans 5: The “Curse of Dimensionality” is a tongue in cheek way of stating that there's a ton of space in high-dimensional data sets. The size of the data space grows exponentially with the number of dimensions. This means that the size of your data set must also grow exponentially in order to keep the same density"
   ]
  },
  {
   "cell_type": "code",
   "execution_count": null,
   "id": "bfdf2bb9-8076-43b9-a8d5-4dd5fdc4e48c",
   "metadata": {},
   "outputs": [],
   "source": [
    "## Ans 6: The idea in kNN methods is to identify 'k' samples in the dataset that are similar or close in the space. Then we use these 'k' samples to estimate the value of the missing data points. Each sample's missing values are imputed using the mean value of the 'k'-neighbors found in the dataset"
   ]
  },
  {
   "cell_type": "code",
   "execution_count": null,
   "id": "5184637b-f46f-4442-95a4-a58ea7b9dcc7",
   "metadata": {},
   "outputs": [],
   "source": [
    "## Ans 7: KNN classifier is better for classification problems where the variable is binary or categorical , however the KNN regressor is better where the outut is an continuous value and numerical where the avg is computed for KNN"
   ]
  },
  {
   "cell_type": "code",
   "execution_count": null,
   "id": "4324ab4e-15f9-4472-9a93-1c245fa43681",
   "metadata": {},
   "outputs": [],
   "source": [
    "# Ans 8: KNN classifier It has advantages - nonparametric architecture, simple and powerful, requires no traning time, but it also has disadvantage - memory intensive, classification and estimation are slow\n",
    "# KNN can therefore be a relatively slow method compared to other regressions that may take longer to fit but then make their predictions with relatively straightforward computations. One other issue with a KNN model is that it lacks interpretability"
   ]
  },
  {
   "cell_type": "code",
   "execution_count": null,
   "id": "4da81c81-2948-4159-bbaf-0b6c6d2ed6f0",
   "metadata": {},
   "outputs": [],
   "source": [
    "# Ans 9: Euclidean distance is the shortest path between source and destination which is a straight line but Manhattan distance is sum of all the real distances between source(s) and destination(d) and each distance are always the straight lines"
   ]
  },
  {
   "cell_type": "code",
   "execution_count": null,
   "id": "d17dbd27-ee55-41ce-95ef-e877880fc085",
   "metadata": {},
   "outputs": [],
   "source": [
    "# Ans 10: Yes, feature scaling is required to get the better performance of the KNN algorithm. For Example, Imagine a dataset having n number of instances and N number of features. There is one feature having values ranging between 0 and 1. Meanwhile, there is also a feature that varies from -999 to 999\n",
    "# with the help of feature scaling the data representation and its range gets better via preprocessing import StandardScaler from sklearn."
   ]
  },
  {
   "cell_type": "markdown",
   "id": "82cfa8bd-68a7-47bc-a81b-007ec4625096",
   "metadata": {},
   "source": [
    "# Assignment 21 April KNN-2"
   ]
  },
  {
   "cell_type": "code",
   "execution_count": null,
   "id": "4205aa99-a643-407e-8aa1-1c1cce5a755a",
   "metadata": {},
   "outputs": [],
   "source": [
    "# Ans 1: # Ans 9: Euclidean distance is the shortest path between source and destination which is a straight line but Manhattan distance is sum of all the real distances between source(s) and destination(d) and each distance are always the straight lines\n",
    "## As per the performance part the euclidian distance is the direct distance to the point and is used for assumptions for traffic control while calculating the real time diff. the manhattan distance is used  "
   ]
  },
  {
   "cell_type": "code",
   "execution_count": null,
   "id": "384ba2a0-6737-4f0d-8733-82ca0fc439fd",
   "metadata": {},
   "outputs": [],
   "source": [
    "# Ans 2: The choice of k will largely depend on the input data as data with more outliers or noise will likely perform better with higher values of k. Overall, it is recommended to have an odd number for k to avoid ties in classification, and cross-validation tactics can help you choose the optimal k for your dataset"
   ]
  },
  {
   "cell_type": "code",
   "execution_count": null,
   "id": "e49aefbe-9f56-4c26-972f-73237ab98edc",
   "metadata": {},
   "outputs": [],
   "source": [
    "## Ans 3: This review attempts to answer this question through evaluating the performance (measured by accuracy, precision, and recall) of the KNN using a large number of distance measures, tested on a number of real-world data sets, with and without adding different levels of noise. The experimental results show that the performance of KNN classifier depends significantly on the distance used, and the results showed large gaps between the performances of different distances. We found that a recently proposed nonconvex distance performed the best when applied on most data sets comparing with the other tested distances. In addition, the performance of the KNN with this top performing distance degraded only ∼20% while the noise level reaches 90%, this is true for most of the distances used as well. This means that the KNN classifier using any of the top 10 distances tolerates noise to a certain degree. Moreover, the results show that some distances are less affected by the added noise comparing with other distances."
   ]
  },
  {
   "cell_type": "code",
   "execution_count": null,
   "id": "7fa9baf4-7e32-4884-87fd-08017bdf6792",
   "metadata": {},
   "outputs": [],
   "source": [
    "# Ans 4: The most important hyperparameter for KNN is the number of neighbors (n_neighbors). Test values between at least 1 and 21, perhaps just the odd numbers. It may also be interesting to test different distance metrics (metric) for choosing the composition of the neighborhood.\n"
   ]
  },
  {
   "cell_type": "code",
   "execution_count": null,
   "id": "234cb6a6-c9db-4777-94b6-516daea9763a",
   "metadata": {},
   "outputs": [],
   "source": [
    "# Ans 5 : So if dataset is large, there will be a lot of processing which may adversely impact the performance of the algorithm. KNN is also very sensitive to noise in the dataset. If the dataset is large, there are chances of noise in the dataset which adversely affect the performance of KNN algorithm\n",
    "## for better optimisation on large datasets Feature scaling (standardization and normalization) is required before applying the KNN algorithm to any dataset."
   ]
  },
  {
   "cell_type": "code",
   "execution_count": null,
   "id": "888e03bd-a89f-4078-a256-fc120258e851",
   "metadata": {},
   "outputs": [],
   "source": [
    "# Ans 6: For large datasets, KNN can therefore be a relatively slow method compared to other regressions that may take longer to fit but then make their predictions with relatively straightforward computations. One other issue with a KNN model is that it lacks interpretability\n",
    "#Doesn’t work well with a high number of dimensions\n",
    "# Doesn’t work well with a large dataset\n",
    "# Sensitive to outliers and missing values\n"
   ]
  },
  {
   "cell_type": "markdown",
   "id": "ec57b6ed-b9df-47cc-b13d-d2e2e3f04168",
   "metadata": {},
   "source": [
    "# Assignmnet 22 April KNN 3"
   ]
  },
  {
   "cell_type": "code",
   "execution_count": 2,
   "id": "d358de85-49d2-4b9b-8f4c-6d71f100d673",
   "metadata": {},
   "outputs": [],
   "source": [
    "import pandas as pd\n",
    "import numpy as np\n",
    "import seaborn as sns \n",
    "import matplotlib.pyplot as plt\n",
    "%matplotlib inline\n",
    "from sklearn.datasets import make_classification"
   ]
  },
  {
   "cell_type": "code",
   "execution_count": 3,
   "id": "193ba65d-55cf-4641-b52b-230ea6a064e2",
   "metadata": {},
   "outputs": [],
   "source": [
    "from sklearn.datasets import load_iris"
   ]
  },
  {
   "cell_type": "code",
   "execution_count": 4,
   "id": "275b993c-4bc3-4517-86b0-f1c2f22ffe7f",
   "metadata": {},
   "outputs": [],
   "source": [
    "dataset=load_iris()"
   ]
  },
  {
   "cell_type": "code",
   "execution_count": 5,
   "id": "54a129f2-f646-43b5-b356-18c167a7b4b9",
   "metadata": {},
   "outputs": [
    {
     "data": {
      "text/plain": [
       "'.. _iris_dataset:\\n\\nIris plants dataset\\n--------------------\\n\\n**Data Set Characteristics:**\\n\\n    :Number of Instances: 150 (50 in each of three classes)\\n    :Number of Attributes: 4 numeric, predictive attributes and the class\\n    :Attribute Information:\\n        - sepal length in cm\\n        - sepal width in cm\\n        - petal length in cm\\n        - petal width in cm\\n        - class:\\n                - Iris-Setosa\\n                - Iris-Versicolour\\n                - Iris-Virginica\\n                \\n    :Summary Statistics:\\n\\n    ============== ==== ==== ======= ===== ====================\\n                    Min  Max   Mean    SD   Class Correlation\\n    ============== ==== ==== ======= ===== ====================\\n    sepal length:   4.3  7.9   5.84   0.83    0.7826\\n    sepal width:    2.0  4.4   3.05   0.43   -0.4194\\n    petal length:   1.0  6.9   3.76   1.76    0.9490  (high!)\\n    petal width:    0.1  2.5   1.20   0.76    0.9565  (high!)\\n    ============== ==== ==== ======= ===== ====================\\n\\n    :Missing Attribute Values: None\\n    :Class Distribution: 33.3% for each of 3 classes.\\n    :Creator: R.A. Fisher\\n    :Donor: Michael Marshall (MARSHALL%PLU@io.arc.nasa.gov)\\n    :Date: July, 1988\\n\\nThe famous Iris database, first used by Sir R.A. Fisher. The dataset is taken\\nfrom Fisher\\'s paper. Note that it\\'s the same as in R, but not as in the UCI\\nMachine Learning Repository, which has two wrong data points.\\n\\nThis is perhaps the best known database to be found in the\\npattern recognition literature.  Fisher\\'s paper is a classic in the field and\\nis referenced frequently to this day.  (See Duda & Hart, for example.)  The\\ndata set contains 3 classes of 50 instances each, where each class refers to a\\ntype of iris plant.  One class is linearly separable from the other 2; the\\nlatter are NOT linearly separable from each other.\\n\\n.. topic:: References\\n\\n   - Fisher, R.A. \"The use of multiple measurements in taxonomic problems\"\\n     Annual Eugenics, 7, Part II, 179-188 (1936); also in \"Contributions to\\n     Mathematical Statistics\" (John Wiley, NY, 1950).\\n   - Duda, R.O., & Hart, P.E. (1973) Pattern Classification and Scene Analysis.\\n     (Q327.D83) John Wiley & Sons.  ISBN 0-471-22361-1.  See page 218.\\n   - Dasarathy, B.V. (1980) \"Nosing Around the Neighborhood: A New System\\n     Structure and Classification Rule for Recognition in Partially Exposed\\n     Environments\".  IEEE Transactions on Pattern Analysis and Machine\\n     Intelligence, Vol. PAMI-2, No. 1, 67-71.\\n   - Gates, G.W. (1972) \"The Reduced Nearest Neighbor Rule\".  IEEE Transactions\\n     on Information Theory, May 1972, 431-433.\\n   - See also: 1988 MLC Proceedings, 54-64.  Cheeseman et al\"s AUTOCLASS II\\n     conceptual clustering system finds 3 classes in the data.\\n   - Many, many more ...'"
      ]
     },
     "execution_count": 5,
     "metadata": {},
     "output_type": "execute_result"
    }
   ],
   "source": [
    "dataset.DESCR"
   ]
  },
  {
   "cell_type": "code",
   "execution_count": 6,
   "id": "b8c7c85d-146b-48dc-a052-d8a48712562c",
   "metadata": {},
   "outputs": [],
   "source": [
    "df=pd.DataFrame(dataset.data,columns=dataset.feature_names)"
   ]
  },
  {
   "cell_type": "code",
   "execution_count": 7,
   "id": "fec39085-8a9d-4889-8e5c-7412f942e6ef",
   "metadata": {},
   "outputs": [
    {
     "data": {
      "text/html": [
       "<div>\n",
       "<style scoped>\n",
       "    .dataframe tbody tr th:only-of-type {\n",
       "        vertical-align: middle;\n",
       "    }\n",
       "\n",
       "    .dataframe tbody tr th {\n",
       "        vertical-align: top;\n",
       "    }\n",
       "\n",
       "    .dataframe thead th {\n",
       "        text-align: right;\n",
       "    }\n",
       "</style>\n",
       "<table border=\"1\" class=\"dataframe\">\n",
       "  <thead>\n",
       "    <tr style=\"text-align: right;\">\n",
       "      <th></th>\n",
       "      <th>sepal length (cm)</th>\n",
       "      <th>sepal width (cm)</th>\n",
       "      <th>petal length (cm)</th>\n",
       "      <th>petal width (cm)</th>\n",
       "    </tr>\n",
       "  </thead>\n",
       "  <tbody>\n",
       "    <tr>\n",
       "      <th>0</th>\n",
       "      <td>5.1</td>\n",
       "      <td>3.5</td>\n",
       "      <td>1.4</td>\n",
       "      <td>0.2</td>\n",
       "    </tr>\n",
       "    <tr>\n",
       "      <th>1</th>\n",
       "      <td>4.9</td>\n",
       "      <td>3.0</td>\n",
       "      <td>1.4</td>\n",
       "      <td>0.2</td>\n",
       "    </tr>\n",
       "    <tr>\n",
       "      <th>2</th>\n",
       "      <td>4.7</td>\n",
       "      <td>3.2</td>\n",
       "      <td>1.3</td>\n",
       "      <td>0.2</td>\n",
       "    </tr>\n",
       "    <tr>\n",
       "      <th>3</th>\n",
       "      <td>4.6</td>\n",
       "      <td>3.1</td>\n",
       "      <td>1.5</td>\n",
       "      <td>0.2</td>\n",
       "    </tr>\n",
       "    <tr>\n",
       "      <th>4</th>\n",
       "      <td>5.0</td>\n",
       "      <td>3.6</td>\n",
       "      <td>1.4</td>\n",
       "      <td>0.2</td>\n",
       "    </tr>\n",
       "  </tbody>\n",
       "</table>\n",
       "</div>"
      ],
      "text/plain": [
       "   sepal length (cm)  sepal width (cm)  petal length (cm)  petal width (cm)\n",
       "0                5.1               3.5                1.4               0.2\n",
       "1                4.9               3.0                1.4               0.2\n",
       "2                4.7               3.2                1.3               0.2\n",
       "3                4.6               3.1                1.5               0.2\n",
       "4                5.0               3.6                1.4               0.2"
      ]
     },
     "execution_count": 7,
     "metadata": {},
     "output_type": "execute_result"
    }
   ],
   "source": [
    "df.head(5)"
   ]
  },
  {
   "cell_type": "code",
   "execution_count": 8,
   "id": "77f3f1eb-4069-4b40-9c23-0e32339b5d62",
   "metadata": {},
   "outputs": [
    {
     "data": {
      "text/plain": [
       "array([0, 0, 0, 0, 0, 0, 0, 0, 0, 0, 0, 0, 0, 0, 0, 0, 0, 0, 0, 0, 0, 0,\n",
       "       0, 0, 0, 0, 0, 0, 0, 0, 0, 0, 0, 0, 0, 0, 0, 0, 0, 0, 0, 0, 0, 0,\n",
       "       0, 0, 0, 0, 0, 0, 1, 1, 1, 1, 1, 1, 1, 1, 1, 1, 1, 1, 1, 1, 1, 1,\n",
       "       1, 1, 1, 1, 1, 1, 1, 1, 1, 1, 1, 1, 1, 1, 1, 1, 1, 1, 1, 1, 1, 1,\n",
       "       1, 1, 1, 1, 1, 1, 1, 1, 1, 1, 1, 1, 2, 2, 2, 2, 2, 2, 2, 2, 2, 2,\n",
       "       2, 2, 2, 2, 2, 2, 2, 2, 2, 2, 2, 2, 2, 2, 2, 2, 2, 2, 2, 2, 2, 2,\n",
       "       2, 2, 2, 2, 2, 2, 2, 2, 2, 2, 2, 2, 2, 2, 2, 2, 2, 2])"
      ]
     },
     "execution_count": 8,
     "metadata": {},
     "output_type": "execute_result"
    }
   ],
   "source": [
    "dataset.target"
   ]
  },
  {
   "cell_type": "code",
   "execution_count": 9,
   "id": "bd931e8a-3a09-4334-bbef-cd23f4cb976f",
   "metadata": {},
   "outputs": [],
   "source": [
    "df['target']=dataset.target"
   ]
  },
  {
   "cell_type": "code",
   "execution_count": 10,
   "id": "6bc74d01-dcee-4537-bbb6-1f5250499c1c",
   "metadata": {},
   "outputs": [
    {
     "data": {
      "text/html": [
       "<div>\n",
       "<style scoped>\n",
       "    .dataframe tbody tr th:only-of-type {\n",
       "        vertical-align: middle;\n",
       "    }\n",
       "\n",
       "    .dataframe tbody tr th {\n",
       "        vertical-align: top;\n",
       "    }\n",
       "\n",
       "    .dataframe thead th {\n",
       "        text-align: right;\n",
       "    }\n",
       "</style>\n",
       "<table border=\"1\" class=\"dataframe\">\n",
       "  <thead>\n",
       "    <tr style=\"text-align: right;\">\n",
       "      <th></th>\n",
       "      <th>sepal length (cm)</th>\n",
       "      <th>sepal width (cm)</th>\n",
       "      <th>petal length (cm)</th>\n",
       "      <th>petal width (cm)</th>\n",
       "      <th>target</th>\n",
       "    </tr>\n",
       "  </thead>\n",
       "  <tbody>\n",
       "    <tr>\n",
       "      <th>0</th>\n",
       "      <td>5.1</td>\n",
       "      <td>3.5</td>\n",
       "      <td>1.4</td>\n",
       "      <td>0.2</td>\n",
       "      <td>0</td>\n",
       "    </tr>\n",
       "    <tr>\n",
       "      <th>1</th>\n",
       "      <td>4.9</td>\n",
       "      <td>3.0</td>\n",
       "      <td>1.4</td>\n",
       "      <td>0.2</td>\n",
       "      <td>0</td>\n",
       "    </tr>\n",
       "    <tr>\n",
       "      <th>2</th>\n",
       "      <td>4.7</td>\n",
       "      <td>3.2</td>\n",
       "      <td>1.3</td>\n",
       "      <td>0.2</td>\n",
       "      <td>0</td>\n",
       "    </tr>\n",
       "    <tr>\n",
       "      <th>3</th>\n",
       "      <td>4.6</td>\n",
       "      <td>3.1</td>\n",
       "      <td>1.5</td>\n",
       "      <td>0.2</td>\n",
       "      <td>0</td>\n",
       "    </tr>\n",
       "    <tr>\n",
       "      <th>4</th>\n",
       "      <td>5.0</td>\n",
       "      <td>3.6</td>\n",
       "      <td>1.4</td>\n",
       "      <td>0.2</td>\n",
       "      <td>0</td>\n",
       "    </tr>\n",
       "  </tbody>\n",
       "</table>\n",
       "</div>"
      ],
      "text/plain": [
       "   sepal length (cm)  sepal width (cm)  petal length (cm)  petal width (cm)  \\\n",
       "0                5.1               3.5                1.4               0.2   \n",
       "1                4.9               3.0                1.4               0.2   \n",
       "2                4.7               3.2                1.3               0.2   \n",
       "3                4.6               3.1                1.5               0.2   \n",
       "4                5.0               3.6                1.4               0.2   \n",
       "\n",
       "   target  \n",
       "0       0  \n",
       "1       0  \n",
       "2       0  \n",
       "3       0  \n",
       "4       0  "
      ]
     },
     "execution_count": 10,
     "metadata": {},
     "output_type": "execute_result"
    }
   ],
   "source": [
    "df.head()"
   ]
  },
  {
   "cell_type": "code",
   "execution_count": 11,
   "id": "82ac8f89-b475-431a-8fd7-43319451f792",
   "metadata": {},
   "outputs": [],
   "source": [
    "X=df.iloc[:,:-1]\n",
    "y=df.iloc[:,-1]"
   ]
  },
  {
   "cell_type": "code",
   "execution_count": 12,
   "id": "3f837dbe-85e3-48fd-8868-b6212bed7165",
   "metadata": {},
   "outputs": [
    {
     "data": {
      "text/html": [
       "<div>\n",
       "<style scoped>\n",
       "    .dataframe tbody tr th:only-of-type {\n",
       "        vertical-align: middle;\n",
       "    }\n",
       "\n",
       "    .dataframe tbody tr th {\n",
       "        vertical-align: top;\n",
       "    }\n",
       "\n",
       "    .dataframe thead th {\n",
       "        text-align: right;\n",
       "    }\n",
       "</style>\n",
       "<table border=\"1\" class=\"dataframe\">\n",
       "  <thead>\n",
       "    <tr style=\"text-align: right;\">\n",
       "      <th></th>\n",
       "      <th>sepal length (cm)</th>\n",
       "      <th>sepal width (cm)</th>\n",
       "      <th>petal length (cm)</th>\n",
       "      <th>petal width (cm)</th>\n",
       "    </tr>\n",
       "  </thead>\n",
       "  <tbody>\n",
       "    <tr>\n",
       "      <th>0</th>\n",
       "      <td>5.1</td>\n",
       "      <td>3.5</td>\n",
       "      <td>1.4</td>\n",
       "      <td>0.2</td>\n",
       "    </tr>\n",
       "    <tr>\n",
       "      <th>1</th>\n",
       "      <td>4.9</td>\n",
       "      <td>3.0</td>\n",
       "      <td>1.4</td>\n",
       "      <td>0.2</td>\n",
       "    </tr>\n",
       "    <tr>\n",
       "      <th>2</th>\n",
       "      <td>4.7</td>\n",
       "      <td>3.2</td>\n",
       "      <td>1.3</td>\n",
       "      <td>0.2</td>\n",
       "    </tr>\n",
       "    <tr>\n",
       "      <th>3</th>\n",
       "      <td>4.6</td>\n",
       "      <td>3.1</td>\n",
       "      <td>1.5</td>\n",
       "      <td>0.2</td>\n",
       "    </tr>\n",
       "    <tr>\n",
       "      <th>4</th>\n",
       "      <td>5.0</td>\n",
       "      <td>3.6</td>\n",
       "      <td>1.4</td>\n",
       "      <td>0.2</td>\n",
       "    </tr>\n",
       "    <tr>\n",
       "      <th>...</th>\n",
       "      <td>...</td>\n",
       "      <td>...</td>\n",
       "      <td>...</td>\n",
       "      <td>...</td>\n",
       "    </tr>\n",
       "    <tr>\n",
       "      <th>145</th>\n",
       "      <td>6.7</td>\n",
       "      <td>3.0</td>\n",
       "      <td>5.2</td>\n",
       "      <td>2.3</td>\n",
       "    </tr>\n",
       "    <tr>\n",
       "      <th>146</th>\n",
       "      <td>6.3</td>\n",
       "      <td>2.5</td>\n",
       "      <td>5.0</td>\n",
       "      <td>1.9</td>\n",
       "    </tr>\n",
       "    <tr>\n",
       "      <th>147</th>\n",
       "      <td>6.5</td>\n",
       "      <td>3.0</td>\n",
       "      <td>5.2</td>\n",
       "      <td>2.0</td>\n",
       "    </tr>\n",
       "    <tr>\n",
       "      <th>148</th>\n",
       "      <td>6.2</td>\n",
       "      <td>3.4</td>\n",
       "      <td>5.4</td>\n",
       "      <td>2.3</td>\n",
       "    </tr>\n",
       "    <tr>\n",
       "      <th>149</th>\n",
       "      <td>5.9</td>\n",
       "      <td>3.0</td>\n",
       "      <td>5.1</td>\n",
       "      <td>1.8</td>\n",
       "    </tr>\n",
       "  </tbody>\n",
       "</table>\n",
       "<p>150 rows × 4 columns</p>\n",
       "</div>"
      ],
      "text/plain": [
       "     sepal length (cm)  sepal width (cm)  petal length (cm)  petal width (cm)\n",
       "0                  5.1               3.5                1.4               0.2\n",
       "1                  4.9               3.0                1.4               0.2\n",
       "2                  4.7               3.2                1.3               0.2\n",
       "3                  4.6               3.1                1.5               0.2\n",
       "4                  5.0               3.6                1.4               0.2\n",
       "..                 ...               ...                ...               ...\n",
       "145                6.7               3.0                5.2               2.3\n",
       "146                6.3               2.5                5.0               1.9\n",
       "147                6.5               3.0                5.2               2.0\n",
       "148                6.2               3.4                5.4               2.3\n",
       "149                5.9               3.0                5.1               1.8\n",
       "\n",
       "[150 rows x 4 columns]"
      ]
     },
     "execution_count": 12,
     "metadata": {},
     "output_type": "execute_result"
    }
   ],
   "source": [
    "X"
   ]
  },
  {
   "cell_type": "code",
   "execution_count": 27,
   "id": "d95eab8b-b47f-4cbc-9f7b-640b9add83ad",
   "metadata": {},
   "outputs": [
    {
     "data": {
      "text/plain": [
       "0      0\n",
       "1      0\n",
       "2      0\n",
       "3      0\n",
       "4      0\n",
       "      ..\n",
       "145    2\n",
       "146    2\n",
       "147    2\n",
       "148    2\n",
       "149    2\n",
       "Name: target, Length: 150, dtype: int64"
      ]
     },
     "execution_count": 27,
     "metadata": {},
     "output_type": "execute_result"
    }
   ],
   "source": [
    "y"
   ]
  },
  {
   "cell_type": "code",
   "execution_count": 13,
   "id": "de4b6a99-99cc-4247-a13a-eea1a01a3a05",
   "metadata": {},
   "outputs": [],
   "source": [
    "from sklearn.neighbors import KNeighborsClassifier\n",
    "classifier=KNeighborsClassifier()"
   ]
  },
  {
   "cell_type": "code",
   "execution_count": 14,
   "id": "3d553784-af74-4859-8504-25867b0dbdea",
   "metadata": {},
   "outputs": [],
   "source": [
    "from sklearn.model_selection import train_test_split\n",
    "X_train,X_test,y_train,y_test=train_test_split(X,y,test_size=0.33,random_state=0)"
   ]
  },
  {
   "cell_type": "code",
   "execution_count": 15,
   "id": "a9410fab-d1a4-424a-a3f4-dc8b04f706a7",
   "metadata": {},
   "outputs": [
    {
     "data": {
      "text/html": [
       "<style>#sk-container-id-1 {color: black;background-color: white;}#sk-container-id-1 pre{padding: 0;}#sk-container-id-1 div.sk-toggleable {background-color: white;}#sk-container-id-1 label.sk-toggleable__label {cursor: pointer;display: block;width: 100%;margin-bottom: 0;padding: 0.3em;box-sizing: border-box;text-align: center;}#sk-container-id-1 label.sk-toggleable__label-arrow:before {content: \"▸\";float: left;margin-right: 0.25em;color: #696969;}#sk-container-id-1 label.sk-toggleable__label-arrow:hover:before {color: black;}#sk-container-id-1 div.sk-estimator:hover label.sk-toggleable__label-arrow:before {color: black;}#sk-container-id-1 div.sk-toggleable__content {max-height: 0;max-width: 0;overflow: hidden;text-align: left;background-color: #f0f8ff;}#sk-container-id-1 div.sk-toggleable__content pre {margin: 0.2em;color: black;border-radius: 0.25em;background-color: #f0f8ff;}#sk-container-id-1 input.sk-toggleable__control:checked~div.sk-toggleable__content {max-height: 200px;max-width: 100%;overflow: auto;}#sk-container-id-1 input.sk-toggleable__control:checked~label.sk-toggleable__label-arrow:before {content: \"▾\";}#sk-container-id-1 div.sk-estimator input.sk-toggleable__control:checked~label.sk-toggleable__label {background-color: #d4ebff;}#sk-container-id-1 div.sk-label input.sk-toggleable__control:checked~label.sk-toggleable__label {background-color: #d4ebff;}#sk-container-id-1 input.sk-hidden--visually {border: 0;clip: rect(1px 1px 1px 1px);clip: rect(1px, 1px, 1px, 1px);height: 1px;margin: -1px;overflow: hidden;padding: 0;position: absolute;width: 1px;}#sk-container-id-1 div.sk-estimator {font-family: monospace;background-color: #f0f8ff;border: 1px dotted black;border-radius: 0.25em;box-sizing: border-box;margin-bottom: 0.5em;}#sk-container-id-1 div.sk-estimator:hover {background-color: #d4ebff;}#sk-container-id-1 div.sk-parallel-item::after {content: \"\";width: 100%;border-bottom: 1px solid gray;flex-grow: 1;}#sk-container-id-1 div.sk-label:hover label.sk-toggleable__label {background-color: #d4ebff;}#sk-container-id-1 div.sk-serial::before {content: \"\";position: absolute;border-left: 1px solid gray;box-sizing: border-box;top: 0;bottom: 0;left: 50%;z-index: 0;}#sk-container-id-1 div.sk-serial {display: flex;flex-direction: column;align-items: center;background-color: white;padding-right: 0.2em;padding-left: 0.2em;position: relative;}#sk-container-id-1 div.sk-item {position: relative;z-index: 1;}#sk-container-id-1 div.sk-parallel {display: flex;align-items: stretch;justify-content: center;background-color: white;position: relative;}#sk-container-id-1 div.sk-item::before, #sk-container-id-1 div.sk-parallel-item::before {content: \"\";position: absolute;border-left: 1px solid gray;box-sizing: border-box;top: 0;bottom: 0;left: 50%;z-index: -1;}#sk-container-id-1 div.sk-parallel-item {display: flex;flex-direction: column;z-index: 1;position: relative;background-color: white;}#sk-container-id-1 div.sk-parallel-item:first-child::after {align-self: flex-end;width: 50%;}#sk-container-id-1 div.sk-parallel-item:last-child::after {align-self: flex-start;width: 50%;}#sk-container-id-1 div.sk-parallel-item:only-child::after {width: 0;}#sk-container-id-1 div.sk-dashed-wrapped {border: 1px dashed gray;margin: 0 0.4em 0.5em 0.4em;box-sizing: border-box;padding-bottom: 0.4em;background-color: white;}#sk-container-id-1 div.sk-label label {font-family: monospace;font-weight: bold;display: inline-block;line-height: 1.2em;}#sk-container-id-1 div.sk-label-container {text-align: center;}#sk-container-id-1 div.sk-container {/* jupyter's `normalize.less` sets `[hidden] { display: none; }` but bootstrap.min.css set `[hidden] { display: none !important; }` so we also need the `!important` here to be able to override the default hidden behavior on the sphinx rendered scikit-learn.org. See: https://github.com/scikit-learn/scikit-learn/issues/21755 */display: inline-block !important;position: relative;}#sk-container-id-1 div.sk-text-repr-fallback {display: none;}</style><div id=\"sk-container-id-1\" class=\"sk-top-container\"><div class=\"sk-text-repr-fallback\"><pre>KNeighborsClassifier()</pre><b>In a Jupyter environment, please rerun this cell to show the HTML representation or trust the notebook. <br />On GitHub, the HTML representation is unable to render, please try loading this page with nbviewer.org.</b></div><div class=\"sk-container\" hidden><div class=\"sk-item\"><div class=\"sk-estimator sk-toggleable\"><input class=\"sk-toggleable__control sk-hidden--visually\" id=\"sk-estimator-id-1\" type=\"checkbox\" checked><label for=\"sk-estimator-id-1\" class=\"sk-toggleable__label sk-toggleable__label-arrow\">KNeighborsClassifier</label><div class=\"sk-toggleable__content\"><pre>KNeighborsClassifier()</pre></div></div></div></div></div>"
      ],
      "text/plain": [
       "KNeighborsClassifier()"
      ]
     },
     "execution_count": 15,
     "metadata": {},
     "output_type": "execute_result"
    }
   ],
   "source": [
    "classifier.fit(X_train,y_train)"
   ]
  },
  {
   "cell_type": "code",
   "execution_count": 16,
   "id": "20a9d63d-f110-40e8-b9e1-7b1997c371ea",
   "metadata": {},
   "outputs": [],
   "source": [
    "y_pred=classifier.predict(X_test)"
   ]
  },
  {
   "cell_type": "code",
   "execution_count": 17,
   "id": "089e20ce-d9e3-46c6-83f1-5cdfd9949a5e",
   "metadata": {},
   "outputs": [],
   "source": [
    "from sklearn.metrics import confusion_matrix,accuracy_score,classification_report"
   ]
  },
  {
   "cell_type": "code",
   "execution_count": 18,
   "id": "362eb606-15e5-4578-ab60-c91300dd86c5",
   "metadata": {},
   "outputs": [
    {
     "name": "stdout",
     "output_type": "stream",
     "text": [
      "0.98\n",
      "[[16  0  0]\n",
      " [ 0 18  1]\n",
      " [ 0  0 15]]\n",
      "              precision    recall  f1-score   support\n",
      "\n",
      "           0       1.00      1.00      1.00        16\n",
      "           1       1.00      0.95      0.97        19\n",
      "           2       0.94      1.00      0.97        15\n",
      "\n",
      "    accuracy                           0.98        50\n",
      "   macro avg       0.98      0.98      0.98        50\n",
      "weighted avg       0.98      0.98      0.98        50\n",
      "\n"
     ]
    }
   ],
   "source": [
    "print(accuracy_score(y_test,y_pred))\n",
    "print(confusion_matrix(y_test,y_pred))\n",
    "print(classification_report(y_test,y_pred))"
   ]
  },
  {
   "cell_type": "code",
   "execution_count": 19,
   "id": "d0d9572d-293d-4381-a26c-c8e1d1a1cff6",
   "metadata": {},
   "outputs": [],
   "source": [
    "from sklearn.model_selection import GridSearchCV"
   ]
  },
  {
   "cell_type": "code",
   "execution_count": 30,
   "id": "50499aee-f04a-451a-beb7-fcf2ebdde802",
   "metadata": {},
   "outputs": [],
   "source": [
    "parameters={\n",
    "    'n_neighbors':[1,2,3,4,5,6,7,8,9],\n",
    "    'algorithm':['ball_tree', 'kd_tree', 'brute'],\n",
    "    'p':[10,20,30,1]\n",
    "    \n",
    "}"
   ]
  },
  {
   "cell_type": "code",
   "execution_count": 31,
   "id": "aa187dcd-eb7f-4994-8d35-fd1829c72cad",
   "metadata": {},
   "outputs": [],
   "source": [
    "cv=GridSearchCV(classifier,param_grid=parameters,refit=True,verbose=3)"
   ]
  },
  {
   "cell_type": "code",
   "execution_count": 32,
   "id": "9a0e260d-ae53-4bdc-8710-435f45caa560",
   "metadata": {},
   "outputs": [
    {
     "name": "stdout",
     "output_type": "stream",
     "text": [
      "Fitting 5 folds for each of 108 candidates, totalling 540 fits\n",
      "[CV 1/5] END algorithm=ball_tree, n_neighbors=1, p=10;, score=0.850 total time=   0.0s\n",
      "[CV 2/5] END algorithm=ball_tree, n_neighbors=1, p=10;, score=1.000 total time=   0.0s\n",
      "[CV 3/5] END algorithm=ball_tree, n_neighbors=1, p=10;, score=1.000 total time=   0.0s\n",
      "[CV 4/5] END algorithm=ball_tree, n_neighbors=1, p=10;, score=0.900 total time=   0.0s\n",
      "[CV 5/5] END algorithm=ball_tree, n_neighbors=1, p=10;, score=0.950 total time=   0.0s\n",
      "[CV 1/5] END algorithm=ball_tree, n_neighbors=1, p=20;, score=0.850 total time=   0.0s\n",
      "[CV 2/5] END algorithm=ball_tree, n_neighbors=1, p=20;, score=1.000 total time=   0.0s\n",
      "[CV 3/5] END algorithm=ball_tree, n_neighbors=1, p=20;, score=1.000 total time=   0.0s\n",
      "[CV 4/5] END algorithm=ball_tree, n_neighbors=1, p=20;, score=0.900 total time=   0.0s\n",
      "[CV 5/5] END algorithm=ball_tree, n_neighbors=1, p=20;, score=0.950 total time=   0.0s\n",
      "[CV 1/5] END algorithm=ball_tree, n_neighbors=1, p=30;, score=0.850 total time=   0.0s\n",
      "[CV 2/5] END algorithm=ball_tree, n_neighbors=1, p=30;, score=1.000 total time=   0.0s\n",
      "[CV 3/5] END algorithm=ball_tree, n_neighbors=1, p=30;, score=1.000 total time=   0.0s\n",
      "[CV 4/5] END algorithm=ball_tree, n_neighbors=1, p=30;, score=0.900 total time=   0.0s\n",
      "[CV 5/5] END algorithm=ball_tree, n_neighbors=1, p=30;, score=0.950 total time=   0.0s\n",
      "[CV 1/5] END algorithm=ball_tree, n_neighbors=1, p=1;, score=0.800 total time=   0.0s\n",
      "[CV 2/5] END algorithm=ball_tree, n_neighbors=1, p=1;, score=1.000 total time=   0.0s\n",
      "[CV 3/5] END algorithm=ball_tree, n_neighbors=1, p=1;, score=1.000 total time=   0.0s\n",
      "[CV 4/5] END algorithm=ball_tree, n_neighbors=1, p=1;, score=0.900 total time=   0.0s\n",
      "[CV 5/5] END algorithm=ball_tree, n_neighbors=1, p=1;, score=0.950 total time=   0.0s\n",
      "[CV 1/5] END algorithm=ball_tree, n_neighbors=2, p=10;, score=0.800 total time=   0.0s\n",
      "[CV 2/5] END algorithm=ball_tree, n_neighbors=2, p=10;, score=1.000 total time=   0.0s\n",
      "[CV 3/5] END algorithm=ball_tree, n_neighbors=2, p=10;, score=1.000 total time=   0.0s\n",
      "[CV 4/5] END algorithm=ball_tree, n_neighbors=2, p=10;, score=0.900 total time=   0.0s\n",
      "[CV 5/5] END algorithm=ball_tree, n_neighbors=2, p=10;, score=0.950 total time=   0.0s\n",
      "[CV 1/5] END algorithm=ball_tree, n_neighbors=2, p=20;, score=0.800 total time=   0.0s\n",
      "[CV 2/5] END algorithm=ball_tree, n_neighbors=2, p=20;, score=1.000 total time=   0.0s\n",
      "[CV 3/5] END algorithm=ball_tree, n_neighbors=2, p=20;, score=1.000 total time=   0.0s\n",
      "[CV 4/5] END algorithm=ball_tree, n_neighbors=2, p=20;, score=0.900 total time=   0.0s\n",
      "[CV 5/5] END algorithm=ball_tree, n_neighbors=2, p=20;, score=0.950 total time=   0.0s\n",
      "[CV 1/5] END algorithm=ball_tree, n_neighbors=2, p=30;, score=0.800 total time=   0.0s\n",
      "[CV 2/5] END algorithm=ball_tree, n_neighbors=2, p=30;, score=1.000 total time=   0.0s\n",
      "[CV 3/5] END algorithm=ball_tree, n_neighbors=2, p=30;, score=1.000 total time=   0.0s\n",
      "[CV 4/5] END algorithm=ball_tree, n_neighbors=2, p=30;, score=0.900 total time=   0.0s\n",
      "[CV 5/5] END algorithm=ball_tree, n_neighbors=2, p=30;, score=0.950 total time=   0.0s\n",
      "[CV 1/5] END algorithm=ball_tree, n_neighbors=2, p=1;, score=0.800 total time=   0.0s\n",
      "[CV 2/5] END algorithm=ball_tree, n_neighbors=2, p=1;, score=0.950 total time=   0.0s\n",
      "[CV 3/5] END algorithm=ball_tree, n_neighbors=2, p=1;, score=1.000 total time=   0.0s\n",
      "[CV 4/5] END algorithm=ball_tree, n_neighbors=2, p=1;, score=0.900 total time=   0.0s\n",
      "[CV 5/5] END algorithm=ball_tree, n_neighbors=2, p=1;, score=0.950 total time=   0.0s\n",
      "[CV 1/5] END algorithm=ball_tree, n_neighbors=3, p=10;, score=0.950 total time=   0.0s\n",
      "[CV 2/5] END algorithm=ball_tree, n_neighbors=3, p=10;, score=1.000 total time=   0.0s\n",
      "[CV 3/5] END algorithm=ball_tree, n_neighbors=3, p=10;, score=1.000 total time=   0.0s\n",
      "[CV 4/5] END algorithm=ball_tree, n_neighbors=3, p=10;, score=0.900 total time=   0.0s\n",
      "[CV 5/5] END algorithm=ball_tree, n_neighbors=3, p=10;, score=0.950 total time=   0.0s\n",
      "[CV 1/5] END algorithm=ball_tree, n_neighbors=3, p=20;, score=0.950 total time=   0.0s\n",
      "[CV 2/5] END algorithm=ball_tree, n_neighbors=3, p=20;, score=1.000 total time=   0.0s\n",
      "[CV 3/5] END algorithm=ball_tree, n_neighbors=3, p=20;, score=1.000 total time=   0.0s\n",
      "[CV 4/5] END algorithm=ball_tree, n_neighbors=3, p=20;, score=0.900 total time=   0.0s\n",
      "[CV 5/5] END algorithm=ball_tree, n_neighbors=3, p=20;, score=0.950 total time=   0.0s\n",
      "[CV 1/5] END algorithm=ball_tree, n_neighbors=3, p=30;, score=0.950 total time=   0.0s\n",
      "[CV 2/5] END algorithm=ball_tree, n_neighbors=3, p=30;, score=1.000 total time=   0.0s\n",
      "[CV 3/5] END algorithm=ball_tree, n_neighbors=3, p=30;, score=1.000 total time=   0.0s\n",
      "[CV 4/5] END algorithm=ball_tree, n_neighbors=3, p=30;, score=0.900 total time=   0.0s\n",
      "[CV 5/5] END algorithm=ball_tree, n_neighbors=3, p=30;, score=0.950 total time=   0.0s\n",
      "[CV 1/5] END algorithm=ball_tree, n_neighbors=3, p=1;, score=0.950 total time=   0.0s\n",
      "[CV 2/5] END algorithm=ball_tree, n_neighbors=3, p=1;, score=1.000 total time=   0.0s\n",
      "[CV 3/5] END algorithm=ball_tree, n_neighbors=3, p=1;, score=1.000 total time=   0.0s\n",
      "[CV 4/5] END algorithm=ball_tree, n_neighbors=3, p=1;, score=0.850 total time=   0.0s\n",
      "[CV 5/5] END algorithm=ball_tree, n_neighbors=3, p=1;, score=0.950 total time=   0.0s\n",
      "[CV 1/5] END algorithm=ball_tree, n_neighbors=4, p=10;, score=0.850 total time=   0.0s\n",
      "[CV 2/5] END algorithm=ball_tree, n_neighbors=4, p=10;, score=1.000 total time=   0.0s\n",
      "[CV 3/5] END algorithm=ball_tree, n_neighbors=4, p=10;, score=1.000 total time=   0.0s\n",
      "[CV 4/5] END algorithm=ball_tree, n_neighbors=4, p=10;, score=0.850 total time=   0.0s\n",
      "[CV 5/5] END algorithm=ball_tree, n_neighbors=4, p=10;, score=1.000 total time=   0.0s\n",
      "[CV 1/5] END algorithm=ball_tree, n_neighbors=4, p=20;, score=0.850 total time=   0.0s\n",
      "[CV 2/5] END algorithm=ball_tree, n_neighbors=4, p=20;, score=1.000 total time=   0.0s\n",
      "[CV 3/5] END algorithm=ball_tree, n_neighbors=4, p=20;, score=1.000 total time=   0.0s\n",
      "[CV 4/5] END algorithm=ball_tree, n_neighbors=4, p=20;, score=0.900 total time=   0.0s\n",
      "[CV 5/5] END algorithm=ball_tree, n_neighbors=4, p=20;, score=1.000 total time=   0.0s\n",
      "[CV 1/5] END algorithm=ball_tree, n_neighbors=4, p=30;, score=0.850 total time=   0.0s\n",
      "[CV 2/5] END algorithm=ball_tree, n_neighbors=4, p=30;, score=1.000 total time=   0.0s\n",
      "[CV 3/5] END algorithm=ball_tree, n_neighbors=4, p=30;, score=1.000 total time=   0.0s\n",
      "[CV 4/5] END algorithm=ball_tree, n_neighbors=4, p=30;, score=0.900 total time=   0.0s\n",
      "[CV 5/5] END algorithm=ball_tree, n_neighbors=4, p=30;, score=1.000 total time=   0.0s\n",
      "[CV 1/5] END algorithm=ball_tree, n_neighbors=4, p=1;, score=0.900 total time=   0.0s\n",
      "[CV 2/5] END algorithm=ball_tree, n_neighbors=4, p=1;, score=1.000 total time=   0.0s\n",
      "[CV 3/5] END algorithm=ball_tree, n_neighbors=4, p=1;, score=1.000 total time=   0.0s\n",
      "[CV 4/5] END algorithm=ball_tree, n_neighbors=4, p=1;, score=0.850 total time=   0.0s\n",
      "[CV 5/5] END algorithm=ball_tree, n_neighbors=4, p=1;, score=1.000 total time=   0.0s\n",
      "[CV 1/5] END algorithm=ball_tree, n_neighbors=5, p=10;, score=0.950 total time=   0.0s\n",
      "[CV 2/5] END algorithm=ball_tree, n_neighbors=5, p=10;, score=1.000 total time=   0.0s\n",
      "[CV 3/5] END algorithm=ball_tree, n_neighbors=5, p=10;, score=1.000 total time=   0.0s\n",
      "[CV 4/5] END algorithm=ball_tree, n_neighbors=5, p=10;, score=0.900 total time=   0.0s\n",
      "[CV 5/5] END algorithm=ball_tree, n_neighbors=5, p=10;, score=1.000 total time=   0.0s\n",
      "[CV 1/5] END algorithm=ball_tree, n_neighbors=5, p=20;, score=0.950 total time=   0.0s\n",
      "[CV 2/5] END algorithm=ball_tree, n_neighbors=5, p=20;, score=1.000 total time=   0.0s\n",
      "[CV 3/5] END algorithm=ball_tree, n_neighbors=5, p=20;, score=1.000 total time=   0.0s\n",
      "[CV 4/5] END algorithm=ball_tree, n_neighbors=5, p=20;, score=0.900 total time=   0.0s\n",
      "[CV 5/5] END algorithm=ball_tree, n_neighbors=5, p=20;, score=1.000 total time=   0.0s\n",
      "[CV 1/5] END algorithm=ball_tree, n_neighbors=5, p=30;, score=0.950 total time=   0.0s\n",
      "[CV 2/5] END algorithm=ball_tree, n_neighbors=5, p=30;, score=1.000 total time=   0.0s\n",
      "[CV 3/5] END algorithm=ball_tree, n_neighbors=5, p=30;, score=1.000 total time=   0.0s\n",
      "[CV 4/5] END algorithm=ball_tree, n_neighbors=5, p=30;, score=0.900 total time=   0.0s\n",
      "[CV 5/5] END algorithm=ball_tree, n_neighbors=5, p=30;, score=1.000 total time=   0.0s\n",
      "[CV 1/5] END algorithm=ball_tree, n_neighbors=5, p=1;, score=0.950 total time=   0.0s\n",
      "[CV 2/5] END algorithm=ball_tree, n_neighbors=5, p=1;, score=1.000 total time=   0.0s\n",
      "[CV 3/5] END algorithm=ball_tree, n_neighbors=5, p=1;, score=1.000 total time=   0.0s\n",
      "[CV 4/5] END algorithm=ball_tree, n_neighbors=5, p=1;, score=0.850 total time=   0.0s\n",
      "[CV 5/5] END algorithm=ball_tree, n_neighbors=5, p=1;, score=1.000 total time=   0.0s\n",
      "[CV 1/5] END algorithm=ball_tree, n_neighbors=6, p=10;, score=0.850 total time=   0.0s\n",
      "[CV 2/5] END algorithm=ball_tree, n_neighbors=6, p=10;, score=1.000 total time=   0.0s\n",
      "[CV 3/5] END algorithm=ball_tree, n_neighbors=6, p=10;, score=1.000 total time=   0.0s\n",
      "[CV 4/5] END algorithm=ball_tree, n_neighbors=6, p=10;, score=0.900 total time=   0.0s\n",
      "[CV 5/5] END algorithm=ball_tree, n_neighbors=6, p=10;, score=1.000 total time=   0.0s\n",
      "[CV 1/5] END algorithm=ball_tree, n_neighbors=6, p=20;, score=0.850 total time=   0.0s\n",
      "[CV 2/5] END algorithm=ball_tree, n_neighbors=6, p=20;, score=1.000 total time=   0.0s\n",
      "[CV 3/5] END algorithm=ball_tree, n_neighbors=6, p=20;, score=1.000 total time=   0.0s\n",
      "[CV 4/5] END algorithm=ball_tree, n_neighbors=6, p=20;, score=0.900 total time=   0.0s\n",
      "[CV 5/5] END algorithm=ball_tree, n_neighbors=6, p=20;, score=1.000 total time=   0.0s\n",
      "[CV 1/5] END algorithm=ball_tree, n_neighbors=6, p=30;, score=0.850 total time=   0.0s\n",
      "[CV 2/5] END algorithm=ball_tree, n_neighbors=6, p=30;, score=1.000 total time=   0.0s\n",
      "[CV 3/5] END algorithm=ball_tree, n_neighbors=6, p=30;, score=1.000 total time=   0.0s\n",
      "[CV 4/5] END algorithm=ball_tree, n_neighbors=6, p=30;, score=0.900 total time=   0.0s\n",
      "[CV 5/5] END algorithm=ball_tree, n_neighbors=6, p=30;, score=1.000 total time=   0.0s\n",
      "[CV 1/5] END algorithm=ball_tree, n_neighbors=6, p=1;, score=0.950 total time=   0.0s\n",
      "[CV 2/5] END algorithm=ball_tree, n_neighbors=6, p=1;, score=1.000 total time=   0.0s\n",
      "[CV 3/5] END algorithm=ball_tree, n_neighbors=6, p=1;, score=1.000 total time=   0.0s\n",
      "[CV 4/5] END algorithm=ball_tree, n_neighbors=6, p=1;, score=0.850 total time=   0.0s\n",
      "[CV 5/5] END algorithm=ball_tree, n_neighbors=6, p=1;, score=1.000 total time=   0.0s\n",
      "[CV 1/5] END algorithm=ball_tree, n_neighbors=7, p=10;, score=0.900 total time=   0.0s\n",
      "[CV 2/5] END algorithm=ball_tree, n_neighbors=7, p=10;, score=1.000 total time=   0.0s\n",
      "[CV 3/5] END algorithm=ball_tree, n_neighbors=7, p=10;, score=1.000 total time=   0.0s\n",
      "[CV 4/5] END algorithm=ball_tree, n_neighbors=7, p=10;, score=0.900 total time=   0.0s\n",
      "[CV 5/5] END algorithm=ball_tree, n_neighbors=7, p=10;, score=0.950 total time=   0.0s\n",
      "[CV 1/5] END algorithm=ball_tree, n_neighbors=7, p=20;, score=0.900 total time=   0.0s\n",
      "[CV 2/5] END algorithm=ball_tree, n_neighbors=7, p=20;, score=1.000 total time=   0.0s\n",
      "[CV 3/5] END algorithm=ball_tree, n_neighbors=7, p=20;, score=1.000 total time=   0.0s\n",
      "[CV 4/5] END algorithm=ball_tree, n_neighbors=7, p=20;, score=0.900 total time=   0.0s\n",
      "[CV 5/5] END algorithm=ball_tree, n_neighbors=7, p=20;, score=0.950 total time=   0.0s\n",
      "[CV 1/5] END algorithm=ball_tree, n_neighbors=7, p=30;, score=0.900 total time=   0.0s\n",
      "[CV 2/5] END algorithm=ball_tree, n_neighbors=7, p=30;, score=1.000 total time=   0.0s\n",
      "[CV 3/5] END algorithm=ball_tree, n_neighbors=7, p=30;, score=1.000 total time=   0.0s\n",
      "[CV 4/5] END algorithm=ball_tree, n_neighbors=7, p=30;, score=0.900 total time=   0.0s\n",
      "[CV 5/5] END algorithm=ball_tree, n_neighbors=7, p=30;, score=0.950 total time=   0.0s\n",
      "[CV 1/5] END algorithm=ball_tree, n_neighbors=7, p=1;, score=0.950 total time=   0.0s\n",
      "[CV 2/5] END algorithm=ball_tree, n_neighbors=7, p=1;, score=1.000 total time=   0.0s\n",
      "[CV 3/5] END algorithm=ball_tree, n_neighbors=7, p=1;, score=1.000 total time=   0.0s\n",
      "[CV 4/5] END algorithm=ball_tree, n_neighbors=7, p=1;, score=0.850 total time=   0.0s\n",
      "[CV 5/5] END algorithm=ball_tree, n_neighbors=7, p=1;, score=0.950 total time=   0.0s\n",
      "[CV 1/5] END algorithm=ball_tree, n_neighbors=8, p=10;, score=0.900 total time=   0.0s\n",
      "[CV 2/5] END algorithm=ball_tree, n_neighbors=8, p=10;, score=1.000 total time=   0.0s\n",
      "[CV 3/5] END algorithm=ball_tree, n_neighbors=8, p=10;, score=1.000 total time=   0.0s\n",
      "[CV 4/5] END algorithm=ball_tree, n_neighbors=8, p=10;, score=0.950 total time=   0.0s\n",
      "[CV 5/5] END algorithm=ball_tree, n_neighbors=8, p=10;, score=0.950 total time=   0.0s\n",
      "[CV 1/5] END algorithm=ball_tree, n_neighbors=8, p=20;, score=0.900 total time=   0.0s\n",
      "[CV 2/5] END algorithm=ball_tree, n_neighbors=8, p=20;, score=1.000 total time=   0.0s\n",
      "[CV 3/5] END algorithm=ball_tree, n_neighbors=8, p=20;, score=1.000 total time=   0.0s\n",
      "[CV 4/5] END algorithm=ball_tree, n_neighbors=8, p=20;, score=0.950 total time=   0.0s\n",
      "[CV 5/5] END algorithm=ball_tree, n_neighbors=8, p=20;, score=0.950 total time=   0.0s\n",
      "[CV 1/5] END algorithm=ball_tree, n_neighbors=8, p=30;, score=0.900 total time=   0.0s\n",
      "[CV 2/5] END algorithm=ball_tree, n_neighbors=8, p=30;, score=1.000 total time=   0.0s\n",
      "[CV 3/5] END algorithm=ball_tree, n_neighbors=8, p=30;, score=1.000 total time=   0.0s\n",
      "[CV 4/5] END algorithm=ball_tree, n_neighbors=8, p=30;, score=0.950 total time=   0.0s\n",
      "[CV 5/5] END algorithm=ball_tree, n_neighbors=8, p=30;, score=0.950 total time=   0.0s\n",
      "[CV 1/5] END algorithm=ball_tree, n_neighbors=8, p=1;, score=0.950 total time=   0.0s\n",
      "[CV 2/5] END algorithm=ball_tree, n_neighbors=8, p=1;, score=1.000 total time=   0.0s\n",
      "[CV 3/5] END algorithm=ball_tree, n_neighbors=8, p=1;, score=1.000 total time=   0.0s\n",
      "[CV 4/5] END algorithm=ball_tree, n_neighbors=8, p=1;, score=0.900 total time=   0.0s\n",
      "[CV 5/5] END algorithm=ball_tree, n_neighbors=8, p=1;, score=0.950 total time=   0.0s\n",
      "[CV 1/5] END algorithm=ball_tree, n_neighbors=9, p=10;, score=0.900 total time=   0.0s\n",
      "[CV 2/5] END algorithm=ball_tree, n_neighbors=9, p=10;, score=1.000 total time=   0.0s\n",
      "[CV 3/5] END algorithm=ball_tree, n_neighbors=9, p=10;, score=1.000 total time=   0.0s\n",
      "[CV 4/5] END algorithm=ball_tree, n_neighbors=9, p=10;, score=0.900 total time=   0.0s\n",
      "[CV 5/5] END algorithm=ball_tree, n_neighbors=9, p=10;, score=0.950 total time=   0.0s\n",
      "[CV 1/5] END algorithm=ball_tree, n_neighbors=9, p=20;, score=0.900 total time=   0.0s\n",
      "[CV 2/5] END algorithm=ball_tree, n_neighbors=9, p=20;, score=1.000 total time=   0.0s\n",
      "[CV 3/5] END algorithm=ball_tree, n_neighbors=9, p=20;, score=1.000 total time=   0.0s\n",
      "[CV 4/5] END algorithm=ball_tree, n_neighbors=9, p=20;, score=0.900 total time=   0.0s\n",
      "[CV 5/5] END algorithm=ball_tree, n_neighbors=9, p=20;, score=0.950 total time=   0.0s\n",
      "[CV 1/5] END algorithm=ball_tree, n_neighbors=9, p=30;, score=0.900 total time=   0.0s\n",
      "[CV 2/5] END algorithm=ball_tree, n_neighbors=9, p=30;, score=1.000 total time=   0.0s\n",
      "[CV 3/5] END algorithm=ball_tree, n_neighbors=9, p=30;, score=1.000 total time=   0.0s\n",
      "[CV 4/5] END algorithm=ball_tree, n_neighbors=9, p=30;, score=0.900 total time=   0.0s\n",
      "[CV 5/5] END algorithm=ball_tree, n_neighbors=9, p=30;, score=0.950 total time=   0.0s\n",
      "[CV 1/5] END algorithm=ball_tree, n_neighbors=9, p=1;, score=0.950 total time=   0.0s\n",
      "[CV 2/5] END algorithm=ball_tree, n_neighbors=9, p=1;, score=1.000 total time=   0.0s\n",
      "[CV 3/5] END algorithm=ball_tree, n_neighbors=9, p=1;, score=1.000 total time=   0.0s\n",
      "[CV 4/5] END algorithm=ball_tree, n_neighbors=9, p=1;, score=0.900 total time=   0.0s\n",
      "[CV 5/5] END algorithm=ball_tree, n_neighbors=9, p=1;, score=0.950 total time=   0.0s\n",
      "[CV 1/5] END algorithm=kd_tree, n_neighbors=1, p=10;, score=0.850 total time=   0.0s\n",
      "[CV 2/5] END algorithm=kd_tree, n_neighbors=1, p=10;, score=1.000 total time=   0.0s\n",
      "[CV 3/5] END algorithm=kd_tree, n_neighbors=1, p=10;, score=1.000 total time=   0.0s\n",
      "[CV 4/5] END algorithm=kd_tree, n_neighbors=1, p=10;, score=0.900 total time=   0.0s\n",
      "[CV 5/5] END algorithm=kd_tree, n_neighbors=1, p=10;, score=0.950 total time=   0.0s\n",
      "[CV 1/5] END algorithm=kd_tree, n_neighbors=1, p=20;, score=0.850 total time=   0.0s\n",
      "[CV 2/5] END algorithm=kd_tree, n_neighbors=1, p=20;, score=1.000 total time=   0.0s\n",
      "[CV 3/5] END algorithm=kd_tree, n_neighbors=1, p=20;, score=1.000 total time=   0.0s\n",
      "[CV 4/5] END algorithm=kd_tree, n_neighbors=1, p=20;, score=0.900 total time=   0.0s\n",
      "[CV 5/5] END algorithm=kd_tree, n_neighbors=1, p=20;, score=0.950 total time=   0.0s\n",
      "[CV 1/5] END algorithm=kd_tree, n_neighbors=1, p=30;, score=0.850 total time=   0.0s\n",
      "[CV 2/5] END algorithm=kd_tree, n_neighbors=1, p=30;, score=1.000 total time=   0.0s\n",
      "[CV 3/5] END algorithm=kd_tree, n_neighbors=1, p=30;, score=1.000 total time=   0.0s\n",
      "[CV 4/5] END algorithm=kd_tree, n_neighbors=1, p=30;, score=0.900 total time=   0.0s\n",
      "[CV 5/5] END algorithm=kd_tree, n_neighbors=1, p=30;, score=0.950 total time=   0.0s\n",
      "[CV 1/5] END algorithm=kd_tree, n_neighbors=1, p=1;, score=0.800 total time=   0.0s\n",
      "[CV 2/5] END algorithm=kd_tree, n_neighbors=1, p=1;, score=1.000 total time=   0.0s\n",
      "[CV 3/5] END algorithm=kd_tree, n_neighbors=1, p=1;, score=1.000 total time=   0.0s\n",
      "[CV 4/5] END algorithm=kd_tree, n_neighbors=1, p=1;, score=0.900 total time=   0.0s\n",
      "[CV 5/5] END algorithm=kd_tree, n_neighbors=1, p=1;, score=0.950 total time=   0.0s\n",
      "[CV 1/5] END algorithm=kd_tree, n_neighbors=2, p=10;, score=0.800 total time=   0.0s\n",
      "[CV 2/5] END algorithm=kd_tree, n_neighbors=2, p=10;, score=1.000 total time=   0.0s\n",
      "[CV 3/5] END algorithm=kd_tree, n_neighbors=2, p=10;, score=1.000 total time=   0.0s\n",
      "[CV 4/5] END algorithm=kd_tree, n_neighbors=2, p=10;, score=0.900 total time=   0.0s\n",
      "[CV 5/5] END algorithm=kd_tree, n_neighbors=2, p=10;, score=0.950 total time=   0.0s\n",
      "[CV 1/5] END algorithm=kd_tree, n_neighbors=2, p=20;, score=0.800 total time=   0.0s\n",
      "[CV 2/5] END algorithm=kd_tree, n_neighbors=2, p=20;, score=1.000 total time=   0.0s\n",
      "[CV 3/5] END algorithm=kd_tree, n_neighbors=2, p=20;, score=1.000 total time=   0.0s\n",
      "[CV 4/5] END algorithm=kd_tree, n_neighbors=2, p=20;, score=0.900 total time=   0.0s\n",
      "[CV 5/5] END algorithm=kd_tree, n_neighbors=2, p=20;, score=0.950 total time=   0.0s\n",
      "[CV 1/5] END algorithm=kd_tree, n_neighbors=2, p=30;, score=0.800 total time=   0.0s\n",
      "[CV 2/5] END algorithm=kd_tree, n_neighbors=2, p=30;, score=1.000 total time=   0.0s\n",
      "[CV 3/5] END algorithm=kd_tree, n_neighbors=2, p=30;, score=1.000 total time=   0.0s\n",
      "[CV 4/5] END algorithm=kd_tree, n_neighbors=2, p=30;, score=0.900 total time=   0.0s\n",
      "[CV 5/5] END algorithm=kd_tree, n_neighbors=2, p=30;, score=0.950 total time=   0.0s\n",
      "[CV 1/5] END algorithm=kd_tree, n_neighbors=2, p=1;, score=0.800 total time=   0.0s\n",
      "[CV 2/5] END algorithm=kd_tree, n_neighbors=2, p=1;, score=0.950 total time=   0.0s\n",
      "[CV 3/5] END algorithm=kd_tree, n_neighbors=2, p=1;, score=1.000 total time=   0.0s\n",
      "[CV 4/5] END algorithm=kd_tree, n_neighbors=2, p=1;, score=0.900 total time=   0.0s\n",
      "[CV 5/5] END algorithm=kd_tree, n_neighbors=2, p=1;, score=0.950 total time=   0.0s\n",
      "[CV 1/5] END algorithm=kd_tree, n_neighbors=3, p=10;, score=0.950 total time=   0.0s\n",
      "[CV 2/5] END algorithm=kd_tree, n_neighbors=3, p=10;, score=1.000 total time=   0.0s\n",
      "[CV 3/5] END algorithm=kd_tree, n_neighbors=3, p=10;, score=1.000 total time=   0.0s\n",
      "[CV 4/5] END algorithm=kd_tree, n_neighbors=3, p=10;, score=0.900 total time=   0.0s\n",
      "[CV 5/5] END algorithm=kd_tree, n_neighbors=3, p=10;, score=0.950 total time=   0.0s\n",
      "[CV 1/5] END algorithm=kd_tree, n_neighbors=3, p=20;, score=0.950 total time=   0.0s\n",
      "[CV 2/5] END algorithm=kd_tree, n_neighbors=3, p=20;, score=1.000 total time=   0.0s\n",
      "[CV 3/5] END algorithm=kd_tree, n_neighbors=3, p=20;, score=1.000 total time=   0.0s\n",
      "[CV 4/5] END algorithm=kd_tree, n_neighbors=3, p=20;, score=0.900 total time=   0.0s\n",
      "[CV 5/5] END algorithm=kd_tree, n_neighbors=3, p=20;, score=0.950 total time=   0.0s\n",
      "[CV 1/5] END algorithm=kd_tree, n_neighbors=3, p=30;, score=0.950 total time=   0.0s\n",
      "[CV 2/5] END algorithm=kd_tree, n_neighbors=3, p=30;, score=1.000 total time=   0.0s\n",
      "[CV 3/5] END algorithm=kd_tree, n_neighbors=3, p=30;, score=1.000 total time=   0.0s\n",
      "[CV 4/5] END algorithm=kd_tree, n_neighbors=3, p=30;, score=0.900 total time=   0.0s\n",
      "[CV 5/5] END algorithm=kd_tree, n_neighbors=3, p=30;, score=0.950 total time=   0.0s\n",
      "[CV 1/5] END algorithm=kd_tree, n_neighbors=3, p=1;, score=0.950 total time=   0.0s\n",
      "[CV 2/5] END algorithm=kd_tree, n_neighbors=3, p=1;, score=1.000 total time=   0.0s\n",
      "[CV 3/5] END algorithm=kd_tree, n_neighbors=3, p=1;, score=1.000 total time=   0.0s\n",
      "[CV 4/5] END algorithm=kd_tree, n_neighbors=3, p=1;, score=0.850 total time=   0.0s\n",
      "[CV 5/5] END algorithm=kd_tree, n_neighbors=3, p=1;, score=0.950 total time=   0.0s\n",
      "[CV 1/5] END algorithm=kd_tree, n_neighbors=4, p=10;, score=0.850 total time=   0.0s\n",
      "[CV 2/5] END algorithm=kd_tree, n_neighbors=4, p=10;, score=1.000 total time=   0.0s\n",
      "[CV 3/5] END algorithm=kd_tree, n_neighbors=4, p=10;, score=1.000 total time=   0.0s\n",
      "[CV 4/5] END algorithm=kd_tree, n_neighbors=4, p=10;, score=0.850 total time=   0.0s\n",
      "[CV 5/5] END algorithm=kd_tree, n_neighbors=4, p=10;, score=1.000 total time=   0.0s\n",
      "[CV 1/5] END algorithm=kd_tree, n_neighbors=4, p=20;, score=0.850 total time=   0.0s\n",
      "[CV 2/5] END algorithm=kd_tree, n_neighbors=4, p=20;, score=1.000 total time=   0.0s\n",
      "[CV 3/5] END algorithm=kd_tree, n_neighbors=4, p=20;, score=1.000 total time=   0.0s\n",
      "[CV 4/5] END algorithm=kd_tree, n_neighbors=4, p=20;, score=0.900 total time=   0.0s\n",
      "[CV 5/5] END algorithm=kd_tree, n_neighbors=4, p=20;, score=1.000 total time=   0.0s\n",
      "[CV 1/5] END algorithm=kd_tree, n_neighbors=4, p=30;, score=0.850 total time=   0.0s\n",
      "[CV 2/5] END algorithm=kd_tree, n_neighbors=4, p=30;, score=1.000 total time=   0.0s\n",
      "[CV 3/5] END algorithm=kd_tree, n_neighbors=4, p=30;, score=1.000 total time=   0.0s\n",
      "[CV 4/5] END algorithm=kd_tree, n_neighbors=4, p=30;, score=0.900 total time=   0.0s\n",
      "[CV 5/5] END algorithm=kd_tree, n_neighbors=4, p=30;, score=1.000 total time=   0.0s\n",
      "[CV 1/5] END algorithm=kd_tree, n_neighbors=4, p=1;, score=0.900 total time=   0.0s\n",
      "[CV 2/5] END algorithm=kd_tree, n_neighbors=4, p=1;, score=1.000 total time=   0.0s\n",
      "[CV 3/5] END algorithm=kd_tree, n_neighbors=4, p=1;, score=1.000 total time=   0.0s\n",
      "[CV 4/5] END algorithm=kd_tree, n_neighbors=4, p=1;, score=0.850 total time=   0.0s\n",
      "[CV 5/5] END algorithm=kd_tree, n_neighbors=4, p=1;, score=1.000 total time=   0.0s\n",
      "[CV 1/5] END algorithm=kd_tree, n_neighbors=5, p=10;, score=0.950 total time=   0.0s\n",
      "[CV 2/5] END algorithm=kd_tree, n_neighbors=5, p=10;, score=1.000 total time=   0.0s\n",
      "[CV 3/5] END algorithm=kd_tree, n_neighbors=5, p=10;, score=1.000 total time=   0.0s\n",
      "[CV 4/5] END algorithm=kd_tree, n_neighbors=5, p=10;, score=0.900 total time=   0.0s\n",
      "[CV 5/5] END algorithm=kd_tree, n_neighbors=5, p=10;, score=1.000 total time=   0.0s\n",
      "[CV 1/5] END algorithm=kd_tree, n_neighbors=5, p=20;, score=0.950 total time=   0.0s\n",
      "[CV 2/5] END algorithm=kd_tree, n_neighbors=5, p=20;, score=1.000 total time=   0.0s\n",
      "[CV 3/5] END algorithm=kd_tree, n_neighbors=5, p=20;, score=1.000 total time=   0.0s\n",
      "[CV 4/5] END algorithm=kd_tree, n_neighbors=5, p=20;, score=0.900 total time=   0.0s\n",
      "[CV 5/5] END algorithm=kd_tree, n_neighbors=5, p=20;, score=1.000 total time=   0.0s\n",
      "[CV 1/5] END algorithm=kd_tree, n_neighbors=5, p=30;, score=0.950 total time=   0.0s\n",
      "[CV 2/5] END algorithm=kd_tree, n_neighbors=5, p=30;, score=1.000 total time=   0.0s\n",
      "[CV 3/5] END algorithm=kd_tree, n_neighbors=5, p=30;, score=1.000 total time=   0.0s\n",
      "[CV 4/5] END algorithm=kd_tree, n_neighbors=5, p=30;, score=0.900 total time=   0.0s\n",
      "[CV 5/5] END algorithm=kd_tree, n_neighbors=5, p=30;, score=1.000 total time=   0.0s\n",
      "[CV 1/5] END algorithm=kd_tree, n_neighbors=5, p=1;, score=0.950 total time=   0.0s\n",
      "[CV 2/5] END algorithm=kd_tree, n_neighbors=5, p=1;, score=1.000 total time=   0.0s\n",
      "[CV 3/5] END algorithm=kd_tree, n_neighbors=5, p=1;, score=1.000 total time=   0.0s\n",
      "[CV 4/5] END algorithm=kd_tree, n_neighbors=5, p=1;, score=0.850 total time=   0.0s\n",
      "[CV 5/5] END algorithm=kd_tree, n_neighbors=5, p=1;, score=1.000 total time=   0.0s\n",
      "[CV 1/5] END algorithm=kd_tree, n_neighbors=6, p=10;, score=0.850 total time=   0.0s\n",
      "[CV 2/5] END algorithm=kd_tree, n_neighbors=6, p=10;, score=1.000 total time=   0.0s\n",
      "[CV 3/5] END algorithm=kd_tree, n_neighbors=6, p=10;, score=1.000 total time=   0.0s\n",
      "[CV 4/5] END algorithm=kd_tree, n_neighbors=6, p=10;, score=0.900 total time=   0.0s\n",
      "[CV 5/5] END algorithm=kd_tree, n_neighbors=6, p=10;, score=1.000 total time=   0.0s\n",
      "[CV 1/5] END algorithm=kd_tree, n_neighbors=6, p=20;, score=0.850 total time=   0.0s\n",
      "[CV 2/5] END algorithm=kd_tree, n_neighbors=6, p=20;, score=1.000 total time=   0.0s\n",
      "[CV 3/5] END algorithm=kd_tree, n_neighbors=6, p=20;, score=1.000 total time=   0.0s\n",
      "[CV 4/5] END algorithm=kd_tree, n_neighbors=6, p=20;, score=0.900 total time=   0.0s\n",
      "[CV 5/5] END algorithm=kd_tree, n_neighbors=6, p=20;, score=1.000 total time=   0.0s\n",
      "[CV 1/5] END algorithm=kd_tree, n_neighbors=6, p=30;, score=0.850 total time=   0.0s\n",
      "[CV 2/5] END algorithm=kd_tree, n_neighbors=6, p=30;, score=1.000 total time=   0.0s\n",
      "[CV 3/5] END algorithm=kd_tree, n_neighbors=6, p=30;, score=1.000 total time=   0.0s\n",
      "[CV 4/5] END algorithm=kd_tree, n_neighbors=6, p=30;, score=0.900 total time=   0.0s\n",
      "[CV 5/5] END algorithm=kd_tree, n_neighbors=6, p=30;, score=1.000 total time=   0.0s\n",
      "[CV 1/5] END algorithm=kd_tree, n_neighbors=6, p=1;, score=0.950 total time=   0.0s\n",
      "[CV 2/5] END algorithm=kd_tree, n_neighbors=6, p=1;, score=1.000 total time=   0.0s\n",
      "[CV 3/5] END algorithm=kd_tree, n_neighbors=6, p=1;, score=1.000 total time=   0.0s\n",
      "[CV 4/5] END algorithm=kd_tree, n_neighbors=6, p=1;, score=0.850 total time=   0.0s\n",
      "[CV 5/5] END algorithm=kd_tree, n_neighbors=6, p=1;, score=1.000 total time=   0.0s\n",
      "[CV 1/5] END algorithm=kd_tree, n_neighbors=7, p=10;, score=0.900 total time=   0.0s\n",
      "[CV 2/5] END algorithm=kd_tree, n_neighbors=7, p=10;, score=1.000 total time=   0.0s\n",
      "[CV 3/5] END algorithm=kd_tree, n_neighbors=7, p=10;, score=1.000 total time=   0.0s\n",
      "[CV 4/5] END algorithm=kd_tree, n_neighbors=7, p=10;, score=0.900 total time=   0.0s\n",
      "[CV 5/5] END algorithm=kd_tree, n_neighbors=7, p=10;, score=0.950 total time=   0.0s\n",
      "[CV 1/5] END algorithm=kd_tree, n_neighbors=7, p=20;, score=0.900 total time=   0.0s\n",
      "[CV 2/5] END algorithm=kd_tree, n_neighbors=7, p=20;, score=1.000 total time=   0.0s\n",
      "[CV 3/5] END algorithm=kd_tree, n_neighbors=7, p=20;, score=1.000 total time=   0.0s\n",
      "[CV 4/5] END algorithm=kd_tree, n_neighbors=7, p=20;, score=0.900 total time=   0.0s\n",
      "[CV 5/5] END algorithm=kd_tree, n_neighbors=7, p=20;, score=0.950 total time=   0.0s\n",
      "[CV 1/5] END algorithm=kd_tree, n_neighbors=7, p=30;, score=0.900 total time=   0.0s\n",
      "[CV 2/5] END algorithm=kd_tree, n_neighbors=7, p=30;, score=1.000 total time=   0.0s\n",
      "[CV 3/5] END algorithm=kd_tree, n_neighbors=7, p=30;, score=1.000 total time=   0.0s\n",
      "[CV 4/5] END algorithm=kd_tree, n_neighbors=7, p=30;, score=0.900 total time=   0.0s\n",
      "[CV 5/5] END algorithm=kd_tree, n_neighbors=7, p=30;, score=0.950 total time=   0.0s\n",
      "[CV 1/5] END algorithm=kd_tree, n_neighbors=7, p=1;, score=0.950 total time=   0.0s\n",
      "[CV 2/5] END algorithm=kd_tree, n_neighbors=7, p=1;, score=1.000 total time=   0.0s\n",
      "[CV 3/5] END algorithm=kd_tree, n_neighbors=7, p=1;, score=1.000 total time=   0.0s\n",
      "[CV 4/5] END algorithm=kd_tree, n_neighbors=7, p=1;, score=0.850 total time=   0.0s\n",
      "[CV 5/5] END algorithm=kd_tree, n_neighbors=7, p=1;, score=0.950 total time=   0.0s\n",
      "[CV 1/5] END algorithm=kd_tree, n_neighbors=8, p=10;, score=0.900 total time=   0.0s\n",
      "[CV 2/5] END algorithm=kd_tree, n_neighbors=8, p=10;, score=1.000 total time=   0.0s\n",
      "[CV 3/5] END algorithm=kd_tree, n_neighbors=8, p=10;, score=1.000 total time=   0.0s\n",
      "[CV 4/5] END algorithm=kd_tree, n_neighbors=8, p=10;, score=0.950 total time=   0.0s\n",
      "[CV 5/5] END algorithm=kd_tree, n_neighbors=8, p=10;, score=0.950 total time=   0.0s\n",
      "[CV 1/5] END algorithm=kd_tree, n_neighbors=8, p=20;, score=0.900 total time=   0.0s\n",
      "[CV 2/5] END algorithm=kd_tree, n_neighbors=8, p=20;, score=1.000 total time=   0.0s\n",
      "[CV 3/5] END algorithm=kd_tree, n_neighbors=8, p=20;, score=1.000 total time=   0.0s\n",
      "[CV 4/5] END algorithm=kd_tree, n_neighbors=8, p=20;, score=0.950 total time=   0.0s\n",
      "[CV 5/5] END algorithm=kd_tree, n_neighbors=8, p=20;, score=0.950 total time=   0.0s\n",
      "[CV 1/5] END algorithm=kd_tree, n_neighbors=8, p=30;, score=0.900 total time=   0.0s\n",
      "[CV 2/5] END algorithm=kd_tree, n_neighbors=8, p=30;, score=1.000 total time=   0.0s\n",
      "[CV 3/5] END algorithm=kd_tree, n_neighbors=8, p=30;, score=1.000 total time=   0.0s\n",
      "[CV 4/5] END algorithm=kd_tree, n_neighbors=8, p=30;, score=0.950 total time=   0.0s\n",
      "[CV 5/5] END algorithm=kd_tree, n_neighbors=8, p=30;, score=0.950 total time=   0.0s\n",
      "[CV 1/5] END algorithm=kd_tree, n_neighbors=8, p=1;, score=0.950 total time=   0.0s\n",
      "[CV 2/5] END algorithm=kd_tree, n_neighbors=8, p=1;, score=1.000 total time=   0.0s\n",
      "[CV 3/5] END algorithm=kd_tree, n_neighbors=8, p=1;, score=1.000 total time=   0.0s\n",
      "[CV 4/5] END algorithm=kd_tree, n_neighbors=8, p=1;, score=0.900 total time=   0.0s\n",
      "[CV 5/5] END algorithm=kd_tree, n_neighbors=8, p=1;, score=0.950 total time=   0.0s\n",
      "[CV 1/5] END algorithm=kd_tree, n_neighbors=9, p=10;, score=0.900 total time=   0.0s\n",
      "[CV 2/5] END algorithm=kd_tree, n_neighbors=9, p=10;, score=1.000 total time=   0.0s\n",
      "[CV 3/5] END algorithm=kd_tree, n_neighbors=9, p=10;, score=1.000 total time=   0.0s\n",
      "[CV 4/5] END algorithm=kd_tree, n_neighbors=9, p=10;, score=0.900 total time=   0.0s\n",
      "[CV 5/5] END algorithm=kd_tree, n_neighbors=9, p=10;, score=0.950 total time=   0.0s\n",
      "[CV 1/5] END algorithm=kd_tree, n_neighbors=9, p=20;, score=0.900 total time=   0.0s\n",
      "[CV 2/5] END algorithm=kd_tree, n_neighbors=9, p=20;, score=1.000 total time=   0.0s\n",
      "[CV 3/5] END algorithm=kd_tree, n_neighbors=9, p=20;, score=1.000 total time=   0.0s\n",
      "[CV 4/5] END algorithm=kd_tree, n_neighbors=9, p=20;, score=0.900 total time=   0.0s\n",
      "[CV 5/5] END algorithm=kd_tree, n_neighbors=9, p=20;, score=0.950 total time=   0.0s\n",
      "[CV 1/5] END algorithm=kd_tree, n_neighbors=9, p=30;, score=0.900 total time=   0.0s\n",
      "[CV 2/5] END algorithm=kd_tree, n_neighbors=9, p=30;, score=1.000 total time=   0.0s\n",
      "[CV 3/5] END algorithm=kd_tree, n_neighbors=9, p=30;, score=1.000 total time=   0.0s\n",
      "[CV 4/5] END algorithm=kd_tree, n_neighbors=9, p=30;, score=0.900 total time=   0.0s\n",
      "[CV 5/5] END algorithm=kd_tree, n_neighbors=9, p=30;, score=0.950 total time=   0.0s\n",
      "[CV 1/5] END algorithm=kd_tree, n_neighbors=9, p=1;, score=0.950 total time=   0.0s\n",
      "[CV 2/5] END algorithm=kd_tree, n_neighbors=9, p=1;, score=1.000 total time=   0.0s\n",
      "[CV 3/5] END algorithm=kd_tree, n_neighbors=9, p=1;, score=1.000 total time=   0.0s\n",
      "[CV 4/5] END algorithm=kd_tree, n_neighbors=9, p=1;, score=0.900 total time=   0.0s\n",
      "[CV 5/5] END algorithm=kd_tree, n_neighbors=9, p=1;, score=0.950 total time=   0.0s\n",
      "[CV 1/5] END algorithm=brute, n_neighbors=1, p=10;, score=0.850 total time=   0.1s\n",
      "[CV 2/5] END algorithm=brute, n_neighbors=1, p=10;, score=1.000 total time=   0.0s\n",
      "[CV 3/5] END algorithm=brute, n_neighbors=1, p=10;, score=1.000 total time=   0.0s\n",
      "[CV 4/5] END algorithm=brute, n_neighbors=1, p=10;, score=0.900 total time=   0.0s\n",
      "[CV 5/5] END algorithm=brute, n_neighbors=1, p=10;, score=0.950 total time=   0.0s\n",
      "[CV 1/5] END algorithm=brute, n_neighbors=1, p=20;, score=0.850 total time=   0.0s\n",
      "[CV 2/5] END algorithm=brute, n_neighbors=1, p=20;, score=1.000 total time=   0.0s\n",
      "[CV 3/5] END algorithm=brute, n_neighbors=1, p=20;, score=1.000 total time=   0.0s\n",
      "[CV 4/5] END algorithm=brute, n_neighbors=1, p=20;, score=0.900 total time=   0.0s\n",
      "[CV 5/5] END algorithm=brute, n_neighbors=1, p=20;, score=0.950 total time=   0.0s\n",
      "[CV 1/5] END algorithm=brute, n_neighbors=1, p=30;, score=0.850 total time=   0.0s\n",
      "[CV 2/5] END algorithm=brute, n_neighbors=1, p=30;, score=1.000 total time=   0.0s\n",
      "[CV 3/5] END algorithm=brute, n_neighbors=1, p=30;, score=1.000 total time=   0.0s\n",
      "[CV 4/5] END algorithm=brute, n_neighbors=1, p=30;, score=0.900 total time=   0.0s\n",
      "[CV 5/5] END algorithm=brute, n_neighbors=1, p=30;, score=0.950 total time=   0.0s\n",
      "[CV 1/5] END algorithm=brute, n_neighbors=1, p=1;, score=0.800 total time=   0.0s\n",
      "[CV 2/5] END algorithm=brute, n_neighbors=1, p=1;, score=1.000 total time=   0.0s\n",
      "[CV 3/5] END algorithm=brute, n_neighbors=1, p=1;, score=1.000 total time=   0.0s\n",
      "[CV 4/5] END algorithm=brute, n_neighbors=1, p=1;, score=0.900 total time=   0.0s\n",
      "[CV 5/5] END algorithm=brute, n_neighbors=1, p=1;, score=0.950 total time=   0.0s\n",
      "[CV 1/5] END algorithm=brute, n_neighbors=2, p=10;, score=0.800 total time=   0.0s\n",
      "[CV 2/5] END algorithm=brute, n_neighbors=2, p=10;, score=1.000 total time=   0.0s\n",
      "[CV 3/5] END algorithm=brute, n_neighbors=2, p=10;, score=1.000 total time=   0.0s\n",
      "[CV 4/5] END algorithm=brute, n_neighbors=2, p=10;, score=0.900 total time=   0.0s\n",
      "[CV 5/5] END algorithm=brute, n_neighbors=2, p=10;, score=0.950 total time=   0.0s\n",
      "[CV 1/5] END algorithm=brute, n_neighbors=2, p=20;, score=0.800 total time=   0.0s\n",
      "[CV 2/5] END algorithm=brute, n_neighbors=2, p=20;, score=1.000 total time=   0.0s\n",
      "[CV 3/5] END algorithm=brute, n_neighbors=2, p=20;, score=1.000 total time=   0.0s\n",
      "[CV 4/5] END algorithm=brute, n_neighbors=2, p=20;, score=0.900 total time=   0.0s\n",
      "[CV 5/5] END algorithm=brute, n_neighbors=2, p=20;, score=0.950 total time=   0.0s\n",
      "[CV 1/5] END algorithm=brute, n_neighbors=2, p=30;, score=0.800 total time=   0.0s\n",
      "[CV 2/5] END algorithm=brute, n_neighbors=2, p=30;, score=1.000 total time=   0.0s\n",
      "[CV 3/5] END algorithm=brute, n_neighbors=2, p=30;, score=1.000 total time=   0.0s\n",
      "[CV 4/5] END algorithm=brute, n_neighbors=2, p=30;, score=0.900 total time=   0.0s\n",
      "[CV 5/5] END algorithm=brute, n_neighbors=2, p=30;, score=0.950 total time=   0.0s\n",
      "[CV 1/5] END algorithm=brute, n_neighbors=2, p=1;, score=0.800 total time=   0.0s\n",
      "[CV 2/5] END algorithm=brute, n_neighbors=2, p=1;, score=0.950 total time=   0.0s\n",
      "[CV 3/5] END algorithm=brute, n_neighbors=2, p=1;, score=1.000 total time=   0.0s\n",
      "[CV 4/5] END algorithm=brute, n_neighbors=2, p=1;, score=0.900 total time=   0.0s\n",
      "[CV 5/5] END algorithm=brute, n_neighbors=2, p=1;, score=0.950 total time=   0.0s\n",
      "[CV 1/5] END algorithm=brute, n_neighbors=3, p=10;, score=0.950 total time=   0.0s\n",
      "[CV 2/5] END algorithm=brute, n_neighbors=3, p=10;, score=1.000 total time=   0.0s\n",
      "[CV 3/5] END algorithm=brute, n_neighbors=3, p=10;, score=1.000 total time=   0.0s\n",
      "[CV 4/5] END algorithm=brute, n_neighbors=3, p=10;, score=0.900 total time=   0.0s\n",
      "[CV 5/5] END algorithm=brute, n_neighbors=3, p=10;, score=0.950 total time=   0.0s\n",
      "[CV 1/5] END algorithm=brute, n_neighbors=3, p=20;, score=0.950 total time=   0.0s\n",
      "[CV 2/5] END algorithm=brute, n_neighbors=3, p=20;, score=1.000 total time=   0.0s\n",
      "[CV 3/5] END algorithm=brute, n_neighbors=3, p=20;, score=1.000 total time=   0.0s\n",
      "[CV 4/5] END algorithm=brute, n_neighbors=3, p=20;, score=0.900 total time=   0.0s\n",
      "[CV 5/5] END algorithm=brute, n_neighbors=3, p=20;, score=0.950 total time=   0.0s\n",
      "[CV 1/5] END algorithm=brute, n_neighbors=3, p=30;, score=0.950 total time=   0.0s\n",
      "[CV 2/5] END algorithm=brute, n_neighbors=3, p=30;, score=1.000 total time=   0.0s\n",
      "[CV 3/5] END algorithm=brute, n_neighbors=3, p=30;, score=1.000 total time=   0.0s\n",
      "[CV 4/5] END algorithm=brute, n_neighbors=3, p=30;, score=0.900 total time=   0.0s\n",
      "[CV 5/5] END algorithm=brute, n_neighbors=3, p=30;, score=0.950 total time=   0.0s\n",
      "[CV 1/5] END algorithm=brute, n_neighbors=3, p=1;, score=0.950 total time=   0.0s\n",
      "[CV 2/5] END algorithm=brute, n_neighbors=3, p=1;, score=1.000 total time=   0.0s\n",
      "[CV 3/5] END algorithm=brute, n_neighbors=3, p=1;, score=1.000 total time=   0.0s\n",
      "[CV 4/5] END algorithm=brute, n_neighbors=3, p=1;, score=0.850 total time=   0.0s\n",
      "[CV 5/5] END algorithm=brute, n_neighbors=3, p=1;, score=0.950 total time=   0.0s\n",
      "[CV 1/5] END algorithm=brute, n_neighbors=4, p=10;, score=0.850 total time=   0.0s\n",
      "[CV 2/5] END algorithm=brute, n_neighbors=4, p=10;, score=1.000 total time=   0.0s\n",
      "[CV 3/5] END algorithm=brute, n_neighbors=4, p=10;, score=1.000 total time=   0.0s\n",
      "[CV 4/5] END algorithm=brute, n_neighbors=4, p=10;, score=0.850 total time=   0.0s\n",
      "[CV 5/5] END algorithm=brute, n_neighbors=4, p=10;, score=1.000 total time=   0.0s\n",
      "[CV 1/5] END algorithm=brute, n_neighbors=4, p=20;, score=0.850 total time=   0.0s\n",
      "[CV 2/5] END algorithm=brute, n_neighbors=4, p=20;, score=1.000 total time=   0.0s\n",
      "[CV 3/5] END algorithm=brute, n_neighbors=4, p=20;, score=1.000 total time=   0.0s\n",
      "[CV 4/5] END algorithm=brute, n_neighbors=4, p=20;, score=0.850 total time=   0.0s\n",
      "[CV 5/5] END algorithm=brute, n_neighbors=4, p=20;, score=1.000 total time=   0.0s\n",
      "[CV 1/5] END algorithm=brute, n_neighbors=4, p=30;, score=0.850 total time=   0.0s\n",
      "[CV 2/5] END algorithm=brute, n_neighbors=4, p=30;, score=1.000 total time=   0.0s\n",
      "[CV 3/5] END algorithm=brute, n_neighbors=4, p=30;, score=1.000 total time=   0.0s\n",
      "[CV 4/5] END algorithm=brute, n_neighbors=4, p=30;, score=0.850 total time=   0.0s\n",
      "[CV 5/5] END algorithm=brute, n_neighbors=4, p=30;, score=1.000 total time=   0.0s\n",
      "[CV 1/5] END algorithm=brute, n_neighbors=4, p=1;, score=0.900 total time=   0.0s\n",
      "[CV 2/5] END algorithm=brute, n_neighbors=4, p=1;, score=1.000 total time=   0.0s\n",
      "[CV 3/5] END algorithm=brute, n_neighbors=4, p=1;, score=1.000 total time=   0.0s\n",
      "[CV 4/5] END algorithm=brute, n_neighbors=4, p=1;, score=0.850 total time=   0.0s\n",
      "[CV 5/5] END algorithm=brute, n_neighbors=4, p=1;, score=1.000 total time=   0.0s\n",
      "[CV 1/5] END algorithm=brute, n_neighbors=5, p=10;, score=0.950 total time=   0.0s\n",
      "[CV 2/5] END algorithm=brute, n_neighbors=5, p=10;, score=1.000 total time=   0.0s\n",
      "[CV 3/5] END algorithm=brute, n_neighbors=5, p=10;, score=1.000 total time=   0.0s\n",
      "[CV 4/5] END algorithm=brute, n_neighbors=5, p=10;, score=0.900 total time=   0.0s\n",
      "[CV 5/5] END algorithm=brute, n_neighbors=5, p=10;, score=1.000 total time=   0.0s\n",
      "[CV 1/5] END algorithm=brute, n_neighbors=5, p=20;, score=0.950 total time=   0.0s\n",
      "[CV 2/5] END algorithm=brute, n_neighbors=5, p=20;, score=1.000 total time=   0.0s\n",
      "[CV 3/5] END algorithm=brute, n_neighbors=5, p=20;, score=1.000 total time=   0.0s\n",
      "[CV 4/5] END algorithm=brute, n_neighbors=5, p=20;, score=0.900 total time=   0.0s\n",
      "[CV 5/5] END algorithm=brute, n_neighbors=5, p=20;, score=1.000 total time=   0.0s\n",
      "[CV 1/5] END algorithm=brute, n_neighbors=5, p=30;, score=0.950 total time=   0.0s\n",
      "[CV 2/5] END algorithm=brute, n_neighbors=5, p=30;, score=1.000 total time=   0.0s\n",
      "[CV 3/5] END algorithm=brute, n_neighbors=5, p=30;, score=1.000 total time=   0.0s\n",
      "[CV 4/5] END algorithm=brute, n_neighbors=5, p=30;, score=0.900 total time=   0.0s\n",
      "[CV 5/5] END algorithm=brute, n_neighbors=5, p=30;, score=1.000 total time=   0.0s\n",
      "[CV 1/5] END algorithm=brute, n_neighbors=5, p=1;, score=0.950 total time=   0.0s\n",
      "[CV 2/5] END algorithm=brute, n_neighbors=5, p=1;, score=1.000 total time=   0.0s\n",
      "[CV 3/5] END algorithm=brute, n_neighbors=5, p=1;, score=1.000 total time=   0.0s\n",
      "[CV 4/5] END algorithm=brute, n_neighbors=5, p=1;, score=0.850 total time=   0.0s\n",
      "[CV 5/5] END algorithm=brute, n_neighbors=5, p=1;, score=1.000 total time=   0.0s\n",
      "[CV 1/5] END algorithm=brute, n_neighbors=6, p=10;, score=0.850 total time=   0.0s\n",
      "[CV 2/5] END algorithm=brute, n_neighbors=6, p=10;, score=1.000 total time=   0.0s\n",
      "[CV 3/5] END algorithm=brute, n_neighbors=6, p=10;, score=1.000 total time=   0.0s\n",
      "[CV 4/5] END algorithm=brute, n_neighbors=6, p=10;, score=0.900 total time=   0.0s\n",
      "[CV 5/5] END algorithm=brute, n_neighbors=6, p=10;, score=1.000 total time=   0.0s\n",
      "[CV 1/5] END algorithm=brute, n_neighbors=6, p=20;, score=0.850 total time=   0.0s\n",
      "[CV 2/5] END algorithm=brute, n_neighbors=6, p=20;, score=1.000 total time=   0.0s\n",
      "[CV 3/5] END algorithm=brute, n_neighbors=6, p=20;, score=1.000 total time=   0.0s\n",
      "[CV 4/5] END algorithm=brute, n_neighbors=6, p=20;, score=0.900 total time=   0.0s\n",
      "[CV 5/5] END algorithm=brute, n_neighbors=6, p=20;, score=1.000 total time=   0.0s\n",
      "[CV 1/5] END algorithm=brute, n_neighbors=6, p=30;, score=0.850 total time=   0.0s\n",
      "[CV 2/5] END algorithm=brute, n_neighbors=6, p=30;, score=1.000 total time=   0.0s\n",
      "[CV 3/5] END algorithm=brute, n_neighbors=6, p=30;, score=1.000 total time=   0.0s\n",
      "[CV 4/5] END algorithm=brute, n_neighbors=6, p=30;, score=0.900 total time=   0.0s\n",
      "[CV 5/5] END algorithm=brute, n_neighbors=6, p=30;, score=1.000 total time=   0.0s\n",
      "[CV 1/5] END algorithm=brute, n_neighbors=6, p=1;, score=0.950 total time=   0.0s\n",
      "[CV 2/5] END algorithm=brute, n_neighbors=6, p=1;, score=1.000 total time=   0.0s\n",
      "[CV 3/5] END algorithm=brute, n_neighbors=6, p=1;, score=1.000 total time=   0.0s\n",
      "[CV 4/5] END algorithm=brute, n_neighbors=6, p=1;, score=0.850 total time=   0.0s\n",
      "[CV 5/5] END algorithm=brute, n_neighbors=6, p=1;, score=1.000 total time=   0.0s\n",
      "[CV 1/5] END algorithm=brute, n_neighbors=7, p=10;, score=0.900 total time=   0.0s\n",
      "[CV 2/5] END algorithm=brute, n_neighbors=7, p=10;, score=1.000 total time=   0.0s\n",
      "[CV 3/5] END algorithm=brute, n_neighbors=7, p=10;, score=1.000 total time=   0.0s\n",
      "[CV 4/5] END algorithm=brute, n_neighbors=7, p=10;, score=0.900 total time=   0.0s\n",
      "[CV 5/5] END algorithm=brute, n_neighbors=7, p=10;, score=0.950 total time=   0.0s\n",
      "[CV 1/5] END algorithm=brute, n_neighbors=7, p=20;, score=0.900 total time=   0.0s\n",
      "[CV 2/5] END algorithm=brute, n_neighbors=7, p=20;, score=1.000 total time=   0.0s\n",
      "[CV 3/5] END algorithm=brute, n_neighbors=7, p=20;, score=1.000 total time=   0.0s\n",
      "[CV 4/5] END algorithm=brute, n_neighbors=7, p=20;, score=0.900 total time=   0.0s\n",
      "[CV 5/5] END algorithm=brute, n_neighbors=7, p=20;, score=0.950 total time=   0.0s\n",
      "[CV 1/5] END algorithm=brute, n_neighbors=7, p=30;, score=0.900 total time=   0.0s\n",
      "[CV 2/5] END algorithm=brute, n_neighbors=7, p=30;, score=1.000 total time=   0.0s\n",
      "[CV 3/5] END algorithm=brute, n_neighbors=7, p=30;, score=1.000 total time=   0.0s\n",
      "[CV 4/5] END algorithm=brute, n_neighbors=7, p=30;, score=0.900 total time=   0.0s\n",
      "[CV 5/5] END algorithm=brute, n_neighbors=7, p=30;, score=0.950 total time=   0.0s\n",
      "[CV 1/5] END algorithm=brute, n_neighbors=7, p=1;, score=0.950 total time=   0.0s\n",
      "[CV 2/5] END algorithm=brute, n_neighbors=7, p=1;, score=1.000 total time=   0.0s\n",
      "[CV 3/5] END algorithm=brute, n_neighbors=7, p=1;, score=1.000 total time=   0.0s\n",
      "[CV 4/5] END algorithm=brute, n_neighbors=7, p=1;, score=0.850 total time=   0.0s\n",
      "[CV 5/5] END algorithm=brute, n_neighbors=7, p=1;, score=0.950 total time=   0.0s\n",
      "[CV 1/5] END algorithm=brute, n_neighbors=8, p=10;, score=0.900 total time=   0.0s\n",
      "[CV 2/5] END algorithm=brute, n_neighbors=8, p=10;, score=1.000 total time=   0.0s\n",
      "[CV 3/5] END algorithm=brute, n_neighbors=8, p=10;, score=1.000 total time=   0.0s\n",
      "[CV 4/5] END algorithm=brute, n_neighbors=8, p=10;, score=0.950 total time=   0.0s\n",
      "[CV 5/5] END algorithm=brute, n_neighbors=8, p=10;, score=0.950 total time=   0.0s\n",
      "[CV 1/5] END algorithm=brute, n_neighbors=8, p=20;, score=0.900 total time=   0.0s\n",
      "[CV 2/5] END algorithm=brute, n_neighbors=8, p=20;, score=1.000 total time=   0.0s\n",
      "[CV 3/5] END algorithm=brute, n_neighbors=8, p=20;, score=1.000 total time=   0.0s\n",
      "[CV 4/5] END algorithm=brute, n_neighbors=8, p=20;, score=0.950 total time=   0.0s\n",
      "[CV 5/5] END algorithm=brute, n_neighbors=8, p=20;, score=0.950 total time=   0.0s\n",
      "[CV 1/5] END algorithm=brute, n_neighbors=8, p=30;, score=0.900 total time=   0.0s\n",
      "[CV 2/5] END algorithm=brute, n_neighbors=8, p=30;, score=1.000 total time=   0.0s\n",
      "[CV 3/5] END algorithm=brute, n_neighbors=8, p=30;, score=1.000 total time=   0.0s\n",
      "[CV 4/5] END algorithm=brute, n_neighbors=8, p=30;, score=0.950 total time=   0.0s\n",
      "[CV 5/5] END algorithm=brute, n_neighbors=8, p=30;, score=0.950 total time=   0.0s\n",
      "[CV 1/5] END algorithm=brute, n_neighbors=8, p=1;, score=0.950 total time=   0.0s\n",
      "[CV 2/5] END algorithm=brute, n_neighbors=8, p=1;, score=1.000 total time=   0.0s\n",
      "[CV 3/5] END algorithm=brute, n_neighbors=8, p=1;, score=1.000 total time=   0.0s\n",
      "[CV 4/5] END algorithm=brute, n_neighbors=8, p=1;, score=0.900 total time=   0.0s\n",
      "[CV 5/5] END algorithm=brute, n_neighbors=8, p=1;, score=0.950 total time=   0.0s\n",
      "[CV 1/5] END algorithm=brute, n_neighbors=9, p=10;, score=0.900 total time=   0.0s\n",
      "[CV 2/5] END algorithm=brute, n_neighbors=9, p=10;, score=1.000 total time=   0.0s\n",
      "[CV 3/5] END algorithm=brute, n_neighbors=9, p=10;, score=1.000 total time=   0.0s\n",
      "[CV 4/5] END algorithm=brute, n_neighbors=9, p=10;, score=0.900 total time=   0.0s\n",
      "[CV 5/5] END algorithm=brute, n_neighbors=9, p=10;, score=0.950 total time=   0.0s\n",
      "[CV 1/5] END algorithm=brute, n_neighbors=9, p=20;, score=0.900 total time=   0.0s\n",
      "[CV 2/5] END algorithm=brute, n_neighbors=9, p=20;, score=1.000 total time=   0.0s\n",
      "[CV 3/5] END algorithm=brute, n_neighbors=9, p=20;, score=1.000 total time=   0.0s\n",
      "[CV 4/5] END algorithm=brute, n_neighbors=9, p=20;, score=0.900 total time=   0.0s\n",
      "[CV 5/5] END algorithm=brute, n_neighbors=9, p=20;, score=0.950 total time=   0.0s\n",
      "[CV 1/5] END algorithm=brute, n_neighbors=9, p=30;, score=0.900 total time=   0.0s\n",
      "[CV 2/5] END algorithm=brute, n_neighbors=9, p=30;, score=1.000 total time=   0.0s\n",
      "[CV 3/5] END algorithm=brute, n_neighbors=9, p=30;, score=1.000 total time=   0.0s\n",
      "[CV 4/5] END algorithm=brute, n_neighbors=9, p=30;, score=0.900 total time=   0.0s\n",
      "[CV 5/5] END algorithm=brute, n_neighbors=9, p=30;, score=0.950 total time=   0.0s\n",
      "[CV 1/5] END algorithm=brute, n_neighbors=9, p=1;, score=0.950 total time=   0.0s\n",
      "[CV 2/5] END algorithm=brute, n_neighbors=9, p=1;, score=1.000 total time=   0.0s\n",
      "[CV 3/5] END algorithm=brute, n_neighbors=9, p=1;, score=1.000 total time=   0.0s\n",
      "[CV 4/5] END algorithm=brute, n_neighbors=9, p=1;, score=0.900 total time=   0.0s\n",
      "[CV 5/5] END algorithm=brute, n_neighbors=9, p=1;, score=0.950 total time=   0.0s\n"
     ]
    },
    {
     "data": {
      "text/html": [
       "<style>#sk-container-id-4 {color: black;background-color: white;}#sk-container-id-4 pre{padding: 0;}#sk-container-id-4 div.sk-toggleable {background-color: white;}#sk-container-id-4 label.sk-toggleable__label {cursor: pointer;display: block;width: 100%;margin-bottom: 0;padding: 0.3em;box-sizing: border-box;text-align: center;}#sk-container-id-4 label.sk-toggleable__label-arrow:before {content: \"▸\";float: left;margin-right: 0.25em;color: #696969;}#sk-container-id-4 label.sk-toggleable__label-arrow:hover:before {color: black;}#sk-container-id-4 div.sk-estimator:hover label.sk-toggleable__label-arrow:before {color: black;}#sk-container-id-4 div.sk-toggleable__content {max-height: 0;max-width: 0;overflow: hidden;text-align: left;background-color: #f0f8ff;}#sk-container-id-4 div.sk-toggleable__content pre {margin: 0.2em;color: black;border-radius: 0.25em;background-color: #f0f8ff;}#sk-container-id-4 input.sk-toggleable__control:checked~div.sk-toggleable__content {max-height: 200px;max-width: 100%;overflow: auto;}#sk-container-id-4 input.sk-toggleable__control:checked~label.sk-toggleable__label-arrow:before {content: \"▾\";}#sk-container-id-4 div.sk-estimator input.sk-toggleable__control:checked~label.sk-toggleable__label {background-color: #d4ebff;}#sk-container-id-4 div.sk-label input.sk-toggleable__control:checked~label.sk-toggleable__label {background-color: #d4ebff;}#sk-container-id-4 input.sk-hidden--visually {border: 0;clip: rect(1px 1px 1px 1px);clip: rect(1px, 1px, 1px, 1px);height: 1px;margin: -1px;overflow: hidden;padding: 0;position: absolute;width: 1px;}#sk-container-id-4 div.sk-estimator {font-family: monospace;background-color: #f0f8ff;border: 1px dotted black;border-radius: 0.25em;box-sizing: border-box;margin-bottom: 0.5em;}#sk-container-id-4 div.sk-estimator:hover {background-color: #d4ebff;}#sk-container-id-4 div.sk-parallel-item::after {content: \"\";width: 100%;border-bottom: 1px solid gray;flex-grow: 1;}#sk-container-id-4 div.sk-label:hover label.sk-toggleable__label {background-color: #d4ebff;}#sk-container-id-4 div.sk-serial::before {content: \"\";position: absolute;border-left: 1px solid gray;box-sizing: border-box;top: 0;bottom: 0;left: 50%;z-index: 0;}#sk-container-id-4 div.sk-serial {display: flex;flex-direction: column;align-items: center;background-color: white;padding-right: 0.2em;padding-left: 0.2em;position: relative;}#sk-container-id-4 div.sk-item {position: relative;z-index: 1;}#sk-container-id-4 div.sk-parallel {display: flex;align-items: stretch;justify-content: center;background-color: white;position: relative;}#sk-container-id-4 div.sk-item::before, #sk-container-id-4 div.sk-parallel-item::before {content: \"\";position: absolute;border-left: 1px solid gray;box-sizing: border-box;top: 0;bottom: 0;left: 50%;z-index: -1;}#sk-container-id-4 div.sk-parallel-item {display: flex;flex-direction: column;z-index: 1;position: relative;background-color: white;}#sk-container-id-4 div.sk-parallel-item:first-child::after {align-self: flex-end;width: 50%;}#sk-container-id-4 div.sk-parallel-item:last-child::after {align-self: flex-start;width: 50%;}#sk-container-id-4 div.sk-parallel-item:only-child::after {width: 0;}#sk-container-id-4 div.sk-dashed-wrapped {border: 1px dashed gray;margin: 0 0.4em 0.5em 0.4em;box-sizing: border-box;padding-bottom: 0.4em;background-color: white;}#sk-container-id-4 div.sk-label label {font-family: monospace;font-weight: bold;display: inline-block;line-height: 1.2em;}#sk-container-id-4 div.sk-label-container {text-align: center;}#sk-container-id-4 div.sk-container {/* jupyter's `normalize.less` sets `[hidden] { display: none; }` but bootstrap.min.css set `[hidden] { display: none !important; }` so we also need the `!important` here to be able to override the default hidden behavior on the sphinx rendered scikit-learn.org. See: https://github.com/scikit-learn/scikit-learn/issues/21755 */display: inline-block !important;position: relative;}#sk-container-id-4 div.sk-text-repr-fallback {display: none;}</style><div id=\"sk-container-id-4\" class=\"sk-top-container\"><div class=\"sk-text-repr-fallback\"><pre>GridSearchCV(estimator=KNeighborsClassifier(n_jobs=1),\n",
       "             param_grid={&#x27;algorithm&#x27;: [&#x27;ball_tree&#x27;, &#x27;kd_tree&#x27;, &#x27;brute&#x27;],\n",
       "                         &#x27;n_neighbors&#x27;: [1, 2, 3, 4, 5, 6, 7, 8, 9],\n",
       "                         &#x27;p&#x27;: [10, 20, 30, 1]},\n",
       "             verbose=3)</pre><b>In a Jupyter environment, please rerun this cell to show the HTML representation or trust the notebook. <br />On GitHub, the HTML representation is unable to render, please try loading this page with nbviewer.org.</b></div><div class=\"sk-container\" hidden><div class=\"sk-item sk-dashed-wrapped\"><div class=\"sk-label-container\"><div class=\"sk-label sk-toggleable\"><input class=\"sk-toggleable__control sk-hidden--visually\" id=\"sk-estimator-id-6\" type=\"checkbox\" ><label for=\"sk-estimator-id-6\" class=\"sk-toggleable__label sk-toggleable__label-arrow\">GridSearchCV</label><div class=\"sk-toggleable__content\"><pre>GridSearchCV(estimator=KNeighborsClassifier(n_jobs=1),\n",
       "             param_grid={&#x27;algorithm&#x27;: [&#x27;ball_tree&#x27;, &#x27;kd_tree&#x27;, &#x27;brute&#x27;],\n",
       "                         &#x27;n_neighbors&#x27;: [1, 2, 3, 4, 5, 6, 7, 8, 9],\n",
       "                         &#x27;p&#x27;: [10, 20, 30, 1]},\n",
       "             verbose=3)</pre></div></div></div><div class=\"sk-parallel\"><div class=\"sk-parallel-item\"><div class=\"sk-item\"><div class=\"sk-label-container\"><div class=\"sk-label sk-toggleable\"><input class=\"sk-toggleable__control sk-hidden--visually\" id=\"sk-estimator-id-7\" type=\"checkbox\" ><label for=\"sk-estimator-id-7\" class=\"sk-toggleable__label sk-toggleable__label-arrow\">estimator: KNeighborsClassifier</label><div class=\"sk-toggleable__content\"><pre>KNeighborsClassifier(n_jobs=1)</pre></div></div></div><div class=\"sk-serial\"><div class=\"sk-item\"><div class=\"sk-estimator sk-toggleable\"><input class=\"sk-toggleable__control sk-hidden--visually\" id=\"sk-estimator-id-8\" type=\"checkbox\" ><label for=\"sk-estimator-id-8\" class=\"sk-toggleable__label sk-toggleable__label-arrow\">KNeighborsClassifier</label><div class=\"sk-toggleable__content\"><pre>KNeighborsClassifier(n_jobs=1)</pre></div></div></div></div></div></div></div></div></div></div>"
      ],
      "text/plain": [
       "GridSearchCV(estimator=KNeighborsClassifier(n_jobs=1),\n",
       "             param_grid={'algorithm': ['ball_tree', 'kd_tree', 'brute'],\n",
       "                         'n_neighbors': [1, 2, 3, 4, 5, 6, 7, 8, 9],\n",
       "                         'p': [10, 20, 30, 1]},\n",
       "             verbose=3)"
      ]
     },
     "execution_count": 32,
     "metadata": {},
     "output_type": "execute_result"
    }
   ],
   "source": [
    "cv.fit(X_train,y_train)"
   ]
  },
  {
   "cell_type": "code",
   "execution_count": 33,
   "id": "3c8ca5ac-fc08-4626-b630-d9c5ead980e8",
   "metadata": {},
   "outputs": [],
   "source": [
    "y_pred1=cv.predict(X_test)"
   ]
  },
  {
   "cell_type": "code",
   "execution_count": 34,
   "id": "ee5c4411-d34e-432e-9de7-6a9ce9de3023",
   "metadata": {},
   "outputs": [
    {
     "data": {
      "text/plain": [
       "{'algorithm': 'ball_tree', 'n_neighbors': 5, 'p': 10}"
      ]
     },
     "execution_count": 34,
     "metadata": {},
     "output_type": "execute_result"
    }
   ],
   "source": [
    "cv.best_params_"
   ]
  },
  {
   "cell_type": "code",
   "execution_count": 35,
   "id": "04f719d9-8a0d-4c96-a867-675c9316637a",
   "metadata": {},
   "outputs": [],
   "source": [
    "classifier=KNeighborsClassifier(algorithm='ball_tree',n_neighbors=5,p=10)"
   ]
  },
  {
   "cell_type": "code",
   "execution_count": 36,
   "id": "4d2c7ecd-b54d-4567-a354-21e27f95b474",
   "metadata": {},
   "outputs": [
    {
     "data": {
      "text/html": [
       "<style>#sk-container-id-5 {color: black;background-color: white;}#sk-container-id-5 pre{padding: 0;}#sk-container-id-5 div.sk-toggleable {background-color: white;}#sk-container-id-5 label.sk-toggleable__label {cursor: pointer;display: block;width: 100%;margin-bottom: 0;padding: 0.3em;box-sizing: border-box;text-align: center;}#sk-container-id-5 label.sk-toggleable__label-arrow:before {content: \"▸\";float: left;margin-right: 0.25em;color: #696969;}#sk-container-id-5 label.sk-toggleable__label-arrow:hover:before {color: black;}#sk-container-id-5 div.sk-estimator:hover label.sk-toggleable__label-arrow:before {color: black;}#sk-container-id-5 div.sk-toggleable__content {max-height: 0;max-width: 0;overflow: hidden;text-align: left;background-color: #f0f8ff;}#sk-container-id-5 div.sk-toggleable__content pre {margin: 0.2em;color: black;border-radius: 0.25em;background-color: #f0f8ff;}#sk-container-id-5 input.sk-toggleable__control:checked~div.sk-toggleable__content {max-height: 200px;max-width: 100%;overflow: auto;}#sk-container-id-5 input.sk-toggleable__control:checked~label.sk-toggleable__label-arrow:before {content: \"▾\";}#sk-container-id-5 div.sk-estimator input.sk-toggleable__control:checked~label.sk-toggleable__label {background-color: #d4ebff;}#sk-container-id-5 div.sk-label input.sk-toggleable__control:checked~label.sk-toggleable__label {background-color: #d4ebff;}#sk-container-id-5 input.sk-hidden--visually {border: 0;clip: rect(1px 1px 1px 1px);clip: rect(1px, 1px, 1px, 1px);height: 1px;margin: -1px;overflow: hidden;padding: 0;position: absolute;width: 1px;}#sk-container-id-5 div.sk-estimator {font-family: monospace;background-color: #f0f8ff;border: 1px dotted black;border-radius: 0.25em;box-sizing: border-box;margin-bottom: 0.5em;}#sk-container-id-5 div.sk-estimator:hover {background-color: #d4ebff;}#sk-container-id-5 div.sk-parallel-item::after {content: \"\";width: 100%;border-bottom: 1px solid gray;flex-grow: 1;}#sk-container-id-5 div.sk-label:hover label.sk-toggleable__label {background-color: #d4ebff;}#sk-container-id-5 div.sk-serial::before {content: \"\";position: absolute;border-left: 1px solid gray;box-sizing: border-box;top: 0;bottom: 0;left: 50%;z-index: 0;}#sk-container-id-5 div.sk-serial {display: flex;flex-direction: column;align-items: center;background-color: white;padding-right: 0.2em;padding-left: 0.2em;position: relative;}#sk-container-id-5 div.sk-item {position: relative;z-index: 1;}#sk-container-id-5 div.sk-parallel {display: flex;align-items: stretch;justify-content: center;background-color: white;position: relative;}#sk-container-id-5 div.sk-item::before, #sk-container-id-5 div.sk-parallel-item::before {content: \"\";position: absolute;border-left: 1px solid gray;box-sizing: border-box;top: 0;bottom: 0;left: 50%;z-index: -1;}#sk-container-id-5 div.sk-parallel-item {display: flex;flex-direction: column;z-index: 1;position: relative;background-color: white;}#sk-container-id-5 div.sk-parallel-item:first-child::after {align-self: flex-end;width: 50%;}#sk-container-id-5 div.sk-parallel-item:last-child::after {align-self: flex-start;width: 50%;}#sk-container-id-5 div.sk-parallel-item:only-child::after {width: 0;}#sk-container-id-5 div.sk-dashed-wrapped {border: 1px dashed gray;margin: 0 0.4em 0.5em 0.4em;box-sizing: border-box;padding-bottom: 0.4em;background-color: white;}#sk-container-id-5 div.sk-label label {font-family: monospace;font-weight: bold;display: inline-block;line-height: 1.2em;}#sk-container-id-5 div.sk-label-container {text-align: center;}#sk-container-id-5 div.sk-container {/* jupyter's `normalize.less` sets `[hidden] { display: none; }` but bootstrap.min.css set `[hidden] { display: none !important; }` so we also need the `!important` here to be able to override the default hidden behavior on the sphinx rendered scikit-learn.org. See: https://github.com/scikit-learn/scikit-learn/issues/21755 */display: inline-block !important;position: relative;}#sk-container-id-5 div.sk-text-repr-fallback {display: none;}</style><div id=\"sk-container-id-5\" class=\"sk-top-container\"><div class=\"sk-text-repr-fallback\"><pre>KNeighborsClassifier(algorithm=&#x27;ball_tree&#x27;, p=10)</pre><b>In a Jupyter environment, please rerun this cell to show the HTML representation or trust the notebook. <br />On GitHub, the HTML representation is unable to render, please try loading this page with nbviewer.org.</b></div><div class=\"sk-container\" hidden><div class=\"sk-item\"><div class=\"sk-estimator sk-toggleable\"><input class=\"sk-toggleable__control sk-hidden--visually\" id=\"sk-estimator-id-9\" type=\"checkbox\" checked><label for=\"sk-estimator-id-9\" class=\"sk-toggleable__label sk-toggleable__label-arrow\">KNeighborsClassifier</label><div class=\"sk-toggleable__content\"><pre>KNeighborsClassifier(algorithm=&#x27;ball_tree&#x27;, p=10)</pre></div></div></div></div></div>"
      ],
      "text/plain": [
       "KNeighborsClassifier(algorithm='ball_tree', p=10)"
      ]
     },
     "execution_count": 36,
     "metadata": {},
     "output_type": "execute_result"
    }
   ],
   "source": [
    "classifier.fit(X_train,y_train)"
   ]
  },
  {
   "cell_type": "code",
   "execution_count": 37,
   "id": "2be820fd-f98c-43ae-9659-4fe92aedad02",
   "metadata": {},
   "outputs": [],
   "source": [
    "y_pred_new=classifier.predict(X_test)"
   ]
  },
  {
   "cell_type": "code",
   "execution_count": 41,
   "id": "ed6e111c-0ac7-4aa6-bd20-82dc3c9cb872",
   "metadata": {},
   "outputs": [
    {
     "name": "stdout",
     "output_type": "stream",
     "text": [
      "0.98\n",
      "[[16  0  0]\n",
      " [ 0 18  1]\n",
      " [ 0  0 15]]\n",
      "              precision    recall  f1-score   support\n",
      "\n",
      "           0       1.00      1.00      1.00        16\n",
      "           1       1.00      0.95      0.97        19\n",
      "           2       0.94      1.00      0.97        15\n",
      "\n",
      "    accuracy                           0.98        50\n",
      "   macro avg       0.98      0.98      0.98        50\n",
      "weighted avg       0.98      0.98      0.98        50\n",
      "\n"
     ]
    }
   ],
   "source": [
    "# Ans 1:\n",
    "print(accuracy_score(y_test,y_pred_new))\n",
    "print(confusion_matrix(y_test,y_pred_new))\n",
    "print(classification_report(y_test,y_pred_new))\n",
    "## accuracy is almost same "
   ]
  },
  {
   "cell_type": "code",
   "execution_count": 42,
   "id": "fc5a4a6d-77da-436b-b48e-ab6b64da88bd",
   "metadata": {},
   "outputs": [
    {
     "ename": "ImportError",
     "evalue": "\n`load_boston` has been removed from scikit-learn since version 1.2.\n\nThe Boston housing prices dataset has an ethical problem: as\ninvestigated in [1], the authors of this dataset engineered a\nnon-invertible variable \"B\" assuming that racial self-segregation had a\npositive impact on house prices [2]. Furthermore the goal of the\nresearch that led to the creation of this dataset was to study the\nimpact of air quality but it did not give adequate demonstration of the\nvalidity of this assumption.\n\nThe scikit-learn maintainers therefore strongly discourage the use of\nthis dataset unless the purpose of the code is to study and educate\nabout ethical issues in data science and machine learning.\n\nIn this special case, you can fetch the dataset from the original\nsource::\n\n    import pandas as pd\n    import numpy as np\n\n    data_url = \"http://lib.stat.cmu.edu/datasets/boston\"\n    raw_df = pd.read_csv(data_url, sep=\"\\s+\", skiprows=22, header=None)\n    data = np.hstack([raw_df.values[::2, :], raw_df.values[1::2, :2]])\n    target = raw_df.values[1::2, 2]\n\nAlternative datasets include the California housing dataset and the\nAmes housing dataset. You can load the datasets as follows::\n\n    from sklearn.datasets import fetch_california_housing\n    housing = fetch_california_housing()\n\nfor the California housing dataset and::\n\n    from sklearn.datasets import fetch_openml\n    housing = fetch_openml(name=\"house_prices\", as_frame=True)\n\nfor the Ames housing dataset.\n\n[1] M Carlisle.\n\"Racist data destruction?\"\n<https://medium.com/@docintangible/racist-data-destruction-113e3eff54a8>\n\n[2] Harrison Jr, David, and Daniel L. Rubinfeld.\n\"Hedonic housing prices and the demand for clean air.\"\nJournal of environmental economics and management 5.1 (1978): 81-102.\n<https://www.researchgate.net/publication/4974606_Hedonic_housing_prices_and_the_demand_for_clean_air>\n",
     "output_type": "error",
     "traceback": [
      "\u001b[0;31m---------------------------------------------------------------------------\u001b[0m",
      "\u001b[0;31mImportError\u001b[0m                               Traceback (most recent call last)",
      "Cell \u001b[0;32mIn[42], line 1\u001b[0m\n\u001b[0;32m----> 1\u001b[0m \u001b[38;5;28;01mfrom\u001b[39;00m \u001b[38;5;21;01msklearn\u001b[39;00m\u001b[38;5;21;01m.\u001b[39;00m\u001b[38;5;21;01mdatasets\u001b[39;00m \u001b[38;5;28;01mimport\u001b[39;00m load_boston\n",
      "File \u001b[0;32m/opt/conda/lib/python3.10/site-packages/sklearn/datasets/__init__.py:156\u001b[0m, in \u001b[0;36m__getattr__\u001b[0;34m(name)\u001b[0m\n\u001b[1;32m    105\u001b[0m \u001b[38;5;28;01mif\u001b[39;00m name \u001b[38;5;241m==\u001b[39m \u001b[38;5;124m\"\u001b[39m\u001b[38;5;124mload_boston\u001b[39m\u001b[38;5;124m\"\u001b[39m:\n\u001b[1;32m    106\u001b[0m     msg \u001b[38;5;241m=\u001b[39m textwrap\u001b[38;5;241m.\u001b[39mdedent(\n\u001b[1;32m    107\u001b[0m         \u001b[38;5;124;03m\"\"\"\u001b[39;00m\n\u001b[1;32m    108\u001b[0m \u001b[38;5;124;03m        `load_boston` has been removed from scikit-learn since version 1.2.\u001b[39;00m\n\u001b[0;32m   (...)\u001b[0m\n\u001b[1;32m    154\u001b[0m \u001b[38;5;124;03m        \"\"\"\u001b[39;00m\n\u001b[1;32m    155\u001b[0m     )\n\u001b[0;32m--> 156\u001b[0m     \u001b[38;5;28;01mraise\u001b[39;00m \u001b[38;5;167;01mImportError\u001b[39;00m(msg)\n\u001b[1;32m    157\u001b[0m \u001b[38;5;28;01mtry\u001b[39;00m:\n\u001b[1;32m    158\u001b[0m     \u001b[38;5;28;01mreturn\u001b[39;00m \u001b[38;5;28mglobals\u001b[39m()[name]\n",
      "\u001b[0;31mImportError\u001b[0m: \n`load_boston` has been removed from scikit-learn since version 1.2.\n\nThe Boston housing prices dataset has an ethical problem: as\ninvestigated in [1], the authors of this dataset engineered a\nnon-invertible variable \"B\" assuming that racial self-segregation had a\npositive impact on house prices [2]. Furthermore the goal of the\nresearch that led to the creation of this dataset was to study the\nimpact of air quality but it did not give adequate demonstration of the\nvalidity of this assumption.\n\nThe scikit-learn maintainers therefore strongly discourage the use of\nthis dataset unless the purpose of the code is to study and educate\nabout ethical issues in data science and machine learning.\n\nIn this special case, you can fetch the dataset from the original\nsource::\n\n    import pandas as pd\n    import numpy as np\n\n    data_url = \"http://lib.stat.cmu.edu/datasets/boston\"\n    raw_df = pd.read_csv(data_url, sep=\"\\s+\", skiprows=22, header=None)\n    data = np.hstack([raw_df.values[::2, :], raw_df.values[1::2, :2]])\n    target = raw_df.values[1::2, 2]\n\nAlternative datasets include the California housing dataset and the\nAmes housing dataset. You can load the datasets as follows::\n\n    from sklearn.datasets import fetch_california_housing\n    housing = fetch_california_housing()\n\nfor the California housing dataset and::\n\n    from sklearn.datasets import fetch_openml\n    housing = fetch_openml(name=\"house_prices\", as_frame=True)\n\nfor the Ames housing dataset.\n\n[1] M Carlisle.\n\"Racist data destruction?\"\n<https://medium.com/@docintangible/racist-data-destruction-113e3eff54a8>\n\n[2] Harrison Jr, David, and Daniel L. Rubinfeld.\n\"Hedonic housing prices and the demand for clean air.\"\nJournal of environmental economics and management 5.1 (1978): 81-102.\n<https://www.researchgate.net/publication/4974606_Hedonic_housing_prices_and_the_demand_for_clean_air>\n"
     ]
    }
   ],
   "source": [
    "from sklearn.datasets import load_boston"
   ]
  },
  {
   "cell_type": "code",
   "execution_count": 45,
   "id": "45f3df4c-50d3-450d-9156-3443adde181e",
   "metadata": {},
   "outputs": [
    {
     "name": "stdout",
     "output_type": "stream",
     "text": [
      "Collecting sklearn\n",
      "  Downloading sklearn-0.0.post4.tar.gz (3.6 kB)\n",
      "  Preparing metadata (setup.py) ... \u001b[?25lerror\n",
      "  \u001b[1;31merror\u001b[0m: \u001b[1msubprocess-exited-with-error\u001b[0m\n",
      "  \n",
      "  \u001b[31m×\u001b[0m \u001b[32mpython setup.py egg_info\u001b[0m did not run successfully.\n",
      "  \u001b[31m│\u001b[0m exit code: \u001b[1;36m1\u001b[0m\n",
      "  \u001b[31m╰─>\u001b[0m \u001b[31m[18 lines of output]\u001b[0m\n",
      "  \u001b[31m   \u001b[0m The 'sklearn' PyPI package is deprecated, use 'scikit-learn'\n",
      "  \u001b[31m   \u001b[0m rather than 'sklearn' for pip commands.\n",
      "  \u001b[31m   \u001b[0m \n",
      "  \u001b[31m   \u001b[0m Here is how to fix this error in the main use cases:\n",
      "  \u001b[31m   \u001b[0m - use 'pip install scikit-learn' rather than 'pip install sklearn'\n",
      "  \u001b[31m   \u001b[0m - replace 'sklearn' by 'scikit-learn' in your pip requirements files\n",
      "  \u001b[31m   \u001b[0m   (requirements.txt, setup.py, setup.cfg, Pipfile, etc ...)\n",
      "  \u001b[31m   \u001b[0m - if the 'sklearn' package is used by one of your dependencies,\n",
      "  \u001b[31m   \u001b[0m   it would be great if you take some time to track which package uses\n",
      "  \u001b[31m   \u001b[0m   'sklearn' instead of 'scikit-learn' and report it to their issue tracker\n",
      "  \u001b[31m   \u001b[0m - as a last resort, set the environment variable\n",
      "  \u001b[31m   \u001b[0m   SKLEARN_ALLOW_DEPRECATED_SKLEARN_PACKAGE_INSTALL=True to avoid this error\n",
      "  \u001b[31m   \u001b[0m \n",
      "  \u001b[31m   \u001b[0m More information is available at\n",
      "  \u001b[31m   \u001b[0m https://github.com/scikit-learn/sklearn-pypi-package\n",
      "  \u001b[31m   \u001b[0m \n",
      "  \u001b[31m   \u001b[0m If the previous advice does not cover your use case, feel free to report it at\n",
      "  \u001b[31m   \u001b[0m https://github.com/scikit-learn/sklearn-pypi-package/issues/new\n",
      "  \u001b[31m   \u001b[0m \u001b[31m[end of output]\u001b[0m\n",
      "  \n",
      "  \u001b[1;35mnote\u001b[0m: This error originates from a subprocess, and is likely not a problem with pip.\n",
      "\u001b[1;31merror\u001b[0m: \u001b[1mmetadata-generation-failed\u001b[0m\n",
      "\n",
      "\u001b[31m×\u001b[0m Encountered error while generating package metadata.\n",
      "\u001b[31m╰─>\u001b[0m See above for output.\n",
      "\n",
      "\u001b[1;35mnote\u001b[0m: This is an issue with the package mentioned above, not pip.\n",
      "\u001b[1;36mhint\u001b[0m: See above for details.\n",
      "\u001b[?25hNote: you may need to restart the kernel to use updated packages.\n"
     ]
    }
   ],
   "source": [
    "pip install sklearn import datasets"
   ]
  },
  {
   "cell_type": "code",
   "execution_count": 47,
   "id": "91b85b65-8e59-46f7-b9ee-487225f8506b",
   "metadata": {},
   "outputs": [],
   "source": [
    "from sklearn.datasets import fetch_california_housing"
   ]
  },
  {
   "cell_type": "code",
   "execution_count": 48,
   "id": "ab2b193a-85da-4bb5-974a-8f618bf2f043",
   "metadata": {},
   "outputs": [],
   "source": [
    "dataset1=fetch_california_housing()"
   ]
  },
  {
   "cell_type": "code",
   "execution_count": 51,
   "id": "87066ced-a984-45f9-9db6-e8b86d66d06d",
   "metadata": {},
   "outputs": [
    {
     "data": {
      "text/plain": [
       "'.. _california_housing_dataset:\\n\\nCalifornia Housing dataset\\n--------------------------\\n\\n**Data Set Characteristics:**\\n\\n    :Number of Instances: 20640\\n\\n    :Number of Attributes: 8 numeric, predictive attributes and the target\\n\\n    :Attribute Information:\\n        - MedInc        median income in block group\\n        - HouseAge      median house age in block group\\n        - AveRooms      average number of rooms per household\\n        - AveBedrms     average number of bedrooms per household\\n        - Population    block group population\\n        - AveOccup      average number of household members\\n        - Latitude      block group latitude\\n        - Longitude     block group longitude\\n\\n    :Missing Attribute Values: None\\n\\nThis dataset was obtained from the StatLib repository.\\nhttps://www.dcc.fc.up.pt/~ltorgo/Regression/cal_housing.html\\n\\nThe target variable is the median house value for California districts,\\nexpressed in hundreds of thousands of dollars ($100,000).\\n\\nThis dataset was derived from the 1990 U.S. census, using one row per census\\nblock group. A block group is the smallest geographical unit for which the U.S.\\nCensus Bureau publishes sample data (a block group typically has a population\\nof 600 to 3,000 people).\\n\\nAn household is a group of people residing within a home. Since the average\\nnumber of rooms and bedrooms in this dataset are provided per household, these\\ncolumns may take surpinsingly large values for block groups with few households\\nand many empty houses, such as vacation resorts.\\n\\nIt can be downloaded/loaded using the\\n:func:`sklearn.datasets.fetch_california_housing` function.\\n\\n.. topic:: References\\n\\n    - Pace, R. Kelley and Ronald Barry, Sparse Spatial Autoregressions,\\n      Statistics and Probability Letters, 33 (1997) 291-297\\n'"
      ]
     },
     "execution_count": 51,
     "metadata": {},
     "output_type": "execute_result"
    }
   ],
   "source": [
    "dataset1.DESCR"
   ]
  },
  {
   "cell_type": "code",
   "execution_count": 52,
   "id": "fe7f36d4-d7f5-41d0-99ea-d58459b4c7e9",
   "metadata": {},
   "outputs": [],
   "source": [
    "df1=pd.DataFrame(dataset1.data,columns=dataset1.feature_names)"
   ]
  },
  {
   "cell_type": "code",
   "execution_count": 53,
   "id": "adbb2262-bb3d-4f1f-b545-939a4899b9a7",
   "metadata": {},
   "outputs": [
    {
     "data": {
      "text/html": [
       "<div>\n",
       "<style scoped>\n",
       "    .dataframe tbody tr th:only-of-type {\n",
       "        vertical-align: middle;\n",
       "    }\n",
       "\n",
       "    .dataframe tbody tr th {\n",
       "        vertical-align: top;\n",
       "    }\n",
       "\n",
       "    .dataframe thead th {\n",
       "        text-align: right;\n",
       "    }\n",
       "</style>\n",
       "<table border=\"1\" class=\"dataframe\">\n",
       "  <thead>\n",
       "    <tr style=\"text-align: right;\">\n",
       "      <th></th>\n",
       "      <th>MedInc</th>\n",
       "      <th>HouseAge</th>\n",
       "      <th>AveRooms</th>\n",
       "      <th>AveBedrms</th>\n",
       "      <th>Population</th>\n",
       "      <th>AveOccup</th>\n",
       "      <th>Latitude</th>\n",
       "      <th>Longitude</th>\n",
       "    </tr>\n",
       "  </thead>\n",
       "  <tbody>\n",
       "    <tr>\n",
       "      <th>0</th>\n",
       "      <td>8.3252</td>\n",
       "      <td>41.0</td>\n",
       "      <td>6.984127</td>\n",
       "      <td>1.023810</td>\n",
       "      <td>322.0</td>\n",
       "      <td>2.555556</td>\n",
       "      <td>37.88</td>\n",
       "      <td>-122.23</td>\n",
       "    </tr>\n",
       "    <tr>\n",
       "      <th>1</th>\n",
       "      <td>8.3014</td>\n",
       "      <td>21.0</td>\n",
       "      <td>6.238137</td>\n",
       "      <td>0.971880</td>\n",
       "      <td>2401.0</td>\n",
       "      <td>2.109842</td>\n",
       "      <td>37.86</td>\n",
       "      <td>-122.22</td>\n",
       "    </tr>\n",
       "    <tr>\n",
       "      <th>2</th>\n",
       "      <td>7.2574</td>\n",
       "      <td>52.0</td>\n",
       "      <td>8.288136</td>\n",
       "      <td>1.073446</td>\n",
       "      <td>496.0</td>\n",
       "      <td>2.802260</td>\n",
       "      <td>37.85</td>\n",
       "      <td>-122.24</td>\n",
       "    </tr>\n",
       "    <tr>\n",
       "      <th>3</th>\n",
       "      <td>5.6431</td>\n",
       "      <td>52.0</td>\n",
       "      <td>5.817352</td>\n",
       "      <td>1.073059</td>\n",
       "      <td>558.0</td>\n",
       "      <td>2.547945</td>\n",
       "      <td>37.85</td>\n",
       "      <td>-122.25</td>\n",
       "    </tr>\n",
       "    <tr>\n",
       "      <th>4</th>\n",
       "      <td>3.8462</td>\n",
       "      <td>52.0</td>\n",
       "      <td>6.281853</td>\n",
       "      <td>1.081081</td>\n",
       "      <td>565.0</td>\n",
       "      <td>2.181467</td>\n",
       "      <td>37.85</td>\n",
       "      <td>-122.25</td>\n",
       "    </tr>\n",
       "  </tbody>\n",
       "</table>\n",
       "</div>"
      ],
      "text/plain": [
       "   MedInc  HouseAge  AveRooms  AveBedrms  Population  AveOccup  Latitude  \\\n",
       "0  8.3252      41.0  6.984127   1.023810       322.0  2.555556     37.88   \n",
       "1  8.3014      21.0  6.238137   0.971880      2401.0  2.109842     37.86   \n",
       "2  7.2574      52.0  8.288136   1.073446       496.0  2.802260     37.85   \n",
       "3  5.6431      52.0  5.817352   1.073059       558.0  2.547945     37.85   \n",
       "4  3.8462      52.0  6.281853   1.081081       565.0  2.181467     37.85   \n",
       "\n",
       "   Longitude  \n",
       "0    -122.23  \n",
       "1    -122.22  \n",
       "2    -122.24  \n",
       "3    -122.25  \n",
       "4    -122.25  "
      ]
     },
     "execution_count": 53,
     "metadata": {},
     "output_type": "execute_result"
    }
   ],
   "source": [
    "df1.head()"
   ]
  },
  {
   "cell_type": "code",
   "execution_count": 55,
   "id": "1788632e-fc33-4b8f-9676-66bec34a8396",
   "metadata": {},
   "outputs": [],
   "source": [
    "df1['target']=dataset1.target"
   ]
  },
  {
   "cell_type": "code",
   "execution_count": 56,
   "id": "4c9c19fe-c220-4fee-b2db-782e6fb0c1b6",
   "metadata": {},
   "outputs": [
    {
     "data": {
      "text/html": [
       "<div>\n",
       "<style scoped>\n",
       "    .dataframe tbody tr th:only-of-type {\n",
       "        vertical-align: middle;\n",
       "    }\n",
       "\n",
       "    .dataframe tbody tr th {\n",
       "        vertical-align: top;\n",
       "    }\n",
       "\n",
       "    .dataframe thead th {\n",
       "        text-align: right;\n",
       "    }\n",
       "</style>\n",
       "<table border=\"1\" class=\"dataframe\">\n",
       "  <thead>\n",
       "    <tr style=\"text-align: right;\">\n",
       "      <th></th>\n",
       "      <th>MedInc</th>\n",
       "      <th>HouseAge</th>\n",
       "      <th>AveRooms</th>\n",
       "      <th>AveBedrms</th>\n",
       "      <th>Population</th>\n",
       "      <th>AveOccup</th>\n",
       "      <th>Latitude</th>\n",
       "      <th>Longitude</th>\n",
       "      <th>target</th>\n",
       "    </tr>\n",
       "  </thead>\n",
       "  <tbody>\n",
       "    <tr>\n",
       "      <th>0</th>\n",
       "      <td>8.3252</td>\n",
       "      <td>41.0</td>\n",
       "      <td>6.984127</td>\n",
       "      <td>1.023810</td>\n",
       "      <td>322.0</td>\n",
       "      <td>2.555556</td>\n",
       "      <td>37.88</td>\n",
       "      <td>-122.23</td>\n",
       "      <td>4.526</td>\n",
       "    </tr>\n",
       "    <tr>\n",
       "      <th>1</th>\n",
       "      <td>8.3014</td>\n",
       "      <td>21.0</td>\n",
       "      <td>6.238137</td>\n",
       "      <td>0.971880</td>\n",
       "      <td>2401.0</td>\n",
       "      <td>2.109842</td>\n",
       "      <td>37.86</td>\n",
       "      <td>-122.22</td>\n",
       "      <td>3.585</td>\n",
       "    </tr>\n",
       "    <tr>\n",
       "      <th>2</th>\n",
       "      <td>7.2574</td>\n",
       "      <td>52.0</td>\n",
       "      <td>8.288136</td>\n",
       "      <td>1.073446</td>\n",
       "      <td>496.0</td>\n",
       "      <td>2.802260</td>\n",
       "      <td>37.85</td>\n",
       "      <td>-122.24</td>\n",
       "      <td>3.521</td>\n",
       "    </tr>\n",
       "    <tr>\n",
       "      <th>3</th>\n",
       "      <td>5.6431</td>\n",
       "      <td>52.0</td>\n",
       "      <td>5.817352</td>\n",
       "      <td>1.073059</td>\n",
       "      <td>558.0</td>\n",
       "      <td>2.547945</td>\n",
       "      <td>37.85</td>\n",
       "      <td>-122.25</td>\n",
       "      <td>3.413</td>\n",
       "    </tr>\n",
       "    <tr>\n",
       "      <th>4</th>\n",
       "      <td>3.8462</td>\n",
       "      <td>52.0</td>\n",
       "      <td>6.281853</td>\n",
       "      <td>1.081081</td>\n",
       "      <td>565.0</td>\n",
       "      <td>2.181467</td>\n",
       "      <td>37.85</td>\n",
       "      <td>-122.25</td>\n",
       "      <td>3.422</td>\n",
       "    </tr>\n",
       "  </tbody>\n",
       "</table>\n",
       "</div>"
      ],
      "text/plain": [
       "   MedInc  HouseAge  AveRooms  AveBedrms  Population  AveOccup  Latitude  \\\n",
       "0  8.3252      41.0  6.984127   1.023810       322.0  2.555556     37.88   \n",
       "1  8.3014      21.0  6.238137   0.971880      2401.0  2.109842     37.86   \n",
       "2  7.2574      52.0  8.288136   1.073446       496.0  2.802260     37.85   \n",
       "3  5.6431      52.0  5.817352   1.073059       558.0  2.547945     37.85   \n",
       "4  3.8462      52.0  6.281853   1.081081       565.0  2.181467     37.85   \n",
       "\n",
       "   Longitude  target  \n",
       "0    -122.23   4.526  \n",
       "1    -122.22   3.585  \n",
       "2    -122.24   3.521  \n",
       "3    -122.25   3.413  \n",
       "4    -122.25   3.422  "
      ]
     },
     "execution_count": 56,
     "metadata": {},
     "output_type": "execute_result"
    }
   ],
   "source": [
    "df1.head()"
   ]
  },
  {
   "cell_type": "code",
   "execution_count": 57,
   "id": "751274c1-1a4e-4591-97a8-85f1f7b4ce4c",
   "metadata": {},
   "outputs": [
    {
     "name": "stdout",
     "output_type": "stream",
     "text": [
      "<class 'pandas.core.frame.DataFrame'>\n",
      "RangeIndex: 20640 entries, 0 to 20639\n",
      "Data columns (total 9 columns):\n",
      " #   Column      Non-Null Count  Dtype  \n",
      "---  ------      --------------  -----  \n",
      " 0   MedInc      20640 non-null  float64\n",
      " 1   HouseAge    20640 non-null  float64\n",
      " 2   AveRooms    20640 non-null  float64\n",
      " 3   AveBedrms   20640 non-null  float64\n",
      " 4   Population  20640 non-null  float64\n",
      " 5   AveOccup    20640 non-null  float64\n",
      " 6   Latitude    20640 non-null  float64\n",
      " 7   Longitude   20640 non-null  float64\n",
      " 8   target      20640 non-null  float64\n",
      "dtypes: float64(9)\n",
      "memory usage: 1.4 MB\n"
     ]
    }
   ],
   "source": [
    "df1.info()"
   ]
  },
  {
   "cell_type": "code",
   "execution_count": 58,
   "id": "9e919de8-488d-475f-a622-5bd1b420e8fa",
   "metadata": {},
   "outputs": [
    {
     "data": {
      "text/plain": [
       "(20640, 9)"
      ]
     },
     "execution_count": 58,
     "metadata": {},
     "output_type": "execute_result"
    }
   ],
   "source": [
    "df1.shape"
   ]
  },
  {
   "cell_type": "code",
   "execution_count": 59,
   "id": "15846986-6fc2-4391-af50-4b4ce96fba81",
   "metadata": {},
   "outputs": [
    {
     "data": {
      "text/html": [
       "<div>\n",
       "<style scoped>\n",
       "    .dataframe tbody tr th:only-of-type {\n",
       "        vertical-align: middle;\n",
       "    }\n",
       "\n",
       "    .dataframe tbody tr th {\n",
       "        vertical-align: top;\n",
       "    }\n",
       "\n",
       "    .dataframe thead th {\n",
       "        text-align: right;\n",
       "    }\n",
       "</style>\n",
       "<table border=\"1\" class=\"dataframe\">\n",
       "  <thead>\n",
       "    <tr style=\"text-align: right;\">\n",
       "      <th></th>\n",
       "      <th>MedInc</th>\n",
       "      <th>HouseAge</th>\n",
       "      <th>AveRooms</th>\n",
       "      <th>AveBedrms</th>\n",
       "      <th>Population</th>\n",
       "      <th>AveOccup</th>\n",
       "      <th>Latitude</th>\n",
       "      <th>Longitude</th>\n",
       "      <th>target</th>\n",
       "    </tr>\n",
       "  </thead>\n",
       "  <tbody>\n",
       "    <tr>\n",
       "      <th>MedInc</th>\n",
       "      <td>1.000000</td>\n",
       "      <td>-0.119034</td>\n",
       "      <td>0.326895</td>\n",
       "      <td>-0.062040</td>\n",
       "      <td>0.004834</td>\n",
       "      <td>0.018766</td>\n",
       "      <td>-0.079809</td>\n",
       "      <td>-0.015176</td>\n",
       "      <td>0.688075</td>\n",
       "    </tr>\n",
       "    <tr>\n",
       "      <th>HouseAge</th>\n",
       "      <td>-0.119034</td>\n",
       "      <td>1.000000</td>\n",
       "      <td>-0.153277</td>\n",
       "      <td>-0.077747</td>\n",
       "      <td>-0.296244</td>\n",
       "      <td>0.013191</td>\n",
       "      <td>0.011173</td>\n",
       "      <td>-0.108197</td>\n",
       "      <td>0.105623</td>\n",
       "    </tr>\n",
       "    <tr>\n",
       "      <th>AveRooms</th>\n",
       "      <td>0.326895</td>\n",
       "      <td>-0.153277</td>\n",
       "      <td>1.000000</td>\n",
       "      <td>0.847621</td>\n",
       "      <td>-0.072213</td>\n",
       "      <td>-0.004852</td>\n",
       "      <td>0.106389</td>\n",
       "      <td>-0.027540</td>\n",
       "      <td>0.151948</td>\n",
       "    </tr>\n",
       "    <tr>\n",
       "      <th>AveBedrms</th>\n",
       "      <td>-0.062040</td>\n",
       "      <td>-0.077747</td>\n",
       "      <td>0.847621</td>\n",
       "      <td>1.000000</td>\n",
       "      <td>-0.066197</td>\n",
       "      <td>-0.006181</td>\n",
       "      <td>0.069721</td>\n",
       "      <td>0.013344</td>\n",
       "      <td>-0.046701</td>\n",
       "    </tr>\n",
       "    <tr>\n",
       "      <th>Population</th>\n",
       "      <td>0.004834</td>\n",
       "      <td>-0.296244</td>\n",
       "      <td>-0.072213</td>\n",
       "      <td>-0.066197</td>\n",
       "      <td>1.000000</td>\n",
       "      <td>0.069863</td>\n",
       "      <td>-0.108785</td>\n",
       "      <td>0.099773</td>\n",
       "      <td>-0.024650</td>\n",
       "    </tr>\n",
       "    <tr>\n",
       "      <th>AveOccup</th>\n",
       "      <td>0.018766</td>\n",
       "      <td>0.013191</td>\n",
       "      <td>-0.004852</td>\n",
       "      <td>-0.006181</td>\n",
       "      <td>0.069863</td>\n",
       "      <td>1.000000</td>\n",
       "      <td>0.002366</td>\n",
       "      <td>0.002476</td>\n",
       "      <td>-0.023737</td>\n",
       "    </tr>\n",
       "    <tr>\n",
       "      <th>Latitude</th>\n",
       "      <td>-0.079809</td>\n",
       "      <td>0.011173</td>\n",
       "      <td>0.106389</td>\n",
       "      <td>0.069721</td>\n",
       "      <td>-0.108785</td>\n",
       "      <td>0.002366</td>\n",
       "      <td>1.000000</td>\n",
       "      <td>-0.924664</td>\n",
       "      <td>-0.144160</td>\n",
       "    </tr>\n",
       "    <tr>\n",
       "      <th>Longitude</th>\n",
       "      <td>-0.015176</td>\n",
       "      <td>-0.108197</td>\n",
       "      <td>-0.027540</td>\n",
       "      <td>0.013344</td>\n",
       "      <td>0.099773</td>\n",
       "      <td>0.002476</td>\n",
       "      <td>-0.924664</td>\n",
       "      <td>1.000000</td>\n",
       "      <td>-0.045967</td>\n",
       "    </tr>\n",
       "    <tr>\n",
       "      <th>target</th>\n",
       "      <td>0.688075</td>\n",
       "      <td>0.105623</td>\n",
       "      <td>0.151948</td>\n",
       "      <td>-0.046701</td>\n",
       "      <td>-0.024650</td>\n",
       "      <td>-0.023737</td>\n",
       "      <td>-0.144160</td>\n",
       "      <td>-0.045967</td>\n",
       "      <td>1.000000</td>\n",
       "    </tr>\n",
       "  </tbody>\n",
       "</table>\n",
       "</div>"
      ],
      "text/plain": [
       "              MedInc  HouseAge  AveRooms  AveBedrms  Population  AveOccup  \\\n",
       "MedInc      1.000000 -0.119034  0.326895  -0.062040    0.004834  0.018766   \n",
       "HouseAge   -0.119034  1.000000 -0.153277  -0.077747   -0.296244  0.013191   \n",
       "AveRooms    0.326895 -0.153277  1.000000   0.847621   -0.072213 -0.004852   \n",
       "AveBedrms  -0.062040 -0.077747  0.847621   1.000000   -0.066197 -0.006181   \n",
       "Population  0.004834 -0.296244 -0.072213  -0.066197    1.000000  0.069863   \n",
       "AveOccup    0.018766  0.013191 -0.004852  -0.006181    0.069863  1.000000   \n",
       "Latitude   -0.079809  0.011173  0.106389   0.069721   -0.108785  0.002366   \n",
       "Longitude  -0.015176 -0.108197 -0.027540   0.013344    0.099773  0.002476   \n",
       "target      0.688075  0.105623  0.151948  -0.046701   -0.024650 -0.023737   \n",
       "\n",
       "            Latitude  Longitude    target  \n",
       "MedInc     -0.079809  -0.015176  0.688075  \n",
       "HouseAge    0.011173  -0.108197  0.105623  \n",
       "AveRooms    0.106389  -0.027540  0.151948  \n",
       "AveBedrms   0.069721   0.013344 -0.046701  \n",
       "Population -0.108785   0.099773 -0.024650  \n",
       "AveOccup    0.002366   0.002476 -0.023737  \n",
       "Latitude    1.000000  -0.924664 -0.144160  \n",
       "Longitude  -0.924664   1.000000 -0.045967  \n",
       "target     -0.144160  -0.045967  1.000000  "
      ]
     },
     "execution_count": 59,
     "metadata": {},
     "output_type": "execute_result"
    }
   ],
   "source": [
    "df1.corr()"
   ]
  },
  {
   "cell_type": "code",
   "execution_count": 60,
   "id": "46b26e39-7e29-44e4-a366-cddde0d4319d",
   "metadata": {},
   "outputs": [
    {
     "data": {
      "text/plain": [
       "<AxesSubplot: >"
      ]
     },
     "execution_count": 60,
     "metadata": {},
     "output_type": "execute_result"
    },
    {
     "data": {
      "image/png": "[encoded data removed]",
      "text/plain": [
       "<Figure size 1000x1200 with 2 Axes>"
      ]
     },
     "metadata": {},
     "output_type": "display_data"
    }
   ],
   "source": [
    "plt.figure(figsize=(10,12))\n",
    "sns.heatmap(data=df1.corr(),annot=True)"
   ]
  },
  {
   "cell_type": "code",
   "execution_count": 61,
   "id": "6312dc24-a351-495f-b75f-24d998930619",
   "metadata": {},
   "outputs": [],
   "source": [
    "X=df1.iloc[:,:-1]\n",
    "y=df1.iloc[:,-1]"
   ]
  },
  {
   "cell_type": "code",
   "execution_count": 62,
   "id": "50200597-5523-4ef6-a866-9c17e6b9e07b",
   "metadata": {},
   "outputs": [],
   "source": [
    "from sklearn.model_selection import train_test_split\n",
    "from sklearn.neighbors import KNeighborsRegressor\n",
    "from sklearn.model_selection import GridSearchCV"
   ]
  },
  {
   "cell_type": "code",
   "execution_count": 63,
   "id": "c1a6ab59-fcdc-45e6-a4a8-3efdf0994f6f",
   "metadata": {},
   "outputs": [],
   "source": [
    "X_train,X_test,y_train,y_test=train_test_split(X,y,test_size=0.25,random_state=42)"
   ]
  },
  {
   "cell_type": "code",
   "execution_count": 64,
   "id": "2ab80014-0e88-4df5-97c7-1a904c56c0c9",
   "metadata": {},
   "outputs": [],
   "source": [
    "regressor=KNeighborsRegressor()"
   ]
  },
  {
   "cell_type": "code",
   "execution_count": 65,
   "id": "5d390061-f369-4fbf-9d04-57bd163cfd37",
   "metadata": {},
   "outputs": [
    {
     "data": {
      "text/html": [
       "<style>#sk-container-id-6 {color: black;background-color: white;}#sk-container-id-6 pre{padding: 0;}#sk-container-id-6 div.sk-toggleable {background-color: white;}#sk-container-id-6 label.sk-toggleable__label {cursor: pointer;display: block;width: 100%;margin-bottom: 0;padding: 0.3em;box-sizing: border-box;text-align: center;}#sk-container-id-6 label.sk-toggleable__label-arrow:before {content: \"▸\";float: left;margin-right: 0.25em;color: #696969;}#sk-container-id-6 label.sk-toggleable__label-arrow:hover:before {color: black;}#sk-container-id-6 div.sk-estimator:hover label.sk-toggleable__label-arrow:before {color: black;}#sk-container-id-6 div.sk-toggleable__content {max-height: 0;max-width: 0;overflow: hidden;text-align: left;background-color: #f0f8ff;}#sk-container-id-6 div.sk-toggleable__content pre {margin: 0.2em;color: black;border-radius: 0.25em;background-color: #f0f8ff;}#sk-container-id-6 input.sk-toggleable__control:checked~div.sk-toggleable__content {max-height: 200px;max-width: 100%;overflow: auto;}#sk-container-id-6 input.sk-toggleable__control:checked~label.sk-toggleable__label-arrow:before {content: \"▾\";}#sk-container-id-6 div.sk-estimator input.sk-toggleable__control:checked~label.sk-toggleable__label {background-color: #d4ebff;}#sk-container-id-6 div.sk-label input.sk-toggleable__control:checked~label.sk-toggleable__label {background-color: #d4ebff;}#sk-container-id-6 input.sk-hidden--visually {border: 0;clip: rect(1px 1px 1px 1px);clip: rect(1px, 1px, 1px, 1px);height: 1px;margin: -1px;overflow: hidden;padding: 0;position: absolute;width: 1px;}#sk-container-id-6 div.sk-estimator {font-family: monospace;background-color: #f0f8ff;border: 1px dotted black;border-radius: 0.25em;box-sizing: border-box;margin-bottom: 0.5em;}#sk-container-id-6 div.sk-estimator:hover {background-color: #d4ebff;}#sk-container-id-6 div.sk-parallel-item::after {content: \"\";width: 100%;border-bottom: 1px solid gray;flex-grow: 1;}#sk-container-id-6 div.sk-label:hover label.sk-toggleable__label {background-color: #d4ebff;}#sk-container-id-6 div.sk-serial::before {content: \"\";position: absolute;border-left: 1px solid gray;box-sizing: border-box;top: 0;bottom: 0;left: 50%;z-index: 0;}#sk-container-id-6 div.sk-serial {display: flex;flex-direction: column;align-items: center;background-color: white;padding-right: 0.2em;padding-left: 0.2em;position: relative;}#sk-container-id-6 div.sk-item {position: relative;z-index: 1;}#sk-container-id-6 div.sk-parallel {display: flex;align-items: stretch;justify-content: center;background-color: white;position: relative;}#sk-container-id-6 div.sk-item::before, #sk-container-id-6 div.sk-parallel-item::before {content: \"\";position: absolute;border-left: 1px solid gray;box-sizing: border-box;top: 0;bottom: 0;left: 50%;z-index: -1;}#sk-container-id-6 div.sk-parallel-item {display: flex;flex-direction: column;z-index: 1;position: relative;background-color: white;}#sk-container-id-6 div.sk-parallel-item:first-child::after {align-self: flex-end;width: 50%;}#sk-container-id-6 div.sk-parallel-item:last-child::after {align-self: flex-start;width: 50%;}#sk-container-id-6 div.sk-parallel-item:only-child::after {width: 0;}#sk-container-id-6 div.sk-dashed-wrapped {border: 1px dashed gray;margin: 0 0.4em 0.5em 0.4em;box-sizing: border-box;padding-bottom: 0.4em;background-color: white;}#sk-container-id-6 div.sk-label label {font-family: monospace;font-weight: bold;display: inline-block;line-height: 1.2em;}#sk-container-id-6 div.sk-label-container {text-align: center;}#sk-container-id-6 div.sk-container {/* jupyter's `normalize.less` sets `[hidden] { display: none; }` but bootstrap.min.css set `[hidden] { display: none !important; }` so we also need the `!important` here to be able to override the default hidden behavior on the sphinx rendered scikit-learn.org. See: https://github.com/scikit-learn/scikit-learn/issues/21755 */display: inline-block !important;position: relative;}#sk-container-id-6 div.sk-text-repr-fallback {display: none;}</style><div id=\"sk-container-id-6\" class=\"sk-top-container\"><div class=\"sk-text-repr-fallback\"><pre>KNeighborsRegressor()</pre><b>In a Jupyter environment, please rerun this cell to show the HTML representation or trust the notebook. <br />On GitHub, the HTML representation is unable to render, please try loading this page with nbviewer.org.</b></div><div class=\"sk-container\" hidden><div class=\"sk-item\"><div class=\"sk-estimator sk-toggleable\"><input class=\"sk-toggleable__control sk-hidden--visually\" id=\"sk-estimator-id-10\" type=\"checkbox\" checked><label for=\"sk-estimator-id-10\" class=\"sk-toggleable__label sk-toggleable__label-arrow\">KNeighborsRegressor</label><div class=\"sk-toggleable__content\"><pre>KNeighborsRegressor()</pre></div></div></div></div></div>"
      ],
      "text/plain": [
       "KNeighborsRegressor()"
      ]
     },
     "execution_count": 65,
     "metadata": {},
     "output_type": "execute_result"
    }
   ],
   "source": [
    "regressor.fit(X_train,y_train)"
   ]
  },
  {
   "cell_type": "code",
   "execution_count": 66,
   "id": "559d729b-cede-431f-9bdb-4492b0c9a4ac",
   "metadata": {},
   "outputs": [],
   "source": [
    "y_pred=regressor.predict(X_test)"
   ]
  },
  {
   "cell_type": "code",
   "execution_count": 67,
   "id": "db812719-09df-442d-9fce-1caf1b4610fc",
   "metadata": {},
   "outputs": [],
   "source": [
    "from sklearn.metrics import mean_absolute_error,r2_score,mean_squared_error"
   ]
  },
  {
   "cell_type": "code",
   "execution_count": 68,
   "id": "7c9b1e3c-e4a8-4312-80ce-8b9abd0086e4",
   "metadata": {},
   "outputs": [
    {
     "name": "stdout",
     "output_type": "stream",
     "text": [
      "0.8188566406976745\n",
      "0.14434206676911643\n",
      "1.132222068863644\n"
     ]
    }
   ],
   "source": [
    "print(mean_absolute_error(y_test,y_pred))\n",
    "print(r2_score(y_test,y_pred))\n",
    "print(mean_squared_error(y_test,y_pred))"
   ]
  },
  {
   "cell_type": "code",
   "execution_count": 69,
   "id": "2771659d-4a4e-44fe-82ab-d4880eb4f507",
   "metadata": {},
   "outputs": [],
   "source": [
    "from sklearn.model_selection import cross_val_score\n"
   ]
  },
  {
   "cell_type": "code",
   "execution_count": 70,
   "id": "981c7c5c-26ed-4bea-9359-64ef348b31ea",
   "metadata": {},
   "outputs": [],
   "source": [
    "parameters={\n",
    "    'n_neighbors':[1,2,3,4,5,6,7,8,9],\n",
    "    'algorithm':['ball_tree', 'kd_tree', 'brute'],\n",
    "    'p':[10,20,30,1]\n",
    "    \n",
    "}"
   ]
  },
  {
   "cell_type": "code",
   "execution_count": null,
   "id": "8ab797ef-694d-4b12-b5f9-cb3235a739b1",
   "metadata": {},
   "outputs": [],
   "source": []
  },
  {
   "cell_type": "code",
   "execution_count": null,
   "id": "661b12ed-6af9-4987-9203-3fa2aae2e6c7",
   "metadata": {},
   "outputs": [],
   "source": []
  },
  {
   "cell_type": "code",
   "execution_count": null,
   "id": "6bbcd0ef-ac77-49ce-8d37-575f636e33c2",
   "metadata": {},
   "outputs": [],
   "source": []
  },
  {
   "cell_type": "code",
   "execution_count": null,
   "id": "c05fb4f8-d331-403b-868a-9fc8fdcb7b92",
   "metadata": {},
   "outputs": [],
   "source": []
  },
  {
   "cell_type": "code",
   "execution_count": null,
   "id": "c3568127-9299-4982-babf-5c99b0054553",
   "metadata": {},
   "outputs": [],
   "source": []
  },
  {
   "cell_type": "code",
   "execution_count": null,
   "id": "49ab344b-123b-47ad-b6d0-ba1cda943336",
   "metadata": {},
   "outputs": [],
   "source": []
  },
  {
   "cell_type": "code",
   "execution_count": null,
   "id": "06e343cd-7ad1-430f-9372-e866aa0a47d7",
   "metadata": {},
   "outputs": [],
   "source": []
  },
  {
   "cell_type": "code",
   "execution_count": null,
   "id": "e8f641c4-ae67-453c-9c84-2c9bfd4f65ef",
   "metadata": {},
   "outputs": [],
   "source": []
  }
 ],
 "metadata": {
  "kernelspec": {
   "display_name": "Python 3 (ipykernel)",
   "language": "python",
   "name": "python3"
  },
  "language_info": {
   "codemirror_mode": {
    "name": "ipython",
    "version": 3
   },
   "file_extension": ".py",
   "mimetype": "text/x-python",
   "name": "python",
   "nbconvert_exporter": "python",
   "pygments_lexer": "ipython3",
   "version": "3.10.8"
  }
 },
 "nbformat": 4,
 "nbformat_minor": 5
}
