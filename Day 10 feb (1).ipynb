{
 "cells": [
  {
   "cell_type": "code",
   "execution_count": null,
   "id": "5a13e402-e37e-471a-9b09-9dffdbb7a238",
   "metadata": {},
   "outputs": [],
   "source": []
  },
  {
   "cell_type": "code",
   "execution_count": null,
   "id": "7653463c-1af7-484a-8245-c6df04b4dd43",
   "metadata": {},
   "outputs": [],
   "source": []
  },
  {
   "cell_type": "code",
   "execution_count": null,
   "id": "15fa0d9d-bbf2-4970-b9aa-e3e6cad19c07",
   "metadata": {},
   "outputs": [],
   "source": []
  },
  {
   "cell_type": "code",
   "execution_count": 2,
   "id": "86aed45c-8931-4d8b-8047-3e8598bbc416",
   "metadata": {},
   "outputs": [],
   "source": [
    "def test():\n",
    "    print('this is the start of the funct')\n",
    "    print(4+5)\n",
    "    print('this is the end of the funct')"
   ]
  },
  {
   "cell_type": "code",
   "execution_count": 3,
   "id": "2a374d47-4872-4647-b873-09802c5bbb46",
   "metadata": {},
   "outputs": [
    {
     "name": "stdout",
     "output_type": "stream",
     "text": [
      "this is the start of the funct\n",
      "9\n",
      "this is the end of the funct\n"
     ]
    }
   ],
   "source": [
    "test()"
   ]
  },
  {
   "cell_type": "code",
   "execution_count": 4,
   "id": "0f18fd6a-40b9-4ae4-b6d6-6c65e180daa5",
   "metadata": {},
   "outputs": [],
   "source": [
    "def deco(func):\n",
    "    def inner_deco():\n",
    "        print('this is the start of my fun')\n",
    "        func()\n",
    "        print('this is the end of the funct')\n",
    "    return inner_deco"
   ]
  },
  {
   "cell_type": "code",
   "execution_count": 5,
   "id": "cc48231d-b95f-4426-a2a6-eb13118ca9fe",
   "metadata": {},
   "outputs": [],
   "source": [
    "@deco\n",
    "def test1():\n",
    "    print(4+5)"
   ]
  },
  {
   "cell_type": "code",
   "execution_count": 6,
   "id": "ef9b0530-0c14-4294-8421-c615cc6a5711",
   "metadata": {},
   "outputs": [
    {
     "name": "stdout",
     "output_type": "stream",
     "text": [
      "this is the start of my fun\n",
      "9\n",
      "this is the end of the funct\n"
     ]
    }
   ],
   "source": [
    "test1()"
   ]
  },
  {
   "cell_type": "code",
   "execution_count": 11,
   "id": "a82fb312-ad73-49a3-afb5-d01e313bb3d5",
   "metadata": {},
   "outputs": [],
   "source": [
    "import time\n",
    "\n",
    "def timer_test(func):\n",
    "    def timer_test_inner():\n",
    "        start = time.time()\n",
    "        func()\n",
    "        end=time.time()\n",
    "        print(end-start)\n",
    "    return timer_test_inner"
   ]
  },
  {
   "cell_type": "code",
   "execution_count": 12,
   "id": "1aed09d9-7730-4931-b9ac-3bb4435a8f0b",
   "metadata": {},
   "outputs": [],
   "source": [
    "@timer_test\n",
    "def test2():\n",
    "    print(45+67)"
   ]
  },
  {
   "cell_type": "code",
   "execution_count": 13,
   "id": "1ccba567-d0e9-4277-97fe-6e58cb7d4045",
   "metadata": {},
   "outputs": [
    {
     "name": "stdout",
     "output_type": "stream",
     "text": [
      "112\n",
      "4.315376281738281e-05\n"
     ]
    }
   ],
   "source": [
    "test2()"
   ]
  },
  {
   "cell_type": "code",
   "execution_count": 14,
   "id": "4382fa8b-7851-4f1d-a077-3605e89216f2",
   "metadata": {},
   "outputs": [],
   "source": [
    "def test3():\n",
    "    for i in range(1000000000):\n",
    "        pass"
   ]
  },
  {
   "cell_type": "code",
   "execution_count": 15,
   "id": "387d549c-a462-413b-8b86-341e2c31a7a5",
   "metadata": {},
   "outputs": [],
   "source": [
    "@timer_test\n",
    "def test3():\n",
    "    for i in range(1000000000):\n",
    "        pass"
   ]
  },
  {
   "cell_type": "code",
   "execution_count": 16,
   "id": "65c5083d-b22d-4335-8dbf-5183370a6deb",
   "metadata": {},
   "outputs": [
    {
     "name": "stdout",
     "output_type": "stream",
     "text": [
      "20.18771004676819\n"
     ]
    }
   ],
   "source": [
    "test3()"
   ]
  },
  {
   "cell_type": "code",
   "execution_count": 17,
   "id": "e965f1a7-68c2-4695-80bd-1ef8e8b30df4",
   "metadata": {},
   "outputs": [],
   "source": [
    "@timer_test\n",
    "def test4():\n",
    "    for i in range(1000000):\n",
    "        pass"
   ]
  },
  {
   "cell_type": "code",
   "execution_count": 18,
   "id": "259f6c5b-3d18-4bfc-86a4-e5968f45e295",
   "metadata": {},
   "outputs": [
    {
     "name": "stdout",
     "output_type": "stream",
     "text": [
      "0.021029949188232422\n"
     ]
    }
   ],
   "source": [
    "test4()"
   ]
  },
  {
   "cell_type": "markdown",
   "id": "9c2cfd41-f118-4056-b98a-400991027953",
   "metadata": {},
   "source": [
    "## it is used in Logging model "
   ]
  },
  {
   "cell_type": "markdown",
   "id": "6744cb22-9869-4400-957d-0d308cff37d5",
   "metadata": {},
   "source": [
    "## Class method "
   ]
  },
  {
   "cell_type": "code",
   "execution_count": 21,
   "id": "10ba26f7-4157-4c59-a050-8609e03e6acc",
   "metadata": {},
   "outputs": [],
   "source": [
    "class pwskills :\n",
    "    def __init__(self,name,email):\n",
    "        self.name=name\n",
    "        self.email=email\n",
    "    \n",
    "    def student_details(self):\n",
    "        print(self.name,self.email)\n",
    "    "
   ]
  },
  {
   "cell_type": "code",
   "execution_count": 22,
   "id": "5c62f803-0b8e-4caa-b0f4-a9dd2712855c",
   "metadata": {},
   "outputs": [],
   "source": [
    "pw=pwskills('samarth','sam_aga@outlook.com')"
   ]
  },
  {
   "cell_type": "code",
   "execution_count": 29,
   "id": "2157a5f4-8d59-419d-b01f-ceb6ddf98b7f",
   "metadata": {},
   "outputs": [
    {
     "data": {
      "text/plain": [
       "'samarth'"
      ]
     },
     "execution_count": 29,
     "metadata": {},
     "output_type": "execute_result"
    }
   ],
   "source": [
    "pw.name"
   ]
  },
  {
   "cell_type": "code",
   "execution_count": 31,
   "id": "c8e49d36-ea88-4634-9e6f-dd3243633d41",
   "metadata": {},
   "outputs": [
    {
     "name": "stdout",
     "output_type": "stream",
     "text": [
      "samarth sam_aga@outlook.com\n"
     ]
    }
   ],
   "source": [
    "pw.student_details()"
   ]
  },
  {
   "cell_type": "code",
   "execution_count": 32,
   "id": "44f3ae85-9595-482e-88cf-d73f957741bc",
   "metadata": {},
   "outputs": [],
   "source": [
    "class pwskills1:\n",
    "    def __init__(self,name,email):\n",
    "        self.name=name\n",
    "        self.email=email\n",
    "        \n",
    "    @classmethod\n",
    "    def details(cls,name,email):\n",
    "        return cls(name,email)\n",
    "    \n",
    "    def student_details(self):\n",
    "        print(self.name,self.email)\n",
    "    "
   ]
  },
  {
   "cell_type": "code",
   "execution_count": 34,
   "id": "bc387938-7803-465b-9382-694c6fb260ad",
   "metadata": {},
   "outputs": [],
   "source": [
    "pw1= pwskills1.details('samarth','sama1872')"
   ]
  },
  {
   "cell_type": "code",
   "execution_count": 35,
   "id": "371f95b9-4463-46c1-9b42-69c188db60e4",
   "metadata": {},
   "outputs": [
    {
     "data": {
      "text/plain": [
       "'samarth'"
      ]
     },
     "execution_count": 35,
     "metadata": {},
     "output_type": "execute_result"
    }
   ],
   "source": [
    "pw1.name"
   ]
  },
  {
   "cell_type": "code",
   "execution_count": 36,
   "id": "87e4185a-3ac4-40b3-9d19-45dc96c7b7ed",
   "metadata": {},
   "outputs": [
    {
     "data": {
      "text/plain": [
       "'sama1872'"
      ]
     },
     "execution_count": 36,
     "metadata": {},
     "output_type": "execute_result"
    }
   ],
   "source": [
    "pw1.email"
   ]
  },
  {
   "cell_type": "code",
   "execution_count": 37,
   "id": "ec35b76e-305b-4a76-a7b6-5d0226f65ecb",
   "metadata": {},
   "outputs": [
    {
     "name": "stdout",
     "output_type": "stream",
     "text": [
      "samarth sama1872\n"
     ]
    }
   ],
   "source": [
    "pw1.student_details()"
   ]
  },
  {
   "cell_type": "code",
   "execution_count": 41,
   "id": "b8333b1c-cf0c-49ea-b0fa-2f11cf080d0f",
   "metadata": {},
   "outputs": [],
   "source": [
    "class pwskills2:\n",
    "    \n",
    "    mobile_number=7977129650\n",
    "    \n",
    "    def __init__(self,name,email):\n",
    "        self.name=name\n",
    "        self.email=email\n",
    "        \n",
    "    @classmethod\n",
    "    def details(cls,name,email):\n",
    "        return cls(name,email)\n",
    "    \n",
    "    def student_details(self):\n",
    "        print(self.name,self.email,pwskills2.mobile_number)"
   ]
  },
  {
   "cell_type": "code",
   "execution_count": 3,
   "id": "85a19f48-d49e-4456-80b2-4ac403adab1e",
   "metadata": {},
   "outputs": [
    {
     "data": {
      "text/plain": [
       "7977129650"
      ]
     },
     "execution_count": 3,
     "metadata": {},
     "output_type": "execute_result"
    }
   ],
   "source": [
    "pwskills2.mobile_number"
   ]
  },
  {
   "cell_type": "code",
   "execution_count": 4,
   "id": "9d21c6be-4683-4c79-8abf-85a3afa869db",
   "metadata": {},
   "outputs": [],
   "source": [
    "pwskills2.change_number(86238648)"
   ]
  },
  {
   "cell_type": "code",
   "execution_count": 5,
   "id": "bd6aeed0-593f-4349-b912-0bdc347fa10e",
   "metadata": {},
   "outputs": [
    {
     "data": {
      "text/plain": [
       "86238648"
      ]
     },
     "execution_count": 5,
     "metadata": {},
     "output_type": "execute_result"
    }
   ],
   "source": [
    "pwskills2.mobile_number"
   ]
  },
  {
   "cell_type": "code",
   "execution_count": 43,
   "id": "9ab92b4c-3326-4ce8-8ea5-cf776e2c8923",
   "metadata": {},
   "outputs": [],
   "source": [
    "pw2=pwskills2.details('pramit','pramit12@gmail.com')"
   ]
  },
  {
   "cell_type": "code",
   "execution_count": 44,
   "id": "442146ee-897a-4296-8a0a-a6416371c914",
   "metadata": {},
   "outputs": [
    {
     "name": "stdout",
     "output_type": "stream",
     "text": [
      "pramit pramit12@gmail.com 7977129650\n"
     ]
    }
   ],
   "source": [
    "pw2.student_details()"
   ]
  },
  {
   "cell_type": "code",
   "execution_count": 1,
   "id": "f410c962-3702-4d16-bef8-d3b7a063cdde",
   "metadata": {},
   "outputs": [],
   "source": [
    "class pwskills2:\n",
    "    \n",
    "    mobile_number=7977129650\n",
    "    \n",
    "    def __init__(self,name,email):\n",
    "        self.name=name\n",
    "        self.email=email\n",
    "        \n",
    "    @classmethod\n",
    "    def change_number(cls,mobile):\n",
    "        pwskills2.mobile_number=mobile\n",
    "        \n",
    "    @classmethod\n",
    "    def details(cls,name,email):\n",
    "        return cls(name,email)\n",
    "    \n",
    "    def student_details(self):\n",
    "        print(self.name,self.email,pwskills2.mobile_number)"
   ]
  },
  {
   "cell_type": "code",
   "execution_count": 6,
   "id": "afd118a9-aa6e-4536-b360-819fcfebd33e",
   "metadata": {},
   "outputs": [],
   "source": [
    "pwskills2.change_number(64783265876)"
   ]
  },
  {
   "cell_type": "code",
   "execution_count": 7,
   "id": "1974a706-249c-4467-8ddb-146c211041e2",
   "metadata": {},
   "outputs": [
    {
     "data": {
      "text/plain": [
       "64783265876"
      ]
     },
     "execution_count": 7,
     "metadata": {},
     "output_type": "execute_result"
    }
   ],
   "source": [
    "pwskills2.mobile_number"
   ]
  },
  {
   "cell_type": "code",
   "execution_count": 9,
   "id": "adec38ca-f2b5-4664-9c00-178ad8a3bf80",
   "metadata": {},
   "outputs": [],
   "source": [
    "pw2_obj=pwskills2('devashish','dev132@gmail.com')"
   ]
  },
  {
   "cell_type": "code",
   "execution_count": 11,
   "id": "6e2f7391-2a20-4f21-9d18-0de1f27a55eb",
   "metadata": {},
   "outputs": [
    {
     "data": {
      "text/plain": [
       "<__main__.pwskills2 at 0x7fc86cb561d0>"
      ]
     },
     "execution_count": 11,
     "metadata": {},
     "output_type": "execute_result"
    }
   ],
   "source": [
    "pw2_obj.details('nikhil','george')"
   ]
  },
  {
   "cell_type": "code",
   "execution_count": 13,
   "id": "247f1b73-5bce-436e-9703-39ed184e37a0",
   "metadata": {},
   "outputs": [
    {
     "data": {
      "text/plain": [
       "'devashish'"
      ]
     },
     "execution_count": 13,
     "metadata": {},
     "output_type": "execute_result"
    }
   ],
   "source": [
    "pw2_obj.name"
   ]
  },
  {
   "cell_type": "markdown",
   "id": "91237d86-320a-4305-ac2c-389bd239f3d0",
   "metadata": {},
   "source": [
    "## showing previous data "
   ]
  },
  {
   "cell_type": "code",
   "execution_count": null,
   "id": "0ddd6fbe-5e94-4b1e-9074-58db9e27f97d",
   "metadata": {},
   "outputs": [],
   "source": [
    "## if we have to create an external function \n",
    "\n",
    "class pwskills3:\n",
    "    \n",
    "    mobile_number=7977129650\n",
    "    \n",
    "    def __init__(self,name,email):\n",
    "        self.name=name\n",
    "        self.email=email\n",
    "        \n",
    "    @classmethod\n",
    "    def change_number(cls,mobile):\n",
    "        pwskills2.mobile_number=mobile\n",
    "        \n",
    "    @classmethod\n",
    "    def details(cls,name,email):\n",
    "        return cls(name,email)\n",
    "    \n",
    "    def student_details(self):\n",
    "        print(self.name,self.email,pwskills2.mobile_number)"
   ]
  },
  {
   "cell_type": "code",
   "execution_count": 21,
   "id": "a27ef707-200d-437c-af6c-33cca131185e",
   "metadata": {},
   "outputs": [],
   "source": [
    "def course_details(cls,course_name):\n",
    "    print('course details ',course_name)"
   ]
  },
  {
   "cell_type": "code",
   "execution_count": 22,
   "id": "15003f57-2a38-4532-ae8f-25e22dde5ba6",
   "metadata": {},
   "outputs": [],
   "source": [
    "pwskills3.course_details= classmethod(course_details)"
   ]
  },
  {
   "cell_type": "code",
   "execution_count": 23,
   "id": "91d3f9a3-8f5a-40cc-9877-c9e9762013ba",
   "metadata": {},
   "outputs": [
    {
     "name": "stdout",
     "output_type": "stream",
     "text": [
      "course details  this is data science\n"
     ]
    }
   ],
   "source": [
    "pwskills3.course_details('this is data science')"
   ]
  },
  {
   "cell_type": "code",
   "execution_count": 24,
   "id": "44fc65e2-a898-48b0-baa9-fd2e1d19541a",
   "metadata": {},
   "outputs": [],
   "source": [
    "pw3= pwskills3('samarth','agarwal')"
   ]
  },
  {
   "cell_type": "code",
   "execution_count": 25,
   "id": "ee327b41-59ae-4e4d-9168-2a8dfae60045",
   "metadata": {},
   "outputs": [
    {
     "name": "stdout",
     "output_type": "stream",
     "text": [
      "course details  web dev\n"
     ]
    }
   ],
   "source": [
    "pw3.course_details('web dev')"
   ]
  },
  {
   "cell_type": "code",
   "execution_count": 26,
   "id": "d32a3163-1c5b-49b2-96af-7921a3cfb3a8",
   "metadata": {},
   "outputs": [],
   "source": [
    "## to delete any functions \n",
    "\n",
    "class pwskills4:\n",
    "    \n",
    "    mobile_number=7977129650\n",
    "    \n",
    "    def __init__(self,name,email):\n",
    "        self.name=name\n",
    "        self.email=email\n",
    "        \n",
    "    @classmethod\n",
    "    def change_number(cls,mobile):\n",
    "        pwskills2.mobile_number=mobile\n",
    "        \n",
    "    @classmethod\n",
    "    def details(cls,name,email):\n",
    "        return cls(name,email)\n",
    "    \n",
    "    def student_details(self):\n",
    "        print(self.name,self.email,pwskills2.mobile_number)"
   ]
  },
  {
   "cell_type": "code",
   "execution_count": 27,
   "id": "4f34aeb0-735e-4701-8ba7-71d0eb2ae661",
   "metadata": {},
   "outputs": [],
   "source": [
    "del pwskills4.change_number"
   ]
  },
  {
   "cell_type": "code",
   "execution_count": 28,
   "id": "2080580b-ff1a-4afc-8779-13c640991f5a",
   "metadata": {},
   "outputs": [
    {
     "ename": "AttributeError",
     "evalue": "type object 'pwskills4' has no attribute 'change_number'",
     "output_type": "error",
     "traceback": [
      "\u001b[0;31m---------------------------------------------------------------------------\u001b[0m",
      "\u001b[0;31mAttributeError\u001b[0m                            Traceback (most recent call last)",
      "Cell \u001b[0;32mIn[28], line 1\u001b[0m\n\u001b[0;32m----> 1\u001b[0m \u001b[43mpwskills4\u001b[49m\u001b[38;5;241;43m.\u001b[39;49m\u001b[43mchange_number\u001b[49m(\u001b[38;5;241m81648684\u001b[39m)\n",
      "\u001b[0;31mAttributeError\u001b[0m: type object 'pwskills4' has no attribute 'change_number'"
     ]
    }
   ],
   "source": [
    "pwskills4.change_number(81648684)"
   ]
  },
  {
   "cell_type": "code",
   "execution_count": 33,
   "id": "f693cfb0-aed9-434a-98e6-968afb2395e8",
   "metadata": {},
   "outputs": [
    {
     "ename": "AttributeError",
     "evalue": "details",
     "output_type": "error",
     "traceback": [
      "\u001b[0;31m---------------------------------------------------------------------------\u001b[0m",
      "\u001b[0;31mAttributeError\u001b[0m                            Traceback (most recent call last)",
      "Cell \u001b[0;32mIn[33], line 1\u001b[0m\n\u001b[0;32m----> 1\u001b[0m \u001b[38;5;28;43mdelattr\u001b[39;49m\u001b[43m(\u001b[49m\u001b[43mpwskills4\u001b[49m\u001b[43m,\u001b[49m\u001b[38;5;124;43m'\u001b[39;49m\u001b[38;5;124;43mdetails\u001b[39;49m\u001b[38;5;124;43m'\u001b[39;49m\u001b[43m)\u001b[49m\n",
      "\u001b[0;31mAttributeError\u001b[0m: details"
     ]
    }
   ],
   "source": [
    "delattr(pwskills4,'details')"
   ]
  },
  {
   "cell_type": "code",
   "execution_count": 34,
   "id": "b8c49e04-881f-405c-bf89-fc15f30e5a51",
   "metadata": {},
   "outputs": [],
   "source": [
    "delattr(pwskills4,'student_details')"
   ]
  },
  {
   "cell_type": "code",
   "execution_count": 36,
   "id": "4a2513b6-3a1e-4203-8ce1-3c9d7faa9465",
   "metadata": {},
   "outputs": [
    {
     "ename": "AttributeError",
     "evalue": "type object 'pwskills4' has no attribute 'student_details'",
     "output_type": "error",
     "traceback": [
      "\u001b[0;31m---------------------------------------------------------------------------\u001b[0m",
      "\u001b[0;31mAttributeError\u001b[0m                            Traceback (most recent call last)",
      "Cell \u001b[0;32mIn[36], line 1\u001b[0m\n\u001b[0;32m----> 1\u001b[0m \u001b[43mpwskills4\u001b[49m\u001b[38;5;241;43m.\u001b[39;49m\u001b[43mstudent_details\u001b[49m\n",
      "\u001b[0;31mAttributeError\u001b[0m: type object 'pwskills4' has no attribute 'student_details'"
     ]
    }
   ],
   "source": [
    "pwskills4.student_details"
   ]
  },
  {
   "cell_type": "markdown",
   "id": "61dfc0a5-2504-470b-86dd-b09f03da2424",
   "metadata": {},
   "source": [
    "## Static method "
   ]
  },
  {
   "cell_type": "code",
   "execution_count": 1,
   "id": "39380ec5-e918-455d-83fc-6ffdf0f9573e",
   "metadata": {},
   "outputs": [],
   "source": [
    "class pwskills5:\n",
    "    def student_details(self,name,mail_id,number):\n",
    "        print(name,mail_id,number)"
   ]
  },
  {
   "cell_type": "code",
   "execution_count": 2,
   "id": "8cddd50b-01cc-43ec-a502-2e4038afc93a",
   "metadata": {},
   "outputs": [],
   "source": [
    "pw4=pwskills5()"
   ]
  },
  {
   "cell_type": "code",
   "execution_count": 5,
   "id": "8100c458-da0c-4060-a824-8097c28f8942",
   "metadata": {},
   "outputs": [
    {
     "name": "stdout",
     "output_type": "stream",
     "text": [
      "samarth sam_aga@outlook.com 8324809\n"
     ]
    }
   ],
   "source": [
    "pw4.student_details('samarth','sam_aga@outlook.com',8324809)"
   ]
  },
  {
   "cell_type": "code",
   "execution_count": 16,
   "id": "7c15b5d5-d47a-4a01-ac2a-97ddec01e6e5",
   "metadata": {},
   "outputs": [],
   "source": [
    "class pwskills5:\n",
    "    ## instance function \n",
    "    def student_details(self,name,mail_id,number):\n",
    "        print(name,mail_id,number)\n",
    "        \n",
    "    @staticmethod\n",
    "    def mentor_class(list_mentor):\n",
    "        print(list_mentor)\n",
    "        \n",
    "    def mentor(self,mentor_list):\n",
    "        print(mentor_list)"
   ]
  },
  {
   "cell_type": "code",
   "execution_count": 12,
   "id": "75482806-532e-48b5-b752-ba5ae675e89f",
   "metadata": {},
   "outputs": [
    {
     "name": "stdout",
     "output_type": "stream",
     "text": [
      "['samarth', 'agarwal']\n"
     ]
    }
   ],
   "source": [
    "pwskills5.mentor_class(['samarth','agarwal'])"
   ]
  },
  {
   "cell_type": "code",
   "execution_count": 13,
   "id": "83b62a67-8156-4f5d-a039-2ff4ddd6eacd",
   "metadata": {},
   "outputs": [],
   "source": [
    "pw6=pwskills5()"
   ]
  },
  {
   "cell_type": "code",
   "execution_count": 14,
   "id": "bee95398-5a84-4fc0-b213-c0779ba8989a",
   "metadata": {},
   "outputs": [
    {
     "name": "stdout",
     "output_type": "stream",
     "text": [
      "['pramit', 'kalsaria']\n"
     ]
    }
   ],
   "source": [
    "pw6.mentor(['pramit','kalsaria'])"
   ]
  },
  {
   "cell_type": "code",
   "execution_count": 15,
   "id": "cd525c6d-bd70-4fe6-85b6-9209548113fe",
   "metadata": {},
   "outputs": [
    {
     "name": "stdout",
     "output_type": "stream",
     "text": [
      "['deva', 'sharma']\n"
     ]
    }
   ],
   "source": [
    "pw6.mentor_class(['deva','sharma'])"
   ]
  },
  {
   "cell_type": "code",
   "execution_count": 25,
   "id": "d7aaa8c1-faf3-4002-a079-13e2f5b1e532",
   "metadata": {},
   "outputs": [],
   "source": [
    "class pwskills6:\n",
    "    ## instance function \n",
    "    def student_details(self,name,mail_id,number):\n",
    "        print(name,mail_id,number)\n",
    "        self.student_details\n",
    "        \n",
    "    @staticmethod\n",
    "    def mentor_mail_id(mail_mail_id):\n",
    "        print(mail_id)\n",
    "    \n",
    "    \n",
    "    @staticmethod\n",
    "    def mentor_class(list_mentor):\n",
    "        print(list_mentor)\n",
    "        pwskills6.mentor_mail_id(['samarth@gmail.com','pramit@gmail.com'])\n",
    "    \n",
    "    @classmethod\n",
    "    def class_name(cls,class_name):\n",
    "        cls.mentor_class(['sudh','krish'])\n",
    "    \n",
    "    \n",
    "    def mentor(self,mentor_list):\n",
    "        print(mentor_list)\n",
    "        self.mentor_class(['krish','sudh'])"
   ]
  },
  {
   "cell_type": "code",
   "execution_count": 26,
   "id": "6b92ae46-fb0c-492f-9b1a-c55151740633",
   "metadata": {},
   "outputs": [],
   "source": [
    "pw6=pwskills6()"
   ]
  },
  {
   "cell_type": "code",
   "execution_count": 27,
   "id": "f2caefa3-7212-480a-a6bf-23c38af578af",
   "metadata": {},
   "outputs": [
    {
     "name": "stdout",
     "output_type": "stream",
     "text": [
      "samarth sam@gmail.com 96689876\n"
     ]
    }
   ],
   "source": [
    "pw6.student_details('samarth','sam@gmail.com',96689876)"
   ]
  },
  {
   "cell_type": "code",
   "execution_count": 28,
   "id": "ae3fcf31-3a90-4f13-be4c-a4ad72d3c1da",
   "metadata": {},
   "outputs": [
    {
     "ename": "NameError",
     "evalue": "name 'mail_id' is not defined",
     "output_type": "error",
     "traceback": [
      "\u001b[1;31m---------------------------------------------------------------------------\u001b[0m",
      "\u001b[1;31mNameError\u001b[0m                                 Traceback (most recent call last)",
      "\u001b[1;32m~\\AppData\\Local\\Temp\\ipykernel_10828\\3759839498.py\u001b[0m in \u001b[0;36m<module>\u001b[1;34m\u001b[0m\n\u001b[1;32m----> 1\u001b[1;33m \u001b[0mpw6\u001b[0m\u001b[1;33m.\u001b[0m\u001b[0mmentor_mail_id\u001b[0m\u001b[1;33m(\u001b[0m\u001b[1;33m[\u001b[0m\u001b[1;34m'samarth@gmail.com'\u001b[0m\u001b[1;33m,\u001b[0m\u001b[1;34m'pramit@gmail.com'\u001b[0m\u001b[1;33m]\u001b[0m\u001b[1;33m)\u001b[0m\u001b[1;33m\u001b[0m\u001b[1;33m\u001b[0m\u001b[0m\n\u001b[0m",
      "\u001b[1;32m~\\AppData\\Local\\Temp\\ipykernel_10828\\3293519558.py\u001b[0m in \u001b[0;36mmentor_mail_id\u001b[1;34m(mail_mail_id)\u001b[0m\n\u001b[0;32m      7\u001b[0m     \u001b[1;33m@\u001b[0m\u001b[0mstaticmethod\u001b[0m\u001b[1;33m\u001b[0m\u001b[1;33m\u001b[0m\u001b[0m\n\u001b[0;32m      8\u001b[0m     \u001b[1;32mdef\u001b[0m \u001b[0mmentor_mail_id\u001b[0m\u001b[1;33m(\u001b[0m\u001b[0mmail_mail_id\u001b[0m\u001b[1;33m)\u001b[0m\u001b[1;33m:\u001b[0m\u001b[1;33m\u001b[0m\u001b[1;33m\u001b[0m\u001b[0m\n\u001b[1;32m----> 9\u001b[1;33m         \u001b[0mprint\u001b[0m\u001b[1;33m(\u001b[0m\u001b[0mmail_id\u001b[0m\u001b[1;33m)\u001b[0m\u001b[1;33m\u001b[0m\u001b[1;33m\u001b[0m\u001b[0m\n\u001b[0m\u001b[0;32m     10\u001b[0m \u001b[1;33m\u001b[0m\u001b[0m\n\u001b[0;32m     11\u001b[0m \u001b[1;33m\u001b[0m\u001b[0m\n",
      "\u001b[1;31mNameError\u001b[0m: name 'mail_id' is not defined"
     ]
    }
   ],
   "source": [
    "pw6.mentor_mail_id(['samarth@gmail.com','pramit@gmail.com'])"
   ]
  },
  {
   "cell_type": "markdown",
   "id": "040ef1e0-6d3c-4c73-93c6-149648d5f560",
   "metadata": {},
   "source": [
    "## MAGIC DUNDER"
   ]
  },
  {
   "cell_type": "code",
   "execution_count": 29,
   "id": "88e4ccf1-9981-4c76-818d-81505c4d8b2f",
   "metadata": {},
   "outputs": [
    {
     "data": {
      "text/plain": [
       "['__abs__',\n",
       " '__add__',\n",
       " '__and__',\n",
       " '__bool__',\n",
       " '__ceil__',\n",
       " '__class__',\n",
       " '__delattr__',\n",
       " '__dir__',\n",
       " '__divmod__',\n",
       " '__doc__',\n",
       " '__eq__',\n",
       " '__float__',\n",
       " '__floor__',\n",
       " '__floordiv__',\n",
       " '__format__',\n",
       " '__ge__',\n",
       " '__getattribute__',\n",
       " '__getnewargs__',\n",
       " '__gt__',\n",
       " '__hash__',\n",
       " '__index__',\n",
       " '__init__',\n",
       " '__init_subclass__',\n",
       " '__int__',\n",
       " '__invert__',\n",
       " '__le__',\n",
       " '__lshift__',\n",
       " '__lt__',\n",
       " '__mod__',\n",
       " '__mul__',\n",
       " '__ne__',\n",
       " '__neg__',\n",
       " '__new__',\n",
       " '__or__',\n",
       " '__pos__',\n",
       " '__pow__',\n",
       " '__radd__',\n",
       " '__rand__',\n",
       " '__rdivmod__',\n",
       " '__reduce__',\n",
       " '__reduce_ex__',\n",
       " '__repr__',\n",
       " '__rfloordiv__',\n",
       " '__rlshift__',\n",
       " '__rmod__',\n",
       " '__rmul__',\n",
       " '__ror__',\n",
       " '__round__',\n",
       " '__rpow__',\n",
       " '__rrshift__',\n",
       " '__rshift__',\n",
       " '__rsub__',\n",
       " '__rtruediv__',\n",
       " '__rxor__',\n",
       " '__setattr__',\n",
       " '__sizeof__',\n",
       " '__str__',\n",
       " '__sub__',\n",
       " '__subclasshook__',\n",
       " '__truediv__',\n",
       " '__trunc__',\n",
       " '__xor__',\n",
       " 'as_integer_ratio',\n",
       " 'bit_length',\n",
       " 'conjugate',\n",
       " 'denominator',\n",
       " 'from_bytes',\n",
       " 'imag',\n",
       " 'numerator',\n",
       " 'real',\n",
       " 'to_bytes']"
      ]
     },
     "execution_count": 29,
     "metadata": {},
     "output_type": "execute_result"
    }
   ],
   "source": [
    "dir(int)"
   ]
  },
  {
   "cell_type": "code",
   "execution_count": 30,
   "id": "04b9d056-5132-43c8-a3ce-612fb9782cbd",
   "metadata": {},
   "outputs": [],
   "source": [
    "a=10"
   ]
  },
  {
   "cell_type": "code",
   "execution_count": 31,
   "id": "5e5d7ae5-1f09-4ff0-87fc-79dd6ed50ad5",
   "metadata": {},
   "outputs": [
    {
     "data": {
      "text/plain": [
       "16"
      ]
     },
     "execution_count": 31,
     "metadata": {},
     "output_type": "execute_result"
    }
   ],
   "source": [
    "a+6"
   ]
  },
  {
   "cell_type": "code",
   "execution_count": 32,
   "id": "aa4002b1-8abd-4ac1-b513-c50d36c637f5",
   "metadata": {},
   "outputs": [
    {
     "data": {
      "text/plain": [
       "16"
      ]
     },
     "execution_count": 32,
     "metadata": {},
     "output_type": "execute_result"
    }
   ],
   "source": [
    "a.__add__(6)"
   ]
  },
  {
   "cell_type": "code",
   "execution_count": 33,
   "id": "aafcd26a-ea05-4a62-a9df-b8778c3325d8",
   "metadata": {},
   "outputs": [
    {
     "data": {
      "text/plain": [
       "['__add__',\n",
       " '__class__',\n",
       " '__contains__',\n",
       " '__delattr__',\n",
       " '__dir__',\n",
       " '__doc__',\n",
       " '__eq__',\n",
       " '__format__',\n",
       " '__ge__',\n",
       " '__getattribute__',\n",
       " '__getitem__',\n",
       " '__getnewargs__',\n",
       " '__gt__',\n",
       " '__hash__',\n",
       " '__init__',\n",
       " '__init_subclass__',\n",
       " '__iter__',\n",
       " '__le__',\n",
       " '__len__',\n",
       " '__lt__',\n",
       " '__mod__',\n",
       " '__mul__',\n",
       " '__ne__',\n",
       " '__new__',\n",
       " '__reduce__',\n",
       " '__reduce_ex__',\n",
       " '__repr__',\n",
       " '__rmod__',\n",
       " '__rmul__',\n",
       " '__setattr__',\n",
       " '__sizeof__',\n",
       " '__str__',\n",
       " '__subclasshook__',\n",
       " 'capitalize',\n",
       " 'casefold',\n",
       " 'center',\n",
       " 'count',\n",
       " 'encode',\n",
       " 'endswith',\n",
       " 'expandtabs',\n",
       " 'find',\n",
       " 'format',\n",
       " 'format_map',\n",
       " 'index',\n",
       " 'isalnum',\n",
       " 'isalpha',\n",
       " 'isascii',\n",
       " 'isdecimal',\n",
       " 'isdigit',\n",
       " 'isidentifier',\n",
       " 'islower',\n",
       " 'isnumeric',\n",
       " 'isprintable',\n",
       " 'isspace',\n",
       " 'istitle',\n",
       " 'isupper',\n",
       " 'join',\n",
       " 'ljust',\n",
       " 'lower',\n",
       " 'lstrip',\n",
       " 'maketrans',\n",
       " 'partition',\n",
       " 'removeprefix',\n",
       " 'removesuffix',\n",
       " 'replace',\n",
       " 'rfind',\n",
       " 'rindex',\n",
       " 'rjust',\n",
       " 'rpartition',\n",
       " 'rsplit',\n",
       " 'rstrip',\n",
       " 'split',\n",
       " 'splitlines',\n",
       " 'startswith',\n",
       " 'strip',\n",
       " 'swapcase',\n",
       " 'title',\n",
       " 'translate',\n",
       " 'upper',\n",
       " 'zfill']"
      ]
     },
     "execution_count": 33,
     "metadata": {},
     "output_type": "execute_result"
    }
   ],
   "source": [
    "dir(str)"
   ]
  },
  {
   "cell_type": "code",
   "execution_count": 36,
   "id": "4fdca8b0-af6d-4183-ae81-7b747f20fbd8",
   "metadata": {},
   "outputs": [],
   "source": [
    "class pwskills:\n",
    "    \n",
    "    def __new__(cls):\n",
    "        print('this my new')\n",
    "    \n",
    "    def __init__(self):\n",
    "        print('this is my init')"
   ]
  },
  {
   "cell_type": "code",
   "execution_count": 37,
   "id": "fd58f112-06a1-4dbc-a63d-c8fd59c61072",
   "metadata": {},
   "outputs": [
    {
     "name": "stdout",
     "output_type": "stream",
     "text": [
      "this my new\n"
     ]
    }
   ],
   "source": [
    "pw=pwskills()"
   ]
  },
  {
   "cell_type": "code",
   "execution_count": 53,
   "id": "20e92de0-f2b7-4f8b-86aa-756fb527c4be",
   "metadata": {},
   "outputs": [],
   "source": [
    "class pwskills1:\n",
    "    def __init__ (self):\n",
    "        self.mobile_number= 876484\n",
    "        \n",
    "        def __str__(self):\n",
    "            return 'this is a magic method which will print something for object'"
   ]
  },
  {
   "cell_type": "code",
   "execution_count": 54,
   "id": "3abb3ea3-a942-4298-8180-c4026c98fe34",
   "metadata": {},
   "outputs": [],
   "source": [
    "pw1=pwskills1()"
   ]
  },
  {
   "cell_type": "code",
   "execution_count": 51,
   "id": "e942a589-b09c-4ba2-bd31-b9b93480716e",
   "metadata": {},
   "outputs": [
    {
     "data": {
      "text/plain": [
       "<__main__.pwskills1 at 0x296748ae4c0>"
      ]
     },
     "execution_count": 51,
     "metadata": {},
     "output_type": "execute_result"
    }
   ],
   "source": [
    "pw1"
   ]
  },
  {
   "cell_type": "code",
   "execution_count": 56,
   "id": "a99206e1-616d-4c34-9647-3d523ad2a5d4",
   "metadata": {},
   "outputs": [
    {
     "name": "stdout",
     "output_type": "stream",
     "text": [
      "<__main__.pwskills1 object at 0x00000296748AE490>\n"
     ]
    }
   ],
   "source": [
    "print(pw1)"
   ]
  },
  {
   "cell_type": "code",
   "execution_count": 8,
   "id": "70fb5ea0-6fb2-4cb8-bd6f-7a21fedbd541",
   "metadata": {},
   "outputs": [],
   "source": [
    "class pwskills1:\n",
    "    def __init__ (self):\n",
    "        self.mobile_number= 876484\n",
    "        \n",
    "        def __str__(self):\n",
    "            return \"this is a magic method which will print something for object\""
   ]
  },
  {
   "cell_type": "code",
   "execution_count": 9,
   "id": "6233cdbc-a73a-416d-a0d2-bec331a85f9c",
   "metadata": {},
   "outputs": [],
   "source": [
    "pw1=pwskills1()"
   ]
  },
  {
   "cell_type": "code",
   "execution_count": 15,
   "id": "ef06c41b-dba9-4618-bd3d-b49783dbbe98",
   "metadata": {},
   "outputs": [
    {
     "name": "stdout",
     "output_type": "stream",
     "text": [
      "<__main__.pwskills1 object at 0x00000207306F7F40>\n"
     ]
    }
   ],
   "source": [
    "print(pw1)"
   ]
  },
  {
   "cell_type": "code",
   "execution_count": 11,
   "id": "8439d263-d33a-4993-9db1-8dcb503cc428",
   "metadata": {},
   "outputs": [
    {
     "name": "stdout",
     "output_type": "stream",
     "text": [
      "123\n"
     ]
    }
   ],
   "source": [
    "print(123)"
   ]
  },
  {
   "cell_type": "code",
   "execution_count": 12,
   "id": "35633c6c-98a3-4d99-b0d6-29d14866fba0",
   "metadata": {},
   "outputs": [
    {
     "data": {
      "text/plain": [
       "['__class__',\n",
       " '__class_getitem__',\n",
       " '__contains__',\n",
       " '__delattr__',\n",
       " '__delitem__',\n",
       " '__dir__',\n",
       " '__doc__',\n",
       " '__eq__',\n",
       " '__format__',\n",
       " '__ge__',\n",
       " '__getattribute__',\n",
       " '__getitem__',\n",
       " '__gt__',\n",
       " '__hash__',\n",
       " '__init__',\n",
       " '__init_subclass__',\n",
       " '__ior__',\n",
       " '__iter__',\n",
       " '__le__',\n",
       " '__len__',\n",
       " '__lt__',\n",
       " '__ne__',\n",
       " '__new__',\n",
       " '__or__',\n",
       " '__reduce__',\n",
       " '__reduce_ex__',\n",
       " '__repr__',\n",
       " '__reversed__',\n",
       " '__ror__',\n",
       " '__setattr__',\n",
       " '__setitem__',\n",
       " '__sizeof__',\n",
       " '__str__',\n",
       " '__subclasshook__',\n",
       " 'clear',\n",
       " 'copy',\n",
       " 'fromkeys',\n",
       " 'get',\n",
       " 'items',\n",
       " 'keys',\n",
       " 'pop',\n",
       " 'popitem',\n",
       " 'setdefault',\n",
       " 'update',\n",
       " 'values']"
      ]
     },
     "execution_count": 12,
     "metadata": {},
     "output_type": "execute_result"
    }
   ],
   "source": [
    "dir(dict)"
   ]
  },
  {
   "cell_type": "code",
   "execution_count": 13,
   "id": "851b56e9-1803-47ac-b633-be2ca2e5d6ad",
   "metadata": {},
   "outputs": [
    {
     "data": {
      "text/plain": [
       "['__add__',\n",
       " '__class__',\n",
       " '__class_getitem__',\n",
       " '__contains__',\n",
       " '__delattr__',\n",
       " '__dir__',\n",
       " '__doc__',\n",
       " '__eq__',\n",
       " '__format__',\n",
       " '__ge__',\n",
       " '__getattribute__',\n",
       " '__getitem__',\n",
       " '__getnewargs__',\n",
       " '__gt__',\n",
       " '__hash__',\n",
       " '__init__',\n",
       " '__init_subclass__',\n",
       " '__iter__',\n",
       " '__le__',\n",
       " '__len__',\n",
       " '__lt__',\n",
       " '__mul__',\n",
       " '__ne__',\n",
       " '__new__',\n",
       " '__reduce__',\n",
       " '__reduce_ex__',\n",
       " '__repr__',\n",
       " '__rmul__',\n",
       " '__setattr__',\n",
       " '__sizeof__',\n",
       " '__str__',\n",
       " '__subclasshook__',\n",
       " 'count',\n",
       " 'index']"
      ]
     },
     "execution_count": 13,
     "metadata": {},
     "output_type": "execute_result"
    }
   ],
   "source": [
    "dir(tuple)"
   ]
  },
  {
   "cell_type": "markdown",
   "id": "4deee5d0-2c76-43e7-bce8-59e1f7eaffa0",
   "metadata": {},
   "source": [
    "## property Decorator "
   ]
  },
  {
   "cell_type": "code",
   "execution_count": 16,
   "id": "f28487a2-5cc6-4e38-af97-e4dd1b4c7d09",
   "metadata": {},
   "outputs": [],
   "source": [
    "class pwskills8:\n",
    "    def __init__(self,course_price,course_name):\n",
    "        self.__course_price=course_price\n",
    "        self.course_name = course_name"
   ]
  },
  {
   "cell_type": "code",
   "execution_count": 17,
   "id": "c54b8b46-288c-45dd-bd4d-447ebe87ce11",
   "metadata": {},
   "outputs": [],
   "source": [
    "pw8=pwskills8(3500,'data science masters')"
   ]
  },
  {
   "cell_type": "code",
   "execution_count": 18,
   "id": "00cff4b6-0430-4dd7-9c9b-3873ad555777",
   "metadata": {},
   "outputs": [
    {
     "data": {
      "text/plain": [
       "'data science masters'"
      ]
     },
     "execution_count": 18,
     "metadata": {},
     "output_type": "execute_result"
    }
   ],
   "source": [
    "pw8.course_name"
   ]
  },
  {
   "cell_type": "code",
   "execution_count": 21,
   "id": "06f3c734-5411-4a2a-a153-da388db80658",
   "metadata": {},
   "outputs": [
    {
     "data": {
      "text/plain": [
       "3500"
      ]
     },
     "execution_count": 21,
     "metadata": {},
     "output_type": "execute_result"
    }
   ],
   "source": [
    "pw8._pwskills8__course_price"
   ]
  },
  {
   "cell_type": "code",
   "execution_count": 24,
   "id": "4e38c8b5-0ef5-42aa-a783-451700acaca3",
   "metadata": {},
   "outputs": [],
   "source": [
    "## protected __ method to accessable to outer world \n",
    "\n",
    "class pwskills8:\n",
    "    \n",
    "    def __init__(self,course_price,course_name):\n",
    "        self.__course_price=course_price\n",
    "        self.course_name = course_name\n",
    "        \n",
    "    ## property decorater is used to expose the protected variable  \n",
    "    @property \n",
    "    def course_price_acess(self):\n",
    "        return self.__course_price"
   ]
  },
  {
   "cell_type": "code",
   "execution_count": 25,
   "id": "fde99a18-2c79-4ab6-aa93-db79adf9e19c",
   "metadata": {},
   "outputs": [],
   "source": [
    "pw9=pwskills8(5000,'upgrad')"
   ]
  },
  {
   "cell_type": "code",
   "execution_count": 45,
   "id": "53588964-7d1e-435b-b814-dacc9bcdd6b2",
   "metadata": {},
   "outputs": [
    {
     "data": {
      "text/plain": [
       "5000"
      ]
     },
     "execution_count": 45,
     "metadata": {},
     "output_type": "execute_result"
    }
   ],
   "source": [
    "pw9.course_price_acess"
   ]
  },
  {
   "cell_type": "code",
   "execution_count": 58,
   "id": "c2829de9-d7d2-4ba9-9446-fde1cccf655b",
   "metadata": {},
   "outputs": [],
   "source": [
    "## protected __ method to accessable to outer world \n",
    "\n",
    "class pwskills8:\n",
    "    \n",
    "    def __init__(self,course_price,course_name):\n",
    "        self.__course_price=course_price\n",
    "        self.course_name = course_name\n",
    "        \n",
    "    ## property decorater is used to expose the protected variable  \n",
    "    @property \n",
    "    def course_price_access(self):\n",
    "        return self.__course_price\n",
    "    \n",
    "    @course_price_access.setter\n",
    "    def course_price_set(self,price):\n",
    "        if price <= 3500:\n",
    "            pass\n",
    "        else:\n",
    "            self.__course_price=price\n",
    "            \n",
    "    ## to delete the private variable \n",
    "    @course_price_access.deleter\n",
    "    def course_price_del(self):\n",
    "        del  self.__course_price"
   ]
  },
  {
   "cell_type": "code",
   "execution_count": 59,
   "id": "88ac055f-c4d8-493c-9039-cef129cd74c0",
   "metadata": {},
   "outputs": [],
   "source": [
    "pw10=pwskills8(5000,'upgrad')"
   ]
  },
  {
   "cell_type": "code",
   "execution_count": 52,
   "id": "345c503a-83ed-40ec-a5e0-4c8d212e0b7b",
   "metadata": {},
   "outputs": [],
   "source": [
    "pw10.course_price_set=(2300)"
   ]
  },
  {
   "cell_type": "code",
   "execution_count": 53,
   "id": "afd5dafb-5892-4ce2-b684-a05964879af3",
   "metadata": {},
   "outputs": [],
   "source": [
    "pw10.course_price_set=(3500)"
   ]
  },
  {
   "cell_type": "code",
   "execution_count": 54,
   "id": "9688938c-120a-454b-b662-06d730ffea1f",
   "metadata": {},
   "outputs": [],
   "source": [
    "pw10.course_price_set=(4500)"
   ]
  },
  {
   "cell_type": "code",
   "execution_count": 63,
   "id": "466b482d-d644-402d-bee1-b7f8c493d643",
   "metadata": {},
   "outputs": [
    {
     "ename": "AttributeError",
     "evalue": "'pwskills8' object has no attribute '_pwskills8__course_price'",
     "output_type": "error",
     "traceback": [
      "\u001b[1;31m---------------------------------------------------------------------------\u001b[0m",
      "\u001b[1;31mAttributeError\u001b[0m                            Traceback (most recent call last)",
      "\u001b[1;32m~\\AppData\\Local\\Temp\\ipykernel_6924\\1681784541.py\u001b[0m in \u001b[0;36m<module>\u001b[1;34m\u001b[0m\n\u001b[1;32m----> 1\u001b[1;33m \u001b[0mpw10\u001b[0m\u001b[1;33m.\u001b[0m\u001b[0mcourse_price_access\u001b[0m\u001b[1;33m\u001b[0m\u001b[1;33m\u001b[0m\u001b[0m\n\u001b[0m",
      "\u001b[1;32m~\\AppData\\Local\\Temp\\ipykernel_6924\\3507784634.py\u001b[0m in \u001b[0;36mcourse_price_access\u001b[1;34m(self)\u001b[0m\n\u001b[0;32m     10\u001b[0m     \u001b[1;33m@\u001b[0m\u001b[0mproperty\u001b[0m\u001b[1;33m\u001b[0m\u001b[1;33m\u001b[0m\u001b[0m\n\u001b[0;32m     11\u001b[0m     \u001b[1;32mdef\u001b[0m \u001b[0mcourse_price_access\u001b[0m\u001b[1;33m(\u001b[0m\u001b[0mself\u001b[0m\u001b[1;33m)\u001b[0m\u001b[1;33m:\u001b[0m\u001b[1;33m\u001b[0m\u001b[1;33m\u001b[0m\u001b[0m\n\u001b[1;32m---> 12\u001b[1;33m         \u001b[1;32mreturn\u001b[0m \u001b[0mself\u001b[0m\u001b[1;33m.\u001b[0m\u001b[0m__course_price\u001b[0m\u001b[1;33m\u001b[0m\u001b[1;33m\u001b[0m\u001b[0m\n\u001b[0m\u001b[0;32m     13\u001b[0m \u001b[1;33m\u001b[0m\u001b[0m\n\u001b[0;32m     14\u001b[0m     \u001b[1;33m@\u001b[0m\u001b[0mcourse_price_access\u001b[0m\u001b[1;33m.\u001b[0m\u001b[0msetter\u001b[0m\u001b[1;33m\u001b[0m\u001b[1;33m\u001b[0m\u001b[0m\n",
      "\u001b[1;31mAttributeError\u001b[0m: 'pwskills8' object has no attribute '_pwskills8__course_price'"
     ]
    }
   ],
   "source": [
    "pw10.course_price_access"
   ]
  },
  {
   "cell_type": "code",
   "execution_count": 62,
   "id": "4b6efa23-11e2-4a31-80d5-dbda990fd4ea",
   "metadata": {},
   "outputs": [],
   "source": [
    "del pw10.course_price_del"
   ]
  },
  {
   "cell_type": "raw",
   "id": "0e063c69-c2e4-4bda-9078-00a980cb7c90",
   "metadata": {},
   "source": []
  },
  {
   "cell_type": "code",
   "execution_count": 64,
   "id": "57c5e384-b809-4ef6-ab48-aee0cac7471b",
   "metadata": {},
   "outputs": [],
   "source": []
  },
  {
   "cell_type": "code",
   "execution_count": null,
   "id": "8cdd4748-c975-48f8-9aa3-addc61b7821b",
   "metadata": {},
   "outputs": [],
   "source": []
  },
  {
   "cell_type": "code",
   "execution_count": null,
   "id": "80910a8b-ea33-4bdc-9eb6-b0822eb88bb2",
   "metadata": {},
   "outputs": [],
   "source": []
  }
 ],
 "metadata": {
  "kernelspec": {
   "display_name": "Python 3 (ipykernel)",
   "language": "python",
   "name": "python3"
  },
  "language_info": {
   "codemirror_mode": {
    "name": "ipython",
    "version": 3
   },
   "file_extension": ".py",
   "mimetype": "text/x-python",
   "name": "python",
   "nbconvert_exporter": "python",
   "pygments_lexer": "ipython3",
   "version": "3.9.13"
  }
 },
 "nbformat": 4,
 "nbformat_minor": 5
}
