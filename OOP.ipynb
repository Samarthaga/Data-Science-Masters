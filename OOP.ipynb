{
 "cells": [
  {
   "cell_type": "code",
   "execution_count": 1,
   "id": "afe2af4e-06fb-42ad-86e0-e47a66beb3d3",
   "metadata": {},
   "outputs": [],
   "source": [
    "class Atm:\n",
    "    # Functions Vs Methods \n",
    "    # Method is a special function which is written inside a class\n",
    "    # Functions are general and can be called via single name like len() however method is written inside the class like l.append(name)\n",
    "    \n",
    "    \n",
    "    def __init__(self):\n",
    "        # below are the variables inside the def method \n",
    "        self.pin='' # variable with blank str\n",
    "        self.balance=0\n",
    "        self.menu()\n",
    "        \n",
    "    def menu(self): # whenever the method is created always self should be provided as input\n",
    "        user_input=input('''\n",
    "        Hello How would you like to proceed \n",
    "        1 Enter 1 to create pin\n",
    "        2 Enter 2 Deposit\n",
    "        3 Enter 3 to widhraw\n",
    "        4 Enter 4 to Check balance \n",
    "        5 Enter 5 to exit\n",
    "        ''')\n",
    "        if user_input=='1':\n",
    "            self.create_pin()\n",
    "        elif user_input=='2':\n",
    "            self.deposit()\n",
    "        elif user_input=='3':\n",
    "            self.withdraw()\n",
    "        elif user_input=='4':\n",
    "            self.check_balance()\n",
    "        else:\n",
    "            print('bye')\n",
    "            \n",
    "    def create_pin(self):# whenever the method is created always self should be provided as input\n",
    "        self.pin=input('Enter your pin')\n",
    "        print(\"Pin set successfully\")\n",
    "        \n",
    "    def deposit(self):\n",
    "        temp=input('Enter Your pin')\n",
    "        if temp==self.pin:\n",
    "            amount=int(input('Enter the amount'))\n",
    "            self.balance=self.balance + amount\n",
    "            print('deposit successful')\n",
    "        else:\n",
    "            print('Invalid pin')\n",
    "    \n",
    "    def withdraw(self):\n",
    "        temp=input('Enter the pin')\n",
    "        if temp==self.pin:\n",
    "            amount=int(input('Enter the amount'))\n",
    "            if amount <= self.balance:\n",
    "                self.balance=self.balance - amount\n",
    "                print('Operation successful')\n",
    "            else:\n",
    "                print('insufficient funds')\n",
    "        else:\n",
    "            print('invalid pin')\n",
    "            \n",
    "    def check_balance(self):\n",
    "        temp=input('Enter your pin')\n",
    "        if temp==self.pin:\n",
    "            print(self.balance)\n",
    "        else:\n",
    "            print('invalid pin')\n",
    "            "
   ]
  },
  {
   "cell_type": "code",
   "execution_count": 2,
   "id": "db1d0aa6-1ef3-4e29-aa6a-09915dbe5850",
   "metadata": {},
   "outputs": [
    {
     "name": "stdin",
     "output_type": "stream",
     "text": [
      "\n",
      "        Hello How would you like to proceed \n",
      "        1 Enter 1 to create pin\n",
      "        2 Enter 2 Deposit\n",
      "        3 Enter 3 to widhraw\n",
      "        4 Enter 4 to Check balance \n",
      "        5 Enter 5 to exit\n",
      "         1\n",
      "Enter your pin 1234\n"
     ]
    },
    {
     "name": "stdout",
     "output_type": "stream",
     "text": [
      "Pin set successfully\n"
     ]
    }
   ],
   "source": [
    "sbi=Atm()"
   ]
  },
  {
   "cell_type": "markdown",
   "id": "e3bc1806-46ec-48b5-a7e8-a01f1fd039b6",
   "metadata": {},
   "source": [
    "sbi.deposit()"
   ]
  },
  {
   "cell_type": "code",
   "execution_count": null,
   "id": "0878599f-974e-422c-9256-3752804c1299",
   "metadata": {},
   "outputs": [],
   "source": []
  },
  {
   "cell_type": "code",
   "execution_count": 28,
   "id": "6a308e60-ddb8-419a-a2ec-925906f08011",
   "metadata": {},
   "outputs": [
    {
     "name": "stdin",
     "output_type": "stream",
     "text": [
      "Enter Your pin 1234\n",
      "Enter the amount 50000\n"
     ]
    },
    {
     "name": "stdout",
     "output_type": "stream",
     "text": [
      "deposit successful\n"
     ]
    }
   ],
   "source": [
    "sbi.deposit()"
   ]
  },
  {
   "cell_type": "code",
   "execution_count": 29,
   "id": "b242e21d-b15a-4233-9318-995da0299165",
   "metadata": {},
   "outputs": [
    {
     "name": "stdin",
     "output_type": "stream",
     "text": [
      "Enter your pin 1234\n"
     ]
    },
    {
     "name": "stdout",
     "output_type": "stream",
     "text": [
      "50000\n"
     ]
    }
   ],
   "source": [
    "sbi.check_balance()"
   ]
  },
  {
   "cell_type": "code",
   "execution_count": 30,
   "id": "80a8d67f-27b7-42f2-8729-9a37a4af9594",
   "metadata": {},
   "outputs": [
    {
     "name": "stdin",
     "output_type": "stream",
     "text": [
      "Enter the pin 1234\n",
      "Enter the amount 25000\n"
     ]
    },
    {
     "name": "stdout",
     "output_type": "stream",
     "text": [
      "Operation successful\n"
     ]
    }
   ],
   "source": [
    "sbi.withdraw()"
   ]
  },
  {
   "cell_type": "code",
   "execution_count": 31,
   "id": "fb6b3788-496e-41e5-93ef-deeaeede783a",
   "metadata": {},
   "outputs": [
    {
     "name": "stdin",
     "output_type": "stream",
     "text": [
      "\n",
      "        Hello How would you like to proceed \n",
      "        1 Enter 1 to create pin\n",
      "        2 Enter 2 Deposit\n",
      "        3 Enter 3 to widhraw\n",
      "        4 Enter 4 to Check balance \n",
      "        5 Enter 5 to exit\n",
      "         1\n",
      "Enter your pin 2345\n"
     ]
    },
    {
     "name": "stdout",
     "output_type": "stream",
     "text": [
      "Pin set successfully\n"
     ]
    }
   ],
   "source": [
    "hdfc=Atm()"
   ]
  },
  {
   "cell_type": "code",
   "execution_count": 32,
   "id": "f5c593fe-0231-4104-8d1b-30544deb1770",
   "metadata": {},
   "outputs": [
    {
     "name": "stdin",
     "output_type": "stream",
     "text": [
      "Enter Your pin 2345\n",
      "Enter the amount 1000000\n"
     ]
    },
    {
     "name": "stdout",
     "output_type": "stream",
     "text": [
      "deposit successful\n"
     ]
    }
   ],
   "source": [
    "hdfc.deposit()"
   ]
  },
  {
   "cell_type": "code",
   "execution_count": 34,
   "id": "2b3a4bd3-ee9c-4a2f-9824-e67bb1108652",
   "metadata": {},
   "outputs": [
    {
     "name": "stdin",
     "output_type": "stream",
     "text": [
      "Enter your pin 1234\n"
     ]
    },
    {
     "name": "stdout",
     "output_type": "stream",
     "text": [
      "25000\n"
     ]
    }
   ],
   "source": [
    "sbi.check_balance()"
   ]
  },
  {
   "cell_type": "code",
   "execution_count": 37,
   "id": "d334c628-480a-4277-b910-1da42a35d38f",
   "metadata": {},
   "outputs": [
    {
     "name": "stdin",
     "output_type": "stream",
     "text": [
      "Enter your pin 2345\n"
     ]
    },
    {
     "name": "stdout",
     "output_type": "stream",
     "text": [
      "1000000\n"
     ]
    }
   ],
   "source": [
    "hdfc.check_balance()"
   ]
  },
  {
   "cell_type": "code",
   "execution_count": 35,
   "id": "692ec0af-3e74-47e2-b1ba-f8f2f6816449",
   "metadata": {},
   "outputs": [
    {
     "ename": "SyntaxError",
     "evalue": "unmatched ')' (1052143073.py, line 23)",
     "output_type": "error",
     "traceback": [
      "\u001b[0;36m  Cell \u001b[0;32mIn[35], line 23\u001b[0;36m\u001b[0m\n\u001b[0;31m    def __mulself,other):\u001b[0m\n\u001b[0m                       ^\u001b[0m\n\u001b[0;31mSyntaxError\u001b[0m\u001b[0;31m:\u001b[0m unmatched ')'\n"
     ]
    }
   ],
   "source": [
    "class Fraction:\n",
    "    \n",
    "    def __init__(self,n,d):\n",
    "        self.num=n\n",
    "        self.den=d\n",
    "        \n",
    "    def __str__(self):\n",
    "        return '{}/{}'.format(self.num,self.den)\n",
    "    \n",
    "    def __add__(self,other):\n",
    "        \n",
    "        temp_num=self.num * other.den + other.num *self.den\n",
    "        temp_den=self.den * other.den\n",
    "        \n",
    "        return'{}/{}'.format(temp_num,temp_den)\n",
    "    \n",
    "    def __sub__(self,other):\n",
    "        temp_num= self.num * other.den - other.num * self.den\n",
    "        temp_den= self.den * other.den\n",
    "        \n",
    "        return'{}/{}'.format(temp_num,temp_den)\n",
    "     \n",
    "    def __mulself,other):\n",
    "        temp_num= self.num *  other.num \n",
    "        temp_den= self.den * other.den\n",
    "        \n",
    "        return'{}/{}'.format(temp_num,temp_den)"
   ]
  },
  {
   "cell_type": "code",
   "execution_count": 3,
   "id": "8baae492-51a3-482d-9032-3ef8b998233e",
   "metadata": {},
   "outputs": [],
   "source": [
    "x=Fraction(4,5)"
   ]
  },
  {
   "cell_type": "code",
   "execution_count": 4,
   "id": "9ad6c4ed-aaf1-46f1-9a2f-2ed3d54e108b",
   "metadata": {},
   "outputs": [
    {
     "data": {
      "text/plain": [
       "__main__.Fraction"
      ]
     },
     "execution_count": 4,
     "metadata": {},
     "output_type": "execute_result"
    }
   ],
   "source": [
    "type(x)"
   ]
  },
  {
   "cell_type": "code",
   "execution_count": 39,
   "id": "f48db063-e473-45e1-84b1-cc4ed9e0b4b0",
   "metadata": {},
   "outputs": [
    {
     "name": "stdout",
     "output_type": "stream",
     "text": [
      "4/5\n"
     ]
    }
   ],
   "source": [
    "print(x)"
   ]
  },
  {
   "cell_type": "code",
   "execution_count": 4,
   "id": "8cd3ea7a-a584-447a-a519-6559f741dc7a",
   "metadata": {},
   "outputs": [],
   "source": [
    "y=Fraction(5,6)"
   ]
  },
  {
   "cell_type": "code",
   "execution_count": 41,
   "id": "11ef9ef1-71af-4306-b7da-38633e10110d",
   "metadata": {},
   "outputs": [
    {
     "name": "stdout",
     "output_type": "stream",
     "text": [
      "5/6\n"
     ]
    }
   ],
   "source": [
    "print(y)"
   ]
  },
  {
   "cell_type": "code",
   "execution_count": 33,
   "id": "6dc5189e-cbda-4b1b-8c0d-4c07b410ee79",
   "metadata": {},
   "outputs": [
    {
     "name": "stdout",
     "output_type": "stream",
     "text": [
      "49/30\n"
     ]
    }
   ],
   "source": [
    "print(x+y)"
   ]
  },
  {
   "cell_type": "code",
   "execution_count": 34,
   "id": "f9303d32-7f95-4cdd-bf34-d07d334b593f",
   "metadata": {},
   "outputs": [
    {
     "name": "stdout",
     "output_type": "stream",
     "text": [
      "-1/30\n"
     ]
    }
   ],
   "source": [
    "print(x - y)"
   ]
  },
  {
   "cell_type": "code",
   "execution_count": 1,
   "id": "fd78ff7a-1ccd-4630-aa0c-462095b9810b",
   "metadata": {},
   "outputs": [],
   "source": [
    "class Fraction:\n",
    "    \n",
    "    def __init__(self,n,d):\n",
    "        self.num=n\n",
    "        self.den=d\n",
    "        \n",
    "    def __str__(self):\n",
    "        return '{}/{}'.format(self.num,self.den)\n",
    "    \n",
    "    def __add__(self,other):\n",
    "        \n",
    "        temp_num=self.num * other.den + other.num *self.den\n",
    "        temp_den=self.den * other.den\n",
    "        \n",
    "        return'{}/{}'.format(temp_num,temp_den)\n",
    "    \n",
    "    def __sub__(self,other):\n",
    "        temp_num= self.num * other.den - other.num * self.den\n",
    "        temp_den= self.den * other.den\n",
    "        \n",
    "        return'{}/{}'.format(temp_num,temp_den)\n",
    "     \n",
    "    def __mul__ (self,other):\n",
    "        temp_num= self.num *  other.num \n",
    "        temp_den= self.den * other.den\n",
    "        \n",
    "        return'{}/{}'.format(temp_num,temp_den)"
   ]
  },
  {
   "cell_type": "code",
   "execution_count": 5,
   "id": "2f60eac2-cc23-41c4-9ec8-be3b0811b9a8",
   "metadata": {},
   "outputs": [
    {
     "name": "stdout",
     "output_type": "stream",
     "text": [
      "20/30\n"
     ]
    }
   ],
   "source": [
    "print(x * y)"
   ]
  },
  {
   "cell_type": "code",
   "execution_count": 9,
   "id": "b0736d60-570d-4145-a546-c6580b4bf758",
   "metadata": {},
   "outputs": [],
   "source": [
    "class Atm:\n",
    "    # Functions Vs Methods \n",
    "    # Method is a special function which is written inside a class\n",
    "    # Functions are general and can be called via single name like len() however method is written inside the class like l.append(name)\n",
    "    \n",
    "    \n",
    "    def __init__(self):\n",
    "        # below are the variables inside the def method \n",
    "        self.__pin='' # variable with blank str\n",
    "        self.__balance=0\n",
    "        self.menu()\n",
    "        \n",
    "    def get_pin(self):\n",
    "        return self.__pin\n",
    "    \n",
    "    def set_pin(self,new_pin):\n",
    "        if type(new_pin)==str:\n",
    "            \n",
    "            self.__pin=new_pin\n",
    "            print('Pin changed')\n",
    "        else:\n",
    "            print('Not allowed')\n",
    "        \n",
    "    def menu(self): # whenever the method is created always self should be provided as input\n",
    "        user_input=input('''\n",
    "        Hello How would you like to proceed \n",
    "        1 Enter 1 to create pin\n",
    "        2 Enter 2 Deposit\n",
    "        3 Enter 3 to widhraw\n",
    "        4 Enter 4 to Check balance \n",
    "        5 Enter 5 to exit\n",
    "        ''')\n",
    "        if user_input=='1':\n",
    "            self.create_pin()\n",
    "        elif user_input=='2':\n",
    "            self.deposit()\n",
    "        elif user_input=='3':\n",
    "            self.withdraw()\n",
    "        elif user_input=='4':\n",
    "            self.check_balance()\n",
    "        else:\n",
    "            print('bye')\n",
    "            \n",
    "    def create_pin(self):# whenever the method is created always self should be provided as input\n",
    "        self.__pin=input('Enter your pin')\n",
    "        print(\"Pin set successfully\")\n",
    "        \n",
    "    def deposit(self):\n",
    "        temp=input('Enter Your pin')\n",
    "        if temp==self.__pin:\n",
    "            amount=int(input('Enter the amount'))\n",
    "            self.balance=self.__balance + amount\n",
    "            print('deposit successful')\n",
    "        else:\n",
    "            print('Invalid pin')\n",
    "    \n",
    "    def withdraw(self):\n",
    "        temp=input('Enter the pin')\n",
    "        if temp==self.__pin:\n",
    "            amount=int(input('Enter the amount'))\n",
    "            if amount <= self.__balance:\n",
    "                self.balance=self.__balance - amount\n",
    "                print('Operation successful')\n",
    "            else:\n",
    "                print('insufficient funds')\n",
    "        else:\n",
    "            print('invalid pin')\n",
    "            \n",
    "    def check_balance(self):\n",
    "        temp=input('Enter your pin')\n",
    "        if temp==self.__pin:\n",
    "            print(self.__balance)\n",
    "        else:\n",
    "            print('invalid pin')\n",
    "            "
   ]
  },
  {
   "cell_type": "code",
   "execution_count": 10,
   "id": "7ea66609-5ae3-49e1-8e61-34a897fdd00c",
   "metadata": {},
   "outputs": [
    {
     "name": "stdin",
     "output_type": "stream",
     "text": [
      "\n",
      "        Hello How would you like to proceed \n",
      "        1 Enter 1 to create pin\n",
      "        2 Enter 2 Deposit\n",
      "        3 Enter 3 to widhraw\n",
      "        4 Enter 4 to Check balance \n",
      "        5 Enter 5 to exit\n",
      "         1\n",
      "Enter your pin 1234\n"
     ]
    },
    {
     "name": "stdout",
     "output_type": "stream",
     "text": [
      "Pin set successfully\n"
     ]
    }
   ],
   "source": [
    "sbi=Atm()"
   ]
  },
  {
   "cell_type": "code",
   "execution_count": 7,
   "id": "985f55a2-bcc7-40bc-8096-20f5caaad926",
   "metadata": {},
   "outputs": [
    {
     "data": {
      "text/plain": [
       "'1234'"
      ]
     },
     "execution_count": 7,
     "metadata": {},
     "output_type": "execute_result"
    }
   ],
   "source": [
    "sbi.get_pin()"
   ]
  },
  {
   "cell_type": "code",
   "execution_count": 11,
   "id": "c43ada35-7c71-4bf8-a2ef-6197460f731a",
   "metadata": {},
   "outputs": [
    {
     "name": "stdout",
     "output_type": "stream",
     "text": [
      "Not allowed\n"
     ]
    }
   ],
   "source": [
    "sbi.set_pin(5678)"
   ]
  },
  {
   "cell_type": "code",
   "execution_count": 18,
   "id": "8fff046d-bc79-421f-a521-9ac48a7b51c1",
   "metadata": {},
   "outputs": [
    {
     "name": "stdout",
     "output_type": "stream",
     "text": [
      "Hello Samarth Sir\n"
     ]
    }
   ],
   "source": [
    "class Customer:\n",
    "    \n",
    "    def __init__(self,name,gender):\n",
    "        self.name=name\n",
    "        self.gender=gender\n",
    "        \n",
    "def greet(customer):\n",
    "    if customer.gender=='Male':\n",
    "    \n",
    "        print('Hello',customer.name,'Sir')\n",
    "    else:\n",
    "        print('Hello',customer.name,'maam')\n",
    "        \n",
    "cust=Customer('Samarth','Male')\n",
    "greet(cust)"
   ]
  },
  {
   "cell_type": "code",
   "execution_count": null,
   "id": "d45ee7bb-4a6e-476d-9607-f687d25636e2",
   "metadata": {},
   "outputs": [],
   "source": []
  }
 ],
 "metadata": {
  "kernelspec": {
   "display_name": "Python 3 (ipykernel)",
   "language": "python",
   "name": "python3"
  },
  "language_info": {
   "codemirror_mode": {
    "name": "ipython",
    "version": 3
   },
   "file_extension": ".py",
   "mimetype": "text/x-python",
   "name": "python",
   "nbconvert_exporter": "python",
   "pygments_lexer": "ipython3",
   "version": "3.10.8"
  }
 },
 "nbformat": 4,
 "nbformat_minor": 5
}
