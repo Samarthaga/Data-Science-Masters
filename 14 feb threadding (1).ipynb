{
 "cells": [
  {
   "cell_type": "markdown",
   "id": "3cc21bc5-686d-4eff-a8a6-aabf96b1f701",
   "metadata": {},
   "source": [
    "## threading "
   ]
  },
  {
   "cell_type": "code",
   "execution_count": 6,
   "id": "24ab3739-fd26-4eab-b8fb-3f49d85a537f",
   "metadata": {},
   "outputs": [],
   "source": [
    "import threading"
   ]
  },
  {
   "cell_type": "code",
   "execution_count": 11,
   "id": "37b92731-8963-4880-8dac-21432f16879f",
   "metadata": {},
   "outputs": [],
   "source": [
    "def test(id):\n",
    "    print('this is my test id %d' % id)"
   ]
  },
  {
   "cell_type": "code",
   "execution_count": 12,
   "id": "8a66dbb9-41e1-43ae-8a56-5ccf973a8f6c",
   "metadata": {},
   "outputs": [
    {
     "name": "stdout",
     "output_type": "stream",
     "text": [
      "this is my test id 10\n"
     ]
    }
   ],
   "source": [
    "test(10)"
   ]
  },
  {
   "cell_type": "code",
   "execution_count": 15,
   "id": "97dd9e64-ea3d-4929-8150-2b986ddb74e5",
   "metadata": {},
   "outputs": [
    {
     "name": "stdout",
     "output_type": "stream",
     "text": [
      "this is my test id 1\n"
     ]
    }
   ],
   "source": [
    "test(1)"
   ]
  },
  {
   "cell_type": "code",
   "execution_count": 14,
   "id": "dc0d3dc6-20c0-4cfa-a692-101810c4e0b7",
   "metadata": {},
   "outputs": [
    {
     "name": "stdout",
     "output_type": "stream",
     "text": [
      "this is my test id 3\n"
     ]
    }
   ],
   "source": [
    "test(3)"
   ]
  },
  {
   "cell_type": "code",
   "execution_count": 18,
   "id": "875e9799-c5b4-4efe-82c3-a50a05a9c3a7",
   "metadata": {},
   "outputs": [],
   "source": [
    "thred=[threading.Thread(target=test,args=(i,)) for i in [10,1,3]]"
   ]
  },
  {
   "cell_type": "code",
   "execution_count": 19,
   "id": "9381f662-8993-44f5-a5f6-f13bb25875dd",
   "metadata": {},
   "outputs": [
    {
     "data": {
      "text/plain": [
       "[<Thread(Thread-8 (test), initial)>,\n",
       " <Thread(Thread-9 (test), initial)>,\n",
       " <Thread(Thread-10 (test), initial)>]"
      ]
     },
     "execution_count": 19,
     "metadata": {},
     "output_type": "execute_result"
    }
   ],
   "source": [
    "thred"
   ]
  },
  {
   "cell_type": "code",
   "execution_count": 20,
   "id": "c52e2454-82bd-4c76-b12e-f6ef13f0efc5",
   "metadata": {},
   "outputs": [
    {
     "name": "stdout",
     "output_type": "stream",
     "text": [
      "this is my test id 10\n",
      "this is my test id 1\n",
      "this is my test id 3\n"
     ]
    }
   ],
   "source": [
    "## in a single core its created three thread \n",
    "\n",
    "for t in thred:\n",
    "    t.start()"
   ]
  },
  {
   "cell_type": "code",
   "execution_count": 21,
   "id": "9456b9bb-847b-4774-aa62-0d2feaef91a9",
   "metadata": {},
   "outputs": [],
   "source": [
    "import urllib.request"
   ]
  },
  {
   "cell_type": "code",
   "execution_count": 22,
   "id": "0f5845c5-10ac-4da9-80cd-8b786c19ef64",
   "metadata": {},
   "outputs": [],
   "source": [
    "def file_download(url,filename):\n",
    "    urllib.request.urlretrieve(url,filename)"
   ]
  },
  {
   "cell_type": "code",
   "execution_count": 23,
   "id": "d44b426b-c179-43c7-a500-d3168c523a08",
   "metadata": {},
   "outputs": [],
   "source": [
    "file_download('https://www.kotak.com/en/business/industries/retail.html.txt','test1.txt')"
   ]
  },
  {
   "cell_type": "code",
   "execution_count": 24,
   "id": "c52a9726-e922-4527-969d-bcb937539d1c",
   "metadata": {},
   "outputs": [],
   "source": [
    "url_lst=['https://www.kotak.com/en/business/industries/retail.html.txt','https://www.axisbank.com/retail.txt','https://www.icicibank.com/business-banking/institutional-banking.txt']"
   ]
  },
  {
   "cell_type": "code",
   "execution_count": 25,
   "id": "59057bb0-62a5-44bb-9c31-de8440c0b838",
   "metadata": {},
   "outputs": [
    {
     "data": {
      "text/plain": [
       "['https://www.kotak.com/en/business/industries/retail.html.txt',\n",
       " 'https://www.axisbank.com/retail.txt',\n",
       " 'https://www.icicibank.com/business-banking/institutional-banking.txt']"
      ]
     },
     "execution_count": 25,
     "metadata": {},
     "output_type": "execute_result"
    }
   ],
   "source": [
    "url_lst"
   ]
  },
  {
   "cell_type": "code",
   "execution_count": 26,
   "id": "6798eaaa-ef1d-47c9-8dee-8b0e8ccb2dd0",
   "metadata": {},
   "outputs": [],
   "source": [
    "data_file_lst= ['data1.txt','data2.txt','data3.txt']"
   ]
  },
  {
   "cell_type": "code",
   "execution_count": 28,
   "id": "9a85fa0d-6800-4b1e-816a-562010b34a39",
   "metadata": {},
   "outputs": [],
   "source": [
    "thread1=[threading.Thread(target=file_download , args=(url_lst[i],data_file_lst[i])) for i in range(len(url_lst))]"
   ]
  },
  {
   "cell_type": "code",
   "execution_count": 29,
   "id": "e7890045-fb4a-4e8a-a2cd-edc762fe9a17",
   "metadata": {},
   "outputs": [
    {
     "name": "stderr",
     "output_type": "stream",
     "text": [
      "Exception in thread Thread-15 (file_download):\n",
      "Traceback (most recent call last):\n",
      "  File \"/opt/conda/lib/python3.10/threading.py\", line 1016, in _bootstrap_inner\n",
      "    self.run()\n",
      "  File \"/opt/conda/lib/python3.10/threading.py\", line 953, in run\n",
      "    self._target(*self._args, **self._kwargs)\n",
      "  File \"/tmp/ipykernel_849/2310082135.py\", line 2, in file_download\n",
      "  File \"/opt/conda/lib/python3.10/urllib/request.py\", line 241, in urlretrieve\n",
      "    with contextlib.closing(urlopen(url, data)) as fp:\n",
      "  File \"/opt/conda/lib/python3.10/urllib/request.py\", line 216, in urlopen\n",
      "    return opener.open(url, data, timeout)\n",
      "  File \"/opt/conda/lib/python3.10/urllib/request.py\", line 525, in open\n",
      "    response = meth(req, response)\n",
      "  File \"/opt/conda/lib/python3.10/urllib/request.py\", line 634, in http_response\n",
      "    response = self.parent.error(\n",
      "  File \"/opt/conda/lib/python3.10/urllib/request.py\", line 563, in error\n",
      "    return self._call_chain(*args)\n",
      "  File \"/opt/conda/lib/python3.10/urllib/request.py\", line 496, in _call_chain\n",
      "    result = func(*args)\n",
      "  File \"/opt/conda/lib/python3.10/urllib/request.py\", line 643, in http_error_default\n",
      "    raise HTTPError(req.full_url, code, msg, hdrs, fp)\n",
      "urllib.error.HTTPError: HTTP Error 403: Forbidden\n"
     ]
    }
   ],
   "source": [
    "for t in thread1:\n",
    "    t.start()"
   ]
  },
  {
   "cell_type": "code",
   "execution_count": 30,
   "id": "2321da58-888e-4ec0-bb44-7e541f300133",
   "metadata": {},
   "outputs": [
    {
     "data": {
      "text/plain": [
       "[<Thread(Thread-14 (file_download), stopped 140016604935744)>,\n",
       " <Thread(Thread-15 (file_download), stopped 140016592348736)>,\n",
       " <Thread(Thread-16 (file_download), stopped 140016583956032)>]"
      ]
     },
     "execution_count": 30,
     "metadata": {},
     "output_type": "execute_result"
    }
   ],
   "source": [
    "thread1"
   ]
  },
  {
   "cell_type": "code",
   "execution_count": 31,
   "id": "c70e3926-d278-46cd-8664-55e542603d85",
   "metadata": {},
   "outputs": [],
   "source": [
    "import time"
   ]
  },
  {
   "cell_type": "code",
   "execution_count": 37,
   "id": "8fd0bc62-eb22-4653-9010-9d47f1c4023d",
   "metadata": {},
   "outputs": [],
   "source": [
    "def test2(x):\n",
    "    for i in range(10):\n",
    "        print('test1 print the value of x %d and print the value of i %d' %(x,i))\n",
    "        time.sleep(1)"
   ]
  },
  {
   "cell_type": "code",
   "execution_count": 38,
   "id": "ad110f97-7a7c-4553-88c0-e33584dbd476",
   "metadata": {},
   "outputs": [
    {
     "name": "stdout",
     "output_type": "stream",
     "text": [
      "test1 print the value of x 10 and print the value of i 0\n",
      "test1 print the value of x 10 and print the value of i 1\n",
      "test1 print the value of x 10 and print the value of i 2\n",
      "test1 print the value of x 10 and print the value of i 3\n",
      "test1 print the value of x 10 and print the value of i 4\n",
      "test1 print the value of x 10 and print the value of i 5\n",
      "test1 print the value of x 10 and print the value of i 6\n",
      "test1 print the value of x 10 and print the value of i 7\n",
      "test1 print the value of x 10 and print the value of i 8\n",
      "test1 print the value of x 10 and print the value of i 9\n"
     ]
    }
   ],
   "source": [
    "test2(10)"
   ]
  },
  {
   "cell_type": "code",
   "execution_count": 36,
   "id": "57e176d6-9e1b-4bbd-8aed-7c8b912dc9b8",
   "metadata": {},
   "outputs": [
    {
     "name": "stdout",
     "output_type": "stream",
     "text": [
      "test1 print the value of x 2 and print the value of i 0\n",
      "test1 print the value of x 2 and print the value of i 1\n",
      "test1 print the value of x 2 and print the value of i 2\n",
      "test1 print the value of x 2 and print the value of i 3\n",
      "test1 print the value of x 2 and print the value of i 4\n",
      "test1 print the value of x 2 and print the value of i 5\n",
      "test1 print the value of x 2 and print the value of i 6\n",
      "test1 print the value of x 2 and print the value of i 7\n",
      "test1 print the value of x 2 and print the value of i 8\n",
      "test1 print the value of x 2 and print the value of i 9\n"
     ]
    }
   ],
   "source": [
    "test2(2)"
   ]
  },
  {
   "cell_type": "code",
   "execution_count": 39,
   "id": "89e6a454-87e5-4360-9def-3b1a063fedc4",
   "metadata": {},
   "outputs": [],
   "source": [
    "thread2=[threading.Thread(target=test2,args=(i,)) for i in [100,10,20,5]]"
   ]
  },
  {
   "cell_type": "code",
   "execution_count": 47,
   "id": "453b577e-81cd-4adb-9fce-61a8a0a75e23",
   "metadata": {},
   "outputs": [
    {
     "ename": "RuntimeError",
     "evalue": "threads can only be started once",
     "output_type": "error",
     "traceback": [
      "\u001b[0;31m---------------------------------------------------------------------------\u001b[0m",
      "\u001b[0;31mRuntimeError\u001b[0m                              Traceback (most recent call last)",
      "Cell \u001b[0;32mIn[47], line 2\u001b[0m\n\u001b[1;32m      1\u001b[0m \u001b[38;5;28;01mfor\u001b[39;00m t \u001b[38;5;129;01min\u001b[39;00m thread2:\n\u001b[0;32m----> 2\u001b[0m     \u001b[43mt\u001b[49m\u001b[38;5;241;43m.\u001b[39;49m\u001b[43mstart\u001b[49m\u001b[43m(\u001b[49m\u001b[43m)\u001b[49m\n",
      "File \u001b[0;32m/opt/conda/lib/python3.10/threading.py:930\u001b[0m, in \u001b[0;36mThread.start\u001b[0;34m(self)\u001b[0m\n\u001b[1;32m    927\u001b[0m     \u001b[38;5;28;01mraise\u001b[39;00m \u001b[38;5;167;01mRuntimeError\u001b[39;00m(\u001b[38;5;124m\"\u001b[39m\u001b[38;5;124mthread.__init__() not called\u001b[39m\u001b[38;5;124m\"\u001b[39m)\n\u001b[1;32m    929\u001b[0m \u001b[38;5;28;01mif\u001b[39;00m \u001b[38;5;28mself\u001b[39m\u001b[38;5;241m.\u001b[39m_started\u001b[38;5;241m.\u001b[39mis_set():\n\u001b[0;32m--> 930\u001b[0m     \u001b[38;5;28;01mraise\u001b[39;00m \u001b[38;5;167;01mRuntimeError\u001b[39;00m(\u001b[38;5;124m\"\u001b[39m\u001b[38;5;124mthreads can only be started once\u001b[39m\u001b[38;5;124m\"\u001b[39m)\n\u001b[1;32m    932\u001b[0m \u001b[38;5;28;01mwith\u001b[39;00m _active_limbo_lock:\n\u001b[1;32m    933\u001b[0m     _limbo[\u001b[38;5;28mself\u001b[39m] \u001b[38;5;241m=\u001b[39m \u001b[38;5;28mself\u001b[39m\n",
      "\u001b[0;31mRuntimeError\u001b[0m: threads can only be started once"
     ]
    }
   ],
   "source": [
    "for t in thread2:\n",
    "    t.start()"
   ]
  },
  {
   "cell_type": "code",
   "execution_count": 41,
   "id": "3ee790c3-b18d-4f6c-bd19-e5b00d09eb3b",
   "metadata": {},
   "outputs": [],
   "source": [
    "def test2(x):\n",
    "    for i in range(10):\n",
    "        print('test1 print the value of x %d and print the value of i %d' %(x,i))\n",
    "        ##time.sleep(1)"
   ]
  },
  {
   "cell_type": "code",
   "execution_count": null,
   "id": "1c2237b7-6808-45c6-b334-1520a855c525",
   "metadata": {},
   "outputs": [
    {
     "data": {
      "text/plain": [
       "[<Thread(Thread-17 (test2), stopped 140016583956032)>,\n",
       " <Thread(Thread-18 (test2), stopped 140016604935744)>,\n",
       " <Thread(Thread-19 (test2), stopped 140016592348736)>,\n",
       " <Thread(Thread-20 (test2), stopped 140016575563328)>]"
      ]
     },
     "execution_count": 43,
     "metadata": {},
     "output_type": "execute_result"
    }
   ],
   "source": [
    "test"
   ]
  },
  {
   "cell_type": "code",
   "execution_count": 58,
   "id": "a50f8302-b039-4f57-a447-22f421231bc3",
   "metadata": {},
   "outputs": [],
   "source": [
    "shared_var=0\n",
    "lock_var=threading.Lock()\n",
    "def test3(x):\n",
    "    global shared_var\n",
    "    with lock_var:\n",
    "        shared_var=shared_var +1\n",
    "        print('value of x %d and value of shared_var %d'%(x,shared_var))\n",
    "        time.sleep(1)\n",
    "        \n",
    "thread4=[threading.Thread(target=test3,args=(i,)) for i in [1,2,3,4,5]]"
   ]
  },
  {
   "cell_type": "code",
   "execution_count": 57,
   "id": "f6780110-44af-4913-926a-937801a21579",
   "metadata": {},
   "outputs": [
    {
     "name": "stdout",
     "output_type": "stream",
     "text": [
      "value of x 1 and value of shared_var 5\n"
     ]
    }
   ],
   "source": [
    "test3(1)"
   ]
  },
  {
   "cell_type": "code",
   "execution_count": 56,
   "id": "be6c8086-2887-4188-9022-3be754b6ab93",
   "metadata": {},
   "outputs": [
    {
     "name": "stdout",
     "output_type": "stream",
     "text": [
      "value of x 2 and value of shared_var 4\n"
     ]
    }
   ],
   "source": [
    "test3(2)"
   ]
  },
  {
   "cell_type": "code",
   "execution_count": 59,
   "id": "908f92eb-9f7a-4c43-9fb8-924dd0e54c8e",
   "metadata": {},
   "outputs": [
    {
     "name": "stdout",
     "output_type": "stream",
     "text": [
      "value of x 1 and value of shared_var 1\n",
      "value of x 2 and value of shared_var 2\n",
      "value of x 3 and value of shared_var 3\n",
      "value of x 4 and value of shared_var 4\n",
      "value of x 5 and value of shared_var 5\n"
     ]
    }
   ],
   "source": [
    "for t in thread4:\n",
    "    t.start()"
   ]
  },
  {
   "cell_type": "code",
   "execution_count": null,
   "id": "44d4138f-b984-4eb0-846d-5158a4362f19",
   "metadata": {},
   "outputs": [],
   "source": []
  }
 ],
 "metadata": {
  "kernelspec": {
   "display_name": "Python 3 (ipykernel)",
   "language": "python",
   "name": "python3"
  },
  "language_info": {
   "codemirror_mode": {
    "name": "ipython",
    "version": 3
   },
   "file_extension": ".py",
   "mimetype": "text/x-python",
   "name": "python",
   "nbconvert_exporter": "python",
   "pygments_lexer": "ipython3",
   "version": "3.10.8"
  }
 },
 "nbformat": 4,
 "nbformat_minor": 5
}
