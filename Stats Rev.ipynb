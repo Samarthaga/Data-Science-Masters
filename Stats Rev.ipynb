{
 "cells": [
  {
   "cell_type": "code",
   "execution_count": 1,
   "id": "5ec5fb06-b22d-4a6b-bf1d-3a430f63d006",
   "metadata": {},
   "outputs": [
    {
     "name": "stdout",
     "output_type": "stream",
     "text": [
      "9\n"
     ]
    }
   ],
   "source": [
    "print(9)"
   ]
  },
  {
   "cell_type": "code",
   "execution_count": 42,
   "id": "700063c5-380f-49d9-ac71-d51d2c689862",
   "metadata": {},
   "outputs": [],
   "source": [
    "import numpy as np\n",
    "import pandas as pd\n",
    "import seaborn as sns \n",
    "import matplotlib.pyplot as plt"
   ]
  },
  {
   "cell_type": "code",
   "execution_count": null,
   "id": "7eb7eeaa-9624-4178-b2a3-3da7d9f90285",
   "metadata": {},
   "outputs": [],
   "source": []
  },
  {
   "cell_type": "code",
   "execution_count": 43,
   "id": "04107371-84a9-4d12-8d9b-a806f0b48226",
   "metadata": {},
   "outputs": [],
   "source": [
    "data=[7,3,6,8,10,2,5,4,9,1,2,3,11,12,-10,-15,25,30,40,50]"
   ]
  },
  {
   "cell_type": "code",
   "execution_count": 44,
   "id": "04dfed3c-d8af-45f5-9e6d-f7ac4439a7aa",
   "metadata": {},
   "outputs": [
    {
     "name": "stdout",
     "output_type": "stream",
     "text": [
      "sort data [-15 -10   1   2   2   3   3   4   5   6   7   8   9  10  11  12  25  30\n",
      "  40  50]\n"
     ]
    }
   ],
   "source": [
    "x=np.sort(data)\n",
    "print('sort data',x)"
   ]
  },
  {
   "cell_type": "code",
   "execution_count": 45,
   "id": "d7c9490f-c7b5-4b71-a289-e1efa89bd2a2",
   "metadata": {},
   "outputs": [
    {
     "name": "stdout",
     "output_type": "stream",
     "text": [
      "median 6.5\n"
     ]
    }
   ],
   "source": [
    "median_value=np.median(x)\n",
    "print('median',median_value)"
   ]
  },
  {
   "cell_type": "code",
   "execution_count": 23,
   "id": "a3aa8baa-f8a6-4d20-8592-eb7267847609",
   "metadata": {},
   "outputs": [],
   "source": [
    "q1,q3=np.percentile(x,[25,75])"
   ]
  },
  {
   "cell_type": "code",
   "execution_count": 25,
   "id": "809aab06-a2a4-406b-8310-f1de8006b06a",
   "metadata": {},
   "outputs": [
    {
     "data": {
      "text/plain": [
       "(2.75, 11.25)"
      ]
     },
     "execution_count": 25,
     "metadata": {},
     "output_type": "execute_result"
    }
   ],
   "source": [
    "q1,q3"
   ]
  },
  {
   "cell_type": "code",
   "execution_count": 29,
   "id": "f6b60aea-1f58-4723-94fe-e222e040ef7a",
   "metadata": {},
   "outputs": [
    {
     "name": "stdout",
     "output_type": "stream",
     "text": [
      "IQR 8.5\n"
     ]
    }
   ],
   "source": [
    "iqr=q3-q1\n",
    "print('IQR',iqr)"
   ]
  },
  {
   "cell_type": "code",
   "execution_count": 32,
   "id": "986d0914-62fe-4408-b409-91aeb1e4de60",
   "metadata": {},
   "outputs": [
    {
     "name": "stdout",
     "output_type": "stream",
     "text": [
      "lower_bound -10.0\n",
      "upper bound 15.5\n"
     ]
    }
   ],
   "source": [
    "lower_bound= q1 - 1.5 * iqr\n",
    "upper_bound=q1 + 1.5* iqr\n",
    "print('lower_bound',lower_bound)\n",
    "print('upper bound',upper_bound)"
   ]
  },
  {
   "cell_type": "code",
   "execution_count": 36,
   "id": "0dd18281-35d9-4205-bba4-d1d86cba91a6",
   "metadata": {},
   "outputs": [],
   "source": [
    "outliers=[]\n",
    "for i in x:\n",
    "    if i<lower_bound or i > upper_bound:\n",
    "        outliers.append(i)"
   ]
  },
  {
   "cell_type": "code",
   "execution_count": 39,
   "id": "87ec5f5a-7d08-4458-a82e-1e94a8a7da24",
   "metadata": {},
   "outputs": [],
   "source": [
    " outliers=[val for val in x if val<lower_bound or val>upper_bound]"
   ]
  },
  {
   "cell_type": "code",
   "execution_count": 41,
   "id": "078b952a-16b8-4081-b9cf-872bc51c3694",
   "metadata": {},
   "outputs": [
    {
     "data": {
      "text/plain": [
       "<AxesSubplot: >"
      ]
     },
     "execution_count": 41,
     "metadata": {},
     "output_type": "execute_result"
    },
    {
     "data": {
      "image/png": "[encoded data removed]",
      "text/plain": [
       "<Figure size 640x480 with 1 Axes>"
      ]
     },
     "metadata": {},
     "output_type": "display_data"
    }
   ],
   "source": [
    "sns.boxplot(x)"
   ]
  },
  {
   "cell_type": "code",
   "execution_count": 48,
   "id": "66d0e19c-8c07-48bc-9a6f-55ed8ddfe275",
   "metadata": {},
   "outputs": [],
   "source": [
    "from sklearn.datasets import load_iris"
   ]
  },
  {
   "cell_type": "code",
   "execution_count": 49,
   "id": "8be73cae-941c-4b68-a116-a22f2f76dabd",
   "metadata": {},
   "outputs": [],
   "source": [
    "iris=load_iris()"
   ]
  },
  {
   "cell_type": "code",
   "execution_count": 52,
   "id": "ad33b7c0-73f4-4fc6-9fe5-a337a773a447",
   "metadata": {},
   "outputs": [],
   "source": [
    "iris=pd.DataFrame(data=iris.data,columns=iris.feature_names)"
   ]
  },
  {
   "cell_type": "code",
   "execution_count": 53,
   "id": "1abefac1-93b0-42b4-8a2e-694fdb4e2124",
   "metadata": {},
   "outputs": [
    {
     "data": {
      "text/html": [
       "<div>\n",
       "<style scoped>\n",
       "    .dataframe tbody tr th:only-of-type {\n",
       "        vertical-align: middle;\n",
       "    }\n",
       "\n",
       "    .dataframe tbody tr th {\n",
       "        vertical-align: top;\n",
       "    }\n",
       "\n",
       "    .dataframe thead th {\n",
       "        text-align: right;\n",
       "    }\n",
       "</style>\n",
       "<table border=\"1\" class=\"dataframe\">\n",
       "  <thead>\n",
       "    <tr style=\"text-align: right;\">\n",
       "      <th></th>\n",
       "      <th>sepal length (cm)</th>\n",
       "      <th>sepal width (cm)</th>\n",
       "      <th>petal length (cm)</th>\n",
       "      <th>petal width (cm)</th>\n",
       "    </tr>\n",
       "  </thead>\n",
       "  <tbody>\n",
       "    <tr>\n",
       "      <th>0</th>\n",
       "      <td>5.1</td>\n",
       "      <td>3.5</td>\n",
       "      <td>1.4</td>\n",
       "      <td>0.2</td>\n",
       "    </tr>\n",
       "    <tr>\n",
       "      <th>1</th>\n",
       "      <td>4.9</td>\n",
       "      <td>3.0</td>\n",
       "      <td>1.4</td>\n",
       "      <td>0.2</td>\n",
       "    </tr>\n",
       "    <tr>\n",
       "      <th>2</th>\n",
       "      <td>4.7</td>\n",
       "      <td>3.2</td>\n",
       "      <td>1.3</td>\n",
       "      <td>0.2</td>\n",
       "    </tr>\n",
       "    <tr>\n",
       "      <th>3</th>\n",
       "      <td>4.6</td>\n",
       "      <td>3.1</td>\n",
       "      <td>1.5</td>\n",
       "      <td>0.2</td>\n",
       "    </tr>\n",
       "    <tr>\n",
       "      <th>4</th>\n",
       "      <td>5.0</td>\n",
       "      <td>3.6</td>\n",
       "      <td>1.4</td>\n",
       "      <td>0.2</td>\n",
       "    </tr>\n",
       "    <tr>\n",
       "      <th>...</th>\n",
       "      <td>...</td>\n",
       "      <td>...</td>\n",
       "      <td>...</td>\n",
       "      <td>...</td>\n",
       "    </tr>\n",
       "    <tr>\n",
       "      <th>145</th>\n",
       "      <td>6.7</td>\n",
       "      <td>3.0</td>\n",
       "      <td>5.2</td>\n",
       "      <td>2.3</td>\n",
       "    </tr>\n",
       "    <tr>\n",
       "      <th>146</th>\n",
       "      <td>6.3</td>\n",
       "      <td>2.5</td>\n",
       "      <td>5.0</td>\n",
       "      <td>1.9</td>\n",
       "    </tr>\n",
       "    <tr>\n",
       "      <th>147</th>\n",
       "      <td>6.5</td>\n",
       "      <td>3.0</td>\n",
       "      <td>5.2</td>\n",
       "      <td>2.0</td>\n",
       "    </tr>\n",
       "    <tr>\n",
       "      <th>148</th>\n",
       "      <td>6.2</td>\n",
       "      <td>3.4</td>\n",
       "      <td>5.4</td>\n",
       "      <td>2.3</td>\n",
       "    </tr>\n",
       "    <tr>\n",
       "      <th>149</th>\n",
       "      <td>5.9</td>\n",
       "      <td>3.0</td>\n",
       "      <td>5.1</td>\n",
       "      <td>1.8</td>\n",
       "    </tr>\n",
       "  </tbody>\n",
       "</table>\n",
       "<p>150 rows × 4 columns</p>\n",
       "</div>"
      ],
      "text/plain": [
       "     sepal length (cm)  sepal width (cm)  petal length (cm)  petal width (cm)\n",
       "0                  5.1               3.5                1.4               0.2\n",
       "1                  4.9               3.0                1.4               0.2\n",
       "2                  4.7               3.2                1.3               0.2\n",
       "3                  4.6               3.1                1.5               0.2\n",
       "4                  5.0               3.6                1.4               0.2\n",
       "..                 ...               ...                ...               ...\n",
       "145                6.7               3.0                5.2               2.3\n",
       "146                6.3               2.5                5.0               1.9\n",
       "147                6.5               3.0                5.2               2.0\n",
       "148                6.2               3.4                5.4               2.3\n",
       "149                5.9               3.0                5.1               1.8\n",
       "\n",
       "[150 rows x 4 columns]"
      ]
     },
     "execution_count": 53,
     "metadata": {},
     "output_type": "execute_result"
    }
   ],
   "source": [
    "iris"
   ]
  },
  {
   "cell_type": "code",
   "execution_count": 83,
   "id": "dfc7b8d4-969b-43e8-bd13-39374ad1fbf9",
   "metadata": {},
   "outputs": [],
   "source": [
    "def remove_outliers(x):\n",
    "    sorted_x=sorted(x)\n",
    "    q1,q3=np.percentile(x,[25,75])\n",
    "    iqr=q3-q1\n",
    "    lower_bound=q1-1.5 * iqr\n",
    "    upper_bound=q3 + 1.5 * iqr\n",
    "    outliers=[val for val in x if val < lower_bound or val > upper_bound]\n",
    "    new_x=[val for val in x if val >= lower_bound and val <= upper_bound]\n",
    "    return new_x,outliers"
   ]
  },
  {
   "cell_type": "code",
   "execution_count": 84,
   "id": "45168df2-ca1c-4fed-bbf8-6cea7d0583be",
   "metadata": {},
   "outputs": [],
   "source": [
    "new_sepal_length,outliers=remove_outliers(iris['sepal length (cm)'])"
   ]
  },
  {
   "cell_type": "code",
   "execution_count": 85,
   "id": "0d130963-141f-4438-b4f2-ae044b1e520d",
   "metadata": {},
   "outputs": [
    {
     "name": "stdout",
     "output_type": "stream",
     "text": [
      "Number of removed outliers 0\n",
      "New length of sepal length  150\n"
     ]
    }
   ],
   "source": [
    "print('Number of removed outliers',len(outliers))\n",
    "print('New length of sepal length ',len(new_sepal_length))"
   ]
  },
  {
   "cell_type": "code",
   "execution_count": 86,
   "id": "284001fd-73ac-4b2c-97ab-6cb1ff42cc32",
   "metadata": {},
   "outputs": [],
   "source": [
    "new_sepal_width=remove_outliers(iris['sepal width (cm)'])"
   ]
  },
  {
   "cell_type": "code",
   "execution_count": 87,
   "id": "30ea401b-0ca2-4dd8-85ab-50fcc524d5f8",
   "metadata": {},
   "outputs": [
    {
     "name": "stdout",
     "output_type": "stream",
     "text": [
      "Number of removed outliers 0\n"
     ]
    },
    {
     "ename": "NameError",
     "evalue": "name 'pe' is not defined",
     "output_type": "error",
     "traceback": [
      "\u001b[0;31m---------------------------------------------------------------------------\u001b[0m",
      "\u001b[0;31mNameError\u001b[0m                                 Traceback (most recent call last)",
      "Cell \u001b[0;32mIn[87], line 2\u001b[0m\n\u001b[1;32m      1\u001b[0m \u001b[38;5;28mprint\u001b[39m(\u001b[38;5;124m'\u001b[39m\u001b[38;5;124mNumber of removed outliers\u001b[39m\u001b[38;5;124m'\u001b[39m,\u001b[38;5;28mlen\u001b[39m(outliers))\n\u001b[0;32m----> 2\u001b[0m \u001b[38;5;28mprint\u001b[39m(\u001b[38;5;124m'\u001b[39m\u001b[38;5;124mNew length of sepal length \u001b[39m\u001b[38;5;124m'\u001b[39m,\u001b[38;5;28mlen\u001b[39m(\u001b[43mpe\u001b[49m))\n",
      "\u001b[0;31mNameError\u001b[0m: name 'pe' is not defined"
     ]
    }
   ],
   "source": [
    "print('Number of removed outliers',len(outliers))\n",
    "print('New length of sepal length ',len(pe))"
   ]
  },
  {
   "cell_type": "code",
   "execution_count": 88,
   "id": "3ba56b78-1e9a-4af6-b5d3-dacb21489773",
   "metadata": {},
   "outputs": [],
   "source": [
    "titanic=sns.load_dataset('titanic')"
   ]
  },
  {
   "cell_type": "code",
   "execution_count": 89,
   "id": "95b3f05d-167d-4b4d-b861-daccfd47ea0b",
   "metadata": {},
   "outputs": [
    {
     "data": {
      "text/plain": [
       "(891, 15)"
      ]
     },
     "execution_count": 89,
     "metadata": {},
     "output_type": "execute_result"
    }
   ],
   "source": [
    "titanic.shape"
   ]
  },
  {
   "cell_type": "code",
   "execution_count": 93,
   "id": "590178f9-177a-4ab1-83b6-ec1f4a4756af",
   "metadata": {},
   "outputs": [],
   "source": [
    "new_age,outliers=remove_outliers(titanic['age'])"
   ]
  },
  {
   "cell_type": "code",
   "execution_count": 81,
   "id": "e82b3011-f1cf-43e1-ad65-1231935243f0",
   "metadata": {},
   "outputs": [
    {
     "data": {
      "text/plain": [
       "3"
      ]
     },
     "execution_count": 81,
     "metadata": {},
     "output_type": "execute_result"
    }
   ],
   "source": []
  },
  {
   "cell_type": "code",
   "execution_count": 96,
   "id": "00905a9f-64b7-439d-b2c0-8a8c70af31c8",
   "metadata": {},
   "outputs": [
    {
     "name": "stdout",
     "output_type": "stream",
     "text": [
      "Number of removed outliers 0\n",
      "Number of age column 0\n"
     ]
    }
   ],
   "source": [
    "print('Number of removed outliers',len(outliers))\n",
    "print('Number of age column',len(new_age))"
   ]
  },
  {
   "cell_type": "code",
   "execution_count": null,
   "id": "369a7cc9-9687-4dfb-96c6-ab00488759c9",
   "metadata": {},
   "outputs": [],
   "source": []
  },
  {
   "cell_type": "code",
   "execution_count": null,
   "id": "883d3f21-1fb3-489c-815e-f0781f49a674",
   "metadata": {},
   "outputs": [],
   "source": []
  }
 ],
 "metadata": {
  "kernelspec": {
   "display_name": "Python 3 (ipykernel)",
   "language": "python",
   "name": "python3"
  },
  "language_info": {
   "codemirror_mode": {
    "name": "ipython",
    "version": 3
   },
   "file_extension": ".py",
   "mimetype": "text/x-python",
   "name": "python",
   "nbconvert_exporter": "python",
   "pygments_lexer": "ipython3",
   "version": "3.10.8"
  }
 },
 "nbformat": 4,
 "nbformat_minor": 5
}
