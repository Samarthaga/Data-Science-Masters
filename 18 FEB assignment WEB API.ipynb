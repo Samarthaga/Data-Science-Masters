{
 "cells": [
  {
   "cell_type": "code",
   "execution_count": null,
   "id": "486793c5-ba61-4319-a27a-06f3173bf5c0",
   "metadata": {},
   "outputs": [],
   "source": [
    "## Ans 1- A web API is application programming interface used to interact b/w two different languages or programs via http or other ways having some common set of rules \n",
    "## an Api is used in banks transfer or the online games where one applications calls a data from server which is then called or answered as per the set of rules drafted "
   ]
  },
  {
   "cell_type": "code",
   "execution_count": null,
   "id": "5d417448-3a88-4231-907a-b663e77ee4cc",
   "metadata": {},
   "outputs": [],
   "source": [
    "##Ans .2\n",
    "## Disadvantages\n",
    "##As a single point of entry, an API is a gateway and can become a hacker's primary target.\n",
    "\n",
    "## Advantages\n",
    "##Efficiency: When you have content that is automatically published and made available on different channels simultaneously, APIs allow for more efficient data distribution"
   ]
  },
  {
   "cell_type": "code",
   "execution_count": null,
   "id": "ebb9bfb4-74a8-4edd-9b31-695c17d2eca0",
   "metadata": {},
   "outputs": [],
   "source": [
    "##Ans 3 A web API is an application programming interface for either a web server or a web browser. It is a web development concept\n",
    "##API is an interface that exposes an application's data to outside software, whereas web applications are one type of API with stricter requirements"
   ]
  },
  {
   "cell_type": "code",
   "execution_count": null,
   "id": "dcb892a4-738d-46e3-b6b2-17396344080e",
   "metadata": {},
   "outputs": [],
   "source": [
    "##Ans 4.\n",
    "##REST is a set of guidelines that offers flexible implementation, whereas SOAP is a protocol with specific requirements like XML messaging"
   ]
  },
  {
   "cell_type": "code",
   "execution_count": null,
   "id": "c6b2dcb7-a8db-4862-880b-35d80ecbef42",
   "metadata": {},
   "outputs": [],
   "source": [
    "## Ans 5 An API is designed to expose certain aspects of an application's business logic on a server, and SOAP uses a service interface to do this while REST uses URIs."
   ]
  },
  {
   "cell_type": "code",
   "execution_count": null,
   "id": "bfbe5592-f826-4e67-9459-6a4d9b61a5e1",
   "metadata": {},
   "outputs": [],
   "source": []
  },
  {
   "cell_type": "code",
   "execution_count": null,
   "id": "d740e799-bef5-4e4d-852f-4d12af02f0d5",
   "metadata": {},
   "outputs": [],
   "source": []
  },
  {
   "cell_type": "code",
   "execution_count": null,
   "id": "1293be18-e7bd-4094-976f-0ef0545cc475",
   "metadata": {},
   "outputs": [],
   "source": []
  }
 ],
 "metadata": {
  "kernelspec": {
   "display_name": "Python 3 (ipykernel)",
   "language": "python",
   "name": "python3"
  },
  "language_info": {
   "codemirror_mode": {
    "name": "ipython",
    "version": 3
   },
   "file_extension": ".py",
   "mimetype": "text/x-python",
   "name": "python",
   "nbconvert_exporter": "python",
   "pygments_lexer": "ipython3",
   "version": "3.10.8"
  }
 },
 "nbformat": 4,
 "nbformat_minor": 5
}
