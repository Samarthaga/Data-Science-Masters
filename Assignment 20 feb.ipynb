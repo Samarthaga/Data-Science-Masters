{
 "cells": [
  {
   "cell_type": "markdown",
   "id": "fd6a15ac-59c2-4e9d-9c08-49ba8368db30",
   "metadata": {},
   "source": [
    "## Assignment 20 Feb"
   ]
  },
  {
   "cell_type": "code",
   "execution_count": null,
   "id": "7b0f78cd-ef6a-4633-beb0-58222373daf8",
   "metadata": {},
   "outputs": [],
   "source": [
    "##Ans 1.\n",
    "\n",
    "## get menthod is used where data is displayed on the url link , like searching on the google tab , whcih includes the syntax used for search \n",
    "## Post is more safe and secure where the data input doesnot get displayed on url like gmail passwords or account info"
   ]
  },
  {
   "cell_type": "code",
   "execution_count": null,
   "id": "caffcc5f-5350-4365-a483-111f901f2f3a",
   "metadata": {},
   "outputs": [],
   "source": [
    "## Ans 2. \n",
    "##The Request, in Flask, is an object that contains all the data sent from the Client to Server"
   ]
  },
  {
   "cell_type": "code",
   "execution_count": null,
   "id": "241b6797-125f-4951-93e1-692fa7b72765",
   "metadata": {},
   "outputs": [],
   "source": [
    "## Ans 3.\n",
    "##The Solution. Redirection in Flask can be done by returning a redirect response object, created by invoking the redirect() function. The same method is used for redirecting to other routes on the same application and external websites"
   ]
  },
  {
   "cell_type": "code",
   "execution_count": null,
   "id": "efeac1b3-653c-4ae2-b618-516ef032788a",
   "metadata": {},
   "outputs": [],
   "source": [
    "## Ans 4. \n",
    "\n",
    "## to store a form in url form html type template is used to write the http functions .\n",
    "## it also contains the static data and placeholders for dynamic data \n",
    "## render_template is used to generate output from a template file based on the Jinja2 engine that is found in the application's templates folder"
   ]
  },
  {
   "cell_type": "code",
   "execution_count": null,
   "id": "9c167ee8-26e2-4eaf-916d-ad6e78fdb1e0",
   "metadata": {},
   "outputs": [],
   "source": []
  },
  {
   "cell_type": "code",
   "execution_count": null,
   "id": "93ecbf87-9411-4c84-8166-00cf9acfbb66",
   "metadata": {},
   "outputs": [],
   "source": []
  }
 ],
 "metadata": {
  "kernelspec": {
   "display_name": "Python 3 (ipykernel)",
   "language": "python",
   "name": "python3"
  },
  "language_info": {
   "codemirror_mode": {
    "name": "ipython",
    "version": 3
   },
   "file_extension": ".py",
   "mimetype": "text/x-python",
   "name": "python",
   "nbconvert_exporter": "python",
   "pygments_lexer": "ipython3",
   "version": "3.10.8"
  }
 },
 "nbformat": 4,
 "nbformat_minor": 5
}
