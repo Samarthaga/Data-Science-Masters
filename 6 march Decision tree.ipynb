{
 "cells": [
  {
   "cell_type": "markdown",
   "id": "eac569fd-f7bc-47d4-8623-4f2db6ef2e6e",
   "metadata": {},
   "source": [
    "# Decision Tree Regressor Implementation "
   ]
  },
  {
   "cell_type": "code",
   "execution_count": 3,
   "id": "6f82c06e-eaa2-4aa8-b57c-2c18723ad644",
   "metadata": {},
   "outputs": [],
   "source": [
    "import pandas as pd \n",
    "import numpy as np\n",
    "import seaborn as sns \n",
    "import matplotlib.pyplot as plt\n",
    "%matplotlib inline\n",
    "import warnings\n",
    "warnings.filterwarnings('ignore')\n"
   ]
  },
  {
   "cell_type": "code",
   "execution_count": 4,
   "id": "84190a20-edac-4055-8142-96e93aeee217",
   "metadata": {},
   "outputs": [],
   "source": [
    "## california house predictig data set\n",
    "from sklearn.datasets import fetch_california_housing\n",
    "california_df=fetch_california_housing()"
   ]
  },
  {
   "cell_type": "code",
   "execution_count": 26,
   "id": "d1cc02ff-2fc1-4754-a013-4fdf12eae5ad",
   "metadata": {},
   "outputs": [
    {
     "data": {
      "text/plain": [
       "sklearn.utils._bunch.Bunch"
      ]
     },
     "execution_count": 26,
     "metadata": {},
     "output_type": "execute_result"
    }
   ],
   "source": [
    "type(california_df)"
   ]
  },
  {
   "cell_type": "code",
   "execution_count": 10,
   "id": "b0402b81-4637-4ba5-94cc-23d7fd36d5e7",
   "metadata": {},
   "outputs": [],
   "source": [
    "df=pd.DataFrame(california_df.data,columns=california_df.feature_names)"
   ]
  },
  {
   "cell_type": "code",
   "execution_count": 27,
   "id": "2161ddb7-38b3-4d47-b7cb-09cd6f527770",
   "metadata": {},
   "outputs": [
    {
     "data": {
      "text/plain": [
       "pandas.core.frame.DataFrame"
      ]
     },
     "execution_count": 27,
     "metadata": {},
     "output_type": "execute_result"
    }
   ],
   "source": [
    "type(df)"
   ]
  },
  {
   "cell_type": "code",
   "execution_count": 11,
   "id": "af62779e-0d9e-4a4d-bfc7-665c3ded87d8",
   "metadata": {},
   "outputs": [],
   "source": [
    "df['Target']=california_df.target"
   ]
  },
  {
   "cell_type": "code",
   "execution_count": 12,
   "id": "4f092292-5039-42d5-96ad-b7f1617a392a",
   "metadata": {},
   "outputs": [
    {
     "data": {
      "text/html": [
       "<div>\n",
       "<style scoped>\n",
       "    .dataframe tbody tr th:only-of-type {\n",
       "        vertical-align: middle;\n",
       "    }\n",
       "\n",
       "    .dataframe tbody tr th {\n",
       "        vertical-align: top;\n",
       "    }\n",
       "\n",
       "    .dataframe thead th {\n",
       "        text-align: right;\n",
       "    }\n",
       "</style>\n",
       "<table border=\"1\" class=\"dataframe\">\n",
       "  <thead>\n",
       "    <tr style=\"text-align: right;\">\n",
       "      <th></th>\n",
       "      <th>MedInc</th>\n",
       "      <th>HouseAge</th>\n",
       "      <th>AveRooms</th>\n",
       "      <th>AveBedrms</th>\n",
       "      <th>Population</th>\n",
       "      <th>AveOccup</th>\n",
       "      <th>Latitude</th>\n",
       "      <th>Longitude</th>\n",
       "      <th>Target</th>\n",
       "    </tr>\n",
       "  </thead>\n",
       "  <tbody>\n",
       "    <tr>\n",
       "      <th>0</th>\n",
       "      <td>8.3252</td>\n",
       "      <td>41.0</td>\n",
       "      <td>6.984127</td>\n",
       "      <td>1.023810</td>\n",
       "      <td>322.0</td>\n",
       "      <td>2.555556</td>\n",
       "      <td>37.88</td>\n",
       "      <td>-122.23</td>\n",
       "      <td>4.526</td>\n",
       "    </tr>\n",
       "    <tr>\n",
       "      <th>1</th>\n",
       "      <td>8.3014</td>\n",
       "      <td>21.0</td>\n",
       "      <td>6.238137</td>\n",
       "      <td>0.971880</td>\n",
       "      <td>2401.0</td>\n",
       "      <td>2.109842</td>\n",
       "      <td>37.86</td>\n",
       "      <td>-122.22</td>\n",
       "      <td>3.585</td>\n",
       "    </tr>\n",
       "    <tr>\n",
       "      <th>2</th>\n",
       "      <td>7.2574</td>\n",
       "      <td>52.0</td>\n",
       "      <td>8.288136</td>\n",
       "      <td>1.073446</td>\n",
       "      <td>496.0</td>\n",
       "      <td>2.802260</td>\n",
       "      <td>37.85</td>\n",
       "      <td>-122.24</td>\n",
       "      <td>3.521</td>\n",
       "    </tr>\n",
       "    <tr>\n",
       "      <th>3</th>\n",
       "      <td>5.6431</td>\n",
       "      <td>52.0</td>\n",
       "      <td>5.817352</td>\n",
       "      <td>1.073059</td>\n",
       "      <td>558.0</td>\n",
       "      <td>2.547945</td>\n",
       "      <td>37.85</td>\n",
       "      <td>-122.25</td>\n",
       "      <td>3.413</td>\n",
       "    </tr>\n",
       "    <tr>\n",
       "      <th>4</th>\n",
       "      <td>3.8462</td>\n",
       "      <td>52.0</td>\n",
       "      <td>6.281853</td>\n",
       "      <td>1.081081</td>\n",
       "      <td>565.0</td>\n",
       "      <td>2.181467</td>\n",
       "      <td>37.85</td>\n",
       "      <td>-122.25</td>\n",
       "      <td>3.422</td>\n",
       "    </tr>\n",
       "  </tbody>\n",
       "</table>\n",
       "</div>"
      ],
      "text/plain": [
       "   MedInc  HouseAge  AveRooms  AveBedrms  Population  AveOccup  Latitude  \\\n",
       "0  8.3252      41.0  6.984127   1.023810       322.0  2.555556     37.88   \n",
       "1  8.3014      21.0  6.238137   0.971880      2401.0  2.109842     37.86   \n",
       "2  7.2574      52.0  8.288136   1.073446       496.0  2.802260     37.85   \n",
       "3  5.6431      52.0  5.817352   1.073059       558.0  2.547945     37.85   \n",
       "4  3.8462      52.0  6.281853   1.081081       565.0  2.181467     37.85   \n",
       "\n",
       "   Longitude  Target  \n",
       "0    -122.23   4.526  \n",
       "1    -122.22   3.585  \n",
       "2    -122.24   3.521  \n",
       "3    -122.25   3.413  \n",
       "4    -122.25   3.422  "
      ]
     },
     "execution_count": 12,
     "metadata": {},
     "output_type": "execute_result"
    }
   ],
   "source": [
    "df.head()"
   ]
  },
  {
   "cell_type": "code",
   "execution_count": 13,
   "id": "5122c86e-cf91-43fd-b241-8f73381bcf0c",
   "metadata": {},
   "outputs": [
    {
     "data": {
      "text/plain": [
       "(20640, 9)"
      ]
     },
     "execution_count": 13,
     "metadata": {},
     "output_type": "execute_result"
    }
   ],
   "source": [
    "df.shape"
   ]
  },
  {
   "cell_type": "code",
   "execution_count": 14,
   "id": "8cbf8e51-0972-46b0-a411-4182aaaa9633",
   "metadata": {},
   "outputs": [],
   "source": [
    "## Taking Sample Data\n",
    "df=df.sample(frac=0.25)"
   ]
  },
  {
   "cell_type": "code",
   "execution_count": 16,
   "id": "ee7d63aa-7f30-4933-a133-ad593acff3b0",
   "metadata": {},
   "outputs": [
    {
     "data": {
      "text/plain": [
       "(5160, 9)"
      ]
     },
     "execution_count": 16,
     "metadata": {},
     "output_type": "execute_result"
    }
   ],
   "source": [
    "df.shape"
   ]
  },
  {
   "cell_type": "code",
   "execution_count": 19,
   "id": "c4ba8ba4-3329-4895-8c20-e8636bc3c8a3",
   "metadata": {},
   "outputs": [],
   "source": [
    "from sklearn.model_selection import train_test_split\n",
    "X=df.iloc[:,:-1]\n",
    "y=df.iloc[:,-1]"
   ]
  },
  {
   "cell_type": "code",
   "execution_count": 20,
   "id": "840ad0c7-21d3-4633-9ee4-155dc450b8e4",
   "metadata": {},
   "outputs": [],
   "source": [
    "X_train,X_test,y_train,y_test=train_test_split(X,y,test_size=0.33,random_state=42)"
   ]
  },
  {
   "cell_type": "code",
   "execution_count": 23,
   "id": "58449cc4-ae8f-4c45-83f4-2ca9a6bd422a",
   "metadata": {},
   "outputs": [],
   "source": [
    "from sklearn.tree import DecisionTreeRegressor"
   ]
  },
  {
   "cell_type": "code",
   "execution_count": 24,
   "id": "603bea32-1839-4f69-a4e7-99f871950702",
   "metadata": {},
   "outputs": [],
   "source": [
    "regressor=DecisionTreeRegressor()"
   ]
  },
  {
   "cell_type": "code",
   "execution_count": 25,
   "id": "db47f893-9297-4fa8-8907-842bc0596186",
   "metadata": {},
   "outputs": [
    {
     "data": {
      "text/html": [
       "<style>#sk-container-id-1 {color: black;background-color: white;}#sk-container-id-1 pre{padding: 0;}#sk-container-id-1 div.sk-toggleable {background-color: white;}#sk-container-id-1 label.sk-toggleable__label {cursor: pointer;display: block;width: 100%;margin-bottom: 0;padding: 0.3em;box-sizing: border-box;text-align: center;}#sk-container-id-1 label.sk-toggleable__label-arrow:before {content: \"▸\";float: left;margin-right: 0.25em;color: #696969;}#sk-container-id-1 label.sk-toggleable__label-arrow:hover:before {color: black;}#sk-container-id-1 div.sk-estimator:hover label.sk-toggleable__label-arrow:before {color: black;}#sk-container-id-1 div.sk-toggleable__content {max-height: 0;max-width: 0;overflow: hidden;text-align: left;background-color: #f0f8ff;}#sk-container-id-1 div.sk-toggleable__content pre {margin: 0.2em;color: black;border-radius: 0.25em;background-color: #f0f8ff;}#sk-container-id-1 input.sk-toggleable__control:checked~div.sk-toggleable__content {max-height: 200px;max-width: 100%;overflow: auto;}#sk-container-id-1 input.sk-toggleable__control:checked~label.sk-toggleable__label-arrow:before {content: \"▾\";}#sk-container-id-1 div.sk-estimator input.sk-toggleable__control:checked~label.sk-toggleable__label {background-color: #d4ebff;}#sk-container-id-1 div.sk-label input.sk-toggleable__control:checked~label.sk-toggleable__label {background-color: #d4ebff;}#sk-container-id-1 input.sk-hidden--visually {border: 0;clip: rect(1px 1px 1px 1px);clip: rect(1px, 1px, 1px, 1px);height: 1px;margin: -1px;overflow: hidden;padding: 0;position: absolute;width: 1px;}#sk-container-id-1 div.sk-estimator {font-family: monospace;background-color: #f0f8ff;border: 1px dotted black;border-radius: 0.25em;box-sizing: border-box;margin-bottom: 0.5em;}#sk-container-id-1 div.sk-estimator:hover {background-color: #d4ebff;}#sk-container-id-1 div.sk-parallel-item::after {content: \"\";width: 100%;border-bottom: 1px solid gray;flex-grow: 1;}#sk-container-id-1 div.sk-label:hover label.sk-toggleable__label {background-color: #d4ebff;}#sk-container-id-1 div.sk-serial::before {content: \"\";position: absolute;border-left: 1px solid gray;box-sizing: border-box;top: 0;bottom: 0;left: 50%;z-index: 0;}#sk-container-id-1 div.sk-serial {display: flex;flex-direction: column;align-items: center;background-color: white;padding-right: 0.2em;padding-left: 0.2em;position: relative;}#sk-container-id-1 div.sk-item {position: relative;z-index: 1;}#sk-container-id-1 div.sk-parallel {display: flex;align-items: stretch;justify-content: center;background-color: white;position: relative;}#sk-container-id-1 div.sk-item::before, #sk-container-id-1 div.sk-parallel-item::before {content: \"\";position: absolute;border-left: 1px solid gray;box-sizing: border-box;top: 0;bottom: 0;left: 50%;z-index: -1;}#sk-container-id-1 div.sk-parallel-item {display: flex;flex-direction: column;z-index: 1;position: relative;background-color: white;}#sk-container-id-1 div.sk-parallel-item:first-child::after {align-self: flex-end;width: 50%;}#sk-container-id-1 div.sk-parallel-item:last-child::after {align-self: flex-start;width: 50%;}#sk-container-id-1 div.sk-parallel-item:only-child::after {width: 0;}#sk-container-id-1 div.sk-dashed-wrapped {border: 1px dashed gray;margin: 0 0.4em 0.5em 0.4em;box-sizing: border-box;padding-bottom: 0.4em;background-color: white;}#sk-container-id-1 div.sk-label label {font-family: monospace;font-weight: bold;display: inline-block;line-height: 1.2em;}#sk-container-id-1 div.sk-label-container {text-align: center;}#sk-container-id-1 div.sk-container {/* jupyter's `normalize.less` sets `[hidden] { display: none; }` but bootstrap.min.css set `[hidden] { display: none !important; }` so we also need the `!important` here to be able to override the default hidden behavior on the sphinx rendered scikit-learn.org. See: https://github.com/scikit-learn/scikit-learn/issues/21755 */display: inline-block !important;position: relative;}#sk-container-id-1 div.sk-text-repr-fallback {display: none;}</style><div id=\"sk-container-id-1\" class=\"sk-top-container\"><div class=\"sk-text-repr-fallback\"><pre>DecisionTreeRegressor()</pre><b>In a Jupyter environment, please rerun this cell to show the HTML representation or trust the notebook. <br />On GitHub, the HTML representation is unable to render, please try loading this page with nbviewer.org.</b></div><div class=\"sk-container\" hidden><div class=\"sk-item\"><div class=\"sk-estimator sk-toggleable\"><input class=\"sk-toggleable__control sk-hidden--visually\" id=\"sk-estimator-id-1\" type=\"checkbox\" checked><label for=\"sk-estimator-id-1\" class=\"sk-toggleable__label sk-toggleable__label-arrow\">DecisionTreeRegressor</label><div class=\"sk-toggleable__content\"><pre>DecisionTreeRegressor()</pre></div></div></div></div></div>"
      ],
      "text/plain": [
       "DecisionTreeRegressor()"
      ]
     },
     "execution_count": 25,
     "metadata": {},
     "output_type": "execute_result"
    }
   ],
   "source": [
    "regressor"
   ]
  },
  {
   "cell_type": "code",
   "execution_count": 28,
   "id": "ddc01534-773b-42c2-bc1c-104f71637cdf",
   "metadata": {},
   "outputs": [
    {
     "data": {
      "text/html": [
       "<style>#sk-container-id-2 {color: black;background-color: white;}#sk-container-id-2 pre{padding: 0;}#sk-container-id-2 div.sk-toggleable {background-color: white;}#sk-container-id-2 label.sk-toggleable__label {cursor: pointer;display: block;width: 100%;margin-bottom: 0;padding: 0.3em;box-sizing: border-box;text-align: center;}#sk-container-id-2 label.sk-toggleable__label-arrow:before {content: \"▸\";float: left;margin-right: 0.25em;color: #696969;}#sk-container-id-2 label.sk-toggleable__label-arrow:hover:before {color: black;}#sk-container-id-2 div.sk-estimator:hover label.sk-toggleable__label-arrow:before {color: black;}#sk-container-id-2 div.sk-toggleable__content {max-height: 0;max-width: 0;overflow: hidden;text-align: left;background-color: #f0f8ff;}#sk-container-id-2 div.sk-toggleable__content pre {margin: 0.2em;color: black;border-radius: 0.25em;background-color: #f0f8ff;}#sk-container-id-2 input.sk-toggleable__control:checked~div.sk-toggleable__content {max-height: 200px;max-width: 100%;overflow: auto;}#sk-container-id-2 input.sk-toggleable__control:checked~label.sk-toggleable__label-arrow:before {content: \"▾\";}#sk-container-id-2 div.sk-estimator input.sk-toggleable__control:checked~label.sk-toggleable__label {background-color: #d4ebff;}#sk-container-id-2 div.sk-label input.sk-toggleable__control:checked~label.sk-toggleable__label {background-color: #d4ebff;}#sk-container-id-2 input.sk-hidden--visually {border: 0;clip: rect(1px 1px 1px 1px);clip: rect(1px, 1px, 1px, 1px);height: 1px;margin: -1px;overflow: hidden;padding: 0;position: absolute;width: 1px;}#sk-container-id-2 div.sk-estimator {font-family: monospace;background-color: #f0f8ff;border: 1px dotted black;border-radius: 0.25em;box-sizing: border-box;margin-bottom: 0.5em;}#sk-container-id-2 div.sk-estimator:hover {background-color: #d4ebff;}#sk-container-id-2 div.sk-parallel-item::after {content: \"\";width: 100%;border-bottom: 1px solid gray;flex-grow: 1;}#sk-container-id-2 div.sk-label:hover label.sk-toggleable__label {background-color: #d4ebff;}#sk-container-id-2 div.sk-serial::before {content: \"\";position: absolute;border-left: 1px solid gray;box-sizing: border-box;top: 0;bottom: 0;left: 50%;z-index: 0;}#sk-container-id-2 div.sk-serial {display: flex;flex-direction: column;align-items: center;background-color: white;padding-right: 0.2em;padding-left: 0.2em;position: relative;}#sk-container-id-2 div.sk-item {position: relative;z-index: 1;}#sk-container-id-2 div.sk-parallel {display: flex;align-items: stretch;justify-content: center;background-color: white;position: relative;}#sk-container-id-2 div.sk-item::before, #sk-container-id-2 div.sk-parallel-item::before {content: \"\";position: absolute;border-left: 1px solid gray;box-sizing: border-box;top: 0;bottom: 0;left: 50%;z-index: -1;}#sk-container-id-2 div.sk-parallel-item {display: flex;flex-direction: column;z-index: 1;position: relative;background-color: white;}#sk-container-id-2 div.sk-parallel-item:first-child::after {align-self: flex-end;width: 50%;}#sk-container-id-2 div.sk-parallel-item:last-child::after {align-self: flex-start;width: 50%;}#sk-container-id-2 div.sk-parallel-item:only-child::after {width: 0;}#sk-container-id-2 div.sk-dashed-wrapped {border: 1px dashed gray;margin: 0 0.4em 0.5em 0.4em;box-sizing: border-box;padding-bottom: 0.4em;background-color: white;}#sk-container-id-2 div.sk-label label {font-family: monospace;font-weight: bold;display: inline-block;line-height: 1.2em;}#sk-container-id-2 div.sk-label-container {text-align: center;}#sk-container-id-2 div.sk-container {/* jupyter's `normalize.less` sets `[hidden] { display: none; }` but bootstrap.min.css set `[hidden] { display: none !important; }` so we also need the `!important` here to be able to override the default hidden behavior on the sphinx rendered scikit-learn.org. See: https://github.com/scikit-learn/scikit-learn/issues/21755 */display: inline-block !important;position: relative;}#sk-container-id-2 div.sk-text-repr-fallback {display: none;}</style><div id=\"sk-container-id-2\" class=\"sk-top-container\"><div class=\"sk-text-repr-fallback\"><pre>DecisionTreeRegressor()</pre><b>In a Jupyter environment, please rerun this cell to show the HTML representation or trust the notebook. <br />On GitHub, the HTML representation is unable to render, please try loading this page with nbviewer.org.</b></div><div class=\"sk-container\" hidden><div class=\"sk-item\"><div class=\"sk-estimator sk-toggleable\"><input class=\"sk-toggleable__control sk-hidden--visually\" id=\"sk-estimator-id-2\" type=\"checkbox\" checked><label for=\"sk-estimator-id-2\" class=\"sk-toggleable__label sk-toggleable__label-arrow\">DecisionTreeRegressor</label><div class=\"sk-toggleable__content\"><pre>DecisionTreeRegressor()</pre></div></div></div></div></div>"
      ],
      "text/plain": [
       "DecisionTreeRegressor()"
      ]
     },
     "execution_count": 28,
     "metadata": {},
     "output_type": "execute_result"
    }
   ],
   "source": [
    "regressor.fit(X_train,y_train)"
   ]
  },
  {
   "cell_type": "code",
   "execution_count": 29,
   "id": "02733dd9-e79b-44a3-a856-05e0a24e9af4",
   "metadata": {},
   "outputs": [],
   "source": [
    "y_pred=regressor.predict(X_test)"
   ]
  },
  {
   "cell_type": "code",
   "execution_count": 30,
   "id": "d0e7f6e4-abf3-403b-aba6-03059667510d",
   "metadata": {},
   "outputs": [
    {
     "data": {
      "text/plain": [
       "array([1.942, 1.075, 1.625, ..., 1.45 , 1.832, 2.537])"
      ]
     },
     "execution_count": 30,
     "metadata": {},
     "output_type": "execute_result"
    }
   ],
   "source": [
    "y_pred"
   ]
  },
  {
   "cell_type": "code",
   "execution_count": 31,
   "id": "000083b4-0d46-4423-9974-6258a56016aa",
   "metadata": {},
   "outputs": [],
   "source": [
    "from sklearn.metrics import r2_score"
   ]
  },
  {
   "cell_type": "code",
   "execution_count": 37,
   "id": "b38fca0c-952e-4758-970d-a8b3daf4ac0f",
   "metadata": {},
   "outputs": [],
   "source": [
    "score=r2_score(y_pred,y_test)"
   ]
  },
  {
   "cell_type": "code",
   "execution_count": 38,
   "id": "e8beec69-54d5-4d28-917d-2ef7aadaa268",
   "metadata": {},
   "outputs": [
    {
     "data": {
      "text/plain": [
       "0.5407790257583702"
      ]
     },
     "execution_count": 38,
     "metadata": {},
     "output_type": "execute_result"
    }
   ],
   "source": [
    "score"
   ]
  },
  {
   "cell_type": "code",
   "execution_count": 41,
   "id": "dc30a5e5-8f79-42ea-aad7-c21b5c3c50f8",
   "metadata": {},
   "outputs": [],
   "source": [
    "## Hyperparameter Tuning \n",
    "parameter={\n",
    "    'criterion':['squared_error', 'friedman_mse', 'absolute_error', 'poisson'],\n",
    "    'splitter':['best', 'random'],\n",
    "    'max_depth':[1,2,3,4,5,6,7,8,9,10,11,12],\n",
    "    'max_features':['auto', 'sqrt', 'log2']\n",
    "}\n",
    "regressor=DecisionTreeRegressor()"
   ]
  },
  {
   "cell_type": "code",
   "execution_count": 40,
   "id": "1b0637f4-b325-457c-a3aa-3c9eba36ec75",
   "metadata": {},
   "outputs": [],
   "source": [
    "from sklearn.model_selection import GridSearchCV"
   ]
  },
  {
   "cell_type": "code",
   "execution_count": 44,
   "id": "9b89fe90-b6b9-4866-80c9-e9a35251ddbd",
   "metadata": {},
   "outputs": [],
   "source": [
    "regressorcv=GridSearchCV(regressor,param_grid=parameter,cv=2,scoring='neg_mean_squared_error')"
   ]
  },
  {
   "cell_type": "code",
   "execution_count": 45,
   "id": "89855c54-1b0d-4425-9509-2034a59aa9da",
   "metadata": {},
   "outputs": [
    {
     "data": {
      "text/html": [
       "<style>#sk-container-id-4 {color: black;background-color: white;}#sk-container-id-4 pre{padding: 0;}#sk-container-id-4 div.sk-toggleable {background-color: white;}#sk-container-id-4 label.sk-toggleable__label {cursor: pointer;display: block;width: 100%;margin-bottom: 0;padding: 0.3em;box-sizing: border-box;text-align: center;}#sk-container-id-4 label.sk-toggleable__label-arrow:before {content: \"▸\";float: left;margin-right: 0.25em;color: #696969;}#sk-container-id-4 label.sk-toggleable__label-arrow:hover:before {color: black;}#sk-container-id-4 div.sk-estimator:hover label.sk-toggleable__label-arrow:before {color: black;}#sk-container-id-4 div.sk-toggleable__content {max-height: 0;max-width: 0;overflow: hidden;text-align: left;background-color: #f0f8ff;}#sk-container-id-4 div.sk-toggleable__content pre {margin: 0.2em;color: black;border-radius: 0.25em;background-color: #f0f8ff;}#sk-container-id-4 input.sk-toggleable__control:checked~div.sk-toggleable__content {max-height: 200px;max-width: 100%;overflow: auto;}#sk-container-id-4 input.sk-toggleable__control:checked~label.sk-toggleable__label-arrow:before {content: \"▾\";}#sk-container-id-4 div.sk-estimator input.sk-toggleable__control:checked~label.sk-toggleable__label {background-color: #d4ebff;}#sk-container-id-4 div.sk-label input.sk-toggleable__control:checked~label.sk-toggleable__label {background-color: #d4ebff;}#sk-container-id-4 input.sk-hidden--visually {border: 0;clip: rect(1px 1px 1px 1px);clip: rect(1px, 1px, 1px, 1px);height: 1px;margin: -1px;overflow: hidden;padding: 0;position: absolute;width: 1px;}#sk-container-id-4 div.sk-estimator {font-family: monospace;background-color: #f0f8ff;border: 1px dotted black;border-radius: 0.25em;box-sizing: border-box;margin-bottom: 0.5em;}#sk-container-id-4 div.sk-estimator:hover {background-color: #d4ebff;}#sk-container-id-4 div.sk-parallel-item::after {content: \"\";width: 100%;border-bottom: 1px solid gray;flex-grow: 1;}#sk-container-id-4 div.sk-label:hover label.sk-toggleable__label {background-color: #d4ebff;}#sk-container-id-4 div.sk-serial::before {content: \"\";position: absolute;border-left: 1px solid gray;box-sizing: border-box;top: 0;bottom: 0;left: 50%;z-index: 0;}#sk-container-id-4 div.sk-serial {display: flex;flex-direction: column;align-items: center;background-color: white;padding-right: 0.2em;padding-left: 0.2em;position: relative;}#sk-container-id-4 div.sk-item {position: relative;z-index: 1;}#sk-container-id-4 div.sk-parallel {display: flex;align-items: stretch;justify-content: center;background-color: white;position: relative;}#sk-container-id-4 div.sk-item::before, #sk-container-id-4 div.sk-parallel-item::before {content: \"\";position: absolute;border-left: 1px solid gray;box-sizing: border-box;top: 0;bottom: 0;left: 50%;z-index: -1;}#sk-container-id-4 div.sk-parallel-item {display: flex;flex-direction: column;z-index: 1;position: relative;background-color: white;}#sk-container-id-4 div.sk-parallel-item:first-child::after {align-self: flex-end;width: 50%;}#sk-container-id-4 div.sk-parallel-item:last-child::after {align-self: flex-start;width: 50%;}#sk-container-id-4 div.sk-parallel-item:only-child::after {width: 0;}#sk-container-id-4 div.sk-dashed-wrapped {border: 1px dashed gray;margin: 0 0.4em 0.5em 0.4em;box-sizing: border-box;padding-bottom: 0.4em;background-color: white;}#sk-container-id-4 div.sk-label label {font-family: monospace;font-weight: bold;display: inline-block;line-height: 1.2em;}#sk-container-id-4 div.sk-label-container {text-align: center;}#sk-container-id-4 div.sk-container {/* jupyter's `normalize.less` sets `[hidden] { display: none; }` but bootstrap.min.css set `[hidden] { display: none !important; }` so we also need the `!important` here to be able to override the default hidden behavior on the sphinx rendered scikit-learn.org. See: https://github.com/scikit-learn/scikit-learn/issues/21755 */display: inline-block !important;position: relative;}#sk-container-id-4 div.sk-text-repr-fallback {display: none;}</style><div id=\"sk-container-id-4\" class=\"sk-top-container\"><div class=\"sk-text-repr-fallback\"><pre>GridSearchCV(cv=2, estimator=DecisionTreeRegressor(),\n",
       "             param_grid={&#x27;criterion&#x27;: [&#x27;squared_error&#x27;, &#x27;friedman_mse&#x27;,\n",
       "                                       &#x27;absolute_error&#x27;, &#x27;poisson&#x27;],\n",
       "                         &#x27;max_depth&#x27;: [1, 2, 3, 4, 5, 6, 7, 8, 9, 10, 11, 12],\n",
       "                         &#x27;max_features&#x27;: [&#x27;auto&#x27;, &#x27;sqrt&#x27;, &#x27;log2&#x27;],\n",
       "                         &#x27;splitter&#x27;: [&#x27;best&#x27;, &#x27;random&#x27;]},\n",
       "             scoring=&#x27;neg_mean_squared_error&#x27;)</pre><b>In a Jupyter environment, please rerun this cell to show the HTML representation or trust the notebook. <br />On GitHub, the HTML representation is unable to render, please try loading this page with nbviewer.org.</b></div><div class=\"sk-container\" hidden><div class=\"sk-item sk-dashed-wrapped\"><div class=\"sk-label-container\"><div class=\"sk-label sk-toggleable\"><input class=\"sk-toggleable__control sk-hidden--visually\" id=\"sk-estimator-id-6\" type=\"checkbox\" ><label for=\"sk-estimator-id-6\" class=\"sk-toggleable__label sk-toggleable__label-arrow\">GridSearchCV</label><div class=\"sk-toggleable__content\"><pre>GridSearchCV(cv=2, estimator=DecisionTreeRegressor(),\n",
       "             param_grid={&#x27;criterion&#x27;: [&#x27;squared_error&#x27;, &#x27;friedman_mse&#x27;,\n",
       "                                       &#x27;absolute_error&#x27;, &#x27;poisson&#x27;],\n",
       "                         &#x27;max_depth&#x27;: [1, 2, 3, 4, 5, 6, 7, 8, 9, 10, 11, 12],\n",
       "                         &#x27;max_features&#x27;: [&#x27;auto&#x27;, &#x27;sqrt&#x27;, &#x27;log2&#x27;],\n",
       "                         &#x27;splitter&#x27;: [&#x27;best&#x27;, &#x27;random&#x27;]},\n",
       "             scoring=&#x27;neg_mean_squared_error&#x27;)</pre></div></div></div><div class=\"sk-parallel\"><div class=\"sk-parallel-item\"><div class=\"sk-item\"><div class=\"sk-label-container\"><div class=\"sk-label sk-toggleable\"><input class=\"sk-toggleable__control sk-hidden--visually\" id=\"sk-estimator-id-7\" type=\"checkbox\" ><label for=\"sk-estimator-id-7\" class=\"sk-toggleable__label sk-toggleable__label-arrow\">estimator: DecisionTreeRegressor</label><div class=\"sk-toggleable__content\"><pre>DecisionTreeRegressor()</pre></div></div></div><div class=\"sk-serial\"><div class=\"sk-item\"><div class=\"sk-estimator sk-toggleable\"><input class=\"sk-toggleable__control sk-hidden--visually\" id=\"sk-estimator-id-8\" type=\"checkbox\" ><label for=\"sk-estimator-id-8\" class=\"sk-toggleable__label sk-toggleable__label-arrow\">DecisionTreeRegressor</label><div class=\"sk-toggleable__content\"><pre>DecisionTreeRegressor()</pre></div></div></div></div></div></div></div></div></div></div>"
      ],
      "text/plain": [
       "GridSearchCV(cv=2, estimator=DecisionTreeRegressor(),\n",
       "             param_grid={'criterion': ['squared_error', 'friedman_mse',\n",
       "                                       'absolute_error', 'poisson'],\n",
       "                         'max_depth': [1, 2, 3, 4, 5, 6, 7, 8, 9, 10, 11, 12],\n",
       "                         'max_features': ['auto', 'sqrt', 'log2'],\n",
       "                         'splitter': ['best', 'random']},\n",
       "             scoring='neg_mean_squared_error')"
      ]
     },
     "execution_count": 45,
     "metadata": {},
     "output_type": "execute_result"
    }
   ],
   "source": [
    "regressorcv.fit(X_train,y_train)"
   ]
  },
  {
   "cell_type": "code",
   "execution_count": 46,
   "id": "22aa3cd5-606f-45f9-b6db-8b52a33ec258",
   "metadata": {},
   "outputs": [
    {
     "data": {
      "text/plain": [
       "{'criterion': 'friedman_mse',\n",
       " 'max_depth': 6,\n",
       " 'max_features': 'auto',\n",
       " 'splitter': 'best'}"
      ]
     },
     "execution_count": 46,
     "metadata": {},
     "output_type": "execute_result"
    }
   ],
   "source": [
    "regressorcv.best_params_"
   ]
  },
  {
   "cell_type": "code",
   "execution_count": 50,
   "id": "c0170bf7-3894-4f67-9901-1bbcc26dd8b7",
   "metadata": {},
   "outputs": [],
   "source": [
    "regressor=DecisionTreeRegressor(criterion= 'friedman_mse',max_depth= 6,max_features='auto',splitter='best')"
   ]
  },
  {
   "cell_type": "code",
   "execution_count": 51,
   "id": "abf9fcdc-695a-4eda-8c70-caccdcdee1f9",
   "metadata": {},
   "outputs": [
    {
     "data": {
      "text/html": [
       "<style>#sk-container-id-6 {color: black;background-color: white;}#sk-container-id-6 pre{padding: 0;}#sk-container-id-6 div.sk-toggleable {background-color: white;}#sk-container-id-6 label.sk-toggleable__label {cursor: pointer;display: block;width: 100%;margin-bottom: 0;padding: 0.3em;box-sizing: border-box;text-align: center;}#sk-container-id-6 label.sk-toggleable__label-arrow:before {content: \"▸\";float: left;margin-right: 0.25em;color: #696969;}#sk-container-id-6 label.sk-toggleable__label-arrow:hover:before {color: black;}#sk-container-id-6 div.sk-estimator:hover label.sk-toggleable__label-arrow:before {color: black;}#sk-container-id-6 div.sk-toggleable__content {max-height: 0;max-width: 0;overflow: hidden;text-align: left;background-color: #f0f8ff;}#sk-container-id-6 div.sk-toggleable__content pre {margin: 0.2em;color: black;border-radius: 0.25em;background-color: #f0f8ff;}#sk-container-id-6 input.sk-toggleable__control:checked~div.sk-toggleable__content {max-height: 200px;max-width: 100%;overflow: auto;}#sk-container-id-6 input.sk-toggleable__control:checked~label.sk-toggleable__label-arrow:before {content: \"▾\";}#sk-container-id-6 div.sk-estimator input.sk-toggleable__control:checked~label.sk-toggleable__label {background-color: #d4ebff;}#sk-container-id-6 div.sk-label input.sk-toggleable__control:checked~label.sk-toggleable__label {background-color: #d4ebff;}#sk-container-id-6 input.sk-hidden--visually {border: 0;clip: rect(1px 1px 1px 1px);clip: rect(1px, 1px, 1px, 1px);height: 1px;margin: -1px;overflow: hidden;padding: 0;position: absolute;width: 1px;}#sk-container-id-6 div.sk-estimator {font-family: monospace;background-color: #f0f8ff;border: 1px dotted black;border-radius: 0.25em;box-sizing: border-box;margin-bottom: 0.5em;}#sk-container-id-6 div.sk-estimator:hover {background-color: #d4ebff;}#sk-container-id-6 div.sk-parallel-item::after {content: \"\";width: 100%;border-bottom: 1px solid gray;flex-grow: 1;}#sk-container-id-6 div.sk-label:hover label.sk-toggleable__label {background-color: #d4ebff;}#sk-container-id-6 div.sk-serial::before {content: \"\";position: absolute;border-left: 1px solid gray;box-sizing: border-box;top: 0;bottom: 0;left: 50%;z-index: 0;}#sk-container-id-6 div.sk-serial {display: flex;flex-direction: column;align-items: center;background-color: white;padding-right: 0.2em;padding-left: 0.2em;position: relative;}#sk-container-id-6 div.sk-item {position: relative;z-index: 1;}#sk-container-id-6 div.sk-parallel {display: flex;align-items: stretch;justify-content: center;background-color: white;position: relative;}#sk-container-id-6 div.sk-item::before, #sk-container-id-6 div.sk-parallel-item::before {content: \"\";position: absolute;border-left: 1px solid gray;box-sizing: border-box;top: 0;bottom: 0;left: 50%;z-index: -1;}#sk-container-id-6 div.sk-parallel-item {display: flex;flex-direction: column;z-index: 1;position: relative;background-color: white;}#sk-container-id-6 div.sk-parallel-item:first-child::after {align-self: flex-end;width: 50%;}#sk-container-id-6 div.sk-parallel-item:last-child::after {align-self: flex-start;width: 50%;}#sk-container-id-6 div.sk-parallel-item:only-child::after {width: 0;}#sk-container-id-6 div.sk-dashed-wrapped {border: 1px dashed gray;margin: 0 0.4em 0.5em 0.4em;box-sizing: border-box;padding-bottom: 0.4em;background-color: white;}#sk-container-id-6 div.sk-label label {font-family: monospace;font-weight: bold;display: inline-block;line-height: 1.2em;}#sk-container-id-6 div.sk-label-container {text-align: center;}#sk-container-id-6 div.sk-container {/* jupyter's `normalize.less` sets `[hidden] { display: none; }` but bootstrap.min.css set `[hidden] { display: none !important; }` so we also need the `!important` here to be able to override the default hidden behavior on the sphinx rendered scikit-learn.org. See: https://github.com/scikit-learn/scikit-learn/issues/21755 */display: inline-block !important;position: relative;}#sk-container-id-6 div.sk-text-repr-fallback {display: none;}</style><div id=\"sk-container-id-6\" class=\"sk-top-container\"><div class=\"sk-text-repr-fallback\"><pre>DecisionTreeRegressor(criterion=&#x27;friedman_mse&#x27;, max_depth=6,\n",
       "                      max_features=&#x27;auto&#x27;)</pre><b>In a Jupyter environment, please rerun this cell to show the HTML representation or trust the notebook. <br />On GitHub, the HTML representation is unable to render, please try loading this page with nbviewer.org.</b></div><div class=\"sk-container\" hidden><div class=\"sk-item\"><div class=\"sk-estimator sk-toggleable\"><input class=\"sk-toggleable__control sk-hidden--visually\" id=\"sk-estimator-id-10\" type=\"checkbox\" checked><label for=\"sk-estimator-id-10\" class=\"sk-toggleable__label sk-toggleable__label-arrow\">DecisionTreeRegressor</label><div class=\"sk-toggleable__content\"><pre>DecisionTreeRegressor(criterion=&#x27;friedman_mse&#x27;, max_depth=6,\n",
       "                      max_features=&#x27;auto&#x27;)</pre></div></div></div></div></div>"
      ],
      "text/plain": [
       "DecisionTreeRegressor(criterion='friedman_mse', max_depth=6,\n",
       "                      max_features='auto')"
      ]
     },
     "execution_count": 51,
     "metadata": {},
     "output_type": "execute_result"
    }
   ],
   "source": [
    "regressor.fit(X_train,y_train)"
   ]
  },
  {
   "cell_type": "code",
   "execution_count": 52,
   "id": "e9526dff-b642-4bbd-acab-0a6cfb3eefa3",
   "metadata": {},
   "outputs": [
    {
     "data": {
      "text/plain": [
       "[Text(0.5302083333333333, 0.9285714285714286, 'x[0] <= 5.144\\nfriedman_mse = 1.328\\nsamples = 3457\\nvalue = 2.07'),\n",
       " Text(0.26666666666666666, 0.7857142857142857, 'x[0] <= 3.191\\nfriedman_mse = 0.839\\nsamples = 2789\\nvalue = 1.749'),\n",
       " Text(0.13333333333333333, 0.6428571428571429, 'x[5] <= 2.15\\nfriedman_mse = 0.632\\nsamples = 1448\\nvalue = 1.413'),\n",
       " Text(0.06666666666666667, 0.5, 'x[6] <= 37.82\\nfriedman_mse = 1.283\\nsamples = 233\\nvalue = 2.007'),\n",
       " Text(0.03333333333333333, 0.35714285714285715, 'x[7] <= -118.305\\nfriedman_mse = 1.491\\nsamples = 159\\nvalue = 2.292'),\n",
       " Text(0.016666666666666666, 0.21428571428571427, 'x[6] <= 34.42\\nfriedman_mse = 1.772\\nsamples = 77\\nvalue = 2.77'),\n",
       " Text(0.008333333333333333, 0.07142857142857142, 'friedman_mse = 1.185\\nsamples = 33\\nvalue = 3.726'),\n",
       " Text(0.025, 0.07142857142857142, 'friedman_mse = 1.012\\nsamples = 44\\nvalue = 2.054'),\n",
       " Text(0.05, 0.21428571428571427, 'x[7] <= -117.155\\nfriedman_mse = 0.811\\nsamples = 82\\nvalue = 1.843'),\n",
       " Text(0.041666666666666664, 0.07142857142857142, 'friedman_mse = 0.927\\nsamples = 52\\nvalue = 2.121'),\n",
       " Text(0.058333333333333334, 0.07142857142857142, 'friedman_mse = 0.246\\nsamples = 30\\nvalue = 1.362'),\n",
       " Text(0.1, 0.35714285714285715, 'x[6] <= 39.625\\nfriedman_mse = 0.284\\nsamples = 74\\nvalue = 1.393'),\n",
       " Text(0.08333333333333333, 0.21428571428571427, 'x[7] <= -122.195\\nfriedman_mse = 0.266\\nsamples = 66\\nvalue = 1.466'),\n",
       " Text(0.075, 0.07142857142857142, 'friedman_mse = 0.318\\nsamples = 22\\nvalue = 1.824'),\n",
       " Text(0.09166666666666666, 0.07142857142857142, 'friedman_mse = 0.143\\nsamples = 44\\nvalue = 1.287'),\n",
       " Text(0.11666666666666667, 0.21428571428571427, 'x[1] <= 10.5\\nfriedman_mse = 0.022\\nsamples = 8\\nvalue = 0.79'),\n",
       " Text(0.10833333333333334, 0.07142857142857142, 'friedman_mse = 0.0\\nsamples = 1\\nvalue = 1.114'),\n",
       " Text(0.125, 0.07142857142857142, 'friedman_mse = 0.008\\nsamples = 7\\nvalue = 0.744'),\n",
       " Text(0.2, 0.5, 'x[6] <= 34.465\\nfriedman_mse = 0.426\\nsamples = 1215\\nvalue = 1.299'),\n",
       " Text(0.16666666666666666, 0.35714285714285715, 'x[7] <= -118.285\\nfriedman_mse = 0.419\\nsamples = 634\\nvalue = 1.508'),\n",
       " Text(0.15, 0.21428571428571427, 'x[6] <= 34.045\\nfriedman_mse = 0.537\\nsamples = 130\\nvalue = 2.001'),\n",
       " Text(0.14166666666666666, 0.07142857142857142, 'friedman_mse = 0.396\\nsamples = 63\\nvalue = 1.725'),\n",
       " Text(0.15833333333333333, 0.07142857142857142, 'friedman_mse = 0.531\\nsamples = 67\\nvalue = 2.26'),\n",
       " Text(0.18333333333333332, 0.21428571428571427, 'x[7] <= -117.785\\nfriedman_mse = 0.31\\nsamples = 504\\nvalue = 1.381'),\n",
       " Text(0.175, 0.07142857142857142, 'friedman_mse = 0.21\\nsamples = 285\\nvalue = 1.547'),\n",
       " Text(0.19166666666666668, 0.07142857142857142, 'friedman_mse = 0.357\\nsamples = 219\\nvalue = 1.165'),\n",
       " Text(0.23333333333333334, 0.35714285714285715, 'x[7] <= -121.695\\nfriedman_mse = 0.335\\nsamples = 581\\nvalue = 1.071'),\n",
       " Text(0.21666666666666667, 0.21428571428571427, 'x[6] <= 38.675\\nfriedman_mse = 0.511\\nsamples = 212\\nvalue = 1.352'),\n",
       " Text(0.20833333333333334, 0.07142857142857142, 'friedman_mse = 0.527\\nsamples = 136\\nvalue = 1.647'),\n",
       " Text(0.225, 0.07142857142857142, 'friedman_mse = 0.049\\nsamples = 76\\nvalue = 0.825'),\n",
       " Text(0.25, 0.21428571428571427, 'x[4] <= 36.5\\nfriedman_mse = 0.162\\nsamples = 369\\nvalue = 0.91'),\n",
       " Text(0.24166666666666667, 0.07142857142857142, 'friedman_mse = 2.441\\nsamples = 2\\nvalue = 2.938'),\n",
       " Text(0.25833333333333336, 0.07142857142857142, 'friedman_mse = 0.127\\nsamples = 367\\nvalue = 0.899'),\n",
       " Text(0.4, 0.6428571428571429, 'x[5] <= 2.3\\nfriedman_mse = 0.809\\nsamples = 1341\\nvalue = 2.111'),\n",
       " Text(0.3333333333333333, 0.5, 'x[1] <= 19.5\\nfriedman_mse = 1.285\\nsamples = 249\\nvalue = 3.003'),\n",
       " Text(0.3, 0.35714285714285715, 'x[1] <= 7.5\\nfriedman_mse = 0.603\\nsamples = 72\\nvalue = 2.141'),\n",
       " Text(0.2833333333333333, 0.21428571428571427, 'x[6] <= 33.705\\nfriedman_mse = 0.105\\nsamples = 15\\nvalue = 1.618'),\n",
       " Text(0.275, 0.07142857142857142, 'friedman_mse = 0.145\\nsamples = 4\\nvalue = 1.972'),\n",
       " Text(0.2916666666666667, 0.07142857142857142, 'friedman_mse = 0.028\\nsamples = 11\\nvalue = 1.49'),\n",
       " Text(0.31666666666666665, 0.21428571428571427, 'x[4] <= 569.5\\nfriedman_mse = 0.643\\nsamples = 57\\nvalue = 2.279'),\n",
       " Text(0.30833333333333335, 0.07142857142857142, 'friedman_mse = 0.196\\nsamples = 10\\nvalue = 1.601'),\n",
       " Text(0.325, 0.07142857142857142, 'friedman_mse = 0.619\\nsamples = 47\\nvalue = 2.423'),\n",
       " Text(0.36666666666666664, 0.35714285714285715, 'x[0] <= 3.978\\nfriedman_mse = 1.137\\nsamples = 177\\nvalue = 3.354'),\n",
       " Text(0.35, 0.21428571428571427, 'x[5] <= 1.875\\nfriedman_mse = 1.006\\nsamples = 108\\nvalue = 2.996'),\n",
       " Text(0.3416666666666667, 0.07142857142857142, 'friedman_mse = 0.934\\nsamples = 28\\nvalue = 3.794'),\n",
       " Text(0.35833333333333334, 0.07142857142857142, 'friedman_mse = 0.73\\nsamples = 80\\nvalue = 2.716'),\n",
       " Text(0.38333333333333336, 0.21428571428571427, 'x[6] <= 37.81\\nfriedman_mse = 0.829\\nsamples = 69\\nvalue = 3.914'),\n",
       " Text(0.375, 0.07142857142857142, 'friedman_mse = 0.537\\nsamples = 58\\nvalue = 4.151'),\n",
       " Text(0.39166666666666666, 0.07142857142857142, 'friedman_mse = 0.515\\nsamples = 11\\nvalue = 2.665'),\n",
       " Text(0.4666666666666667, 0.5, 'x[0] <= 4.053\\nfriedman_mse = 0.477\\nsamples = 1092\\nvalue = 1.908'),\n",
       " Text(0.43333333333333335, 0.35714285714285715, 'x[6] <= 37.89\\nfriedman_mse = 0.378\\nsamples = 565\\nvalue = 1.711'),\n",
       " Text(0.4166666666666667, 0.21428571428571427, 'x[7] <= -122.25\\nfriedman_mse = 0.398\\nsamples = 443\\nvalue = 1.807'),\n",
       " Text(0.4083333333333333, 0.07142857142857142, 'friedman_mse = 0.117\\nsamples = 25\\nvalue = 2.695'),\n",
       " Text(0.425, 0.07142857142857142, 'friedman_mse = 0.365\\nsamples = 418\\nvalue = 1.754'),\n",
       " Text(0.45, 0.21428571428571427, 'x[6] <= 39.32\\nfriedman_mse = 0.151\\nsamples = 122\\nvalue = 1.363'),\n",
       " Text(0.44166666666666665, 0.07142857142857142, 'friedman_mse = 0.145\\nsamples = 106\\nvalue = 1.419'),\n",
       " Text(0.4583333333333333, 0.07142857142857142, 'friedman_mse = 0.031\\nsamples = 16\\nvalue = 0.992'),\n",
       " Text(0.5, 0.35714285714285715, 'x[5] <= 2.829\\nfriedman_mse = 0.498\\nsamples = 527\\nvalue = 2.119'),\n",
       " Text(0.48333333333333334, 0.21428571428571427, 'x[1] <= 38.5\\nfriedman_mse = 0.582\\nsamples = 230\\nvalue = 2.371'),\n",
       " Text(0.475, 0.07142857142857142, 'friedman_mse = 0.528\\nsamples = 179\\nvalue = 2.247'),\n",
       " Text(0.49166666666666664, 0.07142857142857142, 'friedman_mse = 0.526\\nsamples = 51\\nvalue = 2.806'),\n",
       " Text(0.5166666666666667, 0.21428571428571427, 'x[2] <= 7.615\\nfriedman_mse = 0.346\\nsamples = 297\\nvalue = 1.924'),\n",
       " Text(0.5083333333333333, 0.07142857142857142, 'friedman_mse = 0.294\\nsamples = 293\\nvalue = 1.904'),\n",
       " Text(0.525, 0.07142857142857142, 'friedman_mse = 1.915\\nsamples = 4\\nvalue = 3.409'),\n",
       " Text(0.79375, 0.7857142857142857, 'x[0] <= 7.012\\nfriedman_mse = 1.138\\nsamples = 668\\nvalue = 3.412'),\n",
       " Text(0.6666666666666666, 0.6428571428571429, 'x[5] <= 2.58\\nfriedman_mse = 0.868\\nsamples = 466\\nvalue = 3.03'),\n",
       " Text(0.6, 0.5, 'x[3] <= 1.071\\nfriedman_mse = 1.085\\nsamples = 121\\nvalue = 3.748'),\n",
       " Text(0.5666666666666667, 0.35714285714285715, 'x[1] <= 22.5\\nfriedman_mse = 1.096\\nsamples = 77\\nvalue = 3.454'),\n",
       " Text(0.55, 0.21428571428571427, 'x[0] <= 6.694\\nfriedman_mse = 0.553\\nsamples = 11\\nvalue = 2.357'),\n",
       " Text(0.5416666666666666, 0.07142857142857142, 'friedman_mse = 0.245\\nsamples = 10\\nvalue = 2.176'),\n",
       " Text(0.5583333333333333, 0.07142857142857142, 'friedman_mse = 0.0\\nsamples = 1\\nvalue = 4.173'),\n",
       " Text(0.5833333333333334, 0.21428571428571427, 'x[6] <= 36.695\\nfriedman_mse = 0.953\\nsamples = 66\\nvalue = 3.636'),\n",
       " Text(0.575, 0.07142857142857142, 'friedman_mse = 0.708\\nsamples = 33\\nvalue = 4.055'),\n",
       " Text(0.5916666666666667, 0.07142857142857142, 'friedman_mse = 0.847\\nsamples = 33\\nvalue = 3.218'),\n",
       " Text(0.6333333333333333, 0.35714285714285715, 'x[1] <= 11.0\\nfriedman_mse = 0.648\\nsamples = 44\\nvalue = 4.264'),\n",
       " Text(0.6166666666666667, 0.21428571428571427, 'x[7] <= -118.275\\nfriedman_mse = 0.923\\nsamples = 9\\nvalue = 3.529'),\n",
       " Text(0.6083333333333333, 0.07142857142857142, 'friedman_mse = 0.55\\nsamples = 4\\nvalue = 4.32'),\n",
       " Text(0.625, 0.07142857142857142, 'friedman_mse = 0.322\\nsamples = 5\\nvalue = 2.897'),\n",
       " Text(0.65, 0.21428571428571427, 'x[5] <= 2.207\\nfriedman_mse = 0.402\\nsamples = 35\\nvalue = 4.453'),\n",
       " Text(0.6416666666666667, 0.07142857142857142, 'friedman_mse = 0.157\\nsamples = 18\\nvalue = 4.767'),\n",
       " Text(0.6583333333333333, 0.07142857142857142, 'friedman_mse = 0.447\\nsamples = 17\\nvalue = 4.12'),\n",
       " Text(0.7333333333333333, 0.5, 'x[0] <= 5.741\\nfriedman_mse = 0.548\\nsamples = 345\\nvalue = 2.778'),\n",
       " Text(0.7, 0.35714285714285715, 'x[5] <= 2.94\\nfriedman_mse = 0.368\\nsamples = 155\\nvalue = 2.461'),\n",
       " Text(0.6833333333333333, 0.21428571428571427, 'x[0] <= 5.313\\nfriedman_mse = 0.341\\nsamples = 65\\nvalue = 2.758'),\n",
       " Text(0.675, 0.07142857142857142, 'friedman_mse = 0.25\\nsamples = 21\\nvalue = 2.437'),\n",
       " Text(0.6916666666666667, 0.07142857142857142, 'friedman_mse = 0.312\\nsamples = 44\\nvalue = 2.911'),\n",
       " Text(0.7166666666666667, 0.21428571428571427, 'x[1] <= 37.5\\nfriedman_mse = 0.278\\nsamples = 90\\nvalue = 2.246'),\n",
       " Text(0.7083333333333334, 0.07142857142857142, 'friedman_mse = 0.228\\nsamples = 88\\nvalue = 2.218'),\n",
       " Text(0.725, 0.07142857142857142, 'friedman_mse = 0.963\\nsamples = 2\\nvalue = 3.47'),\n",
       " Text(0.7666666666666667, 0.35714285714285715, 'x[1] <= 32.5\\nfriedman_mse = 0.544\\nsamples = 190\\nvalue = 3.038'),\n",
       " Text(0.75, 0.21428571428571427, 'x[6] <= 37.725\\nfriedman_mse = 0.393\\nsamples = 145\\nvalue = 2.868'),\n",
       " Text(0.7416666666666667, 0.07142857142857142, 'friedman_mse = 0.395\\nsamples = 119\\nvalue = 2.952'),\n",
       " Text(0.7583333333333333, 0.07142857142857142, 'friedman_mse = 0.201\\nsamples = 26\\nvalue = 2.48'),\n",
       " Text(0.7833333333333333, 0.21428571428571427, 'x[2] <= 6.794\\nfriedman_mse = 0.637\\nsamples = 45\\nvalue = 3.585'),\n",
       " Text(0.775, 0.07142857142857142, 'friedman_mse = 0.442\\nsamples = 38\\nvalue = 3.372'),\n",
       " Text(0.7916666666666666, 0.07142857142857142, 'friedman_mse = 0.107\\nsamples = 7\\nvalue = 4.744'),\n",
       " Text(0.9208333333333333, 0.6428571428571429, 'x[0] <= 8.164\\nfriedman_mse = 0.647\\nsamples = 202\\nvalue = 4.293'),\n",
       " Text(0.8666666666666667, 0.5, 'x[5] <= 2.826\\nfriedman_mse = 0.684\\nsamples = 98\\nvalue = 3.961'),\n",
       " Text(0.8333333333333334, 0.35714285714285715, 'x[6] <= 37.82\\nfriedman_mse = 0.452\\nsamples = 44\\nvalue = 4.425'),\n",
       " Text(0.8166666666666667, 0.21428571428571427, 'x[4] <= 258.5\\nfriedman_mse = 0.306\\nsamples = 38\\nvalue = 4.582'),\n",
       " Text(0.8083333333333333, 0.07142857142857142, 'friedman_mse = 0.391\\nsamples = 2\\nvalue = 3.125'),\n",
       " Text(0.825, 0.07142857142857142, 'friedman_mse = 0.177\\nsamples = 36\\nvalue = 4.663'),\n",
       " Text(0.85, 0.21428571428571427, 'x[0] <= 7.71\\nfriedman_mse = 0.224\\nsamples = 6\\nvalue = 3.428'),\n",
       " Text(0.8416666666666667, 0.07142857142857142, 'friedman_mse = 0.022\\nsamples = 3\\nvalue = 2.974'),\n",
       " Text(0.8583333333333333, 0.07142857142857142, 'friedman_mse = 0.015\\nsamples = 3\\nvalue = 3.881'),\n",
       " Text(0.9, 0.35714285714285715, 'x[7] <= -117.675\\nfriedman_mse = 0.555\\nsamples = 54\\nvalue = 3.583'),\n",
       " Text(0.8833333333333333, 0.21428571428571427, 'x[2] <= 6.849\\nfriedman_mse = 0.402\\nsamples = 46\\nvalue = 3.721'),\n",
       " Text(0.875, 0.07142857142857142, 'friedman_mse = 0.362\\nsamples = 13\\nvalue = 3.245'),\n",
       " Text(0.8916666666666667, 0.07142857142857142, 'friedman_mse = 0.293\\nsamples = 33\\nvalue = 3.909'),\n",
       " Text(0.9166666666666666, 0.21428571428571427, 'x[4] <= 3650.5\\nfriedman_mse = 0.687\\nsamples = 8\\nvalue = 2.785'),\n",
       " Text(0.9083333333333333, 0.07142857142857142, 'friedman_mse = 0.303\\nsamples = 7\\nvalue = 2.539'),\n",
       " Text(0.925, 0.07142857142857142, 'friedman_mse = -0.0\\nsamples = 1\\nvalue = 4.504'),\n",
       " Text(0.975, 0.5, 'x[5] <= 5.348\\nfriedman_mse = 0.41\\nsamples = 104\\nvalue = 4.606'),\n",
       " Text(0.9666666666666667, 0.35714285714285715, 'x[3] <= 0.877\\nfriedman_mse = 0.339\\nsamples = 103\\nvalue = 4.633'),\n",
       " Text(0.95, 0.21428571428571427, 'x[5] <= 3.626\\nfriedman_mse = 0.656\\nsamples = 5\\nvalue = 3.538'),\n",
       " Text(0.9416666666666667, 0.07142857142857142, 'friedman_mse = 0.152\\nsamples = 4\\nvalue = 3.172'),\n",
       " Text(0.9583333333333334, 0.07142857142857142, 'friedman_mse = -0.0\\nsamples = 1\\nvalue = 5.0'),\n",
       " Text(0.9833333333333333, 0.21428571428571427, 'x[0] <= 9.712\\nfriedman_mse = 0.258\\nsamples = 98\\nvalue = 4.689'),\n",
       " Text(0.975, 0.07142857142857142, 'friedman_mse = 0.332\\nsamples = 49\\nvalue = 4.485'),\n",
       " Text(0.9916666666666667, 0.07142857142857142, 'friedman_mse = 0.101\\nsamples = 49\\nvalue = 4.893'),\n",
       " Text(0.9833333333333333, 0.35714285714285715, 'friedman_mse = 0.0\\nsamples = 1\\nvalue = 1.825')]"
      ]
     },
     "execution_count": 52,
     "metadata": {},
     "output_type": "execute_result"
    },
    {
     "data": {
      "image/png": "[encoded data removed]",
      "text/plain": [
       "<Figure size 1200x1000 with 1 Axes>"
      ]
     },
     "metadata": {},
     "output_type": "display_data"
    }
   ],
   "source": [
    "from sklearn import tree\n",
    "plt.figure(figsize=(12,10))\n",
    "tree.plot_tree(regressor,filled=True)"
   ]
  },
  {
   "cell_type": "code",
   "execution_count": 47,
   "id": "4e77ba3f-205f-43be-ae1f-8aa367d2e787",
   "metadata": {},
   "outputs": [],
   "source": [
    "y_pred=regressorcv.predict(X_test)"
   ]
  },
  {
   "cell_type": "code",
   "execution_count": 48,
   "id": "cc43ff42-76c3-4c66-96e1-49d415eec6d2",
   "metadata": {},
   "outputs": [
    {
     "data": {
      "text/plain": [
       "array([1.54686667, 1.75405742, 1.54686667, ..., 1.75405742, 1.9037543 ,\n",
       "       2.95225218])"
      ]
     },
     "execution_count": 48,
     "metadata": {},
     "output_type": "execute_result"
    }
   ],
   "source": [
    "y_pred"
   ]
  },
  {
   "cell_type": "code",
   "execution_count": 53,
   "id": "d60b80b2-e93e-470e-949c-e2669786477e",
   "metadata": {},
   "outputs": [
    {
     "data": {
      "text/plain": [
       "0.6131420172567563"
      ]
     },
     "execution_count": 53,
     "metadata": {},
     "output_type": "execute_result"
    }
   ],
   "source": [
    "r2_score(y_test,y_pred)"
   ]
  },
  {
   "cell_type": "code",
   "execution_count": null,
   "id": "c278d5a9-48a9-4820-9aad-8279ad4c4e5d",
   "metadata": {},
   "outputs": [],
   "source": []
  }
 ],
 "metadata": {
  "kernelspec": {
   "display_name": "Python 3 (ipykernel)",
   "language": "python",
   "name": "python3"
  },
  "language_info": {
   "codemirror_mode": {
    "name": "ipython",
    "version": 3
   },
   "file_extension": ".py",
   "mimetype": "text/x-python",
   "name": "python",
   "nbconvert_exporter": "python",
   "pygments_lexer": "ipython3",
   "version": "3.10.8"
  }
 },
 "nbformat": 4,
 "nbformat_minor": 5
}
