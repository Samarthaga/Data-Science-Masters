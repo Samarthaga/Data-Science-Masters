{
 "cells": [
  {
   "cell_type": "markdown",
   "id": "5349a4e6-6bc9-4c64-a08f-3994a9786fa9",
   "metadata": {},
   "source": [
    "## Assignment 14 FEB"
   ]
  },
  {
   "cell_type": "code",
   "execution_count": null,
   "id": "e8916749-b65f-4e78-bcb7-2f613a72902f",
   "metadata": {},
   "outputs": [],
   "source": [
    "## Ans 1. multithreading is a process of running multiple threads simultaneously one after the other and if some error ocured in b/w it jumps to next one\n",
    "## it works well where some task can be broken down to smaller task and helps to take low space of the cores \n",
    "## Import threading module is used "
   ]
  },
  {
   "cell_type": "code",
   "execution_count": null,
   "id": "d7daa50c-d140-4b82-8d47-e0d2ba63dc8f",
   "metadata": {},
   "outputs": [],
   "source": [
    "## Ans2. Threading module is used to run a progam concurrently and helps for simplier design\n",
    "##The activeCount() method of thread class is used to return the number of active threads in the current thread's thread group\n",
    "## to return a reference to the currently executing thread object.\n"
   ]
  },
  {
   "cell_type": "code",
   "execution_count": null,
   "id": "a3892799-3556-4a36-b68d-a5d7ccd77846",
   "metadata": {},
   "outputs": [],
   "source": [
    "## Ans 3 run function is used to show a thread activity and is used to call a thread function\n",
    "## Start() function is used to start the thread and can be used to start one or multiple threads simultaneously \n",
    "## join() function is used to join 2 different threads together and to provide an output creating a pipleline b/w them \n",
    "## is alive function is used to call a boolean thread whether the set of statemnts is true or false "
   ]
  },
  {
   "cell_type": "code",
   "execution_count": 1,
   "id": "f9a5e395-30aa-40bd-9fe0-8d786910ca9e",
   "metadata": {},
   "outputs": [],
   "source": [
    "import threading"
   ]
  },
  {
   "cell_type": "code",
   "execution_count": 11,
   "id": "157bdc6f-2f1c-4de5-96f1-baaced93f710",
   "metadata": {},
   "outputs": [
    {
     "ename": "AttributeError",
     "evalue": "'list' object has no attribute 'start'",
     "output_type": "error",
     "traceback": [
      "\u001b[0;31m---------------------------------------------------------------------------\u001b[0m",
      "\u001b[0;31mAttributeError\u001b[0m                            Traceback (most recent call last)",
      "Cell \u001b[0;32mIn[11], line 10\u001b[0m\n\u001b[1;32m      7\u001b[0m thread1\u001b[38;5;241m=\u001b[39m[threading\u001b[38;5;241m.\u001b[39mThread(target\u001b[38;5;241m=\u001b[39mprint_cube, args\u001b[38;5;241m=\u001b[39m(i,)) \u001b[38;5;28;01mfor\u001b[39;00m i \u001b[38;5;129;01min\u001b[39;00m [\u001b[38;5;241m1\u001b[39m,\u001b[38;5;241m2\u001b[39m,\u001b[38;5;241m3\u001b[39m,\u001b[38;5;241m4\u001b[39m]]\n\u001b[1;32m      8\u001b[0m thread2\u001b[38;5;241m=\u001b[39m[threading\u001b[38;5;241m.\u001b[39mThread(target\u001b[38;5;241m=\u001b[39mprint_square, args\u001b[38;5;241m=\u001b[39m(i,)) \u001b[38;5;28;01mfor\u001b[39;00m i \u001b[38;5;129;01min\u001b[39;00m [\u001b[38;5;241m1\u001b[39m,\u001b[38;5;241m2\u001b[39m,\u001b[38;5;241m3\u001b[39m,\u001b[38;5;241m4\u001b[39m]]\n\u001b[0;32m---> 10\u001b[0m \u001b[43mthread1\u001b[49m\u001b[38;5;241;43m.\u001b[39;49m\u001b[43mstart\u001b[49m()\n\u001b[1;32m     11\u001b[0m thread2\u001b[38;5;241m.\u001b[39mstart()\n\u001b[1;32m     12\u001b[0m thread1\u001b[38;5;241m.\u001b[39mjoin()\n",
      "\u001b[0;31mAttributeError\u001b[0m: 'list' object has no attribute 'start'"
     ]
    }
   ],
   "source": [
    "def print_cube(num):\n",
    "    print('cube {}'.format(num**3))\n",
    "    \n",
    "def print_square(num):\n",
    "    print('square {}'.format(num**2))\n",
    "    \n",
    "thread1=[threading.Thread(target=print_cube, args=(i,)) for i in [1,2,3,4]]\n",
    "thread2=[threading.Thread(target=print_square, args=(i,)) for i in [1,2,3,4]]\n",
    "\n",
    "thread1.start()\n",
    "thread2.start()\n",
    "thread1.join()\n",
    "thread2.join()\n",
    "print ('done')"
   ]
  },
  {
   "cell_type": "raw",
   "id": "4c165795-c5ae-4dfd-9059-b12309004cf5",
   "metadata": {},
   "source": []
  },
  {
   "cell_type": "code",
   "execution_count": null,
   "id": "cbc52c9e-4ac8-4b0f-abfd-6826114e4db1",
   "metadata": {},
   "outputs": [],
   "source": [
    "## Ans 5. It also allows another thread to run when a thread makes a blocking system call. It supports multiple threads to execute in parallel on microprocessors. Disadvantage of this model is that creating user thread requires the corresponding Kernel thread"
   ]
  },
  {
   "cell_type": "code",
   "execution_count": null,
   "id": "e1120c42-207f-4bce-8ac7-72162146d12e",
   "metadata": {},
   "outputs": [],
   "source": [
    "## Ans 6. A race condition occurs when two threads use the same variable at a given time. Deadlock exists when two threads seek one lock simultaneously"
   ]
  },
  {
   "cell_type": "code",
   "execution_count": null,
   "id": "7a3f7ec7-55d9-4aa3-a6d0-9db28d28202a",
   "metadata": {},
   "outputs": [],
   "source": []
  },
  {
   "cell_type": "code",
   "execution_count": null,
   "id": "ed2b09a4-6052-468c-9b13-56d5b858d515",
   "metadata": {},
   "outputs": [],
   "source": []
  }
 ],
 "metadata": {
  "kernelspec": {
   "display_name": "Python 3 (ipykernel)",
   "language": "python",
   "name": "python3"
  },
  "language_info": {
   "codemirror_mode": {
    "name": "ipython",
    "version": 3
   },
   "file_extension": ".py",
   "mimetype": "text/x-python",
   "name": "python",
   "nbconvert_exporter": "python",
   "pygments_lexer": "ipython3",
   "version": "3.10.8"
  }
 },
 "nbformat": 4,
 "nbformat_minor": 5
}
