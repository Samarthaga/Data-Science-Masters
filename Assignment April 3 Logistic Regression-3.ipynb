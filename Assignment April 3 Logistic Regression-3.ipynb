{
 "cells": [
  {
   "cell_type": "code",
   "execution_count": null,
   "id": "319536c4-154a-4f6f-b65a-dc52f2928aa2",
   "metadata": {},
   "outputs": [],
   "source": [
    "## Ans 1: Recall: The ability of a model to find all the relevant cases within a data set. Mathematically, we define recall as the number of true positives divided by the number of true positives plus the number of false negatives. Precision: The ability of a classification model to identify only the relevant data points."
   ]
  },
  {
   "cell_type": "code",
   "execution_count": null,
   "id": "77881d09-ffa8-4dcf-9600-983aa8ea615b",
   "metadata": {},
   "outputs": [],
   "source": [
    "## Ans 2: The F1 score can be interpreted as a harmonic mean of the precision and recall, where an F1 score reaches its best value at 1 and worst score at 0. The relative contribution of precision and recall to the F1 score are equal\n",
    "## F1 score is a weighted average of precision and recall. As we know in precision and in recall there is false positive and false negative so it also consider both of them. F1 score is usually more useful than accuracy, especially if you have an uneven class distribution"
   ]
  },
  {
   "cell_type": "code",
   "execution_count": null,
   "id": "686f5e97-d5cc-44f5-a74b-271c2347b927",
   "metadata": {},
   "outputs": [],
   "source": [
    "## Ans 3: An ROC curve (receiver operating characteristic curve) is a graph showing the performance of a classification model at all classification thresholds.\n",
    "## AUC : Area under the curve I.e  AUC measures the entire two-dimensional area underneath the entire ROC curve (think integral calculus) from (0,0) to (1,1)"
   ]
  },
  {
   "cell_type": "code",
   "execution_count": null,
   "id": "dc89aff7-58e1-4f8d-95ff-18436a73673e",
   "metadata": {},
   "outputs": [],
   "source": [
    "## Ans 4: i will choose confusion matrix where i will call precision,accuracy and classification model and can change the values of l1,l2,and elastic net with respect to C and CV for best outcomes\n",
    "## Multiclass classification have more than 2 independent features for [prediction of the model classification type like type of work in a month good,bad and average "
   ]
  },
  {
   "cell_type": "code",
   "execution_count": null,
   "id": "66b44102-d932-4aae-9682-b5efe5476e99",
   "metadata": {},
   "outputs": [],
   "source": [
    "## Ans 5: one vs rest can be used for multiclass classification where first we group 2 categories and then the grouping is done with respect to 3rd and best fit line is made as per the grouping "
   ]
  },
  {
   "cell_type": "code",
   "execution_count": null,
   "id": "fd638080-ed33-4f5c-93fe-1c3c5ba4dd44",
   "metadata": {},
   "outputs": [],
   "source": [
    "## Ans 7 : Model deployment is the process of putting machine learning models into production. This makes the model's predictions available to users, developers or systems, so they can make business decisions based on data, interact with their application (like recognize a face in an image) and so on."
   ]
  },
  {
   "cell_type": "code",
   "execution_count": null,
   "id": "5ac8d276-3ca2-47c1-b767-1d05f53e21ad",
   "metadata": {},
   "outputs": [],
   "source": [
    "## Ans 8: A multi-cloud deployment model allows organizations to choose the specific services that work best for them. They can then maximize the resources and pay only for what gets used. It provides a reliable architecture. Using multiple CSPs creates redundancies that minimize the risk of a single point of failure"
   ]
  },
  {
   "cell_type": "code",
   "execution_count": null,
   "id": "ac5082d7-bf6d-43b4-9865-ab6ca3e616e7",
   "metadata": {},
   "outputs": [],
   "source": [
    "## Ans 9: Differing infrastructure, APIs, database, network, and security constructs.\n",
    "# Cost and time of refactoring applications for a new public cloud environment.\n",
    "# Risks related to security, data, and privacy issues associated with regional data regulations.\n",
    "#Increased complexity from specialized tools"
   ]
  },
  {
   "cell_type": "code",
   "execution_count": null,
   "id": "a5c5b34d-737c-4ff9-b4cb-2d70e127c771",
   "metadata": {},
   "outputs": [],
   "source": []
  },
  {
   "cell_type": "code",
   "execution_count": null,
   "id": "1fa66908-6596-4db2-b57c-9e2743a093b3",
   "metadata": {},
   "outputs": [],
   "source": []
  },
  {
   "cell_type": "code",
   "execution_count": null,
   "id": "3ff47d6e-6fcb-440b-9320-36761c64779f",
   "metadata": {},
   "outputs": [],
   "source": []
  },
  {
   "cell_type": "code",
   "execution_count": null,
   "id": "e49cadd0-f11d-4dbd-8015-395562232267",
   "metadata": {},
   "outputs": [],
   "source": []
  }
 ],
 "metadata": {
  "kernelspec": {
   "display_name": "Python 3 (ipykernel)",
   "language": "python",
   "name": "python3"
  },
  "language_info": {
   "codemirror_mode": {
    "name": "ipython",
    "version": 3
   },
   "file_extension": ".py",
   "mimetype": "text/x-python",
   "name": "python",
   "nbconvert_exporter": "python",
   "pygments_lexer": "ipython3",
   "version": "3.10.8"
  }
 },
 "nbformat": 4,
 "nbformat_minor": 5
}
