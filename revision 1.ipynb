{
 "cells": [
  {
   "cell_type": "code",
   "execution_count": 1,
   "id": "1503653e-8c65-4372-bbad-262be9532186",
   "metadata": {},
   "outputs": [
    {
     "name": "stdout",
     "output_type": "stream",
     "text": [
      "this is samarth \n",
      "in kotak bank\n"
     ]
    }
   ],
   "source": [
    "print('this is samarth \\nin kotak bank')"
   ]
  },
  {
   "cell_type": "code",
   "execution_count": 2,
   "id": "bedd10a6-99b5-4f5f-b628-90a6241d8daa",
   "metadata": {},
   "outputs": [
    {
     "data": {
      "text/plain": [
       "str"
      ]
     },
     "execution_count": 2,
     "metadata": {},
     "output_type": "execute_result"
    }
   ],
   "source": [
    "type('sjgj')"
   ]
  },
  {
   "cell_type": "code",
   "execution_count": 3,
   "id": "06129e1d-35ed-4138-a8ea-834ad976b4e5",
   "metadata": {},
   "outputs": [],
   "source": [
    "decimal_num=2.5"
   ]
  },
  {
   "cell_type": "code",
   "execution_count": 4,
   "id": "4e7001c5-a7cc-45c7-a67e-699f1472fe0a",
   "metadata": {},
   "outputs": [
    {
     "data": {
      "text/plain": [
       "2.5"
      ]
     },
     "execution_count": 4,
     "metadata": {},
     "output_type": "execute_result"
    }
   ],
   "source": [
    "decimal_num"
   ]
  },
  {
   "cell_type": "code",
   "execution_count": 11,
   "id": "74d3eb51-e4bf-4029-ab2a-a5e188bb80e7",
   "metadata": {},
   "outputs": [
    {
     "name": "stdout",
     "output_type": "stream",
     "text": [
      "true\n"
     ]
    }
   ],
   "source": [
    "a=1\n",
    "if bool(a)==True:\n",
    "    print('true')"
   ]
  },
  {
   "cell_type": "code",
   "execution_count": 10,
   "id": "ff5a366d-c496-4c7a-bbe9-4ce9933cb88d",
   "metadata": {},
   "outputs": [
    {
     "name": "stdout",
     "output_type": "stream",
     "text": [
      "True\n"
     ]
    }
   ],
   "source": [
    "a=1\n",
    "if bool(a)==True:\n",
    "    \n",
    "    print(\"True\")"
   ]
  },
  {
   "cell_type": "code",
   "execution_count": 1,
   "id": "ddae0e38-e7d1-43ba-a89b-5ac65692ee9f",
   "metadata": {},
   "outputs": [
    {
     "name": "stdout",
     "output_type": "stream",
     "text": [
      "123\n"
     ]
    }
   ],
   "source": [
    "print(123)"
   ]
  },
  {
   "cell_type": "code",
   "execution_count": 2,
   "id": "e268f4cd-e6ae-4a40-a89d-c10061e1fb2e",
   "metadata": {},
   "outputs": [
    {
     "name": "stdout",
     "output_type": "stream",
     "text": [
      "kafjbsf\n"
     ]
    }
   ],
   "source": [
    "print('kafjbsf')"
   ]
  },
  {
   "cell_type": "code",
   "execution_count": 3,
   "id": "7dfbd631-16fb-4340-ada6-34764d2d8896",
   "metadata": {},
   "outputs": [],
   "source": [
    "x=1"
   ]
  },
  {
   "cell_type": "code",
   "execution_count": 4,
   "id": "e9bb800a-1d99-45b0-85ff-8a8d5b89eb45",
   "metadata": {},
   "outputs": [
    {
     "data": {
      "text/plain": [
       "1"
      ]
     },
     "execution_count": 4,
     "metadata": {},
     "output_type": "execute_result"
    }
   ],
   "source": [
    "x"
   ]
  },
  {
   "cell_type": "code",
   "execution_count": 5,
   "id": "85e4ad33-c17d-4c93-ac84-1a405efe5e15",
   "metadata": {},
   "outputs": [],
   "source": [
    "x=x+1"
   ]
  },
  {
   "cell_type": "code",
   "execution_count": 6,
   "id": "047fad86-2b7b-449e-b60d-4e027b17ffe4",
   "metadata": {},
   "outputs": [
    {
     "data": {
      "text/plain": [
       "2"
      ]
     },
     "execution_count": 6,
     "metadata": {},
     "output_type": "execute_result"
    }
   ],
   "source": [
    "x"
   ]
  },
  {
   "cell_type": "code",
   "execution_count": 7,
   "id": "0b74b8f3-ec56-44d6-95ff-1306f03a1cf8",
   "metadata": {},
   "outputs": [],
   "source": [
    "x+=1"
   ]
  },
  {
   "cell_type": "code",
   "execution_count": 8,
   "id": "4fe27541-58e8-42f2-8009-1192af9078e5",
   "metadata": {},
   "outputs": [
    {
     "data": {
      "text/plain": [
       "3"
      ]
     },
     "execution_count": 8,
     "metadata": {},
     "output_type": "execute_result"
    }
   ],
   "source": [
    "x"
   ]
  },
  {
   "cell_type": "code",
   "execution_count": 9,
   "id": "08e68ab8-60fa-447d-beeb-ad89ef3ed2d2",
   "metadata": {},
   "outputs": [
    {
     "data": {
      "text/plain": [
       "3"
      ]
     },
     "execution_count": 9,
     "metadata": {},
     "output_type": "execute_result"
    }
   ],
   "source": [
    "x"
   ]
  },
  {
   "cell_type": "code",
   "execution_count": 10,
   "id": "8f7d0cbc-8d57-4ef9-ace5-a4a2911c8b1a",
   "metadata": {},
   "outputs": [],
   "source": [
    "x+=2"
   ]
  },
  {
   "cell_type": "code",
   "execution_count": 11,
   "id": "dfc48775-9392-4c28-a7e6-76a9707defdf",
   "metadata": {},
   "outputs": [
    {
     "data": {
      "text/plain": [
       "5"
      ]
     },
     "execution_count": 11,
     "metadata": {},
     "output_type": "execute_result"
    }
   ],
   "source": [
    "x"
   ]
  },
  {
   "cell_type": "code",
   "execution_count": 12,
   "id": "1adea2c8-5a83-4f7e-939d-4aad26b1cf73",
   "metadata": {},
   "outputs": [],
   "source": [
    "x+=3"
   ]
  },
  {
   "cell_type": "code",
   "execution_count": 13,
   "id": "55eeb10e-82e6-4990-bc30-6fe06425e625",
   "metadata": {},
   "outputs": [
    {
     "data": {
      "text/plain": [
       "8"
      ]
     },
     "execution_count": 13,
     "metadata": {},
     "output_type": "execute_result"
    }
   ],
   "source": [
    "x"
   ]
  },
  {
   "cell_type": "code",
   "execution_count": 15,
   "id": "bcf93cc0-4a91-4aff-8924-ee7c712b0bb8",
   "metadata": {},
   "outputs": [
    {
     "data": {
      "text/plain": [
       "8"
      ]
     },
     "execution_count": 15,
     "metadata": {},
     "output_type": "execute_result"
    }
   ],
   "source": [
    "x"
   ]
  },
  {
   "cell_type": "code",
   "execution_count": 18,
   "id": "35652ebf-53e8-4b23-afc7-03f3a866ecde",
   "metadata": {},
   "outputs": [
    {
     "ename": "SyntaxError",
     "evalue": "invalid syntax (1735196039.py, line 3)",
     "output_type": "error",
     "traceback": [
      "\u001b[1;36m  File \u001b[1;32m\"C:\\Users\\hp\\AppData\\Local\\Temp\\ipykernel_5472\\1735196039.py\"\u001b[1;36m, line \u001b[1;32m3\u001b[0m\n\u001b[1;33m    sum1 += 1:\u001b[0m\n\u001b[1;37m             ^\u001b[0m\n\u001b[1;31mSyntaxError\u001b[0m\u001b[1;31m:\u001b[0m invalid syntax\n"
     ]
    }
   ],
   "source": [
    "sum1=0\n",
    "for sum1 in range(1,100):\n",
    "        sum1 += 1:\n",
    "        print(sum1)\n",
    "        break\n",
    "        print('stop')\n",
    "    "
   ]
  },
  {
   "cell_type": "code",
   "execution_count": 25,
   "id": "288cda37-ae97-4df2-a0c9-53ea07f9181c",
   "metadata": {},
   "outputs": [
    {
     "name": "stdin",
     "output_type": "stream",
     "text": [
      "enter the no 10\n"
     ]
    },
    {
     "name": "stdout",
     "output_type": "stream",
     "text": [
      "the no is 10\n"
     ]
    }
   ],
   "source": [
    "x=int(input('enter the no'))\n",
    "if x<10:\n",
    "    print('less than 10')\n",
    "elif x==10:\n",
    "    print('the no is 10')\n",
    "else:\n",
    "    print('more than 10')\n"
   ]
  },
  {
   "cell_type": "code",
   "execution_count": 32,
   "id": "a9ef3db7-cf32-47c2-b958-65baeeba8c1c",
   "metadata": {},
   "outputs": [
    {
     "name": "stdout",
     "output_type": "stream",
     "text": [
      "6\n",
      "\n",
      "5\n",
      "\n",
      "4\n",
      "\n",
      "3\n",
      "\n",
      "2\n",
      "\n",
      "1\n",
      "\n"
     ]
    }
   ],
   "source": [
    "n=6\n",
    "while n >0:\n",
    "    print(n)\n",
    "    n=n-1\n",
    "    print('')"
   ]
  },
  {
   "cell_type": "code",
   "execution_count": 33,
   "id": "418bfb8e-4c5c-483a-9297-198d2e7a5961",
   "metadata": {},
   "outputs": [
    {
     "data": {
      "text/plain": [
       "2189796665616"
      ]
     },
     "execution_count": 33,
     "metadata": {},
     "output_type": "execute_result"
    }
   ],
   "source": [
    "id(n)"
   ]
  },
  {
   "cell_type": "code",
   "execution_count": 37,
   "id": "546463d6-46b5-498f-b952-b48046130b3d",
   "metadata": {},
   "outputs": [
    {
     "data": {
      "text/plain": [
       "range(0, 2189796665616)"
      ]
     },
     "execution_count": 37,
     "metadata": {},
     "output_type": "execute_result"
    }
   ],
   "source": [
    "range(id(n))"
   ]
  },
  {
   "cell_type": "code",
   "execution_count": 38,
   "id": "1556f81a-c933-4bdb-b16d-684ab768b6e8",
   "metadata": {},
   "outputs": [
    {
     "name": "stdout",
     "output_type": "stream",
     "text": [
      "199.0\n"
     ]
    }
   ],
   "source": [
    "print(float(99) + 100)"
   ]
  },
  {
   "cell_type": "code",
   "execution_count": 40,
   "id": "462c109d-d91f-4132-8a52-26da894f848b",
   "metadata": {},
   "outputs": [
    {
     "name": "stdin",
     "output_type": "stream",
     "text": [
      "europe floor 6\n"
     ]
    },
    {
     "name": "stdout",
     "output_type": "stream",
     "text": [
      "us floor 7\n"
     ]
    }
   ],
   "source": [
    "abc=input('europe floor')\n",
    "defe=int(abc) +1\n",
    "print('us floor',defe)"
   ]
  },
  {
   "cell_type": "code",
   "execution_count": 41,
   "id": "096a18cc-009c-4fce-82c1-e049b3388f92",
   "metadata": {},
   "outputs": [
    {
     "name": "stdout",
     "output_type": "stream",
     "text": [
      "0\n",
      "done with i 0\n",
      "1\n",
      "done with i 1\n",
      "2\n",
      "done with i 2\n",
      "3\n",
      "bigger than 2\n",
      "done with i 3\n",
      "4\n",
      "bigger than 2\n",
      "done with i 4\n",
      "all done\n"
     ]
    }
   ],
   "source": [
    "for i in range(5):\n",
    "    print(i)\n",
    "    if i>2:\n",
    "        print('bigger than 2')\n",
    "    print('done with i',i)\n",
    "print('all done')"
   ]
  },
  {
   "cell_type": "code",
   "execution_count": 42,
   "id": "371608c8-4aa1-4677-910e-ca3e2a21b702",
   "metadata": {},
   "outputs": [
    {
     "name": "stdout",
     "output_type": "stream",
     "text": [
      "more than 1\n",
      "less than 100\n",
      "all done\n"
     ]
    }
   ],
   "source": [
    "x=42\n",
    "if x > 1:\n",
    "    print('more than 1')\n",
    "    if x < 100:\n",
    "        print('less than 100')\n",
    "print('all done')"
   ]
  },
  {
   "cell_type": "code",
   "execution_count": 49,
   "id": "d374d485-8415-429b-822e-5f72a42504f2",
   "metadata": {},
   "outputs": [
    {
     "name": "stdout",
     "output_type": "stream",
     "text": [
      "0.99\n"
     ]
    }
   ],
   "source": [
    "print(float(99)/100)"
   ]
  },
  {
   "cell_type": "code",
   "execution_count": 51,
   "id": "3903ab63-0830-4a74-a2d3-03dd709110ea",
   "metadata": {},
   "outputs": [
    {
     "name": "stdout",
     "output_type": "stream",
     "text": [
      "7.5\n"
     ]
    }
   ],
   "source": [
    "x=4.5\n",
    "print(1+2+float(x))"
   ]
  },
  {
   "cell_type": "code",
   "execution_count": 52,
   "id": "9b903230-7b65-469a-8022-7fdf375e171c",
   "metadata": {},
   "outputs": [],
   "source": [
    "def greet(lang):\n",
    "    if lang == 'es':\n",
    "        print('hola')\n",
    "    elif lang == 'fr':\n",
    "        print('bonjour')\n",
    "    else:\n",
    "        print('hello')"
   ]
  },
  {
   "cell_type": "code",
   "execution_count": 53,
   "id": "67354490-feb8-4460-9f4a-be8f2f2891a4",
   "metadata": {},
   "outputs": [
    {
     "name": "stdout",
     "output_type": "stream",
     "text": [
      "hola\n"
     ]
    }
   ],
   "source": [
    "greet('es')"
   ]
  },
  {
   "cell_type": "code",
   "execution_count": 54,
   "id": "267d1809-dfba-4abf-b528-9880a52ca395",
   "metadata": {},
   "outputs": [
    {
     "name": "stdout",
     "output_type": "stream",
     "text": [
      "bonjour\n"
     ]
    }
   ],
   "source": [
    "greet('fr')"
   ]
  },
  {
   "cell_type": "code",
   "execution_count": 55,
   "id": "25ba48b2-9c0c-4d48-bad7-aa7038a8726f",
   "metadata": {},
   "outputs": [
    {
     "name": "stdout",
     "output_type": "stream",
     "text": [
      "hello\n"
     ]
    }
   ],
   "source": [
    "greet('en')"
   ]
  },
  {
   "cell_type": "code",
   "execution_count": 56,
   "id": "23586e34-97e6-45cf-a514-25da5918a19b",
   "metadata": {},
   "outputs": [],
   "source": [
    "def yeah():\n",
    "    return 'hello'"
   ]
  },
  {
   "cell_type": "code",
   "execution_count": 60,
   "id": "ebc0063e-9729-46e5-8893-1be46cc28c8d",
   "metadata": {},
   "outputs": [
    {
     "name": "stdout",
     "output_type": "stream",
     "text": [
      "hello 1\n"
     ]
    }
   ],
   "source": [
    "print(yeah(),'1')"
   ]
  },
  {
   "cell_type": "code",
   "execution_count": 65,
   "id": "02aaf5fb-c4ed-48a0-94ee-a11c6931ef7d",
   "metadata": {},
   "outputs": [
    {
     "name": "stdout",
     "output_type": "stream",
     "text": [
      "5\n",
      "4\n",
      "3\n",
      "2\n",
      "1\n",
      "end\n",
      "0\n"
     ]
    }
   ],
   "source": [
    "n=5\n",
    "while n > 0:\n",
    "    print(n)\n",
    "    n = n-1\n",
    "print('end')\n",
    "print(n)"
   ]
  },
  {
   "cell_type": "code",
   "execution_count": 69,
   "id": "85b0a835-4c93-42a7-a776-ef267e0fcbd3",
   "metadata": {
    "tags": []
   },
   "outputs": [
    {
     "name": "stdout",
     "output_type": "stream",
     "text": [
      "1000\n",
      "900\n",
      "800\n",
      "700\n",
      "600\n",
      "500\n",
      "400\n",
      "300\n",
      "200\n",
      "0\n"
     ]
    }
   ],
   "source": [
    "kotak=1000\n",
    "while kotak > 100:\n",
    "    print(kotak)\n",
    "    kotak=kotak-100\n",
    "print(kotak-100)"
   ]
  },
  {
   "cell_type": "markdown",
   "id": "bfa58a21-0414-42d9-b315-295a14c609dd",
   "metadata": {},
   "source": [
    "## infine loop is dangerous"
   ]
  },
  {
   "cell_type": "code",
   "execution_count": 71,
   "id": "be62b321-9bcf-4508-97fe-3b513bfcd7fc",
   "metadata": {},
   "outputs": [
    {
     "name": "stdout",
     "output_type": "stream",
     "text": [
      "mine\n"
     ]
    }
   ],
   "source": [
    "n=4\n",
    "while n>0:\n",
    "    print('mine')\n",
    "    break\n",
    "    print('done')"
   ]
  },
  {
   "cell_type": "code",
   "execution_count": 72,
   "id": "7d714a7b-3032-46f7-991c-4aed6eab7562",
   "metadata": {},
   "outputs": [
    {
     "name": "stdout",
     "output_type": "stream",
     "text": [
      "5\n",
      "4\n",
      "3\n",
      "2\n",
      "1\n",
      "done\n"
     ]
    }
   ],
   "source": [
    "for i in [5,4,3,2,1]:\n",
    "    print(i)\n",
    "print('done')"
   ]
  },
  {
   "cell_type": "code",
   "execution_count": null,
   "id": "33baf354-c23c-4984-b1eb-8b8130960444",
   "metadata": {},
   "outputs": [],
   "source": []
  }
 ],
 "metadata": {
  "kernelspec": {
   "display_name": "Python 3 (ipykernel)",
   "language": "python",
   "name": "python3"
  },
  "language_info": {
   "codemirror_mode": {
    "name": "ipython",
    "version": 3
   },
   "file_extension": ".py",
   "mimetype": "text/x-python",
   "name": "python",
   "nbconvert_exporter": "python",
   "pygments_lexer": "ipython3",
   "version": "3.9.13"
  }
 },
 "nbformat": 4,
 "nbformat_minor": 5
}
