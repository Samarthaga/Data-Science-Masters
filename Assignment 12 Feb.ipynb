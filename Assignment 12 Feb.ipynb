{
 "cells": [
  {
   "cell_type": "code",
   "execution_count": null,
   "id": "642d4754-f220-4400-99b5-c30f7b7dd61a",
   "metadata": {},
   "outputs": [],
   "source": [
    "## Ans 1. An exception is a function by which we can safely code a program and can execute a code if an error occured by using try and exception method\n",
    "## difference b/w exception and syntax error is that by exception method we can call an error basis some important information as statement which can help debbuging of the error easily \n",
    "## while if syntax error occured we wont be able to find where and what can be the cause of syntax error as it might pe a possibility that code is right however certain code called for execution does not exist"
   ]
  },
  {
   "cell_type": "code",
   "execution_count": 4,
   "id": "40d6a3f8-af14-4ef3-b6b3-15ebc000d588",
   "metadata": {},
   "outputs": [
    {
     "name": "stdout",
     "output_type": "stream",
     "text": [
      " this is the end and above is the result\n"
     ]
    }
   ],
   "source": [
    "## if an exception is not handled properly than finally funtion is called as it gets executed with all conditions \n",
    "## Example \n",
    "try:\n",
    "    f= open('exp1.txt','w')\n",
    "    f.write('this is my test file')\n",
    "except Exception as e:\n",
    "    print('this will give error if file opened have error',e)\n",
    "    \n",
    "finally :\n",
    "    print (' this is the end and above is the result')\n",
    "    f.close()"
   ]
  },
  {
   "cell_type": "code",
   "execution_count": 5,
   "id": "5a827c76-8472-4bd1-979e-6091e699d853",
   "metadata": {},
   "outputs": [
    {
     "name": "stdout",
     "output_type": "stream",
     "text": [
      "this is my int str error invalid literal for int() with base 10: 'sudh'\n"
     ]
    }
   ],
   "source": [
    "## ZeroDivisionError,ValueError,TypeError,FileExistsError,FileNotFoundError,KeyError are all used as error statements \n",
    "\n",
    "## example \n",
    "\n",
    "try:\n",
    "    file=int('sudh')\n",
    "except (TypeError,ValueError) as e:\n",
    "    print('this is my int str error',e)"
   ]
  },
  {
   "cell_type": "code",
   "execution_count": 11,
   "id": "b65029e9-9e70-4aba-bb5a-ce786141ea4b",
   "metadata": {},
   "outputs": [
    {
     "name": "stdout",
     "output_type": "stream",
     "text": [
      "this code is right\n",
      "kotak bank\n"
     ]
    }
   ],
   "source": [
    "## Ans 4. Try and else \n",
    "import logging\n",
    "logging.basicConfig(filename='kotakbank',level=logging.ERROR)\n",
    "try:\n",
    "    f1=open ('kotak.txt','w')\n",
    "    f1.write('this is my bank kotak')\n",
    "    \n",
    "except Exception as e :\n",
    "    logging.error('this is my error {}'.format(e))\n",
    "else :\n",
    "    print('this code is right')\n",
    "    f1.close()\n",
    "    \n",
    "finally :\n",
    "    print('kotak bank')"
   ]
  },
  {
   "cell_type": "code",
   "execution_count": 15,
   "id": "9c27f391-9a2d-43d7-9c3e-4eb0a15cd61a",
   "metadata": {},
   "outputs": [
    {
     "name": "stdout",
     "output_type": "stream",
     "text": [
      "this will always execute\n"
     ]
    },
    {
     "ename": "UnsupportedOperation",
     "evalue": "not writable",
     "output_type": "error",
     "traceback": [
      "\u001b[0;31m---------------------------------------------------------------------------\u001b[0m",
      "\u001b[0;31mUnsupportedOperation\u001b[0m                      Traceback (most recent call last)",
      "Cell \u001b[0;32mIn[15], line 4\u001b[0m\n\u001b[1;32m      2\u001b[0m \u001b[38;5;28;01mtry\u001b[39;00m:\n\u001b[1;32m      3\u001b[0m     f\u001b[38;5;241m=\u001b[39m\u001b[38;5;28mopen\u001b[39m(\u001b[38;5;124m'\u001b[39m\u001b[38;5;124mtest1.txt\u001b[39m\u001b[38;5;124m'\u001b[39m,\u001b[38;5;124m'\u001b[39m\u001b[38;5;124mr\u001b[39m\u001b[38;5;124m'\u001b[39m)\n\u001b[0;32m----> 4\u001b[0m     \u001b[43mf\u001b[49m\u001b[38;5;241;43m.\u001b[39;49m\u001b[43mwrite\u001b[49m\u001b[43m(\u001b[49m\u001b[38;5;124;43m'\u001b[39;49m\u001b[38;5;124;43mthis is my msg\u001b[39;49m\u001b[38;5;124;43m'\u001b[39;49m\u001b[43m)\u001b[49m\n\u001b[1;32m      5\u001b[0m \u001b[38;5;28;01mfinally\u001b[39;00m :\n\u001b[1;32m      6\u001b[0m     \u001b[38;5;28mprint\u001b[39m(\u001b[38;5;124m'\u001b[39m\u001b[38;5;124mthis will always execute\u001b[39m\u001b[38;5;124m'\u001b[39m)\n",
      "\u001b[0;31mUnsupportedOperation\u001b[0m: not writable"
     ]
    }
   ],
   "source": [
    "## Ans 4. Finally \n",
    "try:\n",
    "    f=open('test1.txt','r')\n",
    "    f.write('this is my msg')\n",
    "    \n",
    "finally :\n",
    "    print('this will always execute')\n",
    "    "
   ]
  },
  {
   "cell_type": "code",
   "execution_count": 19,
   "id": "1745d3ff-5404-4ebc-a3fa-5f42d42ed48c",
   "metadata": {},
   "outputs": [
    {
     "name": "stdin",
     "output_type": "stream",
     "text": [
      "Enter the budget 78\n"
     ]
    }
   ],
   "source": [
    "## Ans 4 raise and custom exceptions Ans 5.\n",
    "price =int(input('Enter the budget'))\n",
    "class shopping(Exception):\n",
    "    def __init__(self,platform):\n",
    "        self.platform=platform\n"
   ]
  },
  {
   "cell_type": "code",
   "execution_count": 21,
   "id": "084ddb7e-8dea-422a-bf1d-fccfa9f8ffb7",
   "metadata": {},
   "outputs": [],
   "source": [
    "def flipkart(price):\n",
    "    if price < 1000 :\n",
    "        raise flipkart('20 per off on item ')\n",
    "    elif price == 1000:\n",
    "        raise flipkart('25 per off on item')\n",
    "    else :\n",
    "        print('no off on items above 1000')"
   ]
  },
  {
   "cell_type": "code",
   "execution_count": 22,
   "id": "bac7d31e-59aa-4d80-b8af-aac353740b80",
   "metadata": {},
   "outputs": [
    {
     "name": "stdin",
     "output_type": "stream",
     "text": [
      "enter the price 10000\n"
     ]
    },
    {
     "name": "stdout",
     "output_type": "stream",
     "text": [
      "no off on items above 1000\n"
     ]
    }
   ],
   "source": [
    "try:\n",
    "    price=int(input('enter the price'))\n",
    "    flipkart(price)\n",
    "except flipkart as e:\n",
    "    print(e)"
   ]
  },
  {
   "cell_type": "code",
   "execution_count": null,
   "id": "66ba9167-c880-43c7-90df-1d0c84395703",
   "metadata": {},
   "outputs": [],
   "source": [
    "## Ans 5 . custom exceptions are created for programs and class function to work simultaneously and will throw an error if the said code does not gets executed \n",
    "## When we are developing a large Python program, it is a good practice to place all the user-defined exceptions that our program raises in a separate file\n"
   ]
  },
  {
   "cell_type": "code",
   "execution_count": 24,
   "id": "b21f41f6-c1a2-4637-b3b8-cfbbd6934d4e",
   "metadata": {},
   "outputs": [
    {
     "ename": "SyntaxError",
     "evalue": "expected ':' (3345976945.py, line 4)",
     "output_type": "error",
     "traceback": [
      "\u001b[0;36m  Cell \u001b[0;32mIn[24], line 4\u001b[0;36m\u001b[0m\n\u001b[0;31m    for i in range(1,100)\u001b[0m\n\u001b[0m                         ^\u001b[0m\n\u001b[0;31mSyntaxError\u001b[0m\u001b[0;31m:\u001b[0m expected ':'\n"
     ]
    }
   ],
   "source": [
    "\n",
    "\n"
   ]
  },
  {
   "cell_type": "code",
   "execution_count": null,
   "id": "fcde0092-3040-4e20-8646-ea9a392255eb",
   "metadata": {},
   "outputs": [],
   "source": []
  },
  {
   "cell_type": "code",
   "execution_count": null,
   "id": "ff16d122-e339-4a61-bda7-450c666caa9e",
   "metadata": {},
   "outputs": [],
   "source": []
  },
  {
   "cell_type": "code",
   "execution_count": null,
   "id": "95d94d92-d91d-4304-9668-9875acdb28fd",
   "metadata": {},
   "outputs": [],
   "source": []
  },
  {
   "cell_type": "code",
   "execution_count": null,
   "id": "6e81e25b-1cae-4b5f-8798-5007d415f2d6",
   "metadata": {},
   "outputs": [],
   "source": []
  }
 ],
 "metadata": {
  "kernelspec": {
   "display_name": "Python 3 (ipykernel)",
   "language": "python",
   "name": "python3"
  },
  "language_info": {
   "codemirror_mode": {
    "name": "ipython",
    "version": 3
   },
   "file_extension": ".py",
   "mimetype": "text/x-python",
   "name": "python",
   "nbconvert_exporter": "python",
   "pygments_lexer": "ipython3",
   "version": "3.10.8"
  }
 },
 "nbformat": 4,
 "nbformat_minor": 5
}
