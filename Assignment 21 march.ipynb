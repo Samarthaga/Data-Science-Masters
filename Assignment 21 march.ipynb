{
 "cells": [
  {
   "cell_type": "code",
   "execution_count": null,
   "id": "ba87c414-db58-4b4c-b9b5-ac4b71765a77",
   "metadata": {},
   "outputs": [],
   "source": [
    "## Ans 1: Label encoding involves assigning a unique numerical label to each category in the variable. The labels are usually assigned in alphabetical order or based on the frequency of the categories. .\n",
    "## It is used to encode categorical data that have an intrinsic order or ranking. In this technique, each category is assigned a numerical value based on its position in the order.\n",
    "## in case of dog,cat,fish data of animals i will use label encoding and in case of risk data high , medium and low i will use ordinal encoding "
   ]
  },
  {
   "cell_type": "code",
   "execution_count": null,
   "id": "d0ef4f95-d2d9-477b-ad42-614ef674df38",
   "metadata": {},
   "outputs": [],
   "source": [
    "## Ans 2: It is a technique used to encode categorical variables based on their relationship with the target variable.\n",
    "## i will prefer this technoque where data related to result have 5 or less category size and results are required in numerical values \n",
    "## like avg price of hotels dinner for single dinner where hotels are category and result req is the bill price to be the outcome '"
   ]
  },
  {
   "cell_type": "code",
   "execution_count": null,
   "id": "b0277c65-4f37-41e3-b4af-3d67b339f985",
   "metadata": {},
   "outputs": [],
   "source": [
    "## Ans 3:  a statistical tool used to determine the relationship between the movements of two random variables. When two stocks tend to move together, they are seen as having a positive covariance; when they move inversely, the covariance is negative.\n",
    "## Covariance b/w 2 outcomes are calculated either adding the test results if moved in +ve direction and is subtraced if move in opp. direction."
   ]
  },
  {
   "cell_type": "code",
   "execution_count": 1,
   "id": "956e15ce-acdb-48e2-aebd-6e1c0866c3c7",
   "metadata": {},
   "outputs": [],
   "source": [
    "import pandas as pd \n",
    "import numpy as np"
   ]
  },
  {
   "cell_type": "code",
   "execution_count": 2,
   "id": "78da741d-9212-42e6-9bf4-060afd9c7bbe",
   "metadata": {},
   "outputs": [],
   "source": [
    "df=pd.DataFrame({'color':['red', 'green', 'blue'],'Size': ['small', 'medium',\n",
    "'large'],'Material':['wood','metal','plastic']})"
   ]
  },
  {
   "cell_type": "code",
   "execution_count": 3,
   "id": "43b38685-2223-469e-8d97-c26abfb13012",
   "metadata": {},
   "outputs": [
    {
     "data": {
      "text/html": [
       "<div>\n",
       "<style scoped>\n",
       "    .dataframe tbody tr th:only-of-type {\n",
       "        vertical-align: middle;\n",
       "    }\n",
       "\n",
       "    .dataframe tbody tr th {\n",
       "        vertical-align: top;\n",
       "    }\n",
       "\n",
       "    .dataframe thead th {\n",
       "        text-align: right;\n",
       "    }\n",
       "</style>\n",
       "<table border=\"1\" class=\"dataframe\">\n",
       "  <thead>\n",
       "    <tr style=\"text-align: right;\">\n",
       "      <th></th>\n",
       "      <th>color</th>\n",
       "      <th>Size</th>\n",
       "      <th>Material</th>\n",
       "    </tr>\n",
       "  </thead>\n",
       "  <tbody>\n",
       "    <tr>\n",
       "      <th>0</th>\n",
       "      <td>red</td>\n",
       "      <td>small</td>\n",
       "      <td>wood</td>\n",
       "    </tr>\n",
       "    <tr>\n",
       "      <th>1</th>\n",
       "      <td>green</td>\n",
       "      <td>medium</td>\n",
       "      <td>metal</td>\n",
       "    </tr>\n",
       "    <tr>\n",
       "      <th>2</th>\n",
       "      <td>blue</td>\n",
       "      <td>large</td>\n",
       "      <td>plastic</td>\n",
       "    </tr>\n",
       "  </tbody>\n",
       "</table>\n",
       "</div>"
      ],
      "text/plain": [
       "   color    Size Material\n",
       "0    red   small     wood\n",
       "1  green  medium    metal\n",
       "2   blue   large  plastic"
      ]
     },
     "execution_count": 3,
     "metadata": {},
     "output_type": "execute_result"
    }
   ],
   "source": [
    "df"
   ]
  },
  {
   "cell_type": "code",
   "execution_count": 5,
   "id": "bf018025-f291-4e9e-8fb2-86e9190e4408",
   "metadata": {},
   "outputs": [],
   "source": [
    "from sklearn.preprocessing import LabelEncoder"
   ]
  },
  {
   "cell_type": "code",
   "execution_count": 11,
   "id": "9085e6fb-9b54-4186-a5a5-88665184b654",
   "metadata": {},
   "outputs": [],
   "source": [
    "encoder=LabelEncoder()"
   ]
  },
  {
   "cell_type": "code",
   "execution_count": 22,
   "id": "92407d6a-d18f-4d4f-a333-9c9e878098bc",
   "metadata": {},
   "outputs": [
    {
     "name": "stderr",
     "output_type": "stream",
     "text": [
      "/opt/conda/lib/python3.10/site-packages/sklearn/preprocessing/_label.py:116: DataConversionWarning: A column-vector y was passed when a 1d array was expected. Please change the shape of y to (n_samples, ), for example using ravel().\n",
      "  y = column_or_1d(y, warn=True)\n"
     ]
    }
   ],
   "source": [
    "lbl_encoder=encoder.fit_transform(df[['color']])"
   ]
  },
  {
   "cell_type": "code",
   "execution_count": 23,
   "id": "61747f4e-7c87-4c99-abf1-c361058a23f9",
   "metadata": {},
   "outputs": [
    {
     "data": {
      "text/plain": [
       "array([2, 1, 0])"
      ]
     },
     "execution_count": 23,
     "metadata": {},
     "output_type": "execute_result"
    }
   ],
   "source": [
    "lbl_encoder"
   ]
  },
  {
   "cell_type": "code",
   "execution_count": null,
   "id": "eaa40c8f-08e2-48df-aa83-9e6722ee5df7",
   "metadata": {},
   "outputs": [],
   "source": [
    "## Ans 4 : for label encoding the data is encoded basis of color sorted on its order ."
   ]
  },
  {
   "cell_type": "code",
   "execution_count": null,
   "id": "09edde5d-f01b-49d7-900c-b3533dd2d2c6",
   "metadata": {},
   "outputs": [],
   "source": [
    "## Ans 6: As my data have rank involved in it i will use ordinal labeling where sklearn Ordinalencoder will be used for ranking of the degree  "
   ]
  },
  {
   "cell_type": "code",
   "execution_count": null,
   "id": "50ffd221-868e-4017-8f14-8adffd2ddb95",
   "metadata": {},
   "outputs": [],
   "source": [
    "## Ans 7 : target based method will be used where target data will be interpretted basis test results of temp/."
   ]
  },
  {
   "cell_type": "code",
   "execution_count": null,
   "id": "503c2c3b-ed1c-4d62-86b4-2d0d9b6fae8a",
   "metadata": {},
   "outputs": [],
   "source": []
  },
  {
   "cell_type": "code",
   "execution_count": null,
   "id": "f1b020db-09a1-4257-acea-ac58c3cdea03",
   "metadata": {},
   "outputs": [],
   "source": []
  },
  {
   "cell_type": "code",
   "execution_count": null,
   "id": "d5a7f5e0-a436-4741-9137-20779bdc088c",
   "metadata": {},
   "outputs": [],
   "source": []
  },
  {
   "cell_type": "code",
   "execution_count": null,
   "id": "66299cf8-1664-4a77-9047-e23ada9db25c",
   "metadata": {},
   "outputs": [],
   "source": []
  },
  {
   "cell_type": "code",
   "execution_count": null,
   "id": "5dc8e5d2-13aa-4913-9bfc-0b25e2fed2ad",
   "metadata": {},
   "outputs": [],
   "source": []
  },
  {
   "cell_type": "code",
   "execution_count": null,
   "id": "c0369cde-9ea1-458d-9783-16ea5f38b42c",
   "metadata": {},
   "outputs": [],
   "source": []
  }
 ],
 "metadata": {
  "kernelspec": {
   "display_name": "Python 3 (ipykernel)",
   "language": "python",
   "name": "python3"
  },
  "language_info": {
   "codemirror_mode": {
    "name": "ipython",
    "version": 3
   },
   "file_extension": ".py",
   "mimetype": "text/x-python",
   "name": "python",
   "nbconvert_exporter": "python",
   "pygments_lexer": "ipython3",
   "version": "3.10.8"
  }
 },
 "nbformat": 4,
 "nbformat_minor": 5
}
