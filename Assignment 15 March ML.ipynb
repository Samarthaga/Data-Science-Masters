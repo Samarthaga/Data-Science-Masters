{
 "cells": [
  {
   "cell_type": "code",
   "execution_count": null,
   "id": "f76ce211-4060-4f78-b367-f246d4ef489e",
   "metadata": {},
   "outputs": [],
   "source": [
    "## Ans 1 : Artificial engineering : smart application that can perform task without any human intervention .ex autopilot in aeroplanes\n",
    "## ML: it prvides stat tools to learn analysis , visualise and develop, predict model form the data : eg flipkart, youtube\n",
    "## DL : main aim is to mimic human thinking eg. chatbotsa"
   ]
  },
  {
   "cell_type": "code",
   "execution_count": null,
   "id": "3404eca0-e236-43fe-b2f2-10b306c8c984",
   "metadata": {},
   "outputs": [],
   "source": [
    "## Ans 2: supervised learning : is the task with which the output is predicted with the help of input eg no of apples and bananas in a basket on the table "
   ]
  },
  {
   "cell_type": "code",
   "execution_count": null,
   "id": "b8b01976-8724-41b3-b992-7fd13a5ca9b5",
   "metadata": {},
   "outputs": [],
   "source": [
    "## Ans 3: Unsupervised learning is a type of algorithm that learns patterns from untagged data.where clusters orsimilar groups are formed to group and predict the outcome \n",
    "## eg : sales of the certain location where classification or grouping is done basis economy of living in that area and their expenditure "
   ]
  },
  {
   "cell_type": "code",
   "execution_count": null,
   "id": "bb7ee5a8-84f8-42da-9818-71eb053f0ee6",
   "metadata": {},
   "outputs": [],
   "source": [
    "## Ans 4 : the diff. in AI the application based model is prepared which is self sufficient to provide the results \n",
    "## in ML the data is sent to analyse and predict the outcome of the data with some similarities in them\n",
    "## DL is used to make chatbot where the most frequently asked questions and its ansewers in steps are provided for its solution \n",
    "## DS is the combination of all however it is diff. from all three as it involves the most parts of maths , and calculus "
   ]
  },
  {
   "cell_type": "code",
   "execution_count": null,
   "id": "da84a2b5-dee4-44a9-9c49-70662305bad9",
   "metadata": {},
   "outputs": [],
   "source": [
    "## Ans 5 : Supervised learning algorithms are trained using labeled data. Unsupervised learning algorithms are trained using unlabeled data\n",
    "## and the problem which sits in b/w supervised and unsupervised learning is semi supervised learning where both of them are used however main diff is the level of availability of ground truth data, which is prior knowledge of what the output of the model should be for a given input"
   ]
  },
  {
   "cell_type": "code",
   "execution_count": null,
   "id": "2f6b56d3-0b1e-4c4e-8e7c-3a66ebb833cd",
   "metadata": {},
   "outputs": [],
   "source": [
    "## Ans 6 : Training data is the set of the data on which the actual training takes place. Validation split helps to improve the model performance by fine-tuning the model after each epoch. The test set informs us about the final accuracy of the model after completing the training phase\n",
    "## Importance : training is imp as where the model is set tpo learn and perform where in validation tuning is done for better results and outcome and if both states true and have sufficient data to support the result then the machine predicts the outcome basis of the learn and validated data "
   ]
  },
  {
   "cell_type": "code",
   "execution_count": null,
   "id": "1435f665-fb0b-4d97-9c9b-fe1b08acbc64",
   "metadata": {},
   "outputs": [],
   "source": [
    "## Ans 7 : The most commonly used Supervised Learning algorithms are decision tree, logistic regression, linear regression, support vector machine. The most commonly used Unsupervised Learning algorithms are k-means clustering, hierarchical clustering, and apriori algorithm"
   ]
  },
  {
   "cell_type": "code",
   "execution_count": null,
   "id": "b8917f61-e985-4572-9c06-b35ef20c39d6",
   "metadata": {},
   "outputs": [],
   "source": []
  },
  {
   "cell_type": "code",
   "execution_count": null,
   "id": "71013571-7758-44a8-a1d5-9ffcd56041eb",
   "metadata": {},
   "outputs": [],
   "source": []
  },
  {
   "cell_type": "code",
   "execution_count": null,
   "id": "92d1bf60-793d-4265-a8e9-ae1aa269d3b7",
   "metadata": {},
   "outputs": [],
   "source": []
  },
  {
   "cell_type": "code",
   "execution_count": null,
   "id": "36fba5ef-f333-4d18-add2-b6c617af6958",
   "metadata": {},
   "outputs": [],
   "source": []
  },
  {
   "cell_type": "code",
   "execution_count": null,
   "id": "d7ae63cc-3276-468b-9e25-5f30ed1aad91",
   "metadata": {},
   "outputs": [],
   "source": []
  },
  {
   "cell_type": "code",
   "execution_count": null,
   "id": "62d3e061-bf68-42a1-9e42-c0396f5b0d97",
   "metadata": {},
   "outputs": [],
   "source": []
  }
 ],
 "metadata": {
  "kernelspec": {
   "display_name": "Python 3 (ipykernel)",
   "language": "python",
   "name": "python3"
  },
  "language_info": {
   "codemirror_mode": {
    "name": "ipython",
    "version": 3
   },
   "file_extension": ".py",
   "mimetype": "text/x-python",
   "name": "python",
   "nbconvert_exporter": "python",
   "pygments_lexer": "ipython3",
   "version": "3.10.8"
  }
 },
 "nbformat": 4,
 "nbformat_minor": 5
}
