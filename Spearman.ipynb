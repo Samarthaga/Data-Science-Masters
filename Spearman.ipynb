{
 "cells": [
  {
   "cell_type": "code",
   "execution_count": 10,
   "id": "6dc0605d-ad70-44af-b003-13232e167a3c",
   "metadata": {},
   "outputs": [],
   "source": [
    "import numpy as np\n",
    "import pandas as pd\n",
    "import matplotlib.pyplot as plt\n",
    "import seaborn as sns \n",
    "from scipy import stats\n",
    "import scipy.stats as stats\n",
    "import statsmodels as st\n",
    "from sklearn import preprocessing"
   ]
  },
  {
   "cell_type": "code",
   "execution_count": 4,
   "id": "f913b4ab-1e1a-432b-9d2a-36ab7e17af37",
   "metadata": {},
   "outputs": [],
   "source": [
    "X=[20,22,25,22,26,25,30,29,32,35,33,37,39]\n",
    "Y=[1,2,3,5,6,2,4,8,9,11,15,14,19]"
   ]
  },
  {
   "cell_type": "code",
   "execution_count": 7,
   "id": "d0ebe966-bc4f-4dea-9c0c-304c524e0757",
   "metadata": {},
   "outputs": [],
   "source": [
    "x=np.array(X)\n",
    "y=np.array(Y)"
   ]
  },
  {
   "cell_type": "code",
   "execution_count": 9,
   "id": "6473d686-6ec0-4fd1-9767-9cb3db1105f7",
   "metadata": {},
   "outputs": [
    {
     "name": "stdout",
     "output_type": "stream",
     "text": [
      "[[1.         0.90828376]\n",
      " [0.90828376 1.        ]]\n"
     ]
    }
   ],
   "source": [
    "print(np.corrcoef(x,y))"
   ]
  },
  {
   "cell_type": "code",
   "execution_count": 12,
   "id": "4259375a-15f9-431e-8c45-d17af43f816b",
   "metadata": {},
   "outputs": [
    {
     "name": "stdout",
     "output_type": "stream",
     "text": [
      "PearsonRResult(statistic=0.9082837625625952, pvalue=1.7510472173070618e-05)\n"
     ]
    }
   ],
   "source": [
    "print(stats.pearsonr(x,y))"
   ]
  },
  {
   "cell_type": "code",
   "execution_count": 13,
   "id": "7f4e2e85-44ed-4e8a-8728-c2048cfcd1b1",
   "metadata": {},
   "outputs": [
    {
     "data": {
      "text/plain": [
       "SpearmanrResult(correlation=0.9075870702378139, pvalue=1.8229570175103235e-05)"
      ]
     },
     "execution_count": 13,
     "metadata": {},
     "output_type": "execute_result"
    }
   ],
   "source": [
    "stats.spearmanr(x,y)"
   ]
  },
  {
   "cell_type": "code",
   "execution_count": null,
   "id": "2f136b0b-4582-4941-bc1c-80cd63fc3ad0",
   "metadata": {},
   "outputs": [],
   "source": []
  },
  {
   "cell_type": "code",
   "execution_count": null,
   "id": "35095caa-16d9-486c-ac82-855c2cbda123",
   "metadata": {},
   "outputs": [],
   "source": []
  },
  {
   "cell_type": "code",
   "execution_count": null,
   "id": "b3bf09fd-0b1e-4ece-b35a-139722c8c43e",
   "metadata": {},
   "outputs": [],
   "source": []
  },
  {
   "cell_type": "code",
   "execution_count": null,
   "id": "6d7585f5-1c16-466d-aea0-d87e7399853d",
   "metadata": {},
   "outputs": [],
   "source": []
  },
  {
   "cell_type": "code",
   "execution_count": null,
   "id": "5df073c2-8e31-41a2-a963-d13cd14f5725",
   "metadata": {},
   "outputs": [],
   "source": []
  },
  {
   "cell_type": "code",
   "execution_count": null,
   "id": "b48962b2-10bc-48c2-b6d4-de6011675a24",
   "metadata": {},
   "outputs": [],
   "source": []
  },
  {
   "cell_type": "code",
   "execution_count": null,
   "id": "2432f0e8-92ad-4aa3-92e0-270af2004d0b",
   "metadata": {},
   "outputs": [],
   "source": []
  },
  {
   "cell_type": "code",
   "execution_count": null,
   "id": "ae8bc46b-9bd8-4f19-953b-1c74964b8f4a",
   "metadata": {},
   "outputs": [],
   "source": []
  },
  {
   "cell_type": "code",
   "execution_count": null,
   "id": "affa203b-604f-4f15-82a2-0077fc24a5d0",
   "metadata": {},
   "outputs": [],
   "source": []
  },
  {
   "cell_type": "code",
   "execution_count": null,
   "id": "a8872faf-228f-4d25-bf51-509168fd5499",
   "metadata": {
    "tags": []
   },
   "outputs": [],
   "source": []
  }
 ],
 "metadata": {
  "kernelspec": {
   "display_name": "Python 3 (ipykernel)",
   "language": "python",
   "name": "python3"
  },
  "language_info": {
   "codemirror_mode": {
    "name": "ipython",
    "version": 3
   },
   "file_extension": ".py",
   "mimetype": "text/x-python",
   "name": "python",
   "nbconvert_exporter": "python",
   "pygments_lexer": "ipython3",
   "version": "3.10.8"
  }
 },
 "nbformat": 4,
 "nbformat_minor": 5
}
