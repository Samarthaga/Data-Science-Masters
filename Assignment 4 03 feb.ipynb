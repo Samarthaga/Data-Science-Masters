{
 "cells": [
  {
   "cell_type": "code",
   "execution_count": 15,
   "id": "c3de672f-fde3-4b88-a4f6-94cc8071970b",
   "metadata": {},
   "outputs": [],
   "source": [
    "## Ans 1.keyword used is ##def\n",
    "\n",
    "def odd_num1(a):\n",
    "    for i in range(0,a+1):\n",
    "        if i%3!=0:\n",
    "            return (a)\n",
    "        "
   ]
  },
  {
   "cell_type": "code",
   "execution_count": 18,
   "id": "63144c5b-25ed-4191-ae8c-b0e40d563004",
   "metadata": {},
   "outputs": [
    {
     "ename": "TypeError",
     "evalue": "'int' object is not iterable",
     "output_type": "error",
     "traceback": [
      "\u001b[0;31m---------------------------------------------------------------------------\u001b[0m",
      "\u001b[0;31mTypeError\u001b[0m                                 Traceback (most recent call last)",
      "Cell \u001b[0;32mIn[18], line 1\u001b[0m\n\u001b[0;32m----> 1\u001b[0m \u001b[38;5;28;01mfor\u001b[39;00m i \u001b[38;5;129;01min\u001b[39;00m odd_num1(\u001b[38;5;241m1\u001b[39m):\n\u001b[1;32m      2\u001b[0m     \u001b[38;5;28mprint\u001b[39m(i)\n",
      "\u001b[0;31mTypeError\u001b[0m: 'int' object is not iterable"
     ]
    }
   ],
   "source": [
    "for i in odd_num1(1):\n",
    "    print(i)"
   ]
  },
  {
   "cell_type": "code",
   "execution_count": 7,
   "id": "610d5eb0-fcce-4c85-8a10-275eaef7bde3",
   "metadata": {},
   "outputs": [
    {
     "data": {
      "text/plain": [
       "10"
      ]
     },
     "execution_count": 7,
     "metadata": {},
     "output_type": "execute_result"
    }
   ],
   "source": [
    "odd_num(10)"
   ]
  },
  {
   "cell_type": "code",
   "execution_count": 20,
   "id": "ccd74939-5f67-4399-8da7-4ebf78fbdab6",
   "metadata": {},
   "outputs": [
    {
     "data": {
      "text/plain": [
       "('samarth', 'agarwal', 1, 1, 2, 3, 4, 5)"
      ]
     },
     "execution_count": 20,
     "metadata": {},
     "output_type": "execute_result"
    }
   ],
   "source": [
    "## Ans 2. args and kwargs are used where many arguments are to be entered in the function without defining the value in function.\n",
    "##Example of args\n",
    "\n",
    "def exp1(*args):\n",
    "    return args\n",
    "\n",
    "exp1('samarth','agarwal',1,1,2,3,4,5)"
   ]
  },
  {
   "cell_type": "code",
   "execution_count": 25,
   "id": "0e3c42cb-0da4-493b-bd5c-e8c106e233b7",
   "metadata": {},
   "outputs": [
    {
     "data": {
      "text/plain": [
       "{'a': [1, 2, 3, 4],\n",
       " 'b': ['samarth', 'agarwal'],\n",
       " 'c': ['machine learning', 1, 2]}"
      ]
     },
     "execution_count": 25,
     "metadata": {},
     "output_type": "execute_result"
    }
   ],
   "source": [
    "## Ans 2 Example 2\n",
    "\n",
    "def exp2(**kwargs):\n",
    "    return kwargs\n",
    "\n",
    "exp2(a=[1,2,3,4],b=['samarth','agarwal'],c=['machine learning',1,2])"
   ]
  },
  {
   "cell_type": "code",
   "execution_count": 39,
   "id": "e4623e4f-0f24-4477-9f42-f2a8cf57d36f",
   "metadata": {},
   "outputs": [],
   "source": [
    "## Ans 3. an iterator an object that contains a countable number of values\n",
    "## __iter__() and __next__() \n",
    "\n",
    "l=[2, 4, 6, 8, 10, 12, 14, 16,18, 20]\n",
    "\n",
    "def exp3(a):\n",
    "    n=[]\n",
    "    for i in a:\n",
    "        if i%2==0:\n",
    "            n.append(a)\n",
    "        return n"
   ]
  },
  {
   "cell_type": "code",
   "execution_count": 40,
   "id": "116b507a-dee8-4065-a39c-083d48711b33",
   "metadata": {},
   "outputs": [
    {
     "data": {
      "text/plain": [
       "[[2, 4, 6, 8, 10, 12, 14, 16, 18, 20]]"
      ]
     },
     "execution_count": 40,
     "metadata": {},
     "output_type": "execute_result"
    }
   ],
   "source": [
    "exp3(l)"
   ]
  },
  {
   "cell_type": "code",
   "execution_count": 41,
   "id": "71f4d177-3315-456d-b5a1-a57e3b90d569",
   "metadata": {},
   "outputs": [],
   "source": [
    "## Ans 4. a generator function in python is used to give the iterable values one by one when asked to the function in a range\n",
    "\n",
    "def exp4(a):\n",
    "    value=0\n",
    "    while value<a:\n",
    "        yield value\n",
    "        value +=1"
   ]
  },
  {
   "cell_type": "code",
   "execution_count": 42,
   "id": "359d6a2f-4de5-47fa-98f2-d5badb52acc3",
   "metadata": {},
   "outputs": [
    {
     "name": "stdout",
     "output_type": "stream",
     "text": [
      "0\n",
      "1\n",
      "2\n",
      "3\n",
      "4\n",
      "5\n",
      "6\n"
     ]
    }
   ],
   "source": [
    "for value in exp4(7):\n",
    "    print(value)"
   ]
  },
  {
   "cell_type": "code",
   "execution_count": null,
   "id": "229ec74a-8375-4997-9d41-6740f740627d",
   "metadata": {},
   "outputs": [],
   "source": [
    "## ans 5. NA "
   ]
  }
 ],
 "metadata": {
  "kernelspec": {
   "display_name": "Python 3 (ipykernel)",
   "language": "python",
   "name": "python3"
  },
  "language_info": {
   "codemirror_mode": {
    "name": "ipython",
    "version": 3
   },
   "file_extension": ".py",
   "mimetype": "text/x-python",
   "name": "python",
   "nbconvert_exporter": "python",
   "pygments_lexer": "ipython3",
   "version": "3.10.8"
  }
 },
 "nbformat": 4,
 "nbformat_minor": 5
}
