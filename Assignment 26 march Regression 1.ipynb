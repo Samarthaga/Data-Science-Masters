{
 "cells": [
  {
   "cell_type": "code",
   "execution_count": null,
   "id": "f80500c7-eebf-41d6-a0f3-f05e798d23a1",
   "metadata": {},
   "outputs": [],
   "source": [
    "## Ans 1: Simple linear regression takes one input and have one output while for multiple regression it takes multiple inputs and gives one output as a result .\n",
    "##  simple linear regression is 2D and multiple regression can be 3D,4D etc .\n",
    "## Example Simple linear regression : relationship b/w age and height in students upto age 18 , as the age grows the heigt gets increased \n",
    "## example multiple regression : price of mobile for independent features like company and type and dependent feature is price"
   ]
  },
  {
   "cell_type": "code",
   "execution_count": null,
   "id": "995d4456-6a85-4bd8-9fff-78c8f8068506",
   "metadata": {},
   "outputs": [],
   "source": [
    "## Ans 2: 1. There exists a linear relationship between the independent variable, x, and the dependent variable, y\n",
    "##        2.The residuals are independent. In particular, there is no correlation between consecutive residuals in time series data\n",
    "##        3.The residuals of the model are normally distributed.\n",
    "## we can check by plotting the scatter plot for x and y , if the relationship is linear then it have a st. line as progression and if not we can reject the hypothesis \n"
   ]
  },
  {
   "cell_type": "code",
   "execution_count": null,
   "id": "e19b7232-42f1-4439-9ec9-9b273de5c0b8",
   "metadata": {},
   "outputs": [],
   "source": [
    "## Ans 3: age of tyres in a car where independent feature is running_km and dependent feature is tyre_life\n",
    "## here as the running_km increases the tyre life decreases \n",
    "## Slope is a st line "
   ]
  },
  {
   "cell_type": "code",
   "execution_count": null,
   "id": "c3411caa-0f63-4fd9-8e68-ef4bc49e98bf",
   "metadata": {},
   "outputs": [],
   "source": [
    "## Ans 4 : Gradient decent is used to train the ML models and form neural networks.\n",
    "## it is used in machine learning to find the best fit line for the data plotted for single, multiple,polynomial regression with global minima to be less while changing, derivation the Q1"
   ]
  },
  {
   "cell_type": "code",
   "execution_count": null,
   "id": "7af06d65-70ab-4910-aec3-4219188e6fe7",
   "metadata": {},
   "outputs": [],
   "source": [
    "## Ans 5: Multiple regression model takes 2 or more independent features as input to predict the output feature creating a 3D parabolic gradient curve where all intercept and slope coefficient steps to global minima \n",
    "## linear regress only has one independent variable impacting the slope of the relationship, multiple regression incorporates multiple independent variables"
   ]
  },
  {
   "cell_type": "code",
   "execution_count": null,
   "id": "a73d80bb-22a1-47df-be16-1cce4d1eb1d5",
   "metadata": {},
   "outputs": [],
   "source": [
    "## Ans 6 : Multicollinearity exists whenever an independent variable is highly correlated with one or more of the other independent variables in a multiple regression equation. Multicollinearity is a problem because it will make the statistical inferences less reliable\n",
    "## by plotting the correlation matrix we can find where the independent features are too correlated to each other."
   ]
  },
  {
   "cell_type": "code",
   "execution_count": null,
   "id": "6b44d9e1-c1c5-421f-be02-80db88f60416",
   "metadata": {},
   "outputs": [],
   "source": [
    "## Ans 7 : A polynomial regression model is a machine learning model that can capture non-linear relationships between variables by fitting a non-linear regression line, which may not be possible with simple linear regression. It is used when linear regression models may not adequately capture the complexity of the relationship"
   ]
  },
  {
   "cell_type": "code",
   "execution_count": null,
   "id": "a9864d1a-c9e2-4f65-9f0e-36b9709aafb3",
   "metadata": {},
   "outputs": [],
   "source": [
    "## ANs 8 :Advantages \" Polynomial provides the best approximation of the relationship between the dependent and independent variable.\n",
    "##A Broad range of function can be fit under it.\n",
    "##Polynomial basically fits a wide range of curvature\"\n",
    "## Disadvantages : \"The presence of one or two outliers in the data can seriously affect the results of the nonlinear analysis.\n",
    "## These are too sensitive to the outliers.\n",
    "## In addition, there are unfortunately fewer model validation tools for the detection of outliers in nonlinear regression than there are for linear regression.\"\""
   ]
  },
  {
   "cell_type": "code",
   "execution_count": null,
   "id": "839f48f8-cf1e-4f83-a968-4b6246d7208e",
   "metadata": {},
   "outputs": [],
   "source": []
  },
  {
   "cell_type": "code",
   "execution_count": null,
   "id": "9804add9-459c-4dc9-8bb7-ad324fe9696e",
   "metadata": {},
   "outputs": [],
   "source": []
  },
  {
   "cell_type": "code",
   "execution_count": null,
   "id": "f7c07ee6-eaa6-4bda-8b2b-6124c67cacb6",
   "metadata": {},
   "outputs": [],
   "source": []
  },
  {
   "cell_type": "code",
   "execution_count": null,
   "id": "c94ab8b4-e754-446c-9ba4-9eed7eeb18a5",
   "metadata": {},
   "outputs": [],
   "source": []
  }
 ],
 "metadata": {
  "kernelspec": {
   "display_name": "Python 3 (ipykernel)",
   "language": "python",
   "name": "python3"
  },
  "language_info": {
   "codemirror_mode": {
    "name": "ipython",
    "version": 3
   },
   "file_extension": ".py",
   "mimetype": "text/x-python",
   "name": "python",
   "nbconvert_exporter": "python",
   "pygments_lexer": "ipython3",
   "version": "3.10.8"
  }
 },
 "nbformat": 4,
 "nbformat_minor": 5
}
