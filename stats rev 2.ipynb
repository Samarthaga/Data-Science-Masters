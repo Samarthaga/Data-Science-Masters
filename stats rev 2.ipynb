{
 "cells": [
  {
   "cell_type": "code",
   "execution_count": 1,
   "id": "98233a3c-5a0a-404d-bcdc-886dc680ed14",
   "metadata": {},
   "outputs": [],
   "source": [
    "import pandas as pd\n",
    "import numpy as np\n",
    "import seaborn as sns \n",
    "import matplotlib.pyplot as plt\n",
    "%matplotlib inline \n",
    "import statsmodels.api as sm\n",
    "from scipy import stats "
   ]
  },
  {
   "cell_type": "code",
   "execution_count": 8,
   "id": "95cb4dd7-958e-43fa-b291-a065e7b29477",
   "metadata": {},
   "outputs": [
    {
     "ename": "NameError",
     "evalue": "name 'Z_SCORE' is not defined",
     "output_type": "error",
     "traceback": [
      "\u001b[0;31m---------------------------------------------------------------------------\u001b[0m",
      "\u001b[0;31mNameError\u001b[0m                                 Traceback (most recent call last)",
      "Cell \u001b[0;32mIn[8], line 17\u001b[0m\n\u001b[1;32m     14\u001b[0m     \u001b[38;5;28;01mreturn\u001b[39;00m outliers\n\u001b[1;32m     16\u001b[0m dataset\u001b[38;5;241m=\u001b[39m[\u001b[38;5;241m1\u001b[39m,\u001b[38;5;241m2\u001b[39m,\u001b[38;5;241m2\u001b[39m,\u001b[38;5;241m2\u001b[39m,\u001b[38;5;241m3\u001b[39m,\u001b[38;5;241m1\u001b[39m,\u001b[38;5;241m1\u001b[39m,\u001b[38;5;241m15\u001b[39m,\u001b[38;5;241m2\u001b[39m,\u001b[38;5;241m2\u001b[39m,\u001b[38;5;241m2\u001b[39m,\u001b[38;5;241m3\u001b[39m,\u001b[38;5;241m1\u001b[39m,\u001b[38;5;241m1\u001b[39m,\u001b[38;5;241m2\u001b[39m]\n\u001b[0;32m---> 17\u001b[0m outliers\u001b[38;5;241m=\u001b[39m\u001b[43mdetect_outliers\u001b[49m\u001b[43m(\u001b[49m\u001b[43mdataset\u001b[49m\u001b[43m)\u001b[49m\n\u001b[1;32m     18\u001b[0m \u001b[38;5;28mprint\u001b[39m(outliers)\n\u001b[1;32m     19\u001b[0m \u001b[38;5;28mprint\u001b[39m(Z_score)\n",
      "Cell \u001b[0;32mIn[8], line 11\u001b[0m, in \u001b[0;36mdetect_outliers\u001b[0;34m(data)\u001b[0m\n\u001b[1;32m      9\u001b[0m \u001b[38;5;28;01mfor\u001b[39;00m i \u001b[38;5;129;01min\u001b[39;00m data:\n\u001b[1;32m     10\u001b[0m     z_score \u001b[38;5;241m=\u001b[39m (i\u001b[38;5;241m-\u001b[39mmean)\u001b[38;5;241m/\u001b[39mstd\n\u001b[0;32m---> 11\u001b[0m     \u001b[38;5;28mprint\u001b[39m(\u001b[43mZ_SCORE\u001b[49m)\n\u001b[1;32m     12\u001b[0m     \u001b[38;5;28;01mif\u001b[39;00m np\u001b[38;5;241m.\u001b[39mabs(z_score)\u001b[38;5;241m>\u001b[39mthresold:\n\u001b[1;32m     13\u001b[0m         outliers\u001b[38;5;241m.\u001b[39mappend(i)\n",
      "\u001b[0;31mNameError\u001b[0m: name 'Z_SCORE' is not defined"
     ]
    }
   ],
   "source": [
    "# How to fimd outliers using z score\n",
    "def detect_outliers (data):\n",
    "    mean=np.mean(data)\n",
    "    std=np.std(data)\n",
    "    outliers=[]\n",
    "    thresold=3\n",
    "    Z_score=[]\n",
    "\n",
    "    for i in data:\n",
    "        z_score = (i-mean)/std\n",
    "        print(Z_SCORE)\n",
    "        if np.abs(z_score)>thresold:\n",
    "            outliers.append(i)\n",
    "    return outliers\n",
    "        \n",
    "dataset=[1,2,2,2,3,1,1,15,2,2,2,3,1,1,2]\n",
    "outliers=detect_outliers(dataset)\n",
    "print(outliers)\n",
    "print(Z_score)\n"
   ]
  },
  {
   "cell_type": "code",
   "execution_count": 7,
   "id": "f3f3b015-a860-4634-b2ba-3b24a057ae37",
   "metadata": {},
   "outputs": [
    {
     "name": "stdout",
     "output_type": "stream",
     "text": [
      "[-0.49604737 -0.19841895 -0.19841895 -0.19841895  0.09920947 -0.49604737\n",
      " -0.49604737  3.67075053 -0.19841895 -0.19841895 -0.19841895  0.09920947\n",
      " -0.49604737 -0.49604737 -0.19841895]\n"
     ]
    }
   ],
   "source": [
    "from scipy.stats import zscore \n",
    "zscores=zscore(dataset)\n",
    "print(zscores)"
   ]
  },
  {
   "cell_type": "code",
   "execution_count": 19,
   "id": "356f0f7d-8427-4610-8855-50523f212ec5",
   "metadata": {},
   "outputs": [
    {
     "data": {
      "text/plain": [
       "(array([12.,  2.,  0.,  0.,  0.,  0.,  0.,  0.,  0.,  1.]),\n",
       " array([ 1. ,  2.4,  3.8,  5.2,  6.6,  8. ,  9.4, 10.8, 12.2, 13.6, 15. ]),\n",
       " <BarContainer object of 10 artists>)"
      ]
     },
     "execution_count": 19,
     "metadata": {},
     "output_type": "execute_result"
    },
    {
     "data": {
      "image/png": "[encoded data removed]",
      "text/plain": [
       "<Figure size 640x480 with 1 Axes>"
      ]
     },
     "metadata": {},
     "output_type": "display_data"
    }
   ],
   "source": [
    "plt.scatter(x=dataset,y=zscores,color='yellow')\n",
    "plt.hist(x=dataset)"
   ]
  },
  {
   "cell_type": "code",
   "execution_count": null,
   "id": "fc717d62-9ee8-4f7d-854a-a0b18c25197c",
   "metadata": {},
   "outputs": [],
   "source": []
  },
  {
   "cell_type": "code",
   "execution_count": null,
   "id": "7e98bddf-d03a-4332-901b-c48946bbff6a",
   "metadata": {
    "tags": []
   },
   "outputs": [],
   "source": []
  },
  {
   "cell_type": "code",
   "execution_count": null,
   "id": "3f3d7cdc-1482-4ece-b83a-459ac6942ccb",
   "metadata": {},
   "outputs": [],
   "source": []
  },
  {
   "cell_type": "code",
   "execution_count": null,
   "id": "1ac0aff6-ae22-483b-a390-8ec06e47829c",
   "metadata": {},
   "outputs": [],
   "source": []
  },
  {
   "cell_type": "code",
   "execution_count": null,
   "id": "9a4c8b17-113e-4f65-9c67-d0cc64a4d4e7",
   "metadata": {},
   "outputs": [],
   "source": []
  },
  {
   "cell_type": "code",
   "execution_count": null,
   "id": "448a7a22-7aab-43fc-9cd2-1616b80d8648",
   "metadata": {
    "tags": []
   },
   "outputs": [],
   "source": []
  },
  {
   "cell_type": "code",
   "execution_count": null,
   "id": "647405e6-65b1-44e3-8325-282874cf4321",
   "metadata": {},
   "outputs": [],
   "source": []
  },
  {
   "cell_type": "code",
   "execution_count": null,
   "id": "78fe1cd7-4ead-452d-be05-4fc6f51f580a",
   "metadata": {
    "tags": []
   },
   "outputs": [],
   "source": []
  }
 ],
 "metadata": {
  "kernelspec": {
   "display_name": "Python 3 (ipykernel)",
   "language": "python",
   "name": "python3"
  },
  "language_info": {
   "codemirror_mode": {
    "name": "ipython",
    "version": 3
   },
   "file_extension": ".py",
   "mimetype": "text/x-python",
   "name": "python",
   "nbconvert_exporter": "python",
   "pygments_lexer": "ipython3",
   "version": "3.10.8"
  }
 },
 "nbformat": 4,
 "nbformat_minor": 5
}
