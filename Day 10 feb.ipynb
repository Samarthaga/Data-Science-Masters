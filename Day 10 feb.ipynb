{
 "cells": [
  {
   "cell_type": "code",
   "execution_count": 2,
   "id": "86aed45c-8931-4d8b-8047-3e8598bbc416",
   "metadata": {},
   "outputs": [],
   "source": [
    "def test():\n",
    "    print('this is the start of the funct')\n",
    "    print(4+5)\n",
    "    print('this is the end of the funct')"
   ]
  },
  {
   "cell_type": "code",
   "execution_count": 3,
   "id": "2a374d47-4872-4647-b873-09802c5bbb46",
   "metadata": {},
   "outputs": [
    {
     "name": "stdout",
     "output_type": "stream",
     "text": [
      "this is the start of the funct\n",
      "9\n",
      "this is the end of the funct\n"
     ]
    }
   ],
   "source": [
    "test()"
   ]
  },
  {
   "cell_type": "code",
   "execution_count": 4,
   "id": "0f18fd6a-40b9-4ae4-b6d6-6c65e180daa5",
   "metadata": {},
   "outputs": [],
   "source": [
    "def deco(func):\n",
    "    def inner_deco():\n",
    "        print('this is the start of my fun')\n",
    "        func()\n",
    "        print('this is the end of the funct')\n",
    "    return inner_deco"
   ]
  },
  {
   "cell_type": "code",
   "execution_count": 5,
   "id": "cc48231d-b95f-4426-a2a6-eb13118ca9fe",
   "metadata": {},
   "outputs": [],
   "source": [
    "@deco\n",
    "def test1():\n",
    "    print(4+5)"
   ]
  },
  {
   "cell_type": "code",
   "execution_count": 6,
   "id": "ef9b0530-0c14-4294-8421-c615cc6a5711",
   "metadata": {},
   "outputs": [
    {
     "name": "stdout",
     "output_type": "stream",
     "text": [
      "this is the start of my fun\n",
      "9\n",
      "this is the end of the funct\n"
     ]
    }
   ],
   "source": [
    "test1()"
   ]
  },
  {
   "cell_type": "code",
   "execution_count": 11,
   "id": "a82fb312-ad73-49a3-afb5-d01e313bb3d5",
   "metadata": {},
   "outputs": [],
   "source": [
    "import time\n",
    "\n",
    "def timer_test(func):\n",
    "    def timer_test_inner():\n",
    "        start = time.time()\n",
    "        func()\n",
    "        end=time.time()\n",
    "        print(end-start)\n",
    "    return timer_test_inner"
   ]
  },
  {
   "cell_type": "code",
   "execution_count": 12,
   "id": "1aed09d9-7730-4931-b9ac-3bb4435a8f0b",
   "metadata": {},
   "outputs": [],
   "source": [
    "@timer_test\n",
    "def test2():\n",
    "    print(45+67)"
   ]
  },
  {
   "cell_type": "code",
   "execution_count": 13,
   "id": "1ccba567-d0e9-4277-97fe-6e58cb7d4045",
   "metadata": {},
   "outputs": [
    {
     "name": "stdout",
     "output_type": "stream",
     "text": [
      "112\n",
      "4.315376281738281e-05\n"
     ]
    }
   ],
   "source": [
    "test2()"
   ]
  },
  {
   "cell_type": "code",
   "execution_count": 14,
   "id": "4382fa8b-7851-4f1d-a077-3605e89216f2",
   "metadata": {},
   "outputs": [],
   "source": [
    "def test3():\n",
    "    for i in range(1000000000):\n",
    "        pass"
   ]
  },
  {
   "cell_type": "code",
   "execution_count": 15,
   "id": "387d549c-a462-413b-8b86-341e2c31a7a5",
   "metadata": {},
   "outputs": [],
   "source": [
    "@timer_test\n",
    "def test3():\n",
    "    for i in range(1000000000):\n",
    "        pass"
   ]
  },
  {
   "cell_type": "code",
   "execution_count": 16,
   "id": "65c5083d-b22d-4335-8dbf-5183370a6deb",
   "metadata": {},
   "outputs": [
    {
     "name": "stdout",
     "output_type": "stream",
     "text": [
      "20.18771004676819\n"
     ]
    }
   ],
   "source": [
    "test3()"
   ]
  },
  {
   "cell_type": "code",
   "execution_count": 17,
   "id": "e965f1a7-68c2-4695-80bd-1ef8e8b30df4",
   "metadata": {},
   "outputs": [],
   "source": [
    "@timer_test\n",
    "def test4():\n",
    "    for i in range(1000000):\n",
    "        pass"
   ]
  },
  {
   "cell_type": "code",
   "execution_count": 18,
   "id": "259f6c5b-3d18-4bfc-86a4-e5968f45e295",
   "metadata": {},
   "outputs": [
    {
     "name": "stdout",
     "output_type": "stream",
     "text": [
      "0.021029949188232422\n"
     ]
    }
   ],
   "source": [
    "test4()"
   ]
  },
  {
   "cell_type": "markdown",
   "id": "9c2cfd41-f118-4056-b98a-400991027953",
   "metadata": {},
   "source": [
    "## it is used in Logging model "
   ]
  },
  {
   "cell_type": "markdown",
   "id": "6744cb22-9869-4400-957d-0d308cff37d5",
   "metadata": {},
   "source": [
    "## Class method "
   ]
  },
  {
   "cell_type": "code",
   "execution_count": 21,
   "id": "10ba26f7-4157-4c59-a050-8609e03e6acc",
   "metadata": {},
   "outputs": [],
   "source": [
    "class pwskills :\n",
    "    def __init__(self,name,email):\n",
    "        self.name=name\n",
    "        self.email=email\n",
    "    \n",
    "    def student_details(self):\n",
    "        print(self.name,self.email)\n",
    "    "
   ]
  },
  {
   "cell_type": "code",
   "execution_count": 22,
   "id": "5c62f803-0b8e-4caa-b0f4-a9dd2712855c",
   "metadata": {},
   "outputs": [],
   "source": [
    "pw=pwskills('samarth','sam_aga@outlook.com')"
   ]
  },
  {
   "cell_type": "code",
   "execution_count": 29,
   "id": "2157a5f4-8d59-419d-b01f-ceb6ddf98b7f",
   "metadata": {},
   "outputs": [
    {
     "data": {
      "text/plain": [
       "'samarth'"
      ]
     },
     "execution_count": 29,
     "metadata": {},
     "output_type": "execute_result"
    }
   ],
   "source": [
    "pw.name"
   ]
  },
  {
   "cell_type": "code",
   "execution_count": 31,
   "id": "c8e49d36-ea88-4634-9e6f-dd3243633d41",
   "metadata": {},
   "outputs": [
    {
     "name": "stdout",
     "output_type": "stream",
     "text": [
      "samarth sam_aga@outlook.com\n"
     ]
    }
   ],
   "source": [
    "pw.student_details()"
   ]
  },
  {
   "cell_type": "code",
   "execution_count": 32,
   "id": "44f3ae85-9595-482e-88cf-d73f957741bc",
   "metadata": {},
   "outputs": [],
   "source": [
    "class pwskills1:\n",
    "    def __init__(self,name,email):\n",
    "        self.name=name\n",
    "        self.email=email\n",
    "        \n",
    "    @classmethod\n",
    "    def details(cls,name,email):\n",
    "        return cls(name,email)\n",
    "    \n",
    "    def student_details(self):\n",
    "        print(self.name,self.email)\n",
    "    "
   ]
  },
  {
   "cell_type": "code",
   "execution_count": 34,
   "id": "bc387938-7803-465b-9382-694c6fb260ad",
   "metadata": {},
   "outputs": [],
   "source": [
    "pw1= pwskills1.details('samarth','sama1872')"
   ]
  },
  {
   "cell_type": "code",
   "execution_count": 35,
   "id": "371f95b9-4463-46c1-9b42-69c188db60e4",
   "metadata": {},
   "outputs": [
    {
     "data": {
      "text/plain": [
       "'samarth'"
      ]
     },
     "execution_count": 35,
     "metadata": {},
     "output_type": "execute_result"
    }
   ],
   "source": [
    "pw1.name"
   ]
  },
  {
   "cell_type": "code",
   "execution_count": 36,
   "id": "87e4185a-3ac4-40b3-9d19-45dc96c7b7ed",
   "metadata": {},
   "outputs": [
    {
     "data": {
      "text/plain": [
       "'sama1872'"
      ]
     },
     "execution_count": 36,
     "metadata": {},
     "output_type": "execute_result"
    }
   ],
   "source": [
    "pw1.email"
   ]
  },
  {
   "cell_type": "code",
   "execution_count": 37,
   "id": "ec35b76e-305b-4a76-a7b6-5d0226f65ecb",
   "metadata": {},
   "outputs": [
    {
     "name": "stdout",
     "output_type": "stream",
     "text": [
      "samarth sama1872\n"
     ]
    }
   ],
   "source": [
    "pw1.student_details()"
   ]
  },
  {
   "cell_type": "code",
   "execution_count": 41,
   "id": "b8333b1c-cf0c-49ea-b0fa-2f11cf080d0f",
   "metadata": {},
   "outputs": [],
   "source": [
    "class pwskills2:\n",
    "    \n",
    "    mobile_number=7977129650\n",
    "    \n",
    "    def __init__(self,name,email):\n",
    "        self.name=name\n",
    "        self.email=email\n",
    "        \n",
    "    @classmethod\n",
    "    def details(cls,name,email):\n",
    "        return cls(name,email)\n",
    "    \n",
    "    def student_details(self):\n",
    "        print(self.name,self.email,pwskills2.mobile_number)"
   ]
  },
  {
   "cell_type": "code",
   "execution_count": 40,
   "id": "85a19f48-d49e-4456-80b2-4ac403adab1e",
   "metadata": {},
   "outputs": [
    {
     "data": {
      "text/plain": [
       "7977129650"
      ]
     },
     "execution_count": 40,
     "metadata": {},
     "output_type": "execute_result"
    }
   ],
   "source": [
    "pwskills2.mobile_number"
   ]
  },
  {
   "cell_type": "code",
   "execution_count": 43,
   "id": "9ab92b4c-3326-4ce8-8ea5-cf776e2c8923",
   "metadata": {},
   "outputs": [],
   "source": [
    "pw2=pwskills2.details('pramit','pramit12@gmail.com')"
   ]
  },
  {
   "cell_type": "code",
   "execution_count": 44,
   "id": "442146ee-897a-4296-8a0a-a6416371c914",
   "metadata": {},
   "outputs": [
    {
     "name": "stdout",
     "output_type": "stream",
     "text": [
      "pramit pramit12@gmail.com 7977129650\n"
     ]
    }
   ],
   "source": [
    "pw2.student_details()"
   ]
  },
  {
   "cell_type": "code",
   "execution_count": null,
   "id": "f410c962-3702-4d16-bef8-d3b7a063cdde",
   "metadata": {},
   "outputs": [],
   "source": []
  }
 ],
 "metadata": {
  "kernelspec": {
   "display_name": "Python 3 (ipykernel)",
   "language": "python",
   "name": "python3"
  },
  "language_info": {
   "codemirror_mode": {
    "name": "ipython",
    "version": 3
   },
   "file_extension": ".py",
   "mimetype": "text/x-python",
   "name": "python",
   "nbconvert_exporter": "python",
   "pygments_lexer": "ipython3",
   "version": "3.10.8"
  }
 },
 "nbformat": 4,
 "nbformat_minor": 5
}
