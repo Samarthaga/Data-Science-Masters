{
 "cells": [
  {
   "cell_type": "code",
   "execution_count": null,
   "id": "fc8604c6-2b4b-4ba1-b826-11d63147c7a7",
   "metadata": {},
   "outputs": [],
   "source": [
    "## Ans 1: three measures of central tendency are Mean Median and Mode"
   ]
  },
  {
   "cell_type": "code",
   "execution_count": null,
   "id": "261990b3-38a8-4efc-9b38-6d5e8d2ad258",
   "metadata": {},
   "outputs": [],
   "source": [
    "## Ans 2: the diff. are mean is used to calculate the avg of the elements to no of elements , however median is focused on the central element of the distribution and mode is used to calculate the maximum frequency of the elelemts "
   ]
  },
  {
   "cell_type": "code",
   "execution_count": 1,
   "id": "578fce8a-c49f-4a87-bc05-536d9f210b3a",
   "metadata": {},
   "outputs": [],
   "source": [
    "import numpy as np"
   ]
  },
  {
   "cell_type": "code",
   "execution_count": 2,
   "id": "db5a49a0-e068-4188-9a26-35ec9563d9ce",
   "metadata": {},
   "outputs": [],
   "source": [
    "## Ans 3:\n",
    "df=[178,177,176,177,178.2,178,175,179,180,175,178.9,176.2,177,172.5,178,176.5]"
   ]
  },
  {
   "cell_type": "code",
   "execution_count": 3,
   "id": "b1961a2b-21f9-4d33-957d-3a980142eeca",
   "metadata": {},
   "outputs": [
    {
     "data": {
      "text/plain": [
       "177.01875"
      ]
     },
     "execution_count": 3,
     "metadata": {},
     "output_type": "execute_result"
    }
   ],
   "source": [
    "np.mean(df)"
   ]
  },
  {
   "cell_type": "code",
   "execution_count": 5,
   "id": "6da1850b-d2d6-425a-8cb4-b9d908307f64",
   "metadata": {},
   "outputs": [
    {
     "data": {
      "text/plain": [
       "177.0"
      ]
     },
     "execution_count": 5,
     "metadata": {},
     "output_type": "execute_result"
    }
   ],
   "source": [
    "np.median(df)"
   ]
  },
  {
   "cell_type": "code",
   "execution_count": 7,
   "id": "c6cdb9bb-a899-4c57-8b14-519be94d1984",
   "metadata": {},
   "outputs": [],
   "source": [
    "from scipy import stats"
   ]
  },
  {
   "cell_type": "code",
   "execution_count": 8,
   "id": "ace8c166-ebc9-4ff3-b169-d2e8e20a1c57",
   "metadata": {},
   "outputs": [
    {
     "name": "stderr",
     "output_type": "stream",
     "text": [
      "/tmp/ipykernel_70/4235401754.py:1: FutureWarning: Unlike other reduction functions (e.g. `skew`, `kurtosis`), the default behavior of `mode` typically preserves the axis it acts along. In SciPy 1.11.0, this behavior will change: the default value of `keepdims` will become False, the `axis` over which the statistic is taken will be eliminated, and the value None will no longer be accepted. Set `keepdims` to True or False to avoid this warning.\n",
      "  stats.mode(df)\n"
     ]
    },
    {
     "data": {
      "text/plain": [
       "ModeResult(mode=array([177.]), count=array([3]))"
      ]
     },
     "execution_count": 8,
     "metadata": {},
     "output_type": "execute_result"
    }
   ],
   "source": [
    "stats.mode(df)"
   ]
  },
  {
   "cell_type": "code",
   "execution_count": 9,
   "id": "e5a7ab74-02f6-4afd-8049-de764fdfaf27",
   "metadata": {},
   "outputs": [],
   "source": [
    "df2=[178,177,176,177,178.2,178,175,179,180,175,178.9,176.2,177,172.5,178,176.5]"
   ]
  },
  {
   "cell_type": "code",
   "execution_count": 10,
   "id": "0e248f9d-fda2-4dd9-aeeb-3eec32d13368",
   "metadata": {},
   "outputs": [
    {
     "data": {
      "text/plain": [
       "1.7885814036548633"
      ]
     },
     "execution_count": 10,
     "metadata": {},
     "output_type": "execute_result"
    }
   ],
   "source": [
    "np.std(df2)"
   ]
  },
  {
   "cell_type": "code",
   "execution_count": 16,
   "id": "12d85a2f-ea2e-45b6-80a9-b4e3ddfab3bb",
   "metadata": {},
   "outputs": [
    {
     "data": {
      "text/plain": [
       "3.199023437500001"
      ]
     },
     "execution_count": 16,
     "metadata": {},
     "output_type": "execute_result"
    }
   ],
   "source": [
    "##measures of dispersion such as range, variance, and standard deviation used to describe\n",
    "##the spread of a dataset as the more the variance the mode will be the spread more will be the area\n",
    "## and std dev is used to clculate the distance from centre to the next step in terms of sigma \n",
    "np.var(df)"
   ]
  },
  {
   "cell_type": "code",
   "execution_count": 15,
   "id": "c057e244-2140-474e-b242-55b3f7346402",
   "metadata": {},
   "outputs": [
    {
     "data": {
      "text/plain": [
       "1.7885814036548633"
      ]
     },
     "execution_count": 15,
     "metadata": {},
     "output_type": "execute_result"
    }
   ],
   "source": [
    "np.std(df)"
   ]
  },
  {
   "cell_type": "code",
   "execution_count": null,
   "id": "5b70b200-fe7d-4adc-8669-8afe644c90b1",
   "metadata": {},
   "outputs": [],
   "source": [
    "## Ans 6: A Venn diagram is an illustration that uses circles to show the relationships among things or finite groups of things."
   ]
  },
  {
   "cell_type": "code",
   "execution_count": 17,
   "id": "3f17ae31-0f21-4404-9bc2-3a56631441cb",
   "metadata": {},
   "outputs": [],
   "source": [
    "## Ans 7:\n",
    "A = (2,3,4,5,6,7)\n",
    "B = (0,2,6,8,10)"
   ]
  },
  {
   "cell_type": "code",
   "execution_count": 18,
   "id": "88933bbe-a98c-4b20-a35f-2acc92c78258",
   "metadata": {},
   "outputs": [
    {
     "data": {
      "text/plain": [
       "array([2, 6])"
      ]
     },
     "execution_count": 18,
     "metadata": {},
     "output_type": "execute_result"
    }
   ],
   "source": [
    "np.intersect1d(A,B)"
   ]
  },
  {
   "cell_type": "code",
   "execution_count": 19,
   "id": "999062e6-42bc-4692-949a-a1ff8deea8fb",
   "metadata": {},
   "outputs": [
    {
     "data": {
      "text/plain": [
       "array([ 0,  2,  3,  4,  5,  6,  7,  8, 10])"
      ]
     },
     "execution_count": 19,
     "metadata": {},
     "output_type": "execute_result"
    }
   ],
   "source": [
    "np.union1d(A,B)"
   ]
  },
  {
   "cell_type": "code",
   "execution_count": null,
   "id": "ae2fe7fb-05e3-4035-8209-48251dc85b0e",
   "metadata": {},
   "outputs": [],
   "source": [
    "## Ans 8. skewness is basically used to provide the data frequecny and its distribution and relation of mean median and mode also helps to provide the distortion of symmetry and unsmmetic distribution of the data "
   ]
  },
  {
   "cell_type": "code",
   "execution_count": null,
   "id": "a0b8775d-5c0b-4191-b02a-514eb15c7b3c",
   "metadata": {},
   "outputs": [],
   "source": [
    "## Ans 9: the position will be left side of the mean as mean >median "
   ]
  },
  {
   "cell_type": "code",
   "execution_count": null,
   "id": "c3d63159-36fc-4175-a641-e631311d686f",
   "metadata": {},
   "outputs": [],
   "source": [
    "## Ans 10.Covariance shows you how the two variables differ, whereas correlation shows you how the two variables are related\n",
    "## its is used in stats as covariance does not have limit and can be -ve and =ve howevere in correlation range is from -1to+1 \n",
    "## if while stats in a data of multiple rows if the relation is near about zero we can exclude the particular data from relation ."
   ]
  },
  {
   "cell_type": "code",
   "execution_count": null,
   "id": "d35ec004-4552-4a9c-a909-a47fa35e6e21",
   "metadata": {},
   "outputs": [],
   "source": [
    "## Ans 11 . s=Σ from i=1to n xi/n\n",
    "## example Students marks mean \n",
    "marks=[67,98,34,56,90,76]"
   ]
  },
  {
   "cell_type": "code",
   "execution_count": 23,
   "id": "2bc1c19b-c14e-4ec8-91a8-f8ee55f8793b",
   "metadata": {},
   "outputs": [
    {
     "data": {
      "text/plain": [
       "73.44444444444444"
      ]
     },
     "execution_count": 23,
     "metadata": {},
     "output_type": "execute_result"
    }
   ],
   "source": [
    "np.mean(marks)"
   ]
  },
  {
   "cell_type": "code",
   "execution_count": null,
   "id": "e368ef1e-a619-44ec-bf88-f1aa3842a1be",
   "metadata": {},
   "outputs": [],
   "source": [
    "## Ans 12: Any normal distribution has a graph that is perfectly symmetric about a vertical line through its peak. Therefore, all measures of central tendency (most commonly, the mean, median, and mode) give the same answer: the x -value of the peak"
   ]
  },
  {
   "cell_type": "code",
   "execution_count": null,
   "id": "79bfa822-ea51-4e73-a66f-874ef6ab030a",
   "metadata": {},
   "outputs": [],
   "source": [
    "## Ans 13: Covariance shows you how the two variables differ, whereas correlation shows you how the two variables are related"
   ]
  },
  {
   "cell_type": "code",
   "execution_count": 24,
   "id": "c426d5cf-4547-4f83-8120-a5d7561f298b",
   "metadata": {},
   "outputs": [],
   "source": [
    "## otliners are the no does not belong the distribution \n",
    "dis=[11,12,13,14,15,233]"
   ]
  },
  {
   "cell_type": "code",
   "execution_count": 25,
   "id": "22c5c1f7-8389-4f8f-80a3-a2565e8f4512",
   "metadata": {},
   "outputs": [
    {
     "data": {
      "text/plain": [
       "49.666666666666664"
      ]
     },
     "execution_count": 25,
     "metadata": {},
     "output_type": "execute_result"
    }
   ],
   "source": [
    "np.mean(dis)"
   ]
  },
  {
   "cell_type": "code",
   "execution_count": 26,
   "id": "c495ebf6-956f-4193-bc13-8fb44bf87ac4",
   "metadata": {},
   "outputs": [
    {
     "data": {
      "text/plain": [
       "13.5"
      ]
     },
     "execution_count": 26,
     "metadata": {},
     "output_type": "execute_result"
    }
   ],
   "source": [
    "np.median(dis)"
   ]
  },
  {
   "cell_type": "code",
   "execution_count": null,
   "id": "33b98bbb-a157-4417-9594-8fb6aa6a9c06",
   "metadata": {},
   "outputs": [],
   "source": [
    "## Ans 14 : as in above example mean is 49.6 as its an avg of the distribution , however median is the cental position of the distribution which in case of even distribution is equal to mean "
   ]
  },
  {
   "cell_type": "code",
   "execution_count": null,
   "id": "d316480e-69db-4c54-92fc-78357dc64552",
   "metadata": {},
   "outputs": [],
   "source": []
  }
 ],
 "metadata": {
  "kernelspec": {
   "display_name": "Python 3 (ipykernel)",
   "language": "python",
   "name": "python3"
  },
  "language_info": {
   "codemirror_mode": {
    "name": "ipython",
    "version": 3
   },
   "file_extension": ".py",
   "mimetype": "text/x-python",
   "name": "python",
   "nbconvert_exporter": "python",
   "pygments_lexer": "ipython3",
   "version": "3.10.8"
  }
 },
 "nbformat": 4,
 "nbformat_minor": 5
}
