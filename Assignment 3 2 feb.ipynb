{
 "cells": [
  {
   "cell_type": "code",
   "execution_count": null,
   "id": "1f9a7f04-bd0f-4c33-a004-42e988ba5ad7",
   "metadata": {},
   "outputs": [],
   "source": [
    "## Ans 1.a tuple is ordered , unchangeble and allow duplicate values.\n",
    "1. it is not mutable "
   ]
  },
  {
   "cell_type": "code",
   "execution_count": 1,
   "id": "247d340b-281b-4896-8602-bbd3330a1bf4",
   "metadata": {},
   "outputs": [],
   "source": [
    "t=(1,1,23,34,5,5,6)"
   ]
  },
  {
   "cell_type": "code",
   "execution_count": 2,
   "id": "595f4137-e7fd-4143-8c2f-42e01e981158",
   "metadata": {},
   "outputs": [
    {
     "data": {
      "text/plain": [
       "int"
      ]
     },
     "execution_count": 7,
     "metadata": {},
     "output_type": "execute_result"
    }
   ],
   "source": [
    "type(t)"
   ]
  },
  {
   "cell_type": "code",
   "execution_count": 8,
   "id": "e73b10d0-aaaa-4aa9-b764-29bf22d7771b",
   "metadata": {},
   "outputs": [
    {
     "data": {
      "text/plain": [
       "1"
      ]
     },
     "execution_count": 8,
     "metadata": {},
     "output_type": "execute_result"
    }
   ],
   "source": [
    "t.count(23)"
   ]
  },
  {
   "cell_type": "code",
   "execution_count": 6,
   "id": "c3a91670-a771-4f13-b41d-3492be4e5e8b",
   "metadata": {},
   "outputs": [
    {
     "data": {
      "text/plain": [
       "2"
      ]
     },
     "execution_count": 6,
     "metadata": {},
     "output_type": "execute_result"
    }
   ],
   "source": [
    "t.index(23)"
   ]
  },
  {
   "cell_type": "markdown",
   "id": "822aa926-40e8-4b9b-ade2-8b46f28c2167",
   "metadata": {},
   "source": [
    "Ans 2.tuples have 2 functions namely count and index example above also as teched by sudhanshiu sir true is stored as 1 in tuple and if any value in tuple have true and when count function is used it gives 2 as result\n",
    "list is mutable , however tuple is not mutable biggest diff."
   ]
  },
  {
   "cell_type": "markdown",
   "id": "ef468bab-0a59-45ab-ab59-ec3489a49f9f",
   "metadata": {},
   "source": [
    "Ans 3.Set does not allow duplicate items , when the value of set is recalled then it displays only unique values as a result , example of code for removing duplicate list below "
   ]
  },
  {
   "cell_type": "code",
   "execution_count": 10,
   "id": "f879c9e9-b3f9-46c2-b893-4f1909f232ca",
   "metadata": {},
   "outputs": [],
   "source": [
    "s={1,1,2,3,44,44,55,5}"
   ]
  },
  {
   "cell_type": "code",
   "execution_count": 11,
   "id": "e12b337b-f42b-4cef-ac76-f84076f47e16",
   "metadata": {},
   "outputs": [
    {
     "data": {
      "text/plain": [
       "{1, 2, 3, 5, 44, 55}"
      ]
     },
     "execution_count": 11,
     "metadata": {},
     "output_type": "execute_result"
    }
   ],
   "source": [
    "s"
   ]
  },
  {
   "cell_type": "code",
   "execution_count": 13,
   "id": "a7d240f9-a22b-4cc5-8215-c02ba54bd4b5",
   "metadata": {},
   "outputs": [],
   "source": [
    "l=[1, 1, 1, 2, 1, 3, 1, 4, 2, 1, 2, 2, 2, 3, 2, 4, 3, 1, 3, 2, 3, 3, 3, 4, 4, 1, 4, 2, 4, 3, 4, 4]"
   ]
  },
  {
   "cell_type": "code",
   "execution_count": 15,
   "id": "2adc2749-e903-46a6-81b3-d413d8c6dccb",
   "metadata": {},
   "outputs": [],
   "source": [
    "s1=set(l)"
   ]
  },
  {
   "cell_type": "code",
   "execution_count": 16,
   "id": "c7c9315f-30e4-4aad-8c00-bf7ad211a685",
   "metadata": {},
   "outputs": [
    {
     "data": {
      "text/plain": [
       "{1, 2, 3, 4}"
      ]
     },
     "execution_count": 16,
     "metadata": {},
     "output_type": "execute_result"
    }
   ],
   "source": [
    "s1"
   ]
  },
  {
   "cell_type": "code",
   "execution_count": 26,
   "id": "525edb25-4987-4052-907b-5b30df34c311",
   "metadata": {},
   "outputs": [],
   "source": [
    "s2={1,2,3,4,5}\n",
    "s3={6,7,8,9,10}"
   ]
  },
  {
   "cell_type": "code",
   "execution_count": 22,
   "id": "c62970a8-8c7b-4400-83f3-f3427d10a344",
   "metadata": {},
   "outputs": [],
   "source": [
    "s4=s2.update(s3)"
   ]
  },
  {
   "cell_type": "code",
   "execution_count": 23,
   "id": "f6339753-7b34-4a8d-81c8-0e618877d4fd",
   "metadata": {},
   "outputs": [],
   "source": [
    "s4"
   ]
  },
  {
   "cell_type": "code",
   "execution_count": 24,
   "id": "45db752b-ad24-4e87-9243-12f1412a920a",
   "metadata": {},
   "outputs": [],
   "source": [
    "s4"
   ]
  },
  {
   "cell_type": "code",
   "execution_count": 25,
   "id": "66ba085e-5632-4af1-8327-27bcc43f2344",
   "metadata": {},
   "outputs": [
    {
     "data": {
      "text/plain": [
       "{1, 2, 3, 4}"
      ]
     },
     "execution_count": 25,
     "metadata": {},
     "output_type": "execute_result"
    }
   ],
   "source": [
    "s1"
   ]
  },
  {
   "cell_type": "code",
   "execution_count": 27,
   "id": "99ba7aa2-c6e2-4fa8-a799-89d036a0ceac",
   "metadata": {},
   "outputs": [],
   "source": [
    "s5=s2.union(s3)"
   ]
  },
  {
   "cell_type": "code",
   "execution_count": 28,
   "id": "4972328e-45b7-49f0-b76e-8d25e77cb0b7",
   "metadata": {},
   "outputs": [
    {
     "data": {
      "text/plain": [
       "{1, 2, 3, 4, 5, 6, 7, 8, 9, 10}"
      ]
     },
     "execution_count": 28,
     "metadata": {},
     "output_type": "execute_result"
    }
   ],
   "source": [
    "s5"
   ]
  },
  {
   "cell_type": "markdown",
   "id": "600e5047-db28-4571-83ea-3d72f23b213d",
   "metadata": {},
   "source": [
    "Ans 4.union is used to merge 2 sets and update cannot be performed in set"
   ]
  },
  {
   "cell_type": "code",
   "execution_count": 32,
   "id": "b0154421-b357-4409-9cde-f70dc0f62294",
   "metadata": {},
   "outputs": [],
   "source": [
    "##Ans 5.used to store data values in key:value pairs\n",
    "##example\n",
    "\n",
    "d1={'name':'Samarth'}\n",
    "## dict is ordered "
   ]
  },
  {
   "cell_type": "code",
   "execution_count": 34,
   "id": "6d05821d-4d67-4f2e-8bd5-acd988351e73",
   "metadata": {},
   "outputs": [
    {
     "data": {
      "text/plain": [
       "{'name': {'school name': 'OLF', 'Grade': 'A'}}"
      ]
     },
     "execution_count": 34,
     "metadata": {},
     "output_type": "execute_result"
    }
   ],
   "source": [
    "## Ans 6. Nested Dict\n",
    "\n",
    "d2={'name':{'school name':'OLF','Grade':'A'}}\n",
    "d2"
   ]
  },
  {
   "cell_type": "code",
   "execution_count": 38,
   "id": "f771d38b-db37-42e9-9eb0-6535a236c6be",
   "metadata": {},
   "outputs": [
    {
     "data": {
      "text/plain": [
       "{'topics': ['python', 'machine learning', 'deep learning']}"
      ]
     },
     "execution_count": 38,
     "metadata": {},
     "output_type": "execute_result"
    }
   ],
   "source": [
    "## Ans 7 Using setdefault() create a create key named topics in the given dictionary and also add the value of\n",
    "##the key as this list ['Python', 'Machine Learning’, 'Deep Learning']\n",
    "##dict1 = {'language' : 'Python', 'course': 'Data Science Masters'}\n",
    "\n",
    "d3={'topics':['python','machine learning','deep learning']}\n",
    "d3"
   ]
  },
  {
   "cell_type": "code",
   "execution_count": 44,
   "id": "58d1bb8d-69bb-4235-84b7-cb50165a7049",
   "metadata": {},
   "outputs": [
    {
     "data": {
      "text/plain": [
       "dict_items([('Sport', 'Cricket'), ('Teams', ['India', 'Australia', 'England', 'South Africa', 'Sri Lanka', 'New Zealand'])])"
      ]
     },
     "execution_count": 44,
     "metadata": {},
     "output_type": "execute_result"
    }
   ],
   "source": [
    "## Ans 8. 3 views : Keys, values, and Items\n",
    "\n",
    "dict1 = {'Sport': 'Cricket' , 'Teams': ['India', 'Australia', 'England', 'South Africa', 'Sri Lanka', 'New Zealand']}\n",
    "\n",
    "dict1.keys()\n",
    "dict1.values()\n",
    "dict1.items()"
   ]
  },
  {
   "cell_type": "code",
   "execution_count": null,
   "id": "04a45db9-ac2d-4ccc-82ac-5768e862d84d",
   "metadata": {},
   "outputs": [],
   "source": []
  },
  {
   "cell_type": "code",
   "execution_count": null,
   "id": "c0f112a4-0e75-4598-b285-11d376bc92b1",
   "metadata": {},
   "outputs": [],
   "source": []
  },
  {
   "cell_type": "code",
   "execution_count": null,
   "id": "6b44695d-a315-4090-ae01-db7977ec5fe2",
   "metadata": {},
   "outputs": [],
   "source": []
  },
  {
   "cell_type": "markdown",
   "id": "20ddb159-8621-4ed2-bd07-57d0b08c31eb",
   "metadata": {},
   "source": [
    " "
   ]
  }
 ],
 "metadata": {
  "kernelspec": {
   "display_name": "Python 3 (ipykernel)",
   "language": "python",
   "name": "python3"
  },
  "language_info": {
   "codemirror_mode": {
    "name": "ipython",
    "version": 3
   },
   "file_extension": ".py",
   "mimetype": "text/x-python",
   "name": "python",
   "nbconvert_exporter": "python",
   "pygments_lexer": "ipython3",
   "version": "3.10.8"
  }
 },
 "nbformat": 4,
 "nbformat_minor": 5
}
