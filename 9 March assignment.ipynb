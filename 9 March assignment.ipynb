{
 "cells": [
  {
   "cell_type": "code",
   "execution_count": null,
   "id": "5eec4fa3-e311-448e-900f-030a72a01bd7",
   "metadata": {},
   "outputs": [],
   "source": [
    "# Ans 1: The probability mass function (PMF) is used to describe discrete probability distributions. In contrast, the probability density function (PDF) is applied to describe continuous probability distributions\n",
    "# rolling a die is a good example where for pmf outcomes are 1/6 for pr(x=1,2,3,4,5,6) and for cdf die outcomes are added for result like die outcome less than 4 Pr(x=1+2+3+4) =4/6"
   ]
  },
  {
   "cell_type": "code",
   "execution_count": null,
   "id": "1a3d3c8e-e95f-43e8-bdb5-6644161c915f",
   "metadata": {},
   "outputs": [],
   "source": [
    "## Ans 2: The cumulative distribution function is used to describe the probability distribution of random variables. It can be used to describe the probability for a discrete, continuous or mixed variable.\n",
    "## example for tossing a coin 7 times with outcomes like 0 for head and 1 for tail , total outcome will be for 1/2*7"
   ]
  },
  {
   "cell_type": "code",
   "execution_count": null,
   "id": "e6f5d56c-02d2-4d3c-86ef-85a77d7690f0",
   "metadata": {},
   "outputs": [],
   "source": [
    "## Ans 3: some examples are height of the people , weight of the people, iris checkup for 12 years and under ,marks in exams of 100 marks .\n",
    "## the shape comes out to be bell curve where approx 68 % majority frequecy is b/w 1std dev step , and 95 for 2nd step and 99.7 for 3rd step where outliers lie \n"
   ]
  },
  {
   "cell_type": "code",
   "execution_count": null,
   "id": "cb265276-2725-4fc9-bf12-1da4033f5554",
   "metadata": {},
   "outputs": [],
   "source": [
    "## Ans4: narmal distribution is a distribution curve which gives the data in a simplified form like the sales done for a supermarket, where the most selling items category have high frequency than comes 2nd category and than the last where some other items lie\n",
    "## exapmple daily withdrawl of money from a certain location ATM"
   ]
  },
  {
   "cell_type": "code",
   "execution_count": null,
   "id": "0d26b0e0-00cd-4651-a972-f29b6a67c521",
   "metadata": {
    "tags": []
   },
   "outputs": [],
   "source": [
    "## Ans 5: Bernaulli Distribution is a discrete value distribution where outcomes are binary and fixed \n",
    "## Binomial distribution where outcome is binany and is repeated n no of times with results in boolean value \n",
    "## example no of people visit bank branch for binomial distribution \n",
    "## Example for bernaulli distribution is tossing a coin "
   ]
  },
  {
   "cell_type": "code",
   "execution_count": 1,
   "id": "6e9f4fb6-17cd-49e5-a800-0743b7c438ab",
   "metadata": {},
   "outputs": [
    {
     "data": {
      "text/plain": [
       "1.0"
      ]
     },
     "execution_count": 1,
     "metadata": {},
     "output_type": "execute_result"
    }
   ],
   "source": [
    "## Ans 6. mean =50 , Std Dev = 10 \n",
    "## probab of randomly selected observation is greater than 60 \n",
    "(60-50)/10"
   ]
  },
  {
   "cell_type": "code",
   "execution_count": 2,
   "id": "f9167b01-fcdf-4f8d-9bcd-921506b8c34e",
   "metadata": {},
   "outputs": [],
   "source": [
    "## we will look in ztable for value of 1 \n",
    "## which is euqal to : 0.8413 \n",
    "zcore=0.8413*100"
   ]
  },
  {
   "cell_type": "code",
   "execution_count": 3,
   "id": "0e29f8ff-5ceb-4e8f-9e1c-aa81d49c464a",
   "metadata": {},
   "outputs": [
    {
     "data": {
      "text/plain": [
       "84.13000000000001"
      ]
     },
     "execution_count": 3,
     "metadata": {},
     "output_type": "execute_result"
    }
   ],
   "source": [
    "zcore"
   ]
  },
  {
   "cell_type": "code",
   "execution_count": 6,
   "id": "b0c20cc6-95d4-4abe-ae61-61404f4aafb2",
   "metadata": {},
   "outputs": [],
   "source": [
    "##now for probab of random seleted to be greater than 60 is \n",
    "prob_=1-0.8413"
   ]
  },
  {
   "cell_type": "code",
   "execution_count": 7,
   "id": "cf6c5106-fec0-40a5-970c-ae4dc47010a3",
   "metadata": {},
   "outputs": [
    {
     "data": {
      "text/plain": [
       "0.15869999999999995"
      ]
     },
     "execution_count": 7,
     "metadata": {},
     "output_type": "execute_result"
    }
   ],
   "source": [
    "prob_"
   ]
  },
  {
   "cell_type": "code",
   "execution_count": 8,
   "id": "4c5488a7-db6f-4f23-b47f-09f382b3b8c2",
   "metadata": {},
   "outputs": [],
   "source": [
    "prob_=100*prob_"
   ]
  },
  {
   "cell_type": "code",
   "execution_count": 11,
   "id": "56831bc8-cb1b-4d03-a6da-53d3e5badeb0",
   "metadata": {},
   "outputs": [
    {
     "data": {
      "text/plain": [
       "15.869999999999996"
      ]
     },
     "execution_count": 11,
     "metadata": {},
     "output_type": "execute_result"
    }
   ],
   "source": [
    "## Ans 6\n",
    "prob_"
   ]
  },
  {
   "cell_type": "code",
   "execution_count": null,
   "id": "d6c1510d-7982-4a35-94cd-787dbbdd9903",
   "metadata": {},
   "outputs": [],
   "source": [
    "## Ans 7: ## Ans 7: \n",
    "## In statistics, uniform distribution refers to a type of probability distribution in which all outcomes are equally likely. A deck of cards has within it uniform distributions because the likelihood of drawing a heart, a club, a diamond, or a spade is equally likely."
   ]
  },
  {
   "cell_type": "code",
   "execution_count": null,
   "id": "9056b3b3-e220-4791-8caf-a798dd3ee5ab",
   "metadata": {},
   "outputs": [],
   "source": [
    "## Ans 8 : zscore helps in identifying how much value away from the mean , it helps to summerize large data to simple usable data where age weight and salary can be computed with mean and its value from the mean .4\n",
    "## Importance rovides the area under the curve to the left of a z-score"
   ]
  },
  {
   "cell_type": "code",
   "execution_count": null,
   "id": "c217e6db-27b6-4fec-812e-3d1ae49fca3f",
   "metadata": {},
   "outputs": [],
   "source": [
    "## Ans 9: Central Limit Theorem is used for sampling distribution to calculate probability and Area under the curve \n",
    "## Significance it allows one to assume that the sampling distribution of the mean will be normally-distributed in most cases"
   ]
  },
  {
   "cell_type": "code",
   "execution_count": null,
   "id": "75a90c9a-2a5d-48f6-802b-e23ad5d33109",
   "metadata": {},
   "outputs": [],
   "source": [
    "## Ans 10: he data should be sampled randomly. The samples should be independent of each other. The sample size should be sufficiently large but not exceed 10% of the population"
   ]
  },
  {
   "cell_type": "code",
   "execution_count": null,
   "id": "fa1c53bc-037b-426a-963f-bc855d7d314f",
   "metadata": {},
   "outputs": [],
   "source": []
  },
  {
   "cell_type": "code",
   "execution_count": null,
   "id": "a8543ecc-a6a3-437c-b173-4f188ebcff35",
   "metadata": {},
   "outputs": [],
   "source": []
  },
  {
   "cell_type": "code",
   "execution_count": null,
   "id": "f23a82a2-50f6-4c61-b674-ddbed47c00ea",
   "metadata": {},
   "outputs": [],
   "source": []
  },
  {
   "cell_type": "code",
   "execution_count": null,
   "id": "453ce3d3-519d-42f0-a358-b1b81e2a0e75",
   "metadata": {},
   "outputs": [],
   "source": []
  },
  {
   "cell_type": "code",
   "execution_count": null,
   "id": "0baa715c-7826-4626-90d6-6ce86657e413",
   "metadata": {},
   "outputs": [],
   "source": []
  }
 ],
 "metadata": {
  "kernelspec": {
   "display_name": "Python 3 (ipykernel)",
   "language": "python",
   "name": "python3"
  },
  "language_info": {
   "codemirror_mode": {
    "name": "ipython",
    "version": 3
   },
   "file_extension": ".py",
   "mimetype": "text/x-python",
   "name": "python",
   "nbconvert_exporter": "python",
   "pygments_lexer": "ipython3",
   "version": "3.10.8"
  }
 },
 "nbformat": 4,
 "nbformat_minor": 5
}
