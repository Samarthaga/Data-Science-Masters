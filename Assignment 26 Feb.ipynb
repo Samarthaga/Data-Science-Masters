{
 "cells": [
  {
   "cell_type": "code",
   "execution_count": 1,
   "id": "63fb37ea-c75b-4e65-8828-aa7b5392e59b",
   "metadata": {},
   "outputs": [],
   "source": [
    "import numpy as np"
   ]
  },
  {
   "cell_type": "code",
   "execution_count": 18,
   "id": "e9953ffe-dbe1-4589-bc47-52c4ce77dd7c",
   "metadata": {},
   "outputs": [],
   "source": [
    "list_1 = [ '1' , '2' , '3' , '4' , '5' ]\n",
    "array_list = np.array(object = list_1)"
   ]
  },
  {
   "cell_type": "code",
   "execution_count": 4,
   "id": "2abf8a12-e788-4315-8f5a-d5990489c4ee",
   "metadata": {},
   "outputs": [
    {
     "data": {
      "text/plain": [
       "array(['1', '2', '3', '4', '5'], dtype='<U1')"
      ]
     },
     "execution_count": 4,
     "metadata": {},
     "output_type": "execute_result"
    }
   ],
   "source": [
    "array_list"
   ]
  },
  {
   "cell_type": "code",
   "execution_count": 5,
   "id": "a458d2a5-16a9-4c40-8809-65f42c7a527b",
   "metadata": {},
   "outputs": [],
   "source": [
    "var_list=[1,2,3,4,5]"
   ]
  },
  {
   "cell_type": "code",
   "execution_count": 6,
   "id": "cc59b2da-b0d2-4615-8f73-627a7633617c",
   "metadata": {},
   "outputs": [
    {
     "data": {
      "text/plain": [
       "list"
      ]
     },
     "execution_count": 6,
     "metadata": {},
     "output_type": "execute_result"
    }
   ],
   "source": [
    "type(var_list)"
   ]
  },
  {
   "cell_type": "code",
   "execution_count": 7,
   "id": "69fd14d9-b900-49b2-b131-8b226339ddc9",
   "metadata": {},
   "outputs": [
    {
     "data": {
      "text/plain": [
       "numpy.ndarray"
      ]
     },
     "execution_count": 7,
     "metadata": {},
     "output_type": "execute_result"
    }
   ],
   "source": [
    "type(array_list)"
   ]
  },
  {
   "cell_type": "code",
   "execution_count": 8,
   "id": "bc02883f-2a4f-481a-a47f-e4c603680b2e",
   "metadata": {},
   "outputs": [
    {
     "data": {
      "text/plain": [
       "[1, 2, 3, 4, 5]"
      ]
     },
     "execution_count": 8,
     "metadata": {},
     "output_type": "execute_result"
    }
   ],
   "source": [
    "var_list"
   ]
  },
  {
   "cell_type": "code",
   "execution_count": 10,
   "id": "c6c31874-72e7-4aa4-8274-d163996a2d79",
   "metadata": {},
   "outputs": [
    {
     "data": {
      "text/plain": [
       "array(['1', '2', '3', '4', '5'], dtype='<U1')"
      ]
     },
     "execution_count": 10,
     "metadata": {},
     "output_type": "execute_result"
    }
   ],
   "source": [
    "array_list"
   ]
  },
  {
   "cell_type": "code",
   "execution_count": null,
   "id": "6d494d13-c009-49f3-990e-e9da63ee177e",
   "metadata": {},
   "outputs": [],
   "source": [
    "## there is a difference b/w list and array list as var list as in array list everything is stored \n",
    "##inside a tuple in a list or martix or array form while in list it is stored in normal manner without having mathmetical \n",
    "## inplimentations to it"
   ]
  },
  {
   "cell_type": "code",
   "execution_count": 27,
   "id": "0f348132-df00-4d3c-a526-71156be35cc0",
   "metadata": {},
   "outputs": [],
   "source": [
    "array_list = np.array(object = list_1, dtype = int)"
   ]
  },
  {
   "cell_type": "code",
   "execution_count": 28,
   "id": "fca1f1c2-19d2-4d33-af0c-58317cd7bcc5",
   "metadata": {},
   "outputs": [
    {
     "data": {
      "text/plain": [
       "array([1, 2, 3, 4, 5])"
      ]
     },
     "execution_count": 28,
     "metadata": {},
     "output_type": "execute_result"
    }
   ],
   "source": [
    "array_list"
   ]
  },
  {
   "cell_type": "code",
   "execution_count": 29,
   "id": "dbabcb3a-c280-4b3b-8446-3cf72be97863",
   "metadata": {},
   "outputs": [
    {
     "data": {
      "text/plain": [
       "dtype('int64')"
      ]
     },
     "execution_count": 29,
     "metadata": {},
     "output_type": "execute_result"
    }
   ],
   "source": [
    "array_list.dtype\n",
    "                     "
   ]
  },
  {
   "cell_type": "code",
   "execution_count": null,
   "id": "1a5b0951-81d6-45ed-b302-136c66a622e5",
   "metadata": {},
   "outputs": [],
   "source": [
    "## Ans 3.\n",
    "##yes there is a diff. as said earlier int64 is a type of array where it is stored in a tuple way "
   ]
  },
  {
   "cell_type": "code",
   "execution_count": 32,
   "id": "3d31f041-fea9-4d93-ad43-47c358eff310",
   "metadata": {},
   "outputs": [],
   "source": [
    "num_array=np.random.randint(1,10,(3,4))"
   ]
  },
  {
   "cell_type": "code",
   "execution_count": 33,
   "id": "09759f94-572a-4925-9619-086a60683f81",
   "metadata": {},
   "outputs": [
    {
     "data": {
      "text/plain": [
       "array([[3, 3, 9, 1],\n",
       "       [3, 8, 9, 8],\n",
       "       [9, 5, 5, 1]])"
      ]
     },
     "execution_count": 33,
     "metadata": {},
     "output_type": "execute_result"
    }
   ],
   "source": [
    " num_array"
   ]
  },
  {
   "cell_type": "code",
   "execution_count": 34,
   "id": "7c6b0109-61a3-4b91-b32a-6c08b9385d54",
   "metadata": {},
   "outputs": [
    {
     "data": {
      "text/plain": [
       "(3, 4)"
      ]
     },
     "execution_count": 34,
     "metadata": {},
     "output_type": "execute_result"
    }
   ],
   "source": [
    "## Ans 4 \n",
    "num_array.shape"
   ]
  },
  {
   "cell_type": "code",
   "execution_count": 37,
   "id": "11d83a20-c78e-47c6-b63a-dff8cbfd28ae",
   "metadata": {},
   "outputs": [
    {
     "data": {
      "text/plain": [
       "12"
      ]
     },
     "execution_count": 37,
     "metadata": {},
     "output_type": "execute_result"
    }
   ],
   "source": [
    "num_array.size"
   ]
  },
  {
   "cell_type": "code",
   "execution_count": 57,
   "id": "95939f80-a86f-42b8-9b5b-d172945e2603",
   "metadata": {},
   "outputs": [
    {
     "data": {
      "text/plain": [
       "array([[0., 0.]])"
      ]
     },
     "execution_count": 57,
     "metadata": {},
     "output_type": "execute_result"
    }
   ],
   "source": [
    "np.fromfunction(lambda i,j: i*j,(1,2))"
   ]
  },
  {
   "cell_type": "code",
   "execution_count": 47,
   "id": "816b2e87-b73a-4471-bc3f-6afe0c32f31c",
   "metadata": {},
   "outputs": [
    {
     "data": {
      "text/plain": [
       "array([[0., 0., 0.],\n",
       "       [0., 0., 0.],\n",
       "       [0., 0., 0.]])"
      ]
     },
     "execution_count": 47,
     "metadata": {},
     "output_type": "execute_result"
    }
   ],
   "source": [
    "np.zeros((3,3))"
   ]
  },
  {
   "cell_type": "code",
   "execution_count": 71,
   "id": "34b2c888-02a7-46e9-a8fb-c19303bba138",
   "metadata": {},
   "outputs": [
    {
     "ename": "SyntaxError",
     "evalue": "invalid syntax. Perhaps you forgot a comma? (3826201145.py, line 1)",
     "output_type": "error",
     "traceback": [
      "\u001b[0;36m  Cell \u001b[0;32mIn[71], line 1\u001b[0;36m\u001b[0m\n\u001b[0;31m    np.fromfunction(lambda x:x in x print x== np.eye(5,5))\u001b[0m\n\u001b[0m                             ^\u001b[0m\n\u001b[0;31mSyntaxError\u001b[0m\u001b[0;31m:\u001b[0m invalid syntax. Perhaps you forgot a comma?\n"
     ]
    }
   ],
   "source": [
    "np.fromfunction(lambda x:x in x print x== np.eye(5,5))"
   ]
  },
  {
   "cell_type": "code",
   "execution_count": null,
   "id": "96f62bfb-62c2-4d10-a213-6443929aae5a",
   "metadata": {},
   "outputs": [],
   "source": []
  }
 ],
 "metadata": {
  "kernelspec": {
   "display_name": "Python 3 (ipykernel)",
   "language": "python",
   "name": "python3"
  },
  "language_info": {
   "codemirror_mode": {
    "name": "ipython",
    "version": 3
   },
   "file_extension": ".py",
   "mimetype": "text/x-python",
   "name": "python",
   "nbconvert_exporter": "python",
   "pygments_lexer": "ipython3",
   "version": "3.10.8"
  }
 },
 "nbformat": 4,
 "nbformat_minor": 5
}
