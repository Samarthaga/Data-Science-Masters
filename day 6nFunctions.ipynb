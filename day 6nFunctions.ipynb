{
 "cells": [
  {
   "cell_type": "markdown",
   "id": "e5c6f5b2-e73e-4026-81d1-1f279c6eb1e9",
   "metadata": {
    "tags": []
   },
   "source": [
    "## functions "
   ]
  },
  {
   "cell_type": "code",
   "execution_count": 1,
   "id": "66763eff-b7b1-4161-91f9-3825dfa5b2c6",
   "metadata": {},
   "outputs": [],
   "source": [
    "def test():\n",
    "    pass"
   ]
  },
  {
   "cell_type": "code",
   "execution_count": 2,
   "id": "29eabb6a-be5c-4f80-8ed6-a6b7685039bd",
   "metadata": {},
   "outputs": [],
   "source": [
    "def test1():\n",
    "    print('this is my very very firdt funct')"
   ]
  },
  {
   "cell_type": "code",
   "execution_count": 3,
   "id": "bc572a30-437f-494a-a7d4-bd5f0e1ab19c",
   "metadata": {},
   "outputs": [
    {
     "data": {
      "text/plain": [
       "<function __main__.test1()>"
      ]
     },
     "execution_count": 3,
     "metadata": {},
     "output_type": "execute_result"
    }
   ],
   "source": [
    "test1"
   ]
  },
  {
   "cell_type": "code",
   "execution_count": 4,
   "id": "d41dceed-5363-41e8-b5e9-efa352cac73f",
   "metadata": {},
   "outputs": [
    {
     "name": "stdout",
     "output_type": "stream",
     "text": [
      "this is my very very firdt funct\n"
     ]
    }
   ],
   "source": [
    "test1()"
   ]
  },
  {
   "cell_type": "code",
   "execution_count": 7,
   "id": "5db822ab-a9ad-47ed-a24f-dbd9b31d74ef",
   "metadata": {},
   "outputs": [
    {
     "name": "stdout",
     "output_type": "stream",
     "text": [
      "this is my very very firdt funct\n"
     ]
    },
    {
     "ename": "TypeError",
     "evalue": "unsupported operand type(s) for +: 'NoneType' and 'str'",
     "output_type": "error",
     "traceback": [
      "\u001b[0;31m---------------------------------------------------------------------------\u001b[0m",
      "\u001b[0;31mTypeError\u001b[0m                                 Traceback (most recent call last)",
      "Cell \u001b[0;32mIn[7], line 1\u001b[0m\n\u001b[0;32m----> 1\u001b[0m \u001b[43mtest1\u001b[49m\u001b[43m(\u001b[49m\u001b[43m)\u001b[49m\u001b[43m \u001b[49m\u001b[38;5;241;43m+\u001b[39;49m\u001b[43m \u001b[49m\u001b[38;5;124;43m'\u001b[39;49m\u001b[38;5;124;43msamarth\u001b[39;49m\u001b[38;5;124;43m'\u001b[39;49m\n",
      "\u001b[0;31mTypeError\u001b[0m: unsupported operand type(s) for +: 'NoneType' and 'str'"
     ]
    }
   ],
   "source": [
    "test1() + 'samarth'"
   ]
  },
  {
   "cell_type": "code",
   "execution_count": 8,
   "id": "4b88006c-997b-4a84-939f-fdc259311189",
   "metadata": {},
   "outputs": [],
   "source": [
    "def test2():\n",
    "    return'this is my funct with return'"
   ]
  },
  {
   "cell_type": "code",
   "execution_count": 9,
   "id": "13313db6-603b-4c4e-b426-541a2f98ac3a",
   "metadata": {},
   "outputs": [
    {
     "data": {
      "text/plain": [
       "<function __main__.test2()>"
      ]
     },
     "execution_count": 9,
     "metadata": {},
     "output_type": "execute_result"
    }
   ],
   "source": [
    "test2"
   ]
  },
  {
   "cell_type": "code",
   "execution_count": 10,
   "id": "e7991bd1-b3ba-4343-888a-afc8ea2902ed",
   "metadata": {},
   "outputs": [
    {
     "data": {
      "text/plain": [
       "'this is my funct with return'"
      ]
     },
     "execution_count": 10,
     "metadata": {},
     "output_type": "execute_result"
    }
   ],
   "source": [
    "test2()"
   ]
  },
  {
   "cell_type": "code",
   "execution_count": 11,
   "id": "948566ff-a583-46bd-8179-cc5bcbefe857",
   "metadata": {},
   "outputs": [
    {
     "data": {
      "text/plain": [
       "'this is my funct with returnsamarth'"
      ]
     },
     "execution_count": 11,
     "metadata": {},
     "output_type": "execute_result"
    }
   ],
   "source": [
    "test2() + 'samarth'"
   ]
  },
  {
   "cell_type": "code",
   "execution_count": 5,
   "id": "4775bf75-b01d-4e5d-bfe5-bb1da9d53e7e",
   "metadata": {},
   "outputs": [],
   "source": [
    "def test3():\n",
    "    return 1,4,'pwskills',34.5"
   ]
  },
  {
   "cell_type": "code",
   "execution_count": 13,
   "id": "f7d18ee7-1d2b-4e06-89c4-53134c5efb7c",
   "metadata": {},
   "outputs": [
    {
     "data": {
      "text/plain": [
       "<function __main__.test3()>"
      ]
     },
     "execution_count": 13,
     "metadata": {},
     "output_type": "execute_result"
    }
   ],
   "source": [
    "test3"
   ]
  },
  {
   "cell_type": "code",
   "execution_count": 6,
   "id": "4776ee97-7f4e-40e9-b7ed-542d91495c33",
   "metadata": {},
   "outputs": [
    {
     "data": {
      "text/plain": [
       "(1, 4, 'pwskills', 34.5)"
      ]
     },
     "execution_count": 6,
     "metadata": {},
     "output_type": "execute_result"
    }
   ],
   "source": [
    "test3()"
   ]
  },
  {
   "cell_type": "code",
   "execution_count": 7,
   "id": "ac9eb346-666e-4649-8c79-563284032354",
   "metadata": {},
   "outputs": [
    {
     "data": {
      "text/plain": [
       "(1, 4, 'pwskills', 34.5)"
      ]
     },
     "execution_count": 7,
     "metadata": {},
     "output_type": "execute_result"
    }
   ],
   "source": [
    "test3()"
   ]
  },
  {
   "cell_type": "code",
   "execution_count": 8,
   "id": "e43a2656-16a6-4932-9655-3841b8f63a81",
   "metadata": {},
   "outputs": [],
   "source": [
    "a,b,c,d=1,2,34.56,True"
   ]
  },
  {
   "cell_type": "code",
   "execution_count": 9,
   "id": "45912e20-3b8d-4ed4-926c-1446f2895ea3",
   "metadata": {},
   "outputs": [
    {
     "data": {
      "text/plain": [
       "1"
      ]
     },
     "execution_count": 9,
     "metadata": {},
     "output_type": "execute_result"
    }
   ],
   "source": [
    "a"
   ]
  },
  {
   "cell_type": "code",
   "execution_count": 10,
   "id": "d01812af-ac89-4538-a0b9-8b23fa863223",
   "metadata": {},
   "outputs": [
    {
     "data": {
      "text/plain": [
       "2"
      ]
     },
     "execution_count": 10,
     "metadata": {},
     "output_type": "execute_result"
    }
   ],
   "source": [
    "b"
   ]
  },
  {
   "cell_type": "code",
   "execution_count": 11,
   "id": "a5cc4646-f6bd-4669-a3c9-a37b64121363",
   "metadata": {},
   "outputs": [
    {
     "data": {
      "text/plain": [
       "34.56"
      ]
     },
     "execution_count": 11,
     "metadata": {},
     "output_type": "execute_result"
    }
   ],
   "source": [
    "c"
   ]
  },
  {
   "cell_type": "code",
   "execution_count": 12,
   "id": "37914753-1d35-4267-aecb-73294bc5f63f",
   "metadata": {},
   "outputs": [
    {
     "data": {
      "text/plain": [
       "True"
      ]
     },
     "execution_count": 12,
     "metadata": {},
     "output_type": "execute_result"
    }
   ],
   "source": [
    "d"
   ]
  },
  {
   "cell_type": "code",
   "execution_count": 13,
   "id": "f5fce198-4f14-41bb-8fb0-28062135b7e2",
   "metadata": {},
   "outputs": [
    {
     "data": {
      "text/plain": [
       "(1, 4, 'pwskills', 34.5)"
      ]
     },
     "execution_count": 13,
     "metadata": {},
     "output_type": "execute_result"
    }
   ],
   "source": [
    "test3()"
   ]
  },
  {
   "cell_type": "code",
   "execution_count": 14,
   "id": "f877847e-5834-4ac9-b4df-63b1db7c898a",
   "metadata": {},
   "outputs": [
    {
     "data": {
      "text/plain": [
       "1"
      ]
     },
     "execution_count": 14,
     "metadata": {},
     "output_type": "execute_result"
    }
   ],
   "source": [
    "test3()[0]"
   ]
  },
  {
   "cell_type": "code",
   "execution_count": 16,
   "id": "1e9e47a3-034a-4624-b72a-4f71d86f7afe",
   "metadata": {},
   "outputs": [
    {
     "data": {
      "text/plain": [
       "34.5"
      ]
     },
     "execution_count": 16,
     "metadata": {},
     "output_type": "execute_result"
    }
   ],
   "source": [
    "test3()[3]"
   ]
  },
  {
   "cell_type": "code",
   "execution_count": 17,
   "id": "a724b75c-dbd2-4c18-b1ce-0090a588411f",
   "metadata": {},
   "outputs": [],
   "source": [
    "a,b,c,d=test3()"
   ]
  },
  {
   "cell_type": "code",
   "execution_count": 18,
   "id": "61c13ac2-1ba1-42cc-b87a-10d93f74726e",
   "metadata": {},
   "outputs": [
    {
     "data": {
      "text/plain": [
       "1"
      ]
     },
     "execution_count": 18,
     "metadata": {},
     "output_type": "execute_result"
    }
   ],
   "source": [
    "a"
   ]
  },
  {
   "cell_type": "code",
   "execution_count": 19,
   "id": "9e278df3-1979-4a41-84e1-491c72e1f40f",
   "metadata": {},
   "outputs": [
    {
     "data": {
      "text/plain": [
       "4"
      ]
     },
     "execution_count": 19,
     "metadata": {},
     "output_type": "execute_result"
    }
   ],
   "source": [
    "b"
   ]
  },
  {
   "cell_type": "code",
   "execution_count": 20,
   "id": "a1f9a5ad-0f4f-402a-8bf5-5a4ac8c3bc99",
   "metadata": {},
   "outputs": [
    {
     "data": {
      "text/plain": [
       "'pwskills'"
      ]
     },
     "execution_count": 20,
     "metadata": {},
     "output_type": "execute_result"
    }
   ],
   "source": [
    "c"
   ]
  },
  {
   "cell_type": "code",
   "execution_count": 21,
   "id": "19e1c2f1-e01a-4e53-95de-7bab113e035c",
   "metadata": {},
   "outputs": [
    {
     "data": {
      "text/plain": [
       "34.5"
      ]
     },
     "execution_count": 21,
     "metadata": {},
     "output_type": "execute_result"
    }
   ],
   "source": [
    "d"
   ]
  },
  {
   "cell_type": "code",
   "execution_count": 22,
   "id": "4330f525-cb00-43e1-a8dc-092434dd9f04",
   "metadata": {},
   "outputs": [],
   "source": [
    "def test4():\n",
    "    a= 3*4+5\n",
    "    return a"
   ]
  },
  {
   "cell_type": "code",
   "execution_count": 23,
   "id": "6cbde17d-b12e-4c71-b21c-2593b7a5f37c",
   "metadata": {},
   "outputs": [
    {
     "data": {
      "text/plain": [
       "17"
      ]
     },
     "execution_count": 23,
     "metadata": {},
     "output_type": "execute_result"
    }
   ],
   "source": [
    "test4()"
   ]
  },
  {
   "cell_type": "code",
   "execution_count": 24,
   "id": "72c195ff-6725-4fae-9591-eca26af5ea41",
   "metadata": {},
   "outputs": [
    {
     "data": {
      "text/plain": [
       "int"
      ]
     },
     "execution_count": 24,
     "metadata": {},
     "output_type": "execute_result"
    }
   ],
   "source": [
    "type(test4())"
   ]
  },
  {
   "cell_type": "code",
   "execution_count": 26,
   "id": "a49b8c4e-b057-4b47-b66a-4c638aa478e9",
   "metadata": {},
   "outputs": [],
   "source": [
    "def test5(a,b):\n",
    "    c=a+b\n",
    "    return c"
   ]
  },
  {
   "cell_type": "code",
   "execution_count": 28,
   "id": "a09c0a0d-2b7c-45ca-990b-0371e864e1de",
   "metadata": {},
   "outputs": [
    {
     "ename": "TypeError",
     "evalue": "test5() missing 2 required positional arguments: 'a' and 'b'",
     "output_type": "error",
     "traceback": [
      "\u001b[0;31m---------------------------------------------------------------------------\u001b[0m",
      "\u001b[0;31mTypeError\u001b[0m                                 Traceback (most recent call last)",
      "Cell \u001b[0;32mIn[28], line 1\u001b[0m\n\u001b[0;32m----> 1\u001b[0m \u001b[43mtest5\u001b[49m\u001b[43m(\u001b[49m\u001b[43m)\u001b[49m\n",
      "\u001b[0;31mTypeError\u001b[0m: test5() missing 2 required positional arguments: 'a' and 'b'"
     ]
    }
   ],
   "source": [
    "test5()"
   ]
  },
  {
   "cell_type": "code",
   "execution_count": 29,
   "id": "7822dc0c-c20e-43a0-b7b0-65f9f450c6ac",
   "metadata": {},
   "outputs": [
    {
     "data": {
      "text/plain": [
       "7"
      ]
     },
     "execution_count": 29,
     "metadata": {},
     "output_type": "execute_result"
    }
   ],
   "source": [
    "test5(1,6)"
   ]
  },
  {
   "cell_type": "code",
   "execution_count": 30,
   "id": "5954281b-8495-453a-8231-268a0e0bc45c",
   "metadata": {},
   "outputs": [
    {
     "data": {
      "text/plain": [
       "'samarthagarwal'"
      ]
     },
     "execution_count": 30,
     "metadata": {},
     "output_type": "execute_result"
    }
   ],
   "source": [
    "test5('samarth','agarwal')"
   ]
  },
  {
   "cell_type": "code",
   "execution_count": null,
   "id": "c35badae-eff9-47f3-b3a5-f7794d2d2e6b",
   "metadata": {},
   "outputs": [],
   "source": [
    "##concatination operation is the result of 2 string operations in Functions "
   ]
  },
  {
   "cell_type": "code",
   "execution_count": 31,
   "id": "84b4a1f1-f60f-4196-8161-8e0f89173b2c",
   "metadata": {},
   "outputs": [
    {
     "data": {
      "text/plain": [
       "[1, 2, 3, 4, 5, 6, 7, 8, 9]"
      ]
     },
     "execution_count": 31,
     "metadata": {},
     "output_type": "execute_result"
    }
   ],
   "source": [
    "test5([1,2,3,4,5],[6,7,8,9])"
   ]
  },
  {
   "cell_type": "code",
   "execution_count": 32,
   "id": "06dbd37b-4dfa-4f28-a81d-d4fe202b1983",
   "metadata": {},
   "outputs": [
    {
     "data": {
      "text/plain": [
       "'agarwalsamarth'"
      ]
     },
     "execution_count": 32,
     "metadata": {},
     "output_type": "execute_result"
    }
   ],
   "source": [
    "test5(b='samarth',a='agarwal')"
   ]
  },
  {
   "cell_type": "code",
   "execution_count": 38,
   "id": "ab50ad61-6f35-40c9-96da-ac51d1d88216",
   "metadata": {},
   "outputs": [],
   "source": [
    "l=[1,2,3,4,5,'samarth','pwskills',[1,2,3,34,45]]\n",
    "   "
   ]
  },
  {
   "cell_type": "code",
   "execution_count": 34,
   "id": "f3b34fc1-b8a9-479f-aa5a-79a05833423b",
   "metadata": {},
   "outputs": [],
   "source": [
    "## funct to filter oput ythe only a numeric value \n",
    "##create a function which will list as a input and give me a final lsit with all the numeric value \n",
    "\n",
    "\n",
    "def test6(a):\n",
    "    n=[]\n",
    "    for i in a :\n",
    "        if type(i) == int or type(i)== float:\n",
    "            n.append(i)\n",
    "        return (n)\n",
    "\n",
    "    \n"
   ]
  },
  {
   "cell_type": "code",
   "execution_count": 35,
   "id": "6be6e412-aec8-4318-92e6-23f64a811dd7",
   "metadata": {},
   "outputs": [
    {
     "data": {
      "text/plain": [
       "[1]"
      ]
     },
     "execution_count": 35,
     "metadata": {},
     "output_type": "execute_result"
    }
   ],
   "source": [
    "test6(l)"
   ]
  },
  {
   "cell_type": "code",
   "execution_count": 39,
   "id": "b30a1806-1edc-48ec-baaf-ef3f186b2f0e",
   "metadata": {},
   "outputs": [
    {
     "data": {
      "text/plain": [
       "[1]"
      ]
     },
     "execution_count": 39,
     "metadata": {},
     "output_type": "execute_result"
    }
   ],
   "source": [
    "test6(l)"
   ]
  },
  {
   "cell_type": "code",
   "execution_count": 40,
   "id": "f51089db-8f3a-431d-ac12-0e6781556be6",
   "metadata": {},
   "outputs": [
    {
     "data": {
      "text/plain": [
       "[1, 2, 3, 4, 5, 'samarth', 'pwskills', [1, 2, 3, 34, 45]]"
      ]
     },
     "execution_count": 40,
     "metadata": {},
     "output_type": "execute_result"
    }
   ],
   "source": [
    "l"
   ]
  },
  {
   "cell_type": "code",
   "execution_count": 51,
   "id": "c8f0f63a-d41b-4143-89a4-ba6fc63cab5c",
   "metadata": {},
   "outputs": [],
   "source": [
    "def test7(a):\n",
    "    n=[]\n",
    "    for i in a :\n",
    "        if type (i)==list:\n",
    "            for j in i:\n",
    "                if type (j) ==int or type (j)== float:\n",
    "                    n.append(j)\n",
    "        else:\n",
    "            if type (i)== int or type (i)==float:\n",
    "                n.append(i)\n",
    "    return n"
   ]
  },
  {
   "cell_type": "code",
   "execution_count": 52,
   "id": "c24f8130-6bab-46a0-9a32-367149439bbc",
   "metadata": {},
   "outputs": [
    {
     "data": {
      "text/plain": [
       "[1, 2, 3, 4, 5, 1, 2, 3, 34, 45]"
      ]
     },
     "execution_count": 52,
     "metadata": {},
     "output_type": "execute_result"
    }
   ],
   "source": [
    "test7(l)"
   ]
  },
  {
   "cell_type": "code",
   "execution_count": 58,
   "id": "dd664ab7-9615-4f25-a387-cd70edcf2592",
   "metadata": {},
   "outputs": [],
   "source": [
    "l1=[5,6,7,89,2,'samarth','pramit',[1,2,4,5,6,7]]"
   ]
  },
  {
   "cell_type": "code",
   "execution_count": 55,
   "id": "d57f4b94-dac2-4f90-9054-10fe097cc5c8",
   "metadata": {},
   "outputs": [],
   "source": [
    "def test8(a):\n",
    "    n=[]\n",
    "    for i in a:\n",
    "        if type(i)==list:\n",
    "            for j in i:\n",
    "                if type (j)==int or type (j)==float:\n",
    "                    n.append(j)\n",
    "            else:\n",
    "                if type(i)==int or type(i)==float:\n",
    "                    n.append(i)\n",
    "        return n\n",
    "    "
   ]
  },
  {
   "cell_type": "code",
   "execution_count": 56,
   "id": "3168ae12-a54e-4616-b300-b98db38acdc5",
   "metadata": {},
   "outputs": [
    {
     "data": {
      "text/plain": [
       "[]"
      ]
     },
     "execution_count": 56,
     "metadata": {},
     "output_type": "execute_result"
    }
   ],
   "source": [
    "test8(l1)"
   ]
  },
  {
   "cell_type": "code",
   "execution_count": 59,
   "id": "63e620cb-e515-43db-9f58-83ae2608038a",
   "metadata": {},
   "outputs": [
    {
     "data": {
      "text/plain": [
       "[]"
      ]
     },
     "execution_count": 59,
     "metadata": {},
     "output_type": "execute_result"
    }
   ],
   "source": [
    "test8(l1)"
   ]
  },
  {
   "cell_type": "code",
   "execution_count": 60,
   "id": "696aabf8-d6c4-42d2-84a7-f2b9948be575",
   "metadata": {},
   "outputs": [],
   "source": [
    "def test10(a,b,c,d,e):\n",
    "    pass"
   ]
  },
  {
   "cell_type": "code",
   "execution_count": 62,
   "id": "47587035-e67d-481a-a646-cad576bb5a0a",
   "metadata": {},
   "outputs": [],
   "source": [
    "test10(1,2,3,4,5)"
   ]
  },
  {
   "cell_type": "code",
   "execution_count": 63,
   "id": "15bd6ea7-bd2d-40ce-809c-70b0dffb010d",
   "metadata": {},
   "outputs": [
    {
     "ename": "TypeError",
     "evalue": "test10() takes 5 positional arguments but 7 were given",
     "output_type": "error",
     "traceback": [
      "\u001b[0;31m---------------------------------------------------------------------------\u001b[0m",
      "\u001b[0;31mTypeError\u001b[0m                                 Traceback (most recent call last)",
      "Cell \u001b[0;32mIn[63], line 1\u001b[0m\n\u001b[0;32m----> 1\u001b[0m \u001b[43mtest10\u001b[49m\u001b[43m(\u001b[49m\u001b[38;5;241;43m1\u001b[39;49m\u001b[43m,\u001b[49m\u001b[38;5;241;43m2\u001b[39;49m\u001b[43m,\u001b[49m\u001b[38;5;241;43m3\u001b[39;49m\u001b[43m,\u001b[49m\u001b[38;5;241;43m4\u001b[39;49m\u001b[43m,\u001b[49m\u001b[38;5;241;43m5\u001b[39;49m\u001b[43m,\u001b[49m\u001b[38;5;241;43m6\u001b[39;49m\u001b[43m,\u001b[49m\u001b[38;5;241;43m7\u001b[39;49m\u001b[43m)\u001b[49m\n",
      "\u001b[0;31mTypeError\u001b[0m: test10() takes 5 positional arguments but 7 were given"
     ]
    }
   ],
   "source": [
    "test10(1,2,3,4,5,6,7)"
   ]
  },
  {
   "cell_type": "code",
   "execution_count": 64,
   "id": "1c9ffd8b-b359-424a-9d02-2fab940115c6",
   "metadata": {},
   "outputs": [],
   "source": [
    "def test11(*args):\n",
    "    return args"
   ]
  },
  {
   "cell_type": "code",
   "execution_count": 65,
   "id": "19696e8f-67f5-45c0-ba39-54c53706d4b5",
   "metadata": {},
   "outputs": [
    {
     "data": {
      "text/plain": [
       "('samarth',)"
      ]
     },
     "execution_count": 65,
     "metadata": {},
     "output_type": "execute_result"
    }
   ],
   "source": [
    "test11('samarth')"
   ]
  },
  {
   "cell_type": "code",
   "execution_count": 66,
   "id": "7476f4d9-1c03-47ac-b665-c6cd3e3ba920",
   "metadata": {},
   "outputs": [
    {
     "data": {
      "text/plain": [
       "(1, 2, 3, 4, 5, 'samarth')"
      ]
     },
     "execution_count": 66,
     "metadata": {},
     "output_type": "execute_result"
    }
   ],
   "source": [
    "## when args is used any no of arguments can be run at a single time .\n",
    "\n",
    "test11(1,2,3,4,5,'samarth')"
   ]
  },
  {
   "cell_type": "code",
   "execution_count": 67,
   "id": "3a770956-bf24-4137-9f97-568a2daef426",
   "metadata": {},
   "outputs": [],
   "source": [
    "def test12(*samarth):\n",
    "    return samarth"
   ]
  },
  {
   "cell_type": "code",
   "execution_count": 68,
   "id": "3e1b8199-44e6-4189-bdc3-f8ce44564f42",
   "metadata": {},
   "outputs": [
    {
     "data": {
      "text/plain": [
       "('samarth', 123, 12, 4, 0.4)"
      ]
     },
     "execution_count": 68,
     "metadata": {},
     "output_type": "execute_result"
    }
   ],
   "source": [
    "test12('samarth',123,12,4,.4)"
   ]
  },
  {
   "cell_type": "code",
   "execution_count": 69,
   "id": "d580b72e-3f03-43a7-b625-608db9b3220a",
   "metadata": {},
   "outputs": [],
   "source": [
    "def test13(*args,a):\n",
    "    return args,a"
   ]
  },
  {
   "cell_type": "code",
   "execution_count": 70,
   "id": "e73f5ca5-e8db-470c-9eac-46531d456cba",
   "metadata": {},
   "outputs": [
    {
     "ename": "TypeError",
     "evalue": "test13() missing 1 required keyword-only argument: 'a'",
     "output_type": "error",
     "traceback": [
      "\u001b[0;31m---------------------------------------------------------------------------\u001b[0m",
      "\u001b[0;31mTypeError\u001b[0m                                 Traceback (most recent call last)",
      "Cell \u001b[0;32mIn[70], line 1\u001b[0m\n\u001b[0;32m----> 1\u001b[0m \u001b[43mtest13\u001b[49m\u001b[43m(\u001b[49m\u001b[38;5;241;43m3\u001b[39;49m\u001b[43m)\u001b[49m\n",
      "\u001b[0;31mTypeError\u001b[0m: test13() missing 1 required keyword-only argument: 'a'"
     ]
    }
   ],
   "source": [
    "test13(3)"
   ]
  },
  {
   "cell_type": "code",
   "execution_count": 71,
   "id": "6cf1704f-c4b0-4e6c-9260-8ed124d419ff",
   "metadata": {},
   "outputs": [
    {
     "data": {
      "text/plain": [
       "((1, 2, 3, 4, 5), 'samarth')"
      ]
     },
     "execution_count": 71,
     "metadata": {},
     "output_type": "execute_result"
    }
   ],
   "source": [
    "test13(1,2,3,4,5,a='samarth')"
   ]
  },
  {
   "cell_type": "code",
   "execution_count": 73,
   "id": "f5e06e41-ff85-4a93-a4cc-cc2b77618fb4",
   "metadata": {},
   "outputs": [],
   "source": [
    "def test14(*args):\n",
    "    l=[]\n",
    "    for i in args:\n",
    "        if type (i)== list:\n",
    "            l.append(i)\n",
    "    return l"
   ]
  },
  {
   "cell_type": "code",
   "execution_count": 75,
   "id": "85277ab0-6c74-4bac-b644-a1b69c6aca57",
   "metadata": {},
   "outputs": [
    {
     "data": {
      "text/plain": [
       "[[1, 2, 3, 4, 5], ['samarth', 'lion']]"
      ]
     },
     "execution_count": 75,
     "metadata": {},
     "output_type": "execute_result"
    }
   ],
   "source": [
    "test14(1,2,3,4,[1,2,3,4,5],(1,2,3,4,5),'samarth',['samarth','lion'])"
   ]
  },
  {
   "cell_type": "code",
   "execution_count": 76,
   "id": "5989944f-2fe6-41e2-9f69-1c2d0a33466e",
   "metadata": {},
   "outputs": [],
   "source": [
    "def test15(**kwargs):\n",
    "    return kwargs"
   ]
  },
  {
   "cell_type": "code",
   "execution_count": 77,
   "id": "8e33933c-be3e-4f3d-b9fe-030a19fcbacc",
   "metadata": {},
   "outputs": [
    {
     "data": {
      "text/plain": [
       "{}"
      ]
     },
     "execution_count": 77,
     "metadata": {},
     "output_type": "execute_result"
    }
   ],
   "source": [
    "test15()"
   ]
  },
  {
   "cell_type": "code",
   "execution_count": 79,
   "id": "4513e148-16b5-4006-ba2c-e812b719d367",
   "metadata": {},
   "outputs": [
    {
     "data": {
      "text/plain": [
       "dict"
      ]
     },
     "execution_count": 79,
     "metadata": {},
     "output_type": "execute_result"
    }
   ],
   "source": [
    "type(test15())"
   ]
  },
  {
   "cell_type": "code",
   "execution_count": 81,
   "id": "3f52a243-7707-46c1-960b-f5bf8e2c9e4d",
   "metadata": {},
   "outputs": [
    {
     "data": {
      "text/plain": [
       "{'a': 34, 'b': 23, 'c': [1, 2, 3, 4], 'd': ('samarth', 'pwskills')}"
      ]
     },
     "execution_count": 81,
     "metadata": {},
     "output_type": "execute_result"
    }
   ],
   "source": [
    "test15(a=34,b=23,c=[1,2,3,4],d=('samarth','pwskills'))"
   ]
  },
  {
   "cell_type": "code",
   "execution_count": 83,
   "id": "44ec7a2e-77b1-4beb-97ed-003b331457a8",
   "metadata": {},
   "outputs": [],
   "source": [
    "def test16(**kwargs):\n",
    "    for i in kwargs.keys():\n",
    "        if type( kwargs[i])==list:\n",
    "            return i,kwargs[i]"
   ]
  },
  {
   "cell_type": "code",
   "execution_count": 84,
   "id": "e3af1482-d205-43ba-801a-c97fb103b0bd",
   "metadata": {},
   "outputs": [
    {
     "data": {
      "text/plain": [
       "('c', [1, 2, 3, 4])"
      ]
     },
     "execution_count": 84,
     "metadata": {},
     "output_type": "execute_result"
    }
   ],
   "source": [
    "test16(a=34,b=23,c=[1,2,3,4],d=('samarth','pwskills'))"
   ]
  },
  {
   "cell_type": "code",
   "execution_count": 85,
   "id": "bab6afc5-7274-4a85-97d1-a992c0579797",
   "metadata": {},
   "outputs": [],
   "source": [
    "def test17(*args,**kwargs):\n",
    "    return args,kwargs"
   ]
  },
  {
   "cell_type": "code",
   "execution_count": 87,
   "id": "ea5296e3-65ab-4d32-baf3-c5635a1b2359",
   "metadata": {},
   "outputs": [
    {
     "data": {
      "text/plain": [
       "((2, 3, 4, 5), {'a': 34, 'b': 98})"
      ]
     },
     "execution_count": 87,
     "metadata": {},
     "output_type": "execute_result"
    }
   ],
   "source": [
    "test17(2,3,4,5,a=34,b=98)"
   ]
  },
  {
   "cell_type": "markdown",
   "id": "f6b4f730-e42f-411e-9636-4f5509b66099",
   "metadata": {},
   "source": [
    "## generator function\n"
   ]
  },
  {
   "cell_type": "code",
   "execution_count": 88,
   "id": "d982fa4d-f8ac-4807-80f9-ee8f199e8264",
   "metadata": {},
   "outputs": [
    {
     "data": {
      "text/plain": [
       "range(1, 10)"
      ]
     },
     "execution_count": 88,
     "metadata": {},
     "output_type": "execute_result"
    }
   ],
   "source": [
    "range(1,10)"
   ]
  },
  {
   "cell_type": "code",
   "execution_count": 91,
   "id": "c153986d-7db5-4ed3-976c-4e6b22e336c7",
   "metadata": {},
   "outputs": [
    {
     "data": {
      "text/plain": [
       "[1, 2, 3, 4, 5, 6, 7, 8, 9]"
      ]
     },
     "execution_count": 91,
     "metadata": {},
     "output_type": "execute_result"
    }
   ],
   "source": [
    "list(range(1,10))"
   ]
  },
  {
   "cell_type": "code",
   "execution_count": 94,
   "id": "ab18209a-ec75-4c24-9c65-d4a3d9a66e03",
   "metadata": {},
   "outputs": [
    {
     "name": "stdout",
     "output_type": "stream",
     "text": [
      "1\n",
      "2\n",
      "3\n",
      "4\n",
      "5\n",
      "6\n",
      "7\n",
      "8\n",
      "9\n"
     ]
    }
   ],
   "source": [
    "for i in range (1,10):\n",
    "    print (i)"
   ]
  },
  {
   "cell_type": "code",
   "execution_count": 96,
   "id": "78b23876-779b-41d9-8118-69e0a4af8110",
   "metadata": {},
   "outputs": [],
   "source": [
    "l=[1,2,3,4,5,6,7,8,'samarth','kotak']"
   ]
  },
  {
   "cell_type": "code",
   "execution_count": 101,
   "id": "954e1963-8b14-4fa0-bf6e-e7941dfddabf",
   "metadata": {},
   "outputs": [],
   "source": [
    "def test18(a):\n",
    "    n=[]\n",
    "    for i in a :\n",
    "        if type (i)==int:\n",
    "            n.append(i)\n",
    "    return n"
   ]
  },
  {
   "cell_type": "code",
   "execution_count": 102,
   "id": "a2584c62-cb22-4f07-81c3-0b69480c1393",
   "metadata": {},
   "outputs": [
    {
     "data": {
      "text/plain": [
       "[1, 2, 3, 4, 5, 6, 7, 8]"
      ]
     },
     "execution_count": 102,
     "metadata": {},
     "output_type": "execute_result"
    }
   ],
   "source": [
    "test18(l)"
   ]
  },
  {
   "cell_type": "code",
   "execution_count": null,
   "id": "2b1380ae-494c-46d6-b5ee-c2ac885918aa",
   "metadata": {},
   "outputs": [],
   "source": [
    "fibonacci:\n",
    "    0,1,1,2,3,5,8,13,21,34"
   ]
  },
  {
   "cell_type": "code",
   "execution_count": 103,
   "id": "b84dc80d-310e-4e51-a2d4-fc64bd1457ea",
   "metadata": {},
   "outputs": [],
   "source": [
    "def test_fib(n):\n",
    "    a,b=0,1\n",
    "    for i in range(n):\n",
    "        yield a\n",
    "        a,b=b,a+b"
   ]
  },
  {
   "cell_type": "code",
   "execution_count": 104,
   "id": "24d1c259-b82c-4633-9307-af41c40c6cb6",
   "metadata": {},
   "outputs": [
    {
     "data": {
      "text/plain": [
       "<generator object test_fib at 0x7fea64b7d310>"
      ]
     },
     "execution_count": 104,
     "metadata": {},
     "output_type": "execute_result"
    }
   ],
   "source": [
    "test_fib(10)"
   ]
  },
  {
   "cell_type": "raw",
   "id": "81ab462a-0f56-4fff-825e-deaba1c44317",
   "metadata": {},
   "source": []
  },
  {
   "cell_type": "code",
   "execution_count": 107,
   "id": "c1687ff2-06b3-4852-b7c5-00245fdca0f5",
   "metadata": {},
   "outputs": [
    {
     "name": "stdout",
     "output_type": "stream",
     "text": [
      "0\n",
      "1\n",
      "1\n",
      "2\n",
      "3\n",
      "5\n",
      "8\n",
      "13\n",
      "21\n",
      "34\n"
     ]
    }
   ],
   "source": [
    "for i in test_fib(10):\n",
    "    print (i)"
   ]
  },
  {
   "cell_type": "code",
   "execution_count": null,
   "id": "159522e5-e2da-499c-b2b4-1462a22e26b3",
   "metadata": {},
   "outputs": [],
   "source": []
  },
  {
   "cell_type": "code",
   "execution_count": null,
   "id": "8cb310b5-8f23-46d7-8188-7adc45a75399",
   "metadata": {},
   "outputs": [],
   "source": []
  },
  {
   "cell_type": "code",
   "execution_count": null,
   "id": "3971fc93-ca66-47b5-b21a-39594c4f10a4",
   "metadata": {},
   "outputs": [],
   "source": []
  },
  {
   "cell_type": "code",
   "execution_count": null,
   "id": "14c363f7-5d3d-4fc4-821a-93cafc455032",
   "metadata": {},
   "outputs": [],
   "source": []
  },
  {
   "cell_type": "code",
   "execution_count": null,
   "id": "974798ab-7043-4055-9e62-825d6df46c88",
   "metadata": {},
   "outputs": [],
   "source": []
  },
  {
   "cell_type": "code",
   "execution_count": null,
   "id": "4fd65b5c-60e1-4433-a086-66a5fc5d6115",
   "metadata": {},
   "outputs": [],
   "source": []
  },
  {
   "cell_type": "code",
   "execution_count": null,
   "id": "c134149c-9556-4ac4-b88e-100402025652",
   "metadata": {},
   "outputs": [],
   "source": []
  },
  {
   "cell_type": "code",
   "execution_count": null,
   "id": "db348e6f-89f3-4e0b-9739-70356287727e",
   "metadata": {},
   "outputs": [],
   "source": []
  },
  {
   "cell_type": "code",
   "execution_count": null,
   "id": "860bed0b-83d6-4660-99d6-622692d332ac",
   "metadata": {},
   "outputs": [],
   "source": []
  }
 ],
 "metadata": {
  "kernelspec": {
   "display_name": "Python 3 (ipykernel)",
   "language": "python",
   "name": "python3"
  },
  "language_info": {
   "codemirror_mode": {
    "name": "ipython",
    "version": 3
   },
   "file_extension": ".py",
   "mimetype": "text/x-python",
   "name": "python",
   "nbconvert_exporter": "python",
   "pygments_lexer": "ipython3",
   "version": "3.10.8"
  }
 },
 "nbformat": 4,
 "nbformat_minor": 5
}
