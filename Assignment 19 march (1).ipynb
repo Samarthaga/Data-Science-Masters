{
 "cells": [
  {
   "cell_type": "code",
   "execution_count": null,
   "id": "cf6fc542-5ee2-48c5-8ee9-6e12188e66a9",
   "metadata": {},
   "outputs": [],
   "source": [
    "## Ans 1: the simplest method and consists of rescaling the range of features to scale the range in [0, 1]. The general formula for normalization is given as: Here, max(x) and min(x) are the maximum and the minimum values of the feature respectively\n",
    "## it can be used for interpritig the yearly sales of a bank data which is supposedly in huge no lowerd down to a range of [0-1]"
   ]
  },
  {
   "cell_type": "code",
   "execution_count": null,
   "id": "6fc18ad6-bc3f-421c-98ec-80b861313629",
   "metadata": {},
   "outputs": [],
   "source": [
    "## Ans 2.In case of unit vector is used where whole scaling is done by converting whole feature vector to a unit length .\n",
    "## it is different as in min max scaling the whole data is lowered down to points range[0-1] in which the presentation is spread like population spread or virus spread \n",
    "## however vector magnitude of 3 can be represented as unit vector with direction of nort east therfore points are said to lie on those domain only\n",
    "## vector method can be used to depict the magnitude of torque generated wrt time the more the magnitude the higher the torque"
   ]
  },
  {
   "cell_type": "code",
   "execution_count": null,
   "id": "3cf04aed-6334-429f-aa52-41ad0038b59c",
   "metadata": {},
   "outputs": [],
   "source": [
    "## Ans 3 : Principal component analysis, or PCA, is a dimensionality-reduction method that is often used to reduce the dimensionality of large data sets, by transforming a large set of variables into a smaller one that still contains most of the information in the large set\n",
    "## it is used in dimantionallity reduction as it keeps only the data that is imp. to return the output and rest data is ignored and it is reduced via reducing the variable of a dataset and preserving as much data information as its imp."
   ]
  },
  {
   "cell_type": "code",
   "execution_count": null,
   "id": "4bb4bebf-bc7a-405f-8d19-256b94d17973",
   "metadata": {},
   "outputs": [],
   "source": [
    "## Ans 4 the relationship b/w them is that first the lowering or magnitiude vector conversion normalization is done then PCA method is applied to thedata as for the extraction of the data that is important only for new data points \n",
    "## a data is noted for drinkers health issues where population sample is taken into consideration where some data of non drinkers will be eliminated and then feature selection and extraction will be done on the data of drinkers and their health condition"
   ]
  },
  {
   "cell_type": "code",
   "execution_count": null,
   "id": "18bb5eca-c68c-4a0d-a685-ddd0e3f6148b",
   "metadata": {},
   "outputs": [],
   "source": [
    "## Ans 5. if the data of price , rating and delivery time is provdied i will conclude the data on rating and delivery time lowering down the data into an outcome by feature selection "
   ]
  },
  {
   "cell_type": "code",
   "execution_count": null,
   "id": "0d6fd53b-3ca4-481f-8e19-95ba16ddbadd",
   "metadata": {},
   "outputs": [],
   "source": []
  },
  {
   "cell_type": "code",
   "execution_count": null,
   "id": "8ebb01ed-5848-4de3-a0cd-febf24ea2eea",
   "metadata": {},
   "outputs": [],
   "source": []
  },
  {
   "cell_type": "code",
   "execution_count": null,
   "id": "19a2845a-af8e-4d12-96b8-c7ff55565455",
   "metadata": {},
   "outputs": [],
   "source": []
  },
  {
   "cell_type": "code",
   "execution_count": null,
   "id": "765a1194-508a-4f68-aa69-0aab361139eb",
   "metadata": {},
   "outputs": [],
   "source": []
  },
  {
   "cell_type": "code",
   "execution_count": null,
   "id": "b98ad121-1e68-417b-afef-6718db06245d",
   "metadata": {},
   "outputs": [],
   "source": []
  },
  {
   "cell_type": "code",
   "execution_count": null,
   "id": "e7380701-74f4-44b9-8ec4-5e6880a5ea3a",
   "metadata": {},
   "outputs": [],
   "source": []
  },
  {
   "cell_type": "code",
   "execution_count": null,
   "id": "72f8a1f8-5eb0-4a3c-a0fb-535f419d4888",
   "metadata": {},
   "outputs": [],
   "source": []
  },
  {
   "cell_type": "code",
   "execution_count": null,
   "id": "b299049b-0839-4067-897e-fbffbc924475",
   "metadata": {},
   "outputs": [],
   "source": []
  },
  {
   "cell_type": "code",
   "execution_count": null,
   "id": "42ccff9c-db19-4901-95a9-46cfbc9611fe",
   "metadata": {},
   "outputs": [],
   "source": []
  },
  {
   "cell_type": "code",
   "execution_count": null,
   "id": "7abee760-5bd1-456e-a0db-781f1e40adf9",
   "metadata": {},
   "outputs": [],
   "source": []
  },
  {
   "cell_type": "code",
   "execution_count": null,
   "id": "078da3cf-dc63-494d-9d56-6989a7479126",
   "metadata": {},
   "outputs": [],
   "source": []
  },
  {
   "cell_type": "code",
   "execution_count": null,
   "id": "aa5335d7-38d4-4292-b9bd-551afb9fffb3",
   "metadata": {},
   "outputs": [],
   "source": []
  },
  {
   "cell_type": "code",
   "execution_count": null,
   "id": "6227774a-cc97-4bf7-a95b-9bac5882d4b7",
   "metadata": {},
   "outputs": [],
   "source": []
  },
  {
   "cell_type": "code",
   "execution_count": null,
   "id": "3d4fd237-d4f2-457c-9877-144d8023c9ba",
   "metadata": {},
   "outputs": [],
   "source": []
  },
  {
   "cell_type": "code",
   "execution_count": null,
   "id": "a4db10fa-b230-47fb-a18e-07c112a23512",
   "metadata": {},
   "outputs": [],
   "source": []
  },
  {
   "cell_type": "code",
   "execution_count": null,
   "id": "052dc5be-001b-4c6a-a8fd-fafbe084447e",
   "metadata": {},
   "outputs": [],
   "source": []
  },
  {
   "cell_type": "code",
   "execution_count": null,
   "id": "7176f1b4-b9c9-410b-b0e7-a0eb5ad1071c",
   "metadata": {},
   "outputs": [],
   "source": []
  },
  {
   "cell_type": "code",
   "execution_count": null,
   "id": "ee52570e-c4e6-4458-95ea-b56da91e1c1b",
   "metadata": {},
   "outputs": [],
   "source": []
  },
  {
   "cell_type": "code",
   "execution_count": null,
   "id": "8d2f7010-9fde-4f44-ba50-8c400d3c1e15",
   "metadata": {},
   "outputs": [],
   "source": []
  },
  {
   "cell_type": "code",
   "execution_count": null,
   "id": "ccbf5a08-cca9-4eee-9eb0-3553615a63c0",
   "metadata": {},
   "outputs": [],
   "source": []
  },
  {
   "cell_type": "code",
   "execution_count": null,
   "id": "3341e531-a927-420e-9fc0-103035a27af0",
   "metadata": {},
   "outputs": [],
   "source": []
  },
  {
   "cell_type": "code",
   "execution_count": null,
   "id": "34227012-9277-4a72-aab0-2a95a0820080",
   "metadata": {},
   "outputs": [],
   "source": []
  },
  {
   "cell_type": "code",
   "execution_count": null,
   "id": "23177d1f-90df-4c7f-8815-757a2fab81e0",
   "metadata": {},
   "outputs": [],
   "source": []
  },
  {
   "cell_type": "code",
   "execution_count": null,
   "id": "6c1c1362-84a6-40b6-bd9e-7d7bd5bdb5b7",
   "metadata": {},
   "outputs": [],
   "source": []
  },
  {
   "cell_type": "code",
   "execution_count": null,
   "id": "6141f77d-0d46-4436-a539-77dfca2e40e6",
   "metadata": {},
   "outputs": [],
   "source": []
  },
  {
   "cell_type": "code",
   "execution_count": null,
   "id": "d2c7d669-7159-4bef-8ab3-98c70d244743",
   "metadata": {},
   "outputs": [],
   "source": []
  },
  {
   "cell_type": "code",
   "execution_count": null,
   "id": "35e16c7c-77c0-40cc-933e-2c26a1716b5e",
   "metadata": {},
   "outputs": [],
   "source": []
  },
  {
   "cell_type": "code",
   "execution_count": null,
   "id": "2a5358eb-b3e7-48c1-a32e-00ab8cf75728",
   "metadata": {},
   "outputs": [],
   "source": []
  },
  {
   "cell_type": "code",
   "execution_count": null,
   "id": "d5d20224-6e96-4026-9f32-78ed712f9e49",
   "metadata": {},
   "outputs": [],
   "source": []
  }
 ],
 "metadata": {
  "kernelspec": {
   "display_name": "Python 3 (ipykernel)",
   "language": "python",
   "name": "python3"
  },
  "language_info": {
   "codemirror_mode": {
    "name": "ipython",
    "version": 3
   },
   "file_extension": ".py",
   "mimetype": "text/x-python",
   "name": "python",
   "nbconvert_exporter": "python",
   "pygments_lexer": "ipython3",
   "version": "3.10.8"
  }
 },
 "nbformat": 4,
 "nbformat_minor": 5
}
