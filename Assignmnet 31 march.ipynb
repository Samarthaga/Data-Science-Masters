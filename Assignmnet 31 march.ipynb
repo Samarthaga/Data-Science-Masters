{
 "cells": [
  {
   "cell_type": "code",
   "execution_count": null,
   "id": "1a90833a-1951-4e4f-ace6-abf33923b2fa",
   "metadata": {},
   "outputs": [],
   "source": [
    "## Ans 1: Key steps involved are firstly sorting of the data and conv. object to float or int values and filling the missing value data than scaling of the data and then applying regression method \n",
    "## after that creating a home page and adding Get and Post in the web deployment \n",
    "## After getting the home page done and getting the predict data pushing it to git repository and saving the git data \n",
    "## then on AWS elastic bean stalk uploading the data creating the sample commit and pushing the git in elastic bean \n",
    "## After that creating a pipleline b/w soucre and deployment choosing the elastic bean stalk model a"
   ]
  },
  {
   "cell_type": "code",
   "execution_count": null,
   "id": "4d87c7a3-d55d-4397-be3e-a0193d3020c7",
   "metadata": {},
   "outputs": [],
   "source": [
    "## Ans 2: Web hosting allows individuals and businesses to make their websites accessible worldwide through the Internet (WWW). A business or individual must have their own computer or server for web hosting, however, under Cloud Hosting, websites are hosted on multiple interconnected web servers"
   ]
  },
  {
   "cell_type": "code",
   "execution_count": null,
   "id": "d3bc38b1-577a-4e10-a0e1-d663da99a8d4",
   "metadata": {},
   "outputs": [],
   "source": [
    "## Ans 3: Certifications & Standards.\n",
    "# Technologies & Service Roadmap.\n",
    "# Data Security, Data Governance and Business policies.\n",
    "# Service Dependencies & Partnerships.\n",
    "# Contracts, Commercials & SLAs.\n",
    "# Reliability & Performance."
   ]
  },
  {
   "cell_type": "code",
   "execution_count": null,
   "id": "99478327-1520-476e-945d-bd3fa7d2586b",
   "metadata": {},
   "outputs": [],
   "source": [
    "## ANs 4 : Set Your Media Query Ranges (Responsive Breakpoints)\n",
    "# Size Layout Elements with Percentages or Create a CSS Grid Layout.\n",
    "# Implement Responsive Images.\n",
    "# Responsive Typography For Your Website Text.\n",
    "# Test Responsiveness"
   ]
  },
  {
   "cell_type": "code",
   "execution_count": null,
   "id": "9888fa91-a86f-4ab1-9eb4-a9bf7c8ddb1f",
   "metadata": {},
   "outputs": [],
   "source": [
    "## For integration of the dataset first we do data collection then exploratory Data Analysis will be done using seaborn matplotlib pyplot numpy and pandas\n",
    "## Then we do model selection using sklearn.modelselection import Train data set and creating X_Train,X_test and y_train and y_test data \n",
    "## Then we do scaling of the data from Sklearn.prepocessing import Standard scaler and get the data scaled in similar ranges and then train the data \n",
    "## Then we import skllearn.model, metrices import Linearregression R2score ,mean absolute error for finding the best fit data for prediction and create a web app\n",
    "## in web app we take get and post method for input and output where the data is pushed in deployement via pushing the data on git hub and then deploying in AWS "
   ]
  },
  {
   "cell_type": "code",
   "execution_count": null,
   "id": "683a9d49-2628-4fa1-9fd3-d68bd3fafa6a",
   "metadata": {},
   "outputs": [],
   "source": []
  },
  {
   "cell_type": "code",
   "execution_count": null,
   "id": "415d1639-37b0-4b68-bcd4-c11344de7667",
   "metadata": {},
   "outputs": [],
   "source": []
  },
  {
   "cell_type": "code",
   "execution_count": null,
   "id": "e08f3902-4d2c-40ab-b9f2-d71a95304c12",
   "metadata": {},
   "outputs": [],
   "source": []
  },
  {
   "cell_type": "code",
   "execution_count": null,
   "id": "8784a05b-56ef-4ef4-8d35-b1f0778eff3c",
   "metadata": {},
   "outputs": [],
   "source": []
  },
  {
   "cell_type": "code",
   "execution_count": null,
   "id": "edcc0ef5-22e4-441c-90c2-2b6f0545f591",
   "metadata": {},
   "outputs": [],
   "source": []
  }
 ],
 "metadata": {
  "kernelspec": {
   "display_name": "Python 3 (ipykernel)",
   "language": "python",
   "name": "python3"
  },
  "language_info": {
   "codemirror_mode": {
    "name": "ipython",
    "version": 3
   },
   "file_extension": ".py",
   "mimetype": "text/x-python",
   "name": "python",
   "nbconvert_exporter": "python",
   "pygments_lexer": "ipython3",
   "version": "3.10.8"
  }
 },
 "nbformat": 4,
 "nbformat_minor": 5
}
