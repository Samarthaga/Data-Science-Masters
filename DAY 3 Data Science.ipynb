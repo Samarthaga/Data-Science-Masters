{
 "cells": [
  {
   "cell_type": "markdown",
   "id": "b15f9064-c741-4724-943c-0891268e9dc2",
   "metadata": {},
   "source": [
    "## #logical Operators\n",
    "1. and \n",
    "2. or\n",
    "3. not\n"
   ]
  },
  {
   "cell_type": "code",
   "execution_count": 1,
   "id": "ace04756-f235-4e2d-b772-d1a5e07a4ec4",
   "metadata": {},
   "outputs": [
    {
     "data": {
      "text/plain": [
       "True"
      ]
     },
     "execution_count": 1,
     "metadata": {},
     "output_type": "execute_result"
    }
   ],
   "source": [
    "not bool(0)"
   ]
  },
  {
   "cell_type": "code",
   "execution_count": 2,
   "id": "6054b0bc-eb13-4693-8012-0175135ac1ea",
   "metadata": {},
   "outputs": [
    {
     "data": {
      "text/plain": [
       "False"
      ]
     },
     "execution_count": 2,
     "metadata": {},
     "output_type": "execute_result"
    }
   ],
   "source": [
    "not 1"
   ]
  },
  {
   "cell_type": "code",
   "execution_count": 3,
   "id": "f64ea80c-501d-4ee3-96b9-ab010fe4d152",
   "metadata": {},
   "outputs": [
    {
     "data": {
      "text/plain": [
       "True"
      ]
     },
     "execution_count": 3,
     "metadata": {},
     "output_type": "execute_result"
    }
   ],
   "source": [
    "not 0"
   ]
  },
  {
   "cell_type": "code",
   "execution_count": 5,
   "id": "1f1787b3-88a9-4ae7-9c56-f5a3e1e76af1",
   "metadata": {},
   "outputs": [
    {
     "data": {
      "text/plain": [
       "1"
      ]
     },
     "execution_count": 5,
     "metadata": {},
     "output_type": "execute_result"
    }
   ],
   "source": [
    "int(not(0))"
   ]
  },
  {
   "cell_type": "code",
   "execution_count": 6,
   "id": "93ff304d-bb95-4a93-865e-91ae24ecc1c2",
   "metadata": {},
   "outputs": [
    {
     "data": {
      "text/plain": [
       "False"
      ]
     },
     "execution_count": 6,
     "metadata": {},
     "output_type": "execute_result"
    }
   ],
   "source": [
    "not(-1)"
   ]
  },
  {
   "cell_type": "code",
   "execution_count": 7,
   "id": "d0145bc0-1643-45c6-8a4c-a94928c109c8",
   "metadata": {},
   "outputs": [
    {
     "data": {
      "text/plain": [
       "False"
      ]
     },
     "execution_count": 7,
     "metadata": {},
     "output_type": "execute_result"
    }
   ],
   "source": [
    "bool(0)"
   ]
  },
  {
   "cell_type": "code",
   "execution_count": 9,
   "id": "04a1d0a2-ba23-4d42-83df-a652afe86e65",
   "metadata": {},
   "outputs": [
    {
     "name": "stdout",
     "output_type": "stream",
     "text": [
      "boolean value of no -5 is False\n"
     ]
    }
   ],
   "source": [
    "some_negative_interger= -5\n",
    "some_positive_integer= 5\n",
    "\n",
    "print(f'boolean value of no {some_negative_interger} is {not bool(some_negative_interger)}')"
   ]
  },
  {
   "cell_type": "code",
   "execution_count": 10,
   "id": "d13c796a-df32-402b-861a-9bda4f3c1e60",
   "metadata": {},
   "outputs": [
    {
     "name": "stdout",
     "output_type": "stream",
     "text": [
      "boolean value of no -5 is True\n"
     ]
    }
   ],
   "source": [
    "some_negative_interger= -5\n",
    "some_positive_integer= 5\n",
    "\n",
    "print(f'boolean value of no {some_negative_interger} is { bool(some_negative_interger)}')"
   ]
  },
  {
   "cell_type": "markdown",
   "id": "6f4c964f-720e-4f0a-b022-d59f40af8e42",
   "metadata": {},
   "source": [
    "##LOgical And"
   ]
  },
  {
   "cell_type": "code",
   "execution_count": 1,
   "id": "fcdd4b8b-e2de-44d3-a2a4-17a1f2a90bc0",
   "metadata": {},
   "outputs": [
    {
     "data": {
      "text/plain": [
       "True"
      ]
     },
     "execution_count": 1,
     "metadata": {},
     "output_type": "execute_result"
    }
   ],
   "source": [
    "not(False) * True"
   ]
  },
  {
   "cell_type": "code",
   "execution_count": 5,
   "id": "7424d04b-6003-47a7-8aaf-b6364fbb775e",
   "metadata": {},
   "outputs": [
    {
     "data": {
      "text/plain": [
       "0"
      ]
     },
     "execution_count": 5,
     "metadata": {},
     "output_type": "execute_result"
    }
   ],
   "source": [
    "(not(True)) * True"
   ]
  },
  {
   "cell_type": "markdown",
   "id": "e4a18949-3503-4e96-af4f-3b70b202db35",
   "metadata": {},
   "source": [
    "##Precedence Rul of Bodmass is getting into effeected and above first Bracket is taken into consideration ."
   ]
  },
  {
   "cell_type": "code",
   "execution_count": 7,
   "id": "6cf2f9fa-9712-4353-8d46-4fba2a9ee9ea",
   "metadata": {},
   "outputs": [
    {
     "data": {
      "text/plain": [
       "True"
      ]
     },
     "execution_count": 7,
     "metadata": {},
     "output_type": "execute_result"
    }
   ],
   "source": [
    "not(True * False)"
   ]
  },
  {
   "cell_type": "markdown",
   "id": "8cf6a0fb-8c7c-4980-957a-94d9e21d4bc8",
   "metadata": {},
   "source": [
    "#not is a bollean operation and give ans in True or false \n"
   ]
  },
  {
   "cell_type": "code",
   "execution_count": 8,
   "id": "2f9378a1-3073-417b-a167-35598b9c773b",
   "metadata": {},
   "outputs": [
    {
     "data": {
      "text/plain": [
       "140231824989952"
      ]
     },
     "execution_count": 8,
     "metadata": {},
     "output_type": "execute_result"
    }
   ],
   "source": [
    "lst_a=[1,2,3,4]\n",
    "lst_b=[1,2,3,4]\n",
    "\n",
    "id(lst_a)"
   ]
  },
  {
   "cell_type": "code",
   "execution_count": 9,
   "id": "a2c8026b-9441-4dfb-848d-2e2925358816",
   "metadata": {},
   "outputs": [
    {
     "data": {
      "text/plain": [
       "False"
      ]
     },
     "execution_count": 9,
     "metadata": {},
     "output_type": "execute_result"
    }
   ],
   "source": [
    "lst_a is lst_b"
   ]
  },
  {
   "cell_type": "markdown",
   "id": "73a0cc98-4df2-4d6f-96ff-b0135173b62e",
   "metadata": {},
   "source": [
    "## both have different address in data "
   ]
  },
  {
   "cell_type": "code",
   "execution_count": 10,
   "id": "dc32a16c-ab36-4634-b762-837a4d63cee2",
   "metadata": {},
   "outputs": [
    {
     "data": {
      "text/plain": [
       "True"
      ]
     },
     "execution_count": 10,
     "metadata": {},
     "output_type": "execute_result"
    }
   ],
   "source": [
    "lst_a=[1,2,3,4]\n",
    "lst_b=lst_a\n",
    "\n",
    "lst_a is lst_b"
   ]
  },
  {
   "cell_type": "code",
   "execution_count": 11,
   "id": "afa6fde9-2836-4030-8c76-17256edd1f68",
   "metadata": {},
   "outputs": [
    {
     "name": "stdout",
     "output_type": "stream",
     "text": [
      "140231825108416\n",
      "140231825108416\n"
     ]
    }
   ],
   "source": [
    "print(id(lst_a))\n",
    "print(id(lst_b))"
   ]
  },
  {
   "cell_type": "code",
   "execution_count": 12,
   "id": "be749b20-7969-47c0-8d52-69b2f6647215",
   "metadata": {},
   "outputs": [
    {
     "data": {
      "text/plain": [
       "True"
      ]
     },
     "execution_count": 12,
     "metadata": {},
     "output_type": "execute_result"
    }
   ],
   "source": [
    "lst_a==lst_b"
   ]
  },
  {
   "cell_type": "markdown",
   "id": "d75e9bc5-00c4-4ec7-8631-e5f8a6ccdc24",
   "metadata": {},
   "source": [
    "#as above example the values of the lists are checked and is displayed "
   ]
  },
  {
   "cell_type": "code",
   "execution_count": 13,
   "id": "c961824b-ec11-4de6-8d2a-9456e68cb63f",
   "metadata": {},
   "outputs": [
    {
     "data": {
      "text/plain": [
       "[1, 2, 3, 4]"
      ]
     },
     "execution_count": 13,
     "metadata": {},
     "output_type": "execute_result"
    }
   ],
   "source": [
    "lst_a"
   ]
  },
  {
   "cell_type": "code",
   "execution_count": 16,
   "id": "7f3b2a58-8069-4a9e-bbde-3112ad5754ad",
   "metadata": {},
   "outputs": [
    {
     "data": {
      "text/plain": [
       "10"
      ]
     },
     "execution_count": 16,
     "metadata": {},
     "output_type": "execute_result"
    }
   ],
   "source": [
    "lst_a[0]"
   ]
  },
  {
   "cell_type": "code",
   "execution_count": 19,
   "id": "d814b951-605e-4582-b707-4d40d0bcd4f9",
   "metadata": {},
   "outputs": [],
   "source": [
    "lst_a[0]=0"
   ]
  },
  {
   "cell_type": "code",
   "execution_count": 20,
   "id": "504b5837-12d5-4953-89a0-f0d75452a1d8",
   "metadata": {},
   "outputs": [
    {
     "data": {
      "text/plain": [
       "112"
      ]
     },
     "execution_count": 20,
     "metadata": {},
     "output_type": "execute_result"
    }
   ],
   "source": [
    "int(112)"
   ]
  },
  {
   "cell_type": "markdown",
   "id": "1515e29d-428b-43d5-9cc1-5e6acb8df55a",
   "metadata": {},
   "source": [
    "## Arithmatic Operations"
   ]
  },
  {
   "cell_type": "markdown",
   "id": "2a626c68-bd90-4841-bc05-61477c49e2d4",
   "metadata": {},
   "source": [
    "## +,*,//,/\n"
   ]
  },
  {
   "cell_type": "code",
   "execution_count": 1,
   "id": "6ab9f6ef-3b0b-452c-8e5d-c3ce3005895b",
   "metadata": {},
   "outputs": [
    {
     "data": {
      "text/plain": [
       "'0b101'"
      ]
     },
     "execution_count": 1,
     "metadata": {},
     "output_type": "execute_result"
    }
   ],
   "source": [
    "var=5\n",
    "bin(var)"
   ]
  },
  {
   "cell_type": "code",
   "execution_count": 27,
   "id": "b567ff70-bccc-4cb7-8838-bbfdbafeb427",
   "metadata": {},
   "outputs": [
    {
     "name": "stdout",
     "output_type": "stream",
     "text": [
      "123\n"
     ]
    }
   ],
   "source": [
    "print(123)"
   ]
  },
  {
   "cell_type": "code",
   "execution_count": 2,
   "id": "38051300-ef7d-44c3-81cc-e6a2998f7243",
   "metadata": {},
   "outputs": [
    {
     "data": {
      "text/plain": [
       "-6"
      ]
     },
     "execution_count": 2,
     "metadata": {},
     "output_type": "execute_result"
    }
   ],
   "source": [
    "~var"
   ]
  },
  {
   "cell_type": "code",
   "execution_count": 4,
   "id": "d1b769f8-a975-418f-b00e-d4dd8507ea0b",
   "metadata": {},
   "outputs": [
    {
     "data": {
      "text/plain": [
       "'0b1011001'"
      ]
     },
     "execution_count": 4,
     "metadata": {},
     "output_type": "execute_result"
    }
   ],
   "source": [
    "var=89\n",
    "bin(var)"
   ]
  },
  {
   "cell_type": "code",
   "execution_count": 5,
   "id": "1c71681b-2033-4915-99f8-f7e427034a99",
   "metadata": {},
   "outputs": [
    {
     "data": {
      "text/plain": [
       "89"
      ]
     },
     "execution_count": 5,
     "metadata": {},
     "output_type": "execute_result"
    }
   ],
   "source": [
    "var"
   ]
  },
  {
   "cell_type": "code",
   "execution_count": 6,
   "id": "0b484bf2-94f3-4b77-b89e-c2b7143367d8",
   "metadata": {},
   "outputs": [
    {
     "data": {
      "text/plain": [
       "178"
      ]
     },
     "execution_count": 6,
     "metadata": {},
     "output_type": "execute_result"
    }
   ],
   "source": [
    "var<<1"
   ]
  },
  {
   "cell_type": "code",
   "execution_count": 7,
   "id": "d6b1b4d5-fd9a-4527-9cfb-c57808e7a641",
   "metadata": {},
   "outputs": [
    {
     "data": {
      "text/plain": [
       "44"
      ]
     },
     "execution_count": 7,
     "metadata": {},
     "output_type": "execute_result"
    }
   ],
   "source": [
    "var>>1"
   ]
  },
  {
   "cell_type": "markdown",
   "id": "7220b24e-acec-43f1-a3e8-137c2e911db2",
   "metadata": {},
   "source": [
    "#### Strings"
   ]
  },
  {
   "cell_type": "code",
   "execution_count": 10,
   "id": "da7dd022-42b6-4ef6-8d05-aad8f0115028",
   "metadata": {},
   "outputs": [
    {
     "data": {
      "text/plain": [
       "'Welcome to data science masters'"
      ]
     },
     "execution_count": 10,
     "metadata": {},
     "output_type": "execute_result"
    }
   ],
   "source": [
    "'samarth'\n",
    "\"Welcome to data science masters\""
   ]
  },
  {
   "cell_type": "code",
   "execution_count": 12,
   "id": "eac937be-1cf9-4e45-b1d2-03a055fb6110",
   "metadata": {},
   "outputs": [],
   "source": [
    "str1='welcome to datascience masters'"
   ]
  },
  {
   "cell_type": "code",
   "execution_count": 13,
   "id": "93cdd7f6-dc80-47fd-a087-5ec173d00d76",
   "metadata": {},
   "outputs": [
    {
     "data": {
      "text/plain": [
       "str"
      ]
     },
     "execution_count": 13,
     "metadata": {},
     "output_type": "execute_result"
    }
   ],
   "source": [
    "type(str1)"
   ]
  },
  {
   "cell_type": "code",
   "execution_count": 17,
   "id": "fdb1ca6a-ccf0-4f5e-8c9b-e92379dfba6d",
   "metadata": {},
   "outputs": [
    {
     "data": {
      "text/plain": [
       "'c'"
      ]
     },
     "execution_count": 17,
     "metadata": {},
     "output_type": "execute_result"
    }
   ],
   "source": [
    "str1[3]"
   ]
  },
  {
   "cell_type": "code",
   "execution_count": 19,
   "id": "24c70e52-a746-42a1-b446-e33dd29404b5",
   "metadata": {},
   "outputs": [],
   "source": [
    "string ='Pw Skills data science '"
   ]
  },
  {
   "cell_type": "code",
   "execution_count": 22,
   "id": "97e4d276-b11d-40b4-a0bf-42a5752acb24",
   "metadata": {},
   "outputs": [
    {
     "ename": "NameError",
     "evalue": "name 'String' is not defined",
     "output_type": "error",
     "traceback": [
      "\u001b[0;31m---------------------------------------------------------------------------\u001b[0m",
      "\u001b[0;31mNameError\u001b[0m                                 Traceback (most recent call last)",
      "Cell \u001b[0;32mIn[22], line 1\u001b[0m\n\u001b[0;32m----> 1\u001b[0m \u001b[43mString\u001b[49m[\u001b[38;5;241m5\u001b[39m]\n",
      "\u001b[0;31mNameError\u001b[0m: name 'String' is not defined"
     ]
    }
   ],
   "source": [
    "String[5]"
   ]
  },
  {
   "cell_type": "code",
   "execution_count": 1,
   "id": "aed5b598-2c42-4a43-905e-0d8f6b4c6912",
   "metadata": {},
   "outputs": [],
   "source": [
    "string ='Pw Skills data science '"
   ]
  },
  {
   "cell_type": "code",
   "execution_count": 2,
   "id": "5a0916c7-2466-48dc-84f9-8f6296809f78",
   "metadata": {},
   "outputs": [
    {
     "data": {
      "text/plain": [
       "'i'"
      ]
     },
     "execution_count": 2,
     "metadata": {},
     "output_type": "execute_result"
    }
   ],
   "source": [
    "string[5]"
   ]
  },
  {
   "cell_type": "code",
   "execution_count": 3,
   "id": "0ea08f16-efe7-4664-b7d1-89366f788ff2",
   "metadata": {},
   "outputs": [
    {
     "data": {
      "text/plain": [
       "'ills d'"
      ]
     },
     "execution_count": 3,
     "metadata": {},
     "output_type": "execute_result"
    }
   ],
   "source": [
    "string[5:11]"
   ]
  },
  {
   "cell_type": "code",
   "execution_count": null,
   "id": "f793dc52-be3d-461b-824e-34e6fba398a9",
   "metadata": {},
   "outputs": [],
   "source": []
  }
 ],
 "metadata": {
  "kernelspec": {
   "display_name": "Python 3 (ipykernel)",
   "language": "python",
   "name": "python3"
  },
  "language_info": {
   "codemirror_mode": {
    "name": "ipython",
    "version": 3
   },
   "file_extension": ".py",
   "mimetype": "text/x-python",
   "name": "python",
   "nbconvert_exporter": "python",
   "pygments_lexer": "ipython3",
   "version": "3.10.8"
  }
 },
 "nbformat": 4,
 "nbformat_minor": 5
}
